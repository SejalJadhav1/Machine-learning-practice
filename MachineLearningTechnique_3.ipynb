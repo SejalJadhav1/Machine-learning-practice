{
  "nbformat": 4,
  "nbformat_minor": 0,
  "metadata": {
    "colab": {
      "provenance": [],
      "collapsed_sections": [],
      "authorship_tag": "ABX9TyP0oPkA9k7opkkvQBNSBJHA",
      "include_colab_link": true
    },
    "kernelspec": {
      "name": "python3",
      "display_name": "Python 3"
    },
    "language_info": {
      "name": "python"
    }
  },
  "cells": [
    {
      "cell_type": "markdown",
      "metadata": {
        "id": "view-in-github",
        "colab_type": "text"
      },
      "source": [
        "<a href=\"https://colab.research.google.com/github/SejalJadhav1/python_/blob/main/MachineLearningTechnique_3.ipynb\" target=\"_parent\"><img src=\"https://colab.research.google.com/assets/colab-badge.svg\" alt=\"Open In Colab\"/></a>"
      ]
    },
    {
      "cell_type": "code",
      "execution_count": null,
      "metadata": {
        "id": "ezidY6SU6Yhk"
      },
      "outputs": [],
      "source": [
        "import itertools\n",
        "import functools"
      ]
    },
    {
      "cell_type": "code",
      "source": [
        "def get_combinations(x,degree):\n",
        "  return itertools.combinations_with_replacement(x, degree)"
      ],
      "metadata": {
        "id": "bMtKPcbK8RhZ"
      },
      "execution_count": null,
      "outputs": []
    },
    {
      "cell_type": "code",
      "source": [
        "def compute_new_feature(items):\n",
        "  return functools.reduce(lambda x , y: x*y , items)"
      ],
      "metadata": {
        "id": "y6dOsZDb8qmG"
      },
      "execution_count": null,
      "outputs": []
    },
    {
      "cell_type": "code",
      "source": [
        "for i in get_combinations([2] , 3):\n",
        "  print(i)\n"
      ],
      "metadata": {
        "colab": {
          "base_uri": "https://localhost:8080/"
        },
        "id": "X_gqCSHdBe0x",
        "outputId": "1f616ad8-813e-43ef-e248-3422f2708d71"
      },
      "execution_count": null,
      "outputs": [
        {
          "output_type": "stream",
          "name": "stdout",
          "text": [
            "(2, 2, 2)\n"
          ]
        }
      ]
    },
    {
      "cell_type": "code",
      "source": [
        "for i in get_combinations([2,3] , 3):\n",
        "  print(i)\n"
      ],
      "metadata": {
        "colab": {
          "base_uri": "https://localhost:8080/"
        },
        "id": "rNRlcNvc9CdB",
        "outputId": "85a3f661-0ee0-4941-a8e1-e323f054b432"
      },
      "execution_count": null,
      "outputs": [
        {
          "output_type": "stream",
          "name": "stdout",
          "text": [
            "(2, 2, 2)\n",
            "(2, 2, 3)\n",
            "(2, 3, 3)\n",
            "(3, 3, 3)\n"
          ]
        }
      ]
    },
    {
      "cell_type": "code",
      "source": [
        "for i in get_combinations([2,3] , 3):\n",
        "  print(i , \":\",  compute_new_feature(i))\n",
        "\n"
      ],
      "metadata": {
        "colab": {
          "base_uri": "https://localhost:8080/"
        },
        "id": "-s73fHnvAWvs",
        "outputId": "010a0a3d-33af-4066-beb2-398d98323134"
      },
      "execution_count": null,
      "outputs": [
        {
          "output_type": "stream",
          "name": "stdout",
          "text": [
            "(2, 2, 2) : 8\n",
            "(2, 2, 3) : 12\n",
            "(2, 3, 3) : 18\n",
            "(3, 3, 3) : 27\n"
          ]
        }
      ]
    },
    {
      "cell_type": "code",
      "source": [
        "for i in get_combinations([1,4] , 4):\n",
        "  print( i , \":\",  compute_new_feature(i))\n"
      ],
      "metadata": {
        "colab": {
          "base_uri": "https://localhost:8080/"
        },
        "id": "zq1jUcSyAiiW",
        "outputId": "f37229ba-99bb-4250-b2cc-f141a31f02ff"
      },
      "execution_count": null,
      "outputs": [
        {
          "output_type": "stream",
          "name": "stdout",
          "text": [
            "(1, 1, 1, 1) : 1\n",
            "(1, 1, 1, 4) : 4\n",
            "(1, 1, 4, 4) : 16\n",
            "(1, 4, 4, 4) : 64\n",
            "(4, 4, 4, 4) : 256\n"
          ]
        }
      ]
    },
    {
      "cell_type": "code",
      "source": [
        "for i in get_combinations([2] , 4):\n",
        "  print(i , \":\",  compute_new_feature(i))"
      ],
      "metadata": {
        "colab": {
          "base_uri": "https://localhost:8080/"
        },
        "id": "cyAdzQXNBWEu",
        "outputId": "4e06b333-3e3f-4e33-a90d-1fbfb4423164"
      },
      "execution_count": null,
      "outputs": [
        {
          "output_type": "stream",
          "name": "stdout",
          "text": [
            "(2, 2, 2, 2) : 16\n"
          ]
        }
      ]
    },
    {
      "cell_type": "code",
      "source": [
        "import numpy as np\n"
      ],
      "metadata": {
        "id": "AlHzTnAnB--J"
      },
      "execution_count": null,
      "outputs": []
    },
    {
      "cell_type": "code",
      "source": [
        "def polynomial_transform(x, degree, logging = False):\n",
        "  if x.ndim == 1:\n",
        "    x = x[: , None]\n",
        "\n",
        "  xt = x.transpose()\n",
        "  features = [np.ones(len(x))]\n",
        "\n",
        "  if logging:\n",
        "    print(\"Input:\" , x)\n",
        "  for degree in range(1 , degree+1):\n",
        "    for items in get_combinations(xt , degree):\n",
        "      features.append(compute_new_feature(items))\n",
        "      if logging:\n",
        "        print(items , \":\" , compute_new_feature(items))\n",
        "\n",
        "  if logging:\n",
        "    print(np.asarray(features).transpose())\n",
        "  return np.asarray(features).transpose()        \n",
        "\n",
        "\n",
        "\n",
        "\n"
      ],
      "metadata": {
        "id": "C6s7pucREVxg"
      },
      "execution_count": null,
      "outputs": []
    },
    {
      "cell_type": "code",
      "source": [
        "polynomial_transform(np.array([2]), 3, logging = True)"
      ],
      "metadata": {
        "colab": {
          "base_uri": "https://localhost:8080/"
        },
        "id": "89qtzWSGKFBm",
        "outputId": "0283ac7a-e5f7-4d10-bc40-bd94e9710f4d"
      },
      "execution_count": null,
      "outputs": [
        {
          "output_type": "stream",
          "name": "stdout",
          "text": [
            "Input: [[2]]\n",
            "(array([2]),) : [2]\n",
            "(array([2]), array([2])) : [4]\n",
            "(array([2]), array([2]), array([2])) : [8]\n",
            "[[1. 2. 4. 8.]]\n"
          ]
        },
        {
          "output_type": "execute_result",
          "data": {
            "text/plain": [
              "array([[1., 2., 4., 8.]])"
            ]
          },
          "metadata": {},
          "execution_count": 11
        }
      ]
    },
    {
      "cell_type": "code",
      "source": [
        "polynomial_transform(np.array([2,3]), 3, logging = True)"
      ],
      "metadata": {
        "colab": {
          "base_uri": "https://localhost:8080/"
        },
        "id": "GAPYSaw_KzgN",
        "outputId": "6cd418ad-6daa-41fe-b250-2cfe955dfa31"
      },
      "execution_count": null,
      "outputs": [
        {
          "output_type": "stream",
          "name": "stdout",
          "text": [
            "Input: [[2]\n",
            " [3]]\n",
            "(array([2, 3]),) : [2 3]\n",
            "(array([2, 3]), array([2, 3])) : [4 9]\n",
            "(array([2, 3]), array([2, 3]), array([2, 3])) : [ 8 27]\n",
            "[[ 1.  2.  4.  8.]\n",
            " [ 1.  3.  9. 27.]]\n"
          ]
        },
        {
          "output_type": "execute_result",
          "data": {
            "text/plain": [
              "array([[ 1.,  2.,  4.,  8.],\n",
              "       [ 1.,  3.,  9., 27.]])"
            ]
          },
          "metadata": {},
          "execution_count": 12
        }
      ]
    },
    {
      "cell_type": "code",
      "source": [
        "polynomial_transform(np.array([[1,2] , [7,9]]), 2, logging = True)"
      ],
      "metadata": {
        "colab": {
          "base_uri": "https://localhost:8080/"
        },
        "id": "kXgdBtqHbbV7",
        "outputId": "30daef3c-9329-4f11-baa3-8ae56d73a908"
      },
      "execution_count": null,
      "outputs": [
        {
          "output_type": "stream",
          "name": "stdout",
          "text": [
            "Input: [[1 2]\n",
            " [7 9]]\n",
            "(array([1, 7]),) : [1 7]\n",
            "(array([2, 9]),) : [2 9]\n",
            "(array([1, 7]), array([1, 7])) : [ 1 49]\n",
            "(array([1, 7]), array([2, 9])) : [ 2 63]\n",
            "(array([2, 9]), array([2, 9])) : [ 4 81]\n",
            "[[ 1.  1.  2.  1.  2.  4.]\n",
            " [ 1.  7.  9. 49. 63. 81.]]\n"
          ]
        },
        {
          "output_type": "execute_result",
          "data": {
            "text/plain": [
              "array([[ 1.,  1.,  2.,  1.,  2.,  4.],\n",
              "       [ 1.,  7.,  9., 49., 63., 81.]])"
            ]
          },
          "metadata": {},
          "execution_count": 40
        }
      ]
    },
    {
      "cell_type": "code",
      "source": [
        "x = np.array([1,2,3])\n",
        "x.ndim\n"
      ],
      "metadata": {
        "colab": {
          "base_uri": "https://localhost:8080/"
        },
        "id": "T5hDyUGqErKo",
        "outputId": "56af8982-440b-489d-d4e7-8526da908f12"
      },
      "execution_count": null,
      "outputs": [
        {
          "output_type": "execute_result",
          "data": {
            "text/plain": [
              "1"
            ]
          },
          "metadata": {},
          "execution_count": 13
        }
      ]
    },
    {
      "cell_type": "code",
      "source": [
        "x.transpose()"
      ],
      "metadata": {
        "colab": {
          "base_uri": "https://localhost:8080/"
        },
        "id": "O7sPfmyvG6Fg",
        "outputId": "5a69ede8-c56b-41f5-b7dc-9bef4e4d597f"
      },
      "execution_count": null,
      "outputs": [
        {
          "output_type": "execute_result",
          "data": {
            "text/plain": [
              "array([1, 2, 3])"
            ]
          },
          "metadata": {},
          "execution_count": 14
        }
      ]
    },
    {
      "cell_type": "code",
      "source": [
        "if x.ndim == 1:\n",
        "  x = x[: , None]"
      ],
      "metadata": {
        "id": "YaR5KPVVEztH"
      },
      "execution_count": null,
      "outputs": []
    },
    {
      "cell_type": "code",
      "source": [
        "x"
      ],
      "metadata": {
        "colab": {
          "base_uri": "https://localhost:8080/"
        },
        "id": "zzHjJDZYE5aW",
        "outputId": "12296343-b5b9-4ad4-a345-f55b5ecf6cce"
      },
      "execution_count": null,
      "outputs": [
        {
          "output_type": "execute_result",
          "data": {
            "text/plain": [
              "array([[1],\n",
              "       [2],\n",
              "       [3]])"
            ]
          },
          "metadata": {},
          "execution_count": 16
        }
      ]
    },
    {
      "cell_type": "code",
      "source": [
        "x.ndim"
      ],
      "metadata": {
        "colab": {
          "base_uri": "https://localhost:8080/"
        },
        "id": "VSzqqGp_GNNG",
        "outputId": "1c5f18de-d821-44da-a4ae-0a12eb476f9c"
      },
      "execution_count": null,
      "outputs": [
        {
          "output_type": "execute_result",
          "data": {
            "text/plain": [
              "2"
            ]
          },
          "metadata": {},
          "execution_count": 17
        }
      ]
    },
    {
      "cell_type": "code",
      "source": [
        "x.transpose()"
      ],
      "metadata": {
        "colab": {
          "base_uri": "https://localhost:8080/"
        },
        "id": "nXJNCeO_F-IP",
        "outputId": "c212fbdf-0b92-4480-bd4a-f49d2905cbeb"
      },
      "execution_count": null,
      "outputs": [
        {
          "output_type": "execute_result",
          "data": {
            "text/plain": [
              "array([[1, 2, 3]])"
            ]
          },
          "metadata": {},
          "execution_count": 18
        }
      ]
    },
    {
      "cell_type": "code",
      "source": [],
      "metadata": {
        "id": "IwcI7-C4F-MH"
      },
      "execution_count": null,
      "outputs": []
    },
    {
      "cell_type": "code",
      "source": [
        "y= np.array([[1,2,3] , [1,2,3]])"
      ],
      "metadata": {
        "id": "wKg0liofE6kx"
      },
      "execution_count": null,
      "outputs": []
    },
    {
      "cell_type": "code",
      "source": [
        "y = y[:, ]"
      ],
      "metadata": {
        "id": "dn8POLnzFDwi"
      },
      "execution_count": null,
      "outputs": []
    },
    {
      "cell_type": "code",
      "source": [
        "y"
      ],
      "metadata": {
        "colab": {
          "base_uri": "https://localhost:8080/"
        },
        "id": "-bJm7v4xFHRO",
        "outputId": "52388bd0-0096-411a-a740-e76bf6e723c9"
      },
      "execution_count": null,
      "outputs": [
        {
          "output_type": "execute_result",
          "data": {
            "text/plain": [
              "array([[1, 2, 3],\n",
              "       [1, 2, 3]])"
            ]
          },
          "metadata": {},
          "execution_count": 21
        }
      ]
    },
    {
      "cell_type": "code",
      "source": [
        "y.transpose()"
      ],
      "metadata": {
        "colab": {
          "base_uri": "https://localhost:8080/"
        },
        "id": "8elQ7karFKlT",
        "outputId": "cbb6e1bf-dc52-4745-89f9-4bcdb959650b"
      },
      "execution_count": null,
      "outputs": [
        {
          "output_type": "execute_result",
          "data": {
            "text/plain": [
              "array([[1, 1],\n",
              "       [2, 2],\n",
              "       [3, 3]])"
            ]
          },
          "metadata": {},
          "execution_count": 22
        }
      ]
    },
    {
      "cell_type": "code",
      "source": [
        "polynomial_transform(np.array([5]), 3, logging = True)"
      ],
      "metadata": {
        "colab": {
          "base_uri": "https://localhost:8080/"
        },
        "id": "KL1FkbqqGHyQ",
        "outputId": "a09becd3-9731-4c3f-fe63-84fee0f55322"
      },
      "execution_count": null,
      "outputs": [
        {
          "output_type": "stream",
          "name": "stdout",
          "text": [
            "Input: [[5]]\n",
            "(array([5]),) : [5]\n",
            "(array([5]), array([5])) : [25]\n",
            "(array([5]), array([5]), array([5])) : [125]\n",
            "[[  1.   5.  25. 125.]]\n"
          ]
        },
        {
          "output_type": "execute_result",
          "data": {
            "text/plain": [
              "array([[  1.,   5.,  25., 125.]])"
            ]
          },
          "metadata": {},
          "execution_count": 23
        }
      ]
    },
    {
      "cell_type": "code",
      "source": [
        "polynomial_transform(np.array([[5, 6] , [2,3]]), 2, logging = True)"
      ],
      "metadata": {
        "id": "CXQ3cDVjKAvr",
        "colab": {
          "base_uri": "https://localhost:8080/"
        },
        "outputId": "bca6e727-c51a-42a0-a178-05012abe6900"
      },
      "execution_count": null,
      "outputs": [
        {
          "output_type": "stream",
          "name": "stdout",
          "text": [
            "Input: [[5 6]\n",
            " [2 3]]\n",
            "(array([5, 2]),) : [5 2]\n",
            "(array([6, 3]),) : [6 3]\n",
            "(array([5, 2]), array([5, 2])) : [25  4]\n",
            "(array([5, 2]), array([6, 3])) : [30  6]\n",
            "(array([6, 3]), array([6, 3])) : [36  9]\n",
            "[[ 1.  5.  6. 25. 30. 36.]\n",
            " [ 1.  2.  3.  4.  6.  9.]]\n"
          ]
        },
        {
          "output_type": "execute_result",
          "data": {
            "text/plain": [
              "array([[ 1.,  5.,  6., 25., 30., 36.],\n",
              "       [ 1.,  2.,  3.,  4.,  6.,  9.]])"
            ]
          },
          "metadata": {},
          "execution_count": 24
        }
      ]
    },
    {
      "cell_type": "code",
      "source": [
        "polynomial_transform(np.array ([5, 4]), 2, logging = False)"
      ],
      "metadata": {
        "colab": {
          "base_uri": "https://localhost:8080/"
        },
        "id": "Gm52DSRFBeME",
        "outputId": "c679c24d-5349-4aef-e5bf-5eda4b9e6ae5"
      },
      "execution_count": null,
      "outputs": [
        {
          "output_type": "execute_result",
          "data": {
            "text/plain": [
              "array([[ 1.,  5., 25.],\n",
              "       [ 1.,  4., 16.]])"
            ]
          },
          "metadata": {},
          "execution_count": 25
        }
      ]
    },
    {
      "cell_type": "markdown",
      "source": [
        "# POLYNOMIAL REGRESSION"
      ],
      "metadata": {
        "id": "mmo8MjNlY_z_"
      }
    },
    {
      "cell_type": "code",
      "source": [
        "def create_nonlin_training_set(func, sample_size, std):\n",
        "  x =np.linspace(0,1,sample_size)\n",
        "  y = func(x) + np.random.normal(scale=std , size =x.shape)\n",
        "  return x, y\n"
      ],
      "metadata": {
        "id": "lD_-J9DEZCbz"
      },
      "execution_count": null,
      "outputs": []
    },
    {
      "cell_type": "code",
      "source": [
        "def nonlin(a):\n",
        "  return np.sin(2 * np.pi * a)"
      ],
      "metadata": {
        "id": "Vz86Iur7ZZPk"
      },
      "execution_count": null,
      "outputs": []
    },
    {
      "cell_type": "code",
      "source": [
        "import matplotlib.pyplot as plt\n",
        "\n"
      ],
      "metadata": {
        "id": "ujC-LQOUb8OO"
      },
      "execution_count": null,
      "outputs": []
    },
    {
      "cell_type": "code",
      "source": [
        "def visualize_training_data(x_train , y_train):\n",
        "  points = np.linspace(0,1,100)\n",
        "  output = nonlin(points)\n",
        "\n",
        "  plt.scatter(x_train , y_train, facecolor = \"green\" , edgecolor = \"black\" ,\n",
        "              s = 50 , label = \"training data\")\n",
        "  plt.plot(points , output , c = \"g\" , label = \"2sin pi x\")\n",
        "  plt.xlabel(\"$x_1$\")\n",
        "  plt.ylabel(\"y\")\n",
        "  plt.legend()\n",
        "  plt.show()"
      ],
      "metadata": {
        "id": "QjZLaHP1Z0iw"
      },
      "execution_count": null,
      "outputs": []
    },
    {
      "cell_type": "code",
      "source": [
        "num_samples = 50\n",
        "x, y = create_nonlin_training_set(nonlin, num_samples , 0.3)\n",
        "visualize_training_data(x ,  y)"
      ],
      "metadata": {
        "colab": {
          "base_uri": "https://localhost:8080/",
          "height": 281
        },
        "id": "7UUyf0PBB3zE",
        "outputId": "f57da562-6395-481c-c02d-5ef057eb366e"
      },
      "execution_count": null,
      "outputs": [
        {
          "output_type": "display_data",
          "data": {
            "text/plain": [
              "<Figure size 432x288 with 1 Axes>"
            ],
            "image/png": "[encoded data removed]"
          },
          "metadata": {
            "needs_background": "light"
          }
        }
      ]
    },
    {
      "cell_type": "code",
      "source": [
        "def visualize_model_fit(x , y , lin_reg , degree):\n",
        "  points = np.linspace(0,1,100)\n",
        "  output = nonlin(points)\n",
        "\n",
        "  if degree>0:\n",
        "    plt.scatter(x , y, facecolor = \"black\" , edgecolor = \"black\" ,\n",
        "              s = 50 , label = \"training data\") # x and y is same as points and output just with addition of noise in y values\n",
        "  plt.plot(points , output , c = \"g\" , label = \"2sin pi x\") # (2 sin pi x) output\n",
        "\n",
        "# we are trying to plot the the above curve to compare it with the curve from below code.\n",
        " \n",
        "  yhat = lin_reg.predict(polynomial_transform(points , degree))  # polynomial transformed output\n",
        "  plt.plot(points , yhat , c = \"r\" , label = \"2sin pi x\")\n",
        "  plt.xlabel(\"x_1\")\n",
        "  plt.ylim(-1.5 , 1.5)\n",
        "  plt.title(\"M = {}\" .format(degree)) \n",
        "\n",
        "\n",
        " \n"
      ],
      "metadata": {
        "id": "nkdFTra-cEaM"
      },
      "execution_count": null,
      "outputs": []
    },
    {
      "cell_type": "markdown",
      "source": [],
      "metadata": {
        "id": "bd5C1TSHBpsH"
      }
    },
    {
      "cell_type": "code",
      "source": [
        "from sklearn.linear_model import LinearRegression"
      ],
      "metadata": {
        "id": "TA12Xikk-xlF"
      },
      "execution_count": null,
      "outputs": []
    },
    {
      "cell_type": "code",
      "source": [
        "degree = 9\n",
        "x_transform = polynomial_transform(x, degree)\n",
        "lin_reg = LinearRegression()\n",
        "lin_reg.fit(x_transform, y)\n",
        "visualize_model_fit(x,y,lin_reg,degree)"
      ],
      "metadata": {
        "colab": {
          "base_uri": "https://localhost:8080/",
          "height": 296
        },
        "id": "rjHj9fVt7A7s",
        "outputId": "2d7c7b51-2450-4e4d-fabe-460977cda1e6"
      },
      "execution_count": null,
      "outputs": [
        {
          "output_type": "display_data",
          "data": {
            "text/plain": [
              "<Figure size 432x288 with 1 Axes>"
            ],
            "image/png": "[encoded data removed]"
          },
          "metadata": {
            "needs_background": "light"
          }
        }
      ]
    },
    {
      "cell_type": "code",
      "source": [
        "import seaborn as sns"
      ],
      "metadata": {
        "id": "wGuf6ChcYZcq"
      },
      "execution_count": null,
      "outputs": []
    },
    {
      "cell_type": "code",
      "source": [
        "f = plt.figure(figsize = (12,8))\n",
        "sns.set_context(\"notebook\" , font_scale = 1.5 , rc = {\"lines.linewid\":2.5})\n",
        "\n",
        "for i, degree in enumerate([0,1,3,5,7,9]):\n",
        "  plt.subplot(3 , 3 , i+1)\n",
        "  x_transform = polynomial_transform(x,degree)\n",
        "  lin_reg = LinearRegression()\n",
        "  lin_reg.fit(x_transform , y)\n",
        "  visualize_model_fit(x ,y, lin_reg, degree)\n",
        "\n",
        "f.tight_layout()\n",
        "plt.legend(bbox_to_anchor = (1.05 , 0.64) , loc = 2 , borderaxespad =0.)\n",
        "plt.show() "
      ],
      "metadata": {
        "colab": {
          "base_uri": "https://localhost:8080/",
          "height": 410
        },
        "id": "TINHib7M-zDR",
        "outputId": "b7fe4004-52f7-4479-cdde-8f445d516e86"
      },
      "execution_count": null,
      "outputs": [
        {
          "output_type": "display_data",
          "data": {
            "text/plain": [
              "<Figure size 864x576 with 6 Axes>"
            ],
            "image/png": "[encoded data removed]"
          },
          "metadata": {
            "needs_background": "light"
          }
        }
      ]
    },
    {
      "cell_type": "code",
      "source": [
        "import pandas as pd"
      ],
      "metadata": {
        "id": "oRh0vgg_YtMi"
      },
      "execution_count": null,
      "outputs": []
    },
    {
      "cell_type": "code",
      "source": [
        "from IPython.display import display, Math, Latex\n",
        "%matplotlib inline"
      ],
      "metadata": {
        "id": "PXH4DR28uFie"
      },
      "execution_count": null,
      "outputs": []
    },
    {
      "cell_type": "code",
      "source": [
        "import numpy as np"
      ],
      "metadata": {
        "id": "EXJApWNW0bs1"
      },
      "execution_count": null,
      "outputs": []
    },
    {
      "cell_type": "code",
      "source": [
        " x = np.array([[1,2,3] , [3,2,4]])"
      ],
      "metadata": {
        "id": "I0QVCkjS0djj"
      },
      "execution_count": null,
      "outputs": []
    },
    {
      "cell_type": "code",
      "source": [
        "y = np.array([2,4])"
      ],
      "metadata": {
        "id": "yJTbkztscLcD"
      },
      "execution_count": null,
      "outputs": []
    },
    {
      "cell_type": "code",
      "source": [
        "w = np.array([1 , 0.1 , -0.2 , 0.3])"
      ],
      "metadata": {
        "id": "xmkZVX2CcS3-"
      },
      "execution_count": null,
      "outputs": []
    },
    {
      "cell_type": "code",
      "source": [
        "rr = 0.1"
      ],
      "metadata": {
        "id": "HKXRbOD1cacg"
      },
      "execution_count": null,
      "outputs": []
    },
    {
      "cell_type": "code",
      "source": [
        "1%2"
      ],
      "metadata": {
        "colab": {
          "base_uri": "https://localhost:8080/"
        },
        "id": "JP0aY_r9xFZT",
        "outputId": "1ce7a42a-e620-4e1b-9926-7b764ed0a661"
      },
      "execution_count": null,
      "outputs": [
        {
          "output_type": "execute_result",
          "data": {
            "text/plain": [
              "1"
            ]
          },
          "metadata": {},
          "execution_count": 52
        }
      ]
    },
    {
      "cell_type": "code",
      "source": [
        "#@title[Import libraries]\n",
        "from IPython.display import display,Math,Latex\n",
        "import numpy as np\n",
        "#Import for generating plots\n",
        "import matplotlib.pyplot as plt\n",
        "import seaborn as ans\n",
        "#matplotlib inline."
      ],
      "metadata": {
        "id": "dGQuyAZgdmpt"
      },
      "execution_count": null,
      "outputs": []
    },
    {
      "cell_type": "code",
      "source": [
        "for i in range(1,21):\n",
        "  l = []\n",
        "  if i%2 == 0:\n",
        "    print(\"1\")\n",
        "  else:\n",
        "    print(\"0\")\n",
        "    "
      ],
      "metadata": {
        "colab": {
          "base_uri": "https://localhost:8080/"
        },
        "id": "KtuKqehpwyS3",
        "outputId": "66444deb-81fd-4e84-aa00-873f42789b79"
      },
      "execution_count": null,
      "outputs": [
        {
          "output_type": "stream",
          "name": "stdout",
          "text": [
            "0\n",
            "1\n",
            "0\n",
            "1\n",
            "0\n",
            "1\n",
            "0\n",
            "1\n",
            "0\n",
            "1\n",
            "0\n",
            "1\n",
            "0\n",
            "1\n",
            "0\n",
            "1\n",
            "0\n",
            "1\n",
            "0\n",
            "1\n"
          ]
        }
      ]
    },
    {
      "cell_type": "code",
      "source": [
        "l"
      ],
      "metadata": {
        "colab": {
          "base_uri": "https://localhost:8080/"
        },
        "id": "jMNaVCv8yhPE",
        "outputId": "e6643c96-dc02-47b2-bed8-cf18bface517"
      },
      "execution_count": null,
      "outputs": [
        {
          "output_type": "execute_result",
          "data": {
            "text/plain": [
              "[0, 1, 0, 1, 0, 1, 0, 1, 0, 1, 0, 1, 0, 1, 0, 1, 0, 1, 0, 1]"
            ]
          },
          "metadata": {},
          "execution_count": 91
        }
      ]
    },
    {
      "cell_type": "code",
      "source": [
        "l = np.array(l)"
      ],
      "metadata": {
        "id": "AvNABeEl0I0_"
      },
      "execution_count": null,
      "outputs": []
    },
    {
      "cell_type": "code",
      "source": [
        "if x.ndim == 1:\n",
        "    x = x[: , None]"
      ],
      "metadata": {
        "colab": {
          "base_uri": "https://localhost:8080/",
          "height": 169
        },
        "id": "odDpZUQg2CtX",
        "outputId": "e59a5972-0819-4c96-af52-fae89e328b41"
      },
      "execution_count": null,
      "outputs": [
        {
          "output_type": "error",
          "ename": "AttributeError",
          "evalue": "ignored",
          "traceback": [
            "\u001b[0;31m---------------------------------------------------------------------------\u001b[0m",
            "\u001b[0;31mAttributeError\u001b[0m                            Traceback (most recent call last)",
            "\u001b[0;32m<ipython-input-83-b3670c087e62>\u001b[0m in \u001b[0;36m<module>\u001b[0;34m()\u001b[0m\n\u001b[0;32m----> 1\u001b[0;31m \u001b[0ml\u001b[0m\u001b[0;34m.\u001b[0m\u001b[0mndim\u001b[0m\u001b[0;34m\u001b[0m\u001b[0;34m\u001b[0m\u001b[0m\n\u001b[0m",
            "\u001b[0;31mAttributeError\u001b[0m: 'list' object has no attribute 'ndim'"
          ]
        }
      ]
    },
    {
      "cell_type": "code",
      "source": [
        "l.ndim"
      ],
      "metadata": {
        "colab": {
          "base_uri": "https://localhost:8080/"
        },
        "id": "Wg3AhrFF2Fos",
        "outputId": "6e71e0b9-4e2d-468e-f55f-4ada06e56fc2"
      },
      "execution_count": null,
      "outputs": [
        {
          "output_type": "execute_result",
          "data": {
            "text/plain": [
              "1"
            ]
          },
          "metadata": {},
          "execution_count": 85
        }
      ]
    },
    {
      "cell_type": "code",
      "source": [
        "l = l[: , None]"
      ],
      "metadata": {
        "id": "CleIqWYr276U"
      },
      "execution_count": null,
      "outputs": []
    },
    {
      "cell_type": "code",
      "source": [
        "l"
      ],
      "metadata": {
        "colab": {
          "base_uri": "https://localhost:8080/"
        },
        "id": "g-DjnmXN2_PB",
        "outputId": "ed452ac0-d5b9-4867-f80f-6dc160994d1c"
      },
      "execution_count": null,
      "outputs": [
        {
          "output_type": "execute_result",
          "data": {
            "text/plain": [
              "array([[0],\n",
              "       [1],\n",
              "       [0],\n",
              "       [1],\n",
              "       [0],\n",
              "       [1],\n",
              "       [0],\n",
              "       [1],\n",
              "       [0],\n",
              "       [1],\n",
              "       [0],\n",
              "       [1],\n",
              "       [0],\n",
              "       [1],\n",
              "       [0],\n",
              "       [1],\n",
              "       [0],\n",
              "       [1],\n",
              "       [0],\n",
              "       [1]])"
            ]
          },
          "metadata": {},
          "execution_count": 87
        }
      ]
    },
    {
      "cell_type": "code",
      "source": [
        "l = l[: , None]"
      ],
      "metadata": {
        "id": "P3wgMReW2_3D"
      },
      "execution_count": null,
      "outputs": []
    },
    {
      "cell_type": "code",
      "source": [
        "import numpy as np\n",
        "import random\n",
        "def additional_vector(X):\n",
        "    l = []\n",
        "    for i in range(1,21):\n",
        "        if i%2 == 0:\n",
        "            i=1\n",
        "            l.append(i)\n",
        "        else:\n",
        "            i=0\n",
        "            l.append(i)\n",
        "\n",
        "    l = np.array(l)\n",
        "    \n",
        "    print(np.stack(X, l ))"
      ],
      "metadata": {
        "id": "pyCF2LQm4I4Q"
      },
      "execution_count": null,
      "outputs": []
    },
    {
      "cell_type": "code",
      "source": [
        "def additional_vector(X):\n",
        "    l = []\n",
        "    for i in range(1,21):\n",
        "        if i%2 == 0:\n",
        "            i=1\n",
        "            l.append(i)\n",
        "        else:\n",
        "            i=0\n",
        "            l.append(i)\n",
        "\n",
        "    l = np.array(l)\n",
        "    print(np.column_stack((X , l)))"
      ],
      "metadata": {
        "id": "GGcWtMQo4Y8I"
      },
      "execution_count": null,
      "outputs": []
    },
    {
      "cell_type": "code",
      "source": [],
      "metadata": {
        "id": "qOLHmFT0-gYu"
      },
      "execution_count": null,
      "outputs": []
    },
    {
      "cell_type": "code",
      "source": [
        "x = np.linspace(1,1,60)"
      ],
      "metadata": {
        "id": "daYasTGh6lAR"
      },
      "execution_count": null,
      "outputs": []
    },
    {
      "cell_type": "code",
      "source": [
        "x = x.reshape(20,3)"
      ],
      "metadata": {
        "id": "88FVF8Yb7B5A"
      },
      "execution_count": null,
      "outputs": []
    },
    {
      "cell_type": "code",
      "source": [
        "additional_vector(x)"
      ],
      "metadata": {
        "colab": {
          "base_uri": "https://localhost:8080/"
        },
        "id": "RyyuTahM7unv",
        "outputId": "5eb7c0a2-9faa-4b5b-c19b-638fffe77903"
      },
      "execution_count": null,
      "outputs": [
        {
          "output_type": "stream",
          "name": "stdout",
          "text": [
            "[[1. 1. 1. 0.]\n",
            " [1. 1. 1. 1.]\n",
            " [1. 1. 1. 0.]\n",
            " [1. 1. 1. 1.]\n",
            " [1. 1. 1. 0.]\n",
            " [1. 1. 1. 1.]\n",
            " [1. 1. 1. 0.]\n",
            " [1. 1. 1. 1.]\n",
            " [1. 1. 1. 0.]\n",
            " [1. 1. 1. 1.]\n",
            " [1. 1. 1. 0.]\n",
            " [1. 1. 1. 1.]\n",
            " [1. 1. 1. 0.]\n",
            " [1. 1. 1. 1.]\n",
            " [1. 1. 1. 0.]\n",
            " [1. 1. 1. 1.]\n",
            " [1. 1. 1. 0.]\n",
            " [1. 1. 1. 1.]\n",
            " [1. 1. 1. 0.]\n",
            " [1. 1. 1. 1.]]\n"
          ]
        }
      ]
    },
    {
      "cell_type": "code",
      "source": [
        "import numpy as np\n",
        "import random\n",
        "import itertools\n",
        "import functools\n",
        "\n",
        "def get_combinations(x,degree):\n",
        "  return itertools.combinations_with_replacement(x, degree)\n",
        "        \n",
        "def compute_new_feature(items):\n",
        "  return functools.reduce(lambda x , y: x*y , items)        \n",
        "        \n",
        "def polynomial_transform(x, degree, logging = False):\n",
        "\n",
        "    if x.ndim == 1:\n",
        "        x = x[: , None]\n",
        "    \n",
        "    xt = x.transpose()\n",
        "    features = [np.ones(len(x))]\n",
        "\n",
        "    if logging:\n",
        "        print(\"Input:\" , x)\n",
        "    for degree in range(1 , degree+1):\n",
        "        for items in get_combinations(xt , degree):\n",
        "            features.append(compute_new_feature(items))\n",
        "            if logging:\n",
        "                print(items , \":\" , compute_new_feature(items))\n",
        "\n",
        "    if logging:\n",
        "        print(np.asarray(features).transpose())\n",
        "    return np.asarray(features).transpose() \n",
        "\n",
        "\n",
        "def model_error(X, y,degree):\n",
        "    X = polynomial_transform(X,degree)\n",
        "    w = np.linalg.inv(X.transpose()@X)@X.transpose()@y\n",
        "    loss = (1/2)*(X@w - y).transpose()@(X@w-y)\n",
        "    RMSE = np.sqrt((2/len(y))*loss)\n",
        "    return RMSE"
      ],
      "metadata": {
        "id": "irkytEUp8Qjc"
      },
      "execution_count": null,
      "outputs": []
    }
  ]
}