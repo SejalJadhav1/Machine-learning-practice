{
  "nbformat": 4,
  "nbformat_minor": 0,
  "metadata": {
    "colab": {
      "provenance": [],
      "authorship_tag": "ABX9TyNeJzkuVgBuaXnLIRTu+CRe",
      "include_colab_link": true
    },
    "kernelspec": {
      "name": "python3",
      "display_name": "Python 3"
    },
    "language_info": {
      "name": "python"
    }
  },
  "cells": [
    {
      "cell_type": "markdown",
      "metadata": {
        "id": "view-in-github",
        "colab_type": "text"
      },
      "source": [
        "<a href=\"https://colab.research.google.com/github/SejalJadhav1/python_/blob/main/MachineLearningTechnique_5.ipynb\" target=\"_parent\"><img src=\"https://colab.research.google.com/assets/colab-badge.svg\" alt=\"Open In Colab\"/></a>"
      ]
    },
    {
      "cell_type": "code",
      "execution_count": null,
      "metadata": {
        "id": "2dU-PBIZeF4c"
      },
      "outputs": [],
      "source": [
        "from IPython.display import display, Math, Latex\n"
      ]
    },
    {
      "cell_type": "code",
      "source": [
        "import numpy as np"
      ],
      "metadata": {
        "id": "V6QqG95TeY5z"
      },
      "execution_count": null,
      "outputs": []
    },
    {
      "cell_type": "code",
      "source": [
        "import seaborn as sns\n",
        "import matplotlib.pyplot as plt\n",
        "%matplotlib inline"
      ],
      "metadata": {
        "id": "B97Zb-FoebTQ"
      },
      "execution_count": null,
      "outputs": []
    },
    {
      "cell_type": "code",
      "source": [],
      "metadata": {
        "id": "sg6qccy-nleB"
      },
      "execution_count": null,
      "outputs": []
    },
    {
      "cell_type": "markdown",
      "source": [
        "## **MODEL**"
      ],
      "metadata": {
        "id": "eojbp6ixnl5o"
      }
    },
    {
      "cell_type": "code",
      "source": [
        "np.random.seed(1234)"
      ],
      "metadata": {
        "id": "plqy0D43eiXM"
      },
      "execution_count": null,
      "outputs": []
    },
    {
      "cell_type": "code",
      "source": [
        "def linear_combination(x:np.ndarray , w:np.ndarray)-> np.ndarray:\n",
        "  return x@w"
      ],
      "metadata": {
        "id": "zaLl-aU_evLa"
      },
      "execution_count": null,
      "outputs": []
    },
    {
      "cell_type": "code",
      "source": [
        "def sigmoid(z:np.ndarray)->np.ndarray:\n",
        "  return 1/(1+np.exp(-z))\n"
      ],
      "metadata": {
        "id": "PpttdKFBi_Wq"
      },
      "execution_count": null,
      "outputs": []
    },
    {
      "cell_type": "code",
      "source": [
        "# we take the linear_combination function to get x@w put that in \n",
        "#sigmoid function (sigmoid(linear_combination)) and then if the output is > then the threshold value\n",
        "#then we assign it to class 1 otherwise we assign it to class 0\n",
        "\n",
        "def predict(x:np.ndarray , w:np.ndarray, threshold:float) ->np.ndarray:\n",
        "  return np.where(sigmoid(linear_combination(x, w)) > threshold , 1 , 0)"
      ],
      "metadata": {
        "id": "w6uO4Tq1jZlZ"
      },
      "execution_count": null,
      "outputs": []
    },
    {
      "cell_type": "code",
      "source": [
        "x = np.array([[1,2] , [1,3]])\n",
        "w = np.array([0.1 , 0.2])\n",
        "y = np.array([1 , 0])\n"
      ],
      "metadata": {
        "id": "jPBDfCaykQvF"
      },
      "execution_count": null,
      "outputs": []
    },
    {
      "cell_type": "code",
      "source": [],
      "metadata": {
        "id": "Dme7MaF88NpH"
      },
      "execution_count": null,
      "outputs": []
    },
    {
      "cell_type": "code",
      "source": [],
      "metadata": {
        "id": "m79n_6Kb8OJD"
      },
      "execution_count": null,
      "outputs": []
    },
    {
      "cell_type": "code",
      "source": [
        "x.shape"
      ],
      "metadata": {
        "colab": {
          "base_uri": "https://localhost:8080/"
        },
        "id": "O0JKnlbjlfmD",
        "outputId": "7a183f43-c648-4084-9fd1-dbe1cef8598f"
      },
      "execution_count": null,
      "outputs": [
        {
          "output_type": "execute_result",
          "data": {
            "text/plain": [
              "(2, 3)"
            ]
          },
          "metadata": {},
          "execution_count": 14
        }
      ]
    },
    {
      "cell_type": "code",
      "source": [
        "w.shape"
      ],
      "metadata": {
        "colab": {
          "base_uri": "https://localhost:8080/"
        },
        "id": "dSNKESGHliLI",
        "outputId": "97fd48c6-df81-4e3b-906f-f2ed7219971e"
      },
      "execution_count": null,
      "outputs": [
        {
          "output_type": "execute_result",
          "data": {
            "text/plain": [
              "(3,)"
            ]
          },
          "metadata": {},
          "execution_count": 15
        }
      ]
    },
    {
      "cell_type": "code",
      "source": [
        "y = predict(x, w , 0.5)"
      ],
      "metadata": {
        "id": "xx45xgnUljyV"
      },
      "execution_count": null,
      "outputs": []
    },
    {
      "cell_type": "code",
      "source": [
        "x\n",
        "\n"
      ],
      "metadata": {
        "colab": {
          "base_uri": "https://localhost:8080/"
        },
        "id": "du81hWUunNTm",
        "outputId": "ed4c4f60-9482-4172-a7f4-bf7be0f19577"
      },
      "execution_count": null,
      "outputs": [
        {
          "output_type": "execute_result",
          "data": {
            "text/plain": [
              "array([[1, 2],\n",
              "       [1, 3]])"
            ]
          },
          "metadata": {},
          "execution_count": 83
        }
      ]
    },
    {
      "cell_type": "code",
      "source": [
        "y.shape"
      ],
      "metadata": {
        "colab": {
          "base_uri": "https://localhost:8080/"
        },
        "id": "uQjcp7Q3nQRf",
        "outputId": "0ae222b3-2766-4be4-fab6-bf4b9ef5a663"
      },
      "execution_count": null,
      "outputs": [
        {
          "output_type": "execute_result",
          "data": {
            "text/plain": [
              "(2,)"
            ]
          },
          "metadata": {},
          "execution_count": 18
        }
      ]
    },
    {
      "cell_type": "code",
      "source": [],
      "metadata": {
        "id": "eu0Llu92nQ_g"
      },
      "execution_count": null,
      "outputs": []
    },
    {
      "cell_type": "markdown",
      "source": [
        "# LOSS"
      ],
      "metadata": {
        "id": "FngsqNyanpfA"
      }
    },
    {
      "cell_type": "code",
      "source": [
        "def loss(y, sigmoid_vector , w , l1_reg_rate , l2_reg_rate):\n",
        "  return (-1 * (np.sum(y * np.log(sigmoid_vector) + (1-y) * np.log(1-sigmoid_vector)))\n",
        "  + l2_reg_rate * np.dot(np.transpose(w) , w)\n",
        "  +l1_reg_rate * np.sum(np.abs(w)))\n"
      ],
      "metadata": {
        "id": "bI1LxDzfnqui"
      },
      "execution_count": null,
      "outputs": []
    },
    {
      "cell_type": "code",
      "source": [
        "y = np.array([1, 0, 0, 1, 0, 0, 0, 1, 1 ])\n",
        "yhat =np.array( [0.9, 0.3, 0.25, 0.88, 0.1, 0.1, 0.6, 0.9, 0.75])"
      ],
      "metadata": {
        "id": "siK-Y5gUpKsM"
      },
      "execution_count": null,
      "outputs": []
    },
    {
      "cell_type": "code",
      "source": [
        "loss(y , yhat , w , 0 , 0 )"
      ],
      "metadata": {
        "colab": {
          "base_uri": "https://localhost:8080/"
        },
        "id": "B_KeR0EGPd2R",
        "outputId": "d48cdb2f-bcbb-41e9-df8f-1fe7892d4b76"
      },
      "execution_count": null,
      "outputs": [
        {
          "output_type": "execute_result",
          "data": {
            "text/plain": [
              "2.397605254857639"
            ]
          },
          "metadata": {},
          "execution_count": 92
        }
      ]
    },
    {
      "cell_type": "markdown",
      "source": [
        "## **OPTIMIZATION**"
      ],
      "metadata": {
        "id": "NZHM_yGwqOE4"
      }
    },
    {
      "cell_type": "code",
      "source": [
        "def calculate_gradient(x:np.ndarray , y:np.ndarray , w:np.ndarray, reg_rate:float) ->np.ndarray:\n",
        "  return np.transpose(x)@(sigmoid(linear_combination(x,w)) - y)+ reg_rate*w"
      ],
      "metadata": {
        "id": "h8Pk62CVqRBO"
      },
      "execution_count": null,
      "outputs": []
    },
    {
      "cell_type": "code",
      "source": [
        "calculate_gradient(x , y , w , 0)"
      ],
      "metadata": {
        "colab": {
          "base_uri": "https://localhost:8080/"
        },
        "id": "-O-SRd87rByW",
        "outputId": "26712c44-4c6b-48c5-ed66-5520a1638d91"
      },
      "execution_count": null,
      "outputs": [
        {
          "output_type": "execute_result",
          "data": {
            "text/plain": [
              "array([0.2906471 , 1.24948198])"
            ]
          },
          "metadata": {},
          "execution_count": 9
        }
      ]
    },
    {
      "cell_type": "markdown",
      "source": [
        "# LOGISTIC REGRESSION CLASS IMPLEMENTATION "
      ],
      "metadata": {
        "id": "JbpJ7RrtrcKY"
      }
    },
    {
      "cell_type": "code",
      "source": [
        "class LogisticRegression(object):\n",
        "  def set_weight_vector(self , w):\n",
        "    self.w = w\n",
        "\n",
        "  def linear_combination(self , x:np.ndarray) -> np.ndarray:\n",
        "    return x@self.w\n",
        "\n",
        "  def sigmoid(self , z:np.ndarray):\n",
        "    return 1/(1 + np.exp(-z))\n",
        "\n",
        "  def activation(self , x:np.ndarray) -> np.ndarray:\n",
        "    return self.sigmoid(self.linear_combination(x))\n",
        "\n",
        "  def predict(self , x:np.ndarray ,threshold:float = 0.5):\n",
        "    return (sel.activation(x) > threshold).astype(int)\n",
        "\n",
        "  def loss(self , x:np.ndarray , y:np.ndarray , reg_rate:float)-> float:\n",
        "    predicted_prob = self.actiavtion(x)\n",
        "    return (-1 * (np.sum(y * np.log(predicted_prob) + (1-y) * np.log(1-predicted_prob)))\n",
        "    + reg_rate * np.dot(np.transpose(self.w) , self.w))\n",
        "\n",
        "  def calculate_gradient(self , x:np.ndarray , y:np.ndarray ,reg_rate:float)->np.ndarray:\n",
        "    return np.transpose(x)@(self.actiavtion(x) - y) + reg_rate * self.w\n",
        "\n",
        "  def update_weights(self , grad:np.ndarray , lr:float) ->np.ndarray:\n",
        "    return (self.w - lr*grad)\n",
        "\n",
        "  def gd(self , x:np.ndarray , y:np.ndarray , \n",
        "             num_epochs:int, lr:float , reg_rate:float)-> np.ndarray:\n",
        "            \n",
        "            self.w = np.zeros(x.shape[1])\n",
        "            self.w_all = []\n",
        "            self.err_all = []\n",
        "             \n",
        "            for i in np.arange(0 , num_epochs):\n",
        "              dJdW = self.calculate_gradient(x , y , reg_rate)\n",
        "              self.w_all.append(self.w)\n",
        "              self.err_all.append(self.loss(x , y , reg_rate))\n",
        "              self.w = self.update_weights(dJdW , lr)\n",
        "              return self.w  \n",
        "\n",
        "\n",
        "\n",
        "\n",
        "\n",
        "\n",
        "\n",
        "\n",
        "\n",
        "\n",
        "\n"
      ],
      "metadata": {
        "id": "eQhFJ17BrfCR"
      },
      "execution_count": null,
      "outputs": []
    },
    {
      "cell_type": "code",
      "source": [],
      "metadata": {
        "id": "8WuUdvMNCqlo"
      },
      "execution_count": null,
      "outputs": []
    }
  ]
}