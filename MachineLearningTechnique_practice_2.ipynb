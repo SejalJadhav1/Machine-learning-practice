{
  "nbformat": 4,
  "nbformat_minor": 0,
  "metadata": {
    "colab": {
      "provenance": [],
      "collapsed_sections": [],
      "authorship_tag": "ABX9TyP5tSxgYIYCg1xPu1nSJfAp",
      "include_colab_link": true
    },
    "kernelspec": {
      "name": "python3",
      "display_name": "Python 3"
    },
    "language_info": {
      "name": "python"
    }
  },
  "cells": [
    {
      "cell_type": "markdown",
      "metadata": {
        "id": "view-in-github",
        "colab_type": "text"
      },
      "source": [
        "<a href=\"https://colab.research.google.com/github/SejalJadhav1/python_/blob/main/MachineLearningTechnique_practice_2.ipynb\" target=\"_parent\"><img src=\"https://colab.research.google.com/assets/colab-badge.svg\" alt=\"Open In Colab\"/></a>"
      ]
    },
    {
      "cell_type": "markdown",
      "source": [
        "## **WEEK 7**"
      ],
      "metadata": {
        "id": "p4RN4btYDO9Q"
      }
    },
    {
      "cell_type": "code",
      "execution_count": null,
      "metadata": {
        "id": "0zJjnQyXCM9c"
      },
      "outputs": [],
      "source": [
        "import numpy as np\n",
        "from scipy import stats"
      ]
    },
    {
      "cell_type": "code",
      "source": [
        "def one_hot_encoding(k , y):\n",
        "  encode = np.zeros((len(y), k))\n",
        "  encode[np.arange(len(y)), y] = 1\n",
        "  return encode\n",
        "\n",
        "def linear_combination(x,w,b):\n",
        "  return x@w+b\n",
        "\n",
        "# for softmax : 1.linear combination (z) 2. exp(z)/sum(exp(z))\n",
        "def softmax(z):\n",
        "  exp = np.exp(z- np.max(z))\n",
        "  for i in range(len(z)):\n",
        "    exp[i] = exp[i]/np.sum(exp[i])\n",
        "  return exp  \n",
        "\n",
        "def Euclidean_dist(x1,x2):\n",
        "  dist = np.sum((x1-x2)**2 , axis = 1)\n",
        "  return dist\n",
        "\n",
        "def Manhattan_dist(x1,x2):\n",
        "  dist = np.sum(np.abs(x1-x2), axis = 1)  \n",
        "  return dist\n",
        "\n",
        "class KNN:\n",
        "  def __init__(self , k , distance_metric= Euclidean_dist , task_type = \"Classification\" ):\n",
        "    self.k = k\n",
        "    self.distance_metric= distance_metric\n",
        "    self.task_type = task_type\n",
        "\n",
        "  def fit(self , x , y):\n",
        "    self.x = x\n",
        "    self.y = y\n",
        "\n",
        "  def predict(self, New_example):\n",
        "    distance_vector = self.distance_metric(self.x , New_example) # distance between the new example and every example from the data\n",
        "    k_nearest_neighbours_indices = np.argpartition(distance_vector, self.k)[:self.k]\n",
        "    k_nearest_neighbours = self.y[k_nearest_neighbours_indices]\n",
        "\n",
        "    if self.task_type == \"Classification\":\n",
        "      label = stats.mode(k_nearest_neighbours)[0]\n",
        "    else:\n",
        "      label = k_nearest_neighbours.mean()  \n",
        "    return label  \n",
        "\n",
        "    \n",
        "\n"
      ],
      "metadata": {
        "id": "CVTeNR9ECVXF"
      },
      "execution_count": null,
      "outputs": []
    },
    {
      "cell_type": "code",
      "source": [
        "stats.mode(y)"
      ],
      "metadata": {
        "colab": {
          "base_uri": "https://localhost:8080/",
          "height": 169
        },
        "id": "Ky5Wj50oYSSB",
        "outputId": "6bd2e102-c2d6-4f34-8f0f-0d1a6bda1e05"
      },
      "execution_count": null,
      "outputs": [
        {
          "output_type": "error",
          "ename": "NameError",
          "evalue": "ignored",
          "traceback": [
            "\u001b[0;31m---------------------------------------------------------------------------\u001b[0m",
            "\u001b[0;31mNameError\u001b[0m                                 Traceback (most recent call last)",
            "\u001b[0;32m<ipython-input-4-50363ec6827d>\u001b[0m in \u001b[0;36m<module>\u001b[0;34m()\u001b[0m\n\u001b[0;32m----> 1\u001b[0;31m \u001b[0mstats\u001b[0m\u001b[0;34m.\u001b[0m\u001b[0mmode\u001b[0m\u001b[0;34m(\u001b[0m\u001b[0my\u001b[0m\u001b[0;34m)\u001b[0m\u001b[0;34m\u001b[0m\u001b[0;34m\u001b[0m\u001b[0m\n\u001b[0m",
            "\u001b[0;31mNameError\u001b[0m: name 'y' is not defined"
          ]
        }
      ]
    },
    {
      "cell_type": "code",
      "source": [
        "stats.mode(k_nearest_neighbors)[0]"
      ],
      "metadata": {
        "id": "XaDnZUCyYA_a"
      },
      "execution_count": null,
      "outputs": []
    },
    {
      "cell_type": "code",
      "source": [
        "z = np.array([[1,2,7], [3,4,7]])"
      ],
      "metadata": {
        "id": "HCrxhovGGUOT"
      },
      "execution_count": null,
      "outputs": []
    },
    {
      "cell_type": "code",
      "source": [
        "softmax1(z)"
      ],
      "metadata": {
        "id": "kNDjy5XDGNjw"
      },
      "execution_count": null,
      "outputs": []
    },
    {
      "cell_type": "code",
      "source": [
        "softmax(z)"
      ],
      "metadata": {
        "id": "U7vhIm3SF3Sx"
      },
      "execution_count": null,
      "outputs": []
    },
    {
      "cell_type": "code",
      "source": [],
      "metadata": {
        "id": "9qdYDKX2GNOp"
      },
      "execution_count": null,
      "outputs": []
    },
    {
      "cell_type": "code",
      "source": [
        "np.arange(len(y))"
      ],
      "metadata": {
        "id": "8ekSG96nDc7Y"
      },
      "execution_count": null,
      "outputs": []
    },
    {
      "cell_type": "code",
      "source": [
        "y = np.array([1,2,3,1,0])"
      ],
      "metadata": {
        "id": "SQp0-lkJDE2n"
      },
      "execution_count": null,
      "outputs": []
    },
    {
      "cell_type": "code",
      "source": [
        "stats.mode(y)"
      ],
      "metadata": {
        "id": "kLpj7cjMYIMe"
      },
      "execution_count": null,
      "outputs": []
    },
    {
      "cell_type": "code",
      "source": [
        "one_hot_encoding(4 , y)"
      ],
      "metadata": {
        "id": "15XbTzz1DVa8"
      },
      "execution_count": null,
      "outputs": []
    },
    {
      "cell_type": "code",
      "source": [],
      "metadata": {
        "id": "Hvmx5LcTDXvR"
      },
      "execution_count": null,
      "outputs": []
    },
    {
      "cell_type": "markdown",
      "source": [
        "# WEEK 8"
      ],
      "metadata": {
        "id": "fkK8-JZXmj4n"
      }
    },
    {
      "cell_type": "code",
      "source": [
        "class fit_softSVM: # graded 1\n",
        "    def __init__(self, C=1):\n",
        "        self.C = C\n",
        "        self.w = None\n",
        "        self.b = None\n",
        "        \n",
        "    def decision_function(self,x):\n",
        "        return x.dot(self.w) + self.b\n",
        "        \n",
        "    def cost(self, margin):\n",
        "        return(1/2)*self.w.dot(self.w)+ self.C*np.sum(np.maximum(0,1-margin))\n",
        "    \n",
        "    def margin(self,x,y):\n",
        "        return y*self.decision_function(x)\n",
        "    \n",
        "    def fit(self, x , y , lr=0.001, epochs = 100):\n",
        "        self.n, self.d = x.shape\n",
        "        self.w = np.random.randn(self.d)\n",
        "        self.b = 0\n",
        "        for _ in range(epochs):\n",
        "            margin = self.margin(x,y)\n",
        "            misclassified_pts_idx = np.where(margin<1)[0]\n",
        "            d_w = self.w - self.C*y[misclassified_pts_idx].dot(x[misclassified_pts_idx])\n",
        "            self.w = self.w- lr*d_w\n",
        "            d_b = -self.C*np.sum(y[misclassified_pts_idx])\n",
        "            self.b = self.b - lr*d_b\n",
        "        self.support_vec = np.where(self.margin(x,y) <=1)[0]\n",
        "    \n",
        "    def predict(self, x):\n",
        "        return np.sign(self.decision_function(x))\n",
        "        \n",
        "\n",
        "def compute_accuracy(x_train, y_train, x_test,  y_test):\n",
        "    svm = fit_softSVM(15)\n",
        "    svm.fit(x_train, y_train)\n",
        "    y_pred = svm.predict(x_test)\n",
        "    return np.mean(y_test ==y_pred)\n",
        "    \n"
      ],
      "metadata": {
        "id": "Luk5LkLKmmP9"
      },
      "execution_count": null,
      "outputs": []
    },
    {
      "cell_type": "code",
      "source": [
        "def decision_function(x,w,b):\n",
        "  return x@w + b\n",
        "\n",
        "def margin(x,y, w ,b):\n",
        "  return y * (x@w + b)\n",
        "\n",
        "def loss(x, y, w , b, C):\n",
        "  0.5 * (w @ w)  + C * np.sum(np.maximum(1-(y*(x@w + b)), 0))\n",
        "\n",
        "def fit(x, y, b, w, C, lr):\n",
        "  missclassified_pts_index = np.where((y * (x@w + b)) < 1)[0]\n",
        "  derivative_w = w + C * np.sum((y[missclassified_pts_index]) @ (x[missclassified_pts_index]))\n",
        "  w = w - lr * derivative_w\n",
        "\n",
        "  derivative_b = C * np.sum(y[missclassified_pts_index])\n",
        "  b = b- lr * derivative_b\n",
        "\n",
        "  support_vectors = np.where(margin = 1)[0]\n",
        "\n",
        "def predict(x, w, b):\n",
        "  return np.sign(x@w + b)\n",
        "\n",
        "def score(x , y ,b, w):\n",
        "  p = np.sign(x@w + b)\n",
        "  return np.mean(y==p)  \n",
        "\n",
        "def rbf_kernel(sigma, X1, X2):\n",
        "  return np.exp(-(1/sigma ** 2) * np.linalg.norm(X1[:, np.newaxis] - X2[np.newaxis, :], axis=2) ** 2)\n",
        "    \n",
        "def polynomial_kernel(X1, X2 , C ,  degree):\n",
        "  return (C + X1 @ (X2.T)) ** degree  \n",
        "\n",
        "def __decision_function( X , alpha , b ,y ,kernel,C ,  degree, sigma, x1, x2  ):\n",
        "  if kernel== \"rbf\":\n",
        "    kernel = rbf_kernel(sigma, x1, x2)\n",
        "  else: \n",
        "    kernel = polynomial_kernel(x1, x2)  \n",
        "  return (alpha * y ) @ (kernel(x1, x2)) + b\n",
        "  \n",
        "def predict( X):\n",
        "  return np.sign(decision_function(X))\n",
        "\n",
        "def score( X, y):\n",
        "  y_hat =predict(X)\n",
        "  return np.maen(y == y_hat)"
      ],
      "metadata": {
        "id": "QEr54n8Ji84E"
      },
      "execution_count": null,
      "outputs": []
    },
    {
      "cell_type": "code",
      "source": [
        "import numpy as np # graded 2\n",
        "def fit(X_train,Y_train,X_test,Y_test,n_iters=100,lr=0.1):\n",
        "        \n",
        "  n_samples, n_features = X.shape\n",
        "  w = np.zeros(n_features)\n",
        "  b = 0  \n",
        "\n",
        "  for _ in range(n_iters):\n",
        "    for idx, x_i in enumerate(X):\n",
        "      condition = Y[idx] * (np.dot(x_i, w) - b) >= 1  \n",
        "      if condition: \n",
        "        pass\n",
        "      else:\n",
        "        \n",
        "        w -= lr*np.dot(x_i, Y[idx])\n",
        "        b -= lr * Y[idx]\n",
        "\n",
        "  approx = np.dot(X_test, w) - b\n",
        "  y_pred=np.sign(approx)\n",
        "\n",
        "  accuracy = np.sum(y_pred == Y_test)/X.shape[0]\n",
        "\n",
        "  return accuracy"
      ],
      "metadata": {
        "id": "TCkEz5-YsL9S"
      },
      "execution_count": null,
      "outputs": []
    },
    {
      "cell_type": "code",
      "source": [
        "y = np.array([-1,1,-3])\n",
        "p = np.array([1,1,1])"
      ],
      "metadata": {
        "id": "2N0bQ4gHKtDQ"
      },
      "execution_count": null,
      "outputs": []
    },
    {
      "cell_type": "code",
      "source": [
        "np.sign(y)"
      ],
      "metadata": {
        "id": "I12CWIuagMhq"
      },
      "execution_count": null,
      "outputs": []
    },
    {
      "cell_type": "code",
      "source": [
        "np.mean(y==p)"
      ],
      "metadata": {
        "id": "JZ3YrWOSgQdc"
      },
      "execution_count": null,
      "outputs": []
    },
    {
      "cell_type": "code",
      "source": [
        "y==p"
      ],
      "metadata": {
        "id": "fBmXCs_DgW6u"
      },
      "execution_count": null,
      "outputs": []
    },
    {
      "cell_type": "code",
      "source": [
        "1/3"
      ],
      "metadata": {
        "id": "eycGp8qQgZKa"
      },
      "execution_count": null,
      "outputs": []
    },
    {
      "cell_type": "code",
      "source": [
        "import pandas as pd"
      ],
      "metadata": {
        "id": "2u6S2DgC_6e1"
      },
      "execution_count": null,
      "outputs": []
    },
    {
      "cell_type": "code",
      "source": [
        "df = pd.DataFrame([['overcast', 'hot', 'high', 'FALSE', 'yes'],\n",
        "['overcast', 'cool', 'normal', 'TRUE', 'yes'],\n",
        "['overcast', 'mild', 'high', 'TRUE', 'yes'],\n",
        "['overcast', 'hot', 'normal', 'FALSE', 'yes'],\n",
        "['rainy', 'mild', 'high', 'FALSE', 'yes'],\n",
        "['rainy', 'cool', 'normal', 'FALSE', 'yes'],\n",
        "['rainy', 'cool', 'normal', 'TRUE', 'no'],\n",
        "['rainy', 'mild', 'normal', 'FALSE', 'yes'],\n",
        "['rainy', 'mild', 'high', 'TRUE', 'no'],\n",
        "['sunny', 'hot', 'high', 'FALSE', 'no'],\n",
        "['sunny', 'hot', 'high', 'TRUE', 'no'],\n",
        "['sunny', 'mild', 'high', 'FALSE', 'no'],\n",
        "['sunny', 'cool', 'normal', 'FALSE', 'yes'],\n",
        "['sunny', 'mild', 'normal', 'TRUE', 'yes']], columns=['outlook','temp','humidity','windy','play'])"
      ],
      "metadata": {
        "id": "BBu54jeDqsI_"
      },
      "execution_count": null,
      "outputs": []
    },
    {
      "cell_type": "code",
      "source": [
        "df.keys()[-1]"
      ],
      "metadata": {
        "id": "ovrsbhaKADuv"
      },
      "execution_count": null,
      "outputs": []
    },
    {
      "cell_type": "markdown",
      "source": [
        "# WEEK 9"
      ],
      "metadata": {
        "id": "Ro3nyTuAqsRL"
      }
    },
    {
      "cell_type": "code",
      "source": [
        "eps = np.finfo(float).eps\n",
        "\n",
        "def entropy_whole(df): # entropy of target column\n",
        "  target = df.keys()[-1] # column name of the target\n",
        "  overall_entropy = 0\n",
        "  values_in_target = df[target].unique() # unique labels in target\n",
        "\n",
        "  for i in values_in_target:\n",
        "    p = df[target].value_counts(i)/len(df[target]) \n",
        "    overall_entropy += -p * np.log2(p) # -p * log2(p)\n",
        "  return overall_entropy \n",
        "\n",
        "def entropy_attribute(df , attribute):\n",
        "  target = df.keys()[-1]\n",
        "  overall_entropy = 0\n",
        "  values_in_target = df[target].unique() # yes and no\n",
        "  values_in_attribute = df[attribute].unique() # attribute = humidity\t => high , normal\n",
        "\n",
        "  entropy_attribute = 0\n",
        "\n",
        "  for i in values_in_attribute: # high, normal\n",
        "    overall_entropy = 0\n",
        "\n",
        "    for j in values_in_target: # yes and no\n",
        "      num = len(df[attribute][df[attribute]==i][df[target]==j]) # humidity => humidity == high ==> high == yes and high==no\n",
        "      den = len(df[attribute][df[attribute]==i]) # high \n",
        "      p = num/(den+eps)\n",
        "      overall_entropy += -p*np.log2(p+eps)   # p for high==yes + p for high ==no\n",
        "    p2 = den/len(df)  # high / no.examples\n",
        "    entropy_attribute += -p2*overall_entropy\n",
        "  return abs(entropy_attribute)    \n",
        "\n",
        "def best_attribute(df):\n",
        "  ig = []\n",
        "  attribute_names = df.keys()[:-1]\n",
        "\n",
        "  for i in attribute_names:\n",
        "    ig.append(entropy_whole(df)-entropy_attribute(df,i))\n",
        "\n",
        "  idx_best_attr = np.argmax(ig)\n",
        "  best_attr = attribute_names[idx_best_attr]\n",
        "\n",
        "  return best_attr\n",
        "\n",
        "node = best_attribute(df)  \n",
        "\n",
        "def buildTree(df, tree=None):\n",
        "    target = df.keys()[-1]\n",
        "    node = best_attribute(df)\n",
        "    attValue = np.unique(df[node])\n",
        "    if tree is None:\n",
        "        tree = {}\n",
        "        tree[node] = {}\n",
        "    for value in attValue:\n",
        "        subtable = df[df[node] == value].reset_index(drop=True)\n",
        "        clValue, counts = np.unique(subtable['play'], return_counts=True)\n",
        "        if len(counts) == 1: #Checking purity of subset\n",
        "            tree[node][value] = clValue[0]\n",
        "        else:\n",
        "            tree[node][value] = buildTree(subtable) # Calling the function recusively\n",
        "    return tree\n",
        "\n",
        "buildTree(df)\n"
      ],
      "metadata": {
        "id": "JwXn005Tqujg"
      },
      "execution_count": null,
      "outputs": []
    },
    {
      "cell_type": "code",
      "source": [
        "import numpy as np"
      ],
      "metadata": {
        "id": "al2P4l8SAYC9"
      },
      "execution_count": null,
      "outputs": []
    },
    {
      "cell_type": "code",
      "source": [
        " np.unique(df[\"outlook\"])"
      ],
      "metadata": {
        "colab": {
          "base_uri": "https://localhost:8080/"
        },
        "id": "1Iw-rDam41dQ",
        "outputId": "c2eedda8-44d7-45d9-c4f8-8eb9d6fc9a86"
      },
      "execution_count": null,
      "outputs": [
        {
          "output_type": "execute_result",
          "data": {
            "text/plain": [
              "array(['overcast', 'rainy', 'sunny'], dtype=object)"
            ]
          },
          "metadata": {},
          "execution_count": 20
        }
      ]
    },
    {
      "cell_type": "code",
      "source": [
        "tree = {}\n",
        "tree[node] = {}"
      ],
      "metadata": {
        "id": "Cd05NHr763re"
      },
      "execution_count": null,
      "outputs": []
    },
    {
      "cell_type": "code",
      "source": [
        "tree"
      ],
      "metadata": {
        "colab": {
          "base_uri": "https://localhost:8080/"
        },
        "id": "ct6pexNB7HPa",
        "outputId": "ac017e30-93a8-4640-fc62-1b47c5479852"
      },
      "execution_count": null,
      "outputs": [
        {
          "output_type": "execute_result",
          "data": {
            "text/plain": [
              "{'outlook': {}}"
            ]
          },
          "metadata": {},
          "execution_count": 23
        }
      ]
    },
    {
      "cell_type": "code",
      "source": [
        "hey = {}"
      ],
      "metadata": {
        "id": "Q14o4Zgs7IaN"
      },
      "execution_count": null,
      "outputs": []
    },
    {
      "cell_type": "code",
      "source": [
        "hey[\"2\"] = 2"
      ],
      "metadata": {
        "id": "zJvpvbUn7Oo_"
      },
      "execution_count": null,
      "outputs": []
    },
    {
      "cell_type": "code",
      "source": [
        "hey"
      ],
      "metadata": {
        "colab": {
          "base_uri": "https://localhost:8080/"
        },
        "id": "ZpD9Xyld7PWf",
        "outputId": "f8a1b0fb-30e7-4e40-cfcf-a4aa10a4949e"
      },
      "execution_count": null,
      "outputs": [
        {
          "output_type": "execute_result",
          "data": {
            "text/plain": [
              "{'2': 2}"
            ]
          },
          "metadata": {},
          "execution_count": 28
        }
      ]
    },
    {
      "cell_type": "code",
      "source": [],
      "metadata": {
        "id": "EtgpxFHe7Zds"
      },
      "execution_count": null,
      "outputs": []
    },
    {
      "cell_type": "markdown",
      "source": [
        "# WEEK 10 "
      ],
      "metadata": {
        "id": "9khnBwtz8Lh7"
      }
    },
    {
      "cell_type": "code",
      "source": [
        "import numpy as np\n",
        "import pandas as pd\n",
        "from collections import Counter\n",
        "from sklearn.tree import DecisionTreeClassifier\n"
      ],
      "metadata": {
        "id": "6VBoyCpe8OK9"
      },
      "execution_count": null,
      "outputs": []
    },
    {
      "cell_type": "code",
      "source": [
        "def bag(x,y):\n",
        "  n_samples = x.shape[0]\n",
        "  indices = np.random.choice(n_samples, size = n_samples, replace = True)\n",
        "  return x[indices], y[indices]\n",
        "\n",
        "def most_common_label(y):\n",
        "  counter = Counter(y)\n",
        "  most_common = counter.most_common(1)[0][0]\n",
        "  return most_common  \n",
        "\n",
        "class RandomForest:\n",
        "  def __init__(self , n_trees = 10 , min_samples_split = 2 ,max_depth = 100,\n",
        "               max_features = None):\n",
        "    self.n_trees = n_trees\n",
        "    self.min_samples_split = min_samples_split\n",
        "    self.max_depth = max_depth\n",
        "    self.max_features = max_features\n",
        "\n",
        "  def fit(self, x ,y):\n",
        "    self.trees = []\n",
        "    for _ in range(self.n_trees):\n",
        "      tree = DecisionTreeClassifier( min_samples_split = self.min_samples_split, max_depth = self.max_depth,\n",
        "                                      max_features= self.max_features) # object\n",
        "      x_sample, y_sample = bag(x,y)\n",
        "      tree.fit(x_sample, y_sample)\n",
        "      self.trees.append(tree)\n",
        "\n",
        "  def predict(self, x):\n",
        "    # x is an input for which we want a prediction (y) made by our model\n",
        "    tree_predict = np.array([tree.predict(x) for i in self.trees])   \n",
        "    tree_predict = np.swapaxes(tree_predict, 0,1)\n",
        "    y_pred = [most_common_label(i) for i in tree_predict]\n",
        "    return np.array(y_pred)\n",
        "\n",
        "  def accuracy(y_actual, y_pred):\n",
        "    accuracy = len(y_actual==y_pred)/len(y_actual)\n",
        "    return accuracy\n",
        "\n",
        "  def Grad_boost(x_train, x_test , y_train, y_test, boosting_rounds, learning_rate = 0.1)):\n",
        "    y_train_hat = np.repeat(np.mean(y_train) , len(y_train))\n",
        "    y_test_hat = np.repeat(np.mean(y_train), len(y_train))\n",
        "\n",
        "    residuals = y_train - y_train_hat\n",
        "    for i in range(boosting_rounds):\n",
        "      model = model.fit(x_train , residuals) #object\n",
        "      y_train_hat += learning_rate * model.predict(x_train) \n",
        "      y_test_hat += learning_rate * model.predict(x_test)\n",
        "      residuals = y_train - y_train_hat\n",
        "    return y_train_hat, y_test_hat \n",
        "\n",
        "\n"
      ],
      "metadata": {
        "id": "h0WQlFebHonC"
      },
      "execution_count": null,
      "outputs": []
    },
    {
      "cell_type": "code",
      "source": [],
      "metadata": {
        "colab": {
          "base_uri": "https://localhost:8080/"
        },
        "id": "TSuxI8DyIDQ4",
        "outputId": "e782fa7e-da45-4514-da1f-ab512cc4f8c9"
      },
      "execution_count": null,
      "outputs": [
        {
          "output_type": "stream",
          "name": "stdout",
          "text": [
            "Accuracy:  0.956140350877193\n"
          ]
        }
      ]
    },
    {
      "cell_type": "code",
      "source": [
        "cluster_count = 3\n",
        "\n",
        "from sklearn.datasets._samples_generator import make_blobs\n",
        "\n",
        "x, y_true = make_blobs(n_samples = 100,\n",
        "                        centers = cluster_count,\n",
        "                        cluster_std = 0.55,\n",
        "                        random_state = 0) \n"
      ],
      "metadata": {
        "id": "0-H9mzdaMGu5"
      },
      "execution_count": null,
      "outputs": []
    },
    {
      "cell_type": "code",
      "source": [
        "import matplotlib.pyplot as plt\n",
        "import seaborn as sns; sns.set()\n",
        "import numpy as np\n",
        "\n",
        "from scipy.spatial.distance import cdist\n",
        "from sklearn.datasets import make_blobs\n",
        "centroids = x[np.random.randint(0 , x.shape[0] , size = 3 )]\n"
      ],
      "metadata": {
        "id": "J74ySWN6qXld"
      },
      "execution_count": null,
      "outputs": []
    },
    {
      "cell_type": "code",
      "source": [
        "labels = np.argmin(cdist(X, centroids), axis=1)\n",
        "len(labels)\n",
        "labels"
      ],
      "metadata": {
        "colab": {
          "base_uri": "https://localhost:8080/"
        },
        "id": "-3z6famCqp1p",
        "outputId": "6ba46430-baa1-4beb-cb20-bacc740c6e2a"
      },
      "execution_count": null,
      "outputs": [
        {
          "output_type": "execute_result",
          "data": {
            "text/plain": [
              "array([0, 2, 0, 2, 2, 2, 1, 0, 0, 2, 2, 2, 0, 2, 1, 2, 1, 2, 0, 1, 1, 1,\n",
              "       0, 0, 0, 0, 0, 0, 1, 0, 2, 2, 0, 2, 1, 0, 2, 0, 0, 1, 0, 0, 0, 2,\n",
              "       2, 2, 0, 0, 1, 0, 0, 0, 2, 0, 0, 0, 0, 0, 2, 0, 0, 1, 1, 0, 1, 0,\n",
              "       2, 1, 0, 2, 0, 2, 2, 2, 0, 2, 2, 2, 1, 0, 2, 2, 0, 2, 0, 2, 2, 2,\n",
              "       0, 2, 0, 0, 0, 1, 1, 0, 2, 2, 0, 1])"
            ]
          },
          "metadata": {},
          "execution_count": 16
        }
      ]
    },
    {
      "cell_type": "code",
      "source": [
        "cdist(X, centroids)"
      ],
      "metadata": {
        "colab": {
          "base_uri": "https://localhost:8080/"
        },
        "id": "X7HDmctVqxXZ",
        "outputId": "d4d05847-3498-4dd1-8795-439666856d47"
      },
      "execution_count": null,
      "outputs": [
        {
          "output_type": "execute_result",
          "data": {
            "text/plain": [
              "array([[4.10459981, 4.91036964, 4.46508959],\n",
              "       [2.07091141, 3.21912189, 0.29115877],\n",
              "       [4.25888419, 5.088251  , 4.53852189],\n",
              "       [1.55755109, 2.70676437, 0.57970932],\n",
              "       [1.48355824, 2.69377169, 1.21383862],\n",
              "       [2.22271277, 3.40502166, 0.60365607],\n",
              "       [1.21129218, 0.        , 3.19366163],\n",
              "       [0.12811378, 1.18893672, 2.18762087],\n",
              "       [3.96959442, 4.83975917, 4.19519634],\n",
              "       [1.93329859, 3.12975634, 0.71344076],\n",
              "       [2.71870033, 3.92176245, 1.14690941],\n",
              "       [3.26357526, 4.44502975, 1.38554676],\n",
              "       [4.51058032, 5.18292396, 5.09776444],\n",
              "       [3.48416828, 4.66342249, 1.57861571],\n",
              "       [1.11171782, 0.30780487, 3.17634936],\n",
              "       [4.44003386, 5.39475452, 4.35179488],\n",
              "       [0.7785413 , 0.59015704, 2.86985752],\n",
              "       [1.57132437, 2.77108529, 1.39814396],\n",
              "       [0.94036665, 1.32368813, 2.04637375],\n",
              "       [1.12349013, 0.27053167, 3.00824276],\n",
              "       [1.64173093, 1.02042004, 3.73101559],\n",
              "       [0.97343927, 0.72994245, 3.06623033],\n",
              "       [1.07576389, 1.17780623, 3.07295189],\n",
              "       [1.51327823, 2.69999468, 1.53028328],\n",
              "       [2.96549632, 3.81768914, 3.46085359],\n",
              "       [3.71382932, 4.55775759, 4.05325517],\n",
              "       [3.2619545 , 4.06959007, 3.78409473],\n",
              "       [2.96964554, 3.79617409, 3.52345817],\n",
              "       [0.77307546, 0.44175278, 2.80228123],\n",
              "       [0.28948014, 1.26314474, 1.94482846],\n",
              "       [2.88987854, 4.02676001, 0.8536869 ],\n",
              "       [4.06127934, 5.08545845, 3.80526846],\n",
              "       [3.86092676, 4.5480634 , 4.51574729],\n",
              "       [3.02468638, 4.23579225, 1.60454122],\n",
              "       [0.77493492, 0.45556238, 2.74171429],\n",
              "       [0.87480185, 2.08536206, 1.38852894],\n",
              "       [2.41385096, 3.59206958, 0.66368748],\n",
              "       [3.47271753, 4.22709583, 4.06395066],\n",
              "       [3.73750264, 4.62342821, 3.96564582],\n",
              "       [1.13463802, 1.11231879, 2.42143514],\n",
              "       [0.77754355, 1.29966044, 2.68752545],\n",
              "       [4.18164481, 4.93092227, 4.65669196],\n",
              "       [3.55598466, 4.50146049, 3.65638201],\n",
              "       [2.51682638, 3.47989937, 0.69182856],\n",
              "       [2.51928805, 3.70557777, 0.80480665],\n",
              "       [1.97135824, 3.17261848, 0.7836022 ],\n",
              "       [3.61424817, 4.28322345, 4.34761921],\n",
              "       [3.52766252, 4.25964731, 4.15408791],\n",
              "       [1.099952  , 0.8648433 , 2.60820427],\n",
              "       [0.34717164, 0.93050696, 2.44329386],\n",
              "       [0.88333123, 2.06591273, 1.24613091],\n",
              "       [3.27964465, 4.11191474, 3.74099348],\n",
              "       [1.94386792, 3.11200497, 0.44198366],\n",
              "       [3.59553612, 4.50259283, 3.79626773],\n",
              "       [1.18063662, 1.350149  , 2.21943686],\n",
              "       [0.53452558, 1.10858393, 2.55325758],\n",
              "       [4.37412974, 5.21186437, 4.61572947],\n",
              "       [3.31173005, 4.2937081 , 3.35820444],\n",
              "       [2.30539601, 3.50769831, 0.88971549],\n",
              "       [5.05258225, 5.82288434, 5.36580264],\n",
              "       [2.90055467, 3.72893228, 3.46945685],\n",
              "       [1.21787535, 0.39583984, 3.0256217 ],\n",
              "       [1.09858631, 0.23447323, 3.1460867 ],\n",
              "       [0.44980572, 0.93305354, 2.26073878],\n",
              "       [1.32832292, 0.51819554, 3.067642  ],\n",
              "       [3.23498073, 4.1422141 , 3.51929626],\n",
              "       [2.73232761, 3.93587794, 1.1648602 ],\n",
              "       [1.47202376, 0.6141863 , 3.56118856],\n",
              "       [3.62226937, 4.40391943, 4.12444866],\n",
              "       [2.75999264, 3.96921614, 1.31488595],\n",
              "       [0.        , 1.21129218, 2.0961311 ],\n",
              "       [3.27095337, 4.45995519, 2.29354219],\n",
              "       [1.67819033, 2.63407506, 0.71834503],\n",
              "       [4.35799539, 5.35853002, 4.13539055],\n",
              "       [2.84280155, 3.80997579, 3.06946486],\n",
              "       [2.6766623 , 3.87848118, 1.71931252],\n",
              "       [2.31633172, 3.52434767, 1.01953658],\n",
              "       [1.91637741, 3.1119076 , 0.70211902],\n",
              "       [1.16592189, 0.67536263, 3.26175043],\n",
              "       [4.3147882 , 5.02225503, 4.85802576],\n",
              "       [2.0961311 , 3.19366163, 0.        ],\n",
              "       [2.45566361, 3.64272942, 0.77122243],\n",
              "       [3.41350698, 4.28039501, 3.75962462],\n",
              "       [1.83216394, 2.92339349, 0.27027014],\n",
              "       [2.67886223, 3.63809941, 2.98405263],\n",
              "       [2.63910781, 3.83282572, 0.96455999],\n",
              "       [2.45287941, 3.63248093, 0.70037894],\n",
              "       [1.80522526, 3.01608571, 1.1516944 ],\n",
              "       [3.80814472, 4.72549602, 3.93701703],\n",
              "       [2.06691276, 3.26597575, 0.76110719],\n",
              "       [3.07142433, 4.0464025 , 3.20475159],\n",
              "       [4.3207299 , 5.03008543, 4.85923184],\n",
              "       [0.20959709, 1.37438579, 1.89051585],\n",
              "       [1.09366983, 0.61881943, 2.78356865],\n",
              "       [1.30293252, 0.09355881, 3.27337614],\n",
              "       [0.14694731, 1.34993572, 2.00854895],\n",
              "       [2.29192962, 3.50303855, 1.24377856],\n",
              "       [2.59910614, 3.80983868, 1.43338293],\n",
              "       [1.06887116, 1.16645585, 3.06966383],\n",
              "       [1.21534717, 0.70650323, 2.83035519]])"
            ]
          },
          "metadata": {},
          "execution_count": 9
        }
      ]
    },
    {
      "cell_type": "markdown",
      "source": [
        "# WEEK 11"
      ],
      "metadata": {
        "id": "GxIM4XLeQvyv"
      }
    },
    {
      "cell_type": "code",
      "source": [
        "def fit(X, k):\n",
        "    # Take k random points from data set and take them as initial centroids\n",
        "    centroids = X[np.random.randint(0, X.shape[0], size=k)]\n",
        "\n",
        "    #calculate initial label for each data point\n",
        "    labels = np.argmin(cdist(X, centroids), axis=1)\n",
        "\n",
        "    for _iteration in range(10):\n",
        "        # copy labels for all points for comparing later\n",
        "        previous_labels = labels.copy()\n",
        "\n",
        "        # compute new centroids\n",
        "        centroids = np.array([np.mean(X[labels==r], axis=0) for r in range(k)])\n",
        "\n",
        "        # at last recalculate label for each data point\n",
        "        labels = np.argmin(cdist(X, centroids), axis=1)\n",
        "\n",
        "        # Check if labels of points are not changing\n",
        "        if all(labels == previous_labels):\n",
        "            break\n",
        "\n",
        "    return centroids, labels\n"
      ],
      "metadata": {
        "id": "1InHMDlrQxYM"
      },
      "execution_count": null,
      "outputs": []
    },
    {
      "cell_type": "code",
      "source": [
        "def fit(x, k):\n",
        "  centroid = x[np.random.randint(0 , x.shape[0], size = k)]\n",
        "  labels = np.argmin(cdist(x, centroid), axis = 1)\n",
        "\n",
        "  for i in range(10):\n",
        "    previous_labels = labels.copy()\n",
        "\n",
        "    centroid = np.array([np.mean(x[labels == i], axis = 0) for i in range(k)])\n",
        "\n",
        "    labels = np.argmin(cdist(x , centroid), axis = 1)\n",
        "\n",
        "    if all(labels == previous_labels):\n",
        "      break\n",
        "\n",
        "  return centroid , labels    \n"
      ],
      "metadata": {
        "id": "gdpTQlCV1ya_"
      },
      "execution_count": null,
      "outputs": []
    },
    {
      "cell_type": "code",
      "source": [],
      "metadata": {
        "id": "gQERD96m4Ckx"
      },
      "execution_count": null,
      "outputs": []
    },
    {
      "cell_type": "code",
      "source": [
        "fit(x, 3)"
      ],
      "metadata": {
        "colab": {
          "base_uri": "https://localhost:8080/"
        },
        "id": "PNgdnaVc3xHF",
        "outputId": "e91a0c89-96c1-4faf-92b1-bbde26b9f050"
      },
      "execution_count": null,
      "outputs": [
        {
          "output_type": "execute_result",
          "data": {
            "text/plain": [
              "(array([[ 0.84271525,  4.22277007],\n",
              "        [ 2.10149963,  1.14741919],\n",
              "        [-1.64169636,  2.85917392]]),\n",
              " array([1, 0, 1, 0, 0, 0, 2, 2, 1, 0, 0, 0, 1, 0, 2, 1, 2, 0, 2, 2, 2, 2,\n",
              "        2, 0, 1, 1, 1, 1, 2, 2, 0, 1, 1, 0, 2, 0, 0, 1, 1, 2, 2, 1, 1, 0,\n",
              "        0, 0, 1, 1, 2, 2, 0, 1, 0, 1, 2, 2, 1, 1, 0, 1, 1, 2, 2, 2, 2, 1,\n",
              "        0, 2, 1, 0, 2, 0, 0, 1, 1, 0, 0, 0, 2, 1, 0, 0, 1, 0, 1, 0, 0, 0,\n",
              "        1, 0, 1, 1, 2, 2, 2, 2, 0, 0, 2, 2]))"
            ]
          },
          "metadata": {},
          "execution_count": 31
        }
      ]
    },
    {
      "cell_type": "code",
      "source": [
        "centroids = np.array(x[np.mean([labels==r], axis=0) for r in range(3)])\n",
        "centroids"
      ],
      "metadata": {
        "colab": {
          "base_uri": "https://localhost:8080/"
        },
        "id": "ASOONj95wU3N",
        "outputId": "413b0ca8-38f9-437f-ab69-8a1c61acba78"
      },
      "execution_count": null,
      "outputs": [
        {
          "output_type": "execute_result",
          "data": {
            "text/plain": [
              "array([[ 0.97677291,  1.77827698],\n",
              "       [-1.97828227,  2.77526744],\n",
              "       [ 1.09644934,  4.07676089]])"
            ]
          },
          "metadata": {},
          "execution_count": 18
        }
      ]
    },
    {
      "cell_type": "code",
      "source": [],
      "metadata": {
        "id": "zElT1QZwwnGC"
      },
      "execution_count": null,
      "outputs": []
    }
  ]
}