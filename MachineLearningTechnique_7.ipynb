{
  "nbformat": 4,
  "nbformat_minor": 0,
  "metadata": {
    "colab": {
      "provenance": [],
      "collapsed_sections": [],
      "authorship_tag": "ABX9TyPMMX7tE8pY+ZfYzlHgJYS+",
      "include_colab_link": true
    },
    "kernelspec": {
      "name": "python3",
      "display_name": "Python 3"
    },
    "language_info": {
      "name": "python"
    }
  },
  "cells": [
    {
      "cell_type": "markdown",
      "metadata": {
        "id": "view-in-github",
        "colab_type": "text"
      },
      "source": [
        "<a href=\"https://colab.research.google.com/github/SejalJadhav1/python_/blob/main/MachineLearningTechnique_7.ipynb\" target=\"_parent\"><img src=\"https://colab.research.google.com/assets/colab-badge.svg\" alt=\"Open In Colab\"/></a>"
      ]
    },
    {
      "cell_type": "code",
      "execution_count": null,
      "metadata": {
        "id": "HQUXq7gshzQA"
      },
      "outputs": [],
      "source": [
        "import numpy as np\n",
        "import matplotlib.pyplot as plt\n",
        "import seaborn as sns\n",
        "plt.style.use(\"seaborn\")\n",
        "\n",
        "from scipy import stats\n",
        "from sklearn.datasets import make_classification, make_blobs\n",
        "from sklearn.model_selection import train_test_split\n",
        "from IPython.display import display , Math, Latex\n",
        "\n",
        "from keras.datasets import mnist\n"
      ]
    },
    {
      "cell_type": "code",
      "source": [
        "def EuclideanDistance(x1 , x2):\n",
        "  dist = np.sum((x1-x2)**2 , axis = 1)\n",
        "  return np.sqrt(dist)\n",
        "\n",
        "def ManhattanDistance(x1, x2):\n",
        "  dist = np.sum(np.abs(x1-x2) , axis =1)\n",
        "  return dist\n",
        "\n",
        "  \n",
        "\n"
      ],
      "metadata": {
        "id": "8RPr8XwxZ8x6"
      },
      "execution_count": null,
      "outputs": []
    },
    {
      "cell_type": "code",
      "source": [
        "class KNN:\n",
        "  def __init__(self , k , distance_metric = EuclideanDistance ,\n",
        "               task_type = \"Classification\"):\n",
        "    self.k = k\n",
        "    self.distance_metric = distance_metric\n",
        "    self.task_type = task_type\n",
        "\n",
        "  def fit(self, x , y):\n",
        "    self.x = x\n",
        "    self.y = y\n",
        "    \n",
        "  def predict(self , newExample): \n",
        "    distance_vector = self.distance_metric(self.x , newExample)\n",
        "    k_nearest_neighbours_indices = np.argpartition(distance_vector, \n",
        "                                                   self.k)[:self.k] \n",
        "    k_nearest_neighbours = self.y[k_nearest_neighbours_indices]\n",
        "\n",
        "    if self.task_type==\"Classification\":\n",
        "      label = stats.mode(k_nearest_neighbours)[0]\n",
        "    else:\n",
        "      label = k_nearest_neighbours.mean()\n",
        "    return label, k_nearest_neighbours_indices, k_nearest_neighbours\n",
        "\n",
        "  def eval(self, x_test, y_test):\n",
        "    if self.task_type == \"Classification\":\n",
        "      y_predicted = np.zeros(y_test.shape)\n",
        "      for i in range(y_test.shape[0]):\n",
        "        y_predicted[i],_= self.predict(x_test[i,:])\n",
        "      error = np.mean(y_test==y_predicted , axis = 0)\n",
        "\n",
        "    else:\n",
        "      y_predicted = np.zeros(y_test.shape)\n",
        "      for i in range(y_test.shape[0]):\n",
        "        y_predicted[i],_ = self.predict(x_test[i, :])\n",
        "      error_vector = y_predicted- y_test\n",
        "      error = np.sqrt((error_vector.T@error_vector)/error_vector.ravel().shape[0])\n",
        "    return error      \n",
        "\n",
        "\n",
        "\n",
        "\n",
        "\n",
        "    \n",
        "\n",
        "\n",
        "    "
      ],
      "metadata": {
        "id": "lHErCO-v5aje"
      },
      "execution_count": null,
      "outputs": []
    },
    {
      "cell_type": "code",
      "source": [
        "def softmax(z):\n",
        "  for i in z:\n",
        "    a = np.exp(i)\n",
        "    b = np.sum(np.exp(z))\n",
        "    print(a/b) "
      ],
      "metadata": {
        "id": "uY3NmNnyiHLC"
      },
      "execution_count": null,
      "outputs": []
    },
    {
      "cell_type": "code",
      "source": [
        "z=np.array([2.1, 4.8 ,3.5])\n"
      ],
      "metadata": {
        "id": "IG2vbLLtsog2"
      },
      "execution_count": null,
      "outputs": []
    },
    {
      "cell_type": "code",
      "source": [
        "softmax(z)"
      ],
      "metadata": {
        "colab": {
          "base_uri": "https://localhost:8080/"
        },
        "id": "HAVuXyBrswm-",
        "outputId": "c9f36cad-1fb3-41e1-f586-934540f9f507"
      },
      "execution_count": null,
      "outputs": [
        {
          "output_type": "stream",
          "name": "stdout",
          "text": [
            "0.05016320173374242\n",
            "0.7464149842587627\n",
            "0.20342181400749493\n"
          ]
        }
      ]
    },
    {
      "cell_type": "code",
      "source": [
        "x,y = make_blobs(n_samples =100 , n_features=2 ,\n",
        "                 centers = [[2,2], [5,5]],\n",
        "                 cluster_std = 1,\n",
        "                 random_state =12)\n"
      ],
      "metadata": {
        "id": "5rpK6AFysyEi"
      },
      "execution_count": null,
      "outputs": []
    },
    {
      "cell_type": "code",
      "source": [
        "x[:5,:]"
      ],
      "metadata": {
        "colab": {
          "base_uri": "https://localhost:8080/"
        },
        "id": "B4vnagxZIJR2",
        "outputId": "309c8767-2c5c-4bcb-9d3c-e856e7d44820"
      },
      "execution_count": null,
      "outputs": [
        {
          "output_type": "execute_result",
          "data": {
            "text/plain": [
              "array([[ 3.41019139,  4.02047408],\n",
              "       [ 3.99332371,  5.05002176],\n",
              "       [ 5.73591211,  5.43431875],\n",
              "       [ 3.16089069,  5.06377873],\n",
              "       [-0.09169121,  2.14655971]])"
            ]
          },
          "metadata": {},
          "execution_count": 162
        }
      ]
    },
    {
      "cell_type": "code",
      "source": [
        "np.unique(y)"
      ],
      "metadata": {
        "colab": {
          "base_uri": "https://localhost:8080/"
        },
        "id": "RbslLJHDIM1y",
        "outputId": "240c3453-ef3e-424b-9208-94f847b3a734"
      },
      "execution_count": null,
      "outputs": [
        {
          "output_type": "execute_result",
          "data": {
            "text/plain": [
              "array([0, 1])"
            ]
          },
          "metadata": {},
          "execution_count": 163
        }
      ]
    },
    {
      "cell_type": "code",
      "source": [
        "x.shape"
      ],
      "metadata": {
        "colab": {
          "base_uri": "https://localhost:8080/"
        },
        "id": "fLoCm_v5IXsp",
        "outputId": "b9a8457d-fb43-4629-dac4-b80f7b446415"
      },
      "execution_count": null,
      "outputs": [
        {
          "output_type": "execute_result",
          "data": {
            "text/plain": [
              "(100, 2)"
            ]
          },
          "metadata": {},
          "execution_count": 106
        }
      ]
    },
    {
      "cell_type": "code",
      "source": [
        "y.shape"
      ],
      "metadata": {
        "colab": {
          "base_uri": "https://localhost:8080/"
        },
        "id": "LU8iTbbcIyQ_",
        "outputId": "44eff2ee-5248-418d-f769-aaa497a6b8da"
      },
      "execution_count": null,
      "outputs": [
        {
          "output_type": "execute_result",
          "data": {
            "text/plain": [
              "(100,)"
            ]
          },
          "metadata": {},
          "execution_count": 107
        }
      ]
    },
    {
      "cell_type": "code",
      "source": [
        "plt.figure(figsize= (10,8))\n",
        "plt.grid(True)\n",
        "plt.scatter(x[:,0], x[:,1] , marker = \"o\", c = y , s =200\n",
        "            , edgecolor = \"k\" , alpha = 0.8)\n",
        "plt.show()\n"
      ],
      "metadata": {
        "colab": {
          "base_uri": "https://localhost:8080/",
          "height": 483
        },
        "id": "AzXE0EV5Iy7w",
        "outputId": "b77e6cce-7b9e-4c09-a589-fa0b9ca2a097"
      },
      "execution_count": null,
      "outputs": [
        {
          "output_type": "display_data",
          "data": {
            "text/plain": [
              "<Figure size 720x576 with 1 Axes>"
            ],
            "image/png": "[encoded data removed]"
          },
          "metadata": {}
        }
      ]
    },
    {
      "cell_type": "code",
      "source": [
        "newExample = np.array([2.2 , 2.2])\n",
        "model = KNN(3 , distance_metric = EuclideanDistance)\n",
        "\n",
        "model.fit(x,y)\n"
      ],
      "metadata": {
        "id": "MEdf-3P5JNOy"
      },
      "execution_count": null,
      "outputs": []
    },
    {
      "cell_type": "code",
      "source": [
        "newExample.shape"
      ],
      "metadata": {
        "colab": {
          "base_uri": "https://localhost:8080/"
        },
        "id": "EiF0QnrAJuo-",
        "outputId": "9ad2d8cb-76fb-4621-8fda-7d559e848afc"
      },
      "execution_count": null,
      "outputs": [
        {
          "output_type": "execute_result",
          "data": {
            "text/plain": [
              "(2,)"
            ]
          },
          "metadata": {},
          "execution_count": 110
        }
      ]
    },
    {
      "cell_type": "code",
      "source": [
        "newExample"
      ],
      "metadata": {
        "colab": {
          "base_uri": "https://localhost:8080/"
        },
        "id": "HSiCzoBsJxI5",
        "outputId": "d2d263be-27d8-4de3-cc1a-a4e9b1f46ef0"
      },
      "execution_count": null,
      "outputs": [
        {
          "output_type": "execute_result",
          "data": {
            "text/plain": [
              "array([2.2, 2.2])"
            ]
          },
          "metadata": {},
          "execution_count": 111
        }
      ]
    },
    {
      "cell_type": "code",
      "source": [
        "newExample.reshape(1,2)"
      ],
      "metadata": {
        "colab": {
          "base_uri": "https://localhost:8080/"
        },
        "id": "YxHJP_mQJ2xc",
        "outputId": "a50fb041-4d81-47cc-c45a-8d1ad846944f"
      },
      "execution_count": null,
      "outputs": [
        {
          "output_type": "execute_result",
          "data": {
            "text/plain": [
              "array([[2.2, 2.2]])"
            ]
          },
          "metadata": {},
          "execution_count": 112
        }
      ]
    },
    {
      "cell_type": "code",
      "source": [
        "newExample.shape"
      ],
      "metadata": {
        "colab": {
          "base_uri": "https://localhost:8080/"
        },
        "id": "NBiz_qtMJ7H9",
        "outputId": "3cc19212-50f0-40d8-d84a-2cb7e898f26f"
      },
      "execution_count": null,
      "outputs": [
        {
          "output_type": "execute_result",
          "data": {
            "text/plain": [
              "(2,)"
            ]
          },
          "metadata": {},
          "execution_count": 113
        }
      ]
    },
    {
      "cell_type": "code",
      "source": [
        "model.predict(newExample.reshape(1,2))"
      ],
      "metadata": {
        "colab": {
          "base_uri": "https://localhost:8080/"
        },
        "id": "KgvM_7JLJ9X5",
        "outputId": "b3fbe712-fbcd-44b3-fa33-95d697ac6267"
      },
      "execution_count": null,
      "outputs": [
        {
          "output_type": "execute_result",
          "data": {
            "text/plain": [
              "(array([0]), array([55, 50, 74]), array([0, 0, 1]))"
            ]
          },
          "metadata": {},
          "execution_count": 114
        }
      ]
    },
    {
      "cell_type": "code",
      "source": [
        "predicted_y_label , k_nearest_neighbours_indices , k_nearest_neighbours =model.predict(newExample.reshape(1,2))"
      ],
      "metadata": {
        "id": "ILYMxMeWKGtZ"
      },
      "execution_count": null,
      "outputs": []
    },
    {
      "cell_type": "code",
      "source": [
        "np.random.seed(42)"
      ],
      "metadata": {
        "id": "oN1bznbtKWyJ"
      },
      "execution_count": null,
      "outputs": []
    },
    {
      "cell_type": "code",
      "source": [
        "w1 = 3\n",
        "w0 =4\n",
        "n=100\n",
        "\n",
        "x = 2*np.random.rand(n,)\n",
        "y = w0 + w1 * x + np.random.randn(n,)\n",
        "\n"
      ],
      "metadata": {
        "id": "YTrne5WUYz7V"
      },
      "execution_count": null,
      "outputs": []
    },
    {
      "cell_type": "code",
      "source": [
        "x[:5]"
      ],
      "metadata": {
        "colab": {
          "base_uri": "https://localhost:8080/"
        },
        "id": "D3rsyFmdZLD-",
        "outputId": "425d4504-e94a-454f-e6fd-24da03dc0e3b"
      },
      "execution_count": null,
      "outputs": [
        {
          "output_type": "execute_result",
          "data": {
            "text/plain": [
              "array([0.74908024, 1.90142861, 1.46398788, 1.19731697, 0.31203728])"
            ]
          },
          "metadata": {},
          "execution_count": 118
        }
      ]
    },
    {
      "cell_type": "code",
      "source": [
        "y.shape"
      ],
      "metadata": {
        "colab": {
          "base_uri": "https://localhost:8080/"
        },
        "id": "JxFIaT-hZM9J",
        "outputId": "d1fbfca6-d432-46a3-ad97-8c458748c505"
      },
      "execution_count": null,
      "outputs": [
        {
          "output_type": "execute_result",
          "data": {
            "text/plain": [
              "(100,)"
            ]
          },
          "metadata": {},
          "execution_count": 119
        }
      ]
    },
    {
      "cell_type": "code",
      "source": [
        "x =x.reshape(-1,1)"
      ],
      "metadata": {
        "id": "URr1NnrnZQFs"
      },
      "execution_count": null,
      "outputs": []
    },
    {
      "cell_type": "code",
      "source": [
        "y= y.reshape(-1,1)"
      ],
      "metadata": {
        "id": "wsx030NfZUAV"
      },
      "execution_count": null,
      "outputs": []
    },
    {
      "cell_type": "code",
      "source": [
        "x.shape"
      ],
      "metadata": {
        "colab": {
          "base_uri": "https://localhost:8080/"
        },
        "id": "A2UkY2KpZkzR",
        "outputId": "4b1b5c43-c361-4e0c-d746-0e678a11114f"
      },
      "execution_count": null,
      "outputs": [
        {
          "output_type": "execute_result",
          "data": {
            "text/plain": [
              "(100, 1)"
            ]
          },
          "metadata": {},
          "execution_count": 122
        }
      ]
    },
    {
      "cell_type": "code",
      "source": [
        "y.shape"
      ],
      "metadata": {
        "colab": {
          "base_uri": "https://localhost:8080/"
        },
        "id": "uSElTI2SZq-W",
        "outputId": "340e34a3-125b-4b9d-ad9c-8ccd6b4f115e"
      },
      "execution_count": null,
      "outputs": [
        {
          "output_type": "execute_result",
          "data": {
            "text/plain": [
              "(100, 1)"
            ]
          },
          "metadata": {},
          "execution_count": 123
        }
      ]
    },
    {
      "cell_type": "code",
      "source": [
        "x_train, x_test, y_train, y_test = train_test_split(\n",
        "    x , y , test_size = 0.20, random_state = 42 \n",
        ")\n"
      ],
      "metadata": {
        "id": "ggWo11phZw-W"
      },
      "execution_count": null,
      "outputs": []
    },
    {
      "cell_type": "code",
      "source": [
        "x_train[:5]"
      ],
      "metadata": {
        "colab": {
          "base_uri": "https://localhost:8080/"
        },
        "id": "QJP1Q4ekk5nr",
        "outputId": "86d8f783-454c-47e5-9886-cde2819f1d42"
      },
      "execution_count": null,
      "outputs": [
        {
          "output_type": "execute_result",
          "data": {
            "text/plain": [
              "array([0.07188455, 0.31287409, 1.87230955, 1.73414464, 0.17069493])"
            ]
          },
          "metadata": {},
          "execution_count": 152
        }
      ]
    },
    {
      "cell_type": "code",
      "source": [
        "y_train[:5]"
      ],
      "metadata": {
        "colab": {
          "base_uri": "https://localhost:8080/"
        },
        "id": "8MHu_08Kk8uE",
        "outputId": "0e9c8223-51b9-4313-e976-e592c1e37461"
      },
      "execution_count": null,
      "outputs": [
        {
          "output_type": "execute_result",
          "data": {
            "text/plain": [
              "array([ 5.31443049,  4.46758395, 11.20294546, 10.01529603,  3.29789618])"
            ]
          },
          "metadata": {},
          "execution_count": 153
        }
      ]
    },
    {
      "cell_type": "code",
      "source": [
        "for i in range(16):\n",
        "  regg_model = KNN(i+1 , distance_metric = EuclideanDistance , \n",
        "                 task_type =\"Regression\")"
      ],
      "metadata": {
        "id": "4bwbdsxfaHPh"
      },
      "execution_count": null,
      "outputs": []
    },
    {
      "cell_type": "code",
      "source": [
        "regg_model.fit(x_train, y_train)"
      ],
      "metadata": {
        "id": "yTd1I9K3abtM"
      },
      "execution_count": null,
      "outputs": []
    },
    {
      "cell_type": "code",
      "source": [
        "y_test_predicted = np.zeros_like(y_test)\n",
        "y_test_predicted\n",
        "\n"
      ],
      "metadata": {
        "colab": {
          "base_uri": "https://localhost:8080/"
        },
        "id": "YLHOkJkOafhf",
        "outputId": "9693430f-f8f8-4beb-cf4d-64cdb4dcd175"
      },
      "execution_count": null,
      "outputs": [
        {
          "output_type": "execute_result",
          "data": {
            "text/plain": [
              "array([[0.],\n",
              "       [0.],\n",
              "       [0.],\n",
              "       [0.],\n",
              "       [0.],\n",
              "       [0.],\n",
              "       [0.],\n",
              "       [0.],\n",
              "       [0.],\n",
              "       [0.],\n",
              "       [0.],\n",
              "       [0.],\n",
              "       [0.],\n",
              "       [0.],\n",
              "       [0.],\n",
              "       [0.],\n",
              "       [0.],\n",
              "       [0.],\n",
              "       [0.],\n",
              "       [0.]])"
            ]
          },
          "metadata": {},
          "execution_count": 127
        }
      ]
    },
    {
      "cell_type": "code",
      "source": [
        "error_list = []\n",
        "for j in range(x_test.shape[0]):\n",
        "  y_test_predicted[j],_ = regg_model.predict(x_test[j,:])  \n",
        "error_list.append(np.sum(np.power(y_test-y_test_predicted , 2)))  "
      ],
      "metadata": {
        "colab": {
          "base_uri": "https://localhost:8080/",
          "height": 224
        },
        "id": "hzIM7cMpanH-",
        "outputId": "343df608-579e-4def-86f8-88ff974dda06"
      },
      "execution_count": null,
      "outputs": [
        {
          "output_type": "error",
          "ename": "ValueError",
          "evalue": "ignored",
          "traceback": [
            "\u001b[0;31m---------------------------------------------------------------------------\u001b[0m",
            "\u001b[0;31mValueError\u001b[0m                                Traceback (most recent call last)",
            "\u001b[0;32m<ipython-input-128-e36f346e88a6>\u001b[0m in \u001b[0;36m<module>\u001b[0;34m()\u001b[0m\n\u001b[1;32m      1\u001b[0m \u001b[0merror_list\u001b[0m \u001b[0;34m=\u001b[0m \u001b[0;34m[\u001b[0m\u001b[0;34m]\u001b[0m\u001b[0;34m\u001b[0m\u001b[0;34m\u001b[0m\u001b[0m\n\u001b[1;32m      2\u001b[0m \u001b[0;32mfor\u001b[0m \u001b[0mj\u001b[0m \u001b[0;32min\u001b[0m \u001b[0mrange\u001b[0m\u001b[0;34m(\u001b[0m\u001b[0mx_test\u001b[0m\u001b[0;34m.\u001b[0m\u001b[0mshape\u001b[0m\u001b[0;34m[\u001b[0m\u001b[0;36m0\u001b[0m\u001b[0;34m]\u001b[0m\u001b[0;34m)\u001b[0m\u001b[0;34m:\u001b[0m\u001b[0;34m\u001b[0m\u001b[0;34m\u001b[0m\u001b[0m\n\u001b[0;32m----> 3\u001b[0;31m   \u001b[0my_test_predicted\u001b[0m\u001b[0;34m[\u001b[0m\u001b[0mj\u001b[0m\u001b[0;34m]\u001b[0m\u001b[0;34m,\u001b[0m\u001b[0m_\u001b[0m \u001b[0;34m=\u001b[0m \u001b[0mregg_model\u001b[0m\u001b[0;34m.\u001b[0m\u001b[0mpredict\u001b[0m\u001b[0;34m(\u001b[0m\u001b[0mx_test\u001b[0m\u001b[0;34m[\u001b[0m\u001b[0mj\u001b[0m\u001b[0;34m,\u001b[0m\u001b[0;34m:\u001b[0m\u001b[0;34m]\u001b[0m\u001b[0;34m)\u001b[0m\u001b[0;34m\u001b[0m\u001b[0;34m\u001b[0m\u001b[0m\n\u001b[0m\u001b[1;32m      4\u001b[0m \u001b[0merror_list\u001b[0m\u001b[0;34m.\u001b[0m\u001b[0mappend\u001b[0m\u001b[0;34m(\u001b[0m\u001b[0mnp\u001b[0m\u001b[0;34m.\u001b[0m\u001b[0msum\u001b[0m\u001b[0;34m(\u001b[0m\u001b[0mnp\u001b[0m\u001b[0;34m.\u001b[0m\u001b[0mpower\u001b[0m\u001b[0;34m(\u001b[0m\u001b[0my_test\u001b[0m\u001b[0;34m-\u001b[0m\u001b[0my_test_predicted\u001b[0m \u001b[0;34m,\u001b[0m \u001b[0;36m2\u001b[0m\u001b[0;34m)\u001b[0m\u001b[0;34m)\u001b[0m\u001b[0;34m)\u001b[0m\u001b[0;34m\u001b[0m\u001b[0;34m\u001b[0m\u001b[0m\n",
            "\u001b[0;31mValueError\u001b[0m: too many values to unpack (expected 2)"
          ]
        }
      ]
    },
    {
      "cell_type": "code",
      "source": [
        "x = np.array([[-8 ,20] , [-12 , 11], [0 , 26] , [-5 , 5] , [-1 , 22] ,[-7 , 1] ])\n",
        "y = np.array([0.4 , 0.6 , 0.1 ,1 ,0.8 , -0.3])"
      ],
      "metadata": {
        "id": "bLzmsTcjcOWn"
      },
      "execution_count": null,
      "outputs": []
    },
    {
      "cell_type": "code",
      "source": [
        "my_model = KNN(k = 1 , task_type = \"Regression\" )"
      ],
      "metadata": {
        "id": "lowUn1viegxn"
      },
      "execution_count": null,
      "outputs": []
    },
    {
      "cell_type": "code",
      "source": [
        "my_model.fit(x , y)"
      ],
      "metadata": {
        "id": "iBd44oMIerR_"
      },
      "execution_count": null,
      "outputs": []
    },
    {
      "cell_type": "code",
      "source": [
        "newExample = np.array([-10 , 0])"
      ],
      "metadata": {
        "id": "LtI8YCBFfsUh"
      },
      "execution_count": null,
      "outputs": []
    },
    {
      "cell_type": "code",
      "source": [
        "my_model.predict(newExample)"
      ],
      "metadata": {
        "colab": {
          "base_uri": "https://localhost:8080/"
        },
        "id": "eXzyXRqhfv55",
        "outputId": "f6935aaa-b63e-4aa1-d59c-001c712d021d"
      },
      "execution_count": null,
      "outputs": [
        {
          "output_type": "execute_result",
          "data": {
            "text/plain": [
              "(-0.3, array([5]), array([-0.3]))"
            ]
          },
          "metadata": {},
          "execution_count": 133
        }
      ]
    },
    {
      "cell_type": "code",
      "source": [
        "x = np.array([3 , -45 , 96 , 56 , -3.9])\n",
        "y = np.array([33 , -102 , 7 , 0.7 , -10])\n"
      ],
      "metadata": {
        "id": "E3StKc52f16H"
      },
      "execution_count": null,
      "outputs": []
    },
    {
      "cell_type": "code",
      "source": [
        "EuclideanDistance(x , y)"
      ],
      "metadata": {
        "colab": {
          "base_uri": "https://localhost:8080/"
        },
        "id": "V6lHf1VpgMHs",
        "outputId": "feb850b2-7369-487e-d54c-c72865d01cde"
      },
      "execution_count": null,
      "outputs": [
        {
          "output_type": "execute_result",
          "data": {
            "text/plain": [
              "123.1474725684616"
            ]
          },
          "metadata": {},
          "execution_count": 141
        }
      ]
    },
    {
      "cell_type": "code",
      "source": [
        "def EuclideanDistance(x1 , x2):\n",
        "  dist = np.sum(np.square(x1 - x2))\n",
        "  return np.sqrt(dist)\n",
        "\n",
        "def ManhattanDistance(x1, x2):\n",
        "  dist = np.sum(np.abs(x1-x2) )\n",
        "  return dist\n",
        "\n",
        "  "
      ],
      "metadata": {
        "id": "3Co7A2sfgO-2"
      },
      "execution_count": null,
      "outputs": []
    },
    {
      "cell_type": "code",
      "source": [
        "ManhattanDistance(x,y)"
      ],
      "metadata": {
        "id": "UAKQqmXNgWa2",
        "colab": {
          "base_uri": "https://localhost:8080/"
        },
        "outputId": "e2a1a6a3-9f6b-4ec8-a123-964547f5e5c3"
      },
      "execution_count": null,
      "outputs": [
        {
          "output_type": "execute_result",
          "data": {
            "text/plain": [
              "237.4"
            ]
          },
          "metadata": {},
          "execution_count": 144
        }
      ]
    },
    {
      "cell_type": "code",
      "source": [
        "x = np.array([1 , 0 , 1])\n",
        "y = np.array([2 , 0 , 0])"
      ],
      "metadata": {
        "id": "LtFohW51huqz"
      },
      "execution_count": null,
      "outputs": []
    },
    {
      "cell_type": "code",
      "source": [
        "ManhattanDistance(x,y)"
      ],
      "metadata": {
        "colab": {
          "base_uri": "https://localhost:8080/"
        },
        "id": "zeQzJEReiMEs",
        "outputId": "58bb7c8c-9a4e-4881-eded-4dcd9d452b9f"
      },
      "execution_count": null,
      "outputs": [
        {
          "output_type": "execute_result",
          "data": {
            "text/plain": [
              "2"
            ]
          },
          "metadata": {},
          "execution_count": 149
        }
      ]
    },
    {
      "cell_type": "code",
      "source": [
        "import numpy as np\n",
        "from scipy import stats\n",
        "\n",
        "def EuclideanDistance(x1,x2):\n",
        "    dist = []\n",
        "    for row in x1:\n",
        "        dist.append(np.sum(np.square(row-x2)))\n",
        "    return np.array(dist)\n",
        "    \n",
        "def knn(class1,class2,x_new):\n",
        "    k=3\n",
        "    labels = np.concatenate((np.ones(class1.shape[0]) , np.repeat(2, class2.shape[0])))\n",
        "    dist_1 = EuclideanDistance(class1 , x_new)\n",
        "    dist_2 = EuclideanDistance(class2 , x_new)\n",
        "    dist_vec = np.concatenate((dist_1 , dist_2))\n",
        "    \n",
        "    k_nearest_neighbours_indices = np.argpartition(dist_vec, k)[:k]\n",
        "    k_nearest_neighbours = labels[k_nearest_neighbours_indices]\n",
        "    \n",
        "    label = stats.mode(k_nearest_neighbours)[0]\n",
        "    return label"
      ],
      "metadata": {
        "id": "9HnwMF5LiOCG"
      },
      "execution_count": null,
      "outputs": []
    },
    {
      "cell_type": "code",
      "source": [
        "class1 = np.random.rand(5,2)\n",
        "class1 = np.array(class1)\n",
        "class1.shape\n",
        "class1"
      ],
      "metadata": {
        "colab": {
          "base_uri": "https://localhost:8080/"
        },
        "id": "18J6j5pnlX2c",
        "outputId": "fe00cd68-d049-4b6b-a19e-46937f3bf4f7"
      },
      "execution_count": null,
      "outputs": [
        {
          "output_type": "execute_result",
          "data": {
            "text/plain": [
              "array([[0.14707348, 0.92658763],\n",
              "       [0.49211629, 0.25824439],\n",
              "       [0.45913576, 0.98003258],\n",
              "       [0.49261809, 0.32875161],\n",
              "       [0.63340085, 0.24014562]])"
            ]
          },
          "metadata": {},
          "execution_count": 188
        }
      ]
    },
    {
      "cell_type": "code",
      "source": [
        "class2 =np.random.rand(5,2)\n",
        "class2 = np.array(class2)\n",
        "class2"
      ],
      "metadata": {
        "colab": {
          "base_uri": "https://localhost:8080/"
        },
        "id": "kecgN3vHs-ui",
        "outputId": "b0e87954-1f0c-4ecd-8402-60a330b7f299"
      },
      "execution_count": null,
      "outputs": [
        {
          "output_type": "execute_result",
          "data": {
            "text/plain": [
              "array([[0.39224405, 0.43747492],\n",
              "       [0.90415869, 0.34825547],\n",
              "       [0.51398949, 0.78365301],\n",
              "       [0.39654278, 0.6220867 ],\n",
              "       [0.86236371, 0.94952062]])"
            ]
          },
          "metadata": {},
          "execution_count": 187
        }
      ]
    },
    {
      "cell_type": "code",
      "source": [
        "x_new = np.array([2 , 2])"
      ],
      "metadata": {
        "id": "YdgZ4B4VtBkA"
      },
      "execution_count": null,
      "outputs": []
    },
    {
      "cell_type": "code",
      "source": [
        "dist_1 = EuclideanDistance(class1 , x_new)\n",
        "dist_1"
      ],
      "metadata": {
        "colab": {
          "base_uri": "https://localhost:8080/"
        },
        "id": "ZVRthe6jte7Y",
        "outputId": "c8edf604-31ad-440d-9720-29296d328bc7"
      },
      "execution_count": null,
      "outputs": [
        {
          "output_type": "execute_result",
          "data": {
            "text/plain": [
              "array([4.58555081, 5.30742588, 3.41459617, 5.06527139, 4.96468067])"
            ]
          },
          "metadata": {},
          "execution_count": 199
        }
      ]
    },
    {
      "cell_type": "code",
      "source": [
        "dist_2 = EuclideanDistance(class2 , x_new)\n",
        "dist_2"
      ],
      "metadata": {
        "colab": {
          "base_uri": "https://localhost:8080/"
        },
        "id": "kmM_1rKWtquk",
        "outputId": "7900beab-1280-48e3-e60c-b1f027077a2d"
      },
      "execution_count": null,
      "outputs": [
        {
          "output_type": "execute_result",
          "data": {
            "text/plain": [
              "array([5.02636383, 3.92912817, 3.68772723, 4.46972011, 2.39772325])"
            ]
          },
          "metadata": {},
          "execution_count": 200
        }
      ]
    },
    {
      "cell_type": "code",
      "source": [
        "dist_vec = np.concatenate((dist_1 , dist_2))\n",
        "dist_vec"
      ],
      "metadata": {
        "colab": {
          "base_uri": "https://localhost:8080/"
        },
        "id": "DDybrbJ-uPXi",
        "outputId": "50b636c4-afdc-47e1-b77f-3eca4ba8bd19"
      },
      "execution_count": null,
      "outputs": [
        {
          "output_type": "execute_result",
          "data": {
            "text/plain": [
              "array([4.58555081, 5.30742588, 3.41459617, 5.06527139, 4.96468067,\n",
              "       5.02636383, 3.92912817, 3.68772723, 4.46972011, 2.39772325])"
            ]
          },
          "metadata": {},
          "execution_count": 202
        }
      ]
    },
    {
      "cell_type": "code",
      "source": [
        "k=3"
      ],
      "metadata": {
        "id": "fAQke7fWtEhs"
      },
      "execution_count": null,
      "outputs": []
    },
    {
      "cell_type": "code",
      "source": [
        "k_nearest_neighbours_indices = np.argpartition(dist_vec, k)[:k]\n",
        "k_nearest_neighbours_indices"
      ],
      "metadata": {
        "colab": {
          "base_uri": "https://localhost:8080/"
        },
        "id": "UnrVoskivAz_",
        "outputId": "c0c184ae-9018-475c-d9cf-9f47a7f39b04"
      },
      "execution_count": null,
      "outputs": [
        {
          "output_type": "execute_result",
          "data": {
            "text/plain": [
              "array([9, 2, 7])"
            ]
          },
          "metadata": {},
          "execution_count": 205
        }
      ]
    },
    {
      "cell_type": "code",
      "source": [
        "labels = np.concatenate((np.ones(class1.shape[0]) , np.repeat(2, class2.shape[0])))\n"
      ],
      "metadata": {
        "id": "sfVfyUuJtIQc"
      },
      "execution_count": null,
      "outputs": []
    },
    {
      "cell_type": "code",
      "source": [
        "labels"
      ],
      "metadata": {
        "colab": {
          "base_uri": "https://localhost:8080/"
        },
        "id": "RB5glbFbuZ8E",
        "outputId": "79a59990-3184-4e8d-c566-2514afa41645"
      },
      "execution_count": null,
      "outputs": [
        {
          "output_type": "execute_result",
          "data": {
            "text/plain": [
              "array([1., 1., 1., 1., 1., 2., 2., 2., 2., 2.])"
            ]
          },
          "metadata": {},
          "execution_count": 195
        }
      ]
    },
    {
      "cell_type": "code",
      "source": [
        "k_nearest_neighbours = labels[k_nearest_neighbours_indices]\n",
        "k_nearest_neighbours \n"
      ],
      "metadata": {
        "colab": {
          "base_uri": "https://localhost:8080/"
        },
        "id": "lbV3DQoOubBE",
        "outputId": "3dc44148-7e0f-4fd5-ce97-a9d9bec4c81c"
      },
      "execution_count": null,
      "outputs": [
        {
          "output_type": "execute_result",
          "data": {
            "text/plain": [
              "array([2., 1., 2.])"
            ]
          },
          "metadata": {},
          "execution_count": 207
        }
      ]
    },
    {
      "cell_type": "code",
      "source": [
        "label = stats.mode(k_nearest_neighbours)\n",
        "label[0]\n"
      ],
      "metadata": {
        "colab": {
          "base_uri": "https://localhost:8080/"
        },
        "id": "4TsfJZHVvKiI",
        "outputId": "dc4e6380-389e-4846-b7a9-7c6a46d537d9"
      },
      "execution_count": null,
      "outputs": [
        {
          "output_type": "execute_result",
          "data": {
            "text/plain": [
              "array([2.])"
            ]
          },
          "metadata": {},
          "execution_count": 209
        }
      ]
    },
    {
      "cell_type": "code",
      "source": [],
      "metadata": {
        "id": "5jO-UP_avZkK"
      },
      "execution_count": null,
      "outputs": []
    }
  ]
}