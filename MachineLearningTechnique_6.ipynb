{
  "nbformat": 4,
  "nbformat_minor": 0,
  "metadata": {
    "colab": {
      "provenance": [],
      "collapsed_sections": [],
      "authorship_tag": "ABX9TyOOvFLxuEVuAij4hJs1f3gn",
      "include_colab_link": true
    },
    "kernelspec": {
      "name": "python3",
      "display_name": "Python 3"
    },
    "language_info": {
      "name": "python"
    }
  },
  "cells": [
    {
      "cell_type": "markdown",
      "metadata": {
        "id": "view-in-github",
        "colab_type": "text"
      },
      "source": [
        "<a href=\"https://colab.research.google.com/github/SejalJadhav1/python_/blob/main/MachineLearningTechnique_6.ipynb\" target=\"_parent\"><img src=\"https://colab.research.google.com/assets/colab-badge.svg\" alt=\"Open In Colab\"/></a>"
      ]
    },
    {
      "cell_type": "code",
      "source": [
        "import numpy as np"
      ],
      "metadata": {
        "id": "BDXfbTvNgWFd"
      },
      "execution_count": null,
      "outputs": []
    },
    {
      "cell_type": "code",
      "execution_count": null,
      "metadata": {
        "id": "O57uu_tLBFen"
      },
      "outputs": [],
      "source": [
        "def fit(x , y):\n",
        "  n_samples , n_features = x.shape # no. of samples , no. of features\n",
        "  class_count = np.unique(y)\n",
        "  n_classes = len(class_count) # no. of classes\n",
        "\n",
        "  w = np.zeros((n_classes , n_features) , dtype = np.float64)\n",
        "  w_priors = np.zeros(n_classes , dtype = np.float64)\n",
        "\n",
        "  for c in range(n_classes):\n",
        "    #get examples with labels= c\n",
        "    xc = x[y==c] \n",
        "    # here for y == 0 examples will be matrix => [0,1] i.e our xc\n",
        "                                               # [0,1] \n",
        "    \n",
        "    w[c , :] = np.sum(xc , axis = 0) / xc.shape[0]\n",
        "    #  np.sum(xc , axis = 0)=> row wise sum of x1 and x2 for label y==0 i.e [0,2] from above\n",
        "    # divide by total number of examples with y ==0\n",
        "    #similarly, next for y==1\n",
        "\n",
        "    w_priors[c] = xc.shape[0]/float(n_samples)\n",
        "    #  P(y=0/1) is number of times y=0/1 divided by total no of examples (y)\n",
        "    \n",
        "  print(\"weight vector:\" , w) \n",
        "  print(\"prior:\" , w_priors)\n",
        "  return w , w_priors\n",
        "\n",
        "\n",
        "\n",
        "\n",
        "\n"
      ]
    },
    {
      "cell_type": "code",
      "source": [
        "n_samples , n_features = x.shape # no. of samples , no. of features\n",
        "class_count = np.unique(y)\n",
        "n_classes = len(class_count) # no. of classes\n",
        "\n",
        "w = np.zeros((n_classes , n_features) , dtype = np.float64)\n",
        "w_priors = np.zeros(n_classes , dtype = np.float64)"
      ],
      "metadata": {
        "id": "_FTNZPfDb9_8"
      },
      "execution_count": null,
      "outputs": []
    },
    {
      "cell_type": "code",
      "source": [
        "w"
      ],
      "metadata": {
        "colab": {
          "base_uri": "https://localhost:8080/"
        },
        "id": "1Zq7Y4pJcBdc",
        "outputId": "f93efaa0-1562-427d-99ba-d5eb8855be90"
      },
      "execution_count": null,
      "outputs": [
        {
          "output_type": "execute_result",
          "data": {
            "text/plain": [
              "array([[0., 0.],\n",
              "       [0., 0.]])"
            ]
          },
          "metadata": {},
          "execution_count": 84
        }
      ]
    },
    {
      "cell_type": "code",
      "source": [
        "w_priors"
      ],
      "metadata": {
        "colab": {
          "base_uri": "https://localhost:8080/"
        },
        "id": "5XSFuk8kcCyw",
        "outputId": "37407e8c-e3f1-455d-d85b-a092a0c1132e"
      },
      "execution_count": null,
      "outputs": [
        {
          "output_type": "execute_result",
          "data": {
            "text/plain": [
              "array([0., 0.])"
            ]
          },
          "metadata": {},
          "execution_count": 85
        }
      ]
    },
    {
      "cell_type": "code",
      "source": [
        "for c in range(n_classes):\n",
        "   xc = x[y==c] \n",
        "    \n"
      ],
      "metadata": {
        "id": "-EhTsnmZcHpb"
      },
      "execution_count": null,
      "outputs": []
    },
    {
      "cell_type": "code",
      "source": [
        "w"
      ],
      "metadata": {
        "colab": {
          "base_uri": "https://localhost:8080/"
        },
        "id": "YkYq59Opcjew",
        "outputId": "0d8116df-ff0f-4c98-b17a-11dc0d7fef44"
      },
      "execution_count": null,
      "outputs": [
        {
          "output_type": "execute_result",
          "data": {
            "text/plain": [
              "array([[0., 0.],\n",
              "       [1., 0.]])"
            ]
          },
          "metadata": {},
          "execution_count": 91
        }
      ]
    },
    {
      "cell_type": "code",
      "source": [
        "w[c , :] = np.sum(xc , axis = 0) / xc.shape[0]"
      ],
      "metadata": {
        "id": "fioZiZSwcaUz"
      },
      "execution_count": null,
      "outputs": []
    },
    {
      "cell_type": "code",
      "source": [
        "w[c , :]"
      ],
      "metadata": {
        "colab": {
          "base_uri": "https://localhost:8080/"
        },
        "id": "ypQIEHYgcdad",
        "outputId": "3244b6ea-bdbb-43cc-f350-582ad27a215a"
      },
      "execution_count": null,
      "outputs": [
        {
          "output_type": "execute_result",
          "data": {
            "text/plain": [
              "array([1., 0.])"
            ]
          },
          "metadata": {},
          "execution_count": 89
        }
      ]
    },
    {
      "cell_type": "code",
      "source": [
        "xc"
      ],
      "metadata": {
        "colab": {
          "base_uri": "https://localhost:8080/"
        },
        "id": "Xk0hCqDCcRsm",
        "outputId": "d1182b2e-3ca2-4629-c3dc-0f6212c46cc0"
      },
      "execution_count": null,
      "outputs": [
        {
          "output_type": "execute_result",
          "data": {
            "text/plain": [
              "array([[1, 0],\n",
              "       [1, 0]])"
            ]
          },
          "metadata": {},
          "execution_count": 92
        }
      ]
    },
    {
      "cell_type": "code",
      "source": [
        "np.sum(xc , axis = 0)"
      ],
      "metadata": {
        "colab": {
          "base_uri": "https://localhost:8080/"
        },
        "id": "HB0Ww65BcwnS",
        "outputId": "8a95121c-35eb-4193-9e88-0dcb9ddac092"
      },
      "execution_count": null,
      "outputs": [
        {
          "output_type": "execute_result",
          "data": {
            "text/plain": [
              "array([2, 0])"
            ]
          },
          "metadata": {},
          "execution_count": 93
        }
      ]
    },
    {
      "cell_type": "code",
      "source": [
        "x = np.array([[1,0] , [0,1] , [0,1] , [1,0]])\n",
        "x"
      ],
      "metadata": {
        "colab": {
          "base_uri": "https://localhost:8080/"
        },
        "id": "u3kZczRAf52n",
        "outputId": "a5d7a8b6-52ac-4ecd-e8d0-0d8f01b39ef2"
      },
      "execution_count": null,
      "outputs": [
        {
          "output_type": "execute_result",
          "data": {
            "text/plain": [
              "array([[1, 0],\n",
              "       [0, 1],\n",
              "       [0, 1],\n",
              "       [1, 0]])"
            ]
          },
          "metadata": {},
          "execution_count": 58
        }
      ]
    },
    {
      "cell_type": "code",
      "source": [
        "y = np.array([1 ,0 ,0 ,1])\n",
        "y"
      ],
      "metadata": {
        "colab": {
          "base_uri": "https://localhost:8080/"
        },
        "id": "6f8fg6wkgUqT",
        "outputId": "e4f7a283-91a0-4dd2-ac18-43374fcdf393"
      },
      "execution_count": null,
      "outputs": [
        {
          "output_type": "execute_result",
          "data": {
            "text/plain": [
              "array([1, 0, 0, 1])"
            ]
          },
          "metadata": {},
          "execution_count": 59
        }
      ]
    },
    {
      "cell_type": "code",
      "source": [
        "fit(x,y)"
      ],
      "metadata": {
        "colab": {
          "base_uri": "https://localhost:8080/"
        },
        "id": "45cx4LCCCOq5",
        "outputId": "18db4384-e07a-43ee-c710-78cde2754c40"
      },
      "execution_count": null,
      "outputs": [
        {
          "output_type": "stream",
          "name": "stdout",
          "text": [
            "weight vector: [[0. 1.]\n",
            " [1. 0.]]\n",
            "prior: [0.5 0.5]\n"
          ]
        },
        {
          "output_type": "execute_result",
          "data": {
            "text/plain": [
              "(array([[0., 1.],\n",
              "        [1., 0.]]), array([0.5, 0.5]))"
            ]
          },
          "metadata": {},
          "execution_count": 60
        }
      ]
    },
    {
      "cell_type": "code",
      "source": [
        "n_samples , n_features = x.shape"
      ],
      "metadata": {
        "id": "HvjKwA8DhLvf"
      },
      "execution_count": null,
      "outputs": []
    },
    {
      "cell_type": "code",
      "source": [
        "class_count = np.unique(y)\n",
        "n_classes = len(class_count)"
      ],
      "metadata": {
        "id": "hwrRXzkBggVz"
      },
      "execution_count": null,
      "outputs": []
    },
    {
      "cell_type": "code",
      "source": [
        "class_count"
      ],
      "metadata": {
        "colab": {
          "base_uri": "https://localhost:8080/"
        },
        "id": "YP9tsRS5gjTA",
        "outputId": "285262c8-a58d-422c-b52a-fc2a418e82dc"
      },
      "execution_count": null,
      "outputs": [
        {
          "output_type": "execute_result",
          "data": {
            "text/plain": [
              "array([0, 1])"
            ]
          },
          "metadata": {},
          "execution_count": 63
        }
      ]
    },
    {
      "cell_type": "code",
      "source": [
        "n_classes"
      ],
      "metadata": {
        "colab": {
          "base_uri": "https://localhost:8080/"
        },
        "id": "mx7qfGkig2GN",
        "outputId": "a4c45055-0b54-48dd-f96a-1cfe94df1691"
      },
      "execution_count": null,
      "outputs": [
        {
          "output_type": "execute_result",
          "data": {
            "text/plain": [
              "2"
            ]
          },
          "metadata": {},
          "execution_count": 64
        }
      ]
    },
    {
      "cell_type": "code",
      "source": [
        "w = np.zeros((n_classes , n_features) , dtype = np.float64)"
      ],
      "metadata": {
        "id": "PGDGhOTihDbN"
      },
      "execution_count": null,
      "outputs": []
    },
    {
      "cell_type": "code",
      "source": [
        "w"
      ],
      "metadata": {
        "colab": {
          "base_uri": "https://localhost:8080/"
        },
        "id": "8BljTiAthM3X",
        "outputId": "9f00c35f-05cd-4ba9-c085-2ee7ae659855"
      },
      "execution_count": null,
      "outputs": [
        {
          "output_type": "execute_result",
          "data": {
            "text/plain": [
              "array([[0., 0.],\n",
              "       [0., 0.]])"
            ]
          },
          "metadata": {},
          "execution_count": 66
        }
      ]
    },
    {
      "cell_type": "code",
      "source": [
        "w_priors = np.zeros(n_classes , dtype = np.float64)\n"
      ],
      "metadata": {
        "id": "xwE2BJGOhNWk"
      },
      "execution_count": null,
      "outputs": []
    },
    {
      "cell_type": "code",
      "source": [
        "w_priors"
      ],
      "metadata": {
        "colab": {
          "base_uri": "https://localhost:8080/"
        },
        "id": "2MhH7MJHhToX",
        "outputId": "e3ddfb25-2f64-4db8-db5c-fed5a1a76eda"
      },
      "execution_count": null,
      "outputs": [
        {
          "output_type": "execute_result",
          "data": {
            "text/plain": [
              "array([0., 0.])"
            ]
          },
          "metadata": {},
          "execution_count": 68
        }
      ]
    },
    {
      "cell_type": "code",
      "source": [
        "for c in range(n_classes):\n",
        "  print(c)"
      ],
      "metadata": {
        "colab": {
          "base_uri": "https://localhost:8080/"
        },
        "id": "TmgkAmSN2XB8",
        "outputId": "9cc7716e-101b-4e11-c533-de5edb260e16"
      },
      "execution_count": null,
      "outputs": [
        {
          "output_type": "stream",
          "name": "stdout",
          "text": [
            "0\n",
            "1\n"
          ]
        }
      ]
    },
    {
      "cell_type": "code",
      "source": [
        "y"
      ],
      "metadata": {
        "colab": {
          "base_uri": "https://localhost:8080/"
        },
        "id": "yQx2RaGy2iJ9",
        "outputId": "10855124-9264-4667-8957-d33aa1ca84b9"
      },
      "execution_count": null,
      "outputs": [
        {
          "output_type": "execute_result",
          "data": {
            "text/plain": [
              "array([1, 0, 0, 1])"
            ]
          },
          "metadata": {},
          "execution_count": 70
        }
      ]
    },
    {
      "cell_type": "code",
      "source": [
        "for c in range(n_classes):\n",
        "    #get egs with labels= c\n",
        "    print(y==c)"
      ],
      "metadata": {
        "colab": {
          "base_uri": "https://localhost:8080/"
        },
        "id": "nsamyZzRhmK2",
        "outputId": "fb457188-d7fb-4ea5-a592-6167f27bb54f"
      },
      "execution_count": null,
      "outputs": [
        {
          "output_type": "stream",
          "name": "stdout",
          "text": [
            "[False  True  True False]\n",
            "[ True False False  True]\n"
          ]
        }
      ]
    },
    {
      "cell_type": "code",
      "source": [
        "x"
      ],
      "metadata": {
        "colab": {
          "base_uri": "https://localhost:8080/"
        },
        "id": "prqxzi2_htI4",
        "outputId": "840414f7-621b-4b4f-8b75-1d6692861f06"
      },
      "execution_count": null,
      "outputs": [
        {
          "output_type": "execute_result",
          "data": {
            "text/plain": [
              "array([[1, 0],\n",
              "       [0, 1],\n",
              "       [0, 1],\n",
              "       [1, 0]])"
            ]
          },
          "metadata": {},
          "execution_count": 35
        }
      ]
    },
    {
      "cell_type": "code",
      "source": [
        "for c in range(n_classes):\n",
        "  #get egs with labels= c\n",
        "  xc = x[y==c]"
      ],
      "metadata": {
        "id": "j7j7h-dO2tA0"
      },
      "execution_count": null,
      "outputs": []
    },
    {
      "cell_type": "code",
      "source": [
        "xc"
      ],
      "metadata": {
        "colab": {
          "base_uri": "https://localhost:8080/"
        },
        "id": "cR_Q4YZ-29PP",
        "outputId": "9b6beda3-8435-42d4-ff23-5151aa764c10"
      },
      "execution_count": null,
      "outputs": [
        {
          "output_type": "execute_result",
          "data": {
            "text/plain": [
              "array([[1, 0],\n",
              "       [1, 0]])"
            ]
          },
          "metadata": {},
          "execution_count": 76
        }
      ]
    },
    {
      "cell_type": "code",
      "source": [
        "xc.shape"
      ],
      "metadata": {
        "colab": {
          "base_uri": "https://localhost:8080/"
        },
        "id": "EqH4X0hFj_-K",
        "outputId": "c2fdc24b-23c3-4db4-cd82-188c48c39d9c"
      },
      "execution_count": null,
      "outputs": [
        {
          "output_type": "execute_result",
          "data": {
            "text/plain": [
              "(2, 2)"
            ]
          },
          "metadata": {},
          "execution_count": 38
        }
      ]
    },
    {
      "cell_type": "code",
      "source": [
        "fit(x,y)"
      ],
      "metadata": {
        "colab": {
          "base_uri": "https://localhost:8080/"
        },
        "id": "Gz2JMbXZhuB2",
        "outputId": "1b11be89-767c-492f-ad5e-74400d6fad77"
      },
      "execution_count": null,
      "outputs": [
        {
          "output_type": "stream",
          "name": "stdout",
          "text": [
            "weight vector: [[0. 1.]\n",
            " [1. 0.]]\n",
            "prior: [0.5 0.5]\n"
          ]
        },
        {
          "output_type": "execute_result",
          "data": {
            "text/plain": [
              "(array([[0., 1.],\n",
              "        [1., 0.]]), array([0.5, 0.5]))"
            ]
          },
          "metadata": {},
          "execution_count": 39
        }
      ]
    },
    {
      "cell_type": "code",
      "source": [
        "w"
      ],
      "metadata": {
        "colab": {
          "base_uri": "https://localhost:8080/"
        },
        "id": "WmDpz2fx4UzH",
        "outputId": "68487254-9409-489f-914e-eff1afaedfdd"
      },
      "execution_count": null,
      "outputs": [
        {
          "output_type": "execute_result",
          "data": {
            "text/plain": [
              "array([[0., 0.],\n",
              "       [0., 0.]])"
            ]
          },
          "metadata": {},
          "execution_count": 40
        }
      ]
    },
    {
      "cell_type": "code",
      "source": [
        "w[c , :] = np.sum(xc , axis = 0) / xc.shape[0]\n"
      ],
      "metadata": {
        "id": "c5Zb8wIOiSA4"
      },
      "execution_count": null,
      "outputs": []
    },
    {
      "cell_type": "code",
      "source": [
        "w"
      ],
      "metadata": {
        "colab": {
          "base_uri": "https://localhost:8080/"
        },
        "id": "RtUmgJL3ag2k",
        "outputId": "35de45d9-cfd8-445a-b361-99d09f09e1ba"
      },
      "execution_count": null,
      "outputs": [
        {
          "output_type": "execute_result",
          "data": {
            "text/plain": [
              "array([[0., 1.],\n",
              "       [1., 0.]])"
            ]
          },
          "metadata": {},
          "execution_count": 82
        }
      ]
    },
    {
      "cell_type": "code",
      "source": [
        "w_priors[c] = xc.shape[0]/float(n_samples)\n"
      ],
      "metadata": {
        "id": "0-BYC-RW4Lai"
      },
      "execution_count": null,
      "outputs": []
    },
    {
      "cell_type": "code",
      "source": [
        "w_priors[c]"
      ],
      "metadata": {
        "colab": {
          "base_uri": "https://localhost:8080/"
        },
        "id": "z4pnNtej4tZY",
        "outputId": "aceb49c2-487f-4b6d-85c9-ae85b67cf80d"
      },
      "execution_count": null,
      "outputs": [
        {
          "output_type": "execute_result",
          "data": {
            "text/plain": [
              "0.5"
            ]
          },
          "metadata": {},
          "execution_count": 43
        }
      ]
    },
    {
      "cell_type": "code",
      "source": [
        "w_priors"
      ],
      "metadata": {
        "colab": {
          "base_uri": "https://localhost:8080/"
        },
        "id": "JBDmKcfJ42v7",
        "outputId": "008160bd-e2bd-4b9f-f6fe-750752fa8a7a"
      },
      "execution_count": null,
      "outputs": [
        {
          "output_type": "execute_result",
          "data": {
            "text/plain": [
              "array([0. , 0.5])"
            ]
          },
          "metadata": {},
          "execution_count": 44
        }
      ]
    },
    {
      "cell_type": "code",
      "source": [
        "xc.shape"
      ],
      "metadata": {
        "colab": {
          "base_uri": "https://localhost:8080/"
        },
        "id": "Y4VrE4F946q9",
        "outputId": "efac4d4d-f24e-45d3-e439-4a3100732976"
      },
      "execution_count": null,
      "outputs": [
        {
          "output_type": "execute_result",
          "data": {
            "text/plain": [
              "(2, 2)"
            ]
          },
          "metadata": {},
          "execution_count": 45
        }
      ]
    },
    {
      "cell_type": "code",
      "source": [],
      "metadata": {
        "id": "fPisGstl5D3u"
      },
      "execution_count": null,
      "outputs": []
    },
    {
      "cell_type": "markdown",
      "source": [
        "## IMPLEMENTATION "
      ],
      "metadata": {
        "id": "wWGj0OJqYUQs"
      }
    },
    {
      "cell_type": "code",
      "source": [
        "class BernoulliNB(object):\n",
        "  def __init__(self , alpha =1.0):\n",
        "    self.alpha= alpha\n",
        "  \n",
        "  def fit(self, x, y):\n",
        "    n_samples , n_features = x.shape\n",
        "    class_count = np.unique(y)\n",
        "    n_classes = len(class_count)\n",
        "\n",
        "    self.w = np.zeros((n_classes , n_features) , dtype = np.float64)\n",
        "    self.w_priors = np.zeros(n_classes , dtype = np.float64)\n",
        "\n",
        "    for c in range(n_classes):\n",
        "      xc = x[y==c] \n",
        "      self.w[c , :] = (np.sum(xc , axis = 0) + self.alpha)/ (xc.shape[0] + 2 * self.alpha)\n",
        "      self.w_priors[c] = (xc.shape[0] + self.alpha)/( float(n_samples)+ n_classes * self.alpha)\n",
        "    print(\"class conditional density:\" , self.w) \n",
        "    print(\"prior:\" , self.w_priors)\n",
        " \n",
        "  def log_likelihood_prior_product(self , x):\n",
        "    return x@(np.log(self.w).T) + (1-x)@np.log((1-self.w).T) +np.log(self.w_priors)\n",
        "\n",
        "  def predict_proba(self , x):\n",
        "    q = self.log_likelihood_prior_product(x)\n",
        "    return np.exp(q)/np.expand_dims(np.sum(np.exp(q) , axis = 1) , axis =1)\n",
        "                        \n",
        "  def predict(self, x):                                              \n",
        "    return np.argmax(self.log_likelihood_prior_product(x) , axis = 1)\n",
        "\n",
        "\n",
        "\n"
      ],
      "metadata": {
        "id": "klhW4wJP5RZD"
      },
      "execution_count": null,
      "outputs": []
    },
    {
      "cell_type": "code",
      "source": [
        "bernoulli_nb = BernoulliNB()"
      ],
      "metadata": {
        "id": "hQnUb48nfeGO"
      },
      "execution_count": null,
      "outputs": []
    },
    {
      "cell_type": "code",
      "source": [],
      "metadata": {
        "id": "YyUYo1zR9iyR"
      },
      "execution_count": null,
      "outputs": []
    },
    {
      "cell_type": "code",
      "source": [
        "bernoulli_nb.fit(x,y)"
      ],
      "metadata": {
        "colab": {
          "base_uri": "https://localhost:8080/"
        },
        "id": "6n2m48wog26S",
        "outputId": "c70e05ef-f912-4f95-a31b-624ca8e4580a"
      },
      "execution_count": null,
      "outputs": [
        {
          "output_type": "stream",
          "name": "stdout",
          "text": [
            "class conditional density: [[0.5    0.5   ]\n",
            " [0.4325 1.82  ]]\n",
            "prior: [0.16666667 0.5       ]\n"
          ]
        }
      ]
    },
    {
      "cell_type": "code",
      "source": [
        "bernoulli_nb.predict(x)"
      ],
      "metadata": {
        "colab": {
          "base_uri": "https://localhost:8080/"
        },
        "id": "4c2Jyr0Jg5S1",
        "outputId": "1c696425-7431-49ef-b044-4722f2e111ca"
      },
      "execution_count": null,
      "outputs": [
        {
          "output_type": "execute_result",
          "data": {
            "text/plain": [
              "array([1, 0, 0, 1])"
            ]
          },
          "metadata": {},
          "execution_count": 49
        }
      ]
    },
    {
      "cell_type": "code",
      "source": [
        "bernoulli_nb.log_likelihood_prior_product(x)"
      ],
      "metadata": {
        "colab": {
          "base_uri": "https://localhost:8080/"
        },
        "id": "qpEFKCNjjbo1",
        "outputId": "257ea077-ef4c-4ed5-d8cb-a280f699b1e8"
      },
      "execution_count": null,
      "outputs": [
        {
          "output_type": "execute_result",
          "data": {
            "text/plain": [
              "array([[-3.4657359 , -1.26851133],\n",
              "       [-1.26851133, -3.4657359 ],\n",
              "       [-1.26851133, -3.4657359 ],\n",
              "       [-3.4657359 , -1.26851133]])"
            ]
          },
          "metadata": {},
          "execution_count": 50
        }
      ]
    },
    {
      "cell_type": "code",
      "source": [
        "bernoulli_nb.predict_proba(x)"
      ],
      "metadata": {
        "colab": {
          "base_uri": "https://localhost:8080/"
        },
        "id": "vmFfVNjWjg9K",
        "outputId": "1edb41df-d787-43ed-ac5c-992dbe7a4d64"
      },
      "execution_count": null,
      "outputs": [
        {
          "output_type": "execute_result",
          "data": {
            "text/plain": [
              "array([[0.1, 0.9],\n",
              "       [0.9, 0.1],\n",
              "       [0.9, 0.1],\n",
              "       [0.1, 0.9]])"
            ]
          },
          "metadata": {},
          "execution_count": 51
        }
      ]
    },
    {
      "cell_type": "markdown",
      "source": [
        "## MULTICLASS CLASSIFICATION **SETUP**"
      ],
      "metadata": {
        "id": "RGokmMpsjxre"
      }
    },
    {
      "cell_type": "code",
      "source": [
        "x =np.array([[1, 0 ] , [0 , 1 ], [0 , 1 ], [1, 0 ], [1, 1 ] , [1, 1]])\n",
        "y = np.array([1 , 0 , 0 , 1 , 2 ,2])"
      ],
      "metadata": {
        "id": "IuOYtoIAj0cG"
      },
      "execution_count": null,
      "outputs": []
    },
    {
      "cell_type": "code",
      "source": [
        "bernoulli_nb = BernoulliNB()"
      ],
      "metadata": {
        "id": "N0_hnjeBkCl5"
      },
      "execution_count": null,
      "outputs": []
    },
    {
      "cell_type": "code",
      "source": [
        "bernoulli_nb.fit(x , y)"
      ],
      "metadata": {
        "colab": {
          "base_uri": "https://localhost:8080/"
        },
        "id": "xQY6Dc0FkHP9",
        "outputId": "bf668eb6-95f5-426c-e704-844e28b48b94"
      },
      "execution_count": null,
      "outputs": [
        {
          "output_type": "stream",
          "name": "stdout",
          "text": [
            "class conditional density: [[0.25 0.75]\n",
            " [0.75 0.25]\n",
            " [0.75 0.75]]\n",
            "prior: [0.33333333 0.33333333 0.33333333]\n"
          ]
        }
      ]
    },
    {
      "cell_type": "code",
      "source": [
        "bernoulli_nb.predict(x)"
      ],
      "metadata": {
        "colab": {
          "base_uri": "https://localhost:8080/"
        },
        "id": "bP86-UDckKoL",
        "outputId": "414ce078-6aca-4f61-db0e-825fff97b335"
      },
      "execution_count": null,
      "outputs": [
        {
          "output_type": "execute_result",
          "data": {
            "text/plain": [
              "array([1, 0, 0, 1, 2, 2])"
            ]
          },
          "metadata": {},
          "execution_count": 55
        }
      ]
    },
    {
      "cell_type": "code",
      "source": [
        "bernoulli_nb.log_likelihood_prior_product(x)"
      ],
      "metadata": {
        "colab": {
          "base_uri": "https://localhost:8080/"
        },
        "id": "mEMFtyLDlQw5",
        "outputId": "d7d7e920-8db9-4ffd-c965-858cf58a9b11"
      },
      "execution_count": null,
      "outputs": [
        {
          "output_type": "execute_result",
          "data": {
            "text/plain": [
              "array([[-3.87120101, -1.67397643, -2.77258872],\n",
              "       [-1.67397643, -3.87120101, -2.77258872],\n",
              "       [-1.67397643, -3.87120101, -2.77258872],\n",
              "       [-3.87120101, -1.67397643, -2.77258872],\n",
              "       [-2.77258872, -2.77258872, -1.67397643],\n",
              "       [-2.77258872, -2.77258872, -1.67397643]])"
            ]
          },
          "metadata": {},
          "execution_count": 56
        }
      ]
    },
    {
      "cell_type": "code",
      "source": [
        "bernoulli_nb.predict_proba(x)"
      ],
      "metadata": {
        "colab": {
          "base_uri": "https://localhost:8080/"
        },
        "id": "aGPnXelWlXkK",
        "outputId": "23caf4cd-d27c-41fe-9120-a2dc1c05ec85"
      },
      "execution_count": null,
      "outputs": [
        {
          "output_type": "execute_result",
          "data": {
            "text/plain": [
              "array([[0.07692308, 0.69230769, 0.23076923],\n",
              "       [0.69230769, 0.07692308, 0.23076923],\n",
              "       [0.69230769, 0.07692308, 0.23076923],\n",
              "       [0.07692308, 0.69230769, 0.23076923],\n",
              "       [0.2       , 0.2       , 0.6       ],\n",
              "       [0.2       , 0.2       , 0.6       ]])"
            ]
          },
          "metadata": {},
          "execution_count": 57
        }
      ]
    },
    {
      "cell_type": "code",
      "source": [
        "x = np.array([[0.25 , 3.14] , [0.48 , 8.96] , [0.75 , 9] , [0.55 , 6.50],\n",
        "              [0 , 10] , [1 , 4.50]])\n",
        "y= np.array([1,1,1,2,2,2])"
      ],
      "metadata": {
        "id": "-1bRFg8lOmf-"
      },
      "execution_count": null,
      "outputs": []
    },
    {
      "cell_type": "code",
      "source": [
        "sum = GaussianNB()\n",
        "sum.fit(x,y)"
      ],
      "metadata": {
        "colab": {
          "base_uri": "https://localhost:8080/"
        },
        "id": "1C40Tg25PPPJ",
        "outputId": "24e16d73-c20f-4df3-fcf0-4aa643d04a2d"
      },
      "execution_count": null,
      "outputs": [
        {
          "output_type": "stream",
          "name": "stdout",
          "text": [
            "mean : [[0.49333333 7.03333333]\n",
            " [0.51666667 7.        ]]\n",
            "var : [[0.04175556 7.57928889]\n",
            " [0.16722222 5.16666667]]\n",
            "priors : [0.5 0.5]\n"
          ]
        }
      ]
    },
    {
      "cell_type": "code",
      "source": [
        "fit( x ,y)"
      ],
      "metadata": {
        "id": "Rt2C-vvzPLYM"
      },
      "execution_count": null,
      "outputs": []
    },
    {
      "cell_type": "code",
      "source": [
        "class GaussianNB(object):\n",
        "  def fit(self , x ,y):\n",
        "    n_samples , n_features = x.shape\n",
        "    self.classes = np.unique(y)\n",
        "    n_classes = len(self.classes)\n",
        "\n",
        "    self.mean = np.zeros((n_classes , n_features) , dtype = np.float64)\n",
        "    self.var = np.zeros((n_classes, n_features) , dtype = np.float64)\n",
        "    self.priors = np.zeros(n_classes , dtype = np.float64)\n",
        "\n",
        "    for idx , c in enumerate(self.classes):\n",
        "      xc = x[y==c]\n",
        "      self.mean[idx, :] = xc.mean(axis = 0)\n",
        "\n",
        "      self.var[idx, :] = xc.var(axis=0)\n",
        "\n",
        "      self.priors[idx] = xc.shape[0]/float(n_samples)\n",
        "\n",
        "    print(\"mean :\" , self.mean)\n",
        "    print(\"var :\" , self.var)\n",
        "    print(\"priors :\" , self.priors)\n",
        "\n",
        "  def cal_pdf(self , class_idx , x):\n",
        "    mean = self.mean[class_idx]\n",
        "    var = np.diag(self.var[class_idx])\n",
        "    z = np.power(2 * np.pi , x.shape[0]/2) * np.power(np.linalg.det(var) , 1/2)\n",
        "    return (1/z) * np.exp(-(1/2)* (x-mean).T @ (np.linalg.inv(var)) @ (x - mean))\n",
        "    \n",
        "  def cal_likelihood_prior_product(self, x):\n",
        "    self.likelihood_prior_product = np.zeros((x.shape[0] , len(self.classes)) , dtype = np.float64)\n",
        "\n",
        "    for x_idx , x in enumerate(x):\n",
        "      for idx , c in enumerate(self.classes):\n",
        "        self.likelihood_prior_product[x_idx , c] = (\n",
        "        np.log(self.cal_pdf(idx , x))+ np.log(self.priors[idx]))\n",
        "\n",
        "  def predict(self , x):\n",
        "    self.cal_likelihood_prior_product(x)\n",
        "    return np.argmax(self.likelihood_prior_product , axis = 1)\n",
        "\n",
        "  def predict_proba(self, x):\n",
        "    self.cal_likelihood_prior_product(x)\n",
        "    return np.exp(self.likelihood_prior_product)/np.expand_dims(\n",
        "        np.sum(np.exp(self.likelihood_prior_product), axis = 1) , axis = 1)\n",
        "\n"
      ],
      "metadata": {
        "id": "AuEFtb-IlnnO"
      },
      "execution_count": null,
      "outputs": []
    },
    {
      "cell_type": "code",
      "source": [
        "import numpy as np\n",
        "x = np.array([[0.25 , 3.14] , [0.48 , 8.96] , [0.25 ,8.96] , [0.48 , 3.14]])\n",
        "y = np.array([2,1,1,2])"
      ],
      "metadata": {
        "id": "BiFWKMMQ-u-Z"
      },
      "execution_count": null,
      "outputs": []
    },
    {
      "cell_type": "code",
      "source": [
        "gaussian_nb = GaussianNB()\n",
        "gaussian_nb.fit(x , y)\n",
        "gaussian_nb.cal_pdf(2, x)"
      ],
      "metadata": {
        "colab": {
          "base_uri": "https://localhost:8080/",
          "height": 409
        },
        "id": "vdhWjd8G-xGc",
        "outputId": "191853d7-ca7e-44c8-b534-008c91f79f7a"
      },
      "execution_count": null,
      "outputs": [
        {
          "output_type": "stream",
          "name": "stdout",
          "text": [
            "mean : [[0.365 8.96 ]\n",
            " [0.365 3.14 ]]\n",
            "var : [[0.013225 0.      ]\n",
            " [0.013225 0.      ]]\n",
            "priors : [0.5 0.5]\n"
          ]
        },
        {
          "output_type": "error",
          "ename": "IndexError",
          "evalue": "ignored",
          "traceback": [
            "\u001b[0;31m---------------------------------------------------------------------------\u001b[0m",
            "\u001b[0;31mIndexError\u001b[0m                                Traceback (most recent call last)",
            "\u001b[0;32m<ipython-input-20-190fa10a90dd>\u001b[0m in \u001b[0;36m<module>\u001b[0;34m()\u001b[0m\n\u001b[1;32m      1\u001b[0m \u001b[0mgaussian_nb\u001b[0m \u001b[0;34m=\u001b[0m \u001b[0mGaussianNB\u001b[0m\u001b[0;34m(\u001b[0m\u001b[0;34m)\u001b[0m\u001b[0;34m\u001b[0m\u001b[0;34m\u001b[0m\u001b[0m\n\u001b[1;32m      2\u001b[0m \u001b[0mgaussian_nb\u001b[0m\u001b[0;34m.\u001b[0m\u001b[0mfit\u001b[0m\u001b[0;34m(\u001b[0m\u001b[0mx\u001b[0m \u001b[0;34m,\u001b[0m \u001b[0my\u001b[0m\u001b[0;34m)\u001b[0m\u001b[0;34m\u001b[0m\u001b[0;34m\u001b[0m\u001b[0m\n\u001b[0;32m----> 3\u001b[0;31m \u001b[0mgaussian_nb\u001b[0m\u001b[0;34m.\u001b[0m\u001b[0mcal_pdf\u001b[0m\u001b[0;34m(\u001b[0m\u001b[0;36m2\u001b[0m\u001b[0;34m,\u001b[0m \u001b[0mx\u001b[0m\u001b[0;34m)\u001b[0m\u001b[0;34m\u001b[0m\u001b[0;34m\u001b[0m\u001b[0m\n\u001b[0m",
            "\u001b[0;32m<ipython-input-11-34a0e7a74261>\u001b[0m in \u001b[0;36mcal_pdf\u001b[0;34m(self, class_idx, x)\u001b[0m\n\u001b[1;32m     22\u001b[0m \u001b[0;34m\u001b[0m\u001b[0m\n\u001b[1;32m     23\u001b[0m   \u001b[0;32mdef\u001b[0m \u001b[0mcal_pdf\u001b[0m\u001b[0;34m(\u001b[0m\u001b[0mself\u001b[0m \u001b[0;34m,\u001b[0m \u001b[0mclass_idx\u001b[0m \u001b[0;34m,\u001b[0m \u001b[0mx\u001b[0m\u001b[0;34m)\u001b[0m\u001b[0;34m:\u001b[0m\u001b[0;34m\u001b[0m\u001b[0;34m\u001b[0m\u001b[0m\n\u001b[0;32m---> 24\u001b[0;31m     \u001b[0mmean\u001b[0m \u001b[0;34m=\u001b[0m \u001b[0mself\u001b[0m\u001b[0;34m.\u001b[0m\u001b[0mmean\u001b[0m\u001b[0;34m[\u001b[0m\u001b[0mclass_idx\u001b[0m\u001b[0;34m]\u001b[0m\u001b[0;34m\u001b[0m\u001b[0;34m\u001b[0m\u001b[0m\n\u001b[0m\u001b[1;32m     25\u001b[0m     \u001b[0mvar\u001b[0m \u001b[0;34m=\u001b[0m \u001b[0mnp\u001b[0m\u001b[0;34m.\u001b[0m\u001b[0mdiag\u001b[0m\u001b[0;34m(\u001b[0m\u001b[0mself\u001b[0m\u001b[0;34m.\u001b[0m\u001b[0mvar\u001b[0m\u001b[0;34m[\u001b[0m\u001b[0mclass_idx\u001b[0m\u001b[0;34m]\u001b[0m\u001b[0;34m)\u001b[0m\u001b[0;34m\u001b[0m\u001b[0;34m\u001b[0m\u001b[0m\n\u001b[1;32m     26\u001b[0m     \u001b[0mz\u001b[0m \u001b[0;34m=\u001b[0m \u001b[0mnp\u001b[0m\u001b[0;34m.\u001b[0m\u001b[0mpower\u001b[0m\u001b[0;34m(\u001b[0m\u001b[0;36m2\u001b[0m \u001b[0;34m*\u001b[0m \u001b[0mnp\u001b[0m\u001b[0;34m.\u001b[0m\u001b[0mpi\u001b[0m \u001b[0;34m,\u001b[0m \u001b[0mx\u001b[0m\u001b[0;34m.\u001b[0m\u001b[0mshape\u001b[0m\u001b[0;34m[\u001b[0m\u001b[0;36m0\u001b[0m\u001b[0;34m]\u001b[0m\u001b[0;34m/\u001b[0m\u001b[0;36m2\u001b[0m\u001b[0;34m)\u001b[0m \u001b[0;34m*\u001b[0m \u001b[0mnp\u001b[0m\u001b[0;34m.\u001b[0m\u001b[0mpower\u001b[0m\u001b[0;34m(\u001b[0m\u001b[0mnp\u001b[0m\u001b[0;34m.\u001b[0m\u001b[0mlinalg\u001b[0m\u001b[0;34m.\u001b[0m\u001b[0mdet\u001b[0m\u001b[0;34m(\u001b[0m\u001b[0mvar\u001b[0m\u001b[0;34m)\u001b[0m \u001b[0;34m,\u001b[0m \u001b[0;36m1\u001b[0m\u001b[0;34m/\u001b[0m\u001b[0;36m2\u001b[0m\u001b[0;34m)\u001b[0m\u001b[0;34m\u001b[0m\u001b[0;34m\u001b[0m\u001b[0m\n",
            "\u001b[0;31mIndexError\u001b[0m: index 2 is out of bounds for axis 0 with size 2"
          ]
        }
      ]
    },
    {
      "cell_type": "code",
      "source": [
        "x , y = make_blobs(n_samples = 2000,\n",
        "                   centers = 4,\n",
        "                   n_features = 5,\n",
        "                   random_state = 2\n",
        "                   )\n",
        "\n",
        "x_train, x_test, y_train , y_test = train_test_split(x,y,\n",
        "                                                     test_size = 0.1 ) \n",
        "                                                  "
      ],
      "metadata": {
        "id": "Uie5dAOi1EHF"
      },
      "execution_count": null,
      "outputs": []
    },
    {
      "cell_type": "code",
      "source": [
        "x_test.shape"
      ],
      "metadata": {
        "colab": {
          "base_uri": "https://localhost:8080/"
        },
        "id": "BBBrSsMH1ZSq",
        "outputId": "d5914132-c13c-44bb-db39-6274891fe3b9"
      },
      "execution_count": null,
      "outputs": [
        {
          "output_type": "execute_result",
          "data": {
            "text/plain": [
              "(200, 5)"
            ]
          },
          "metadata": {},
          "execution_count": 83
        }
      ]
    },
    {
      "cell_type": "code",
      "source": [
        "np.unique(y_train)"
      ],
      "metadata": {
        "colab": {
          "base_uri": "https://localhost:8080/"
        },
        "id": "AJke8Gmv1eKc",
        "outputId": "5e45b4c4-b9b5-4508-8493-9966f2afb50d"
      },
      "execution_count": null,
      "outputs": [
        {
          "output_type": "execute_result",
          "data": {
            "text/plain": [
              "array([0, 1, 2, 3])"
            ]
          },
          "metadata": {},
          "execution_count": 82
        }
      ]
    },
    {
      "cell_type": "code",
      "source": [
        "\n",
        "from sklearn.datasets import make_classification, make_blobs\n",
        "from sklearn.model_selection import train_test_split\n",
        "\n",
        "x , y = make_blobs(n_samples = 100,\n",
        "                   n_features = 2,\n",
        "                   centers = [[5,5] , [10 , 10]] ,\n",
        "                   cluster_std= 1.5,\n",
        "                   random_state = 2\n",
        "                   )\n",
        "\n",
        "x_train, x_test, y_train , y_test = train_test_split(x,y,\n",
        "                                                     test_size = 0.2 , \n",
        "                                                     random_state =123)\n"
      ],
      "metadata": {
        "id": "EsuKsbSVohTi"
      },
      "execution_count": null,
      "outputs": []
    },
    {
      "cell_type": "code",
      "source": [
        "x , y = make_blobs(n_samples = 2000,\n",
        "                   centers = 4,\n",
        "                   n_features = 5,\n",
        "                   random_state = 2\n",
        "                   )\n",
        "\n",
        "x_train, x_test, y_train , y_test = train_test_split(x,y,\n",
        "                                                     test_size = 0.1 ) \n",
        "\n",
        "class GaussianNB(object):\n",
        "  def fit(self , x ,y):\n",
        "    n_samples , n_features = x.shape\n",
        "    self.classes = np.unique(y)\n",
        "    n_classes = len(self.classes)\n",
        "\n",
        "    self.mean = np.zeros((n_classes , n_features) , dtype = np.float64)\n",
        "    self.var = np.zeros((n_classes, n_features) , dtype = np.float64)\n",
        "    self.priors = np.zeros(n_classes , dtype = np.float64)\n",
        "\n",
        "    for idx , c in enumerate(self.classes):\n",
        "      xc = x[y==c]\n",
        "      self.mean[idx, :] = xc.mean(axis = 0)\n",
        "\n",
        "      self.var[idx, :] = xc.var(axis=0)\n",
        "\n",
        "      self.priors[idx] = xc.shape[0]/float(n_samples)\n",
        "\n",
        "    print(\"mean :\" , self.mean)\n",
        "    print(\"var :\" , self.var)\n",
        "    print(\"priors :\" , self.priors)\n",
        "\n",
        "  def cal_pdf(self , class_idx , x):\n",
        "    mean = self.mean[class_idx]\n",
        "    var = np.diag(self.var[class_idx])\n",
        "    z = np.power(2 * np.pi , x.shape[0]/2) * np.power(np.linalg.det(var) , 1/2)\n",
        "    return (1/z) * np.exp(-(1/2)* (x-mean).T @ (np.linalg.inv(var)) @ (x - mean))\n",
        "    \n",
        "  def cal_likelihood_prior_product(self, x):\n",
        "    self.likelihood_prior_product = np.zeros((x.shape[0] , len(self.classes)) , dtype = np.float64)\n",
        "\n",
        "    for x_idx , x in enumerate(x):\n",
        "      for idx , c in enumerate(self.classes):\n",
        "        self.likelihood_prior_product[x_idx , c] = (\n",
        "        np.log(self.cal_pdf(idx , x))+ np.log(self.priors[idx]))\n",
        "\n",
        "  def predict(self , x):\n",
        "    self.cal_likelihood_prior_product(x)\n",
        "    return np.argmax(self.likelihood_prior_product , axis = 1)\n",
        "\n",
        "gaussian_nb = GaussianNB()\n",
        "gaussian_nb.fit(x_train , y_train)\n",
        "\n",
        "print(classification_report(y_test , gaussian_nb.predict(x_test) ))"
      ],
      "metadata": {
        "colab": {
          "base_uri": "https://localhost:8080/"
        },
        "id": "rddWHMZ756hP",
        "outputId": "5350e2b6-c32e-4acb-9891-ab96d5920ce4"
      },
      "execution_count": null,
      "outputs": [
        {
          "output_type": "stream",
          "name": "stdout",
          "text": [
            "mean : [[-1.28789057 -9.50073452  0.97908265 -1.35641546 -1.61873511]\n",
            " [-3.3884782  -5.95610956  2.36473168 -4.0056801  -4.69136534]\n",
            " [ 2.33694437  0.65844129 -7.35064146  0.25888184 -6.4036952 ]\n",
            " [ 5.67465087  7.05985884 -0.12413109  6.9604079  -8.35390031]]\n",
            "var : [[0.90584397 1.02118616 1.06062904 0.93064274 1.00292962]\n",
            " [1.13890106 0.99912372 0.98262213 1.04637794 1.06914736]\n",
            " [0.97592495 1.02660364 0.90805367 1.04137352 1.08962297]\n",
            " [1.00553435 0.9304437  0.95221422 0.90015997 0.97187193]]\n",
            "priors : [0.25166667 0.25222222 0.24666667 0.24944444]\n",
            "              precision    recall  f1-score   support\n",
            "\n",
            "           0       1.00      0.98      0.99        47\n",
            "           1       0.98      1.00      0.99        46\n",
            "           2       1.00      1.00      1.00        56\n",
            "           3       1.00      1.00      1.00        51\n",
            "\n",
            "    accuracy                           0.99       200\n",
            "   macro avg       0.99      0.99      0.99       200\n",
            "weighted avg       1.00      0.99      0.99       200\n",
            "\n"
          ]
        }
      ]
    },
    {
      "cell_type": "code",
      "source": [
        "a = classification_report(y_test , gaussian_nb.predict(x_test) )\n",
        "dict_1IDs = ['0','1','2' , '3']\n",
        "dict2 = {}\n",
        "dict_2IDs = ['precision','Recall','Accuracy' , 'F1 score']\n",
        "dict1 = dict.fromkeys(dict_1IDs, dict2)\n",
        "dict2 = dict.fromkeys(dict_2IDs, values)\n",
        "\n",
        "for \n"
      ],
      "metadata": {
        "id": "FMocPD_S9Qc6"
      },
      "execution_count": null,
      "outputs": []
    },
    {
      "cell_type": "code",
      "source": [],
      "metadata": {
        "id": "naAxhpOxCgxr"
      },
      "execution_count": null,
      "outputs": []
    },
    {
      "cell_type": "code",
      "source": [
        "dict1"
      ],
      "metadata": {
        "colab": {
          "base_uri": "https://localhost:8080/"
        },
        "id": "5r1hAOZu_y2r",
        "outputId": "a62d16b6-fef4-46ee-cb39-09bc02bcc13d"
      },
      "execution_count": null,
      "outputs": [
        {
          "output_type": "execute_result",
          "data": {
            "text/plain": [
              "{}"
            ]
          },
          "metadata": {},
          "execution_count": 117
        }
      ]
    },
    {
      "cell_type": "code",
      "source": [
        "gaussian_nb = GaussianNB()\n",
        "gaussian_nb.fit(x_train , y_train)"
      ],
      "metadata": {
        "colab": {
          "base_uri": "https://localhost:8080/"
        },
        "id": "_OCJk70mwWYq",
        "outputId": "8725ba02-27d8-4003-f932-bc250ad29645"
      },
      "execution_count": null,
      "outputs": [
        {
          "output_type": "stream",
          "name": "stdout",
          "text": [
            "mean : [[ 4.55853975  5.01739665]\n",
            " [10.30431548 10.08580617]]\n",
            "var : [[2.13298417 2.30222002]\n",
            " [3.22242307 2.20662074]]\n",
            "priors : [0.5125 0.4875]\n"
          ]
        }
      ]
    },
    {
      "cell_type": "code",
      "source": [
        "gaussian_nb.predict(x_test)\n"
      ],
      "metadata": {
        "colab": {
          "base_uri": "https://localhost:8080/"
        },
        "id": "67IDqiDWU0AJ",
        "outputId": "77add78c-0521-436a-9d0d-bf8b790cd4a1"
      },
      "execution_count": null,
      "outputs": [
        {
          "output_type": "execute_result",
          "data": {
            "text/plain": [
              "array([0, 1, 1, 0, 1, 0, 0, 0, 1, 1, 0, 0, 0, 1, 1, 1, 1, 1, 1, 0])"
            ]
          },
          "metadata": {},
          "execution_count": 19
        }
      ]
    },
    {
      "cell_type": "code",
      "source": [
        "import matplotlib.pyplot as plt\n",
        "import seaborn as sns\n",
        "\n",
        "fig, ax = plt.subplots()\n",
        "ax.scatter(x[: , 0] , x[: , 1] , c =y , s =50 , cmap =\"RdBu\")\n",
        "\n",
        "xlim = (min(x[:, 0])-2 , max(x[: , 0]) + 2)\n",
        "ylim = (min(x[:, 1])-2 , max(x[: , 1]) + 2)\n",
        "\n",
        "xg = np.linspace(xlim[0] , xlim[1], 60)\n",
        "yg = np.linspace(ylim[0] , ylim[1], 40)\n",
        "xx, yy = np.meshgrid(xg , yg)\n",
        "xgrid = np.vstack([xx.ravel(), yy.ravel()]).T\n",
        "\n",
        "for label, color in enumerate([\"red\" , \"blue\"]):\n",
        "  mask = (y==label)\n",
        "  mu, std = x[mask].mean(0) , x[mask].std(0)\n",
        "  P = np.exp(-0.5 * (xgrid-mu) **2/std**2).prod(1)\n",
        "  Pm = np.ma.masked_array(P,P<0.03)\n",
        "  ax.pcolorfast(xg , yg , Pm.reshape(xx.shape) , alpha =0.5 , \n",
        "                cmap = color.title() + \"s\")\n",
        "  ax.contour(xx , yy, P.reshape(xx.shape),\n",
        "             levels = [0.01 , 0.1 , 0.5 , 0.9],\n",
        "             colors = color , alpha = 0.2)\n",
        "ax.set(xlim = xlim, ylim = ylim)\n",
        "\n",
        "plt.title(\"GAUSSIAN DISTRIBUTION OF DATA\")\n",
        "plt.show()\n"
      ],
      "metadata": {
        "id": "vTpXv3GewyRk",
        "colab": {
          "base_uri": "https://localhost:8080/",
          "height": 281
        },
        "outputId": "a223b41a-c9df-4d92-c0ca-8ba53b3877ef"
      },
      "execution_count": null,
      "outputs": [
        {
          "output_type": "display_data",
          "data": {
            "text/plain": [
              "<Figure size 432x288 with 1 Axes>"
            ],
            "image/png": "[encoded data removed]"
          },
          "metadata": {
            "needs_background": "light"
          }
        }
      ]
    },
    {
      "cell_type": "code",
      "source": [],
      "metadata": {
        "id": "c-Z1jzF91CWi"
      },
      "execution_count": null,
      "outputs": []
    },
    {
      "cell_type": "code",
      "source": [
        "from sklearn.metrics import classification_report\n",
        "print(classification_report(y_test , gaussian_nb.predict(x_test)))"
      ],
      "metadata": {
        "id": "fy3FiBfGS8MJ",
        "colab": {
          "base_uri": "https://localhost:8080/"
        },
        "outputId": "d0330d4f-f2c1-43c7-ce27-81580ec8716f"
      },
      "execution_count": null,
      "outputs": [
        {
          "output_type": "stream",
          "name": "stdout",
          "text": [
            "              precision    recall  f1-score   support\n",
            "\n",
            "           0       1.00      1.00      1.00         9\n",
            "           1       1.00      1.00      1.00        11\n",
            "\n",
            "    accuracy                           1.00        20\n",
            "   macro avg       1.00      1.00      1.00        20\n",
            "weighted avg       1.00      1.00      1.00        20\n",
            "\n"
          ]
        }
      ]
    },
    {
      "cell_type": "code",
      "source": [
        "gaussian_nb.predict_proba(x_test)"
      ],
      "metadata": {
        "colab": {
          "base_uri": "https://localhost:8080/"
        },
        "id": "6QsLhMQcVJmU",
        "outputId": "4c66cd10-6806-4cc0-a566-600e03f5d921"
      },
      "execution_count": null,
      "outputs": [
        {
          "output_type": "execute_result",
          "data": {
            "text/plain": [
              "array([[9.99999746e-01, 2.54140753e-07],\n",
              "       [7.63749214e-14, 1.00000000e+00],\n",
              "       [4.23038642e-03, 9.95769614e-01],\n",
              "       [9.99986614e-01, 1.33855473e-05],\n",
              "       [7.05769182e-06, 9.99992942e-01],\n",
              "       [9.99820566e-01, 1.79433743e-04],\n",
              "       [9.72541524e-01, 2.74584756e-02],\n",
              "       [9.99982043e-01, 1.79572091e-05],\n",
              "       [2.85910189e-05, 9.99971409e-01],\n",
              "       [1.01888837e-07, 9.99999898e-01],\n",
              "       [7.39129058e-01, 2.60870942e-01],\n",
              "       [9.99793438e-01, 2.06561658e-04],\n",
              "       [9.99999915e-01, 8.46737165e-08],\n",
              "       [2.03213294e-05, 9.99979679e-01],\n",
              "       [8.76198350e-09, 9.99999991e-01],\n",
              "       [6.51163513e-05, 9.99934884e-01],\n",
              "       [9.27638525e-05, 9.99907236e-01],\n",
              "       [7.58034673e-09, 9.99999992e-01],\n",
              "       [1.81773339e-03, 9.98182267e-01],\n",
              "       [9.99985544e-01, 1.44557945e-05]])"
            ]
          },
          "metadata": {},
          "execution_count": 22
        }
      ]
    },
    {
      "cell_type": "code",
      "source": [
        "x_new = np.array([1.5 , 6.5])\n",
        "\n",
        "plt.figure(figsize = (10 , 8))\n",
        "plt.scatter(x[: , 0] , x[: , 1] , marker = \"o\" , c=y, s =200 ,\n",
        "            edgecolor = \"k\" , cmap ='RdBu')\n",
        "plt.scatter(x_new[0] , x_new[1] , marker = \"o\" , c = \"green\" ,\n",
        "            s = 250 , edgecolor = \"k\" , alpha = 0.8)\n",
        "plt.annotate(\"new example\" , xy = x_new, \n",
        "             xytext = (-30 , 120), textcoords = \"offset points\" ,\n",
        "             arrowprops = dict(facecolor = \"black\" , shrink = 0.05 ) , fontsize = 24)\n",
        "plt.show()"
      ],
      "metadata": {
        "colab": {
          "base_uri": "https://localhost:8080/",
          "height": 483
        },
        "id": "i5tcX651VYpD",
        "outputId": "aba1fd5a-320f-43f1-bfae-7479eb1caf14"
      },
      "execution_count": null,
      "outputs": [
        {
          "output_type": "display_data",
          "data": {
            "text/plain": [
              "<Figure size 720x576 with 1 Axes>"
            ],
            "image/png": "[encoded data removed]"
          },
          "metadata": {
            "needs_background": "light"
          }
        }
      ]
    },
    {
      "cell_type": "code",
      "source": [
        " gaussian_nb.predict_proba(np.array([x_new]))"
      ],
      "metadata": {
        "colab": {
          "base_uri": "https://localhost:8080/"
        },
        "id": "yqV5K_GfWhEz",
        "outputId": "c9d890b4-0627-4840-c96a-5df2951b1318"
      },
      "execution_count": null,
      "outputs": [
        {
          "output_type": "execute_result",
          "data": {
            "text/plain": [
              "array([[9.99996296e-01, 3.70449944e-06]])"
            ]
          },
          "metadata": {},
          "execution_count": 29
        }
      ]
    },
    {
      "cell_type": "code",
      "source": [
        "x , y = make_blobs(n_samples = 100,\n",
        "                   n_features = 2,\n",
        "                   centers = [[5,5] , [10 , 10] , [20 , 20]] ,\n",
        "                   cluster_std= 1.5,\n",
        "                   random_state = 3\n",
        "                   )\n",
        "\n",
        "x_train, x_test, y_train , y_test = train_test_split(x,y,\n",
        "                                                     test_size = 0.2 , \n",
        "                                                     random_state =123)\n"
      ],
      "metadata": {
        "id": "N71koTOyXYpa"
      },
      "execution_count": null,
      "outputs": []
    },
    {
      "cell_type": "code",
      "source": [
        "gaussian_nb_multiclass = GaussianNB()"
      ],
      "metadata": {
        "id": "fIubvjOzX5Er"
      },
      "execution_count": null,
      "outputs": []
    },
    {
      "cell_type": "code",
      "source": [
        "gaussian_nb_multiclass.fit(x_train , y_train)"
      ],
      "metadata": {
        "colab": {
          "base_uri": "https://localhost:8080/"
        },
        "id": "vEHe_SLoX-qg",
        "outputId": "dfaa6e06-6293-4e93-f6ad-fca1f06feb93"
      },
      "execution_count": null,
      "outputs": [
        {
          "output_type": "stream",
          "name": "stdout",
          "text": [
            "mean : [[ 4.94844927  4.67947138]\n",
            " [ 9.62097704 10.49990402]\n",
            " [19.63832097 19.94706375]]\n",
            "var : [[1.99332345 2.36976247]\n",
            " [1.68415535 2.25596351]\n",
            " [1.79203315 1.24939267]]\n",
            "priors : [0.3375 0.35   0.3125]\n"
          ]
        }
      ]
    },
    {
      "cell_type": "code",
      "source": [
        "print(classification_report(y_test , gaussian_nb_multiclass.predict(x_test)))"
      ],
      "metadata": {
        "colab": {
          "base_uri": "https://localhost:8080/"
        },
        "id": "gPwtwWn5YeMM",
        "outputId": "1c388c47-dcfc-4cc1-cd4c-e7e81c5854e4"
      },
      "execution_count": null,
      "outputs": [
        {
          "output_type": "stream",
          "name": "stdout",
          "text": [
            "              precision    recall  f1-score   support\n",
            "\n",
            "           0       1.00      1.00      1.00         7\n",
            "           1       1.00      1.00      1.00         5\n",
            "           2       1.00      1.00      1.00         8\n",
            "\n",
            "    accuracy                           1.00        20\n",
            "   macro avg       1.00      1.00      1.00        20\n",
            "weighted avg       1.00      1.00      1.00        20\n",
            "\n"
          ]
        }
      ]
    },
    {
      "cell_type": "code",
      "source": [
        "gaussian_nb_multiclass.predict_proba(x_test)"
      ],
      "metadata": {
        "colab": {
          "base_uri": "https://localhost:8080/"
        },
        "id": "M_aUJh1jYraX",
        "outputId": "bdc54c46-82e8-4c5f-df5e-9d6f8dc0b2fd"
      },
      "execution_count": null,
      "outputs": [
        {
          "output_type": "execute_result",
          "data": {
            "text/plain": [
              "array([[1.02996770e-47, 2.67740135e-24, 1.00000000e+00],\n",
              "       [5.00111567e-05, 9.99949989e-01, 6.51529293e-32],\n",
              "       [9.99999999e-01, 9.45325297e-10, 1.33290144e-78],\n",
              "       [1.00000000e+00, 6.49743430e-12, 7.70260328e-90],\n",
              "       [1.50617094e-52, 5.94123831e-27, 1.00000000e+00],\n",
              "       [3.77917160e-47, 9.99218112e-23, 1.00000000e+00],\n",
              "       [5.30598294e-33, 9.05195020e-13, 1.00000000e+00],\n",
              "       [6.63950534e-07, 9.99999336e-01, 1.42699786e-26],\n",
              "       [3.57244754e-61, 3.86494439e-34, 1.00000000e+00],\n",
              "       [9.70872284e-06, 9.99990291e-01, 5.02104511e-31],\n",
              "       [9.99982252e-01, 1.77477098e-05, 2.51366893e-63],\n",
              "       [3.93493321e-39, 5.51495730e-18, 1.00000000e+00],\n",
              "       [1.00000000e+00, 4.72574372e-11, 1.19906531e-79],\n",
              "       [1.19575291e-47, 3.45203067e-24, 1.00000000e+00],\n",
              "       [9.09245241e-01, 9.07547595e-02, 1.30885257e-46],\n",
              "       [9.99999997e-01, 2.64110663e-09, 3.37901343e-80],\n",
              "       [9.97572472e-01, 2.42752753e-03, 1.17514148e-55],\n",
              "       [1.12896485e-05, 9.99988710e-01, 3.59429638e-31],\n",
              "       [9.18841787e-06, 9.99990812e-01, 2.02077792e-29],\n",
              "       [4.87507189e-58, 6.38893442e-32, 1.00000000e+00]])"
            ]
          },
          "metadata": {},
          "execution_count": 44
        }
      ]
    },
    {
      "cell_type": "markdown",
      "source": [],
      "metadata": {
        "id": "eqZ2TYekZs8b"
      }
    },
    {
      "cell_type": "code",
      "source": [],
      "metadata": {
        "id": "s_6pxiBeYxGu"
      },
      "execution_count": null,
      "outputs": []
    },
    {
      "cell_type": "markdown",
      "source": [
        "## **MULTINOMIAL_NB**"
      ],
      "metadata": {
        "id": "oiJW36TunDh3"
      }
    },
    {
      "cell_type": "code",
      "source": [
        "class MultinomialNB():\n",
        "    def __init__(self, alpha=1.0):\n",
        "        self.alpha = alpha\n",
        "        \n",
        "    def fit(self, X, y):\n",
        "        n_samples, n_features = X.shape\n",
        "        self._classes = np.unique(y)\n",
        "        n_classes = len(self._classes)\n",
        "        self.w = np.zeros((n_classes, n_features), dtype=np.float64)\n",
        "        self.w_priors = np.zeros(n_classes, dtype=np.float64)\n",
        "\n",
        "        for idx, c in enumerate(self._classes):\n",
        "            X_c = X[y == c]\n",
        "            total_count = np.sum(np.sum(X_c, axis=1))\n",
        "            self.w[idx, :] = (np.sum(X_c, axis=0) + self.alpha) / (total_count + n_classes * self.alpha)\n",
        "            self.w_priors[idx] = (X_c.shape[0] + self.alpha) / (float(n_samples) + n_classes * self.alpha)\n",
        "\n",
        "    def log_likelihood_prior_prod(self, X):\n",
        "        return X @ (np.log(self.w).T) + np.log(self.w_priors)\n",
        "    \n",
        "    def predict_proba(self, X):\n",
        "        q = self.log_likelihood_prior_prod(X)\n",
        "        return np.exp(q) / np.expand_dims(np.sum(np.exp(q), axis=1), axis=1)\n",
        "    \n",
        "    def predict(self, X):\n",
        "        q = self.log_likelihood_prior_prod(X)\n",
        "        return np.argmax(q, axis=1)"
      ],
      "metadata": {
        "id": "1AMu3U7EnGIW"
      },
      "execution_count": null,
      "outputs": []
    },
    {
      "cell_type": "code",
      "source": [
        "rng = np.random.RandomState(1)\n",
        "x = rng.randint(5, size= (1000 , 5))\n",
        "y = rng.randint(2 , size = (1000 ,))\n",
        "\n",
        "x_train , x_test, y_train , y_test = train_test_split(x,y)"
      ],
      "metadata": {
        "id": "aZaWM4cGoiot"
      },
      "execution_count": null,
      "outputs": []
    },
    {
      "cell_type": "code",
      "source": [
        "x_train.shape"
      ],
      "metadata": {
        "colab": {
          "base_uri": "https://localhost:8080/"
        },
        "id": "8CIphCbRpIW4",
        "outputId": "c8db9534-1d5a-49c5-b1b8-a49f8e0dc628"
      },
      "execution_count": null,
      "outputs": [
        {
          "output_type": "execute_result",
          "data": {
            "text/plain": [
              "(750, 5)"
            ]
          },
          "metadata": {},
          "execution_count": 49
        }
      ]
    },
    {
      "cell_type": "code",
      "source": [
        "y_train.shape"
      ],
      "metadata": {
        "colab": {
          "base_uri": "https://localhost:8080/"
        },
        "id": "2NZOpHZSpfmn",
        "outputId": "4dba6ddd-d43c-4fb4-a692-9920981d75c9"
      },
      "execution_count": null,
      "outputs": [
        {
          "output_type": "execute_result",
          "data": {
            "text/plain": [
              "(750,)"
            ]
          },
          "metadata": {},
          "execution_count": 50
        }
      ]
    },
    {
      "cell_type": "code",
      "source": [
        "multinomial_nb = MultinomialNB()"
      ],
      "metadata": {
        "id": "GrE2-335pj6F"
      },
      "execution_count": null,
      "outputs": []
    },
    {
      "cell_type": "code",
      "source": [
        "multinomial_nb.fit(x_train, y_train)\n"
      ],
      "metadata": {
        "id": "CP_pPf6Fpsim"
      },
      "execution_count": null,
      "outputs": []
    },
    {
      "cell_type": "code",
      "source": [
        "multinomial_nb.w_priors"
      ],
      "metadata": {
        "colab": {
          "base_uri": "https://localhost:8080/"
        },
        "id": "Nw_ss2WRp-Zb",
        "outputId": "f6777b01-0f6e-484c-c1c7-e1c39876a316"
      },
      "execution_count": null,
      "outputs": [
        {
          "output_type": "execute_result",
          "data": {
            "text/plain": [
              "array([0.48670213, 0.51329787])"
            ]
          },
          "metadata": {},
          "execution_count": 55
        }
      ]
    },
    {
      "cell_type": "code",
      "source": [
        "multinomial_nb.w"
      ],
      "metadata": {
        "colab": {
          "base_uri": "https://localhost:8080/"
        },
        "id": "DJa5EM8vpytX",
        "outputId": "1943e4e1-2d05-4bbc-80e5-81f3515ce8f7"
      },
      "execution_count": null,
      "outputs": [
        {
          "output_type": "execute_result",
          "data": {
            "text/plain": [
              "array([[0.21679688, 0.18136161, 0.19308036, 0.20089286, 0.20870536],\n",
              "       [0.2097867 , 0.20250941, 0.19548306, 0.20401506, 0.18895859]])"
            ]
          },
          "metadata": {},
          "execution_count": 53
        }
      ]
    },
    {
      "cell_type": "code",
      "source": [
        "print(classification_report(y_test , multinomial_nb.predict(x_test)))"
      ],
      "metadata": {
        "colab": {
          "base_uri": "https://localhost:8080/"
        },
        "id": "S27QL5_cp7BR",
        "outputId": "2e7f7c61-4375-4e07-fd37-dfb751e756e0"
      },
      "execution_count": null,
      "outputs": [
        {
          "output_type": "stream",
          "name": "stdout",
          "text": [
            "              precision    recall  f1-score   support\n",
            "\n",
            "           0       0.44      0.39      0.41       120\n",
            "           1       0.49      0.53      0.51       130\n",
            "\n",
            "    accuracy                           0.46       250\n",
            "   macro avg       0.46      0.46      0.46       250\n",
            "weighted avg       0.46      0.46      0.46       250\n",
            "\n"
          ]
        }
      ]
    },
    {
      "cell_type": "code",
      "source": [
        "multinomial_nb.predict_proba(x_test[:10])"
      ],
      "metadata": {
        "colab": {
          "base_uri": "https://localhost:8080/"
        },
        "id": "PmHzG7oJqo6r",
        "outputId": "d933288d-a1d5-4d31-c53b-cb2ae295ca2a"
      },
      "execution_count": null,
      "outputs": [
        {
          "output_type": "execute_result",
          "data": {
            "text/plain": [
              "array([[0.49131766, 0.50868234],\n",
              "       [0.43939076, 0.56060924],\n",
              "       [0.48670071, 0.51329929],\n",
              "       [0.57564091, 0.42435909],\n",
              "       [0.5627501 , 0.4372499 ],\n",
              "       [0.54362783, 0.45637217],\n",
              "       [0.44944279, 0.55055721],\n",
              "       [0.49199586, 0.50800414],\n",
              "       [0.49124471, 0.50875529],\n",
              "       [0.50383677, 0.49616323]])"
            ]
          },
          "metadata": {},
          "execution_count": 58
        }
      ]
    },
    {
      "cell_type": "code",
      "source": [
        "rng = np.random.RandomState(1)\n",
        "x = rng.randint(5, size= (1000 , 5))\n",
        "y = rng.randint(3, size = (1000 ,))\n",
        "\n",
        "x_train , x_test, y_train , y_test = train_test_split(x,y)"
      ],
      "metadata": {
        "id": "-veUzV8sq4ff"
      },
      "execution_count": null,
      "outputs": []
    },
    {
      "cell_type": "code",
      "source": [
        "multinomial_nb = MultinomialNB()\n",
        "multinomial_nb.fit(x_train, y_train)\n",
        "\n"
      ],
      "metadata": {
        "id": "oWa_0ehQrP-U"
      },
      "execution_count": null,
      "outputs": []
    },
    {
      "cell_type": "code",
      "source": [
        "multinomial_nb.w_priors"
      ],
      "metadata": {
        "colab": {
          "base_uri": "https://localhost:8080/"
        },
        "id": "2kiX-kQTrUBo",
        "outputId": "fd1df1b3-fb02-4db7-ee81-480a814436b8"
      },
      "execution_count": null,
      "outputs": [
        {
          "output_type": "execute_result",
          "data": {
            "text/plain": [
              "array([0.34130146, 0.34262948, 0.31606906])"
            ]
          },
          "metadata": {},
          "execution_count": 61
        }
      ]
    },
    {
      "cell_type": "code",
      "source": [
        "multinomial_nb.w"
      ],
      "metadata": {
        "colab": {
          "base_uri": "https://localhost:8080/"
        },
        "id": "FG6MOY15rVy3",
        "outputId": "431c514e-4802-4ffe-9581-ff0a9cec3745"
      },
      "execution_count": null,
      "outputs": [
        {
          "output_type": "execute_result",
          "data": {
            "text/plain": [
              "array([[0.21167883, 0.19323857, 0.19746446, 0.1997695 , 0.19861698],\n",
              "       [0.21353747, 0.1817083 , 0.20467365, 0.19701853, 0.20386785],\n",
              "       [0.21149811, 0.20310533, 0.19009652, 0.19890894, 0.19723038]])"
            ]
          },
          "metadata": {},
          "execution_count": 62
        }
      ]
    },
    {
      "cell_type": "code",
      "source": [
        "print(classification_report(y_test , multinomial_nb.predict(x_test)))"
      ],
      "metadata": {
        "colab": {
          "base_uri": "https://localhost:8080/"
        },
        "id": "kEhTzRaWrY8i",
        "outputId": "b4f921d8-ef5f-47d5-caf8-75082fb3d23f"
      },
      "execution_count": null,
      "outputs": [
        {
          "output_type": "stream",
          "name": "stdout",
          "text": [
            "              precision    recall  f1-score   support\n",
            "\n",
            "           0       0.40      0.34      0.37        91\n",
            "           1       0.36      0.49      0.42        85\n",
            "           2       0.24      0.18      0.20        74\n",
            "\n",
            "    accuracy                           0.34       250\n",
            "   macro avg       0.33      0.34      0.33       250\n",
            "weighted avg       0.34      0.34      0.33       250\n",
            "\n"
          ]
        }
      ]
    },
    {
      "cell_type": "code",
      "source": [
        "multinomial_nb.predict_proba(x_test[:10])"
      ],
      "metadata": {
        "colab": {
          "base_uri": "https://localhost:8080/"
        },
        "id": "t7Kb_piUrcke",
        "outputId": "13e6fe68-ac09-4c77-a245-da0af5d4dd27"
      },
      "execution_count": null,
      "outputs": [
        {
          "output_type": "execute_result",
          "data": {
            "text/plain": [
              "array([[0.33350246, 0.40511141, 0.26138612],\n",
              "       [0.34082363, 0.28388815, 0.37528822],\n",
              "       [0.34425448, 0.29193793, 0.36380759],\n",
              "       [0.34079438, 0.33405731, 0.32514831],\n",
              "       [0.34780925, 0.33614964, 0.31604111],\n",
              "       [0.33408677, 0.37271502, 0.29319822],\n",
              "       [0.33137949, 0.41757249, 0.25104802],\n",
              "       [0.33790773, 0.33621469, 0.32587759],\n",
              "       [0.33682521, 0.34756821, 0.31560659],\n",
              "       [0.34256545, 0.30173493, 0.35569961]])"
            ]
          },
          "metadata": {},
          "execution_count": 64
        }
      ]
    },
    {
      "cell_type": "code",
      "source": [],
      "metadata": {
        "id": "HU5XkSlkreOf"
      },
      "execution_count": null,
      "outputs": []
    }
  ]
}