{
  "nbformat": 4,
  "nbformat_minor": 0,
  "metadata": {
    "colab": {
      "provenance": [],
      "collapsed_sections": [],
      "authorship_tag": "ABX9TyOwbc56dwBVGhdD5YQVDNwb",
      "include_colab_link": true
    },
    "kernelspec": {
      "name": "python3",
      "display_name": "Python 3"
    },
    "language_info": {
      "name": "python"
    }
  },
  "cells": [
    {
      "cell_type": "markdown",
      "metadata": {
        "id": "view-in-github",
        "colab_type": "text"
      },
      "source": [
        "<a href=\"https://colab.research.google.com/github/SejalJadhav1/python_/blob/main/MachineLearningPractice_4.ipynb\" target=\"_parent\"><img src=\"https://colab.research.google.com/assets/colab-badge.svg\" alt=\"Open In Colab\"/></a>"
      ]
    },
    {
      "cell_type": "code",
      "execution_count": null,
      "metadata": {
        "id": "4kpFL5A020vC"
      },
      "outputs": [],
      "source": [
        "from sklearn.datasets import fetch_california_housing\n",
        "from scipy.stats import loguniform\n",
        "from scipy.stats import uniform"
      ]
    },
    {
      "cell_type": "code",
      "source": [
        "data , y = fetch_california_housing(as_frame = True , return_X_y = True)\n",
        "dataset = fetch_california_housing(as_frame = True)"
      ],
      "metadata": {
        "id": "ggyxCfG23X0K"
      },
      "execution_count": null,
      "outputs": []
    },
    {
      "cell_type": "code",
      "source": [
        "data.head()"
      ],
      "metadata": {
        "colab": {
          "base_uri": "https://localhost:8080/",
          "height": 270
        },
        "id": "e3k_fZGq33wQ",
        "outputId": "6b0f5e89-b5ce-45e4-9163-78d9031fdf2d"
      },
      "execution_count": null,
      "outputs": [
        {
          "output_type": "execute_result",
          "data": {
            "text/plain": [
              "   MedInc  HouseAge  AveRooms  AveBedrms  Population  AveOccup  Latitude  \\\n",
              "0  8.3252      41.0  6.984127   1.023810       322.0  2.555556     37.88   \n",
              "1  8.3014      21.0  6.238137   0.971880      2401.0  2.109842     37.86   \n",
              "2  7.2574      52.0  8.288136   1.073446       496.0  2.802260     37.85   \n",
              "3  5.6431      52.0  5.817352   1.073059       558.0  2.547945     37.85   \n",
              "4  3.8462      52.0  6.281853   1.081081       565.0  2.181467     37.85   \n",
              "\n",
              "   Longitude  \n",
              "0    -122.23  \n",
              "1    -122.22  \n",
              "2    -122.24  \n",
              "3    -122.25  \n",
              "4    -122.25  "
            ],
            "text/html": [
              "\n",
              "  <div id=\"df-5a69fb44-9953-42a5-b60e-0755c23045a5\">\n",
              "    <div class=\"colab-df-container\">\n",
              "      <div>\n",
              "<style scoped>\n",
              "    .dataframe tbody tr th:only-of-type {\n",
              "        vertical-align: middle;\n",
              "    }\n",
              "\n",
              "    .dataframe tbody tr th {\n",
              "        vertical-align: top;\n",
              "    }\n",
              "\n",
              "    .dataframe thead th {\n",
              "        text-align: right;\n",
              "    }\n",
              "</style>\n",
              "<table border=\"1\" class=\"dataframe\">\n",
              "  <thead>\n",
              "    <tr style=\"text-align: right;\">\n",
              "      <th></th>\n",
              "      <th>MedInc</th>\n",
              "      <th>HouseAge</th>\n",
              "      <th>AveRooms</th>\n",
              "      <th>AveBedrms</th>\n",
              "      <th>Population</th>\n",
              "      <th>AveOccup</th>\n",
              "      <th>Latitude</th>\n",
              "      <th>Longitude</th>\n",
              "    </tr>\n",
              "  </thead>\n",
              "  <tbody>\n",
              "    <tr>\n",
              "      <th>0</th>\n",
              "      <td>8.3252</td>\n",
              "      <td>41.0</td>\n",
              "      <td>6.984127</td>\n",
              "      <td>1.023810</td>\n",
              "      <td>322.0</td>\n",
              "      <td>2.555556</td>\n",
              "      <td>37.88</td>\n",
              "      <td>-122.23</td>\n",
              "    </tr>\n",
              "    <tr>\n",
              "      <th>1</th>\n",
              "      <td>8.3014</td>\n",
              "      <td>21.0</td>\n",
              "      <td>6.238137</td>\n",
              "      <td>0.971880</td>\n",
              "      <td>2401.0</td>\n",
              "      <td>2.109842</td>\n",
              "      <td>37.86</td>\n",
              "      <td>-122.22</td>\n",
              "    </tr>\n",
              "    <tr>\n",
              "      <th>2</th>\n",
              "      <td>7.2574</td>\n",
              "      <td>52.0</td>\n",
              "      <td>8.288136</td>\n",
              "      <td>1.073446</td>\n",
              "      <td>496.0</td>\n",
              "      <td>2.802260</td>\n",
              "      <td>37.85</td>\n",
              "      <td>-122.24</td>\n",
              "    </tr>\n",
              "    <tr>\n",
              "      <th>3</th>\n",
              "      <td>5.6431</td>\n",
              "      <td>52.0</td>\n",
              "      <td>5.817352</td>\n",
              "      <td>1.073059</td>\n",
              "      <td>558.0</td>\n",
              "      <td>2.547945</td>\n",
              "      <td>37.85</td>\n",
              "      <td>-122.25</td>\n",
              "    </tr>\n",
              "    <tr>\n",
              "      <th>4</th>\n",
              "      <td>3.8462</td>\n",
              "      <td>52.0</td>\n",
              "      <td>6.281853</td>\n",
              "      <td>1.081081</td>\n",
              "      <td>565.0</td>\n",
              "      <td>2.181467</td>\n",
              "      <td>37.85</td>\n",
              "      <td>-122.25</td>\n",
              "    </tr>\n",
              "  </tbody>\n",
              "</table>\n",
              "</div>\n",
              "      <button class=\"colab-df-convert\" onclick=\"convertToInteractive('df-5a69fb44-9953-42a5-b60e-0755c23045a5')\"\n",
              "              title=\"Convert this dataframe to an interactive table.\"\n",
              "              style=\"display:none;\">\n",
              "        \n",
              "  <svg xmlns=\"http://www.w3.org/2000/svg\" height=\"24px\"viewBox=\"0 0 24 24\"\n",
              "       width=\"24px\">\n",
              "    <path d=\"M0 0h24v24H0V0z\" fill=\"none\"/>\n",
              "    <path d=\"M18.56 5.44l.94 2.06.94-2.06 2.06-.94-2.06-.94-.94-2.06-.94 2.06-2.06.94zm-11 1L8.5 8.5l.94-2.06 2.06-.94-2.06-.94L8.5 2.5l-.94 2.06-2.06.94zm10 10l.94 2.06.94-2.06 2.06-.94-2.06-.94-.94-2.06-.94 2.06-2.06.94z\"/><path d=\"M17.41 7.96l-1.37-1.37c-.4-.4-.92-.59-1.43-.59-.52 0-1.04.2-1.43.59L10.3 9.45l-7.72 7.72c-.78.78-.78 2.05 0 2.83L4 21.41c.39.39.9.59 1.41.59.51 0 1.02-.2 1.41-.59l7.78-7.78 2.81-2.81c.8-.78.8-2.07 0-2.86zM5.41 20L4 18.59l7.72-7.72 1.47 1.35L5.41 20z\"/>\n",
              "  </svg>\n",
              "      </button>\n",
              "      \n",
              "  <style>\n",
              "    .colab-df-container {\n",
              "      display:flex;\n",
              "      flex-wrap:wrap;\n",
              "      gap: 12px;\n",
              "    }\n",
              "\n",
              "    .colab-df-convert {\n",
              "      background-color: #E8F0FE;\n",
              "      border: none;\n",
              "      border-radius: 50%;\n",
              "      cursor: pointer;\n",
              "      display: none;\n",
              "      fill: #1967D2;\n",
              "      height: 32px;\n",
              "      padding: 0 0 0 0;\n",
              "      width: 32px;\n",
              "    }\n",
              "\n",
              "    .colab-df-convert:hover {\n",
              "      background-color: #E2EBFA;\n",
              "      box-shadow: 0px 1px 2px rgba(60, 64, 67, 0.3), 0px 1px 3px 1px rgba(60, 64, 67, 0.15);\n",
              "      fill: #174EA6;\n",
              "    }\n",
              "\n",
              "    [theme=dark] .colab-df-convert {\n",
              "      background-color: #3B4455;\n",
              "      fill: #D2E3FC;\n",
              "    }\n",
              "\n",
              "    [theme=dark] .colab-df-convert:hover {\n",
              "      background-color: #434B5C;\n",
              "      box-shadow: 0px 1px 3px 1px rgba(0, 0, 0, 0.15);\n",
              "      filter: drop-shadow(0px 1px 2px rgba(0, 0, 0, 0.3));\n",
              "      fill: #FFFFFF;\n",
              "    }\n",
              "  </style>\n",
              "\n",
              "      <script>\n",
              "        const buttonEl =\n",
              "          document.querySelector('#df-5a69fb44-9953-42a5-b60e-0755c23045a5 button.colab-df-convert');\n",
              "        buttonEl.style.display =\n",
              "          google.colab.kernel.accessAllowed ? 'block' : 'none';\n",
              "\n",
              "        async function convertToInteractive(key) {\n",
              "          const element = document.querySelector('#df-5a69fb44-9953-42a5-b60e-0755c23045a5');\n",
              "          const dataTable =\n",
              "            await google.colab.kernel.invokeFunction('convertToInteractive',\n",
              "                                                     [key], {});\n",
              "          if (!dataTable) return;\n",
              "\n",
              "          const docLinkHtml = 'Like what you see? Visit the ' +\n",
              "            '<a target=\"_blank\" href=https://colab.research.google.com/notebooks/data_table.ipynb>data table notebook</a>'\n",
              "            + ' to learn more about interactive tables.';\n",
              "          element.innerHTML = '';\n",
              "          dataTable['output_type'] = 'display_data';\n",
              "          await google.colab.output.renderOutput(dataTable, element);\n",
              "          const docLink = document.createElement('div');\n",
              "          docLink.innerHTML = docLinkHtml;\n",
              "          element.appendChild(docLink);\n",
              "        }\n",
              "      </script>\n",
              "    </div>\n",
              "  </div>\n",
              "  "
            ]
          },
          "metadata": {},
          "execution_count": 3
        }
      ]
    },
    {
      "cell_type": "code",
      "source": [
        "dataset.feature_names"
      ],
      "metadata": {
        "colab": {
          "base_uri": "https://localhost:8080/"
        },
        "id": "0bdZkZpE348U",
        "outputId": "803945d8-6d55-4f75-a3ab-36edd6bbbdc8"
      },
      "execution_count": null,
      "outputs": [
        {
          "output_type": "execute_result",
          "data": {
            "text/plain": [
              "['MedInc',\n",
              " 'HouseAge',\n",
              " 'AveRooms',\n",
              " 'AveBedrms',\n",
              " 'Population',\n",
              " 'AveOccup',\n",
              " 'Latitude',\n",
              " 'Longitude']"
            ]
          },
          "metadata": {},
          "execution_count": 8
        }
      ]
    },
    {
      "cell_type": "code",
      "source": [
        "dataset.target"
      ],
      "metadata": {
        "colab": {
          "base_uri": "https://localhost:8080/"
        },
        "id": "LEvwGsNa364q",
        "outputId": "f5d16f97-2383-4dc5-c0fd-1c31536075a7"
      },
      "execution_count": null,
      "outputs": [
        {
          "output_type": "execute_result",
          "data": {
            "text/plain": [
              "0        4.526\n",
              "1        3.585\n",
              "2        3.521\n",
              "3        3.413\n",
              "4        3.422\n",
              "         ...  \n",
              "20635    0.781\n",
              "20636    0.771\n",
              "20637    0.923\n",
              "20638    0.847\n",
              "20639    0.894\n",
              "Name: MedHouseVal, Length: 20640, dtype: float64"
            ]
          },
          "metadata": {},
          "execution_count": 11
        }
      ]
    },
    {
      "cell_type": "code",
      "source": [
        "dataset.frame # entire dataset including target var"
      ],
      "metadata": {
        "colab": {
          "base_uri": "https://localhost:8080/",
          "height": 488
        },
        "id": "il0krlTB4Jyg",
        "outputId": "f5fd86e7-a81d-4745-9500-e528eeb6f563"
      },
      "execution_count": null,
      "outputs": [
        {
          "output_type": "execute_result",
          "data": {
            "text/plain": [
              "       MedInc  HouseAge  AveRooms  AveBedrms  Population  AveOccup  Latitude  \\\n",
              "0      8.3252      41.0  6.984127   1.023810       322.0  2.555556     37.88   \n",
              "1      8.3014      21.0  6.238137   0.971880      2401.0  2.109842     37.86   \n",
              "2      7.2574      52.0  8.288136   1.073446       496.0  2.802260     37.85   \n",
              "3      5.6431      52.0  5.817352   1.073059       558.0  2.547945     37.85   \n",
              "4      3.8462      52.0  6.281853   1.081081       565.0  2.181467     37.85   \n",
              "...       ...       ...       ...        ...         ...       ...       ...   \n",
              "20635  1.5603      25.0  5.045455   1.133333       845.0  2.560606     39.48   \n",
              "20636  2.5568      18.0  6.114035   1.315789       356.0  3.122807     39.49   \n",
              "20637  1.7000      17.0  5.205543   1.120092      1007.0  2.325635     39.43   \n",
              "20638  1.8672      18.0  5.329513   1.171920       741.0  2.123209     39.43   \n",
              "20639  2.3886      16.0  5.254717   1.162264      1387.0  2.616981     39.37   \n",
              "\n",
              "       Longitude  MedHouseVal  \n",
              "0        -122.23        4.526  \n",
              "1        -122.22        3.585  \n",
              "2        -122.24        3.521  \n",
              "3        -122.25        3.413  \n",
              "4        -122.25        3.422  \n",
              "...          ...          ...  \n",
              "20635    -121.09        0.781  \n",
              "20636    -121.21        0.771  \n",
              "20637    -121.22        0.923  \n",
              "20638    -121.32        0.847  \n",
              "20639    -121.24        0.894  \n",
              "\n",
              "[20640 rows x 9 columns]"
            ],
            "text/html": [
              "\n",
              "  <div id=\"df-03906c9d-cd26-4a59-8944-05ca230b6e8c\">\n",
              "    <div class=\"colab-df-container\">\n",
              "      <div>\n",
              "<style scoped>\n",
              "    .dataframe tbody tr th:only-of-type {\n",
              "        vertical-align: middle;\n",
              "    }\n",
              "\n",
              "    .dataframe tbody tr th {\n",
              "        vertical-align: top;\n",
              "    }\n",
              "\n",
              "    .dataframe thead th {\n",
              "        text-align: right;\n",
              "    }\n",
              "</style>\n",
              "<table border=\"1\" class=\"dataframe\">\n",
              "  <thead>\n",
              "    <tr style=\"text-align: right;\">\n",
              "      <th></th>\n",
              "      <th>MedInc</th>\n",
              "      <th>HouseAge</th>\n",
              "      <th>AveRooms</th>\n",
              "      <th>AveBedrms</th>\n",
              "      <th>Population</th>\n",
              "      <th>AveOccup</th>\n",
              "      <th>Latitude</th>\n",
              "      <th>Longitude</th>\n",
              "      <th>MedHouseVal</th>\n",
              "    </tr>\n",
              "  </thead>\n",
              "  <tbody>\n",
              "    <tr>\n",
              "      <th>0</th>\n",
              "      <td>8.3252</td>\n",
              "      <td>41.0</td>\n",
              "      <td>6.984127</td>\n",
              "      <td>1.023810</td>\n",
              "      <td>322.0</td>\n",
              "      <td>2.555556</td>\n",
              "      <td>37.88</td>\n",
              "      <td>-122.23</td>\n",
              "      <td>4.526</td>\n",
              "    </tr>\n",
              "    <tr>\n",
              "      <th>1</th>\n",
              "      <td>8.3014</td>\n",
              "      <td>21.0</td>\n",
              "      <td>6.238137</td>\n",
              "      <td>0.971880</td>\n",
              "      <td>2401.0</td>\n",
              "      <td>2.109842</td>\n",
              "      <td>37.86</td>\n",
              "      <td>-122.22</td>\n",
              "      <td>3.585</td>\n",
              "    </tr>\n",
              "    <tr>\n",
              "      <th>2</th>\n",
              "      <td>7.2574</td>\n",
              "      <td>52.0</td>\n",
              "      <td>8.288136</td>\n",
              "      <td>1.073446</td>\n",
              "      <td>496.0</td>\n",
              "      <td>2.802260</td>\n",
              "      <td>37.85</td>\n",
              "      <td>-122.24</td>\n",
              "      <td>3.521</td>\n",
              "    </tr>\n",
              "    <tr>\n",
              "      <th>3</th>\n",
              "      <td>5.6431</td>\n",
              "      <td>52.0</td>\n",
              "      <td>5.817352</td>\n",
              "      <td>1.073059</td>\n",
              "      <td>558.0</td>\n",
              "      <td>2.547945</td>\n",
              "      <td>37.85</td>\n",
              "      <td>-122.25</td>\n",
              "      <td>3.413</td>\n",
              "    </tr>\n",
              "    <tr>\n",
              "      <th>4</th>\n",
              "      <td>3.8462</td>\n",
              "      <td>52.0</td>\n",
              "      <td>6.281853</td>\n",
              "      <td>1.081081</td>\n",
              "      <td>565.0</td>\n",
              "      <td>2.181467</td>\n",
              "      <td>37.85</td>\n",
              "      <td>-122.25</td>\n",
              "      <td>3.422</td>\n",
              "    </tr>\n",
              "    <tr>\n",
              "      <th>...</th>\n",
              "      <td>...</td>\n",
              "      <td>...</td>\n",
              "      <td>...</td>\n",
              "      <td>...</td>\n",
              "      <td>...</td>\n",
              "      <td>...</td>\n",
              "      <td>...</td>\n",
              "      <td>...</td>\n",
              "      <td>...</td>\n",
              "    </tr>\n",
              "    <tr>\n",
              "      <th>20635</th>\n",
              "      <td>1.5603</td>\n",
              "      <td>25.0</td>\n",
              "      <td>5.045455</td>\n",
              "      <td>1.133333</td>\n",
              "      <td>845.0</td>\n",
              "      <td>2.560606</td>\n",
              "      <td>39.48</td>\n",
              "      <td>-121.09</td>\n",
              "      <td>0.781</td>\n",
              "    </tr>\n",
              "    <tr>\n",
              "      <th>20636</th>\n",
              "      <td>2.5568</td>\n",
              "      <td>18.0</td>\n",
              "      <td>6.114035</td>\n",
              "      <td>1.315789</td>\n",
              "      <td>356.0</td>\n",
              "      <td>3.122807</td>\n",
              "      <td>39.49</td>\n",
              "      <td>-121.21</td>\n",
              "      <td>0.771</td>\n",
              "    </tr>\n",
              "    <tr>\n",
              "      <th>20637</th>\n",
              "      <td>1.7000</td>\n",
              "      <td>17.0</td>\n",
              "      <td>5.205543</td>\n",
              "      <td>1.120092</td>\n",
              "      <td>1007.0</td>\n",
              "      <td>2.325635</td>\n",
              "      <td>39.43</td>\n",
              "      <td>-121.22</td>\n",
              "      <td>0.923</td>\n",
              "    </tr>\n",
              "    <tr>\n",
              "      <th>20638</th>\n",
              "      <td>1.8672</td>\n",
              "      <td>18.0</td>\n",
              "      <td>5.329513</td>\n",
              "      <td>1.171920</td>\n",
              "      <td>741.0</td>\n",
              "      <td>2.123209</td>\n",
              "      <td>39.43</td>\n",
              "      <td>-121.32</td>\n",
              "      <td>0.847</td>\n",
              "    </tr>\n",
              "    <tr>\n",
              "      <th>20639</th>\n",
              "      <td>2.3886</td>\n",
              "      <td>16.0</td>\n",
              "      <td>5.254717</td>\n",
              "      <td>1.162264</td>\n",
              "      <td>1387.0</td>\n",
              "      <td>2.616981</td>\n",
              "      <td>39.37</td>\n",
              "      <td>-121.24</td>\n",
              "      <td>0.894</td>\n",
              "    </tr>\n",
              "  </tbody>\n",
              "</table>\n",
              "<p>20640 rows × 9 columns</p>\n",
              "</div>\n",
              "      <button class=\"colab-df-convert\" onclick=\"convertToInteractive('df-03906c9d-cd26-4a59-8944-05ca230b6e8c')\"\n",
              "              title=\"Convert this dataframe to an interactive table.\"\n",
              "              style=\"display:none;\">\n",
              "        \n",
              "  <svg xmlns=\"http://www.w3.org/2000/svg\" height=\"24px\"viewBox=\"0 0 24 24\"\n",
              "       width=\"24px\">\n",
              "    <path d=\"M0 0h24v24H0V0z\" fill=\"none\"/>\n",
              "    <path d=\"M18.56 5.44l.94 2.06.94-2.06 2.06-.94-2.06-.94-.94-2.06-.94 2.06-2.06.94zm-11 1L8.5 8.5l.94-2.06 2.06-.94-2.06-.94L8.5 2.5l-.94 2.06-2.06.94zm10 10l.94 2.06.94-2.06 2.06-.94-2.06-.94-.94-2.06-.94 2.06-2.06.94z\"/><path d=\"M17.41 7.96l-1.37-1.37c-.4-.4-.92-.59-1.43-.59-.52 0-1.04.2-1.43.59L10.3 9.45l-7.72 7.72c-.78.78-.78 2.05 0 2.83L4 21.41c.39.39.9.59 1.41.59.51 0 1.02-.2 1.41-.59l7.78-7.78 2.81-2.81c.8-.78.8-2.07 0-2.86zM5.41 20L4 18.59l7.72-7.72 1.47 1.35L5.41 20z\"/>\n",
              "  </svg>\n",
              "      </button>\n",
              "      \n",
              "  <style>\n",
              "    .colab-df-container {\n",
              "      display:flex;\n",
              "      flex-wrap:wrap;\n",
              "      gap: 12px;\n",
              "    }\n",
              "\n",
              "    .colab-df-convert {\n",
              "      background-color: #E8F0FE;\n",
              "      border: none;\n",
              "      border-radius: 50%;\n",
              "      cursor: pointer;\n",
              "      display: none;\n",
              "      fill: #1967D2;\n",
              "      height: 32px;\n",
              "      padding: 0 0 0 0;\n",
              "      width: 32px;\n",
              "    }\n",
              "\n",
              "    .colab-df-convert:hover {\n",
              "      background-color: #E2EBFA;\n",
              "      box-shadow: 0px 1px 2px rgba(60, 64, 67, 0.3), 0px 1px 3px 1px rgba(60, 64, 67, 0.15);\n",
              "      fill: #174EA6;\n",
              "    }\n",
              "\n",
              "    [theme=dark] .colab-df-convert {\n",
              "      background-color: #3B4455;\n",
              "      fill: #D2E3FC;\n",
              "    }\n",
              "\n",
              "    [theme=dark] .colab-df-convert:hover {\n",
              "      background-color: #434B5C;\n",
              "      box-shadow: 0px 1px 3px 1px rgba(0, 0, 0, 0.15);\n",
              "      filter: drop-shadow(0px 1px 2px rgba(0, 0, 0, 0.3));\n",
              "      fill: #FFFFFF;\n",
              "    }\n",
              "  </style>\n",
              "\n",
              "      <script>\n",
              "        const buttonEl =\n",
              "          document.querySelector('#df-03906c9d-cd26-4a59-8944-05ca230b6e8c button.colab-df-convert');\n",
              "        buttonEl.style.display =\n",
              "          google.colab.kernel.accessAllowed ? 'block' : 'none';\n",
              "\n",
              "        async function convertToInteractive(key) {\n",
              "          const element = document.querySelector('#df-03906c9d-cd26-4a59-8944-05ca230b6e8c');\n",
              "          const dataTable =\n",
              "            await google.colab.kernel.invokeFunction('convertToInteractive',\n",
              "                                                     [key], {});\n",
              "          if (!dataTable) return;\n",
              "\n",
              "          const docLinkHtml = 'Like what you see? Visit the ' +\n",
              "            '<a target=\"_blank\" href=https://colab.research.google.com/notebooks/data_table.ipynb>data table notebook</a>'\n",
              "            + ' to learn more about interactive tables.';\n",
              "          element.innerHTML = '';\n",
              "          dataTable['output_type'] = 'display_data';\n",
              "          await google.colab.output.renderOutput(dataTable, element);\n",
              "          const docLink = document.createElement('div');\n",
              "          docLink.innerHTML = docLinkHtml;\n",
              "          element.appendChild(docLink);\n",
              "        }\n",
              "      </script>\n",
              "    </div>\n",
              "  </div>\n",
              "  "
            ]
          },
          "metadata": {},
          "execution_count": 14
        }
      ]
    },
    {
      "cell_type": "code",
      "source": [
        "dataset.frame.info()"
      ],
      "metadata": {
        "colab": {
          "base_uri": "https://localhost:8080/"
        },
        "id": "i9N1WyGF4Vts",
        "outputId": "3b38eb4c-1b9e-4f52-f674-29ace48453b2"
      },
      "execution_count": null,
      "outputs": [
        {
          "output_type": "stream",
          "name": "stdout",
          "text": [
            "<class 'pandas.core.frame.DataFrame'>\n",
            "RangeIndex: 20640 entries, 0 to 20639\n",
            "Data columns (total 9 columns):\n",
            " #   Column       Non-Null Count  Dtype  \n",
            "---  ------       --------------  -----  \n",
            " 0   MedInc       20640 non-null  float64\n",
            " 1   HouseAge     20640 non-null  float64\n",
            " 2   AveRooms     20640 non-null  float64\n",
            " 3   AveBedrms    20640 non-null  float64\n",
            " 4   Population   20640 non-null  float64\n",
            " 5   AveOccup     20640 non-null  float64\n",
            " 6   Latitude     20640 non-null  float64\n",
            " 7   Longitude    20640 non-null  float64\n",
            " 8   MedHouseVal  20640 non-null  float64\n",
            "dtypes: float64(9)\n",
            "memory usage: 1.4 MB\n"
          ]
        }
      ]
    },
    {
      "cell_type": "code",
      "source": [
        "import numpy as np\n",
        "import pandas as pd\n",
        "import matplotlib.pyplot as plt\n",
        "import seaborn as sns\n",
        "\n",
        "from scipy.stats import loguniform\n",
        "from scipy.stats import uniform\n",
        "\n",
        "from sklearn.datasets import fetch_california_housing\n",
        "from sklearn.dummy import DummyRegressor\n",
        "from sklearn.linear_model import LinearRegression\n",
        "from sklearn.linear_model import Lasso, LassoCV, Ridge, RidgeCV\n",
        "from sklearn.linear_model import SGDRegressor\n",
        "from sklearn.metrics import mean_squared_error, mean_absolute_error, mean_absolute_percentage_error\n",
        "from sklearn.model_selection import cross_validate, cross_val_score, train_test_split\n",
        "from sklearn.model_selection import ShuffleSplit\n",
        "from sklearn.model_selection import validation_curve \n",
        "from sklearn.model_selection import GridSearchCV , RandomizedSearchCV\n",
        "from sklearn.preprocessing import PolynomialFeatures, StandardScaler\n",
        "from sklearn.pipeline import Pipeline "
      ],
      "metadata": {
        "id": "fnvpp4wj4eJU"
      },
      "execution_count": null,
      "outputs": []
    },
    {
      "cell_type": "code",
      "source": [
        "np.random.seed(306)\n"
      ],
      "metadata": {
        "id": "cOdzPs4u8oG_"
      },
      "execution_count": null,
      "outputs": []
    },
    {
      "cell_type": "code",
      "source": [
        "cv = ShuffleSplit(n_splits = 10 , test_size = 0.2, random_state = 42)"
      ],
      "metadata": {
        "id": "2LT31VxS84XW"
      },
      "execution_count": null,
      "outputs": []
    },
    {
      "cell_type": "code",
      "source": [
        "# we will split the data into train and test \n",
        "# we will split the train data into train and data for hypertunning (validation data)"
      ],
      "metadata": {
        "id": "IHSVQ17C89gf"
      },
      "execution_count": null,
      "outputs": []
    },
    {
      "cell_type": "code",
      "source": [
        "features, labels = fetch_california_housing(as_frame = True, return_X_y = True)\n",
        "\n",
        "com_train_features, test_features, com_train_labels, test_labels = train_test_split(\n",
        "    features, labels , random_state = 42)\n",
        "\n",
        "train_features, dev_features, train_labels, dev_labels = train_test_split(\n",
        "    com_train_features, com_train_labels, random_state = 42)"
      ],
      "metadata": {
        "id": "asch34Ae9NO7"
      },
      "execution_count": null,
      "outputs": []
    },
    {
      "cell_type": "code",
      "source": [
        "# linear regression with normal eqn\n",
        "\n",
        "lin_reg_pipeline = Pipeline([\n",
        "    (\"scaler\" , StandardScaler()),\n",
        "    (\"linear_regressor\" , LinearRegression())\n",
        "])\n",
        "\n",
        "lin_reg_cv_results = cross_validate(lin_reg_pipeline, \n",
        "                                    com_train_features,\n",
        "                                    com_train_labels,\n",
        "                                    cv = cv,\n",
        "                                    scoring = \"neg_mean_absolute_error\",\n",
        "                                    return_train_score = True, \n",
        "                                    return_estimator = True)\n",
        "\n",
        "lin_reg_train_error = -1 * lin_reg_cv_results[\"train_score\"]\n",
        "lin_reg_test_error = -1 * lin_reg_cv_results[\"test_score\"]\n",
        "\n",
        "print(\"mean absolute train error\" , lin_reg_train_error)\n",
        "\n",
        "print(\"mean absolute train error mean is {} and std is {}\" .format(lin_reg_train_error.mean() ,lin_reg_train_error.std()) )\n",
        "\n",
        "print(\"mean absolute test error\" , lin_reg_test_error)\n",
        "\n",
        "print(\"mean absolute test error mean is {} and std is {}\" .format(lin_reg_test_error.mean() ,lin_reg_test_error.std()) )\n"
      ],
      "metadata": {
        "colab": {
          "base_uri": "https://localhost:8080/"
        },
        "id": "H7YXuDks-csE",
        "outputId": "77f73ab0-cb33-44fd-e933-ca4f6eb3631c"
      },
      "execution_count": null,
      "outputs": [
        {
          "output_type": "stream",
          "name": "stdout",
          "text": [
            "mean absolute train error [0.53432327 0.52950337 0.52972591 0.53233173 0.52827875 0.53088043\n",
            " 0.52799365 0.53377084 0.5269963  0.53021738]\n",
            "mean absolute train error mean is 0.5304021630418913 and std is 0.0023212935286191015\n",
            "mean absolute test error [0.51461906 0.52859333 0.53008718 0.51739076 0.53320319 0.53014581\n",
            " 0.53485988 0.51595501 0.53773993 0.52754819]\n",
            "mean absolute test error mean is 0.5270142316974493 and std is 0.007781288307852414\n"
          ]
        }
      ]
    },
    {
      "cell_type": "code",
      "source": [
        "# both the errors are close but are not low which shows underfitting"
      ],
      "metadata": {
        "id": "VsmVrsVr_Mb6"
      },
      "execution_count": null,
      "outputs": []
    },
    {
      "cell_type": "code",
      "source": [
        "# linear regression with SGD\n",
        "\n",
        "sgd_reg_pipeline = Pipeline([\n",
        "    (\"scaler\" , StandardScaler()),\n",
        "    (\"sgd_regressor\" , SGDRegressor(\n",
        "        max_iter = np.ceil(1e6/com_train_features.shape[0]), # max_iter = one million / no. of rows\n",
        "        early_stopping = True,\n",
        "        eta0 = 1e-4,\n",
        "        learning_rate = \"constant\",\n",
        "        tol = 1e-5,\n",
        "        validation_fraction = 0.1,\n",
        "        n_iter_no_change = 5,\n",
        "        average = 10,\n",
        "        random_state = 42 ))])\n",
        "\n",
        "sgd_reg_cv_results = cross_validate(sgd_reg_pipeline, \n",
        "                                    com_train_features,\n",
        "                                    com_train_labels,\n",
        "                                    cv = cv,\n",
        "                                    scoring = \"neg_mean_absolute_error\",\n",
        "                                    return_train_score = True, \n",
        "                                    return_estimator = True)\n",
        "\n",
        "sgd_reg_train_error = -1 * sgd_reg_cv_results[\"train_score\"]\n",
        "sgd_reg_test_error = -1 * sgd_reg_cv_results[\"test_score\"]\n",
        "\n",
        "\n",
        "print(\"mean absolute train error mean is {} and std is {}\" .format(sgd_reg_train_error.mean() ,sgd_reg_train_error.std()) )\n",
        "\n",
        "\n",
        "print(\"mean absolute test error mean is {} and std is {}\" .format(sgd_reg_test_error.mean() ,sgd_reg_test_error.std()) )\n",
        "\n"
      ],
      "metadata": {
        "colab": {
          "base_uri": "https://localhost:8080/"
        },
        "id": "dPB_LtnaCKPJ",
        "outputId": "4e9b3f3f-1497-448b-8a19-4571ff2db03b"
      },
      "execution_count": null,
      "outputs": [
        {
          "output_type": "stream",
          "name": "stdout",
          "text": [
            "mean absolute train error mean is 0.5640399853222634 and std is 0.02266704205287487\n",
            "mean absolute test error mean is 0.5607392935103552 and std is 0.025296964206753057\n"
          ]
        }
      ]
    },
    {
      "cell_type": "code",
      "source": [
        "# polynomial regression\n",
        "\n",
        "poly_reg_pipeline = Pipeline([\n",
        "    (\"poly\" , PolynomialFeatures(degree = 2)),\n",
        "    (\"scaler\" , StandardScaler()),\n",
        "    (\"linear_regressor\" , LinearRegression())\n",
        "])\n",
        "\n",
        "poly_reg_cv_results = cross_validate(\n",
        "    poly_reg_pipeline,\n",
        "    com_train_features,\n",
        "    com_train_labels,\n",
        "    cv = cv,\n",
        "    scoring = \"neg_mean_absolute_error\",\n",
        "    return_train_score = True,\n",
        "    return_estimator= True\n",
        ")\n",
        "\n",
        "\n",
        "\n",
        "poly_reg_train_error = -1 * poly_reg_cv_results[\"train_score\"]\n",
        "poly_reg_test_error = -1 * poly_reg_cv_results[\"test_score\"]\n",
        "\n",
        "\n",
        "print(\"mean absolute train error mean is {} and std is {}\" .format(poly_reg_train_error.mean() ,poly_reg_train_error.std()) )\n",
        "\n",
        "\n",
        "print(\"mean absolute test error mean is {} and std is {}\" .format(poly_reg_test_error.mean() ,poly_reg_test_error.std()) )\n",
        "\n"
      ],
      "metadata": {
        "colab": {
          "base_uri": "https://localhost:8080/"
        },
        "id": "MN2vW1_wF1n0",
        "outputId": "8a7e5e4c-1e88-464a-aacb-1abe35feccb4"
      },
      "execution_count": null,
      "outputs": [
        {
          "output_type": "stream",
          "name": "stdout",
          "text": [
            "mean absolute train error mean is 0.4609643523643526 and std is 0.002977081038774092\n",
            "mean absolute test error mean is 0.4854459947853937 and std is 0.030312417310763985\n"
          ]
        }
      ]
    },
    {
      "cell_type": "code",
      "source": [
        "# using interaction_only = True\n",
        "poly_reg_pipeline = Pipeline([\n",
        "    (\"poly\" , PolynomialFeatures(degree = 2 , interaction_only = True)),\n",
        "    (\"scaler\" , StandardScaler()),\n",
        "    (\"linear_regressor\" , LinearRegression())\n",
        "])\n",
        "\n",
        "poly_reg_cv_results = cross_validate(\n",
        "    poly_reg_pipeline,\n",
        "    com_train_features,\n",
        "    com_train_labels,\n",
        "    cv = cv,\n",
        "    scoring = \"neg_mean_absolute_error\",\n",
        "    return_train_score = True,\n",
        "    return_estimator= True\n",
        ")\n",
        "\n",
        "\n",
        "\n",
        "poly_reg_train_error = -1 * poly_reg_cv_results[\"train_score\"]\n",
        "poly_reg_test_error = -1 * poly_reg_cv_results[\"test_score\"]\n",
        "\n",
        "\n",
        "print(\"mean absolute train error mean is {} and std is {}\" .format(poly_reg_train_error.mean() ,poly_reg_train_error.std()) )\n",
        "\n",
        "\n",
        "print(\"mean absolute test error mean is {} and std is {}\" .format(poly_reg_test_error.mean() ,poly_reg_test_error.std()) )\n",
        "\n"
      ],
      "metadata": {
        "colab": {
          "base_uri": "https://localhost:8080/"
        },
        "id": "krRxVMesH5qg",
        "outputId": "d62035a3-3d44-4ea1-a450-e703de0d074e"
      },
      "execution_count": null,
      "outputs": [
        {
          "output_type": "stream",
          "name": "stdout",
          "text": [
            "mean absolute train error mean is 0.47781943309758984 and std is 0.0028201945045987498\n",
            "mean absolute test error mean is 0.4968715693459049 and std is 0.024386511812476478\n"
          ]
        }
      ]
    },
    {
      "cell_type": "code",
      "source": [
        "# figuring out best degree value using validation_curve. This is manual hyperparameter tuning"
      ],
      "metadata": {
        "id": "ME1ucaUSIi4R"
      },
      "execution_count": null,
      "outputs": []
    },
    {
      "cell_type": "code",
      "source": [
        "degree = [1,2,3,4,5]\n",
        "train_scores , test_scores = validation_curve(\n",
        "    poly_reg_pipeline, com_train_features, com_train_labels , \n",
        "    param_name=\"poly__degree\", param_range = degree , cv = cv , scoring = \"neg_mean_absolute_error\",\n",
        "    n_jobs = 2\n",
        ")\n",
        "\n",
        "train_errors, test_errors = -train_scores, -test_scores\n",
        "\n",
        "plt.plot(degree , train_errors.mean(axis = 1) , \"b-x\" , label = \"training_error\")\n",
        "plt.plot(degree , test_errors.mean(axis = 1) , \"r-x\" , label = \"test_error\")\n",
        "plt.legend()\n",
        "\n",
        "plt.xlabel(\"degree\")\n",
        "plt.ylabel(\"mean absolute error\")\n",
        "_ = plt.title(\"validation curve for poly regression\")\n"
      ],
      "metadata": {
        "colab": {
          "base_uri": "https://localhost:8080/",
          "height": 295
        },
        "id": "bspjXk6wJBQ1",
        "outputId": "d7d00bec-e975-46a8-9032-ead1f2823c9e"
      },
      "execution_count": null,
      "outputs": [
        {
          "output_type": "display_data",
          "data": {
            "text/plain": [
              "<Figure size 432x288 with 1 Axes>"
            ],
            "image/png": "[encoded data removed]"
          },
          "metadata": {
            "needs_background": "light"
          }
        }
      ]
    },
    {
      "cell_type": "code",
      "source": [
        "-train_scores.mean(axis = 1)"
      ],
      "metadata": {
        "colab": {
          "base_uri": "https://localhost:8080/"
        },
        "id": "Y8GhIuHUM2Mn",
        "outputId": "761b6418-2156-41d8-9a05-3ac82d106c56"
      },
      "execution_count": null,
      "outputs": [
        {
          "output_type": "execute_result",
          "data": {
            "text/plain": [
              "array([0.53040216, 0.47781943, 0.46031344, 0.4434906 , 0.43805663])"
            ]
          },
          "metadata": {},
          "execution_count": 52
        }
      ]
    },
    {
      "cell_type": "code",
      "source": [
        "# Ridge regression which is linear regression with the reguraalization rate alpha(lambada in MLT)\n",
        "ridge_reg_pipeline = Pipeline([\n",
        "    (\"poly\" , PolynomialFeatures(degree = 2 , interaction_only = True)),\n",
        "    (\"scaler\" , StandardScaler()),\n",
        "    (\"ridge\" , Ridge(alpha = 0.5))\n",
        "])\n",
        "\n",
        "ridge_reg_cv_results = cross_validate(\n",
        "    ridge_reg_pipeline,\n",
        "    com_train_features,\n",
        "    com_train_labels,\n",
        "    cv = cv,\n",
        "    scoring = \"neg_mean_absolute_error\",\n",
        "    return_train_score = True,\n",
        "    return_estimator= True\n",
        ")\n",
        "\n",
        "\n",
        "\n",
        "ridge_reg_train_error = -1 * ridge_reg_cv_results[\"train_score\"]\n",
        "ridge_reg_test_error = -1 * ridge_reg_cv_results[\"test_score\"]\n",
        "\n",
        "\n",
        "print(\"mean absolute train error mean is {} and std is {}\" .format(ridge_reg_train_error.mean() ,ridge_reg_train_error.std()) )\n",
        "\n",
        "\n",
        "print(\"mean absolute test error mean is {} and std is {}\" .format(ridge_reg_test_error.mean() ,ridge_reg_test_error.std()) )\n",
        "\n"
      ],
      "metadata": {
        "colab": {
          "base_uri": "https://localhost:8080/"
        },
        "id": "1zbIoViqM_hC",
        "outputId": "ed5e8a57-675d-4410-da59-393f6df35862"
      },
      "execution_count": null,
      "outputs": [
        {
          "output_type": "stream",
          "name": "stdout",
          "text": [
            "mean absolute train error mean is 0.4897328478201584 and std is 0.002821093997757127\n",
            "mean absolute test error mean is 0.4932538061952532 and std is 0.0055566693884883025\n"
          ]
        }
      ]
    },
    {
      "cell_type": "code",
      "source": [
        "# hpyerparamerter tuning alpha through RidgeCV\n",
        "\n",
        "alpha_list = np.logspace(-4 , 0 , num = 20)\n",
        "ridge_reg_pipeline = Pipeline([\n",
        "    (\"poly\" , PolynomialFeatures(degree = 2 , interaction_only = True)),\n",
        "    (\"scaler\" , StandardScaler()),\n",
        "    (\"ridge\" , RidgeCV(alphas = alpha_list,\n",
        "                       cv = cv,\n",
        "                       scoring = \"neg_mean_absolute_error\"))\n",
        "])\n",
        "\n",
        "ridge_reg_cv_results = ridge_reg_pipeline.fit(com_train_features , com_train_labels)"
      ],
      "metadata": {
        "id": "mYTPGmRdRAkM"
      },
      "execution_count": null,
      "outputs": []
    },
    {
      "cell_type": "code",
      "source": [
        "ridge_reg_cv_results"
      ],
      "metadata": {
        "colab": {
          "base_uri": "https://localhost:8080/"
        },
        "id": "SmrYamWgRx7b",
        "outputId": "b9b90b3f-3db5-43d3-b6e9-ce3139858002"
      },
      "execution_count": null,
      "outputs": [
        {
          "output_type": "execute_result",
          "data": {
            "text/plain": [
              "Pipeline(steps=[('poly', PolynomialFeatures(interaction_only=True)),\n",
              "                ('scaler', StandardScaler()),\n",
              "                ('ridge',\n",
              "                 RidgeCV(alphas=array([1.00000000e-04, 1.62377674e-04, 2.63665090e-04, 4.28133240e-04,\n",
              "       6.95192796e-04, 1.12883789e-03, 1.83298071e-03, 2.97635144e-03,\n",
              "       4.83293024e-03, 7.84759970e-03, 1.27427499e-02, 2.06913808e-02,\n",
              "       3.35981829e-02, 5.45559478e-02, 8.85866790e-02, 1.43844989e-01,\n",
              "       2.33572147e-01, 3.79269019e-01, 6.15848211e-01, 1.00000000e+00]),\n",
              "                         cv=ShuffleSplit(n_splits=10, random_state=42, test_size=0.2, train_size=None),\n",
              "                         scoring='neg_mean_absolute_error'))])"
            ]
          },
          "metadata": {},
          "execution_count": 56
        }
      ]
    },
    {
      "cell_type": "code",
      "source": [
        "print(\"the score with the best alpha\" , ridge_reg_cv_results[-1].best_score_)\n",
        "print(\"the error with the best alpha\" , -ridge_reg_cv_results[-1].best_score_)\n",
        "print(\"the best alpha\" , ridge_reg_cv_results[-1].alpha_)\n"
      ],
      "metadata": {
        "colab": {
          "base_uri": "https://localhost:8080/"
        },
        "id": "j93CMnk4R77S",
        "outputId": "3cda3368-1878-433c-c3c6-c47cfb450d90"
      },
      "execution_count": null,
      "outputs": [
        {
          "output_type": "stream",
          "name": "stdout",
          "text": [
            "the score with the best alpha -0.48502748443291166\n",
            "the error with the best alpha 0.48502748443291166\n",
            "the best alpha 0.007847599703514606\n"
          ]
        }
      ]
    },
    {
      "cell_type": "code",
      "source": [
        "ridge_reg_cv_results[-1]"
      ],
      "metadata": {
        "colab": {
          "base_uri": "https://localhost:8080/"
        },
        "id": "rWir5bfISQm2",
        "outputId": "942e4685-f621-4e21-bb6f-b99953ff1258"
      },
      "execution_count": null,
      "outputs": [
        {
          "output_type": "execute_result",
          "data": {
            "text/plain": [
              "RidgeCV(alphas=array([1.00000000e-04, 1.62377674e-04, 2.63665090e-04, 4.28133240e-04,\n",
              "       6.95192796e-04, 1.12883789e-03, 1.83298071e-03, 2.97635144e-03,\n",
              "       4.83293024e-03, 7.84759970e-03, 1.27427499e-02, 2.06913808e-02,\n",
              "       3.35981829e-02, 5.45559478e-02, 8.85866790e-02, 1.43844989e-01,\n",
              "       2.33572147e-01, 3.79269019e-01, 6.15848211e-01, 1.00000000e+00]),\n",
              "        cv=ShuffleSplit(n_splits=10, random_state=42, test_size=0.2, train_size=None),\n",
              "        scoring='neg_mean_absolute_error')"
            ]
          },
          "metadata": {},
          "execution_count": 58
        }
      ]
    },
    {
      "cell_type": "code",
      "source": [
        "# hpyerparamerter tuning alpha through GridSearchCV\n",
        "\n",
        "ridge_grid_pipeline = Pipeline([\n",
        "    (\"poly\" , PolynomialFeatures(degree = 2 , interaction_only = True)),\n",
        "    (\"scaler\" , StandardScaler()),\n",
        "    (\"ridge\" , Ridge())\n",
        "])\n",
        "\n",
        "param_grid = {'poly__degree': (1, 2, 3),\n",
        "              'ridge__alpha': np.logspace(-4, 0, num=20)}\n",
        "              \n",
        "ridge_grid_search = GridSearchCV(ridge_grid_pipeline,\n",
        "                                 param_grid=param_grid,\n",
        "                                 n_jobs=-1,\n",
        "                                 cv=cv,\n",
        "                                 scoring='neg_mean_absolute_error',\n",
        "                                 return_train_score=True)\n",
        "\n",
        "ridge_grid_search.fit(com_train_features, com_train_labels)"
      ],
      "metadata": {
        "colab": {
          "base_uri": "https://localhost:8080/"
        },
        "id": "mwD8UyMGSUry",
        "outputId": "6956a4a1-71fa-445e-ee09-d9aa42b7b3d2"
      },
      "execution_count": null,
      "outputs": [
        {
          "output_type": "execute_result",
          "data": {
            "text/plain": [
              "GridSearchCV(cv=ShuffleSplit(n_splits=10, random_state=42, test_size=0.2, train_size=None),\n",
              "             estimator=Pipeline(steps=[('poly',\n",
              "                                        PolynomialFeatures(interaction_only=True)),\n",
              "                                       ('scaler', StandardScaler()),\n",
              "                                       ('ridge', Ridge())]),\n",
              "             n_jobs=-1,\n",
              "             param_grid={'poly__degree': (1, 2, 3),\n",
              "                         'ridge__alpha': array([1.00000000e-04, 1.62377674e-04, 2.63665090e-04, 4.28133240e-04,\n",
              "       6.95192796e-04, 1.12883789e-03, 1.83298071e-03, 2.97635144e-03,\n",
              "       4.83293024e-03, 7.84759970e-03, 1.27427499e-02, 2.06913808e-02,\n",
              "       3.35981829e-02, 5.45559478e-02, 8.85866790e-02, 1.43844989e-01,\n",
              "       2.33572147e-01, 3.79269019e-01, 6.15848211e-01, 1.00000000e+00])},\n",
              "             return_train_score=True, scoring='neg_mean_absolute_error')"
            ]
          },
          "metadata": {},
          "execution_count": 60
        }
      ]
    },
    {
      "cell_type": "code",
      "source": [
        "ridge_grid_search.cv_results_"
      ],
      "metadata": {
        "colab": {
          "base_uri": "https://localhost:8080/"
        },
        "id": "IayaoPgvThTs",
        "outputId": "9c8be1a9-1541-4591-8bf9-ab949bf5b211"
      },
      "execution_count": null,
      "outputs": [
        {
          "output_type": "execute_result",
          "data": {
            "text/plain": [
              "{'mean_fit_time': array([0.03553767, 0.0627214 , 0.0360441 , 0.02048967, 0.01755047,\n",
              "        0.01731603, 0.01685371, 0.01901455, 0.01756761, 0.01740887,\n",
              "        0.01846356, 0.01748121, 0.01706429, 0.01782675, 0.02022092,\n",
              "        0.01686258, 0.0165998 , 0.01805956, 0.01744003, 0.01802192,\n",
              "        0.03864734, 0.03346457, 0.03564599, 0.03626108, 0.03388648,\n",
              "        0.03467505, 0.03451607, 0.03534684, 0.03531418, 0.0358593 ,\n",
              "        0.03877063, 0.03567586, 0.03648071, 0.03681116, 0.03586707,\n",
              "        0.03535933, 0.03726182, 0.03524835, 0.03327796, 0.03690975,\n",
              "        0.07531266, 0.07638083, 0.07419734, 0.07906101, 0.0789994 ,\n",
              "        0.07375596, 0.07692161, 0.07875915, 0.07584186, 0.07116148,\n",
              "        0.08246176, 0.08032784, 0.07789707, 0.08144221, 0.07976079,\n",
              "        0.07576644, 0.07674339, 0.0789181 , 0.08025241, 0.09519377]),\n",
              " 'std_fit_time': array([0.01416238, 0.01214951, 0.0173744 , 0.00461968, 0.00357449,\n",
              "        0.0026073 , 0.00274439, 0.00534304, 0.0029222 , 0.00222602,\n",
              "        0.00447276, 0.002774  , 0.00231999, 0.0026338 , 0.00475374,\n",
              "        0.00296013, 0.00226784, 0.00412961, 0.00289151, 0.00278352,\n",
              "        0.00680268, 0.00176869, 0.00333964, 0.00255309, 0.00325379,\n",
              "        0.0063586 , 0.00363998, 0.00437898, 0.00434963, 0.00492395,\n",
              "        0.00696322, 0.0034725 , 0.00484276, 0.00434934, 0.0057693 ,\n",
              "        0.00311723, 0.0080289 , 0.00356257, 0.00330825, 0.00605385,\n",
              "        0.00501736, 0.00582075, 0.00468131, 0.00738324, 0.00387153,\n",
              "        0.00482943, 0.00527042, 0.00566174, 0.00372915, 0.00237592,\n",
              "        0.02127121, 0.00624725, 0.00728951, 0.01144127, 0.00826738,\n",
              "        0.00654534, 0.00622427, 0.0059301 , 0.00771176, 0.0318415 ]),\n",
              " 'mean_score_time': array([0.00689776, 0.01354437, 0.00799289, 0.00387518, 0.00357893,\n",
              "        0.00358071, 0.0037802 , 0.0054466 , 0.00414929, 0.00364058,\n",
              "        0.00429378, 0.00364957, 0.00369732, 0.00388885, 0.00481369,\n",
              "        0.00369925, 0.00369565, 0.00436165, 0.00355182, 0.00394759,\n",
              "        0.0067071 , 0.00692699, 0.00672314, 0.00654535, 0.00793028,\n",
              "        0.00678604, 0.00715547, 0.00701866, 0.00672359, 0.00691214,\n",
              "        0.00807819, 0.00658951, 0.00676522, 0.0071461 , 0.00693121,\n",
              "        0.0064472 , 0.00641043, 0.00686102, 0.00720642, 0.0075382 ,\n",
              "        0.01099443, 0.01149402, 0.01003907, 0.01028302, 0.01022937,\n",
              "        0.01018679, 0.01109014, 0.01140206, 0.01126144, 0.01212876,\n",
              "        0.01085427, 0.01039567, 0.01042817, 0.01252379, 0.01091237,\n",
              "        0.01106794, 0.01050735, 0.01112244, 0.01004462, 0.01235423]),\n",
              " 'std_score_time': array([0.00380083, 0.00661097, 0.00675378, 0.00041236, 0.00027388,\n",
              "        0.00017617, 0.00029189, 0.00490407, 0.00172152, 0.00032511,\n",
              "        0.00167553, 0.00041015, 0.00021526, 0.00045509, 0.00240213,\n",
              "        0.00022829, 0.00024111, 0.00169393, 0.00021131, 0.00022109,\n",
              "        0.0003991 , 0.00030765, 0.00044733, 0.00030949, 0.00394803,\n",
              "        0.00076592, 0.00192914, 0.00162683, 0.0002845 , 0.00091273,\n",
              "        0.00239984, 0.000895  , 0.00027361, 0.0011706 , 0.00060641,\n",
              "        0.00083008, 0.00043073, 0.00054104, 0.00238743, 0.00210616,\n",
              "        0.00087622, 0.00276871, 0.0007612 , 0.00084807, 0.00064431,\n",
              "        0.00066427, 0.00128605, 0.00233034, 0.00072186, 0.00307893,\n",
              "        0.00091497, 0.00203301, 0.00202558, 0.00426022, 0.00168465,\n",
              "        0.00128543, 0.00111573, 0.00312132, 0.00042596, 0.00436047]),\n",
              " 'param_poly__degree': masked_array(data=[1, 1, 1, 1, 1, 1, 1, 1, 1, 1, 1, 1, 1, 1, 1, 1, 1, 1,\n",
              "                    1, 1, 2, 2, 2, 2, 2, 2, 2, 2, 2, 2, 2, 2, 2, 2, 2, 2,\n",
              "                    2, 2, 2, 2, 3, 3, 3, 3, 3, 3, 3, 3, 3, 3, 3, 3, 3, 3,\n",
              "                    3, 3, 3, 3, 3, 3],\n",
              "              mask=[False, False, False, False, False, False, False, False,\n",
              "                    False, False, False, False, False, False, False, False,\n",
              "                    False, False, False, False, False, False, False, False,\n",
              "                    False, False, False, False, False, False, False, False,\n",
              "                    False, False, False, False, False, False, False, False,\n",
              "                    False, False, False, False, False, False, False, False,\n",
              "                    False, False, False, False, False, False, False, False,\n",
              "                    False, False, False, False],\n",
              "        fill_value='?',\n",
              "             dtype=object),\n",
              " 'param_ridge__alpha': masked_array(data=[0.0001, 0.0001623776739188721, 0.00026366508987303583,\n",
              "                    0.00042813323987193956, 0.0006951927961775605,\n",
              "                    0.0011288378916846883, 0.0018329807108324356,\n",
              "                    0.002976351441631319, 0.004832930238571752,\n",
              "                    0.007847599703514606, 0.012742749857031334,\n",
              "                    0.0206913808111479, 0.03359818286283781,\n",
              "                    0.05455594781168514, 0.08858667904100823,\n",
              "                    0.14384498882876628, 0.23357214690901212,\n",
              "                    0.3792690190732246, 0.615848211066026, 1.0, 0.0001,\n",
              "                    0.0001623776739188721, 0.00026366508987303583,\n",
              "                    0.00042813323987193956, 0.0006951927961775605,\n",
              "                    0.0011288378916846883, 0.0018329807108324356,\n",
              "                    0.002976351441631319, 0.004832930238571752,\n",
              "                    0.007847599703514606, 0.012742749857031334,\n",
              "                    0.0206913808111479, 0.03359818286283781,\n",
              "                    0.05455594781168514, 0.08858667904100823,\n",
              "                    0.14384498882876628, 0.23357214690901212,\n",
              "                    0.3792690190732246, 0.615848211066026, 1.0, 0.0001,\n",
              "                    0.0001623776739188721, 0.00026366508987303583,\n",
              "                    0.00042813323987193956, 0.0006951927961775605,\n",
              "                    0.0011288378916846883, 0.0018329807108324356,\n",
              "                    0.002976351441631319, 0.004832930238571752,\n",
              "                    0.007847599703514606, 0.012742749857031334,\n",
              "                    0.0206913808111479, 0.03359818286283781,\n",
              "                    0.05455594781168514, 0.08858667904100823,\n",
              "                    0.14384498882876628, 0.23357214690901212,\n",
              "                    0.3792690190732246, 0.615848211066026, 1.0],\n",
              "              mask=[False, False, False, False, False, False, False, False,\n",
              "                    False, False, False, False, False, False, False, False,\n",
              "                    False, False, False, False, False, False, False, False,\n",
              "                    False, False, False, False, False, False, False, False,\n",
              "                    False, False, False, False, False, False, False, False,\n",
              "                    False, False, False, False, False, False, False, False,\n",
              "                    False, False, False, False, False, False, False, False,\n",
              "                    False, False, False, False],\n",
              "        fill_value='?',\n",
              "             dtype=object),\n",
              " 'params': [{'poly__degree': 1, 'ridge__alpha': 0.0001},\n",
              "  {'poly__degree': 1, 'ridge__alpha': 0.0001623776739188721},\n",
              "  {'poly__degree': 1, 'ridge__alpha': 0.00026366508987303583},\n",
              "  {'poly__degree': 1, 'ridge__alpha': 0.00042813323987193956},\n",
              "  {'poly__degree': 1, 'ridge__alpha': 0.0006951927961775605},\n",
              "  {'poly__degree': 1, 'ridge__alpha': 0.0011288378916846883},\n",
              "  {'poly__degree': 1, 'ridge__alpha': 0.0018329807108324356},\n",
              "  {'poly__degree': 1, 'ridge__alpha': 0.002976351441631319},\n",
              "  {'poly__degree': 1, 'ridge__alpha': 0.004832930238571752},\n",
              "  {'poly__degree': 1, 'ridge__alpha': 0.007847599703514606},\n",
              "  {'poly__degree': 1, 'ridge__alpha': 0.012742749857031334},\n",
              "  {'poly__degree': 1, 'ridge__alpha': 0.0206913808111479},\n",
              "  {'poly__degree': 1, 'ridge__alpha': 0.03359818286283781},\n",
              "  {'poly__degree': 1, 'ridge__alpha': 0.05455594781168514},\n",
              "  {'poly__degree': 1, 'ridge__alpha': 0.08858667904100823},\n",
              "  {'poly__degree': 1, 'ridge__alpha': 0.14384498882876628},\n",
              "  {'poly__degree': 1, 'ridge__alpha': 0.23357214690901212},\n",
              "  {'poly__degree': 1, 'ridge__alpha': 0.3792690190732246},\n",
              "  {'poly__degree': 1, 'ridge__alpha': 0.615848211066026},\n",
              "  {'poly__degree': 1, 'ridge__alpha': 1.0},\n",
              "  {'poly__degree': 2, 'ridge__alpha': 0.0001},\n",
              "  {'poly__degree': 2, 'ridge__alpha': 0.0001623776739188721},\n",
              "  {'poly__degree': 2, 'ridge__alpha': 0.00026366508987303583},\n",
              "  {'poly__degree': 2, 'ridge__alpha': 0.00042813323987193956},\n",
              "  {'poly__degree': 2, 'ridge__alpha': 0.0006951927961775605},\n",
              "  {'poly__degree': 2, 'ridge__alpha': 0.0011288378916846883},\n",
              "  {'poly__degree': 2, 'ridge__alpha': 0.0018329807108324356},\n",
              "  {'poly__degree': 2, 'ridge__alpha': 0.002976351441631319},\n",
              "  {'poly__degree': 2, 'ridge__alpha': 0.004832930238571752},\n",
              "  {'poly__degree': 2, 'ridge__alpha': 0.007847599703514606},\n",
              "  {'poly__degree': 2, 'ridge__alpha': 0.012742749857031334},\n",
              "  {'poly__degree': 2, 'ridge__alpha': 0.0206913808111479},\n",
              "  {'poly__degree': 2, 'ridge__alpha': 0.03359818286283781},\n",
              "  {'poly__degree': 2, 'ridge__alpha': 0.05455594781168514},\n",
              "  {'poly__degree': 2, 'ridge__alpha': 0.08858667904100823},\n",
              "  {'poly__degree': 2, 'ridge__alpha': 0.14384498882876628},\n",
              "  {'poly__degree': 2, 'ridge__alpha': 0.23357214690901212},\n",
              "  {'poly__degree': 2, 'ridge__alpha': 0.3792690190732246},\n",
              "  {'poly__degree': 2, 'ridge__alpha': 0.615848211066026},\n",
              "  {'poly__degree': 2, 'ridge__alpha': 1.0},\n",
              "  {'poly__degree': 3, 'ridge__alpha': 0.0001},\n",
              "  {'poly__degree': 3, 'ridge__alpha': 0.0001623776739188721},\n",
              "  {'poly__degree': 3, 'ridge__alpha': 0.00026366508987303583},\n",
              "  {'poly__degree': 3, 'ridge__alpha': 0.00042813323987193956},\n",
              "  {'poly__degree': 3, 'ridge__alpha': 0.0006951927961775605},\n",
              "  {'poly__degree': 3, 'ridge__alpha': 0.0011288378916846883},\n",
              "  {'poly__degree': 3, 'ridge__alpha': 0.0018329807108324356},\n",
              "  {'poly__degree': 3, 'ridge__alpha': 0.002976351441631319},\n",
              "  {'poly__degree': 3, 'ridge__alpha': 0.004832930238571752},\n",
              "  {'poly__degree': 3, 'ridge__alpha': 0.007847599703514606},\n",
              "  {'poly__degree': 3, 'ridge__alpha': 0.012742749857031334},\n",
              "  {'poly__degree': 3, 'ridge__alpha': 0.0206913808111479},\n",
              "  {'poly__degree': 3, 'ridge__alpha': 0.03359818286283781},\n",
              "  {'poly__degree': 3, 'ridge__alpha': 0.05455594781168514},\n",
              "  {'poly__degree': 3, 'ridge__alpha': 0.08858667904100823},\n",
              "  {'poly__degree': 3, 'ridge__alpha': 0.14384498882876628},\n",
              "  {'poly__degree': 3, 'ridge__alpha': 0.23357214690901212},\n",
              "  {'poly__degree': 3, 'ridge__alpha': 0.3792690190732246},\n",
              "  {'poly__degree': 3, 'ridge__alpha': 0.615848211066026},\n",
              "  {'poly__degree': 3, 'ridge__alpha': 1.0}],\n",
              " 'split0_test_score': array([-0.51461905, -0.51461905, -0.51461905, -0.51461905, -0.51461905,\n",
              "        -0.51461904, -0.51461903, -0.51461902, -0.51461899, -0.51461895,\n",
              "        -0.51461889, -0.51461878, -0.51461861, -0.51461834, -0.51461789,\n",
              "        -0.51461716, -0.51461598, -0.51461407, -0.51461096, -0.51460593,\n",
              "        -0.53562274, -0.53289972, -0.52893186, -0.52345891, -0.51650963,\n",
              "        -0.50846805, -0.50004493, -0.49215227, -0.48551957, -0.48039547,\n",
              "        -0.48080421, -0.48204688, -0.48339311, -0.48486656, -0.48653511,\n",
              "        -0.48850693, -0.49068383, -0.49275603, -0.49448536, -0.49578371,\n",
              "        -0.54796512, -0.52574093, -0.51626821, -0.51425816, -0.5119912 ,\n",
              "        -0.5093277 , -0.50604308, -0.50205018, -0.49712771, -0.49114512,\n",
              "        -0.48441037, -0.48766763, -0.48757805, -0.48492993, -0.48093785,\n",
              "        -0.47651189, -0.47956874, -0.48440795, -0.48856497, -0.49207923]),\n",
              " 'split1_test_score': array([-0.52859333, -0.52859333, -0.52859333, -0.52859333, -0.52859333,\n",
              "        -0.52859333, -0.52859333, -0.52859332, -0.52859332, -0.52859331,\n",
              "        -0.52859329, -0.52859327, -0.52859323, -0.52859317, -0.52859308,\n",
              "        -0.52859292, -0.52859266, -0.52859225, -0.52859162, -0.52859061,\n",
              "        -0.52379098, -0.5237826 , -0.5237691 , -0.52374734, -0.5237124 ,\n",
              "        -0.52365775, -0.52357348, -0.52344057, -0.52323638, -0.52293287,\n",
              "        -0.5224969 , -0.52187278, -0.5210014 , -0.51983113, -0.51806686,\n",
              "        -0.51521256, -0.51063614, -0.50371928, -0.49432465, -0.497177  ,\n",
              "        -0.96800206, -0.94291905, -0.9158805 , -0.88883032, -0.86282071,\n",
              "        -0.8374179 , -0.81075456, -0.78014905, -0.74314557, -0.69871748,\n",
              "        -0.64768915, -0.59315875, -0.53952679, -0.49151097, -0.48752199,\n",
              "        -0.51492708, -0.52985802, -0.53511726, -0.53569559, -0.53646252]),\n",
              " 'split2_test_score': array([-0.53008718, -0.53008718, -0.53008717, -0.53008717, -0.53008717,\n",
              "        -0.53008717, -0.53008716, -0.53008715, -0.53008713, -0.5300871 ,\n",
              "        -0.53008705, -0.53008696, -0.53008683, -0.53008661, -0.53008626,\n",
              "        -0.53008569, -0.53008477, -0.53008327, -0.53008083, -0.53007688,\n",
              "        -0.47991965, -0.47992977, -0.47994608, -0.47997221, -0.48001518,\n",
              "        -0.48008418, -0.48019078, -0.48036804, -0.48065389, -0.48107552,\n",
              "        -0.4816685 , -0.48245809, -0.4834882 , -0.4847854 , -0.48627745,\n",
              "        -0.48807614, -0.49019175, -0.49250846, -0.49512472, -0.49794153,\n",
              "        -0.47116461, -0.4713007 , -0.47129445, -0.47112912, -0.47071494,\n",
              "        -0.4701396 , -0.46960394, -0.46905516, -0.46857085, -0.46831999,\n",
              "        -0.46823293, -0.46836434, -0.46880752, -0.46986138, -0.47152975,\n",
              "        -0.47312491, -0.47477214, -0.47663916, -0.47888381, -0.48160097]),\n",
              " 'split3_test_score': array([-0.51739076, -0.51739076, -0.51739076, -0.51739076, -0.51739076,\n",
              "        -0.51739076, -0.51739076, -0.51739076, -0.51739075, -0.51739075,\n",
              "        -0.51739075, -0.51739075, -0.51739074, -0.51739073, -0.51739071,\n",
              "        -0.51739068, -0.51739064, -0.51739056, -0.51739044, -0.51739025,\n",
              "        -0.47024944, -0.47025269, -0.47025801, -0.47026662, -0.47028174,\n",
              "        -0.47030705, -0.47035944, -0.47044077, -0.47056518, -0.47074167,\n",
              "        -0.47098151, -0.4713603 , -0.47200269, -0.47290588, -0.47415634,\n",
              "        -0.47574367, -0.4777158 , -0.47986199, -0.482117  , -0.48445572,\n",
              "        -0.46090863, -0.46100633, -0.4611404 , -0.46131684, -0.46154101,\n",
              "        -0.46181119, -0.46214976, -0.46254965, -0.46307658, -0.46358557,\n",
              "        -0.46409781, -0.46468869, -0.46540252, -0.46639555, -0.46751624,\n",
              "        -0.46878212, -0.47017701, -0.47166237, -0.47329515, -0.47530133]),\n",
              " 'split4_test_score': array([-0.53320319, -0.53320319, -0.53320319, -0.53320319, -0.53320319,\n",
              "        -0.5332032 , -0.5332032 , -0.5332032 , -0.5332032 , -0.53320321,\n",
              "        -0.53320322, -0.53320323, -0.53320325, -0.53320329, -0.53320335,\n",
              "        -0.53320345, -0.53320361, -0.53320386, -0.53320428, -0.53320496,\n",
              "        -0.48282426, -0.48282773, -0.48283334, -0.48284286, -0.48285852,\n",
              "        -0.48288371, -0.4829251 , -0.48299264, -0.48310623, -0.48329303,\n",
              "        -0.48358787, -0.48402836, -0.484646  , -0.48556324, -0.48680697,\n",
              "        -0.48830327, -0.49010647, -0.49225558, -0.49472306, -0.49754284,\n",
              "        -0.47438106, -0.47436753, -0.47437326, -0.47435709, -0.4743241 ,\n",
              "        -0.47431745, -0.47432903, -0.47434692, -0.4743343 , -0.47434111,\n",
              "        -0.4744243 , -0.47465999, -0.47510307, -0.47573891, -0.47662683,\n",
              "        -0.47782464, -0.4793381 , -0.48102014, -0.48291107, -0.48491502]),\n",
              " 'split5_test_score': array([-0.53014581, -0.53014581, -0.53014581, -0.53014581, -0.53014581,\n",
              "        -0.53014581, -0.53014581, -0.53014582, -0.53014582, -0.53014583,\n",
              "        -0.53014585, -0.53014588, -0.53014592, -0.530146  , -0.53014612,\n",
              "        -0.53014631, -0.53014663, -0.53014716, -0.53014808, -0.53014961,\n",
              "        -0.49019952, -0.49020635, -0.4902175 , -0.49023559, -0.49026456,\n",
              "        -0.4903114 , -0.49038806, -0.49050581, -0.49068429, -0.49094553,\n",
              "        -0.49132471, -0.49182975, -0.4924712 , -0.49331527, -0.49436321,\n",
              "        -0.49552112, -0.49679526, -0.49790801, -0.49897065, -0.50014381,\n",
              "        -0.51411298, -0.51496954, -0.51552026, -0.51573804, -0.51558755,\n",
              "        -0.51500085, -0.51397391, -0.51232739, -0.50985426, -0.50639558,\n",
              "        -0.50187892, -0.49647411, -0.49055008, -0.48463148, -0.47916792,\n",
              "        -0.47917155, -0.48516726, -0.49015936, -0.49425985, -0.49740556]),\n",
              " 'split6_test_score': array([-0.53485988, -0.53485988, -0.53485987, -0.53485987, -0.53485987,\n",
              "        -0.53485987, -0.53485986, -0.53485985, -0.53485983, -0.5348598 ,\n",
              "        -0.53485976, -0.53485968, -0.53485956, -0.53485936, -0.53485904,\n",
              "        -0.53485852, -0.53485768, -0.53485631, -0.53485409, -0.53485049,\n",
              "        -0.48354453, -0.48355174, -0.4835634 , -0.48358229, -0.48361318,\n",
              "        -0.48366261, -0.483741  , -0.48386429, -0.48405585, -0.48435628,\n",
              "        -0.48482699, -0.48552916, -0.4864588 , -0.48772657, -0.48932715,\n",
              "        -0.49120967, -0.49348586, -0.49606879, -0.49881071, -0.50170307,\n",
              "        -0.47740655, -0.47699864, -0.47653355, -0.4760334 , -0.47550923,\n",
              "        -0.47602013, -0.47697904, -0.47791601, -0.4787441 , -0.47942503,\n",
              "        -0.47996245, -0.48042989, -0.48082291, -0.48113706, -0.48142605,\n",
              "        -0.48172415, -0.48207282, -0.48266649, -0.48512852, -0.4875601 ]),\n",
              " 'split7_test_score': array([-0.51595501, -0.51595501, -0.515955  , -0.515955  , -0.515955  ,\n",
              "        -0.515955  , -0.515955  , -0.51595499, -0.51595498, -0.51595497,\n",
              "        -0.51595495, -0.51595492, -0.51595486, -0.51595477, -0.51595462,\n",
              "        -0.51595438, -0.51595398, -0.51595335, -0.51595232, -0.51595065,\n",
              "        -0.52989632, -0.52764233, -0.52429232, -0.51955075, -0.51326565,\n",
              "        -0.50563099, -0.49729122, -0.48916269, -0.48208458, -0.47647297,\n",
              "        -0.47644265, -0.47763533, -0.47891902, -0.48035136, -0.48200691,\n",
              "        -0.48390089, -0.48585665, -0.4876804 , -0.48930622, -0.49065654,\n",
              "        -0.52079178, -0.52089642, -0.52021514, -0.51872278, -0.51661695,\n",
              "        -0.51402836, -0.51092269, -0.50707035, -0.50206482, -0.49557883,\n",
              "        -0.48834425, -0.4871574 , -0.48347879, -0.47831376, -0.47297801,\n",
              "        -0.46846713, -0.47015303, -0.47565779, -0.48014924, -0.48396586]),\n",
              " 'split8_test_score': array([-0.53773993, -0.53773993, -0.53773992, -0.53773992, -0.53773992,\n",
              "        -0.53773992, -0.53773992, -0.53773992, -0.53773992, -0.53773991,\n",
              "        -0.5377399 , -0.53773988, -0.53773985, -0.53773981, -0.53773974,\n",
              "        -0.53773962, -0.53773943, -0.53773912, -0.53773863, -0.53773782,\n",
              "        -0.48825056, -0.48825794, -0.48826978, -0.48828869, -0.48831861,\n",
              "        -0.48836552, -0.48844004, -0.48855925, -0.48873511, -0.48898572,\n",
              "        -0.48935047, -0.48984257, -0.49046138, -0.49126547, -0.49228402,\n",
              "        -0.49365483, -0.49546266, -0.49759845, -0.50001513, -0.50266253,\n",
              "        -0.47331068, -0.47345814, -0.47351185, -0.47349207, -0.47348736,\n",
              "        -0.47359723, -0.47384248, -0.4742454 , -0.47474069, -0.47525827,\n",
              "        -0.47598335, -0.47679306, -0.47760413, -0.47844057, -0.47932851,\n",
              "        -0.48027288, -0.48133176, -0.48267773, -0.48431798, -0.48643638]),\n",
              " 'split9_test_score': array([-0.52754819, -0.52754819, -0.52754819, -0.52754819, -0.52754819,\n",
              "        -0.52754818, -0.52754818, -0.52754818, -0.52754817, -0.52754816,\n",
              "        -0.52754814, -0.52754811, -0.52754807, -0.52754799, -0.52754787,\n",
              "        -0.52754767, -0.52754734, -0.52754682, -0.52754596, -0.52754458,\n",
              "        -0.4755772 , -0.47558195, -0.47558958, -0.47560182, -0.47562127,\n",
              "        -0.4756519 , -0.47570435, -0.4757917 , -0.47594375, -0.47621022,\n",
              "        -0.47663208, -0.47724158, -0.47804804, -0.47909853, -0.48040388,\n",
              "        -0.48199373, -0.48399711, -0.48620865, -0.48881653, -0.49152573,\n",
              "        -0.46772141, -0.46768723, -0.46757554, -0.46737371, -0.46710518,\n",
              "        -0.46680284, -0.4665294 , -0.46630025, -0.46616004, -0.46611301,\n",
              "        -0.46632318, -0.46681035, -0.46762586, -0.46878917, -0.47000571,\n",
              "        -0.47127556, -0.47265472, -0.47435861, -0.4763202 , -0.47853294]),\n",
              " 'mean_test_score': array([-0.52701423, -0.52701423, -0.52701423, -0.52701423, -0.52701423,\n",
              "        -0.52701423, -0.52701422, -0.52701422, -0.52701421, -0.5270142 ,\n",
              "        -0.52701418, -0.52701415, -0.52701409, -0.52701401, -0.52701387,\n",
              "        -0.52701364, -0.52701327, -0.52701268, -0.52701172, -0.52701018,\n",
              "        -0.49598752, -0.49549328, -0.4947671 , -0.49375471, -0.49244608,\n",
              "        -0.49090232, -0.48926584, -0.4877278 , -0.48645848, -0.48554093,\n",
              "        -0.48581159, -0.48638448, -0.48708898, -0.48797094, -0.48902279,\n",
              "        -0.49021228, -0.49149315, -0.49265656, -0.4936694 , -0.49595925,\n",
              "        -0.53757649, -0.53293445, -0.52923132, -0.52612515, -0.52296982,\n",
              "        -0.51984632, -0.51651279, -0.51260104, -0.50778189, -0.501888  ,\n",
              "        -0.49513467, -0.48962042, -0.48364997, -0.47797488, -0.47670389,\n",
              "        -0.47920819, -0.48250936, -0.48543669, -0.48795264, -0.49042599]),\n",
              " 'std_test_score': array([0.00778129, 0.00778129, 0.00778129, 0.00778129, 0.00778129,\n",
              "        0.00778129, 0.00778129, 0.00778129, 0.00778129, 0.0077813 ,\n",
              "        0.00778131, 0.00778132, 0.00778133, 0.00778136, 0.00778141,\n",
              "        0.00778148, 0.0077816 , 0.00778179, 0.00778211, 0.00778263,\n",
              "        0.02291824, 0.02211827, 0.02097397, 0.01945075, 0.01763714,\n",
              "        0.01579771, 0.01433179, 0.01355829, 0.01345187, 0.01371282,\n",
              "        0.01352352, 0.01314309, 0.012647  , 0.01201608, 0.01116226,\n",
              "        0.00996934, 0.00834471, 0.00645181, 0.0052457 , 0.00532441,\n",
              "        0.14598588, 0.13853977, 0.13062179, 0.12267613, 0.11506797,\n",
              "        0.1076126 , 0.09977113, 0.09077811, 0.07991787, 0.06690566,\n",
              "        0.05198313, 0.03583793, 0.02028034, 0.00758635, 0.00583228,\n",
              "        0.01271414, 0.0165257 , 0.01735451, 0.01690988, 0.01647764]),\n",
              " 'rank_test_score': array([57, 56, 55, 54, 53, 52, 51, 50, 49, 48, 47, 46, 45, 44, 43, 42, 41,\n",
              "        40, 39, 38, 30, 28, 26, 25, 22, 20, 16, 12, 10,  7,  8,  9, 11, 14,\n",
              "        15, 18, 21, 23, 24, 29, 60, 59, 58, 37, 36, 35, 34, 33, 32, 31, 27,\n",
              "        17,  5,  2,  1,  3,  4,  6, 13, 19], dtype=int32),\n",
              " 'split0_train_score': array([-0.53432327, -0.53432326, -0.53432326, -0.53432326, -0.53432326,\n",
              "        -0.53432326, -0.53432326, -0.53432326, -0.53432325, -0.53432324,\n",
              "        -0.53432323, -0.53432321, -0.53432317, -0.53432311, -0.53432301,\n",
              "        -0.53432286, -0.5343226 , -0.53432219, -0.53432154, -0.5343205 ,\n",
              "        -0.4814613 , -0.48149371, -0.48154668, -0.48162884, -0.48174724,\n",
              "        -0.48191599, -0.48214126, -0.48240114, -0.48268998, -0.48300488,\n",
              "        -0.48337281, -0.4838294 , -0.48445094, -0.48529138, -0.48638538,\n",
              "        -0.4877758 , -0.48934678, -0.49098938, -0.49254462, -0.49392677,\n",
              "        -0.46428904, -0.46476399, -0.46519257, -0.46556637, -0.46590648,\n",
              "        -0.46624049, -0.4665938 , -0.46698929, -0.46745841, -0.46797772,\n",
              "        -0.468608  , -0.46930046, -0.47007223, -0.4709727 , -0.4720392 ,\n",
              "        -0.47330653, -0.47480945, -0.47654018, -0.47845135, -0.4804453 ]),\n",
              " 'split1_train_score': array([-0.52950336, -0.52950336, -0.52950336, -0.52950336, -0.52950336,\n",
              "        -0.52950336, -0.52950335, -0.52950334, -0.52950333, -0.52950331,\n",
              "        -0.52950327, -0.52950322, -0.52950313, -0.52950298, -0.52950274,\n",
              "        -0.52950235, -0.52950172, -0.52950071, -0.52949909, -0.52949652,\n",
              "        -0.47537395, -0.47537816, -0.47538498, -0.47539603, -0.47541432,\n",
              "        -0.47544382, -0.47549151, -0.47556792, -0.4756909 , -0.47588901,\n",
              "        -0.47620489, -0.47668265, -0.47738515, -0.47834547, -0.47961032,\n",
              "        -0.48121775, -0.4830942 , -0.4851643 , -0.48730533, -0.48939912,\n",
              "        -0.45556613, -0.45576459, -0.45600455, -0.45625171, -0.45650306,\n",
              "        -0.45675077, -0.45701204, -0.45732246, -0.4576706 , -0.45809769,\n",
              "        -0.45865947, -0.45939081, -0.46032107, -0.46145833, -0.46284246,\n",
              "        -0.46443137, -0.46625637, -0.46836507, -0.47069545, -0.47317702]),\n",
              " 'split2_train_score': array([-0.52972591, -0.52972591, -0.52972591, -0.52972591, -0.52972591,\n",
              "        -0.52972591, -0.5297259 , -0.5297259 , -0.52972588, -0.52972587,\n",
              "        -0.52972584, -0.5297258 , -0.52972572, -0.5297256 , -0.52972541,\n",
              "        -0.52972511, -0.52972461, -0.5297238 , -0.5297225 , -0.52972044,\n",
              "        -0.47917676, -0.47918407, -0.47919589, -0.47921482, -0.47924492,\n",
              "        -0.4792921 , -0.47936601, -0.47947942, -0.47965392, -0.47991084,\n",
              "        -0.48028402, -0.48080921, -0.48156504, -0.48261859, -0.48403796,\n",
              "        -0.48585842, -0.48802062, -0.49038622, -0.49293175, -0.49557225,\n",
              "        -0.46210394, -0.46233906, -0.46254673, -0.46272879, -0.46292561,\n",
              "        -0.46317031, -0.46350507, -0.46394948, -0.46452533, -0.46518538,\n",
              "        -0.46594724, -0.46683136, -0.46782085, -0.46893011, -0.47020901,\n",
              "        -0.47163607, -0.47327936, -0.47518418, -0.47743486, -0.47993909]),\n",
              " 'split3_train_score': array([-0.53233173, -0.53233173, -0.53233173, -0.53233173, -0.53233173,\n",
              "        -0.53233173, -0.53233172, -0.53233171, -0.5323317 , -0.53233167,\n",
              "        -0.53233163, -0.53233157, -0.53233146, -0.53233129, -0.53233101,\n",
              "        -0.53233056, -0.53232985, -0.53232869, -0.53232683, -0.53232389,\n",
              "        -0.47931615, -0.47932523, -0.47934013, -0.47936393, -0.4794016 ,\n",
              "        -0.47946038, -0.47955285, -0.47969308, -0.47991219, -0.4802358 ,\n",
              "        -0.48069974, -0.48133466, -0.48219146, -0.48329653, -0.48473036,\n",
              "        -0.48657427, -0.48877985, -0.49122128, -0.49385699, -0.49668731,\n",
              "        -0.46013211, -0.46027427, -0.46042169, -0.46056466, -0.4607299 ,\n",
              "        -0.4609411 , -0.46124288, -0.46165288, -0.46216642, -0.4628007 ,\n",
              "        -0.46356423, -0.46454142, -0.465723  , -0.46709947, -0.46858995,\n",
              "        -0.47019977, -0.47202583, -0.47415699, -0.47658524, -0.47926144]),\n",
              " 'split4_train_score': array([-0.52827875, -0.52827875, -0.52827875, -0.52827874, -0.52827874,\n",
              "        -0.52827874, -0.52827874, -0.52827873, -0.52827873, -0.52827871,\n",
              "        -0.52827869, -0.52827865, -0.5282786 , -0.5282785 , -0.52827835,\n",
              "        -0.52827811, -0.52827772, -0.52827711, -0.52827615, -0.52827459,\n",
              "        -0.47350112, -0.47350429, -0.47350941, -0.47351777, -0.47353171,\n",
              "        -0.47355512, -0.4735935 , -0.47365689, -0.47376281, -0.4739418 ,\n",
              "        -0.47423171, -0.47468138, -0.47535397, -0.47627453, -0.4775166 ,\n",
              "        -0.47917877, -0.48130165, -0.48379886, -0.48660373, -0.48972492,\n",
              "        -0.45349898, -0.45366827, -0.45387033, -0.45411599, -0.45440515,\n",
              "        -0.45477842, -0.45528308, -0.45592671, -0.45668268, -0.45750471,\n",
              "        -0.45837435, -0.45927658, -0.46025351, -0.46139068, -0.46266751,\n",
              "        -0.46419549, -0.46604782, -0.4681789 , -0.47054995, -0.47313864]),\n",
              " 'split5_train_score': array([-0.53088043, -0.53088043, -0.53088043, -0.53088043, -0.53088043,\n",
              "        -0.53088043, -0.53088042, -0.53088042, -0.53088041, -0.53088039,\n",
              "        -0.53088036, -0.53088031, -0.53088024, -0.53088011, -0.53087991,\n",
              "        -0.53087959, -0.53087906, -0.5308782 , -0.53087685, -0.53087472,\n",
              "        -0.47586421, -0.47586744, -0.47587269, -0.47588124, -0.47589515,\n",
              "        -0.47591827, -0.4759577 , -0.47602363, -0.47613752, -0.47631838,\n",
              "        -0.47659436, -0.47701578, -0.47765891, -0.47859693, -0.47990498,\n",
              "        -0.48168065, -0.48388119, -0.4864012 , -0.48919339, -0.49223769,\n",
              "        -0.45718531, -0.45736967, -0.45756972, -0.45778858, -0.45804133,\n",
              "        -0.45836673, -0.45878937, -0.45932649, -0.45998211, -0.46070907,\n",
              "        -0.46147888, -0.46232533, -0.46330687, -0.46444635, -0.46573183,\n",
              "        -0.46722548, -0.46899152, -0.4711154 , -0.47352621, -0.47612092]),\n",
              " 'split6_train_score': array([-0.52799365, -0.52799365, -0.52799365, -0.52799365, -0.52799365,\n",
              "        -0.52799365, -0.52799365, -0.52799364, -0.52799363, -0.52799362,\n",
              "        -0.52799359, -0.52799355, -0.52799349, -0.52799339, -0.52799323,\n",
              "        -0.52799296, -0.52799253, -0.52799184, -0.52799074, -0.52798896,\n",
              "        -0.47496647, -0.47497169, -0.47498009, -0.4749936 , -0.47501533,\n",
              "        -0.47504974, -0.47510364, -0.47518662, -0.47531439, -0.47550448,\n",
              "        -0.47579909, -0.47624424, -0.47688075, -0.47779021, -0.47905789,\n",
              "        -0.48072812, -0.48278078, -0.48509097, -0.48765504, -0.4904948 ,\n",
              "        -0.45375211, -0.45390533, -0.45407959, -0.45427183, -0.45450086,\n",
              "        -0.45482134, -0.45523339, -0.45572881, -0.45633866, -0.45705844,\n",
              "        -0.4579139 , -0.45892083, -0.46011154, -0.4614279 , -0.46291803,\n",
              "        -0.46458938, -0.46653078, -0.46885753, -0.47146484, -0.47425926]),\n",
              " 'split7_train_score': array([-0.53377084, -0.53377084, -0.53377084, -0.53377084, -0.53377083,\n",
              "        -0.53377083, -0.53377083, -0.53377082, -0.53377081, -0.53377079,\n",
              "        -0.53377077, -0.53377072, -0.53377065, -0.53377053, -0.53377034,\n",
              "        -0.53377002, -0.53376952, -0.5337687 , -0.53376738, -0.53376525,\n",
              "        -0.48228878, -0.4822941 , -0.48230438, -0.48232668, -0.48237638,\n",
              "        -0.48247315, -0.48262299, -0.4828082 , -0.48303124, -0.48330307,\n",
              "        -0.48363875, -0.48409422, -0.48473881, -0.48563218, -0.48675733,\n",
              "        -0.48817742, -0.48987116, -0.49162877, -0.49328539, -0.49473006,\n",
              "        -0.46716376, -0.46754837, -0.46789172, -0.46819678, -0.46850357,\n",
              "        -0.46880323, -0.46914289, -0.46952706, -0.47000063, -0.47054749,\n",
              "        -0.47114086, -0.47178968, -0.47254367, -0.47342026, -0.47442655,\n",
              "        -0.47554796, -0.47684604, -0.47839622, -0.48013815, -0.48197599]),\n",
              " 'split8_train_score': array([-0.5269963 , -0.5269963 , -0.5269963 , -0.52699629, -0.52699629,\n",
              "        -0.52699629, -0.52699629, -0.52699629, -0.52699628, -0.52699627,\n",
              "        -0.52699625, -0.52699623, -0.52699618, -0.52699611, -0.526996  ,\n",
              "        -0.52699581, -0.52699551, -0.52699502, -0.52699422, -0.52699293,\n",
              "        -0.47649808, -0.47650487, -0.47651591, -0.47653375, -0.47656272,\n",
              "        -0.47660917, -0.47668315, -0.47679882, -0.47697354, -0.47724263,\n",
              "        -0.47762973, -0.47818186, -0.47895372, -0.4799942 , -0.48136231,\n",
              "        -0.48316744, -0.48535952, -0.48779983, -0.49040291, -0.49309748,\n",
              "        -0.46016112, -0.46038038, -0.46058709, -0.46078434, -0.46099358,\n",
              "        -0.46123446, -0.46153112, -0.4618632 , -0.46228156, -0.46283383,\n",
              "        -0.46352973, -0.46436595, -0.46538738, -0.46655413, -0.46788787,\n",
              "        -0.46942935, -0.47125939, -0.47341863, -0.4759227 , -0.47860253]),\n",
              " 'split9_train_score': array([-0.53021738, -0.53021738, -0.53021738, -0.53021738, -0.53021738,\n",
              "        -0.53021738, -0.53021737, -0.53021737, -0.53021735, -0.53021734,\n",
              "        -0.53021731, -0.53021727, -0.53021719, -0.53021708, -0.53021689,\n",
              "        -0.53021658, -0.53021608, -0.5302153 , -0.53021404, -0.53021206,\n",
              "        -0.47987446, -0.47988049, -0.47989021, -0.47990591, -0.47993117,\n",
              "        -0.47997189, -0.48003569, -0.48013317, -0.48028813, -0.48054296,\n",
              "        -0.4809044 , -0.48144859, -0.48222614, -0.48329202, -0.4847251 ,\n",
              "        -0.48658716, -0.48882763, -0.49132826, -0.49398123, -0.49680255,\n",
              "        -0.46163224, -0.46181259, -0.46200776, -0.46222032, -0.4624426 ,\n",
              "        -0.46274425, -0.4631358 , -0.46362218, -0.46421264, -0.46492841,\n",
              "        -0.46572307, -0.46659219, -0.46758293, -0.46868488, -0.46992368,\n",
              "        -0.47133313, -0.47299292, -0.47494928, -0.47729205, -0.47999938]),\n",
              " 'mean_train_score': array([-0.53040216, -0.53040216, -0.53040216, -0.53040216, -0.53040216,\n",
              "        -0.53040216, -0.53040215, -0.53040215, -0.53040214, -0.53040212,\n",
              "        -0.53040209, -0.53040205, -0.53040198, -0.53040187, -0.53040169,\n",
              "        -0.53040139, -0.53040092, -0.53040016, -0.53039893, -0.53039698,\n",
              "        -0.47783213, -0.47784041, -0.47785404, -0.47787626, -0.47791205,\n",
              "        -0.47796896, -0.47805483, -0.47817489, -0.47834546, -0.47858939,\n",
              "        -0.47893595, -0.4794322 , -0.48014049, -0.4811132 , -0.48240882,\n",
              "        -0.48409458, -0.48612634, -0.48838091, -0.49077604, -0.49326729,\n",
              "        -0.45954848, -0.45978265, -0.46001718, -0.46024894, -0.46049521,\n",
              "        -0.46078511, -0.46114694, -0.46159086, -0.4621319 , -0.46276434,\n",
              "        -0.46349397, -0.46433346, -0.4653123 , -0.46643848, -0.46772361,\n",
              "        -0.46918945, -0.47090395, -0.47291624, -0.47520608, -0.47769196]),\n",
              " 'std_train_score': array([0.00232129, 0.00232129, 0.00232129, 0.00232129, 0.00232129,\n",
              "        0.00232129, 0.00232129, 0.00232129, 0.00232129, 0.00232129,\n",
              "        0.00232129, 0.00232129, 0.00232129, 0.00232128, 0.00232127,\n",
              "        0.00232126, 0.00232124, 0.00232121, 0.00232116, 0.00232107,\n",
              "        0.00282628, 0.00283063, 0.00283803, 0.00285048, 0.00287083,\n",
              "        0.00290324, 0.00294817, 0.00299717, 0.00304572, 0.00308818,\n",
              "        0.00311806, 0.00313603, 0.00314651, 0.00315211, 0.00313831,\n",
              "        0.00310089, 0.00302678, 0.00290777, 0.00275093, 0.00261474,\n",
              "        0.00428593, 0.004362  , 0.0044133 , 0.00444112, 0.00445419,\n",
              "        0.00444496, 0.00441913, 0.0043782 , 0.00433763, 0.0042957 ,\n",
              "        0.00424738, 0.0041831 , 0.00410056, 0.00400457, 0.00389614,\n",
              "        0.00376348, 0.0036044 , 0.00342204, 0.00324709, 0.0030817 ])}"
            ]
          },
          "metadata": {},
          "execution_count": 61
        }
      ]
    },
    {
      "cell_type": "code",
      "source": [
        "ridge_grid_search.cv_results_['params']"
      ],
      "metadata": {
        "colab": {
          "base_uri": "https://localhost:8080/"
        },
        "id": "mzZWQfDRT0z4",
        "outputId": "8a249466-0fd8-4758-ea71-1ed15cd52b33"
      },
      "execution_count": null,
      "outputs": [
        {
          "output_type": "execute_result",
          "data": {
            "text/plain": [
              "[{'poly__degree': 1, 'ridge__alpha': 0.0001},\n",
              " {'poly__degree': 1, 'ridge__alpha': 0.0001623776739188721},\n",
              " {'poly__degree': 1, 'ridge__alpha': 0.00026366508987303583},\n",
              " {'poly__degree': 1, 'ridge__alpha': 0.00042813323987193956},\n",
              " {'poly__degree': 1, 'ridge__alpha': 0.0006951927961775605},\n",
              " {'poly__degree': 1, 'ridge__alpha': 0.0011288378916846883},\n",
              " {'poly__degree': 1, 'ridge__alpha': 0.0018329807108324356},\n",
              " {'poly__degree': 1, 'ridge__alpha': 0.002976351441631319},\n",
              " {'poly__degree': 1, 'ridge__alpha': 0.004832930238571752},\n",
              " {'poly__degree': 1, 'ridge__alpha': 0.007847599703514606},\n",
              " {'poly__degree': 1, 'ridge__alpha': 0.012742749857031334},\n",
              " {'poly__degree': 1, 'ridge__alpha': 0.0206913808111479},\n",
              " {'poly__degree': 1, 'ridge__alpha': 0.03359818286283781},\n",
              " {'poly__degree': 1, 'ridge__alpha': 0.05455594781168514},\n",
              " {'poly__degree': 1, 'ridge__alpha': 0.08858667904100823},\n",
              " {'poly__degree': 1, 'ridge__alpha': 0.14384498882876628},\n",
              " {'poly__degree': 1, 'ridge__alpha': 0.23357214690901212},\n",
              " {'poly__degree': 1, 'ridge__alpha': 0.3792690190732246},\n",
              " {'poly__degree': 1, 'ridge__alpha': 0.615848211066026},\n",
              " {'poly__degree': 1, 'ridge__alpha': 1.0},\n",
              " {'poly__degree': 2, 'ridge__alpha': 0.0001},\n",
              " {'poly__degree': 2, 'ridge__alpha': 0.0001623776739188721},\n",
              " {'poly__degree': 2, 'ridge__alpha': 0.00026366508987303583},\n",
              " {'poly__degree': 2, 'ridge__alpha': 0.00042813323987193956},\n",
              " {'poly__degree': 2, 'ridge__alpha': 0.0006951927961775605},\n",
              " {'poly__degree': 2, 'ridge__alpha': 0.0011288378916846883},\n",
              " {'poly__degree': 2, 'ridge__alpha': 0.0018329807108324356},\n",
              " {'poly__degree': 2, 'ridge__alpha': 0.002976351441631319},\n",
              " {'poly__degree': 2, 'ridge__alpha': 0.004832930238571752},\n",
              " {'poly__degree': 2, 'ridge__alpha': 0.007847599703514606},\n",
              " {'poly__degree': 2, 'ridge__alpha': 0.012742749857031334},\n",
              " {'poly__degree': 2, 'ridge__alpha': 0.0206913808111479},\n",
              " {'poly__degree': 2, 'ridge__alpha': 0.03359818286283781},\n",
              " {'poly__degree': 2, 'ridge__alpha': 0.05455594781168514},\n",
              " {'poly__degree': 2, 'ridge__alpha': 0.08858667904100823},\n",
              " {'poly__degree': 2, 'ridge__alpha': 0.14384498882876628},\n",
              " {'poly__degree': 2, 'ridge__alpha': 0.23357214690901212},\n",
              " {'poly__degree': 2, 'ridge__alpha': 0.3792690190732246},\n",
              " {'poly__degree': 2, 'ridge__alpha': 0.615848211066026},\n",
              " {'poly__degree': 2, 'ridge__alpha': 1.0},\n",
              " {'poly__degree': 3, 'ridge__alpha': 0.0001},\n",
              " {'poly__degree': 3, 'ridge__alpha': 0.0001623776739188721},\n",
              " {'poly__degree': 3, 'ridge__alpha': 0.00026366508987303583},\n",
              " {'poly__degree': 3, 'ridge__alpha': 0.00042813323987193956},\n",
              " {'poly__degree': 3, 'ridge__alpha': 0.0006951927961775605},\n",
              " {'poly__degree': 3, 'ridge__alpha': 0.0011288378916846883},\n",
              " {'poly__degree': 3, 'ridge__alpha': 0.0018329807108324356},\n",
              " {'poly__degree': 3, 'ridge__alpha': 0.002976351441631319},\n",
              " {'poly__degree': 3, 'ridge__alpha': 0.004832930238571752},\n",
              " {'poly__degree': 3, 'ridge__alpha': 0.007847599703514606},\n",
              " {'poly__degree': 3, 'ridge__alpha': 0.012742749857031334},\n",
              " {'poly__degree': 3, 'ridge__alpha': 0.0206913808111479},\n",
              " {'poly__degree': 3, 'ridge__alpha': 0.03359818286283781},\n",
              " {'poly__degree': 3, 'ridge__alpha': 0.05455594781168514},\n",
              " {'poly__degree': 3, 'ridge__alpha': 0.08858667904100823},\n",
              " {'poly__degree': 3, 'ridge__alpha': 0.14384498882876628},\n",
              " {'poly__degree': 3, 'ridge__alpha': 0.23357214690901212},\n",
              " {'poly__degree': 3, 'ridge__alpha': 0.3792690190732246},\n",
              " {'poly__degree': 3, 'ridge__alpha': 0.615848211066026},\n",
              " {'poly__degree': 3, 'ridge__alpha': 1.0}]"
            ]
          },
          "metadata": {},
          "execution_count": 62
        }
      ]
    },
    {
      "cell_type": "code",
      "source": [
        "ridge_grid_search.cv_results_['params'][ridge_grid_search.best_index_]"
      ],
      "metadata": {
        "colab": {
          "base_uri": "https://localhost:8080/"
        },
        "id": "P7q-VDoHWi12",
        "outputId": "b7697f1d-d567-4ada-8d40-2f0122f051a2"
      },
      "execution_count": null,
      "outputs": [
        {
          "output_type": "execute_result",
          "data": {
            "text/plain": [
              "{'poly__degree': 3, 'ridge__alpha': 0.08858667904100823}"
            ]
          },
          "metadata": {},
          "execution_count": 65
        }
      ]
    },
    {
      "cell_type": "code",
      "source": [
        "mean_train_error = -1 * ridge_grid_search.cv_results_[\n",
        "        'mean_train_score'][ridge_grid_search.best_index_]\n",
        "\n",
        "mean_test_error = -1 * ridge_grid_search.cv_results_[\n",
        "        'mean_test_score'][ridge_grid_search.best_index_]\n",
        "\n",
        "std_train_error = -1 * ridge_grid_search.cv_results_[\n",
        "        'std_train_score'][ridge_grid_search.best_index_]\n",
        "\n",
        "std_test_error = -1 * ridge_grid_search.cv_results_[\n",
        "        'std_test_score'][ridge_grid_search.best_index_]\n"
      ],
      "metadata": {
        "id": "f6gBm7gmWnLj"
      },
      "execution_count": null,
      "outputs": []
    },
    {
      "cell_type": "code",
      "source": [
        "print(f'Best Mean absolute error of polynomial ridge regression model on the train set:\\n' f\"{mean_train_error:.3f} +/- {std_train_error:.3f}\")\n",
        "\n",
        "print(f'Best Mean absolute error of polynomial ridge regression model on the test set:\\n' f\"{mean_test_error:.3f} +/- {std_test_error:.3f}\")"
      ],
      "metadata": {
        "colab": {
          "base_uri": "https://localhost:8080/"
        },
        "id": "FwTHBYAiW3nL",
        "outputId": "c5bd0fa8-4c98-44b0-c893-2f9151c5f6b8"
      },
      "execution_count": null,
      "outputs": [
        {
          "output_type": "stream",
          "name": "stdout",
          "text": [
            "Best Mean absolute error of polynomial ridge regression model on the train set:\n",
            "0.468 +/- -0.004\n",
            "Best Mean absolute error of polynomial ridge regression model on the test set:\n",
            "0.477 +/- -0.006\n"
          ]
        }
      ]
    },
    {
      "cell_type": "code",
      "source": [
        "print('Mean cross validated score of the best estimator is : ',\n",
        "      ridge_grid_search.best_score_)\n",
        "    \n",
        "print('Mean cross validated error of the best estimator is : ', -\n",
        "      ridge_grid_search.best_score_)"
      ],
      "metadata": {
        "colab": {
          "base_uri": "https://localhost:8080/"
        },
        "id": "ymyIIgunXBWw",
        "outputId": "cfba5216-efd9-4385-c67b-089954b30a54"
      },
      "execution_count": null,
      "outputs": [
        {
          "output_type": "stream",
          "name": "stdout",
          "text": [
            "Mean cross validated score of the best estimator is :  -0.4767038865740769\n",
            "Mean cross validated error of the best estimator is :  0.4767038865740769\n"
          ]
        }
      ]
    },
    {
      "cell_type": "code",
      "source": [
        "ridge_grid_search.best_estimator_\n"
      ],
      "metadata": {
        "colab": {
          "base_uri": "https://localhost:8080/"
        },
        "id": "RxkFOQq3XHCu",
        "outputId": "1fbae35c-b615-4b02-d968-0db92194cb5e"
      },
      "execution_count": null,
      "outputs": [
        {
          "output_type": "execute_result",
          "data": {
            "text/plain": [
              "Pipeline(steps=[('poly', PolynomialFeatures(degree=3, interaction_only=True)),\n",
              "                ('scaler', StandardScaler()),\n",
              "                ('ridge', Ridge(alpha=0.08858667904100823))])"
            ]
          },
          "metadata": {},
          "execution_count": 70
        }
      ]
    },
    {
      "cell_type": "code",
      "source": [
        "#Lasso Regression\n",
        "lasso_reg_pipeline = Pipeline([\n",
        "                                ('poly',PolynomialFeatures(degree=2)),\n",
        "                                ('feature_scaling',StandardScaler()),\n",
        "                                ('lasso',Lasso(alpha=0.001))\n",
        "])\n",
        "\n",
        "lasso_reg_cv_results = cross_validate(lasso_reg_pipeline,\n",
        "                                       com_train_features,\n",
        "                                       com_train_labels,\n",
        "                                       scoring='neg_mean_absolute_error',\n",
        "                                       return_train_score=True,\n",
        "                                       return_estimator=True )\n",
        "\n",
        "lasso_reg_train_error = -1 * lasso_reg_cv_results['train_score']\n",
        "lasso_reg_test_error =-1 * lasso_reg_cv_results['test_score']\n",
        "\n",
        "print(f'Mean absolute error of linear regression model on the train set : \\n' f'{lasso_reg_train_error.mean():.3f} +/- {lasso_reg_train_error.std():.3f}') \n",
        "\n",
        "print(f'Mean absolute error of linear regression model on the test set : \\n' f'{lasso_reg_test_error.mean():.3f} +/- {lasso_reg_test_error.std():.3f}')"
      ],
      "metadata": {
        "colab": {
          "base_uri": "https://localhost:8080/"
        },
        "id": "yNkJoYj2XVEW",
        "outputId": "b2928e93-4818-4525-e293-ef010eac5336"
      },
      "execution_count": null,
      "outputs": [
        {
          "output_type": "stream",
          "name": "stderr",
          "text": [
            "/usr/local/lib/python3.7/dist-packages/sklearn/linear_model/_coordinate_descent.py:648: ConvergenceWarning: Objective did not converge. You might want to increase the number of iterations, check the scale of the features or consider increasing regularisation. Duality gap: 5.548e+02, tolerance: 1.643e+00\n",
            "  coef_, l1_reg, l2_reg, X, y, max_iter, tol, rng, random, positive\n",
            "/usr/local/lib/python3.7/dist-packages/sklearn/linear_model/_coordinate_descent.py:648: ConvergenceWarning: Objective did not converge. You might want to increase the number of iterations, check the scale of the features or consider increasing regularisation. Duality gap: 3.440e+02, tolerance: 1.673e+00\n",
            "  coef_, l1_reg, l2_reg, X, y, max_iter, tol, rng, random, positive\n",
            "/usr/local/lib/python3.7/dist-packages/sklearn/linear_model/_coordinate_descent.py:648: ConvergenceWarning: Objective did not converge. You might want to increase the number of iterations, check the scale of the features or consider increasing regularisation. Duality gap: 2.563e+02, tolerance: 1.643e+00\n",
            "  coef_, l1_reg, l2_reg, X, y, max_iter, tol, rng, random, positive\n",
            "/usr/local/lib/python3.7/dist-packages/sklearn/linear_model/_coordinate_descent.py:648: ConvergenceWarning: Objective did not converge. You might want to increase the number of iterations, check the scale of the features or consider increasing regularisation. Duality gap: 1.825e+02, tolerance: 1.660e+00\n",
            "  coef_, l1_reg, l2_reg, X, y, max_iter, tol, rng, random, positive\n"
          ]
        },
        {
          "output_type": "stream",
          "name": "stdout",
          "text": [
            "Mean absolute error of linear regression model on the train set : \n",
            "0.503 +/- 0.008\n",
            "Mean absolute error of linear regression model on the test set : \n",
            "0.512 +/- 0.015\n"
          ]
        },
        {
          "output_type": "stream",
          "name": "stderr",
          "text": [
            "/usr/local/lib/python3.7/dist-packages/sklearn/linear_model/_coordinate_descent.py:648: ConvergenceWarning: Objective did not converge. You might want to increase the number of iterations, check the scale of the features or consider increasing regularisation. Duality gap: 6.275e+02, tolerance: 1.643e+00\n",
            "  coef_, l1_reg, l2_reg, X, y, max_iter, tol, rng, random, positive\n"
          ]
        }
      ]
    },
    {
      "cell_type": "code",
      "source": [
        "#Lasso Regression  with GridSearchCV\n",
        "lasso_grid_pipeline =Pipeline([ \n",
        "                             ('poly',PolynomialFeatures()),\n",
        "                             ('feature_scaling',StandardScaler()),\n",
        "                             ('lasso',Lasso())])\n",
        "\n",
        "param_grid ={\"poly__degree\": (1,2,3),\n",
        "             \"lasso__alpha\": np.logspace(-4,0, num=20)}\n",
        "\n",
        "lasso_grid_search = GridSearchCV(lasso_grid_pipeline,\n",
        "                                param_grid=param_grid,                         n_jobs=2,\n",
        "                                cv =cv,\n",
        "                                scoring='neg_mean_absolute_error',\n",
        "                                return_train_score = True) \n",
        "\n",
        "lasso_grid_search.fit(com_train_features, com_train_labels)"
      ],
      "metadata": {
        "colab": {
          "base_uri": "https://localhost:8080/"
        },
        "id": "uql4nslkXi53",
        "outputId": "19b93d40-742f-41eb-c65e-5790c5b55e04"
      },
      "execution_count": null,
      "outputs": [
        {
          "output_type": "stream",
          "name": "stderr",
          "text": [
            "/usr/local/lib/python3.7/dist-packages/sklearn/linear_model/_coordinate_descent.py:648: ConvergenceWarning: Objective did not converge. You might want to increase the number of iterations, check the scale of the features or consider increasing regularisation. Duality gap: 2.638e+03, tolerance: 2.066e+00\n",
            "  coef_, l1_reg, l2_reg, X, y, max_iter, tol, rng, random, positive\n"
          ]
        },
        {
          "output_type": "execute_result",
          "data": {
            "text/plain": [
              "GridSearchCV(cv=ShuffleSplit(n_splits=10, random_state=42, test_size=0.2, train_size=None),\n",
              "             estimator=Pipeline(steps=[('poly', PolynomialFeatures()),\n",
              "                                       ('feature_scaling', StandardScaler()),\n",
              "                                       ('lasso', Lasso())]),\n",
              "             n_jobs=2,\n",
              "             param_grid={'lasso__alpha': array([1.00000000e-04, 1.62377674e-04, 2.63665090e-04, 4.28133240e-04,\n",
              "       6.95192796e-04, 1.12883789e-03, 1.83298071e-03, 2.97635144e-03,\n",
              "       4.83293024e-03, 7.84759970e-03, 1.27427499e-02, 2.06913808e-02,\n",
              "       3.35981829e-02, 5.45559478e-02, 8.85866790e-02, 1.43844989e-01,\n",
              "       2.33572147e-01, 3.79269019e-01, 6.15848211e-01, 1.00000000e+00]),\n",
              "                         'poly__degree': (1, 2, 3)},\n",
              "             return_train_score=True, scoring='neg_mean_absolute_error')"
            ]
          },
          "metadata": {},
          "execution_count": 73
        }
      ]
    },
    {
      "cell_type": "code",
      "source": [
        "mean_train_error = -1 * lasso_grid_search.cv_results_['mean_train_score'][lasso_grid_search.best_index_]\n",
        "\n",
        "mean_test_error = -1 * lasso_grid_search.cv_results_['mean_test_score'][lasso_grid_search.best_index_]\n",
        "\n",
        "std_train_error = -1 * lasso_grid_search.cv_results_['std_train_score'][lasso_grid_search.best_index_]\n",
        "\n",
        "std_test_error = -1 * lasso_grid_search.cv_results_['std_test_score'][lasso_grid_search.best_index_]\n",
        "\n",
        "\n",
        "print(f'Best Mean absolute error of polynomial lasso regression model on the train set : \\n' f\"{mean_train_error:.3f} +/- {std_train_error:.3f}\")\n",
        "\n",
        "print(f'Best Mean absolute error of polynomial lasso regression model on the test set : \\n' f\"{mean_test_error:.3f} +/- {std_test_error:.3f}\")"
      ],
      "metadata": {
        "colab": {
          "base_uri": "https://localhost:8080/"
        },
        "id": "H5ajLKH0X0qX",
        "outputId": "7a0f88a6-b591-4427-d1a3-b65d1afe2046"
      },
      "execution_count": null,
      "outputs": [
        {
          "output_type": "stream",
          "name": "stdout",
          "text": [
            "Best Mean absolute error of polynomial lasso regression model on the train set : \n",
            "0.462 +/- -0.003\n",
            "Best Mean absolute error of polynomial lasso regression model on the test set : \n",
            "0.488 +/- -0.046\n"
          ]
        }
      ]
    },
    {
      "cell_type": "code",
      "source": [
        "lasso_grid_search.best_estimator_\n"
      ],
      "metadata": {
        "colab": {
          "base_uri": "https://localhost:8080/"
        },
        "id": "68jDBnBFX7IK",
        "outputId": "8278d888-e0b6-47a5-9b63-670caa8f27fb"
      },
      "execution_count": null,
      "outputs": [
        {
          "output_type": "execute_result",
          "data": {
            "text/plain": [
              "Pipeline(steps=[('poly', PolynomialFeatures(degree=3)),\n",
              "                ('feature_scaling', StandardScaler()),\n",
              "                ('lasso', Lasso(alpha=0.0001))])"
            ]
          },
          "metadata": {},
          "execution_count": 75
        }
      ]
    },
    {
      "cell_type": "code",
      "source": [
        "# sgd with penalty = elasticnet\n",
        "sgd_pipeline = Pipeline([('poly', PolynomialFeatures(degree=2)),\n",
        "                        ('feature_scaling', StandardScaler()),\n",
        "                        ('sgd', SGDRegressor(penalty='elasticnet', random_state=42))])\n",
        "\n",
        "sgd_results = cross_validate(sgd_pipeline, com_train_features, com_train_labels, cv=cv, scoring='neg_mean_absolute_error',\n",
        "                            return_train_score=True, return_estimator=True)\n",
        "\n",
        "sgd_train_error = -1 * sgd_results['train_score']\n",
        "sgd_test_error = -1 * sgd_results['test_score']\n",
        "print(sgd_train_error.mean(), sgd_train_error.std())\n",
        "print(sgd_test_error.mean(), sgd_test_error.std() )"
      ],
      "metadata": {
        "colab": {
          "base_uri": "https://localhost:8080/"
        },
        "id": "1rZtPOL_ceR3",
        "outputId": "ba2e0cc6-9e87-482a-cb73-af4c8237a2ac"
      },
      "execution_count": null,
      "outputs": [
        {
          "output_type": "stream",
          "name": "stdout",
          "text": [
            "10824283052.546406 4423288211.831954\n",
            "10946788540.249527 5396536227.7027445\n"
          ]
        }
      ]
    },
    {
      "cell_type": "code",
      "source": [
        "# sgd with randomized search cv\n",
        "\n",
        "sgd_pipeline = Pipeline([('poly', PolynomialFeatures(degree=2)),\n",
        "                        ('feature_scaling', StandardScaler()),\n",
        "                        ('sgd', SGDRegressor(penalty='elasticnet', random_state=42))])\n",
        "\n",
        "param_distributions = {'poly__degree': (1,2,3),\n",
        "              'sgd__learning_rate': ['constant', 'adaptive', 'invscaling'],\n",
        "             'sgd__l1_ratio': uniform(0,1),\n",
        "              'sgd__eta0': loguniform(1e-5, 1),\n",
        "              'sgd__power_t': uniform(0,1)\n",
        "}\n",
        "\n",
        "poly_sgd_random_search = RandomizedSearchCV(sgd_pipeline, param_distributions=param_distributions, n_iter=10, cv=cv, scoring='neg_mean_absolute_error')\n",
        "poly_sgd_random_search.fit(com_train_features, com_train_labels)\n",
        "\n"
      ],
      "metadata": {
        "colab": {
          "base_uri": "https://localhost:8080/"
        },
        "id": "qqP0kZf4eNin",
        "outputId": "ceec386c-3b48-4fbf-8707-dcc1962a27e1"
      },
      "execution_count": null,
      "outputs": [
        {
          "output_type": "stream",
          "name": "stderr",
          "text": [
            "/usr/local/lib/python3.7/dist-packages/sklearn/linear_model/_stochastic_gradient.py:1507: ConvergenceWarning: Maximum number of iteration reached before convergence. Consider increasing max_iter to improve the fit.\n",
            "  ConvergenceWarning,\n",
            "/usr/local/lib/python3.7/dist-packages/sklearn/linear_model/_stochastic_gradient.py:1507: ConvergenceWarning: Maximum number of iteration reached before convergence. Consider increasing max_iter to improve the fit.\n",
            "  ConvergenceWarning,\n"
          ]
        },
        {
          "output_type": "execute_result",
          "data": {
            "text/plain": [
              "RandomizedSearchCV(cv=ShuffleSplit(n_splits=10, random_state=42, test_size=0.2, train_size=None),\n",
              "                   estimator=Pipeline(steps=[('poly', PolynomialFeatures()),\n",
              "                                             ('feature_scaling',\n",
              "                                              StandardScaler()),\n",
              "                                             ('sgd',\n",
              "                                              SGDRegressor(penalty='elasticnet',\n",
              "                                                           random_state=42))]),\n",
              "                   param_distributions={'poly__degree': (1, 2, 3),\n",
              "                                        'sgd__eta0': <scipy.stats._distn_infrastructure.rv_frozen object at 0x7fe286b18d50>,\n",
              "                                        'sgd__l1_ratio': <scipy.stats._distn_infrastructure.rv_frozen object at 0x7fe286b18d10>,\n",
              "                                        'sgd__learning_rate': ['constant',\n",
              "                                                               'adaptive',\n",
              "                                                               'invscaling'],\n",
              "                                        'sgd__power_t': <scipy.stats._distn_infrastructure.rv_frozen object at 0x7fe286aea690>},\n",
              "                   scoring='neg_mean_absolute_error')"
            ]
          },
          "metadata": {},
          "execution_count": 109
        }
      ]
    },
    {
      "cell_type": "code",
      "source": [
        "poly_sgd_random_search.best_estimator_\n"
      ],
      "metadata": {
        "colab": {
          "base_uri": "https://localhost:8080/"
        },
        "id": "h3BqRIODomQN",
        "outputId": "52c9bdcf-8cf0-4c2c-bdc3-73d81fd1ef1f"
      },
      "execution_count": null,
      "outputs": [
        {
          "output_type": "execute_result",
          "data": {
            "text/plain": [
              "Pipeline(steps=[('poly', PolynomialFeatures(degree=1)),\n",
              "                ('feature_scaling', StandardScaler()),\n",
              "                ('sgd',\n",
              "                 SGDRegressor(eta0=0.3727933984477309,\n",
              "                              l1_ratio=0.9679470966762582, penalty='elasticnet',\n",
              "                              power_t=0.7986982314130026, random_state=42))])"
            ]
          },
          "metadata": {},
          "execution_count": 110
        }
      ]
    },
    {
      "cell_type": "code",
      "source": [
        "# comparison of weight vectors\n",
        "\n",
        "feature_names = poly_reg_cv_results['estimator'][0][0].get_feature_names_out(\n",
        "    input_features=train_features.columns)\n",
        "feature_names"
      ],
      "metadata": {
        "colab": {
          "base_uri": "https://localhost:8080/"
        },
        "id": "YrTkNY13ecWB",
        "outputId": "7b019eb3-3c2e-4ba4-81f2-e519f5463788"
      },
      "execution_count": null,
      "outputs": [
        {
          "output_type": "execute_result",
          "data": {
            "text/plain": [
              "array(['1', 'MedInc', 'HouseAge', 'AveRooms', 'AveBedrms', 'Population',\n",
              "       'AveOccup', 'Latitude', 'Longitude', 'MedInc HouseAge',\n",
              "       'MedInc AveRooms', 'MedInc AveBedrms', 'MedInc Population',\n",
              "       'MedInc AveOccup', 'MedInc Latitude', 'MedInc Longitude',\n",
              "       'HouseAge AveRooms', 'HouseAge AveBedrms', 'HouseAge Population',\n",
              "       'HouseAge AveOccup', 'HouseAge Latitude', 'HouseAge Longitude',\n",
              "       'AveRooms AveBedrms', 'AveRooms Population', 'AveRooms AveOccup',\n",
              "       'AveRooms Latitude', 'AveRooms Longitude', 'AveBedrms Population',\n",
              "       'AveBedrms AveOccup', 'AveBedrms Latitude', 'AveBedrms Longitude',\n",
              "       'Population AveOccup', 'Population Latitude',\n",
              "       'Population Longitude', 'AveOccup Latitude', 'AveOccup Longitude',\n",
              "       'Latitude Longitude'], dtype=object)"
            ]
          },
          "metadata": {},
          "execution_count": 86
        }
      ]
    },
    {
      "cell_type": "code",
      "source": [
        "\n",
        "coefs = [est[-1].coef_ for est in poly_reg_cv_results['estimator']]\n",
        "weights_polynomial_regression = pd.DataFrame(coefs, columns=feature_names)"
      ],
      "metadata": {
        "id": "y9Rj1oz6hY_I"
      },
      "execution_count": null,
      "outputs": []
    },
    {
      "cell_type": "code",
      "source": [
        "weights_polynomial_regression.plot.box(vert=False, figsize=(6,16))\n",
        "plt.title(\"Polynomial regression coefficients\")"
      ],
      "metadata": {
        "colab": {
          "base_uri": "https://localhost:8080/",
          "height": 951
        },
        "id": "CCwDyLxTh8r8",
        "outputId": "b89a1cc9-260f-4ff8-8535-9abc0f9c3a86"
      },
      "execution_count": null,
      "outputs": [
        {
          "output_type": "execute_result",
          "data": {
            "text/plain": [
              "Text(0.5, 1.0, 'Polynomial regression coefficients')"
            ]
          },
          "metadata": {},
          "execution_count": 89
        },
        {
          "output_type": "display_data",
          "data": {
            "text/plain": [
              "<Figure size 432x1152 with 1 Axes>"
            ],
            "image/png": "[encoded data removed]"
          },
          "metadata": {
            "needs_background": "light"
          }
        }
      ]
    },
    {
      "cell_type": "code",
      "source": [
        "feature_names = ridge_reg_cv_results['estimator'][0][0].get_feature_names_out(\n",
        "    input_features=train_features.columns)\n",
        "\n",
        "feature_names"
      ],
      "metadata": {
        "colab": {
          "base_uri": "https://localhost:8080/",
          "height": 467
        },
        "id": "tJNxM_phiJw9",
        "outputId": "0c1bf84f-2295-4181-b08c-dab09ba52600"
      },
      "execution_count": null,
      "outputs": [
        {
          "output_type": "error",
          "ename": "KeyError",
          "evalue": "ignored",
          "traceback": [
            "\u001b[0;31m---------------------------------------------------------------------------\u001b[0m",
            "\u001b[0;31mTypeError\u001b[0m                                 Traceback (most recent call last)",
            "\u001b[0;32m/usr/local/lib/python3.7/dist-packages/sklearn/pipeline.py\u001b[0m in \u001b[0;36m__getitem__\u001b[0;34m(self, ind)\u001b[0m\n\u001b[1;32m    264\u001b[0m         \u001b[0;32mtry\u001b[0m\u001b[0;34m:\u001b[0m\u001b[0;34m\u001b[0m\u001b[0;34m\u001b[0m\u001b[0m\n\u001b[0;32m--> 265\u001b[0;31m             \u001b[0mname\u001b[0m\u001b[0;34m,\u001b[0m \u001b[0mest\u001b[0m \u001b[0;34m=\u001b[0m \u001b[0mself\u001b[0m\u001b[0;34m.\u001b[0m\u001b[0msteps\u001b[0m\u001b[0;34m[\u001b[0m\u001b[0mind\u001b[0m\u001b[0;34m]\u001b[0m\u001b[0;34m\u001b[0m\u001b[0;34m\u001b[0m\u001b[0m\n\u001b[0m\u001b[1;32m    266\u001b[0m         \u001b[0;32mexcept\u001b[0m \u001b[0mTypeError\u001b[0m\u001b[0;34m:\u001b[0m\u001b[0;34m\u001b[0m\u001b[0;34m\u001b[0m\u001b[0m\n",
            "\u001b[0;31mTypeError\u001b[0m: list indices must be integers or slices, not str",
            "\nDuring handling of the above exception, another exception occurred:\n",
            "\u001b[0;31mKeyError\u001b[0m                                  Traceback (most recent call last)",
            "\u001b[0;32m<ipython-input-96-2719ad38ed64>\u001b[0m in \u001b[0;36m<module>\u001b[0;34m\u001b[0m\n\u001b[0;32m----> 1\u001b[0;31m feature_names = ridge_reg_cv_results['estimator'][0][0].get_feature_names_out(\n\u001b[0m\u001b[1;32m      2\u001b[0m     input_features=train_features.columns)\n\u001b[1;32m      3\u001b[0m \u001b[0;34m\u001b[0m\u001b[0m\n\u001b[1;32m      4\u001b[0m \u001b[0mfeature_names\u001b[0m\u001b[0;34m\u001b[0m\u001b[0;34m\u001b[0m\u001b[0m\n",
            "\u001b[0;32m/usr/local/lib/python3.7/dist-packages/sklearn/pipeline.py\u001b[0m in \u001b[0;36m__getitem__\u001b[0;34m(self, ind)\u001b[0m\n\u001b[1;32m    266\u001b[0m         \u001b[0;32mexcept\u001b[0m \u001b[0mTypeError\u001b[0m\u001b[0;34m:\u001b[0m\u001b[0;34m\u001b[0m\u001b[0;34m\u001b[0m\u001b[0m\n\u001b[1;32m    267\u001b[0m             \u001b[0;31m# Not an int, try get step by name\u001b[0m\u001b[0;34m\u001b[0m\u001b[0;34m\u001b[0m\u001b[0;34m\u001b[0m\u001b[0m\n\u001b[0;32m--> 268\u001b[0;31m             \u001b[0;32mreturn\u001b[0m \u001b[0mself\u001b[0m\u001b[0;34m.\u001b[0m\u001b[0mnamed_steps\u001b[0m\u001b[0;34m[\u001b[0m\u001b[0mind\u001b[0m\u001b[0;34m]\u001b[0m\u001b[0;34m\u001b[0m\u001b[0;34m\u001b[0m\u001b[0m\n\u001b[0m\u001b[1;32m    269\u001b[0m         \u001b[0;32mreturn\u001b[0m \u001b[0mest\u001b[0m\u001b[0;34m\u001b[0m\u001b[0;34m\u001b[0m\u001b[0m\n\u001b[1;32m    270\u001b[0m \u001b[0;34m\u001b[0m\u001b[0m\n",
            "\u001b[0;31mKeyError\u001b[0m: 'estimator'"
          ]
        }
      ]
    },
    {
      "cell_type": "code",
      "source": [
        "#performance on the test set\n",
        "\n",
        "# baseline\n",
        "\n",
        "baseline_median_model = DummyRegressor(strategy = \"median\")\n",
        "baseline_median_model.fit(train_features , train_labels)\n",
        "mean_absolute_percentage_error(test_labels , \n",
        "                               baseline_median_model.predict(test_features))"
      ],
      "metadata": {
        "colab": {
          "base_uri": "https://localhost:8080/"
        },
        "id": "QoZk-zBSiayS",
        "outputId": "8fc546c7-6b05-4bbe-cda9-c89b82324577"
      },
      "execution_count": null,
      "outputs": [
        {
          "output_type": "execute_result",
          "data": {
            "text/plain": [
              "0.5348927548151625"
            ]
          },
          "metadata": {},
          "execution_count": 97
        }
      ]
    },
    {
      "cell_type": "code",
      "source": [
        "#linear regression model normal eqn\n",
        "\n",
        "mean_absolute_percentage_error(test_labels ,\n",
        "                               lin_reg_cv_results[\"estimator\"][0].predict(test_features) )"
      ],
      "metadata": {
        "colab": {
          "base_uri": "https://localhost:8080/"
        },
        "id": "1D0B0Uuzkgsm",
        "outputId": "d10fb19f-8da2-4b6a-a523-f20144d0cf72"
      },
      "execution_count": null,
      "outputs": [
        {
          "output_type": "execute_result",
          "data": {
            "text/plain": [
              "0.32120472175482906"
            ]
          },
          "metadata": {},
          "execution_count": 99
        }
      ]
    },
    {
      "cell_type": "code",
      "source": [
        "# sgd regression \n",
        "mean_absolute_percentage_error(test_labels ,\n",
        "                               sgd_reg_cv_results[\"estimator\"][0].predict(test_features) )"
      ],
      "metadata": {
        "colab": {
          "base_uri": "https://localhost:8080/"
        },
        "id": "rlAdu_Bck-3h",
        "outputId": "4c5a3fdb-37fd-4000-c5f9-6c045c99481b"
      },
      "execution_count": null,
      "outputs": [
        {
          "output_type": "execute_result",
          "data": {
            "text/plain": [
              "0.29817483100367304"
            ]
          },
          "metadata": {},
          "execution_count": 100
        }
      ]
    },
    {
      "cell_type": "code",
      "source": [
        "# poly regression\n",
        "mean_absolute_percentage_error(test_labels ,\n",
        "                               poly_reg_cv_results[\"estimator\"][0].predict(test_features) )"
      ],
      "metadata": {
        "colab": {
          "base_uri": "https://localhost:8080/"
        },
        "id": "pUtSoLc-lccc",
        "outputId": "4215db0b-d8e9-42ec-ebdb-eb6883ed56d3"
      },
      "execution_count": null,
      "outputs": [
        {
          "output_type": "execute_result",
          "data": {
            "text/plain": [
              "0.2834129629962902"
            ]
          },
          "metadata": {},
          "execution_count": 101
        }
      ]
    },
    {
      "cell_type": "code",
      "source": [
        "#ridge GridSearch\n",
        "mean_absolute_percentage_error(test_labels ,\n",
        "                               ridge_grid_search.best_estimator_.predict(test_features) )"
      ],
      "metadata": {
        "colab": {
          "base_uri": "https://localhost:8080/"
        },
        "id": "-HzqQ2ywm7yQ",
        "outputId": "11277199-c594-49bd-9e9b-95dac8eedd45"
      },
      "execution_count": null,
      "outputs": [
        {
          "output_type": "execute_result",
          "data": {
            "text/plain": [
              "0.28015193658659643"
            ]
          },
          "metadata": {},
          "execution_count": 105
        }
      ]
    },
    {
      "cell_type": "code",
      "source": [
        "# lasso regression\n",
        "mean_absolute_percentage_error(test_labels ,\n",
        "                               lasso_reg_cv_results[\"estimator\"][0].predict(test_features) )"
      ],
      "metadata": {
        "colab": {
          "base_uri": "https://localhost:8080/"
        },
        "id": "pKGJgiBKlsvR",
        "outputId": "650697c7-3f89-4151-849f-32cbb7063383"
      },
      "execution_count": null,
      "outputs": [
        {
          "output_type": "execute_result",
          "data": {
            "text/plain": [
              "0.303179348170215"
            ]
          },
          "metadata": {},
          "execution_count": 102
        }
      ]
    },
    {
      "cell_type": "code",
      "source": [
        "# lasso regression with grid search\n",
        "mean_absolute_percentage_error(test_labels ,\n",
        "                               lasso_grid_search.best_estimator_.predict(test_features) )"
      ],
      "metadata": {
        "colab": {
          "base_uri": "https://localhost:8080/"
        },
        "id": "F-CGN-53mAum",
        "outputId": "0a9ddf4d-61dd-466a-ab89-2af6cf285b73"
      },
      "execution_count": null,
      "outputs": [
        {
          "output_type": "execute_result",
          "data": {
            "text/plain": [
              "0.28074969263810107"
            ]
          },
          "metadata": {},
          "execution_count": 103
        }
      ]
    },
    {
      "cell_type": "code",
      "source": [
        "# poly_sgd_ randomized search CV\n",
        "mean_absolute_percentage_error(test_labels ,\n",
        "                               poly_sgd_random_search.best_estimator_.predict(test_features) )"
      ],
      "metadata": {
        "colab": {
          "base_uri": "https://localhost:8080/"
        },
        "id": "R9NkpiUimN7I",
        "outputId": "35b0e47a-ccf5-41d8-868f-9c0b0851e0f2"
      },
      "execution_count": null,
      "outputs": [
        {
          "output_type": "execute_result",
          "data": {
            "text/plain": [
              "0.31907827571218683"
            ]
          },
          "metadata": {},
          "execution_count": 106
        }
      ]
    },
    {
      "cell_type": "code",
      "source": [
        "# #ridge GridSearch is the best model"
      ],
      "metadata": {
        "id": "aZIjbIpxnT2o"
      },
      "execution_count": null,
      "outputs": []
    },
    {
      "cell_type": "code",
      "source": [
        "x= [[1, 2], [3, 4], [1, 2], [3, 4]] "
      ],
      "metadata": {
        "id": "pJFzx7gqmKMZ"
      },
      "execution_count": null,
      "outputs": []
    },
    {
      "cell_type": "code",
      "source": [
        "from sklearn.model_selection import KFold\n",
        "KFold?\n"
      ],
      "metadata": {
        "id": "fgyMmmSomLgP"
      },
      "execution_count": null,
      "outputs": []
    },
    {
      "cell_type": "code",
      "source": [
        "k = KFold(n_splits=2)\n",
        "k.split(x)\n",
        "for i in k.split(x):\n",
        "   print(i)"
      ],
      "metadata": {
        "colab": {
          "base_uri": "https://localhost:8080/"
        },
        "id": "WtcYplEEqpQF",
        "outputId": "b425eda0-c0a9-488a-8b44-b5fc034aadee"
      },
      "execution_count": null,
      "outputs": [
        {
          "output_type": "stream",
          "name": "stdout",
          "text": [
            "(array([2, 3]), array([0, 1]))\n",
            "(array([0, 1]), array([2, 3]))\n"
          ]
        }
      ]
    },
    {
      "cell_type": "code",
      "source": [
        "k = KFold(n_splits=4)\n",
        "k.split(x)"
      ],
      "metadata": {
        "colab": {
          "base_uri": "https://localhost:8080/"
        },
        "id": "ZQ_-oHU_nOvO",
        "outputId": "6a6482f0-bbcf-474d-b53f-4a4bf0805d60"
      },
      "execution_count": null,
      "outputs": [
        {
          "output_type": "execute_result",
          "data": {
            "text/plain": [
              "<generator object _BaseKFold.split at 0x7efeba277850>"
            ]
          },
          "metadata": {},
          "execution_count": 27
        }
      ]
    },
    {
      "cell_type": "code",
      "source": [
        "for i in k.split(x):\n",
        "   print(i)"
      ],
      "metadata": {
        "colab": {
          "base_uri": "https://localhost:8080/"
        },
        "id": "3BGdRhD_oHbO",
        "outputId": "7bb29e46-efc5-4603-dfff-b4f99d994459"
      },
      "execution_count": null,
      "outputs": [
        {
          "output_type": "stream",
          "name": "stdout",
          "text": [
            "(array([1, 2, 3]), array([0]))\n",
            "(array([0, 2, 3]), array([1]))\n",
            "(array([0, 1, 3]), array([2]))\n",
            "(array([0, 1, 2]), array([3]))\n"
          ]
        }
      ]
    },
    {
      "cell_type": "code",
      "source": [
        "from sklearn.model_selection import RepeatedKFold"
      ],
      "metadata": {
        "id": "fVtjo7RGohDF"
      },
      "execution_count": null,
      "outputs": []
    },
    {
      "cell_type": "code",
      "source": [
        "data = RepeatedKFold(n_splits = 2 , n_repeats = 2 , random_state = 1)\n",
        "data.split(x)\n",
        "for i in data.split(x):\n",
        "  print(i)"
      ],
      "metadata": {
        "colab": {
          "base_uri": "https://localhost:8080/"
        },
        "id": "2dqCkGjJpCf1",
        "outputId": "ee5d7d33-eecc-4ffd-9a92-9534fbde5c05"
      },
      "execution_count": null,
      "outputs": [
        {
          "output_type": "stream",
          "name": "stdout",
          "text": [
            "(array([0, 1]), array([2, 3]))\n",
            "(array([2, 3]), array([0, 1]))\n",
            "(array([1, 3]), array([0, 2]))\n",
            "(array([0, 2]), array([1, 3]))\n"
          ]
        }
      ]
    },
    {
      "cell_type": "code",
      "source": [
        "x , y = fetch_california_housing(as_frame= True , return_X_y = True)"
      ],
      "metadata": {
        "id": "xxMFNCOYpPtt"
      },
      "execution_count": null,
      "outputs": []
    },
    {
      "cell_type": "code",
      "source": [
        "x_train , x_test , y_train, y_test = train_test_split(x , y , test_size = 0.4, random_state = 1)"
      ],
      "metadata": {
        "id": "YlXmHsCdrj4Q"
      },
      "execution_count": null,
      "outputs": []
    },
    {
      "cell_type": "code",
      "source": [
        "scaler = StandardScaler(with_mean= True, with_std = True)\n",
        "x_train_norm = scaler.fit_transform(x_train)\n",
        "x_test_norm = scaler.fit_transform(x_test)"
      ],
      "metadata": {
        "id": "YPhmoK98rznw"
      },
      "execution_count": null,
      "outputs": []
    },
    {
      "cell_type": "code",
      "source": [
        "regressor = SGDRegressor(random_state = 1)"
      ],
      "metadata": {
        "id": "0tzSxr8Vs-NZ"
      },
      "execution_count": null,
      "outputs": []
    },
    {
      "cell_type": "code",
      "source": [
        "pipeline = Pipeline([\n",
        "    (\"scaler\" , StandardScaler(with_mean = True , with_std = True)),\n",
        "    (\"sgd\" , SGDRegressor(random_state = 1))\n",
        "])\n",
        "\n",
        "param_grid = {\n",
        "    \"sgd__loss\" : [\"squared_error\", \"huber\"],\n",
        "    \"sgd__penalty\" : [\"l1\" , \"l2\"],\n",
        "    \"sgd__alpha\" : [0.1 , 0.01 , 0.001],\n",
        "    \"sgd__max_iter\": [1000,2000,5000]\n",
        "}\n",
        "grid = GridSearchCV(estimator = pipeline , \n",
        "                    param_grid = param_grid, cv = 4, return_train_score = True\n",
        "                    )\n",
        "\n",
        "grid.fit(x_train , y_train)"
      ],
      "metadata": {
        "colab": {
          "base_uri": "https://localhost:8080/"
        },
        "id": "6DbCnqRstH4s",
        "outputId": "265e1753-3286-4f0c-ebfd-d6aa24efcdb3"
      },
      "execution_count": null,
      "outputs": [
        {
          "output_type": "execute_result",
          "data": {
            "text/plain": [
              "GridSearchCV(cv=4,\n",
              "             estimator=Pipeline(steps=[('scaler', StandardScaler()),\n",
              "                                       ('sgd', SGDRegressor(random_state=1))]),\n",
              "             param_grid={'sgd__alpha': [0.1, 0.01, 0.001],\n",
              "                         'sgd__loss': ['squared_error', 'huber'],\n",
              "                         'sgd__max_iter': [1000, 2000, 5000],\n",
              "                         'sgd__penalty': ['l1', 'l2']},\n",
              "             return_train_score=True)"
            ]
          },
          "metadata": {},
          "execution_count": 47
        }
      ]
    },
    {
      "cell_type": "code",
      "source": [
        "grid.best_estimator_"
      ],
      "metadata": {
        "colab": {
          "base_uri": "https://localhost:8080/"
        },
        "id": "8FoK448XzdD0",
        "outputId": "f4a4766d-215a-4262-cb9d-b867dffdeb28"
      },
      "execution_count": null,
      "outputs": [
        {
          "output_type": "execute_result",
          "data": {
            "text/plain": [
              "Pipeline(steps=[('scaler', StandardScaler()),\n",
              "                ('sgd',\n",
              "                 SGDRegressor(alpha=0.01, penalty='l1', random_state=1))])"
            ]
          },
          "metadata": {},
          "execution_count": 51
        }
      ]
    },
    {
      "cell_type": "code",
      "source": [
        "grid.best_params_"
      ],
      "metadata": {
        "colab": {
          "base_uri": "https://localhost:8080/"
        },
        "id": "T3V27Hehwqc9",
        "outputId": "1ba4c6fe-a8b6-4845-8db0-76fd2d395958"
      },
      "execution_count": null,
      "outputs": [
        {
          "output_type": "execute_result",
          "data": {
            "text/plain": [
              "{'sgd__alpha': 0.01,\n",
              " 'sgd__loss': 'squared_error',\n",
              " 'sgd__max_iter': 1000,\n",
              " 'sgd__penalty': 'l1'}"
            ]
          },
          "metadata": {},
          "execution_count": 50
        }
      ]
    },
    {
      "cell_type": "code",
      "source": [
        "grid.score(x_train , y_train)"
      ],
      "metadata": {
        "colab": {
          "base_uri": "https://localhost:8080/"
        },
        "id": "WC2KRx4Z0frI",
        "outputId": "fc4faf8f-af53-479b-c8de-552d42be4b11"
      },
      "execution_count": null,
      "outputs": [
        {
          "output_type": "execute_result",
          "data": {
            "text/plain": [
              "0.5896278990258538"
            ]
          },
          "metadata": {},
          "execution_count": 53
        }
      ]
    },
    {
      "cell_type": "markdown",
      "source": [],
      "metadata": {
        "id": "F7YsMZBPtycF"
      }
    },
    {
      "cell_type": "code",
      "source": [
        "grid.score(x_test , y_test)"
      ],
      "metadata": {
        "colab": {
          "base_uri": "https://localhost:8080/"
        },
        "id": "zAmsaeChtxFs",
        "outputId": "47338931-0fb7-4550-e3bf-0621511b9526"
      },
      "execution_count": null,
      "outputs": [
        {
          "output_type": "execute_result",
          "data": {
            "text/plain": [
              "0.5951040704728554"
            ]
          },
          "metadata": {},
          "execution_count": 52
        }
      ]
    },
    {
      "cell_type": "code",
      "source": [
        "pipeline = Pipeline([\n",
        "    (\"scaler\" , StandardScaler(with_mean = True , with_std = True)),\n",
        "    (\"ridge\" , Ridge())\n",
        "])\n",
        "\n",
        "param_grid = {\n",
        "    \"ridge__alpha\" : [ 0.5,0.1,0.05,0.01,0.005,0.001],\n",
        "    \"ridge__fit_intercept\": [\"True\" , \"False\"]\n",
        "}\n",
        "grid = GridSearchCV(estimator = pipeline , \n",
        "                    param_grid = param_grid, cv = 4, return_train_score = True\n",
        "                    )\n",
        "\n",
        "grid.fit(x_train , y_train)"
      ],
      "metadata": {
        "colab": {
          "base_uri": "https://localhost:8080/"
        },
        "id": "mU0nDIddt00q",
        "outputId": "b9f58886-d4d7-469b-c70a-f0686e27e235"
      },
      "execution_count": null,
      "outputs": [
        {
          "output_type": "execute_result",
          "data": {
            "text/plain": [
              "GridSearchCV(cv=4,\n",
              "             estimator=Pipeline(steps=[('scaler', StandardScaler()),\n",
              "                                       ('ridge', Ridge())]),\n",
              "             param_grid={'ridge__alpha': [0.5, 0.1, 0.05, 0.01, 0.005, 0.001],\n",
              "                         'ridge__fit_intercept': ['True', 'False']},\n",
              "             return_train_score=True)"
            ]
          },
          "metadata": {},
          "execution_count": 59
        }
      ]
    },
    {
      "cell_type": "code",
      "source": [
        "grid.best_params_"
      ],
      "metadata": {
        "colab": {
          "base_uri": "https://localhost:8080/"
        },
        "id": "Jy-cZXmF1Ksd",
        "outputId": "23af2f35-4932-4763-f0e2-bcf4c11d0d5e"
      },
      "execution_count": null,
      "outputs": [
        {
          "output_type": "execute_result",
          "data": {
            "text/plain": [
              "{'ridge__alpha': 0.5, 'ridge__fit_intercept': 'True'}"
            ]
          },
          "metadata": {},
          "execution_count": 60
        }
      ]
    },
    {
      "cell_type": "code",
      "source": [
        "grid.score(x_test, y_test)"
      ],
      "metadata": {
        "colab": {
          "base_uri": "https://localhost:8080/"
        },
        "id": "jyxcV1xF1Lnl",
        "outputId": "d56d9a48-df4b-44db-845a-b04492203a49"
      },
      "execution_count": null,
      "outputs": [
        {
          "output_type": "execute_result",
          "data": {
            "text/plain": [
              "0.597145061224877"
            ]
          },
          "metadata": {},
          "execution_count": 61
        }
      ]
    },
    {
      "cell_type": "code",
      "source": [
        "pipeline = Pipeline([\n",
        "    (\"scaler\" , StandardScaler(with_mean = True , with_std = True)),\n",
        "    (\"lasso\" , Lasso())\n",
        "])\n",
        "\n",
        "param_grid = {\n",
        "    \"lasso__alpha\" : [ 0.5,0.1,0.05,0.01,0.005,0.001],\n",
        "    \"lasso__fit_intercept\": [\"True\" , \"False\"]\n",
        "}\n",
        "grid = GridSearchCV(estimator = pipeline , \n",
        "                    param_grid = param_grid, cv = 6, return_train_score = True\n",
        "                    )\n",
        "\n",
        "grid.fit(x_train , y_train)"
      ],
      "metadata": {
        "colab": {
          "base_uri": "https://localhost:8080/"
        },
        "id": "Ly5Q4eo-2l-3",
        "outputId": "08ff82f9-d4a7-493b-837f-a8679455820e"
      },
      "execution_count": null,
      "outputs": [
        {
          "output_type": "execute_result",
          "data": {
            "text/plain": [
              "GridSearchCV(cv=6,\n",
              "             estimator=Pipeline(steps=[('scaler', StandardScaler()),\n",
              "                                       ('lasso', Lasso())]),\n",
              "             param_grid={'lasso__alpha': [0.5, 0.1, 0.05, 0.01, 0.005, 0.001],\n",
              "                         'lasso__fit_intercept': ['True', 'False']},\n",
              "             return_train_score=True)"
            ]
          },
          "metadata": {},
          "execution_count": 67
        }
      ]
    },
    {
      "cell_type": "code",
      "source": [
        "grid.best_params_"
      ],
      "metadata": {
        "colab": {
          "base_uri": "https://localhost:8080/"
        },
        "id": "_sRBOXjn3Vd0",
        "outputId": "b3f1ea9d-5422-4cd4-b04f-a6113b32bcc4"
      },
      "execution_count": null,
      "outputs": [
        {
          "output_type": "execute_result",
          "data": {
            "text/plain": [
              "{'lasso__alpha': 0.001, 'lasso__fit_intercept': 'True'}"
            ]
          },
          "metadata": {},
          "execution_count": 68
        }
      ]
    },
    {
      "cell_type": "code",
      "source": [
        "grid.score(x_test, y_test)"
      ],
      "metadata": {
        "colab": {
          "base_uri": "https://localhost:8080/"
        },
        "id": "pIFLI0zt3Ydx",
        "outputId": "5d206d8e-040a-4c2a-f589-75be7b0bc3f9"
      },
      "execution_count": null,
      "outputs": [
        {
          "output_type": "execute_result",
          "data": {
            "text/plain": [
              "0.6065831805608592"
            ]
          },
          "metadata": {},
          "execution_count": 69
        }
      ]
    },
    {
      "cell_type": "code",
      "source": [],
      "metadata": {
        "id": "uooq3XAQ3cb4"
      },
      "execution_count": null,
      "outputs": []
    }
  ]
}