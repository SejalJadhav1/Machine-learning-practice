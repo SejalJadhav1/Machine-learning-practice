{
  "nbformat": 4,
  "nbformat_minor": 0,
  "metadata": {
    "colab": {
      "provenance": [],
      "collapsed_sections": [],
      "authorship_tag": "ABX9TyMjB6e25X98qhQkH07yxZ7a",
      "include_colab_link": true
    },
    "kernelspec": {
      "name": "python3",
      "display_name": "Python 3"
    },
    "language_info": {
      "name": "python"
    }
  },
  "cells": [
    {
      "cell_type": "markdown",
      "metadata": {
        "id": "view-in-github",
        "colab_type": "text"
      },
      "source": [
        "<a href=\"https://colab.research.google.com/github/SejalJadhav1/python_/blob/main/MachineLearningTechnique_2.ipynb\" target=\"_parent\"><img src=\"https://colab.research.google.com/assets/colab-badge.svg\" alt=\"Open In Colab\"/></a>"
      ]
    },
    {
      "cell_type": "markdown",
      "source": [
        "#TRAINING DATA"
      ],
      "metadata": {
        "id": "P2R6dbb2iPk2"
      }
    },
    {
      "cell_type": "code",
      "execution_count": null,
      "metadata": {
        "id": "yPTQfnK8mfJQ"
      },
      "outputs": [],
      "source": [
        "from IPython.display import display, Math, Latex"
      ]
    },
    {
      "cell_type": "code",
      "source": [
        "import numpy as np"
      ],
      "metadata": {
        "id": "8DH6PUvhm3V7"
      },
      "execution_count": null,
      "outputs": []
    },
    {
      "cell_type": "code",
      "source": [
        "import matplotlib.pyplot as plt\n",
        "import seaborn as sns"
      ],
      "metadata": {
        "id": "x67a_QK0mp1O"
      },
      "execution_count": null,
      "outputs": []
    },
    {
      "cell_type": "code",
      "source": [
        "%matplotlib inline"
      ],
      "metadata": {
        "id": "gODOhKTkmrF7"
      },
      "execution_count": null,
      "outputs": []
    },
    {
      "cell_type": "code",
      "source": [
        "X = 10* np.random.randn(100,)\n",
        "X"
      ],
      "metadata": {
        "colab": {
          "base_uri": "https://localhost:8080/"
        },
        "id": "4i29_2qn-7vl",
        "outputId": "c1673ad2-ad62-4772-fadb-b247d82d9199"
      },
      "execution_count": null,
      "outputs": [
        {
          "output_type": "execute_result",
          "data": {
            "text/plain": [
              "array([ -1.23007665,   4.62131849,   3.47008991,   5.53008189,\n",
              "        22.65863853,   1.97895508,   9.07803572,  -3.98309479,\n",
              "       -11.27206183,  11.27974566,   7.282707  ,  -8.68939698,\n",
              "        12.75443735,   7.58339052, -12.98941721, -14.25101317,\n",
              "        10.67167589, -11.41379475,   8.36576947,   6.6464182 ,\n",
              "         5.40414238,  -1.39136842,  -0.48632864,  -2.932233  ,\n",
              "        16.70711963,  -2.69837337,   6.53935828,  25.57899774,\n",
              "        -0.24088231,  -8.963973  ,  -3.33762603,  -8.65679968,\n",
              "       -13.95963735,   1.64791726,   3.56262922,  -3.96754939,\n",
              "        -1.28970339,   0.41039028,   4.61986719,  18.79278062,\n",
              "        -6.16520553,  23.60615017, -11.52883713,   9.76162236,\n",
              "       -14.85268723,   6.49729654,   6.00795328, -23.71537099,\n",
              "         6.12631014,   8.09170129,  -1.30370451,   2.69582336,\n",
              "         9.71228941,   8.27575624,  -1.35735106,  -0.53866392,\n",
              "       -12.63186641,  -6.50741565, -11.87398276,  -4.05433687,\n",
              "       -13.68581853,   5.95089284, -12.068452  ,   3.67069863,\n",
              "        15.58523326,   6.99528105, -10.27995531,   6.86269648,\n",
              "        -0.26642384,   1.042148  ,   9.36959397,   6.71696561,\n",
              "        -2.11430374,   1.96660306,   1.90293265,  -8.02745068,\n",
              "       -12.37502792,   6.39286981,   8.54413675,  -4.18902979,\n",
              "         4.01886322,  16.71588911,  -5.40856617,  -2.35600144,\n",
              "        -4.84501596,  -2.24638314,  -6.10750677,   3.83134464,\n",
              "         5.72513648,  -2.54761169,  14.08279857,   3.63662994,\n",
              "        -5.5355226 ,  -3.47646707,  -0.94184925,  16.71194527,\n",
              "       -13.73708578, -13.17467832, -10.1699304 ,   1.76113872])"
            ]
          },
          "metadata": {},
          "execution_count": 6
        }
      ]
    },
    {
      "cell_type": "code",
      "source": [
        "w0 = 4\n",
        "w1 = 3\n",
        "n = 100\n",
        "y = w0 + w1*X + np.random.randn(100,) "
      ],
      "metadata": {
        "id": "QE_pJ5wtAEU8"
      },
      "execution_count": null,
      "outputs": []
    },
    {
      "cell_type": "code",
      "source": [
        "y"
      ],
      "metadata": {
        "colab": {
          "base_uri": "https://localhost:8080/"
        },
        "id": "yMYQWBSXBO-6",
        "outputId": "7c2ac6f6-e8de-4b72-a9fe-018f0771d3c7"
      },
      "execution_count": null,
      "outputs": [
        {
          "output_type": "execute_result",
          "data": {
            "text/plain": [
              "array([ 1.96959507e-01,  1.69025936e+01,  1.38664478e+01,  2.13367981e+01,\n",
              "        7.27701060e+01,  1.10667939e+01,  3.12255093e+01, -7.80493852e+00,\n",
              "       -2.87105847e+01,  3.72017012e+01,  2.60138955e+01, -2.17361154e+01,\n",
              "        4.23668866e+01,  2.54311405e+01, -3.34733114e+01, -3.57649009e+01,\n",
              "        3.59047606e+01, -3.10429202e+01,  2.86739285e+01,  2.47153903e+01,\n",
              "        1.98466713e+01, -1.06222890e-01,  2.29395498e+00, -5.79930653e+00,\n",
              "        5.13160817e+01, -2.26078841e+00,  2.39176030e+01,  8.06832728e+01,\n",
              "        3.15874340e+00, -2.28850676e+01, -6.88478240e+00, -2.18998658e+01,\n",
              "       -3.69271374e+01,  8.28939788e+00,  1.40516979e+01, -9.30812478e+00,\n",
              "       -1.50311049e-02,  3.63323364e+00,  1.89795225e+01,  5.89719599e+01,\n",
              "       -1.40035850e+01,  7.39454545e+01, -3.06214193e+01,  3.35607682e+01,\n",
              "       -4.10852077e+01,  2.33463476e+01,  2.27528407e+01, -6.69570499e+01,\n",
              "        2.36457215e+01,  2.86795340e+01,  9.66275497e-01,  1.16262225e+01,\n",
              "        3.30399985e+01,  2.81064172e+01,  4.40195913e-01, -3.58001947e-01,\n",
              "       -3.40623055e+01, -1.81852846e+01, -2.98943312e+01, -8.89088786e+00,\n",
              "       -3.74018362e+01,  2.10581117e+01, -3.37670629e+01,  1.50591868e+01,\n",
              "        5.32237401e+01,  2.40280563e+01, -2.61200956e+01,  2.43921299e+01,\n",
              "        3.01726570e+00,  7.33287920e+00,  3.34948728e+01,  2.46647247e+01,\n",
              "       -3.03390666e+00,  8.59022396e+00,  9.16020082e+00, -2.02038112e+01,\n",
              "       -3.27419033e+01,  2.13074166e+01,  2.84392067e+01, -8.28669465e+00,\n",
              "        1.58658560e+01,  5.37488029e+01, -1.32493286e+01, -2.88123109e+00,\n",
              "       -1.11775607e+01, -2.54503476e+00, -1.37692578e+01,  1.40932963e+01,\n",
              "        2.02563778e+01, -3.63086677e+00,  4.50954769e+01,  1.41172546e+01,\n",
              "       -1.31255267e+01, -6.43716379e+00,  7.47144997e-01,  5.35416680e+01,\n",
              "       -3.93806311e+01, -3.64314904e+01, -2.72604739e+01,  1.01966168e+01])"
            ]
          },
          "metadata": {},
          "execution_count": 8
        }
      ]
    },
    {
      "cell_type": "code",
      "source": [
        "X.shape"
      ],
      "metadata": {
        "colab": {
          "base_uri": "https://localhost:8080/"
        },
        "id": "-57FjJ26BP3j",
        "outputId": "b3a40613-807a-4acf-d89a-a1405d77b9da"
      },
      "execution_count": null,
      "outputs": [
        {
          "output_type": "execute_result",
          "data": {
            "text/plain": [
              "(100,)"
            ]
          },
          "metadata": {},
          "execution_count": 9
        }
      ]
    },
    {
      "cell_type": "code",
      "source": [
        "y.shape"
      ],
      "metadata": {
        "colab": {
          "base_uri": "https://localhost:8080/"
        },
        "id": "JrTqqekVaHm5",
        "outputId": "ded32f93-b7f5-42d9-a5be-ac58b1f0b7c5"
      },
      "execution_count": null,
      "outputs": [
        {
          "output_type": "execute_result",
          "data": {
            "text/plain": [
              "(100,)"
            ]
          },
          "metadata": {},
          "execution_count": 10
        }
      ]
    },
    {
      "cell_type": "code",
      "source": [
        "from sklearn.model_selection import train_test_split"
      ],
      "metadata": {
        "id": "W9m2bTVfaKti"
      },
      "execution_count": null,
      "outputs": []
    },
    {
      "cell_type": "code",
      "source": [
        "X_train, X_test, y_train, y_test = train_test_split(X, y,test_size = 0.20, random_state =42 )"
      ],
      "metadata": {
        "id": "xZKybd7_aZx3"
      },
      "execution_count": null,
      "outputs": []
    },
    {
      "cell_type": "code",
      "source": [
        "X_train.shape"
      ],
      "metadata": {
        "colab": {
          "base_uri": "https://localhost:8080/"
        },
        "id": "TbbyFo5zbWX-",
        "outputId": "13a1b5c7-a6f4-4049-b647-ab6bc9b60cbe"
      },
      "execution_count": null,
      "outputs": [
        {
          "output_type": "execute_result",
          "data": {
            "text/plain": [
              "(80,)"
            ]
          },
          "metadata": {},
          "execution_count": 13
        }
      ]
    },
    {
      "cell_type": "code",
      "source": [
        "X_test.shape"
      ],
      "metadata": {
        "colab": {
          "base_uri": "https://localhost:8080/"
        },
        "id": "btDXKToibX1z",
        "outputId": "ac9cb8d9-5e43-4311-83bb-18d4628d9632"
      },
      "execution_count": null,
      "outputs": [
        {
          "output_type": "execute_result",
          "data": {
            "text/plain": [
              "(20,)"
            ]
          },
          "metadata": {},
          "execution_count": 14
        }
      ]
    },
    {
      "cell_type": "code",
      "source": [
        "y_train.shape"
      ],
      "metadata": {
        "colab": {
          "base_uri": "https://localhost:8080/"
        },
        "id": "Lt3_ehlGbZzi",
        "outputId": "4c094910-a4f1-4d11-cf33-a459edd6f15e"
      },
      "execution_count": null,
      "outputs": [
        {
          "output_type": "execute_result",
          "data": {
            "text/plain": [
              "(80,)"
            ]
          },
          "metadata": {},
          "execution_count": 15
        }
      ]
    },
    {
      "cell_type": "code",
      "source": [
        "y_test.shape"
      ],
      "metadata": {
        "colab": {
          "base_uri": "https://localhost:8080/"
        },
        "id": "YSDrV_e_bcaa",
        "outputId": "351ef3f2-8752-485a-d79e-5a003367cc13"
      },
      "execution_count": null,
      "outputs": [
        {
          "output_type": "execute_result",
          "data": {
            "text/plain": [
              "(20,)"
            ]
          },
          "metadata": {},
          "execution_count": 16
        }
      ]
    },
    {
      "cell_type": "code",
      "source": [
        "X_train"
      ],
      "metadata": {
        "colab": {
          "base_uri": "https://localhost:8080/"
        },
        "id": "lp0Up5X8bd_1",
        "outputId": "20f51d98-0a27-4912-a5b9-1ae3061af7ee"
      },
      "execution_count": null,
      "outputs": [
        {
          "output_type": "execute_result",
          "data": {
            "text/plain": [
              "array([ -0.53866392,   5.72513648,   6.53935828, -11.52883713,\n",
              "         1.042148  , -14.25101317,  -6.16520553, -13.73708578,\n",
              "        11.27974566,  -2.11430374,  -8.68939698, -23.71537099,\n",
              "        -2.24638314,  -0.24088231,  -3.47646707,   1.97895508,\n",
              "       -10.27995531,   6.99528105,  -3.96754939,  10.67167589,\n",
              "         8.09170129,   3.56262922,  -3.98309479,  16.71194527,\n",
              "        25.57899774,   6.6464182 ,  16.71588911,  -2.69837337,\n",
              "       -12.068452  ,   7.58339052,  16.70711963,   5.53008189,\n",
              "       -11.41379475,   4.61986719, -11.27206183,   8.54413675,\n",
              "         9.07803572,  15.58523326,  -1.28970339,  -2.54761169,\n",
              "       -12.63186641,   1.76113872,  -1.35735106,   9.76162236,\n",
              "        -1.30370451,   6.86269648,   6.00795328,  -0.26642384,\n",
              "         5.95089284, -13.17467832,  -4.18902979,  23.60615017,\n",
              "       -11.87398276,   6.12631014, -10.1699304 ,  -6.50741565,\n",
              "        -8.02745068, -13.95963735,  -0.94184925,  -4.05433687,\n",
              "         3.67069863,  -4.84501596,   0.41039028,  -8.963973  ,\n",
              "         4.62131849,   9.71228941,  -1.39136842,   3.47008991,\n",
              "        -2.932233  ,   3.83134464,   3.63662994,   1.90293265,\n",
              "        -6.10750677,  -5.40856617,   5.40414238, -13.68581853,\n",
              "         6.71696561, -12.98941721,  -5.5355226 ,   2.69582336])"
            ]
          },
          "metadata": {},
          "execution_count": 17
        }
      ]
    },
    {
      "cell_type": "code",
      "source": [
        "y_train"
      ],
      "metadata": {
        "colab": {
          "base_uri": "https://localhost:8080/"
        },
        "id": "Jcnjxr_3brCv",
        "outputId": "2bd2dbf5-fca7-49f2-e083-40acfdad12c0"
      },
      "execution_count": null,
      "outputs": [
        {
          "output_type": "execute_result",
          "data": {
            "text/plain": [
              "array([-3.58001947e-01,  2.02563778e+01,  2.39176030e+01, -3.06214193e+01,\n",
              "        7.33287920e+00, -3.57649009e+01, -1.40035850e+01, -3.93806311e+01,\n",
              "        3.72017012e+01, -3.03390666e+00, -2.17361154e+01, -6.69570499e+01,\n",
              "       -2.54503476e+00,  3.15874340e+00, -6.43716379e+00,  1.10667939e+01,\n",
              "       -2.61200956e+01,  2.40280563e+01, -9.30812478e+00,  3.59047606e+01,\n",
              "        2.86795340e+01,  1.40516979e+01, -7.80493852e+00,  5.35416680e+01,\n",
              "        8.06832728e+01,  2.47153903e+01,  5.37488029e+01, -2.26078841e+00,\n",
              "       -3.37670629e+01,  2.54311405e+01,  5.13160817e+01,  2.13367981e+01,\n",
              "       -3.10429202e+01,  1.89795225e+01, -2.87105847e+01,  2.84392067e+01,\n",
              "        3.12255093e+01,  5.32237401e+01, -1.50311049e-02, -3.63086677e+00,\n",
              "       -3.40623055e+01,  1.01966168e+01,  4.40195913e-01,  3.35607682e+01,\n",
              "        9.66275497e-01,  2.43921299e+01,  2.27528407e+01,  3.01726570e+00,\n",
              "        2.10581117e+01, -3.64314904e+01, -8.28669465e+00,  7.39454545e+01,\n",
              "       -2.98943312e+01,  2.36457215e+01, -2.72604739e+01, -1.81852846e+01,\n",
              "       -2.02038112e+01, -3.69271374e+01,  7.47144997e-01, -8.89088786e+00,\n",
              "        1.50591868e+01, -1.11775607e+01,  3.63323364e+00, -2.28850676e+01,\n",
              "        1.69025936e+01,  3.30399985e+01, -1.06222890e-01,  1.38664478e+01,\n",
              "       -5.79930653e+00,  1.40932963e+01,  1.41172546e+01,  9.16020082e+00,\n",
              "       -1.37692578e+01, -1.32493286e+01,  1.98466713e+01, -3.74018362e+01,\n",
              "        2.46647247e+01, -3.34733114e+01, -1.31255267e+01,  1.16262225e+01])"
            ]
          },
          "metadata": {},
          "execution_count": 18
        }
      ]
    },
    {
      "cell_type": "code",
      "source": [
        "X_test"
      ],
      "metadata": {
        "colab": {
          "base_uri": "https://localhost:8080/"
        },
        "id": "HXT38rOhbtFc",
        "outputId": "e4611b94-87c2-4524-e26c-49f1838ba1b7"
      },
      "execution_count": null,
      "outputs": [
        {
          "output_type": "execute_result",
          "data": {
            "text/plain": [
              "array([ -2.35600144,   8.27575624,   9.36959397,   6.49729654,\n",
              "       -14.85268723,  18.79278062,  -0.48632864,   4.01886322,\n",
              "         7.282707  ,  -1.23007665,   8.36576947,  -3.33762603,\n",
              "         1.96660306,   1.64791726,  14.08279857,  22.65863853,\n",
              "       -12.37502792,   6.39286981,  12.75443735,  -8.65679968])"
            ]
          },
          "metadata": {},
          "execution_count": 19
        }
      ]
    },
    {
      "cell_type": "code",
      "source": [
        "sns.set_style(\"dark\")\n",
        "f = plt.figure(figsize = (8,8))\n",
        "sns.set_context(\"paper\" , font_scale = 1.5 , rc = {\"lines.linewidth\" : 2.5})\n",
        "\n",
        "plt.plot(X_train, y_train, \"b.\")\n",
        "plt.title(\"data points\")\n",
        "plt.grid(True)\n",
        "plt.xlabel(\"xtrain\" )\n",
        "plt.ylabel(\"ytrain\" )\n",
        "plt.axis([0,10,0,40])\n",
        "\n",
        "plt.show()\n"
      ],
      "metadata": {
        "colab": {
          "base_uri": "https://localhost:8080/",
          "height": 522
        },
        "id": "02I1rDsebwvU",
        "outputId": "47198747-febc-46d7-f9ac-c8d956108f25"
      },
      "execution_count": null,
      "outputs": [
        {
          "output_type": "display_data",
          "data": {
            "text/plain": [
              "<Figure size 576x576 with 1 Axes>"
            ],
            "image/png": "[encoded data removed]"
          },
          "metadata": {}
        }
      ]
    },
    {
      "cell_type": "code",
      "source": [
        "def add_dummy_feature(X):\n",
        "  return np.column_stack((np.ones(X.shape[0]) , X))"
      ],
      "metadata": {
        "id": "VE0lyBpmb376"
      },
      "execution_count": null,
      "outputs": []
    },
    {
      "cell_type": "code",
      "source": [
        "np.ones(X.shape[0])"
      ],
      "metadata": {
        "colab": {
          "base_uri": "https://localhost:8080/"
        },
        "id": "4Mse-j31oryo",
        "outputId": "b449c5b1-d87c-4e31-f9aa-a6e68eafad59"
      },
      "execution_count": null,
      "outputs": [
        {
          "output_type": "execute_result",
          "data": {
            "text/plain": [
              "array([1., 1., 1., 1., 1., 1., 1., 1., 1., 1., 1., 1., 1., 1., 1., 1., 1.,\n",
              "       1., 1., 1., 1., 1., 1., 1., 1., 1., 1., 1., 1., 1., 1., 1., 1., 1.,\n",
              "       1., 1., 1., 1., 1., 1., 1., 1., 1., 1., 1., 1., 1., 1., 1., 1., 1.,\n",
              "       1., 1., 1., 1., 1., 1., 1., 1., 1., 1., 1., 1., 1., 1., 1., 1., 1.,\n",
              "       1., 1., 1., 1., 1., 1., 1., 1., 1., 1., 1., 1., 1., 1., 1., 1., 1.,\n",
              "       1., 1., 1., 1., 1., 1., 1., 1., 1., 1., 1., 1., 1., 1., 1.])"
            ]
          },
          "metadata": {},
          "execution_count": 32
        }
      ]
    },
    {
      "cell_type": "markdown",
      "source": [],
      "metadata": {
        "id": "lDY67dWuo9oy"
      }
    },
    {
      "cell_type": "markdown",
      "source": [],
      "metadata": {
        "id": "71as9Onqorpz"
      }
    },
    {
      "cell_type": "code",
      "source": [
        "X.shape[0]"
      ],
      "metadata": {
        "colab": {
          "base_uri": "https://localhost:8080/"
        },
        "id": "fytb7wDcnMIh",
        "outputId": "6e71f01c-6cc3-451c-d017-df006f200cec"
      },
      "execution_count": null,
      "outputs": [
        {
          "output_type": "execute_result",
          "data": {
            "text/plain": [
              "100"
            ]
          },
          "metadata": {},
          "execution_count": 33
        }
      ]
    },
    {
      "cell_type": "code",
      "source": [
        "a = np.column_stack((np.ones(X.shape[0]) , X))"
      ],
      "metadata": {
        "id": "xg3-4ln4oxxW"
      },
      "execution_count": null,
      "outputs": []
    },
    {
      "cell_type": "code",
      "source": [],
      "metadata": {
        "id": "C_0-3pgNtgpQ"
      },
      "execution_count": null,
      "outputs": []
    },
    {
      "cell_type": "code",
      "source": [
        "a"
      ],
      "metadata": {
        "colab": {
          "base_uri": "https://localhost:8080/"
        },
        "id": "5kVQs9rno_RU",
        "outputId": "8ee22143-d969-42a9-dfe6-6a7dda90aaf4"
      },
      "execution_count": null,
      "outputs": [
        {
          "output_type": "execute_result",
          "data": {
            "text/plain": [
              "array([[  1.        ,  -1.23007665],\n",
              "       [  1.        ,   4.62131849],\n",
              "       [  1.        ,   3.47008991],\n",
              "       [  1.        ,   5.53008189],\n",
              "       [  1.        ,  22.65863853],\n",
              "       [  1.        ,   1.97895508],\n",
              "       [  1.        ,   9.07803572],\n",
              "       [  1.        ,  -3.98309479],\n",
              "       [  1.        , -11.27206183],\n",
              "       [  1.        ,  11.27974566],\n",
              "       [  1.        ,   7.282707  ],\n",
              "       [  1.        ,  -8.68939698],\n",
              "       [  1.        ,  12.75443735],\n",
              "       [  1.        ,   7.58339052],\n",
              "       [  1.        , -12.98941721],\n",
              "       [  1.        , -14.25101317],\n",
              "       [  1.        ,  10.67167589],\n",
              "       [  1.        , -11.41379475],\n",
              "       [  1.        ,   8.36576947],\n",
              "       [  1.        ,   6.6464182 ],\n",
              "       [  1.        ,   5.40414238],\n",
              "       [  1.        ,  -1.39136842],\n",
              "       [  1.        ,  -0.48632864],\n",
              "       [  1.        ,  -2.932233  ],\n",
              "       [  1.        ,  16.70711963],\n",
              "       [  1.        ,  -2.69837337],\n",
              "       [  1.        ,   6.53935828],\n",
              "       [  1.        ,  25.57899774],\n",
              "       [  1.        ,  -0.24088231],\n",
              "       [  1.        ,  -8.963973  ],\n",
              "       [  1.        ,  -3.33762603],\n",
              "       [  1.        ,  -8.65679968],\n",
              "       [  1.        , -13.95963735],\n",
              "       [  1.        ,   1.64791726],\n",
              "       [  1.        ,   3.56262922],\n",
              "       [  1.        ,  -3.96754939],\n",
              "       [  1.        ,  -1.28970339],\n",
              "       [  1.        ,   0.41039028],\n",
              "       [  1.        ,   4.61986719],\n",
              "       [  1.        ,  18.79278062],\n",
              "       [  1.        ,  -6.16520553],\n",
              "       [  1.        ,  23.60615017],\n",
              "       [  1.        , -11.52883713],\n",
              "       [  1.        ,   9.76162236],\n",
              "       [  1.        , -14.85268723],\n",
              "       [  1.        ,   6.49729654],\n",
              "       [  1.        ,   6.00795328],\n",
              "       [  1.        , -23.71537099],\n",
              "       [  1.        ,   6.12631014],\n",
              "       [  1.        ,   8.09170129],\n",
              "       [  1.        ,  -1.30370451],\n",
              "       [  1.        ,   2.69582336],\n",
              "       [  1.        ,   9.71228941],\n",
              "       [  1.        ,   8.27575624],\n",
              "       [  1.        ,  -1.35735106],\n",
              "       [  1.        ,  -0.53866392],\n",
              "       [  1.        , -12.63186641],\n",
              "       [  1.        ,  -6.50741565],\n",
              "       [  1.        , -11.87398276],\n",
              "       [  1.        ,  -4.05433687],\n",
              "       [  1.        , -13.68581853],\n",
              "       [  1.        ,   5.95089284],\n",
              "       [  1.        , -12.068452  ],\n",
              "       [  1.        ,   3.67069863],\n",
              "       [  1.        ,  15.58523326],\n",
              "       [  1.        ,   6.99528105],\n",
              "       [  1.        , -10.27995531],\n",
              "       [  1.        ,   6.86269648],\n",
              "       [  1.        ,  -0.26642384],\n",
              "       [  1.        ,   1.042148  ],\n",
              "       [  1.        ,   9.36959397],\n",
              "       [  1.        ,   6.71696561],\n",
              "       [  1.        ,  -2.11430374],\n",
              "       [  1.        ,   1.96660306],\n",
              "       [  1.        ,   1.90293265],\n",
              "       [  1.        ,  -8.02745068],\n",
              "       [  1.        , -12.37502792],\n",
              "       [  1.        ,   6.39286981],\n",
              "       [  1.        ,   8.54413675],\n",
              "       [  1.        ,  -4.18902979],\n",
              "       [  1.        ,   4.01886322],\n",
              "       [  1.        ,  16.71588911],\n",
              "       [  1.        ,  -5.40856617],\n",
              "       [  1.        ,  -2.35600144],\n",
              "       [  1.        ,  -4.84501596],\n",
              "       [  1.        ,  -2.24638314],\n",
              "       [  1.        ,  -6.10750677],\n",
              "       [  1.        ,   3.83134464],\n",
              "       [  1.        ,   5.72513648],\n",
              "       [  1.        ,  -2.54761169],\n",
              "       [  1.        ,  14.08279857],\n",
              "       [  1.        ,   3.63662994],\n",
              "       [  1.        ,  -5.5355226 ],\n",
              "       [  1.        ,  -3.47646707],\n",
              "       [  1.        ,  -0.94184925],\n",
              "       [  1.        ,  16.71194527],\n",
              "       [  1.        , -13.73708578],\n",
              "       [  1.        , -13.17467832],\n",
              "       [  1.        , -10.1699304 ],\n",
              "       [  1.        ,   1.76113872]])"
            ]
          },
          "metadata": {},
          "execution_count": 47
        }
      ]
    },
    {
      "cell_type": "code",
      "source": [
        "train_matrix = np.array([[3,2,5] , [9,4,7]])\n",
        "train_matrix_with_dummy_feature = add_dummy_feature(train_matrix)\n"
      ],
      "metadata": {
        "id": "_89umt4nrCK0"
      },
      "execution_count": null,
      "outputs": []
    },
    {
      "cell_type": "code",
      "source": [
        "train_matrix.shape"
      ],
      "metadata": {
        "colab": {
          "base_uri": "https://localhost:8080/"
        },
        "id": "5t89Zl1YtX_h",
        "outputId": "43349595-7c5e-4f63-8c7b-00b1abe0905f"
      },
      "execution_count": null,
      "outputs": [
        {
          "output_type": "execute_result",
          "data": {
            "text/plain": [
              "(2, 3)"
            ]
          },
          "metadata": {},
          "execution_count": 50
        }
      ]
    },
    {
      "cell_type": "code",
      "source": [
        "train_matrix_with_dummy_feature"
      ],
      "metadata": {
        "colab": {
          "base_uri": "https://localhost:8080/"
        },
        "id": "Me02Kmk-r37m",
        "outputId": "16dda924-17be-4437-8d82-daf9a0ee143f"
      },
      "execution_count": null,
      "outputs": [
        {
          "output_type": "execute_result",
          "data": {
            "text/plain": [
              "array([[1., 3., 2., 5.],\n",
              "       [1., 9., 4., 7.]])"
            ]
          },
          "metadata": {},
          "execution_count": 45
        }
      ]
    },
    {
      "cell_type": "code",
      "source": [
        "train_matrix\n"
      ],
      "metadata": {
        "colab": {
          "base_uri": "https://localhost:8080/"
        },
        "id": "MwI9gOrYrGIT",
        "outputId": "0cf5b0f3-1900-4a2d-8d62-443d4e808126"
      },
      "execution_count": null,
      "outputs": [
        {
          "output_type": "execute_result",
          "data": {
            "text/plain": [
              "array([[3, 2, 5],\n",
              "       [9, 4, 7]])"
            ]
          },
          "metadata": {},
          "execution_count": 38
        }
      ]
    },
    {
      "cell_type": "code",
      "source": [
        "add_dummy_feature(np.array([[1,2]  , [5,6]]))"
      ],
      "metadata": {
        "colab": {
          "base_uri": "https://localhost:8080/"
        },
        "id": "AZXR9lv8smsD",
        "outputId": "78553d5c-5120-432f-9e34-88ab6e791fae"
      },
      "execution_count": null,
      "outputs": [
        {
          "output_type": "execute_result",
          "data": {
            "text/plain": [
              "array([[1., 1., 2.],\n",
              "       [1., 5., 6.]])"
            ]
          },
          "metadata": {},
          "execution_count": 43
        }
      ]
    },
    {
      "cell_type": "markdown",
      "source": [],
      "metadata": {
        "id": "ZJ8pA-7KvRXo"
      }
    },
    {
      "cell_type": "markdown",
      "source": [],
      "metadata": {
        "id": "1TPDTTYEzwYB"
      }
    },
    {
      "cell_type": "markdown",
      "source": [
        "y = w0 + w1x1 (in the form y = mx +c since only one feature x1 is present)in this equation we have a feature x1 with the parameter w1, w0 has no feature therefore we add a dummy feature x0= 1 with w0.\n",
        "\n",
        "\n",
        "==> equation becomes => y = x0w0 + w1x1\n",
        "\n",
        "\n",
        "==> feature matrix before dummy variable is (100, 1) after is (100 , 2)\n"
      ],
      "metadata": {
        "id": "rS4v9RHSuqXZ"
      }
    },
    {
      "cell_type": "code",
      "source": [
        "X_test_with_dummy = add_dummy_feature(X_test)\n",
        "X_train_with_dummy = add_dummy_feature(X_train)\n"
      ],
      "metadata": {
        "id": "l_VQdbiOss_U"
      },
      "execution_count": null,
      "outputs": []
    },
    {
      "cell_type": "code",
      "source": [
        "X_test_with_dummy"
      ],
      "metadata": {
        "colab": {
          "base_uri": "https://localhost:8080/"
        },
        "id": "srFxPk25upeB",
        "outputId": "dea58b59-0f69-494f-eeed-ba2dc4847935"
      },
      "execution_count": null,
      "outputs": [
        {
          "output_type": "execute_result",
          "data": {
            "text/plain": [
              "array([[  1.        ,  -2.35600144],\n",
              "       [  1.        ,   8.27575624],\n",
              "       [  1.        ,   9.36959397],\n",
              "       [  1.        ,   6.49729654],\n",
              "       [  1.        , -14.85268723],\n",
              "       [  1.        ,  18.79278062],\n",
              "       [  1.        ,  -0.48632864],\n",
              "       [  1.        ,   4.01886322],\n",
              "       [  1.        ,   7.282707  ],\n",
              "       [  1.        ,  -1.23007665],\n",
              "       [  1.        ,   8.36576947],\n",
              "       [  1.        ,  -3.33762603],\n",
              "       [  1.        ,   1.96660306],\n",
              "       [  1.        ,   1.64791726],\n",
              "       [  1.        ,  14.08279857],\n",
              "       [  1.        ,  22.65863853],\n",
              "       [  1.        , -12.37502792],\n",
              "       [  1.        ,   6.39286981],\n",
              "       [  1.        ,  12.75443735],\n",
              "       [  1.        ,  -8.65679968]])"
            ]
          },
          "metadata": {},
          "execution_count": 54
        }
      ]
    },
    {
      "cell_type": "markdown",
      "source": [
        "## **MODEL**"
      ],
      "metadata": {
        "id": "F5LvCfuXx77h"
      }
    },
    {
      "cell_type": "code",
      "source": [],
      "metadata": {
        "id": "NYKsdAFN8t4j"
      },
      "execution_count": null,
      "outputs": []
    },
    {
      "cell_type": "code",
      "source": [
        "def predict(X, w ):\n",
        "  assert X.shape[-1]==w.shape[0]\n",
        "  return X@w"
      ],
      "metadata": {
        "id": "X7EmckPft_AJ"
      },
      "execution_count": null,
      "outputs": []
    },
    {
      "cell_type": "code",
      "source": [
        "def loss(X,y,w):\n",
        "   e = predict(X,w) - y\n",
        "   return (1/2) * (np.transpose(e) @ e)\n"
      ],
      "metadata": {
        "id": "6eB4jvSjzw9O"
      },
      "execution_count": null,
      "outputs": []
    },
    {
      "cell_type": "code",
      "source": [
        "import numpy as np\n",
        "x=np.array([[1,2,2,1],[1,1,3,2]])\n",
        "y=np.array([3,5])\n",
        "w=np.array([1,2,3,4])\n",
        "w = w*2\n"
      ],
      "metadata": {
        "id": "AxpYLtuax6-w"
      },
      "execution_count": null,
      "outputs": []
    },
    {
      "cell_type": "code",
      "source": [
        "loss(x , w, y)"
      ],
      "metadata": {
        "colab": {
          "base_uri": "https://localhost:8080/"
        },
        "id": "0lP8dOhssjOU",
        "outputId": "f023581e-249e-4fb7-9b78-bb456fbc186c"
      },
      "execution_count": null,
      "outputs": [
        {
          "output_type": "execute_result",
          "data": {
            "text/plain": [
              "977.0"
            ]
          },
          "metadata": {},
          "execution_count": 33
        }
      ]
    },
    {
      "cell_type": "code",
      "source": [
        "def loss(x,w,y):\n",
        "    yhat = x@w    \n",
        "    loss = np.sum((yhat-y)**2)\n",
        "    return 0.5 * loss"
      ],
      "metadata": {
        "id": "0N7Gb-GvqT-h"
      },
      "execution_count": null,
      "outputs": []
    },
    {
      "cell_type": "code",
      "source": [
        "x = np.column_stack((np.ones(x.shape[0]) , x ))\n",
        "yhat = x@w\n",
        "loss = np.sum((yhat-y)**2)\n",
        "a = 0.5*loss"
      ],
      "metadata": {
        "colab": {
          "base_uri": "https://localhost:8080/",
          "height": 235
        },
        "id": "giDvlV9zd3_P",
        "outputId": "891441aa-cd67-4c0d-a5dc-074891b904d6"
      },
      "execution_count": null,
      "outputs": [
        {
          "output_type": "error",
          "ename": "ValueError",
          "evalue": "ignored",
          "traceback": [
            "\u001b[0;31m---------------------------------------------------------------------------\u001b[0m",
            "\u001b[0;31mValueError\u001b[0m                                Traceback (most recent call last)",
            "\u001b[0;32m<ipython-input-24-574dd8f3f757>\u001b[0m in \u001b[0;36m<module>\u001b[0;34m()\u001b[0m\n\u001b[1;32m      1\u001b[0m \u001b[0mx\u001b[0m \u001b[0;34m=\u001b[0m \u001b[0mnp\u001b[0m\u001b[0;34m.\u001b[0m\u001b[0mcolumn_stack\u001b[0m\u001b[0;34m(\u001b[0m\u001b[0;34m(\u001b[0m\u001b[0mnp\u001b[0m\u001b[0;34m.\u001b[0m\u001b[0mones\u001b[0m\u001b[0;34m(\u001b[0m\u001b[0mx\u001b[0m\u001b[0;34m.\u001b[0m\u001b[0mshape\u001b[0m\u001b[0;34m[\u001b[0m\u001b[0;36m0\u001b[0m\u001b[0;34m]\u001b[0m\u001b[0;34m)\u001b[0m \u001b[0;34m,\u001b[0m \u001b[0mx\u001b[0m \u001b[0;34m)\u001b[0m\u001b[0;34m)\u001b[0m\u001b[0;34m\u001b[0m\u001b[0;34m\u001b[0m\u001b[0m\n\u001b[0;32m----> 2\u001b[0;31m \u001b[0myhat\u001b[0m \u001b[0;34m=\u001b[0m \u001b[0mx\u001b[0m\u001b[0;34m@\u001b[0m\u001b[0mw\u001b[0m\u001b[0;34m\u001b[0m\u001b[0;34m\u001b[0m\u001b[0m\n\u001b[0m\u001b[1;32m      3\u001b[0m \u001b[0mloss\u001b[0m \u001b[0;34m=\u001b[0m \u001b[0mnp\u001b[0m\u001b[0;34m.\u001b[0m\u001b[0msum\u001b[0m\u001b[0;34m(\u001b[0m\u001b[0;34m(\u001b[0m\u001b[0myhat\u001b[0m\u001b[0;34m-\u001b[0m\u001b[0my\u001b[0m\u001b[0;34m)\u001b[0m\u001b[0;34m**\u001b[0m\u001b[0;36m2\u001b[0m\u001b[0;34m)\u001b[0m\u001b[0;34m\u001b[0m\u001b[0;34m\u001b[0m\u001b[0m\n\u001b[1;32m      4\u001b[0m \u001b[0ma\u001b[0m \u001b[0;34m=\u001b[0m \u001b[0;36m0.5\u001b[0m\u001b[0;34m*\u001b[0m\u001b[0mloss\u001b[0m\u001b[0;34m\u001b[0m\u001b[0;34m\u001b[0m\u001b[0m\n",
            "\u001b[0;31mValueError\u001b[0m: matmul: Input operand 1 has a mismatch in its core dimension 0, with gufunc signature (n?,k),(k,m?)->(n?,m?) (size 5 is different from 6)"
          ]
        }
      ]
    },
    {
      "cell_type": "code",
      "source": [
        "np.sum((yhat-y)**2)"
      ],
      "metadata": {
        "colab": {
          "base_uri": "https://localhost:8080/"
        },
        "id": "3gyfhaHmr2fH",
        "outputId": "bc1e7009-ed3a-485d-c04a-1c072ed83f24"
      },
      "execution_count": null,
      "outputs": [
        {
          "output_type": "execute_result",
          "data": {
            "text/plain": [
              "2210.0"
            ]
          },
          "metadata": {},
          "execution_count": 19
        }
      ]
    },
    {
      "cell_type": "code",
      "source": [
        "w=np.array([1,2,3,4])\n",
        "w*2\n"
      ],
      "metadata": {
        "colab": {
          "base_uri": "https://localhost:8080/"
        },
        "id": "ZQNslK1leJ7X",
        "outputId": "b5e144a2-3910-4b7c-cf54-3ef5bf6a72d0"
      },
      "execution_count": null,
      "outputs": [
        {
          "output_type": "execute_result",
          "data": {
            "text/plain": [
              "array([2, 4, 6, 8])"
            ]
          },
          "metadata": {},
          "execution_count": 63
        }
      ]
    },
    {
      "cell_type": "code",
      "source": [],
      "metadata": {
        "id": "FJHyk5SJedDy"
      },
      "execution_count": null,
      "outputs": []
    },
    {
      "cell_type": "markdown",
      "source": [
        "# OPTIMIZATION"
      ],
      "metadata": {
        "id": "9vyzfhKxg_zh"
      }
    },
    {
      "cell_type": "code",
      "source": [
        "pip install utils"
      ],
      "metadata": {
        "colab": {
          "base_uri": "https://localhost:8080/"
        },
        "id": "icOY_nm_WYN8",
        "outputId": "27e21529-70d6-4f62-b069-815921b558c6"
      },
      "execution_count": null,
      "outputs": [
        {
          "output_type": "stream",
          "name": "stdout",
          "text": [
            "Looking in indexes: https://pypi.org/simple, https://us-python.pkg.dev/colab-wheels/public/simple/\n",
            "Collecting utils\n",
            "  Downloading utils-1.0.1-py2.py3-none-any.whl (21 kB)\n",
            "Installing collected packages: utils\n",
            "Successfully installed utils-1.0.1\n"
          ]
        }
      ]
    },
    {
      "cell_type": "code",
      "source": [
        "import utils"
      ],
      "metadata": {
        "id": "0m9KTkRhWxOQ"
      },
      "execution_count": null,
      "outputs": []
    },
    {
      "cell_type": "code",
      "source": [
        "import random\n",
        "import os\n",
        "import string\n",
        "\n",
        "# generate random integer between a and b (including a and b)\n",
        "randint = random.randint(1,100)\n",
        "print(\"randint:\", randint)\n"
      ],
      "metadata": {
        "colab": {
          "base_uri": "https://localhost:8080/"
        },
        "id": "gT2QemC0XhB8",
        "outputId": "250ba20a-5d67-4dcb-ab22-23d19398b74c"
      },
      "execution_count": null,
      "outputs": [
        {
          "output_type": "stream",
          "name": "stdout",
          "text": [
            "randint: 17\n"
          ]
        }
      ]
    },
    {
      "cell_type": "code",
      "source": [
        "n = random. random()\n",
        "print(n)"
      ],
      "metadata": {
        "colab": {
          "base_uri": "https://localhost:8080/"
        },
        "id": "bR2xQDSIZGoq",
        "outputId": "e8cf198d-b829-4457-e389-25d87f591a39"
      },
      "execution_count": null,
      "outputs": [
        {
          "output_type": "stream",
          "name": "stdout",
          "text": [
            "0.8224857190077711\n"
          ]
        }
      ]
    },
    {
      "cell_type": "code",
      "source": [
        "from gretel_synthetics.generate import generate_text"
      ],
      "metadata": {
        "colab": {
          "base_uri": "https://localhost:8080/",
          "height": 305
        },
        "id": "WJZrghquZQVi",
        "outputId": "0d62c741-5b68-4146-aded-4705b06b6223"
      },
      "execution_count": null,
      "outputs": [
        {
          "output_type": "error",
          "ename": "ModuleNotFoundError",
          "evalue": "ignored",
          "traceback": [
            "\u001b[0;31m---------------------------------------------------------------------------\u001b[0m",
            "\u001b[0;31mModuleNotFoundError\u001b[0m                       Traceback (most recent call last)",
            "\u001b[0;32m<ipython-input-14-f3cb7e7c3965>\u001b[0m in \u001b[0;36m<module>\u001b[0;34m()\u001b[0m\n\u001b[0;32m----> 1\u001b[0;31m \u001b[0;32mfrom\u001b[0m \u001b[0mgretel_synthetics\u001b[0m\u001b[0;34m.\u001b[0m\u001b[0mgenerate\u001b[0m \u001b[0;32mimport\u001b[0m \u001b[0mgenerate_text\u001b[0m\u001b[0;34m\u001b[0m\u001b[0;34m\u001b[0m\u001b[0m\n\u001b[0m",
            "\u001b[0;31mModuleNotFoundError\u001b[0m: No module named 'gretel_synthetics'",
            "",
            "\u001b[0;31m---------------------------------------------------------------------------\u001b[0;32m\nNOTE: If your import is failing due to a missing package, you can\nmanually install dependencies using either !pip or !apt.\n\nTo view examples of installing some common dependencies, click the\n\"Open Examples\" button below.\n\u001b[0;31m---------------------------------------------------------------------------\u001b[0m\n"
          ],
          "errorDetails": {
            "actions": [
              {
                "action": "open_url",
                "actionText": "Open Examples",
                "url": "/notebooks/snippets/importing_libraries.ipynb"
              }
            ]
          }
        }
      ]
    },
    {
      "cell_type": "code",
      "source": [
        "pip install gretel-synthetics"
      ],
      "metadata": {
        "colab": {
          "base_uri": "https://localhost:8080/"
        },
        "id": "4c88BYKaaLin",
        "outputId": "0bafb842-b06f-4a89-cdb4-cdd72b5448eb"
      },
      "execution_count": null,
      "outputs": [
        {
          "output_type": "stream",
          "name": "stdout",
          "text": [
            "Looking in indexes: https://pypi.org/simple, https://us-python.pkg.dev/colab-wheels/public/simple/\n",
            "Collecting gretel-synthetics\n",
            "  Downloading gretel_synthetics-0.18.0-py3-none-any.whl (82 kB)\n",
            "\u001b[K     |████████████████████████████████| 82 kB 785 kB/s \n",
            "\u001b[?25hCollecting sentencepiece==0.1.96\n",
            "  Downloading sentencepiece-0.1.96-cp37-cp37m-manylinux_2_17_x86_64.manylinux2014_x86_64.whl (1.2 MB)\n",
            "\u001b[K     |████████████████████████████████| 1.2 MB 28.7 MB/s \n",
            "\u001b[?25hCollecting loky==2.9.0\n",
            "  Downloading loky-2.9.0-py2.py3-none-any.whl (67 kB)\n",
            "\u001b[K     |████████████████████████████████| 67 kB 2.4 MB/s \n",
            "\u001b[?25hRequirement already satisfied: pandas>=1.1.0 in /usr/local/lib/python3.7/dist-packages (from gretel-synthetics) (1.3.5)\n",
            "Collecting tensorflow-privacy==0.7.3\n",
            "  Downloading tensorflow_privacy-0.7.3-py3-none-any.whl (251 kB)\n",
            "\u001b[K     |████████████████████████████████| 251 kB 41.4 MB/s \n",
            "\u001b[?25hRequirement already satisfied: tqdm<5.0 in /usr/local/lib/python3.7/dist-packages (from gretel-synthetics) (4.64.0)\n",
            "Collecting smart-open<6.0,>=2.1.0\n",
            "  Downloading smart_open-5.2.1-py3-none-any.whl (58 kB)\n",
            "\u001b[K     |████████████████████████████████| 58 kB 5.1 MB/s \n",
            "\u001b[?25hRequirement already satisfied: numpy>=1.18.0 in /usr/local/lib/python3.7/dist-packages (from gretel-synthetics) (1.21.6)\n",
            "Requirement already satisfied: cloudpickle in /usr/local/lib/python3.7/dist-packages (from loky==2.9.0->gretel-synthetics) (1.3.0)\n",
            "Requirement already satisfied: attrs>=21.2.0 in /usr/local/lib/python3.7/dist-packages (from tensorflow-privacy==0.7.3->gretel-synthetics) (21.4.0)\n",
            "Requirement already satisfied: scipy>=0.17 in /usr/local/lib/python3.7/dist-packages (from tensorflow-privacy==0.7.3->gretel-synthetics) (1.4.1)\n",
            "Requirement already satisfied: mpmath in /usr/local/lib/python3.7/dist-packages (from tensorflow-privacy==0.7.3->gretel-synthetics) (1.2.1)\n",
            "Requirement already satisfied: tensorflow-estimator>=2.3.0 in /usr/local/lib/python3.7/dist-packages (from tensorflow-privacy==0.7.3->gretel-synthetics) (2.8.0)\n",
            "Collecting tensorflow-datasets>=4.4.0\n",
            "  Downloading tensorflow_datasets-4.5.2-py3-none-any.whl (4.2 MB)\n",
            "\u001b[K     |████████████████████████████████| 4.2 MB 33.6 MB/s \n",
            "\u001b[?25hRequirement already satisfied: dm-tree~=0.1.1 in /usr/local/lib/python3.7/dist-packages (from tensorflow-privacy==0.7.3->gretel-synthetics) (0.1.7)\n",
            "Requirement already satisfied: tensorflow-probability>=0.13.0 in /usr/local/lib/python3.7/dist-packages (from tensorflow-privacy==0.7.3->gretel-synthetics) (0.16.0)\n",
            "Requirement already satisfied: pytz>=2017.3 in /usr/local/lib/python3.7/dist-packages (from pandas>=1.1.0->gretel-synthetics) (2022.1)\n",
            "Requirement already satisfied: python-dateutil>=2.7.3 in /usr/local/lib/python3.7/dist-packages (from pandas>=1.1.0->gretel-synthetics) (2.8.2)\n",
            "Requirement already satisfied: six>=1.5 in /usr/local/lib/python3.7/dist-packages (from python-dateutil>=2.7.3->pandas>=1.1.0->gretel-synthetics) (1.15.0)\n",
            "Requirement already satisfied: promise in /usr/local/lib/python3.7/dist-packages (from tensorflow-datasets>=4.4.0->tensorflow-privacy==0.7.3->gretel-synthetics) (2.3)\n",
            "Requirement already satisfied: absl-py in /usr/local/lib/python3.7/dist-packages (from tensorflow-datasets>=4.4.0->tensorflow-privacy==0.7.3->gretel-synthetics) (1.0.0)\n",
            "Requirement already satisfied: protobuf>=3.12.2 in /usr/local/lib/python3.7/dist-packages (from tensorflow-datasets>=4.4.0->tensorflow-privacy==0.7.3->gretel-synthetics) (3.17.3)\n",
            "Requirement already satisfied: requests>=2.19.0 in /usr/local/lib/python3.7/dist-packages (from tensorflow-datasets>=4.4.0->tensorflow-privacy==0.7.3->gretel-synthetics) (2.23.0)\n",
            "Requirement already satisfied: termcolor in /usr/local/lib/python3.7/dist-packages (from tensorflow-datasets>=4.4.0->tensorflow-privacy==0.7.3->gretel-synthetics) (1.1.0)\n",
            "Requirement already satisfied: tensorflow-metadata in /usr/local/lib/python3.7/dist-packages (from tensorflow-datasets>=4.4.0->tensorflow-privacy==0.7.3->gretel-synthetics) (1.8.0)\n",
            "Requirement already satisfied: dill in /usr/local/lib/python3.7/dist-packages (from tensorflow-datasets>=4.4.0->tensorflow-privacy==0.7.3->gretel-synthetics) (0.3.5.1)\n",
            "Requirement already satisfied: importlib-resources in /usr/local/lib/python3.7/dist-packages (from tensorflow-datasets>=4.4.0->tensorflow-privacy==0.7.3->gretel-synthetics) (5.7.1)\n",
            "Requirement already satisfied: typing-extensions in /usr/local/lib/python3.7/dist-packages (from tensorflow-datasets>=4.4.0->tensorflow-privacy==0.7.3->gretel-synthetics) (4.2.0)\n",
            "Requirement already satisfied: urllib3!=1.25.0,!=1.25.1,<1.26,>=1.21.1 in /usr/local/lib/python3.7/dist-packages (from requests>=2.19.0->tensorflow-datasets>=4.4.0->tensorflow-privacy==0.7.3->gretel-synthetics) (1.24.3)\n",
            "Requirement already satisfied: idna<3,>=2.5 in /usr/local/lib/python3.7/dist-packages (from requests>=2.19.0->tensorflow-datasets>=4.4.0->tensorflow-privacy==0.7.3->gretel-synthetics) (2.10)\n",
            "Requirement already satisfied: chardet<4,>=3.0.2 in /usr/local/lib/python3.7/dist-packages (from requests>=2.19.0->tensorflow-datasets>=4.4.0->tensorflow-privacy==0.7.3->gretel-synthetics) (3.0.4)\n",
            "Requirement already satisfied: certifi>=2017.4.17 in /usr/local/lib/python3.7/dist-packages (from requests>=2.19.0->tensorflow-datasets>=4.4.0->tensorflow-privacy==0.7.3->gretel-synthetics) (2022.5.18.1)\n",
            "Requirement already satisfied: decorator in /usr/local/lib/python3.7/dist-packages (from tensorflow-probability>=0.13.0->tensorflow-privacy==0.7.3->gretel-synthetics) (4.4.2)\n",
            "Requirement already satisfied: gast>=0.3.2 in /usr/local/lib/python3.7/dist-packages (from tensorflow-probability>=0.13.0->tensorflow-privacy==0.7.3->gretel-synthetics) (0.5.3)\n",
            "Requirement already satisfied: zipp>=3.1.0 in /usr/local/lib/python3.7/dist-packages (from importlib-resources->tensorflow-datasets>=4.4.0->tensorflow-privacy==0.7.3->gretel-synthetics) (3.8.0)\n",
            "Requirement already satisfied: googleapis-common-protos<2,>=1.52.0 in /usr/local/lib/python3.7/dist-packages (from tensorflow-metadata->tensorflow-datasets>=4.4.0->tensorflow-privacy==0.7.3->gretel-synthetics) (1.56.1)\n",
            "Installing collected packages: tensorflow-datasets, tensorflow-privacy, smart-open, sentencepiece, loky, gretel-synthetics\n",
            "  Attempting uninstall: tensorflow-datasets\n",
            "    Found existing installation: tensorflow-datasets 4.0.1\n",
            "    Uninstalling tensorflow-datasets-4.0.1:\n",
            "      Successfully uninstalled tensorflow-datasets-4.0.1\n",
            "  Attempting uninstall: smart-open\n",
            "    Found existing installation: smart-open 6.0.0\n",
            "    Uninstalling smart-open-6.0.0:\n",
            "      Successfully uninstalled smart-open-6.0.0\n",
            "Successfully installed gretel-synthetics-0.18.0 loky-2.9.0 sentencepiece-0.1.96 smart-open-5.2.1 tensorflow-datasets-4.5.2 tensorflow-privacy-0.7.3\n"
          ]
        }
      ]
    },
    {
      "cell_type": "code",
      "source": [
        "from gretel_synthetics.generate import generate_text"
      ],
      "metadata": {
        "id": "tmb89Oc-aP0A"
      },
      "execution_count": null,
      "outputs": []
    },
    {
      "cell_type": "code",
      "source": [
        "from gretel_synthetics.generate import generate_data"
      ],
      "metadata": {
        "colab": {
          "base_uri": "https://localhost:8080/",
          "height": 322
        },
        "id": "2P-ZRdOfaep0",
        "outputId": "62baf60d-6b3f-4764-959b-fda614e5057d"
      },
      "execution_count": null,
      "outputs": [
        {
          "output_type": "error",
          "ename": "ImportError",
          "evalue": "ignored",
          "traceback": [
            "\u001b[0;31m---------------------------------------------------------------------------\u001b[0m",
            "\u001b[0;31mImportError\u001b[0m                               Traceback (most recent call last)",
            "\u001b[0;32m<ipython-input-18-e408e5131dc1>\u001b[0m in \u001b[0;36m<module>\u001b[0;34m()\u001b[0m\n\u001b[0;32m----> 1\u001b[0;31m \u001b[0;32mfrom\u001b[0m \u001b[0mgretel_synthetics\u001b[0m\u001b[0;34m.\u001b[0m\u001b[0mgenerate\u001b[0m \u001b[0;32mimport\u001b[0m \u001b[0mgenerate_data\u001b[0m\u001b[0;34m\u001b[0m\u001b[0;34m\u001b[0m\u001b[0m\n\u001b[0m",
            "\u001b[0;31mImportError\u001b[0m: cannot import name 'generate_data' from 'gretel_synthetics.generate' (/usr/local/lib/python3.7/dist-packages/gretel_synthetics/generate.py)",
            "",
            "\u001b[0;31m---------------------------------------------------------------------------\u001b[0;32m\nNOTE: If your import is failing due to a missing package, you can\nmanually install dependencies using either !pip or !apt.\n\nTo view examples of installing some common dependencies, click the\n\"Open Examples\" button below.\n\u001b[0;31m---------------------------------------------------------------------------\u001b[0m\n"
          ],
          "errorDetails": {
            "actions": [
              {
                "action": "open_url",
                "actionText": "Open Examples",
                "url": "/notebooks/snippets/importing_libraries.ipynb"
              }
            ]
          }
        }
      ]
    },
    {
      "cell_type": "code",
      "source": [
        "from DataSynthesizer.DataGenerator import DataGenerator"
      ],
      "metadata": {
        "colab": {
          "base_uri": "https://localhost:8080/",
          "height": 305
        },
        "id": "D3wuGXMaagzD",
        "outputId": "e7dbfe82-4c1a-42ae-e522-6e76c6b2aee6"
      },
      "execution_count": null,
      "outputs": [
        {
          "output_type": "error",
          "ename": "ModuleNotFoundError",
          "evalue": "ignored",
          "traceback": [
            "\u001b[0;31m---------------------------------------------------------------------------\u001b[0m",
            "\u001b[0;31mModuleNotFoundError\u001b[0m                       Traceback (most recent call last)",
            "\u001b[0;32m<ipython-input-19-41a2e0c7b394>\u001b[0m in \u001b[0;36m<module>\u001b[0;34m()\u001b[0m\n\u001b[0;32m----> 1\u001b[0;31m \u001b[0;32mfrom\u001b[0m \u001b[0mDataSynthesizer\u001b[0m\u001b[0;34m.\u001b[0m\u001b[0mDataGenerator\u001b[0m \u001b[0;32mimport\u001b[0m \u001b[0mDataGenerator\u001b[0m\u001b[0;34m\u001b[0m\u001b[0;34m\u001b[0m\u001b[0m\n\u001b[0m",
            "\u001b[0;31mModuleNotFoundError\u001b[0m: No module named 'DataSynthesizer'",
            "",
            "\u001b[0;31m---------------------------------------------------------------------------\u001b[0;32m\nNOTE: If your import is failing due to a missing package, you can\nmanually install dependencies using either !pip or !apt.\n\nTo view examples of installing some common dependencies, click the\n\"Open Examples\" button below.\n\u001b[0;31m---------------------------------------------------------------------------\u001b[0m\n"
          ],
          "errorDetails": {
            "actions": [
              {
                "action": "open_url",
                "actionText": "Open Examples",
                "url": "/notebooks/snippets/importing_libraries.ipynb"
              }
            ]
          }
        }
      ]
    },
    {
      "cell_type": "code",
      "source": [
        "import numpy as np\n",
        "import random\n",
        "def mean_abs(X,y,w):\n",
        "\n",
        "  X = np.column_stack((np.ones(X.shape[0]) , X))\n",
        "\n",
        "  \n",
        "  if X.shape[-1]==w.shape[0]:\n",
        "\n",
        "    print(np.mean(np.abs(y - X@w)))  \n",
        "\n",
        " \n"
      ],
      "metadata": {
        "id": "NYOql-C7bN3M"
      },
      "execution_count": null,
      "outputs": []
    },
    {
      "cell_type": "code",
      "source": [
        "mean_abs(X,y,w)"
      ],
      "metadata": {
        "colab": {
          "base_uri": "https://localhost:8080/"
        },
        "id": "-068ubltR68f",
        "outputId": "0522a769-5442-4451-8981-410c827cdd9a"
      },
      "execution_count": null,
      "outputs": [
        {
          "output_type": "stream",
          "name": "stdout",
          "text": [
            "h\n"
          ]
        }
      ]
    },
    {
      "cell_type": "code",
      "source": [
        "def predict(X, w ):\n",
        "  assert X.shape[-1]==w.shape[0]\n",
        "  return X@w"
      ],
      "metadata": {
        "id": "eLaejotWPhz3"
      },
      "execution_count": null,
      "outputs": []
    },
    {
      "cell_type": "code",
      "source": [
        "def loss(X,y,w):\n",
        "   e = predict(X,w) - y\n",
        "   return (1/2) * (np.transpose(e) @ e)"
      ],
      "metadata": {
        "id": "ZeCukxwPRe9V"
      },
      "execution_count": null,
      "outputs": []
    },
    {
      "cell_type": "code",
      "source": [
        "y_hat"
      ],
      "metadata": {
        "colab": {
          "base_uri": "https://localhost:8080/",
          "height": 169
        },
        "id": "zUrkEglEPsDN",
        "outputId": "2d50428d-c8a6-4f00-cd58-b134aae88010"
      },
      "execution_count": null,
      "outputs": [
        {
          "output_type": "error",
          "ename": "NameError",
          "evalue": "ignored",
          "traceback": [
            "\u001b[0;31m---------------------------------------------------------------------------\u001b[0m",
            "\u001b[0;31mNameError\u001b[0m                                 Traceback (most recent call last)",
            "\u001b[0;32m<ipython-input-39-5ab07247eef7>\u001b[0m in \u001b[0;36m<module>\u001b[0;34m()\u001b[0m\n\u001b[0;32m----> 1\u001b[0;31m \u001b[0my_hat\u001b[0m\u001b[0;34m\u001b[0m\u001b[0;34m\u001b[0m\u001b[0m\n\u001b[0m",
            "\u001b[0;31mNameError\u001b[0m: name 'y_hat' is not defined"
          ]
        }
      ]
    },
    {
      "cell_type": "code",
      "source": [
        "X_with_dummy_feature = np.column_stack((np.ones(X.shape[0]) , X))\n",
        "X_with_dummy_feature"
      ],
      "metadata": {
        "colab": {
          "base_uri": "https://localhost:8080/"
        },
        "id": "BufwGfKtO_6f",
        "outputId": "beda270a-6c35-4f92-805c-2afa389cdbbd"
      },
      "execution_count": null,
      "outputs": [
        {
          "output_type": "execute_result",
          "data": {
            "text/plain": [
              "array([[ 1.        ,  1.        ],\n",
              "       [ 1.        ,  1.15254237],\n",
              "       [ 1.        ,  1.30508475],\n",
              "       [ 1.        ,  1.45762712],\n",
              "       [ 1.        ,  1.61016949],\n",
              "       [ 1.        ,  1.76271186],\n",
              "       [ 1.        ,  1.91525424],\n",
              "       [ 1.        ,  2.06779661],\n",
              "       [ 1.        ,  2.22033898],\n",
              "       [ 1.        ,  2.37288136],\n",
              "       [ 1.        ,  2.52542373],\n",
              "       [ 1.        ,  2.6779661 ],\n",
              "       [ 1.        ,  2.83050847],\n",
              "       [ 1.        ,  2.98305085],\n",
              "       [ 1.        ,  3.13559322],\n",
              "       [ 1.        ,  3.28813559],\n",
              "       [ 1.        ,  3.44067797],\n",
              "       [ 1.        ,  3.59322034],\n",
              "       [ 1.        ,  3.74576271],\n",
              "       [ 1.        ,  3.89830508],\n",
              "       [ 1.        ,  4.05084746],\n",
              "       [ 1.        ,  4.20338983],\n",
              "       [ 1.        ,  4.3559322 ],\n",
              "       [ 1.        ,  4.50847458],\n",
              "       [ 1.        ,  4.66101695],\n",
              "       [ 1.        ,  4.81355932],\n",
              "       [ 1.        ,  4.96610169],\n",
              "       [ 1.        ,  5.11864407],\n",
              "       [ 1.        ,  5.27118644],\n",
              "       [ 1.        ,  5.42372881],\n",
              "       [ 1.        ,  5.57627119],\n",
              "       [ 1.        ,  5.72881356],\n",
              "       [ 1.        ,  5.88135593],\n",
              "       [ 1.        ,  6.03389831],\n",
              "       [ 1.        ,  6.18644068],\n",
              "       [ 1.        ,  6.33898305],\n",
              "       [ 1.        ,  6.49152542],\n",
              "       [ 1.        ,  6.6440678 ],\n",
              "       [ 1.        ,  6.79661017],\n",
              "       [ 1.        ,  6.94915254],\n",
              "       [ 1.        ,  7.10169492],\n",
              "       [ 1.        ,  7.25423729],\n",
              "       [ 1.        ,  7.40677966],\n",
              "       [ 1.        ,  7.55932203],\n",
              "       [ 1.        ,  7.71186441],\n",
              "       [ 1.        ,  7.86440678],\n",
              "       [ 1.        ,  8.01694915],\n",
              "       [ 1.        ,  8.16949153],\n",
              "       [ 1.        ,  8.3220339 ],\n",
              "       [ 1.        ,  8.47457627],\n",
              "       [ 1.        ,  8.62711864],\n",
              "       [ 1.        ,  8.77966102],\n",
              "       [ 1.        ,  8.93220339],\n",
              "       [ 1.        ,  9.08474576],\n",
              "       [ 1.        ,  9.23728814],\n",
              "       [ 1.        ,  9.38983051],\n",
              "       [ 1.        ,  9.54237288],\n",
              "       [ 1.        ,  9.69491525],\n",
              "       [ 1.        ,  9.84745763],\n",
              "       [ 1.        , 10.        ]])"
            ]
          },
          "metadata": {},
          "execution_count": 36
        }
      ]
    },
    {
      "cell_type": "code",
      "source": [
        "mean_abs(X,y,w)"
      ],
      "metadata": {
        "id": "pYV3sQbhN_XY"
      },
      "execution_count": null,
      "outputs": []
    },
    {
      "cell_type": "code",
      "source": [
        "X = np.linspace(1, 10 , 60)\n",
        "X.reshape(20,3)"
      ],
      "metadata": {
        "colab": {
          "base_uri": "https://localhost:8080/"
        },
        "id": "vxI5_2SSLpci",
        "outputId": "9acd1813-e920-4561-b80d-0fdfa2df1a7b"
      },
      "execution_count": null,
      "outputs": [
        {
          "output_type": "execute_result",
          "data": {
            "text/plain": [
              "array([[ 1.        ,  1.15254237,  1.30508475],\n",
              "       [ 1.45762712,  1.61016949,  1.76271186],\n",
              "       [ 1.91525424,  2.06779661,  2.22033898],\n",
              "       [ 2.37288136,  2.52542373,  2.6779661 ],\n",
              "       [ 2.83050847,  2.98305085,  3.13559322],\n",
              "       [ 3.28813559,  3.44067797,  3.59322034],\n",
              "       [ 3.74576271,  3.89830508,  4.05084746],\n",
              "       [ 4.20338983,  4.3559322 ,  4.50847458],\n",
              "       [ 4.66101695,  4.81355932,  4.96610169],\n",
              "       [ 5.11864407,  5.27118644,  5.42372881],\n",
              "       [ 5.57627119,  5.72881356,  5.88135593],\n",
              "       [ 6.03389831,  6.18644068,  6.33898305],\n",
              "       [ 6.49152542,  6.6440678 ,  6.79661017],\n",
              "       [ 6.94915254,  7.10169492,  7.25423729],\n",
              "       [ 7.40677966,  7.55932203,  7.71186441],\n",
              "       [ 7.86440678,  8.01694915,  8.16949153],\n",
              "       [ 8.3220339 ,  8.47457627,  8.62711864],\n",
              "       [ 8.77966102,  8.93220339,  9.08474576],\n",
              "       [ 9.23728814,  9.38983051,  9.54237288],\n",
              "       [ 9.69491525,  9.84745763, 10.        ]])"
            ]
          },
          "metadata": {},
          "execution_count": 12
        }
      ]
    },
    {
      "cell_type": "code",
      "source": [
        "y = np.linspace(1, 10 , 20)\n",
        "y.reshape(20,1)"
      ],
      "metadata": {
        "colab": {
          "base_uri": "https://localhost:8080/"
        },
        "id": "B4QmeUwaL_9U",
        "outputId": "f6776f6b-b9de-48b0-ade5-36b9a2dcd002"
      },
      "execution_count": null,
      "outputs": [
        {
          "output_type": "execute_result",
          "data": {
            "text/plain": [
              "array([[ 1.        ],\n",
              "       [ 1.47368421],\n",
              "       [ 1.94736842],\n",
              "       [ 2.42105263],\n",
              "       [ 2.89473684],\n",
              "       [ 3.36842105],\n",
              "       [ 3.84210526],\n",
              "       [ 4.31578947],\n",
              "       [ 4.78947368],\n",
              "       [ 5.26315789],\n",
              "       [ 5.73684211],\n",
              "       [ 6.21052632],\n",
              "       [ 6.68421053],\n",
              "       [ 7.15789474],\n",
              "       [ 7.63157895],\n",
              "       [ 8.10526316],\n",
              "       [ 8.57894737],\n",
              "       [ 9.05263158],\n",
              "       [ 9.52631579],\n",
              "       [10.        ]])"
            ]
          },
          "metadata": {},
          "execution_count": 13
        }
      ]
    },
    {
      "cell_type": "code",
      "source": [
        "w = np.linspace(1, 3 , 3)\n",
        "w.reshape(3,1)"
      ],
      "metadata": {
        "colab": {
          "base_uri": "https://localhost:8080/"
        },
        "id": "lhLWJU7ZMENB",
        "outputId": "67585988-00fc-4b41-a9b7-fef2574c6bf6"
      },
      "execution_count": null,
      "outputs": [
        {
          "output_type": "execute_result",
          "data": {
            "text/plain": [
              "array([[1.],\n",
              "       [2.],\n",
              "       [3.]])"
            ]
          },
          "metadata": {},
          "execution_count": 14
        }
      ]
    },
    {
      "cell_type": "code",
      "source": [
        "mean_abs(X,y,w)"
      ],
      "metadata": {
        "colab": {
          "base_uri": "https://localhost:8080/",
          "height": 296
        },
        "id": "74wSDF-1Mp2X",
        "outputId": "feab3b4d-2bec-4b6c-e5bd-0e06edd94e3d"
      },
      "execution_count": null,
      "outputs": [
        {
          "output_type": "error",
          "ename": "UnboundLocalError",
          "evalue": "ignored",
          "traceback": [
            "\u001b[0;31m---------------------------------------------------------------------------\u001b[0m",
            "\u001b[0;31mUnboundLocalError\u001b[0m                         Traceback (most recent call last)",
            "\u001b[0;32m<ipython-input-26-dc5ee923c441>\u001b[0m in \u001b[0;36m<module>\u001b[0;34m()\u001b[0m\n\u001b[0;32m----> 1\u001b[0;31m \u001b[0mmean_abs\u001b[0m\u001b[0;34m(\u001b[0m\u001b[0mX\u001b[0m\u001b[0;34m,\u001b[0m\u001b[0my\u001b[0m\u001b[0;34m,\u001b[0m\u001b[0mw\u001b[0m\u001b[0;34m)\u001b[0m\u001b[0;34m\u001b[0m\u001b[0;34m\u001b[0m\u001b[0m\n\u001b[0m",
            "\u001b[0;32m<ipython-input-25-dc5be80e322b>\u001b[0m in \u001b[0;36mmean_abs\u001b[0;34m(X, y, w)\u001b[0m\n\u001b[1;32m      7\u001b[0m         \u001b[0my_hat\u001b[0m \u001b[0;34m=\u001b[0m \u001b[0mX_with_dummy_feature\u001b[0m\u001b[0;34m@\u001b[0m\u001b[0mw\u001b[0m\u001b[0;34m\u001b[0m\u001b[0;34m\u001b[0m\u001b[0m\n\u001b[1;32m      8\u001b[0m         \u001b[0my_hat\u001b[0m \u001b[0;34m=\u001b[0m \u001b[0mnp\u001b[0m\u001b[0;34m.\u001b[0m\u001b[0marray\u001b[0m\u001b[0;34m(\u001b[0m\u001b[0my_hat\u001b[0m\u001b[0;34m)\u001b[0m\u001b[0;34m\u001b[0m\u001b[0;34m\u001b[0m\u001b[0m\n\u001b[0;32m----> 9\u001b[0;31m     \u001b[0mprint\u001b[0m\u001b[0;34m(\u001b[0m\u001b[0mnp\u001b[0m\u001b[0;34m.\u001b[0m\u001b[0mmean\u001b[0m\u001b[0;34m(\u001b[0m\u001b[0mnp\u001b[0m\u001b[0;34m.\u001b[0m\u001b[0mabs\u001b[0m\u001b[0;34m(\u001b[0m\u001b[0my\u001b[0m \u001b[0;34m-\u001b[0m \u001b[0my_hat\u001b[0m\u001b[0;34m)\u001b[0m\u001b[0;34m)\u001b[0m\u001b[0;34m)\u001b[0m\u001b[0;34m\u001b[0m\u001b[0;34m\u001b[0m\u001b[0m\n\u001b[0m\u001b[1;32m     10\u001b[0m \u001b[0;34m\u001b[0m\u001b[0m\n\u001b[1;32m     11\u001b[0m \u001b[0;34m\u001b[0m\u001b[0m\n",
            "\u001b[0;31mUnboundLocalError\u001b[0m: local variable 'y_hat' referenced before assignment"
          ]
        }
      ]
    },
    {
      "cell_type": "code",
      "source": [
        "a = 1\n",
        "b = 1\n",
        "\n",
        "if a ==b:\n",
        "  c = a"
      ],
      "metadata": {
        "id": "5h-elzsgMwHP"
      },
      "execution_count": null,
      "outputs": []
    },
    {
      "cell_type": "code",
      "source": [
        "c"
      ],
      "metadata": {
        "colab": {
          "base_uri": "https://localhost:8080/"
        },
        "id": "AaCXkK9aSUhb",
        "outputId": "bf2f1321-3522-4eed-8ce7-976b7e17f4c0"
      },
      "execution_count": null,
      "outputs": [
        {
          "output_type": "execute_result",
          "data": {
            "text/plain": [
              "1"
            ]
          },
          "metadata": {},
          "execution_count": 53
        }
      ]
    },
    {
      "cell_type": "code",
      "source": [
        "def mean_abs(X,y,w):\n",
        "  X = np.column_stack((np.ones(X.shape[0]) , X))\n",
        "  if X.shape[-1]==w.shape[0]:\n",
        "      print(np.mean(np.abs(y - X@w)))    \n",
        "      pass"
      ],
      "metadata": {
        "id": "ThRVgRM2SZNI"
      },
      "execution_count": null,
      "outputs": []
    },
    {
      "cell_type": "code",
      "source": [],
      "metadata": {
        "id": "_Xmzc5DNUegm"
      },
      "execution_count": null,
      "outputs": []
    }
  ]
}