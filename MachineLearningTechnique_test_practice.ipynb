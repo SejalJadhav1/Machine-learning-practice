{
  "nbformat": 4,
  "nbformat_minor": 0,
  "metadata": {
    "colab": {
      "provenance": [],
      "collapsed_sections": [],
      "authorship_tag": "ABX9TyPskz2DRmZD+UwT5YKA/ioS",
      "include_colab_link": true
    },
    "kernelspec": {
      "name": "python3",
      "display_name": "Python 3"
    },
    "language_info": {
      "name": "python"
    }
  },
  "cells": [
    {
      "cell_type": "markdown",
      "metadata": {
        "id": "view-in-github",
        "colab_type": "text"
      },
      "source": [
        "<a href=\"https://colab.research.google.com/github/SejalJadhav1/python_/blob/main/MachineLearningTechnique_test_practice.ipynb\" target=\"_parent\"><img src=\"https://colab.research.google.com/assets/colab-badge.svg\" alt=\"Open In Colab\"/></a>"
      ]
    },
    {
      "cell_type": "code",
      "execution_count": null,
      "metadata": {
        "id": "DfMVFVzm6-bg"
      },
      "outputs": [],
      "source": [
        "import numpy as np\n",
        "import seaborn as sns\n",
        "import matplotlib.pyplot as plt\n",
        "from sklearn.model_selection import train_test_split \n",
        "import random\n",
        "from sklearn.linear_model import Ridge, Lasso"
      ]
    },
    {
      "cell_type": "code",
      "source": [
        "x = np.zeros(5)"
      ],
      "metadata": {
        "id": "KDoDLAr3qDza"
      },
      "execution_count": null,
      "outputs": []
    },
    {
      "cell_type": "code",
      "source": [
        "x = np.column_stack((np.ones(x.shape[0]) , x ))\n",
        "x\n"
      ],
      "metadata": {
        "colab": {
          "base_uri": "https://localhost:8080/"
        },
        "id": "1FOpxbG8qlEx",
        "outputId": "0e9b4b99-1d33-4d97-ac86-382673ffe37e"
      },
      "execution_count": null,
      "outputs": [
        {
          "output_type": "execute_result",
          "data": {
            "text/plain": [
              "array([[1., 0.],\n",
              "       [1., 0.],\n",
              "       [1., 0.],\n",
              "       [1., 0.],\n",
              "       [1., 0.]])"
            ]
          },
          "metadata": {},
          "execution_count": 5
        }
      ]
    },
    {
      "cell_type": "code",
      "source": [
        "x =np.column_stack((np.ones(x.shape[0]) , x))\n",
        "w = np.array([[1,2],[3,4],[5,6]])\n"
      ],
      "metadata": {
        "id": "Fs6RpvrrqyJQ",
        "colab": {
          "base_uri": "https://localhost:8080/",
          "height": 188
        },
        "outputId": "e389bbcb-79f5-46b9-b9f5-3468ce53d6af"
      },
      "execution_count": null,
      "outputs": [
        {
          "output_type": "error",
          "ename": "NameError",
          "evalue": "ignored",
          "traceback": [
            "\u001b[0;31m---------------------------------------------------------------------------\u001b[0m",
            "\u001b[0;31mNameError\u001b[0m                                 Traceback (most recent call last)",
            "\u001b[0;32m<ipython-input-3-9f7884d78203>\u001b[0m in \u001b[0;36m<module>\u001b[0;34m()\u001b[0m\n\u001b[0;32m----> 1\u001b[0;31m \u001b[0mx\u001b[0m \u001b[0;34m=\u001b[0m\u001b[0mnp\u001b[0m\u001b[0;34m.\u001b[0m\u001b[0mcolumn_stack\u001b[0m\u001b[0;34m(\u001b[0m\u001b[0;34m(\u001b[0m\u001b[0mnp\u001b[0m\u001b[0;34m.\u001b[0m\u001b[0mones\u001b[0m\u001b[0;34m(\u001b[0m\u001b[0mx\u001b[0m\u001b[0;34m.\u001b[0m\u001b[0mshape\u001b[0m\u001b[0;34m[\u001b[0m\u001b[0;36m0\u001b[0m\u001b[0;34m]\u001b[0m\u001b[0;34m)\u001b[0m \u001b[0;34m,\u001b[0m \u001b[0mx\u001b[0m\u001b[0;34m)\u001b[0m\u001b[0;34m)\u001b[0m\u001b[0;34m\u001b[0m\u001b[0;34m\u001b[0m\u001b[0m\n\u001b[0m\u001b[1;32m      2\u001b[0m \u001b[0mw\u001b[0m \u001b[0;34m=\u001b[0m \u001b[0mnp\u001b[0m\u001b[0;34m.\u001b[0m\u001b[0marray\u001b[0m\u001b[0;34m(\u001b[0m\u001b[0;34m[\u001b[0m\u001b[0;34m[\u001b[0m\u001b[0;36m1\u001b[0m\u001b[0;34m,\u001b[0m\u001b[0;36m2\u001b[0m\u001b[0;34m]\u001b[0m\u001b[0;34m,\u001b[0m\u001b[0;34m[\u001b[0m\u001b[0;36m3\u001b[0m\u001b[0;34m,\u001b[0m\u001b[0;36m4\u001b[0m\u001b[0;34m]\u001b[0m\u001b[0;34m,\u001b[0m\u001b[0;34m[\u001b[0m\u001b[0;36m5\u001b[0m\u001b[0;34m,\u001b[0m\u001b[0;36m6\u001b[0m\u001b[0;34m]\u001b[0m\u001b[0;34m]\u001b[0m\u001b[0;34m)\u001b[0m\u001b[0;34m\u001b[0m\u001b[0;34m\u001b[0m\u001b[0m\n",
            "\u001b[0;31mNameError\u001b[0m: name 'x' is not defined"
          ]
        }
      ]
    },
    {
      "cell_type": "code",
      "source": [
        "w.sum()"
      ],
      "metadata": {
        "colab": {
          "base_uri": "https://localhost:8080/"
        },
        "id": "bs6AQDp8IVz1",
        "outputId": "b84549cb-7e6b-4447-e9fe-29b8fbd55eae"
      },
      "execution_count": null,
      "outputs": [
        {
          "output_type": "execute_result",
          "data": {
            "text/plain": [
              "21"
            ]
          },
          "metadata": {},
          "execution_count": 9
        }
      ]
    },
    {
      "cell_type": "code",
      "source": [
        "l = []\n",
        "for i , j in w:\n",
        "  l.append(j)\n",
        "l  "
      ],
      "metadata": {
        "colab": {
          "base_uri": "https://localhost:8080/"
        },
        "id": "sWX8akQmGn4_",
        "outputId": "7392f64c-9ac5-41ab-e14d-fa363b80baee"
      },
      "execution_count": null,
      "outputs": [
        {
          "output_type": "execute_result",
          "data": {
            "text/plain": [
              "[2, 4, 6]"
            ]
          },
          "metadata": {},
          "execution_count": 10
        }
      ]
    },
    {
      "cell_type": "code",
      "source": [
        "def loss(x, y, w, lr):\n",
        "  x = np.column_stack((np.ones(x.shape[0]) , x ))\n",
        "  e = (x @ w)-y\n",
        "  ridge_loss = (1/2) * ((e.T) @ e) + (lr/2) ((w.T)@w)  \n",
        "  lasso_loss = (1/2)((x @ w)-y).T((x @ w)-y) + (lr/2) * w.sum()\n",
        "\n",
        "  if ridge_loss>lasso_loss:\n",
        "    return lasso_loss\n",
        "  else:\n",
        "    return ridge_loss  \n",
        "\n",
        "\n",
        "def loss1(x, y, w, lr):\n",
        "  e = y - (x @ w)\n",
        "  x = np.column_stack((np.ones(100) , x ))\n",
        "  ridge_loss = (1/2) * (np.transpose(e) @ e) + (lr/2) * (np.transpose(w)@w)  \n",
        "  lasso_loss = (1/2) * (np.transpose(e) @ e) + (lr/2) * (w.sum())\n",
        "  if ridge_loss > lasso_loss:\n",
        "      return lasso_loss\n",
        "  else:\n",
        "      return ridge_loss \n",
        "\n",
        "# (100 x 5), (100 x 1) and (6 x 1)"
      ],
      "metadata": {
        "id": "VL2EBaw27OMZ"
      },
      "execution_count": null,
      "outputs": []
    },
    {
      "cell_type": "code",
      "source": [
        "x = np.array(np.random.rand(100 , 5))\n",
        "y = np.array(np.random.rand(100 , 1))\n",
        "w = np.ones(x.shape[1])\n",
        "lr = 0.1"
      ],
      "metadata": {
        "id": "IcoTHqazXVCz"
      },
      "execution_count": null,
      "outputs": []
    },
    {
      "cell_type": "code",
      "source": [
        "e = y - (x @ w)\n",
        "x = np.column_stack((np.ones(100) , x ))\n",
        "e = y - (x @ w)\n",
        "\n",
        "x.shape\n",
        "ridge_loss = (1/2) * (np.transpose(e) @ e) + (lr/2) * (np.transpose(w)@w)\n",
        "ridge_loss"
      ],
      "metadata": {
        "colab": {
          "base_uri": "https://localhost:8080/",
          "height": 242
        },
        "id": "7kYLJlTyXJmq",
        "outputId": "ffa86990-1532-460b-a0e0-8c492644bd29"
      },
      "execution_count": null,
      "outputs": [
        {
          "output_type": "error",
          "ename": "ValueError",
          "evalue": "ignored",
          "traceback": [
            "\u001b[0;31m---------------------------------------------------------------------------\u001b[0m",
            "\u001b[0;31mValueError\u001b[0m                                Traceback (most recent call last)",
            "\u001b[0;32m<ipython-input-13-6fa5f54ffed2>\u001b[0m in \u001b[0;36m<module>\u001b[0;34m()\u001b[0m\n\u001b[1;32m      1\u001b[0m \u001b[0me\u001b[0m \u001b[0;34m=\u001b[0m \u001b[0my\u001b[0m \u001b[0;34m-\u001b[0m \u001b[0;34m(\u001b[0m\u001b[0mx\u001b[0m \u001b[0;34m@\u001b[0m \u001b[0mw\u001b[0m\u001b[0;34m)\u001b[0m\u001b[0;34m\u001b[0m\u001b[0;34m\u001b[0m\u001b[0m\n\u001b[1;32m      2\u001b[0m \u001b[0mx\u001b[0m \u001b[0;34m=\u001b[0m \u001b[0mnp\u001b[0m\u001b[0;34m.\u001b[0m\u001b[0mcolumn_stack\u001b[0m\u001b[0;34m(\u001b[0m\u001b[0;34m(\u001b[0m\u001b[0mnp\u001b[0m\u001b[0;34m.\u001b[0m\u001b[0mones\u001b[0m\u001b[0;34m(\u001b[0m\u001b[0;36m100\u001b[0m\u001b[0;34m)\u001b[0m \u001b[0;34m,\u001b[0m \u001b[0mx\u001b[0m \u001b[0;34m)\u001b[0m\u001b[0;34m)\u001b[0m\u001b[0;34m\u001b[0m\u001b[0;34m\u001b[0m\u001b[0m\n\u001b[0;32m----> 3\u001b[0;31m \u001b[0me\u001b[0m \u001b[0;34m=\u001b[0m \u001b[0my\u001b[0m \u001b[0;34m-\u001b[0m \u001b[0;34m(\u001b[0m\u001b[0mx\u001b[0m \u001b[0;34m@\u001b[0m \u001b[0mw\u001b[0m\u001b[0;34m)\u001b[0m\u001b[0;34m\u001b[0m\u001b[0;34m\u001b[0m\u001b[0m\n\u001b[0m\u001b[1;32m      4\u001b[0m \u001b[0;34m\u001b[0m\u001b[0m\n\u001b[1;32m      5\u001b[0m \u001b[0mx\u001b[0m\u001b[0;34m.\u001b[0m\u001b[0mshape\u001b[0m\u001b[0;34m\u001b[0m\u001b[0;34m\u001b[0m\u001b[0m\n",
            "\u001b[0;31mValueError\u001b[0m: matmul: Input operand 1 has a mismatch in its core dimension 0, with gufunc signature (n?,k),(k,m?)->(n?,m?) (size 5 is different from 6)"
          ]
        }
      ]
    },
    {
      "cell_type": "code",
      "source": [
        "s"
      ],
      "metadata": {
        "id": "SA8w4F5aHsCG"
      },
      "execution_count": null,
      "outputs": []
    },
    {
      "cell_type": "code",
      "source": [
        "def is_binary(y): \n",
        "  if np.count_nonzero(np.unique(y))==2:\n",
        "      return True\n",
        "  else:\n",
        "      return False"
      ],
      "metadata": {
        "id": "LQz3CKi5wJi1"
      },
      "execution_count": null,
      "outputs": []
    },
    {
      "cell_type": "code",
      "source": [
        "def is_binary(y): \n",
        "  a = np.unique(y)\n",
        "  count = 0\n",
        "  for i in range(1,):\n",
        "    y.index(i)\n",
        "    "
      ],
      "metadata": {
        "id": "piIK4ymDz8-J"
      },
      "execution_count": null,
      "outputs": []
    },
    {
      "cell_type": "code",
      "source": [
        "y = np.array([0, 6 , 11])\n",
        "np.bincount(y)"
      ],
      "metadata": {
        "id": "HCNJ6FCTzTak"
      },
      "execution_count": null,
      "outputs": []
    },
    {
      "cell_type": "code",
      "source": [
        "np.unique(y).shape[0]"
      ],
      "metadata": {
        "id": "mXjGSNatwMLy"
      },
      "execution_count": null,
      "outputs": []
    },
    {
      "cell_type": "code",
      "source": [
        "la = Lasso(alpha = 0.01)\n",
        "la.fit(x,y)\n",
        "la.score(x,y)"
      ],
      "metadata": {
        "id": "XNywKwbTSZqH"
      },
      "execution_count": null,
      "outputs": []
    },
    {
      "cell_type": "code",
      "source": [
        "loss1(x, y, w, reg_rate)"
      ],
      "metadata": {
        "id": "e4MSRg8_Mvwb"
      },
      "execution_count": null,
      "outputs": []
    },
    {
      "cell_type": "code",
      "source": [
        "x = np.array(np.random.rand(100 , 5))\n",
        "y = np.array(np.random.rand(100 , 1))\n",
        "w = np.ones(x.shape[1])\n",
        "lr = 0.1"
      ],
      "metadata": {
        "id": "MnjKKqbUM1P0"
      },
      "execution_count": null,
      "outputs": []
    },
    {
      "cell_type": "code",
      "source": [
        "loss1(x, y, w, lr)"
      ],
      "metadata": {
        "id": "NiRtC4WMUXvv"
      },
      "execution_count": null,
      "outputs": []
    },
    {
      "cell_type": "code",
      "source": [
        "x.shape[0]"
      ],
      "metadata": {
        "id": "E5-CJzsCWUP6"
      },
      "execution_count": null,
      "outputs": []
    },
    {
      "cell_type": "code",
      "source": [
        "x = np.column_stack((np.ones(x.shape[0]) , x ))\n",
        "x.shape"
      ],
      "metadata": {
        "id": "xlR4u3twU6Hy"
      },
      "execution_count": null,
      "outputs": []
    },
    {
      "cell_type": "code",
      "source": [
        "w"
      ],
      "metadata": {
        "id": "RQnsd_a2VXEi"
      },
      "execution_count": null,
      "outputs": []
    },
    {
      "cell_type": "code",
      "source": [
        "e = x@w\n",
        "e.shape\n",
        "e"
      ],
      "metadata": {
        "id": "B6AenZyRU-0l"
      },
      "execution_count": null,
      "outputs": []
    },
    {
      "cell_type": "code",
      "source": [
        "e = (x@w) - y\n",
        "e.shape"
      ],
      "metadata": {
        "id": "Vq7TZEobVBrU"
      },
      "execution_count": null,
      "outputs": []
    },
    {
      "cell_type": "code",
      "source": [
        "import numpy as np\n",
        "\n",
        "def compute_confusion_matrix(true, pred):\n",
        "  '''Computes a confusion matrix using numpy for two np.arrays\n",
        "  true and pred.\n",
        "\n",
        "  Results are identical (and similar in computation time) to: \n",
        "    \"from sklearn.metrics import confusion_matrix\"\n",
        "\n",
        "  However, this function avoids the dependency on sklearn.'''\n",
        "\n",
        "  K = len(np.unique(true)) # Number of classes \n",
        "  result = np.zeros((K, K))\n",
        "\n",
        "  for i in range(len(true)):\n",
        "    result[true[i]][pred[i]] += 1\n",
        "\n",
        "  return result"
      ],
      "metadata": {
        "id": "ErhCDOy6VDnt"
      },
      "execution_count": null,
      "outputs": []
    },
    {
      "cell_type": "code",
      "source": [
        "def confusionMatrix(actual, pred):\n",
        "  TP = (actual==pred)[actual].sum()\n",
        "  TN = (actual==pred)[~actual].sum()\n",
        "  FP = (actual!=pred)[~actual].sum()\n",
        "  FN = (actual!=pred)[actual].sum()\n",
        "\n",
        "  return [[TP, TN], [FP, FN]]"
      ],
      "metadata": {
        "id": "o7X_khqmbQ9Y"
      },
      "execution_count": null,
      "outputs": []
    },
    {
      "cell_type": "code",
      "source": [
        "confusionMatrix(y, ypred)"
      ],
      "metadata": {
        "id": "6qzKwmKBblOJ"
      },
      "execution_count": null,
      "outputs": []
    },
    {
      "cell_type": "code",
      "source": [
        "actual = np.array([1 , 2 ,3 , 3 , 5])\n",
        "pred = np.array([1 , 2 , 2 , 2 , 4])"
      ],
      "metadata": {
        "id": "j8Z13UkCb8NU"
      },
      "execution_count": null,
      "outputs": []
    },
    {
      "cell_type": "code",
      "source": [
        "y "
      ],
      "metadata": {
        "id": "xYLuIz1HcHa3"
      },
      "execution_count": null,
      "outputs": []
    },
    {
      "cell_type": "code",
      "source": [
        "actual =actual.reshape(1,5)"
      ],
      "metadata": {
        "id": "T84TsxebcTCf"
      },
      "execution_count": null,
      "outputs": []
    },
    {
      "cell_type": "code",
      "source": [
        "y.shape"
      ],
      "metadata": {
        "id": "Tnonk0vCcavh"
      },
      "execution_count": null,
      "outputs": []
    },
    {
      "cell_type": "code",
      "source": [
        "pred = pred.reshape(1,5)"
      ],
      "metadata": {
        "id": "R98Mk2rccohU"
      },
      "execution_count": null,
      "outputs": []
    },
    {
      "cell_type": "code",
      "source": [
        "TP = (actual==pred)[actual].sum()"
      ],
      "metadata": {
        "id": "9g4I7r4ActVV"
      },
      "execution_count": null,
      "outputs": []
    },
    {
      "cell_type": "code",
      "source": [
        "actual==pred"
      ],
      "metadata": {
        "id": "bfVStbZodGYy"
      },
      "execution_count": null,
      "outputs": []
    },
    {
      "cell_type": "code",
      "source": [
        "def confusion_matrix(actual, predicted):\n",
        "  classes = np.unique(np.concatenate((actual,predicted)))\n",
        "  confusion_mtx = np.empty((len(classes),len(classes)),dtype=np.int)\n",
        "  for i,a in enumerate(classes):\n",
        "      for j,p in enumerate(classes):\n",
        "          confusion_mtx[i,j] = np.where((actual==a)*(predicted==p))[0].shape[0]\n",
        "  return confusion_mtx"
      ],
      "metadata": {
        "id": "eBI2QdZldJjf"
      },
      "execution_count": null,
      "outputs": []
    },
    {
      "cell_type": "code",
      "source": [
        "confusion_matrix(actual, pred)"
      ],
      "metadata": {
        "id": "ElQgnGzBejV2"
      },
      "execution_count": null,
      "outputs": []
    },
    {
      "cell_type": "code",
      "source": [
        "def predict(x,w):\n",
        "    x = np.column_stack((np.ones(x.shape[0]) , x))\n",
        "    assert x.shape[-1]==w.shape[0]\n",
        "    a = x@w\n",
        "    return a"
      ],
      "metadata": {
        "id": "TFf-Oqdpels4"
      },
      "execution_count": null,
      "outputs": []
    },
    {
      "cell_type": "code",
      "source": [
        "def predict(X, w):\n",
        "    if X.shape[1] == w.shape[0]:\n",
        "        return X @ w\n",
        "    else:\n",
        "        return None"
      ],
      "metadata": {
        "id": "ULL-yRHEm_Wo"
      },
      "execution_count": null,
      "outputs": []
    },
    {
      "cell_type": "code",
      "source": [
        "def predict(x,w):\n",
        "    x = np.column_stack((np.ones(x.shape[0]) , x))\n",
        "    y = []\n",
        "    for i in range(0 , x.shape[0]):\n",
        "        yhat = 0\n",
        "        for j in range(0 , x.shape[1]):\n",
        "            yhat = yhat + x[i][j] * w[j]\n",
        "        y.append(yhat)\n",
        "    return np.array(y) "
      ],
      "metadata": {
        "id": "c6ibRTr0jlXz"
      },
      "execution_count": null,
      "outputs": []
    },
    {
      "cell_type": "code",
      "source": [
        "x = np.array(np.random.rand(5 , 5))\n",
        "y = np.array(np.random.rand(5 , 1))\n",
        "w = np.ones(x.shape[1])\n",
        "lr = 0.1\n"
      ],
      "metadata": {
        "id": "_rRS7IsIKcYn"
      },
      "execution_count": null,
      "outputs": []
    },
    {
      "cell_type": "code",
      "source": [
        "def loss(x,w,y):\n",
        "    x = np.column_stack((np.ones(x.shape[0]) , x))\n",
        "    loss = np.sum((predict(x,w)-y)**2)\n",
        "    return loss"
      ],
      "metadata": {
        "id": "uGTIzGrrjnvk"
      },
      "execution_count": null,
      "outputs": []
    },
    {
      "cell_type": "code",
      "source": [
        "x = np.column_stack((np.ones(x.shape[0]) , x))\n"
      ],
      "metadata": {
        "id": "L7DPQvMAKXUe"
      },
      "execution_count": null,
      "outputs": []
    },
    {
      "cell_type": "code",
      "source": [
        "x.shape"
      ],
      "metadata": {
        "colab": {
          "base_uri": "https://localhost:8080/"
        },
        "id": "KkvNpd_tKrGz",
        "outputId": "14d02883-030c-44bb-d8b5-a3caf2c6a613"
      },
      "execution_count": null,
      "outputs": [
        {
          "output_type": "execute_result",
          "data": {
            "text/plain": [
              "(5, 6)"
            ]
          },
          "metadata": {},
          "execution_count": 36
        }
      ]
    },
    {
      "cell_type": "code",
      "source": [
        "w = np.ones(x.shape[1])\n",
        "w.shape"
      ],
      "metadata": {
        "colab": {
          "base_uri": "https://localhost:8080/"
        },
        "id": "i1VxZynXLrTC",
        "outputId": "0c55a4a1-17ab-4972-d383-ade28c9203cb"
      },
      "execution_count": null,
      "outputs": [
        {
          "output_type": "execute_result",
          "data": {
            "text/plain": [
              "(6,)"
            ]
          },
          "metadata": {},
          "execution_count": 37
        }
      ]
    },
    {
      "cell_type": "code",
      "source": [
        "x"
      ],
      "metadata": {
        "colab": {
          "base_uri": "https://localhost:8080/"
        },
        "id": "l13oJm_6KsdL",
        "outputId": "6e1a61cb-ed99-4072-c7b5-239c955ca519"
      },
      "execution_count": null,
      "outputs": [
        {
          "output_type": "execute_result",
          "data": {
            "text/plain": [
              "array([[1.        , 0.28841278, 0.61398483, 0.14196384, 0.63252118,\n",
              "        0.73565305],\n",
              "       [1.        , 0.19680432, 0.63885363, 0.83674238, 0.30985915,\n",
              "        0.82642873],\n",
              "       [1.        , 0.54769004, 0.30500995, 0.7485619 , 0.48693647,\n",
              "        0.26457371],\n",
              "       [1.        , 0.79817112, 0.09711666, 0.26870521, 0.36581744,\n",
              "        0.91952724],\n",
              "       [1.        , 0.28535544, 0.19772916, 0.1029794 , 0.85028564,\n",
              "        0.0559118 ]])"
            ]
          },
          "metadata": {},
          "execution_count": 33
        }
      ]
    },
    {
      "cell_type": "code",
      "source": [
        "y = np.array(np.random.rand(5 , 1))\n",
        "y.shape\n"
      ],
      "metadata": {
        "colab": {
          "base_uri": "https://localhost:8080/"
        },
        "id": "dPmeG4HVKtRv",
        "outputId": "541d34f3-e65c-40d9-ac7d-239b8a8d2d69"
      },
      "execution_count": null,
      "outputs": [
        {
          "output_type": "execute_result",
          "data": {
            "text/plain": [
              "(5, 1)"
            ]
          },
          "metadata": {},
          "execution_count": 41
        }
      ]
    },
    {
      "cell_type": "code",
      "source": [
        "def predict(x,w):\n",
        "    x = np.column_stack((np.ones(x.shape[0]) , x))\n",
        "    if x.shape[1] == w.shape[0]:\n",
        "        return x @ w\n",
        "    else:\n",
        "        return None\n",
        "def loss(x,w,y):\n",
        "    x = np.column_stack((np.ones(x.shape[0]) , x))\n",
        "    e = predict(x,w)-y\n",
        "    "
      ],
      "metadata": {
        "id": "yNqFAd-fMEi1"
      },
      "execution_count": null,
      "outputs": []
    },
    {
      "cell_type": "code",
      "source": [
        "loss = np.sum((predict(x,w)-y)**2)"
      ],
      "metadata": {
        "colab": {
          "base_uri": "https://localhost:8080/",
          "height": 169
        },
        "id": "F20eWsr0K3QL",
        "outputId": "a7a2aac5-6234-47f4-8943-7a4c014786c3"
      },
      "execution_count": null,
      "outputs": [
        {
          "output_type": "error",
          "ename": "NameError",
          "evalue": "ignored",
          "traceback": [
            "\u001b[0;31m---------------------------------------------------------------------------\u001b[0m",
            "\u001b[0;31mNameError\u001b[0m                                 Traceback (most recent call last)",
            "\u001b[0;32m<ipython-input-46-a181dc95b17e>\u001b[0m in \u001b[0;36m<module>\u001b[0;34m()\u001b[0m\n\u001b[0;32m----> 1\u001b[0;31m \u001b[0mloss\u001b[0m \u001b[0;34m=\u001b[0m \u001b[0mnp\u001b[0m\u001b[0;34m.\u001b[0m\u001b[0msum\u001b[0m\u001b[0;34m(\u001b[0m\u001b[0;34m(\u001b[0m\u001b[0mpredict\u001b[0m\u001b[0;34m(\u001b[0m\u001b[0mx\u001b[0m\u001b[0;34m,\u001b[0m\u001b[0mw\u001b[0m\u001b[0;34m)\u001b[0m\u001b[0;34m-\u001b[0m\u001b[0my\u001b[0m\u001b[0;34m)\u001b[0m\u001b[0;34m**\u001b[0m\u001b[0;36m2\u001b[0m\u001b[0;34m)\u001b[0m\u001b[0;34m\u001b[0m\u001b[0;34m\u001b[0m\u001b[0m\n\u001b[0m",
            "\u001b[0;31mNameError\u001b[0m: name 'predict' is not defined"
          ]
        }
      ]
    },
    {
      "cell_type": "code",
      "source": [
        "e = 0.5 * np.sum((x@w - y)**2)\n"
      ],
      "metadata": {
        "id": "VMdqNNpyLhGv"
      },
      "execution_count": null,
      "outputs": []
    },
    {
      "cell_type": "code",
      "source": [
        "import numpy as np"
      ],
      "metadata": {
        "id": "nAv2hmifA-fM"
      },
      "execution_count": null,
      "outputs": []
    },
    {
      "cell_type": "code",
      "source": [
        "def ConfusionMatrix(y_hat,y):\n",
        "    a = np.unique(y)[0]\n",
        "    b = np.unique(y)[1]\n",
        "    TN = 0\n",
        "    TP = 0\n",
        "    FP = 0\n",
        "    FN = 0\n",
        "\n",
        "    for i,j in zip(y_hat ,y):\n",
        "        if i == a and j==a :\n",
        "            TN = TN+1\n",
        "        elif i== b and j ==b:\n",
        "            TP = TP+1\n",
        "        elif i==a and j==b:\n",
        "            FP = FP + 1\n",
        "        elif i==b and j==a:\n",
        "            FN = FN + 1\n",
        "        else:\n",
        "            return None\n",
        "    return np.array([[TN , FP] , [FN , TP]] )   "
      ],
      "metadata": {
        "id": "kq4mispoMTeW"
      },
      "execution_count": null,
      "outputs": []
    },
    {
      "cell_type": "code",
      "source": [
        "y_hat = np.array([5,1,1,1,5,1,5,1,5,1,1,1])\n",
        "y = np.array([1,1,1,5,5,5,5,1,1,1,1,1])\n",
        "np.unique(y)"
      ],
      "metadata": {
        "colab": {
          "base_uri": "https://localhost:8080/"
        },
        "id": "N9KmQ2sYA7E4",
        "outputId": "ae94ac91-394c-4e6d-80b9-e1e17128a091"
      },
      "execution_count": null,
      "outputs": [
        {
          "output_type": "execute_result",
          "data": {
            "text/plain": [
              "array([1, 5])"
            ]
          },
          "metadata": {},
          "execution_count": 43
        }
      ]
    },
    {
      "cell_type": "code",
      "source": [
        "ConfusionMatrix(y_hat,y)"
      ],
      "metadata": {
        "colab": {
          "base_uri": "https://localhost:8080/"
        },
        "id": "AFILIbtxBXAD",
        "outputId": "1a59d817-c955-4082-cc5e-17abe0493891"
      },
      "execution_count": null,
      "outputs": [
        {
          "output_type": "execute_result",
          "data": {
            "text/plain": [
              "array([[6, 2],\n",
              "       [2, 2]])"
            ]
          },
          "metadata": {},
          "execution_count": 44
        }
      ]
    },
    {
      "cell_type": "code",
      "source": [
        "from sklearn.metrics import confusion_matrix\n",
        "confusion_matrix(y_hat, y)\n",
        "\n"
      ],
      "metadata": {
        "colab": {
          "base_uri": "https://localhost:8080/"
        },
        "id": "QdvZSs2ABabg",
        "outputId": "2ef14855-fd6e-475e-dbad-0c42732581a8"
      },
      "execution_count": null,
      "outputs": [
        {
          "output_type": "execute_result",
          "data": {
            "text/plain": [
              "array([[6, 2],\n",
              "       [2, 2]])"
            ]
          },
          "metadata": {},
          "execution_count": 45
        }
      ]
    },
    {
      "cell_type": "code",
      "source": [],
      "metadata": {
        "id": "gTUQoul9dLUk"
      },
      "execution_count": null,
      "outputs": []
    },
    {
      "cell_type": "markdown",
      "source": [
        "## MLT WEEK **2**"
      ],
      "metadata": {
        "id": "SZ_K6plcdMiX"
      }
    },
    {
      "cell_type": "code",
      "source": [
        "def add_dummy_feature(x):\n",
        "  return np.column_stack((np.ones(x.shape[0]) , x))\n",
        "\n",
        "def predict(x,w):\n",
        "  x = np.column_stack((np.ones(x.shape[0]) , x))\n",
        "  if x.shape[-1]==w.shape[0]:\n",
        "    y_pred = x@w\n",
        "    return y_pred\n",
        "  else:\n",
        "    return None  \n",
        "\n",
        "def non_vectorized_predict(x,w):\n",
        "  x = np.column_stack((np.ones(x.shape[0]) , x))\n",
        "  y = []\n",
        "  for i in range(0 , x.shape[0]):\n",
        "      yhat = 0\n",
        "      for j in range(0 , x.shape[1]):\n",
        "          yhat =  yhat + x[i][j] * w[j]\n",
        "      y.append(yhat)\n",
        "  return np.array(y) \n",
        "\n",
        "def loss(x,y,w):\n",
        "  x = np.column_stack((np.ones(x.shape[0]) , x))\n",
        "  if x.shape[-1] == w.shape[0]:\n",
        "      e = x@w - y\n",
        "      loss =0.5 * (np.transpose(e) @ e)\n",
        "      return loss\n",
        "  else:\n",
        "      return None\n",
        "\n",
        "def normal_equation(x,y):\n",
        "  x = np.column_stack((np.ones(x.shape[0]) , x))\n",
        "  if x.shape[-1] == w.shape[0]:\n",
        "    return np.linalg.pinv(x)@y\n",
        "  else:\n",
        "    return None  \n",
        "\n",
        "def calculate_gradient(x,y,w):\n",
        "  x = np.column_stack((np.ones(x.shape[0]) , x))\n",
        "  if x.shape[-1] == w.shape[0]:\n",
        "    return np.transpose(x)@ ((x@w) -y)\n",
        "  else:\n",
        "    return None  \n",
        "\n",
        "def weight_update(x,y,w,lr):\n",
        "    x = np.column_stack((np.ones(x.shape[0]) , x))\n",
        "    if x.shape[-1] == w.shape[0]:\n",
        "      return w - lr * (np.transpose(x)@ ((x@w) -y))\n",
        "    else:\n",
        "      return None  \n",
        "\n",
        "def gradient_descent(x, y, w,lr,epochs):\n",
        "  losses = []\n",
        "  weights = []\n",
        "  x = np.column_stack((np.ones(x.shape[0]) , x))\n",
        "  w = np.zeros((x.shape[1]))\n",
        "  if x.shape[-1] == w.shape[0]:\n",
        "    for i in range(epochs):\n",
        "      e = x@w - y\n",
        "      l =0.5 * (np.transpose(e) @ e)\n",
        "      g = w - lr * (np.transpose(x)@ ((x@w) -y))\n",
        "      losses.append(l)\n",
        "      weights.append(g)\n",
        "    return losses,weights  \n",
        "\n",
        "\n",
        "\n",
        "\n",
        "\n",
        "\n"
      ],
      "metadata": {
        "id": "T-tdTbgiB1-K"
      },
      "execution_count": null,
      "outputs": []
    },
    {
      "cell_type": "code",
      "source": [
        "predict(x,w)"
      ],
      "metadata": {
        "colab": {
          "base_uri": "https://localhost:8080/"
        },
        "id": "T0sy9iLdLpEc",
        "outputId": "eac0eebd-9161-4653-a88c-93f7702f034b"
      },
      "execution_count": null,
      "outputs": [
        {
          "output_type": "execute_result",
          "data": {
            "text/plain": [
              "array([ 4.,  8., 12.])"
            ]
          },
          "metadata": {},
          "execution_count": 33
        }
      ]
    },
    {
      "cell_type": "code",
      "source": [
        "x = np.array([[1,2,] , [3,4] , [5,6]])\n",
        "w = np.array([5,1,2])\n",
        "y = np.array([2,3,4])\n",
        "x"
      ],
      "metadata": {
        "colab": {
          "base_uri": "https://localhost:8080/"
        },
        "id": "D5NsYtViBm3Y",
        "outputId": "f31e5255-0f9e-4bd3-9a73-1d624c07362c"
      },
      "execution_count": null,
      "outputs": [
        {
          "output_type": "execute_result",
          "data": {
            "text/plain": [
              "array([[1, 2],\n",
              "       [3, 4],\n",
              "       [5, 6]])"
            ]
          },
          "metadata": {},
          "execution_count": 65
        }
      ]
    },
    {
      "cell_type": "code",
      "source": [
        "gradient_descent(x,y ,w , 0.01 , 5)"
      ],
      "metadata": {
        "colab": {
          "base_uri": "https://localhost:8080/"
        },
        "id": "S9hkY7CReJ5m",
        "outputId": "518cf83e-2a0b-4f32-f658-cde04b1ad130"
      },
      "execution_count": null,
      "outputs": [
        {
          "output_type": "execute_result",
          "data": {
            "text/plain": [
              "([14.5, 14.5, 14.5, 14.5, 14.5],\n",
              " [array([0.09, 0.31, 0.4 ]),\n",
              "  array([0.09, 0.31, 0.4 ]),\n",
              "  array([0.09, 0.31, 0.4 ]),\n",
              "  array([0.09, 0.31, 0.4 ]),\n",
              "  array([0.09, 0.31, 0.4 ])])"
            ]
          },
          "metadata": {},
          "execution_count": 63
        }
      ]
    },
    {
      "cell_type": "code",
      "source": [
        "x.shape"
      ],
      "metadata": {
        "colab": {
          "base_uri": "https://localhost:8080/"
        },
        "id": "_PYAUC6oKKrp",
        "outputId": "7184e0e9-08cc-4b90-e66a-d4a2b3d785fb"
      },
      "execution_count": null,
      "outputs": [
        {
          "output_type": "execute_result",
          "data": {
            "text/plain": [
              "(3, 2)"
            ]
          },
          "metadata": {},
          "execution_count": 19
        }
      ]
    },
    {
      "cell_type": "code",
      "source": [
        "for i in range(0 , x.shape[0]):\n",
        "  l = []\n",
        "  for j in range(0 , x.shape[1]):\n",
        "      yhat =x[i][j]\n",
        "      print(l.append(yhat))"
      ],
      "metadata": {
        "colab": {
          "base_uri": "https://localhost:8080/"
        },
        "id": "2YtoQMmCBnbE",
        "outputId": "d44d3f79-c789-4a5c-b93e-44ac6b9cb15c"
      },
      "execution_count": null,
      "outputs": [
        {
          "output_type": "stream",
          "name": "stdout",
          "text": [
            "None\n",
            "None\n",
            "None\n",
            "None\n",
            "None\n",
            "None\n"
          ]
        }
      ]
    },
    {
      "cell_type": "code",
      "source": [],
      "metadata": {
        "id": "1GAMBUc0H9LT"
      },
      "execution_count": null,
      "outputs": []
    },
    {
      "cell_type": "code",
      "source": [
        "x[0][0]"
      ],
      "metadata": {
        "colab": {
          "base_uri": "https://localhost:8080/"
        },
        "id": "tdna-hqOKGH6",
        "outputId": "5eb574f1-b3e5-48c2-80ad-438725d0ca97"
      },
      "execution_count": null,
      "outputs": [
        {
          "output_type": "execute_result",
          "data": {
            "text/plain": [
              "1"
            ]
          },
          "metadata": {},
          "execution_count": 20
        }
      ]
    },
    {
      "cell_type": "code",
      "source": [
        "np.arange(0 , 10)"
      ],
      "metadata": {
        "colab": {
          "base_uri": "https://localhost:8080/"
        },
        "id": "ou1TRFr5KVx5",
        "outputId": "46ea7d76-9c61-4f47-acd0-92b284fdd41a"
      },
      "execution_count": null,
      "outputs": [
        {
          "output_type": "execute_result",
          "data": {
            "text/plain": [
              "array([0, 1, 2, 3, 4, 5, 6, 7, 8, 9])"
            ]
          },
          "metadata": {},
          "execution_count": 35
        }
      ]
    },
    {
      "cell_type": "code",
      "source": [
        "for i in range(10):\n",
        "  print(i)"
      ],
      "metadata": {
        "colab": {
          "base_uri": "https://localhost:8080/"
        },
        "id": "xGgeXZ0aWoD7",
        "outputId": "7d1863d3-c252-4bd4-f0b3-c8c43ac9b198"
      },
      "execution_count": null,
      "outputs": [
        {
          "output_type": "stream",
          "name": "stdout",
          "text": [
            "0\n",
            "1\n",
            "2\n",
            "3\n",
            "4\n",
            "5\n",
            "6\n",
            "7\n",
            "8\n",
            "9\n"
          ]
        }
      ]
    },
    {
      "cell_type": "code",
      "source": [],
      "metadata": {
        "id": "HjutoeLGXp5C"
      },
      "execution_count": null,
      "outputs": []
    },
    {
      "cell_type": "code",
      "source": [],
      "metadata": {
        "id": "UkWdr7S_mb0q"
      },
      "execution_count": null,
      "outputs": []
    },
    {
      "cell_type": "markdown",
      "source": [
        "## MLT WEEK **3**"
      ],
      "metadata": {
        "id": "wT_yJUpYjLWh"
      }
    },
    {
      "cell_type": "code",
      "source": [
        "\n",
        "import itertools\n",
        "import functools\n",
        "\n",
        "def get_combinations(x , degree):\n",
        "  return itertools.combinations_with_replacement(x , degree)\n",
        "\n",
        "def compute_new_features(items):\n",
        "  return functools.reduce(lambda x , y: x*y , items)\n",
        "\n",
        "def polynomial_transform(x, degree):\n",
        "  if x.ndim == 1:\n",
        "    x = x[:, None]\n",
        "    x_t = x.T\n",
        "\n",
        "  features = [np.ones(len(x))] #a list of np-arrays with all 1.\n",
        "\n",
        "  for i in range(1, degree + 1):\n",
        "      for j in itertools.combinations_with_replacement(x , degree):\n",
        "          features.append(functools.reduce(lambda x , y: x*y , j))\n",
        "            \n",
        "  return np.asarray(features).T\n",
        "\n",
        "def model_error(X, y,degree):\n",
        "    X = polynomial_transform(X,degree)\n",
        "    w = np.linalg.inv(X.transpose()@X)@X.transpose()@y\n",
        "    loss = (1/2)*(X@w - y).transpose()@(X@w-y)\n",
        "    RMSE = np.sqrt((2/len(y))*loss)\n",
        "    return RMSE  \n",
        "\n",
        "def mean_abs(X,y,w):\n",
        "\n",
        "    if X.shape[-1]==w.shape[0]:\n",
        "        return np.mean(np.abs(X@w - y))    \n",
        "\n",
        "def model_error(x, y,degree):\n",
        "  from sklearn.linear_model import LinearRegression\n",
        "  transformed_features = polynomial_transform(x, degree)\n",
        "  polyreg = LinearRegression()\n",
        "  w_nonlin = polyreg.fit(transformed_features, y)\n",
        "  y_pred=w_nonlin.predict(polynomial_transform(x,degree))\n",
        "  training_error=y_pred-y\n",
        "  train_loss = (1/2) * (np.transpose(training_error) @ training_error) \n",
        "  rmse = np.sqrt((2/X.shape[0])*train_loss)\n",
        "  return rmse  "
      ],
      "metadata": {
        "id": "SEYbdyAsjMuH"
      },
      "execution_count": null,
      "outputs": []
    },
    {
      "cell_type": "code",
      "source": [
        "def poly(x , degree):\n",
        "  if x.ndim==1:\n",
        "    x = x[: , None]\n",
        "    x = x.T\n",
        "  features = [np.ones(x.shape[0])]\n",
        "  for i in range(1 , degree+1):\n",
        "    for j in get_combinations(x , degree):\n",
        "      features.append(compute_new_features(j))   "
      ],
      "metadata": {
        "id": "sXApHEIg9nLK"
      },
      "execution_count": null,
      "outputs": []
    },
    {
      "cell_type": "code",
      "source": [
        "polynomial_transform(np.array([2, 3]),2)"
      ],
      "metadata": {
        "colab": {
          "base_uri": "https://localhost:8080/"
        },
        "id": "e3WYTBfyz3x0",
        "outputId": "6b2a6f25-e89f-4629-817f-683bf624d0b6"
      },
      "execution_count": null,
      "outputs": [
        {
          "output_type": "stream",
          "name": "stdout",
          "text": [
            "[array([1.])]\n",
            "(array([2, 3]),)\n",
            "(array([2, 3]), array([2, 3]))\n",
            "[array([1.]), array([2, 3]), array([4, 9])]\n"
          ]
        },
        {
          "output_type": "stream",
          "name": "stderr",
          "text": [
            "/usr/local/lib/python3.7/dist-packages/ipykernel_launcher.py:27: VisibleDeprecationWarning: Creating an ndarray from ragged nested sequences (which is a list-or-tuple of lists-or-tuples-or ndarrays with different lengths or shapes) is deprecated. If you meant to do this, you must specify 'dtype=object' when creating the ndarray.\n"
          ]
        },
        {
          "output_type": "execute_result",
          "data": {
            "text/plain": [
              "array([array([1.]), array([2, 3]), array([4, 9])], dtype=object)"
            ]
          },
          "metadata": {},
          "execution_count": 125
        }
      ]
    },
    {
      "cell_type": "code",
      "source": [
        "features = [np.ones(len(x))]\n",
        "for i in features:\n",
        "  print(i)"
      ],
      "metadata": {
        "colab": {
          "base_uri": "https://localhost:8080/"
        },
        "id": "rI9xvSG3mXIf",
        "outputId": "61604afd-564a-4a7e-af8d-45a7153e0897"
      },
      "execution_count": null,
      "outputs": [
        {
          "output_type": "stream",
          "name": "stdout",
          "text": [
            "[1. 1. 1.]\n"
          ]
        }
      ]
    },
    {
      "cell_type": "code",
      "source": [
        "x= np.array([2,3,4])\n",
        "np.ones(x.shape[0])\n"
      ],
      "metadata": {
        "colab": {
          "base_uri": "https://localhost:8080/"
        },
        "id": "mv6eY8pKwn9e",
        "outputId": "3d71a986-91e8-4c5f-ad69-9670870285c9"
      },
      "execution_count": null,
      "outputs": [
        {
          "output_type": "execute_result",
          "data": {
            "text/plain": [
              "array([1., 1., 1.])"
            ]
          },
          "metadata": {},
          "execution_count": 121
        }
      ]
    },
    {
      "cell_type": "code",
      "source": [
        "[np.ones(len(x))]"
      ],
      "metadata": {
        "colab": {
          "base_uri": "https://localhost:8080/"
        },
        "id": "9J-ZrZ-Bxy2a",
        "outputId": "02580a49-1337-4aef-d29e-ee816e254072"
      },
      "execution_count": null,
      "outputs": [
        {
          "output_type": "execute_result",
          "data": {
            "text/plain": [
              "[array([1., 1., 1.])]"
            ]
          },
          "metadata": {},
          "execution_count": 122
        }
      ]
    },
    {
      "cell_type": "code",
      "source": [
        "x = x[: , None]"
      ],
      "metadata": {
        "id": "h4t9wASSmiL7"
      },
      "execution_count": null,
      "outputs": []
    },
    {
      "cell_type": "code",
      "source": [
        "x"
      ],
      "metadata": {
        "colab": {
          "base_uri": "https://localhost:8080/"
        },
        "id": "6yjq4ABmp-IN",
        "outputId": "210c4cdb-150a-4505-a66d-0e3c5ce06499"
      },
      "execution_count": null,
      "outputs": [
        {
          "output_type": "execute_result",
          "data": {
            "text/plain": [
              "array([[2],\n",
              "       [3],\n",
              "       [4]])"
            ]
          },
          "metadata": {},
          "execution_count": 111
        }
      ]
    },
    {
      "cell_type": "code",
      "source": [
        "x.ndim"
      ],
      "metadata": {
        "colab": {
          "base_uri": "https://localhost:8080/"
        },
        "id": "z_s-rcUrp-2k",
        "outputId": "ea0a8a8b-6db2-42e3-b88b-780346fd4d58"
      },
      "execution_count": null,
      "outputs": [
        {
          "output_type": "execute_result",
          "data": {
            "text/plain": [
              "2"
            ]
          },
          "metadata": {},
          "execution_count": 112
        }
      ]
    },
    {
      "cell_type": "code",
      "source": [
        "x.T"
      ],
      "metadata": {
        "colab": {
          "base_uri": "https://localhost:8080/"
        },
        "id": "kdwa1bkSqFQy",
        "outputId": "3d57b6b9-8e03-46a9-f772-9e1dde5dc605"
      },
      "execution_count": null,
      "outputs": [
        {
          "output_type": "execute_result",
          "data": {
            "text/plain": [
              "array([[2, 3, 4]])"
            ]
          },
          "metadata": {},
          "execution_count": 113
        }
      ]
    },
    {
      "cell_type": "code",
      "source": [
        "x.shape"
      ],
      "metadata": {
        "colab": {
          "base_uri": "https://localhost:8080/"
        },
        "id": "7kgVlcr4qRlY",
        "outputId": "d8ab875f-ff15-4451-849f-321222dbe1f3"
      },
      "execution_count": null,
      "outputs": [
        {
          "output_type": "execute_result",
          "data": {
            "text/plain": [
              "(3, 1)"
            ]
          },
          "metadata": {},
          "execution_count": 115
        }
      ]
    },
    {
      "cell_type": "code",
      "source": [
        "features = np.column_stack((np.ones(x.shape[0]) , x))"
      ],
      "metadata": {
        "id": "PmjcKk9aqUJY"
      },
      "execution_count": null,
      "outputs": []
    },
    {
      "cell_type": "code",
      "source": [
        "features"
      ],
      "metadata": {
        "colab": {
          "base_uri": "https://localhost:8080/"
        },
        "id": "Dq3Mv1-Xw0yl",
        "outputId": "849ad3de-75b1-443b-a94e-853ff24a22ba"
      },
      "execution_count": null,
      "outputs": [
        {
          "output_type": "execute_result",
          "data": {
            "text/plain": [
              "array([[1., 2.],\n",
              "       [1., 3.],\n",
              "       [1., 4.]])"
            ]
          },
          "metadata": {},
          "execution_count": 117
        }
      ]
    },
    {
      "cell_type": "code",
      "source": [
        "y_actual = [1,2,3,4,5]\n",
        "y_pred = [1.6,2.5,2.9,3,4.1]\n",
        " \n",
        "RMSE = np.sqrt(np.square(np.subtract(y_actual,y_pred)).mean()) \n",
        "print(\"Root Mean Square Error:\\n\")\n",
        "print(RMSE)"
      ],
      "metadata": {
        "colab": {
          "base_uri": "https://localhost:8080/"
        },
        "id": "QsPdnJRNIPie",
        "outputId": "59346e7f-e57d-42ab-c451-b1a608184eeb"
      },
      "execution_count": null,
      "outputs": [
        {
          "output_type": "stream",
          "name": "stdout",
          "text": [
            "Root Mean Square Error:\n",
            "\n",
            "0.6971370023173351\n"
          ]
        }
      ]
    },
    {
      "cell_type": "code",
      "source": [],
      "metadata": {
        "id": "izNYivc1KXqg"
      },
      "execution_count": null,
      "outputs": []
    },
    {
      "cell_type": "markdown",
      "source": [
        "# MLT WEEK 4"
      ],
      "metadata": {
        "id": "utgmacuWdpt0"
      }
    },
    {
      "cell_type": "code",
      "source": [
        "tp = np.where((y_actual == 1) & (y_pred == 1), 1, 0).sum()\n",
        "tn = np.where((y_actual == 0) & (y_pred == 0), 1, 0).sum()\n",
        "fp = np.where((y_actual == 0) & (y_pred == 1), 1, 0).sum()\n",
        "fn = np.where((y_actual == 1) & (y_pred == 0), 1, 0).sum()\n",
        "label = 1\n",
        "tp = np.sum((y==label) & (yhat ==labe))\n",
        "\n",
        "def precision(tp, fp):\n",
        "    if (tp + fp) == 0:\n",
        "        return None\n",
        "    return tp / (tp + fp)\n",
        "\n",
        "def recall(tp, fn):\n",
        "    if (tp + fn) == 0:\n",
        "        return None\n",
        "    return tp / (tp + fn)\n",
        "\n",
        "def accuracy(tp, tn, fp, fn):\n",
        "    return (tp + tn) / (tp + tn + fp + fn)\n",
        "\n",
        "def f1_score(pr, r):\n",
        "    return 2 * ((pr * r) / (pr + r))"
      ],
      "metadata": {
        "id": "rk150V-Hdr3p"
      },
      "execution_count": null,
      "outputs": []
    },
    {
      "cell_type": "code",
      "source": [
        "def OneHotEncode(y):\n",
        "  y = np.array([y])\n",
        "  x = np.zeros((y.size , np.max(y)+1))\n",
        "  x[np.arange(y.size) , y]= 1\n",
        "  Ans = x\n",
        "  return Ans\n",
        "\n",
        "class LeastSquareClassification(object):\n",
        "  def __init__(self):\n",
        "    self.t0=20\n",
        "    self.t1=1000\n",
        "  \n",
        "  def predict(self,X):\n",
        "    return np.argmax(X @ self.w, axis=-1)\n",
        "\n",
        "  def predict_internal(self,X):\n",
        "    return X @ self.w\n",
        "  \n",
        "  def loss(self,X,y,reg_rate):\n",
        "    y_hat = self.predict_internal(X)\n",
        "    err = y_hat - y\n",
        "    return (1/2) * (err.T @ err) + (reg_rate / 2) * (self.w.T @ self.w)\n",
        "\n",
        "  def fit(self,X, y, reg_rate=0):\n",
        "    self.w = np.linalg.solve(X.T @ X + reg_rate * np.eye(X.shape[-1]), X.T@y)\n",
        "    print(X.shape, y.shape, self.w.shape)\n",
        "    return self.w\n",
        "  \n",
        "  def calculate_gradient(self, X, y, reg_rate):\n",
        "    y_hat = self.predict_internal(X)\n",
        "    return X.T @ (y_hat - y) + reg_rate * self.w\n",
        "  \n",
        "  def weight_updates(self, grad,lr):\n",
        "    return (self.w - lr*grad)\n",
        "\n",
        "# PERCEPTRON\n",
        "\n",
        "def predict(x, w):\n",
        "    z = x@w\n",
        "    return np.where(z>=0 , 1 , -1)\n",
        "\n",
        "def percep_loss(x,w,y):\n",
        "    loss = np.maximum(-1*predict(x,w)*y , np.zeros(x.shape[0]))\n",
        "    return loss \n",
        "\n",
        "# optimization w_new = w + lr * (y-yhat) * transformed_x     \n",
        "\n",
        "def update(x,w,y,epochs):\n",
        "  w_new = np.zeros((epochs+1,w.size))\n",
        "  for i in np.arange(epochs):\n",
        "    \n",
        "    for xi, yi in zip(x, y):              \n",
        "        w = w + 1 * (yi - np.where(xi @ w >=0, 1, -1))*xi\n",
        "    w_new[i+1] = w\n",
        "  return w_new \n",
        "\n",
        "# linearly separable \n",
        "\n",
        "def is_linearly_separable(x,y):\n",
        "  \n",
        "  def loss(x, y, w):\n",
        "\n",
        "    e = np.where(x @ w >=0, 1, -1) - y    \n",
        "    return (e.transpose() @ e) \n",
        "\n",
        "  w = np.zeros(x.shape[1])\n",
        "  state = False\n",
        "  for i in np.arange(5):\n",
        "    for xi, yi in zip(x, y):                 \n",
        "      w = w + 0.5 * (yi - np.where(xi @ w >=0, 1, -1))*xi\n",
        "    \n",
        "    if loss(x,y,w) == 0.0:\n",
        "      state = True\n",
        "    \n",
        "      \n",
        "  return state\n",
        "  \n",
        "\n"
      ],
      "metadata": {
        "id": "LPtAaCnydycu"
      },
      "execution_count": null,
      "outputs": []
    },
    {
      "cell_type": "code",
      "source": [
        "is_linearly_separable(x,y)"
      ],
      "metadata": {
        "colab": {
          "base_uri": "https://localhost:8080/"
        },
        "id": "ruiLUU7_y4C4",
        "outputId": "feeba2bc-c470-4a93-a58f-d82b14b62043"
      },
      "execution_count": null,
      "outputs": [
        {
          "output_type": "execute_result",
          "data": {
            "text/plain": [
              "False"
            ]
          },
          "metadata": {},
          "execution_count": 212
        }
      ]
    },
    {
      "cell_type": "code",
      "source": [
        "def loss(x , y , w):\n",
        "  w = np.zeros(x.shape[1])\n",
        "  for i in np.arange(5):\n",
        "    for xi, yi in zip(x, y):                 \n",
        "      w = w + 0.5 * (yi - np.where(xi @ w >=0, 1, -1))*xi\n",
        "    print(w)  \n"
      ],
      "metadata": {
        "id": "Tt35OCxcxpEB"
      },
      "execution_count": null,
      "outputs": []
    },
    {
      "cell_type": "code",
      "source": [
        "loss(x , y , w)"
      ],
      "metadata": {
        "colab": {
          "base_uri": "https://localhost:8080/"
        },
        "id": "JtRYUgnNyARZ",
        "outputId": "d22daa17-3595-4631-d296-4ae811988e24"
      },
      "execution_count": null,
      "outputs": [
        {
          "output_type": "stream",
          "name": "stdout",
          "text": [
            "[11. 14.]\n",
            "[22. 28.]\n",
            "[33. 42.]\n",
            "[44. 56.]\n",
            "[55. 70.]\n"
          ]
        }
      ]
    },
    {
      "cell_type": "code",
      "source": [
        "def loss(x , y ,w ,reg_rate):\n",
        "  np.sum(np.max(-1 * (x @ w) * y , np.zeros(y.shape[0])))\n",
        "def loss1(x, y, w):\n",
        "  e = np.where(x @ w >=0, 1, -1) - y    \n",
        "  return (e.T @ e)  "
      ],
      "metadata": {
        "id": "yjoQnPX_vcmq"
      },
      "execution_count": null,
      "outputs": []
    },
    {
      "cell_type": "code",
      "source": [
        "loss1(x , y ,w )"
      ],
      "metadata": {
        "colab": {
          "base_uri": "https://localhost:8080/"
        },
        "id": "NjQB7xuovoQ-",
        "outputId": "a5c8c753-1033-4f3f-918f-79b0b6d917a8"
      },
      "execution_count": null,
      "outputs": [
        {
          "output_type": "execute_result",
          "data": {
            "text/plain": [
              "14"
            ]
          },
          "metadata": {},
          "execution_count": 191
        }
      ]
    },
    {
      "cell_type": "code",
      "source": [
        "x = np.array([[1,2,] , [3,4] , [5,6]])\n",
        "w = np.array([1,2])\n",
        "y = np.array([2,3,4])\n"
      ],
      "metadata": {
        "id": "qdnRK2oUsFY1"
      },
      "execution_count": null,
      "outputs": []
    },
    {
      "cell_type": "code",
      "source": [
        " for i in np.arange(5):\n",
        "   print(i)"
      ],
      "metadata": {
        "colab": {
          "base_uri": "https://localhost:8080/"
        },
        "id": "25h-uLG4tqKQ",
        "outputId": "28fa51ad-006a-40b0-cdb6-ca95e0f13922"
      },
      "execution_count": null,
      "outputs": [
        {
          "output_type": "stream",
          "name": "stdout",
          "text": [
            "0\n",
            "1\n",
            "2\n",
            "3\n",
            "4\n"
          ]
        }
      ]
    },
    {
      "cell_type": "code",
      "source": [
        "update(x,w,y,5)"
      ],
      "metadata": {
        "colab": {
          "base_uri": "https://localhost:8080/"
        },
        "id": "5jGynt5BuFiG",
        "outputId": "c5efde04-1810-4933-aae6-45b86722c39c"
      },
      "execution_count": null,
      "outputs": [
        {
          "output_type": "execute_result",
          "data": {
            "text/plain": [
              "array([[  0.,   0.],\n",
              "       [243., 310.],\n",
              "       [265., 338.],\n",
              "       [287., 366.],\n",
              "       [309., 394.],\n",
              "       [331., 422.]])"
            ]
          },
          "metadata": {},
          "execution_count": 183
        }
      ]
    },
    {
      "cell_type": "code",
      "source": [
        "update2(x,w,y,5)"
      ],
      "metadata": {
        "colab": {
          "base_uri": "https://localhost:8080/"
        },
        "id": "Y3bMDtw9oyzz",
        "outputId": "7c859b63-808f-4a09-c00b-084b80d4f289"
      },
      "execution_count": null,
      "outputs": [
        {
          "output_type": "execute_result",
          "data": {
            "text/plain": [
              "array([[  0.,   0.],\n",
              "       [353., 450.],\n",
              "       [375., 478.],\n",
              "       [397., 506.],\n",
              "       [419., 534.],\n",
              "       [441., 562.]])"
            ]
          },
          "metadata": {},
          "execution_count": 184
        }
      ]
    },
    {
      "cell_type": "code",
      "source": [
        "update1(x , w , y , 5)"
      ],
      "metadata": {
        "colab": {
          "base_uri": "https://localhost:8080/"
        },
        "id": "nhfgZCFksR1E",
        "outputId": "d6b18e1c-c443-40db-8093-c004c90eea95"
      },
      "execution_count": null,
      "outputs": [
        {
          "output_type": "execute_result",
          "data": {
            "text/plain": [
              "[array([456, 580]),\n",
              " array([456, 580]),\n",
              " array([456, 580]),\n",
              " array([456, 580]),\n",
              " array([456, 580])]"
            ]
          },
          "metadata": {},
          "execution_count": 177
        }
      ]
    },
    {
      "cell_type": "code",
      "source": [
        "y = [1,2,3,4,5]\n",
        "y = np.array([y])"
      ],
      "metadata": {
        "id": "1f1f6Hkhgr_4"
      },
      "execution_count": null,
      "outputs": []
    },
    {
      "cell_type": "code",
      "source": [
        "x = np.zeros((y.size , np.max(y)+1))\n",
        "y.size"
      ],
      "metadata": {
        "colab": {
          "base_uri": "https://localhost:8080/"
        },
        "id": "wgqfoY_GgxLe",
        "outputId": "76b58806-fd2c-4e72-dcb1-0886b237c8f6"
      },
      "execution_count": null,
      "outputs": [
        {
          "output_type": "execute_result",
          "data": {
            "text/plain": [
              "5"
            ]
          },
          "metadata": {},
          "execution_count": 150
        }
      ]
    },
    {
      "cell_type": "code",
      "source": [
        "np.max(y)+1"
      ],
      "metadata": {
        "colab": {
          "base_uri": "https://localhost:8080/"
        },
        "id": "biJTjT9Kg616",
        "outputId": "e18e7097-b95e-4307-ccd5-c16efcf58363"
      },
      "execution_count": null,
      "outputs": [
        {
          "output_type": "execute_result",
          "data": {
            "text/plain": [
              "6"
            ]
          },
          "metadata": {},
          "execution_count": 142
        }
      ]
    },
    {
      "cell_type": "code",
      "source": [
        "x"
      ],
      "metadata": {
        "colab": {
          "base_uri": "https://localhost:8080/"
        },
        "id": "QqEfy1T8g0Ce",
        "outputId": "005d5fdd-e319-4251-bfab-0efe75e874fb"
      },
      "execution_count": null,
      "outputs": [
        {
          "output_type": "execute_result",
          "data": {
            "text/plain": [
              "array([[0., 1., 0., 0., 0., 0.],\n",
              "       [0., 0., 1., 0., 0., 0.],\n",
              "       [0., 0., 0., 1., 0., 0.],\n",
              "       [0., 0., 0., 0., 1., 0.],\n",
              "       [0., 0., 0., 0., 0., 1.]])"
            ]
          },
          "metadata": {},
          "execution_count": 148
        }
      ]
    },
    {
      "cell_type": "code",
      "source": [
        "x[np.arange(y.size) , y]= 1"
      ],
      "metadata": {
        "id": "9p3jrFw4g0of"
      },
      "execution_count": null,
      "outputs": []
    },
    {
      "cell_type": "code",
      "source": [
        "x"
      ],
      "metadata": {
        "colab": {
          "base_uri": "https://localhost:8080/"
        },
        "id": "St7WnJ0FhFMO",
        "outputId": "27ebb664-86e5-45cf-b832-03e387073cf0"
      },
      "execution_count": null,
      "outputs": [
        {
          "output_type": "execute_result",
          "data": {
            "text/plain": [
              "array([[0., 0., 0., 0., 0., 0.],\n",
              "       [0., 0., 0., 0., 0., 0.],\n",
              "       [0., 0., 0., 0., 0., 0.],\n",
              "       [0., 0., 0., 0., 0., 0.],\n",
              "       [0., 0., 0., 0., 0., 0.]])"
            ]
          },
          "metadata": {},
          "execution_count": 155
        }
      ]
    },
    {
      "cell_type": "code",
      "source": [
        "np.arange(y.size)"
      ],
      "metadata": {
        "colab": {
          "base_uri": "https://localhost:8080/"
        },
        "id": "PLdUR7rmhG2-",
        "outputId": "393d1955-1acd-448a-8359-e49b425224f3"
      },
      "execution_count": null,
      "outputs": [
        {
          "output_type": "execute_result",
          "data": {
            "text/plain": [
              "array([0, 1, 2, 3, 4])"
            ]
          },
          "metadata": {},
          "execution_count": 145
        }
      ]
    },
    {
      "cell_type": "code",
      "source": [
        "x[np.arange(y.size) , y]"
      ],
      "metadata": {
        "colab": {
          "base_uri": "https://localhost:8080/"
        },
        "id": "0oGkOJ8kiFep",
        "outputId": "86a43e71-39e1-40aa-ae6e-739b4b658e2d"
      },
      "execution_count": null,
      "outputs": [
        {
          "output_type": "execute_result",
          "data": {
            "text/plain": [
              "array([[0., 0., 0., 0., 0.]])"
            ]
          },
          "metadata": {},
          "execution_count": 151
        }
      ]
    },
    {
      "cell_type": "code",
      "source": [
        "x[np.array([0, 1, 2, 3, 4]) ,np.array([1,2,3,4,5])] = 1"
      ],
      "metadata": {
        "id": "RXdGVZokiWry"
      },
      "execution_count": null,
      "outputs": []
    },
    {
      "cell_type": "code",
      "source": [
        "x"
      ],
      "metadata": {
        "colab": {
          "base_uri": "https://localhost:8080/"
        },
        "id": "jzGi04-li0w8",
        "outputId": "f658ed2c-d56e-4b07-d1f0-ab5e9dad9d85"
      },
      "execution_count": null,
      "outputs": [
        {
          "output_type": "execute_result",
          "data": {
            "text/plain": [
              "array([[0., 1., 0., 0., 0., 0.],\n",
              "       [0., 0., 1., 0., 0., 0.],\n",
              "       [0., 0., 0., 1., 0., 0.],\n",
              "       [0., 0., 0., 0., 1., 0.],\n",
              "       [0., 0., 0., 0., 0., 1.]])"
            ]
          },
          "metadata": {},
          "execution_count": 158
        }
      ]
    },
    {
      "cell_type": "code",
      "source": [],
      "metadata": {
        "id": "sM1qDzl0jIqi"
      },
      "execution_count": null,
      "outputs": []
    }
  ]
}