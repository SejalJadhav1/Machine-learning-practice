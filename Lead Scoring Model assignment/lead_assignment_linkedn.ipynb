{
 "cells": [
  {
   "cell_type": "markdown",
   "metadata": {},
   "source": [
    "# LEAD SCORE PREDICTION"
   ]
  },
  {
   "cell_type": "markdown",
   "metadata": {},
   "source": [
    "THE FOLLOWING PROJECT CONSISTS OF THE LEAD CONVERSION DATA OF A COMPANY\n"
   ]
  },
  {
   "cell_type": "code",
   "execution_count": 81,
   "metadata": {},
   "outputs": [],
   "source": [
    "import pandas as pd\n",
    "import numpy as np\n",
    "import seaborn as sns\n",
    "import matplotlib.pyplot as plt\n",
    "import datetime\n",
    "from imblearn.over_sampling import SMOTE\n",
    "from imblearn.under_sampling import NearMiss\n",
    "\n",
    "from collections import Counter\n",
    "from sklearn.model_selection import GridSearchCV\n",
    "from sklearn.metrics import confusion_matrix, ConfusionMatrixDisplay\n",
    "\n",
    "from sklearn.metrics import classification_report\n",
    "from pandas.plotting import scatter_matrix\n",
    "from sklearn.preprocessing import LabelEncoder , StandardScaler\n",
    "from sklearn.decomposition import PCA\n",
    "\n",
    "from sklearn.model_selection import train_test_split , cross_val_score , cross_validate , cross_val_predict\n",
    "from sklearn.ensemble import ExtraTreesClassifier, GradientBoostingClassifier , RandomForestClassifier\n",
    "from sklearn.neighbors import KNeighborsClassifier\n",
    "from sklearn.model_selection import learning_curve\n",
    "from sklearn.feature_selection import chi2, SelectKBest, f_classif\n",
    "from sklearn import metrics\n",
    "\n",
    "from sklearn.linear_model import LogisticRegression , Perceptron\n",
    "from sklearn.metrics import confusion_matrix , roc_auc_score , precision_recall_curve , roc_curve\n",
    "from sklearn.metrics import accuracy_score\n",
    "from lightgbm import LGBMClassifier\n",
    "from xgboost import XGBClassifier\n",
    "\n",
    "import warnings\n",
    "warnings.filterwarnings(\"ignore\")"
   ]
  },
  {
   "cell_type": "markdown",
   "metadata": {},
   "source": [
    "# DATA"
   ]
  },
  {
   "cell_type": "code",
   "execution_count": 3,
   "metadata": {},
   "outputs": [],
   "source": [
    "data = pd.read_excel(\"lead_data.xlsx\")"
   ]
  },
  {
   "cell_type": "code",
   "execution_count": 4,
   "metadata": {},
   "outputs": [
    {
     "data": {
      "text/html": [
       "<div>\n",
       "<style scoped>\n",
       "    .dataframe tbody tr th:only-of-type {\n",
       "        vertical-align: middle;\n",
       "    }\n",
       "\n",
       "    .dataframe tbody tr th {\n",
       "        vertical-align: top;\n",
       "    }\n",
       "\n",
       "    .dataframe thead th {\n",
       "        text-align: right;\n",
       "    }\n",
       "</style>\n",
       "<table border=\"1\" class=\"dataframe\">\n",
       "  <thead>\n",
       "    <tr style=\"text-align: right;\">\n",
       "      <th></th>\n",
       "      <th>Unnamed: 0</th>\n",
       "      <th>Agent_id</th>\n",
       "      <th>status</th>\n",
       "      <th>lost_reason</th>\n",
       "      <th>budget</th>\n",
       "      <th>lease</th>\n",
       "      <th>movein</th>\n",
       "      <th>source</th>\n",
       "      <th>source_city</th>\n",
       "      <th>source_country</th>\n",
       "      <th>utm_source</th>\n",
       "      <th>utm_medium</th>\n",
       "      <th>des_city</th>\n",
       "      <th>des_country</th>\n",
       "      <th>room_type</th>\n",
       "      <th>lead_id</th>\n",
       "    </tr>\n",
       "  </thead>\n",
       "  <tbody>\n",
       "    <tr>\n",
       "      <th>0</th>\n",
       "      <td>0</td>\n",
       "      <td>1deba9e96f404694373de9749ddd1ca8aa7bb823145a6f...</td>\n",
       "      <td>LOST</td>\n",
       "      <td>Not responding</td>\n",
       "      <td>NaN</td>\n",
       "      <td>NaN</td>\n",
       "      <td>NaT</td>\n",
       "      <td>9b2d5b4678781e53038e91ea5324530a03f27dc1d0e5f6...</td>\n",
       "      <td>9b2d5b4678781e53038e91ea5324530a03f27dc1d0e5f6...</td>\n",
       "      <td>9b2d5b4678781e53038e91ea5324530a03f27dc1d0e5f6...</td>\n",
       "      <td>3d59f7548e1af2151b64135003ce63c0a484c26b9b8b16...</td>\n",
       "      <td>268ad70eb5bc4737a2ae28162cbca30118cc94520e49ef...</td>\n",
       "      <td>ecc0e7dc084f141b29479058967d0bc07dee25d9690a98...</td>\n",
       "      <td>8d23a6e37e0a6431a8f1b43a91026dcff51170a89a6512...</td>\n",
       "      <td>NaN</td>\n",
       "      <td>cd5dc0d9393f3980d11d4ba6f88f8110c2b7a7f7796307...</td>\n",
       "    </tr>\n",
       "    <tr>\n",
       "      <th>1</th>\n",
       "      <td>1</td>\n",
       "      <td>299ae77a4ef350ae0dd37d6bba1c002d03444fb1edb236...</td>\n",
       "      <td>LOST</td>\n",
       "      <td>Low budget</td>\n",
       "      <td>NaN</td>\n",
       "      <td>NaN</td>\n",
       "      <td>NaT</td>\n",
       "      <td>9b2d5b4678781e53038e91ea5324530a03f27dc1d0e5f6...</td>\n",
       "      <td>9b2d5b4678781e53038e91ea5324530a03f27dc1d0e5f6...</td>\n",
       "      <td>9b2d5b4678781e53038e91ea5324530a03f27dc1d0e5f6...</td>\n",
       "      <td>3d59f7548e1af2151b64135003ce63c0a484c26b9b8b16...</td>\n",
       "      <td>268ad70eb5bc4737a2ae28162cbca30118cc94520e49ef...</td>\n",
       "      <td>5372372f3bf5896820cb2819300c3e681820d82c6efc54...</td>\n",
       "      <td>8d23a6e37e0a6431a8f1b43a91026dcff51170a89a6512...</td>\n",
       "      <td>NaN</td>\n",
       "      <td>b94693673a5f7178d1b114e4004ad52377d3244dd24a3d...</td>\n",
       "    </tr>\n",
       "    <tr>\n",
       "      <th>2</th>\n",
       "      <td>2</td>\n",
       "      <td>c213697430c006013012dd2aca82dd9732aa0a1a6bca13...</td>\n",
       "      <td>LOST</td>\n",
       "      <td>Not responding</td>\n",
       "      <td>£121 - £180 Per Week</td>\n",
       "      <td>Full Year Course Stay 40 - 44 weeks</td>\n",
       "      <td>2022-08-31</td>\n",
       "      <td>7aae3e886e89fc1187a5c47d6cea1c22998ee610ade1f2...</td>\n",
       "      <td>9b8cc3c63cdf447e463c11544924bf027945cbd29675f7...</td>\n",
       "      <td>e09e10e67812e9d236ad900e5d46b4308fc62f5d69446a...</td>\n",
       "      <td>bbdefa2950f49882f295b1285d4fa9dec45fc4144bfb07...</td>\n",
       "      <td>09076eb7665d1fb9389c7c4517fee0b00e43092eb34821...</td>\n",
       "      <td>11ab03a1a8c367191355c152f39fe28cae5e426fce49ef...</td>\n",
       "      <td>8d23a6e37e0a6431a8f1b43a91026dcff51170a89a6512...</td>\n",
       "      <td>Ensuite</td>\n",
       "      <td>96ea4e2bf04496c044745938c0299c264c3f4ba079e572...</td>\n",
       "    </tr>\n",
       "    <tr>\n",
       "      <th>3</th>\n",
       "      <td>3</td>\n",
       "      <td>eac9815a500f908736d303e23aa227f0957177b0e6756b...</td>\n",
       "      <td>LOST</td>\n",
       "      <td>Low budget</td>\n",
       "      <td>0-0</td>\n",
       "      <td>0</td>\n",
       "      <td>NaT</td>\n",
       "      <td>ba2d0a29556ac20f86f45e4543c0825428cba33fd7a9ea...</td>\n",
       "      <td>a5f0d2d08eb0592087e3a3a2f9c1ba2c67cc30f2efd2bd...</td>\n",
       "      <td>e09e10e67812e9d236ad900e5d46b4308fc62f5d69446a...</td>\n",
       "      <td>bbdefa2950f49882f295b1285d4fa9dec45fc4144bfb07...</td>\n",
       "      <td>09076eb7665d1fb9389c7c4517fee0b00e43092eb34821...</td>\n",
       "      <td>19372fa44c57a01c37a5a8418779ca3d99b0b59731fb35...</td>\n",
       "      <td>8d23a6e37e0a6431a8f1b43a91026dcff51170a89a6512...</td>\n",
       "      <td>NaN</td>\n",
       "      <td>1d2b34d8add02a182a4129023766ca4585a8ddced0e5b3...</td>\n",
       "    </tr>\n",
       "    <tr>\n",
       "      <th>4</th>\n",
       "      <td>4</td>\n",
       "      <td>1deba9e96f404694373de9749ddd1ca8aa7bb823145a6f...</td>\n",
       "      <td>LOST</td>\n",
       "      <td>Junk lead</td>\n",
       "      <td>NaN</td>\n",
       "      <td>NaN</td>\n",
       "      <td>NaT</td>\n",
       "      <td>9b2d5b4678781e53038e91ea5324530a03f27dc1d0e5f6...</td>\n",
       "      <td>9b2d5b4678781e53038e91ea5324530a03f27dc1d0e5f6...</td>\n",
       "      <td>9b2d5b4678781e53038e91ea5324530a03f27dc1d0e5f6...</td>\n",
       "      <td>3d59f7548e1af2151b64135003ce63c0a484c26b9b8b16...</td>\n",
       "      <td>268ad70eb5bc4737a2ae28162cbca30118cc94520e49ef...</td>\n",
       "      <td>9b2d5b4678781e53038e91ea5324530a03f27dc1d0e5f6...</td>\n",
       "      <td>9b2d5b4678781e53038e91ea5324530a03f27dc1d0e5f6...</td>\n",
       "      <td>NaN</td>\n",
       "      <td>fc10fffd29cfbe93c55158fb47752a7501c211d253468c...</td>\n",
       "    </tr>\n",
       "  </tbody>\n",
       "</table>\n",
       "</div>"
      ],
      "text/plain": [
       "   Unnamed: 0                                           Agent_id status  \\\n",
       "0           0  1deba9e96f404694373de9749ddd1ca8aa7bb823145a6f...   LOST   \n",
       "1           1  299ae77a4ef350ae0dd37d6bba1c002d03444fb1edb236...   LOST   \n",
       "2           2  c213697430c006013012dd2aca82dd9732aa0a1a6bca13...   LOST   \n",
       "3           3  eac9815a500f908736d303e23aa227f0957177b0e6756b...   LOST   \n",
       "4           4  1deba9e96f404694373de9749ddd1ca8aa7bb823145a6f...   LOST   \n",
       "\n",
       "      lost_reason                budget                                lease  \\\n",
       "0  Not responding                   NaN                                  NaN   \n",
       "1      Low budget                   NaN                                  NaN   \n",
       "2  Not responding  £121 - £180 Per Week  Full Year Course Stay 40 - 44 weeks   \n",
       "3      Low budget                   0-0                                    0   \n",
       "4       Junk lead                   NaN                                  NaN   \n",
       "\n",
       "      movein                                             source  \\\n",
       "0        NaT  9b2d5b4678781e53038e91ea5324530a03f27dc1d0e5f6...   \n",
       "1        NaT  9b2d5b4678781e53038e91ea5324530a03f27dc1d0e5f6...   \n",
       "2 2022-08-31  7aae3e886e89fc1187a5c47d6cea1c22998ee610ade1f2...   \n",
       "3        NaT  ba2d0a29556ac20f86f45e4543c0825428cba33fd7a9ea...   \n",
       "4        NaT  9b2d5b4678781e53038e91ea5324530a03f27dc1d0e5f6...   \n",
       "\n",
       "                                         source_city  \\\n",
       "0  9b2d5b4678781e53038e91ea5324530a03f27dc1d0e5f6...   \n",
       "1  9b2d5b4678781e53038e91ea5324530a03f27dc1d0e5f6...   \n",
       "2  9b8cc3c63cdf447e463c11544924bf027945cbd29675f7...   \n",
       "3  a5f0d2d08eb0592087e3a3a2f9c1ba2c67cc30f2efd2bd...   \n",
       "4  9b2d5b4678781e53038e91ea5324530a03f27dc1d0e5f6...   \n",
       "\n",
       "                                      source_country  \\\n",
       "0  9b2d5b4678781e53038e91ea5324530a03f27dc1d0e5f6...   \n",
       "1  9b2d5b4678781e53038e91ea5324530a03f27dc1d0e5f6...   \n",
       "2  e09e10e67812e9d236ad900e5d46b4308fc62f5d69446a...   \n",
       "3  e09e10e67812e9d236ad900e5d46b4308fc62f5d69446a...   \n",
       "4  9b2d5b4678781e53038e91ea5324530a03f27dc1d0e5f6...   \n",
       "\n",
       "                                          utm_source  \\\n",
       "0  3d59f7548e1af2151b64135003ce63c0a484c26b9b8b16...   \n",
       "1  3d59f7548e1af2151b64135003ce63c0a484c26b9b8b16...   \n",
       "2  bbdefa2950f49882f295b1285d4fa9dec45fc4144bfb07...   \n",
       "3  bbdefa2950f49882f295b1285d4fa9dec45fc4144bfb07...   \n",
       "4  3d59f7548e1af2151b64135003ce63c0a484c26b9b8b16...   \n",
       "\n",
       "                                          utm_medium  \\\n",
       "0  268ad70eb5bc4737a2ae28162cbca30118cc94520e49ef...   \n",
       "1  268ad70eb5bc4737a2ae28162cbca30118cc94520e49ef...   \n",
       "2  09076eb7665d1fb9389c7c4517fee0b00e43092eb34821...   \n",
       "3  09076eb7665d1fb9389c7c4517fee0b00e43092eb34821...   \n",
       "4  268ad70eb5bc4737a2ae28162cbca30118cc94520e49ef...   \n",
       "\n",
       "                                            des_city  \\\n",
       "0  ecc0e7dc084f141b29479058967d0bc07dee25d9690a98...   \n",
       "1  5372372f3bf5896820cb2819300c3e681820d82c6efc54...   \n",
       "2  11ab03a1a8c367191355c152f39fe28cae5e426fce49ef...   \n",
       "3  19372fa44c57a01c37a5a8418779ca3d99b0b59731fb35...   \n",
       "4  9b2d5b4678781e53038e91ea5324530a03f27dc1d0e5f6...   \n",
       "\n",
       "                                         des_country room_type  \\\n",
       "0  8d23a6e37e0a6431a8f1b43a91026dcff51170a89a6512...       NaN   \n",
       "1  8d23a6e37e0a6431a8f1b43a91026dcff51170a89a6512...       NaN   \n",
       "2  8d23a6e37e0a6431a8f1b43a91026dcff51170a89a6512...   Ensuite   \n",
       "3  8d23a6e37e0a6431a8f1b43a91026dcff51170a89a6512...       NaN   \n",
       "4  9b2d5b4678781e53038e91ea5324530a03f27dc1d0e5f6...       NaN   \n",
       "\n",
       "                                             lead_id  \n",
       "0  cd5dc0d9393f3980d11d4ba6f88f8110c2b7a7f7796307...  \n",
       "1  b94693673a5f7178d1b114e4004ad52377d3244dd24a3d...  \n",
       "2  96ea4e2bf04496c044745938c0299c264c3f4ba079e572...  \n",
       "3  1d2b34d8add02a182a4129023766ca4585a8ddced0e5b3...  \n",
       "4  fc10fffd29cfbe93c55158fb47752a7501c211d253468c...  "
      ]
     },
     "execution_count": 4,
     "metadata": {},
     "output_type": "execute_result"
    }
   ],
   "source": [
    "data.head()"
   ]
  },
  {
   "cell_type": "code",
   "execution_count": 5,
   "metadata": {},
   "outputs": [
    {
     "data": {
      "text/plain": [
       "Index(['Unnamed: 0', 'Agent_id', 'status', 'lost_reason', 'budget', 'lease',\n",
       "       'movein', 'source', 'source_city', 'source_country', 'utm_source',\n",
       "       'utm_medium', 'des_city', 'des_country', 'room_type', 'lead_id'],\n",
       "      dtype='object')"
      ]
     },
     "execution_count": 5,
     "metadata": {},
     "output_type": "execute_result"
    }
   ],
   "source": [
    "data.columns"
   ]
  },
  {
   "cell_type": "code",
   "execution_count": 6,
   "metadata": {},
   "outputs": [
    {
     "name": "stdout",
     "output_type": "stream",
     "text": [
      "<class 'pandas.core.frame.DataFrame'>\n",
      "RangeIndex: 46608 entries, 0 to 46607\n",
      "Data columns (total 16 columns):\n",
      " #   Column          Non-Null Count  Dtype         \n",
      "---  ------          --------------  -----         \n",
      " 0   Unnamed: 0      46608 non-null  int64         \n",
      " 1   Agent_id        46608 non-null  object        \n",
      " 2   status          46608 non-null  object        \n",
      " 3   lost_reason     43244 non-null  object        \n",
      " 4   budget          42908 non-null  object        \n",
      " 5   lease           44267 non-null  object        \n",
      " 6   movein          32970 non-null  datetime64[ns]\n",
      " 7   source          46608 non-null  object        \n",
      " 8   source_city     46608 non-null  object        \n",
      " 9   source_country  46608 non-null  object        \n",
      " 10  utm_source      46608 non-null  object        \n",
      " 11  utm_medium      46608 non-null  object        \n",
      " 12  des_city        46608 non-null  object        \n",
      " 13  des_country     46608 non-null  object        \n",
      " 14  room_type       23061 non-null  object        \n",
      " 15  lead_id         46608 non-null  object        \n",
      "dtypes: datetime64[ns](1), int64(1), object(14)\n",
      "memory usage: 5.7+ MB\n"
     ]
    }
   ],
   "source": [
    "data.info()"
   ]
  },
  {
   "cell_type": "code",
   "execution_count": 7,
   "metadata": {},
   "outputs": [
    {
     "data": {
      "text/plain": [
       "(46608, 16)"
      ]
     },
     "execution_count": 7,
     "metadata": {},
     "output_type": "execute_result"
    }
   ],
   "source": [
    "data.shape\n"
   ]
  },
  {
   "cell_type": "markdown",
   "metadata": {},
   "source": [
    " # DATA CLEANING"
   ]
  },
  {
   "cell_type": "markdown",
   "metadata": {},
   "source": [
    "Trying to extract relevant information regarding lead conversion."
   ]
  },
  {
   "cell_type": "code",
   "execution_count": 8,
   "metadata": {},
   "outputs": [
    {
     "data": {
      "text/plain": [
       "(46317, 16)"
      ]
     },
     "execution_count": 8,
     "metadata": {},
     "output_type": "execute_result"
    }
   ],
   "source": [
    "new_data = data[(data.status== \"LOST\") | (data.status== \"WON\")] ; new_data.shape"
   ]
  },
  {
   "cell_type": "code",
   "execution_count": 9,
   "metadata": {},
   "outputs": [
    {
     "data": {
      "text/plain": [
       "array(['LOST', 'WON'], dtype=object)"
      ]
     },
     "execution_count": 9,
     "metadata": {},
     "output_type": "execute_result"
    }
   ],
   "source": [
    "new_data.status.unique()"
   ]
  },
  {
   "cell_type": "markdown",
   "metadata": {},
   "source": [
    "For lead conversion predicition I only checked for the statuses of those leads which were WON and the ones which were LOST. "
   ]
  },
  {
   "cell_type": "code",
   "execution_count": 10,
   "metadata": {},
   "outputs": [
    {
     "data": {
      "text/plain": [
       "Unnamed: 0            0\n",
       "Agent_id              0\n",
       "status                0\n",
       "lost_reason        3073\n",
       "budget             3694\n",
       "lease              2336\n",
       "movein            13610\n",
       "source                0\n",
       "source_city           0\n",
       "source_country        0\n",
       "utm_source            0\n",
       "utm_medium            0\n",
       "des_city              0\n",
       "des_country           0\n",
       "room_type         23491\n",
       "lead_id               0\n",
       "dtype: int64"
      ]
     },
     "execution_count": 10,
     "metadata": {},
     "output_type": "execute_result"
    }
   ],
   "source": [
    "new_data.isna().sum()"
   ]
  },
  {
   "cell_type": "code",
   "execution_count": 11,
   "metadata": {},
   "outputs": [],
   "source": [
    "new_data.drop(\"Unnamed: 0\" , axis = 1 , inplace = True)\n",
    "new_data.drop(\"Agent_id\" , axis = 1 , inplace = True)\n",
    "new_data.drop(\"room_type\" , axis = 1 , inplace = True)\n",
    "new_data.drop(\"lead_id\" , axis = 1 , inplace = True)"
   ]
  },
  {
   "cell_type": "code",
   "execution_count": 12,
   "metadata": {},
   "outputs": [
    {
     "data": {
      "text/plain": [
       "status            0\n",
       "lost_reason       0\n",
       "budget            0\n",
       "lease             0\n",
       "movein            0\n",
       "source            0\n",
       "source_city       0\n",
       "source_country    0\n",
       "utm_source        0\n",
       "utm_medium        0\n",
       "des_city          0\n",
       "des_country       0\n",
       "dtype: int64"
      ]
     },
     "execution_count": 12,
     "metadata": {},
     "output_type": "execute_result"
    }
   ],
   "source": [
    "new_data.lost_reason.fillna(new_data.lost_reason.mode()[0] , inplace = True)\n",
    "new_data.budget.fillna(new_data.budget.mode()[0] , inplace = True)\n",
    "new_data.lease.fillna(new_data.lease.mode()[0] , inplace = True)\n",
    "new_data.movein.fillna(datetime.datetime(2022, 9, 10) , inplace = True)\n",
    "\n",
    "new_data.isna().sum()"
   ]
  },
  {
   "cell_type": "markdown",
   "metadata": {},
   "source": [
    "Since all the columns are categorical columns all the NA values have been replaced with the mode of the column.\n",
    "The columns which had way more NA values are futile, so dropped them. "
   ]
  },
  {
   "cell_type": "code",
   "execution_count": 13,
   "metadata": {},
   "outputs": [],
   "source": [
    "for i in new_data.source:\n",
    "    if i == '9b2d5b4678781e53038e91ea5324530a03f27dc1d0e5f6c9bc9d493a23be9de0':\n",
    "        i = new_data.source.replace(i , new_data.source.mode()[0] , inplace = True)\n",
    "for i in new_data.source_country:\n",
    "    if i == '9b2d5b4678781e53038e91ea5324530a03f27dc1d0e5f6c9bc9d493a23be9de0':\n",
    "        i = new_data.source_country.replace(i , new_data.source_country.mode()[0] , inplace = True)\n",
    "for i in new_data.utm_source:\n",
    "    if i == '9b2d5b4678781e53038e91ea5324530a03f27dc1d0e5f6c9bc9d493a23be9de0':\n",
    "        i = new_data.utm_source.replace(i , new_data.utm_source.mode()[0] , inplace = True)\n",
    "for i in new_data.utm_medium:\n",
    "    if i == '9b2d5b4678781e53038e91ea5324530a03f27dc1d0e5f6c9bc9d493a23be9de0':\n",
    "        i = new_data.utm_medium.replace(i , new_data.utm_medium.mode()[0] , inplace = True)\n",
    "for i in new_data.des_city:\n",
    "    if i == '9b2d5b4678781e53038e91ea5324530a03f27dc1d0e5f6c9bc9d493a23be9de0':\n",
    "        i = new_data.des_city.replace(i , new_data.des_city.mode()[0] , inplace = True)\n",
    "for i in new_data.des_country:\n",
    "    if i == '9b2d5b4678781e53038e91ea5324530a03f27dc1d0e5f6c9bc9d493a23be9de0':\n",
    "        i = new_data.des_country.replace(i , new_data.des_country.mode()[0] , inplace = True) \n",
    "\n",
    "        \n",
    "idx = []\n",
    "for i in new_data[new_data.source_city == \"9b2d5b4678781e53038e91ea5324530a03f27dc1d0e5f6c9bc9d493a23be9de0\"].index:\n",
    "    idx.append(i)\n",
    "new_data.drop(idx , axis =0 , inplace = True)    "
   ]
  },
  {
   "cell_type": "markdown",
   "metadata": {},
   "source": [
    "# DATA PREPROCSSING"
   ]
  },
  {
   "cell_type": "code",
   "execution_count": 14,
   "metadata": {},
   "outputs": [],
   "source": [
    "new_data.lease = new_data.lease.astype(str)\n",
    "new_data.movein = new_data.movein.astype(str)"
   ]
  },
  {
   "cell_type": "code",
   "execution_count": 15,
   "metadata": {},
   "outputs": [
    {
     "name": "stdout",
     "output_type": "stream",
     "text": [
      "\u001b[1m  status  \u001b[0m\n",
      "Number of total unique value for status feature is 2:\n",
      "\n",
      "\n",
      "\u001b[1m  lost_reason  \u001b[0m\n",
      "Number of total unique value for lost_reason feature is 30:\n",
      "\n",
      "\n",
      "\u001b[1m  budget  \u001b[0m\n",
      "Number of total unique value for budget feature is 996:\n",
      "\n",
      "\n",
      "\u001b[1m  lease  \u001b[0m\n",
      "Number of total unique value for lease feature is 241:\n",
      "\n",
      "\n",
      "\u001b[1m  movein  \u001b[0m\n",
      "Number of total unique value for movein feature is 461:\n",
      "\n",
      "\n",
      "\u001b[1m  source  \u001b[0m\n",
      "Number of total unique value for source feature is 264:\n",
      "\n",
      "\n",
      "\u001b[1m  source_city  \u001b[0m\n",
      "Number of total unique value for source_city feature is 4315:\n",
      "\n",
      "\n",
      "\u001b[1m  source_country  \u001b[0m\n",
      "Number of total unique value for source_country feature is 181:\n",
      "\n",
      "\n",
      "\u001b[1m  utm_source  \u001b[0m\n",
      "Number of total unique value for utm_source feature is 28:\n",
      "\n",
      "\n",
      "\u001b[1m  utm_medium  \u001b[0m\n",
      "Number of total unique value for utm_medium feature is 32:\n",
      "\n",
      "\n",
      "\u001b[1m  des_city  \u001b[0m\n",
      "Number of total unique value for des_city feature is 205:\n",
      "\n",
      "\n",
      "\u001b[1m  des_country  \u001b[0m\n",
      "Number of total unique value for des_country feature is 13:\n",
      "\n",
      "\n"
     ]
    }
   ],
   "source": [
    "column_list = new_data.columns.values.tolist()\n",
    "\n",
    "for col in column_list:\n",
    "    print('\\033[1m  {}  \\033[0m'.format(col))\n",
    "    print(\"Number of total unique value for {} feature is {}:\".format(col , len(new_data[col].unique()) ))\n",
    "    print('\\n') "
   ]
  },
  {
   "cell_type": "code",
   "execution_count": 16,
   "metadata": {},
   "outputs": [
    {
     "data": {
      "text/plain": [
       "Index(['status', 'lost_reason', 'budget', 'lease', 'movein', 'source',\n",
       "       'source_city', 'source_country', 'utm_source', 'utm_medium', 'des_city',\n",
       "       'des_country'],\n",
       "      dtype='object')"
      ]
     },
     "execution_count": 16,
     "metadata": {},
     "output_type": "execute_result"
    }
   ],
   "source": [
    "new_data.columns"
   ]
  },
  {
   "cell_type": "code",
   "execution_count": 17,
   "metadata": {},
   "outputs": [
    {
     "data": {
      "text/plain": [
       "lost_reason\n",
       "Booked on campus accommodation    0.014405\n",
       "Booked with competitor            0.007790\n",
       "Booked with manager               0.015926\n",
       "Cross sell                        0.000027\n",
       "Didn't respond in time            0.000774\n",
       "Distance issue                    0.004668\n",
       "Guarantor issue                   0.000400\n",
       "Inadequate details                0.019154\n",
       "Junk lead                         0.013552\n",
       "Junk lead/ Just Enquiring         0.003575\n",
       "Just Enquiring                    0.027957\n",
       "Lead issue                        0.002908\n",
       "Looking for Scholarship           0.000160\n",
       "Looking for admission             0.000747\n",
       "Looking for loan                  0.000053\n",
       "Low availability                  0.255322\n",
       "Low budget                        0.111375\n",
       "No supply                         0.010484\n",
       "Not a student                     0.026570\n",
       "Not going to university           0.006723\n",
       "Not interested                    0.143840\n",
       "Not responding                    0.179374\n",
       "Not serving in that region        0.007443\n",
       "Repeat lead                       0.007203\n",
       "Semester stay                     0.019047\n",
       "Short stay                        0.051006\n",
       "Supply issue                      0.011684\n",
       "Underage student                  0.000080\n",
       "Visa/admission denied             0.000347\n",
       "Wants private accommodation       0.057408\n",
       "dtype: float64"
      ]
     },
     "execution_count": 17,
     "metadata": {},
     "output_type": "execute_result"
    }
   ],
   "source": [
    "new_data.groupby(\"lost_reason\").size()/len(new_data)"
   ]
  },
  {
   "cell_type": "code",
   "execution_count": 18,
   "metadata": {},
   "outputs": [
    {
     "data": {
      "text/plain": [
       "lost_reason\n",
       "Booked on campus accommodation    0.01\n",
       "Booked with competitor            0.01\n",
       "Booked with manager               0.02\n",
       "Cross sell                        0.00\n",
       "Didn't respond in time            0.00\n",
       "Distance issue                    0.00\n",
       "Guarantor issue                   0.00\n",
       "Inadequate details                0.02\n",
       "Junk lead                         0.01\n",
       "Junk lead/ Just Enquiring         0.00\n",
       "Just Enquiring                    0.03\n",
       "Lead issue                        0.00\n",
       "Looking for Scholarship           0.00\n",
       "Looking for admission             0.00\n",
       "Looking for loan                  0.00\n",
       "Low availability                  0.26\n",
       "Low budget                        0.11\n",
       "No supply                         0.01\n",
       "Not a student                     0.03\n",
       "Not going to university           0.01\n",
       "Not interested                    0.14\n",
       "Not responding                    0.18\n",
       "Not serving in that region        0.01\n",
       "Repeat lead                       0.01\n",
       "Semester stay                     0.02\n",
       "Short stay                        0.05\n",
       "Supply issue                      0.01\n",
       "Underage student                  0.00\n",
       "Visa/admission denied             0.00\n",
       "Wants private accommodation       0.06\n",
       "dtype: float64"
      ]
     },
     "execution_count": 18,
     "metadata": {},
     "output_type": "execute_result"
    }
   ],
   "source": [
    "(new_data.groupby(\"lost_reason\").size()/len(new_data)).round(2)"
   ]
  },
  {
   "cell_type": "code",
   "execution_count": 19,
   "metadata": {},
   "outputs": [
    {
     "data": {
      "text/plain": [
       "array([0.01, 0.02, 0.  , 0.03, 0.26, 0.11, 0.14, 0.18, 0.05, 0.06])"
      ]
     },
     "execution_count": 19,
     "metadata": {},
     "output_type": "execute_result"
    }
   ],
   "source": [
    "((new_data.groupby(\"lost_reason\").size()/len(new_data)).round(2)).unique() "
   ]
  },
  {
   "cell_type": "markdown",
   "metadata": {},
   "source": [
    "Using frequency encoding we reduced the unique values from 30 to 10"
   ]
  },
  {
   "cell_type": "code",
   "execution_count": 20,
   "metadata": {},
   "outputs": [],
   "source": [
    "l = ['lost_reason', 'budget', 'lease', 'movein', \"source\" , \"source_city\" ,\n",
    "     'source_country', 'utm_source', 'utm_medium', 'des_city', 'des_country']\n",
    "for i in l:\n",
    "    fe = new_data.groupby(i).size()\n",
    "    fe_ = fe/len(new_data)\n",
    "    new_data[i + \"_freq\"] = new_data[i].map(fe_).round(2)"
   ]
  },
  {
   "cell_type": "code",
   "execution_count": 21,
   "metadata": {},
   "outputs": [
    {
     "data": {
      "text/plain": [
       "Index(['status', 'lost_reason', 'budget', 'lease', 'movein', 'source',\n",
       "       'source_city', 'source_country', 'utm_source', 'utm_medium', 'des_city',\n",
       "       'des_country', 'lost_reason_freq', 'budget_freq', 'lease_freq',\n",
       "       'movein_freq', 'source_freq', 'source_city_freq', 'source_country_freq',\n",
       "       'utm_source_freq', 'utm_medium_freq', 'des_city_freq',\n",
       "       'des_country_freq'],\n",
       "      dtype='object')"
      ]
     },
     "execution_count": 21,
     "metadata": {},
     "output_type": "execute_result"
    }
   ],
   "source": [
    "new_data.columns"
   ]
  },
  {
   "cell_type": "code",
   "execution_count": 22,
   "metadata": {},
   "outputs": [
    {
     "name": "stdout",
     "output_type": "stream",
     "text": [
      "\u001b[1m  lost_reason_freq  \u001b[0m\n",
      "[0.18 0.11 0.06 0.05 0.02 0.26 0.01 0.14 0.03 0.  ]\n",
      "Number of total unique value for lost_reason_freq feature is 10:\n",
      "\n",
      "\n",
      "\u001b[1m  budget_freq  \u001b[0m\n",
      "[0.24 0.15 0.01 0.06 0.03 0.   0.02 0.26]\n",
      "Number of total unique value for budget_freq feature is 8:\n",
      "\n",
      "\n",
      "\u001b[1m  lease_freq  \u001b[0m\n",
      "[0.29 0.14 0.01 0.06 0.07 0.17 0.03 0.02 0.  ]\n",
      "Number of total unique value for lease_freq feature is 9:\n",
      "\n",
      "\n",
      "\u001b[1m  movein_freq  \u001b[0m\n",
      "[0.06 0.32 0.01 0.03 0.   0.04 0.02]\n",
      "Number of total unique value for movein_freq feature is 7:\n",
      "\n",
      "\n",
      "\u001b[1m  source_freq  \u001b[0m\n",
      "[0.61 0.1  0.06 0.01 0.   0.02]\n",
      "Number of total unique value for source_freq feature is 6:\n",
      "\n",
      "\n",
      "\u001b[1m  source_city_freq  \u001b[0m\n",
      "[0.01 0.   0.04 0.02 0.08]\n",
      "Number of total unique value for source_city_freq feature is 5:\n",
      "\n",
      "\n",
      "\u001b[1m  source_country_freq  \u001b[0m\n",
      "[0.5  0.19 0.01 0.03 0.05 0.  ]\n",
      "Number of total unique value for source_country_freq feature is 6:\n",
      "\n",
      "\n",
      "\u001b[1m  utm_source_freq  \u001b[0m\n",
      "[0.82 0.01 0.05 0.   0.04 0.03 0.02]\n",
      "Number of total unique value for utm_source_freq feature is 7:\n",
      "\n",
      "\n",
      "\u001b[1m  utm_medium_freq  \u001b[0m\n",
      "[0.88 0.04 0.   0.03 0.02 0.01]\n",
      "Number of total unique value for utm_medium_freq feature is 6:\n",
      "\n",
      "\n",
      "\u001b[1m  des_city_freq  \u001b[0m\n",
      "[0.08 0.01 0.   0.17 0.05 0.03 0.04 0.02]\n",
      "Number of total unique value for des_city_freq feature is 8:\n",
      "\n",
      "\n",
      "\u001b[1m  des_country_freq  \u001b[0m\n",
      "[0.97 0.02 0.  ]\n",
      "Number of total unique value for des_country_freq feature is 3:\n",
      "\n",
      "\n"
     ]
    }
   ],
   "source": [
    "frequency_col = ['lost_reason_freq', 'budget_freq', 'lease_freq',\n",
    "       'movein_freq', 'source_freq', 'source_city_freq', 'source_country_freq',\n",
    "       'utm_source_freq', 'utm_medium_freq', 'des_city_freq',\n",
    "       'des_country_freq']\n",
    "\n",
    "for col in frequency_col:\n",
    "    print('\\033[1m  {}  \\033[0m'.format(col))\n",
    "    print(new_data[col].unique())\n",
    "    print(\"Number of total unique value for {} feature is {}:\".format(col , len(new_data[col].unique()) ))\n",
    "    print('\\n') \n"
   ]
  },
  {
   "cell_type": "code",
   "execution_count": 23,
   "metadata": {},
   "outputs": [],
   "source": [
    "new_data.drop(['lost_reason', 'budget', 'lease', 'movein', 'source',\n",
    "       'source_city', 'source_country', 'utm_source', 'utm_medium', 'des_city',\n",
    "       'des_country'] , axis = 1 , inplace = True)"
   ]
  },
  {
   "cell_type": "code",
   "execution_count": 24,
   "metadata": {},
   "outputs": [
    {
     "data": {
      "text/html": [
       "<div>\n",
       "<style scoped>\n",
       "    .dataframe tbody tr th:only-of-type {\n",
       "        vertical-align: middle;\n",
       "    }\n",
       "\n",
       "    .dataframe tbody tr th {\n",
       "        vertical-align: top;\n",
       "    }\n",
       "\n",
       "    .dataframe thead th {\n",
       "        text-align: right;\n",
       "    }\n",
       "</style>\n",
       "<table border=\"1\" class=\"dataframe\">\n",
       "  <thead>\n",
       "    <tr style=\"text-align: right;\">\n",
       "      <th></th>\n",
       "      <th>status</th>\n",
       "      <th>lost_reason_freq</th>\n",
       "      <th>budget_freq</th>\n",
       "      <th>lease_freq</th>\n",
       "      <th>movein_freq</th>\n",
       "      <th>source_freq</th>\n",
       "      <th>source_city_freq</th>\n",
       "      <th>source_country_freq</th>\n",
       "      <th>utm_source_freq</th>\n",
       "      <th>utm_medium_freq</th>\n",
       "      <th>des_city_freq</th>\n",
       "      <th>des_country_freq</th>\n",
       "    </tr>\n",
       "  </thead>\n",
       "  <tbody>\n",
       "    <tr>\n",
       "      <th>2</th>\n",
       "      <td>LOST</td>\n",
       "      <td>0.18</td>\n",
       "      <td>0.24</td>\n",
       "      <td>0.29</td>\n",
       "      <td>0.06</td>\n",
       "      <td>0.61</td>\n",
       "      <td>0.01</td>\n",
       "      <td>0.50</td>\n",
       "      <td>0.82</td>\n",
       "      <td>0.88</td>\n",
       "      <td>0.08</td>\n",
       "      <td>0.97</td>\n",
       "    </tr>\n",
       "    <tr>\n",
       "      <th>3</th>\n",
       "      <td>LOST</td>\n",
       "      <td>0.11</td>\n",
       "      <td>0.15</td>\n",
       "      <td>0.14</td>\n",
       "      <td>0.32</td>\n",
       "      <td>0.10</td>\n",
       "      <td>0.00</td>\n",
       "      <td>0.50</td>\n",
       "      <td>0.82</td>\n",
       "      <td>0.88</td>\n",
       "      <td>0.01</td>\n",
       "      <td>0.97</td>\n",
       "    </tr>\n",
       "    <tr>\n",
       "      <th>5</th>\n",
       "      <td>LOST</td>\n",
       "      <td>0.06</td>\n",
       "      <td>0.01</td>\n",
       "      <td>0.01</td>\n",
       "      <td>0.32</td>\n",
       "      <td>0.10</td>\n",
       "      <td>0.01</td>\n",
       "      <td>0.19</td>\n",
       "      <td>0.82</td>\n",
       "      <td>0.88</td>\n",
       "      <td>0.00</td>\n",
       "      <td>0.97</td>\n",
       "    </tr>\n",
       "    <tr>\n",
       "      <th>6</th>\n",
       "      <td>LOST</td>\n",
       "      <td>0.05</td>\n",
       "      <td>0.15</td>\n",
       "      <td>0.14</td>\n",
       "      <td>0.32</td>\n",
       "      <td>0.06</td>\n",
       "      <td>0.00</td>\n",
       "      <td>0.50</td>\n",
       "      <td>0.01</td>\n",
       "      <td>0.88</td>\n",
       "      <td>0.17</td>\n",
       "      <td>0.97</td>\n",
       "    </tr>\n",
       "    <tr>\n",
       "      <th>7</th>\n",
       "      <td>LOST</td>\n",
       "      <td>0.06</td>\n",
       "      <td>0.06</td>\n",
       "      <td>0.06</td>\n",
       "      <td>0.01</td>\n",
       "      <td>0.61</td>\n",
       "      <td>0.01</td>\n",
       "      <td>0.50</td>\n",
       "      <td>0.82</td>\n",
       "      <td>0.88</td>\n",
       "      <td>0.05</td>\n",
       "      <td>0.97</td>\n",
       "    </tr>\n",
       "  </tbody>\n",
       "</table>\n",
       "</div>"
      ],
      "text/plain": [
       "  status  lost_reason_freq  budget_freq  lease_freq  movein_freq  source_freq  \\\n",
       "2   LOST              0.18         0.24        0.29         0.06         0.61   \n",
       "3   LOST              0.11         0.15        0.14         0.32         0.10   \n",
       "5   LOST              0.06         0.01        0.01         0.32         0.10   \n",
       "6   LOST              0.05         0.15        0.14         0.32         0.06   \n",
       "7   LOST              0.06         0.06        0.06         0.01         0.61   \n",
       "\n",
       "   source_city_freq  source_country_freq  utm_source_freq  utm_medium_freq  \\\n",
       "2              0.01                 0.50             0.82             0.88   \n",
       "3              0.00                 0.50             0.82             0.88   \n",
       "5              0.01                 0.19             0.82             0.88   \n",
       "6              0.00                 0.50             0.01             0.88   \n",
       "7              0.01                 0.50             0.82             0.88   \n",
       "\n",
       "   des_city_freq  des_country_freq  \n",
       "2           0.08              0.97  \n",
       "3           0.01              0.97  \n",
       "5           0.00              0.97  \n",
       "6           0.17              0.97  \n",
       "7           0.05              0.97  "
      ]
     },
     "execution_count": 24,
     "metadata": {},
     "output_type": "execute_result"
    }
   ],
   "source": [
    "new_data.head()"
   ]
  },
  {
   "cell_type": "markdown",
   "metadata": {},
   "source": [
    "# EDA"
   ]
  },
  {
   "cell_type": "code",
   "execution_count": 25,
   "metadata": {},
   "outputs": [],
   "source": [
    "y = new_data[\"status\"]\n",
    "x = new_data.iloc[: , 1:]"
   ]
  },
  {
   "cell_type": "code",
   "execution_count": 26,
   "metadata": {},
   "outputs": [],
   "source": [
    "y[y == \"LOST\"] = 0 \n",
    "y[y == \"WON\"] = 1 "
   ]
  },
  {
   "cell_type": "code",
   "execution_count": 27,
   "metadata": {},
   "outputs": [
    {
     "data": {
      "text/plain": [
       "0    34961\n",
       "1     2525\n",
       "Name: status, dtype: int64"
      ]
     },
     "execution_count": 27,
     "metadata": {},
     "output_type": "execute_result"
    }
   ],
   "source": [
    "y.value_counts()"
   ]
  },
  {
   "cell_type": "code",
   "execution_count": 28,
   "metadata": {},
   "outputs": [
    {
     "data": {
      "text/plain": [
       "((37486, 11), (37486,))"
      ]
     },
     "execution_count": 28,
     "metadata": {},
     "output_type": "execute_result"
    }
   ],
   "source": [
    "x.shape , y.shape"
   ]
  },
  {
   "cell_type": "code",
   "execution_count": 29,
   "metadata": {},
   "outputs": [],
   "source": [
    "def get_feature_correlation(df, top_n=None, corr_method='spearman',\n",
    "                            remove_duplicates=True, remove_self_correlations=True):\n",
    "    \n",
    "    corr_matrix_abs = df.corr(method=corr_method).abs()\n",
    "    corr_matrix_abs_us = corr_matrix_abs.unstack()\n",
    "    sorted_correlated_features = corr_matrix_abs_us \\\n",
    "        .sort_values(kind=\"quicksort\", ascending=False) \\\n",
    "        .reset_index()\n",
    "\n",
    "    if remove_self_correlations:\n",
    "        sorted_correlated_features = sorted_correlated_features[\n",
    "            (sorted_correlated_features.level_0 != sorted_correlated_features.level_1)\n",
    "        ]\n",
    "        \n",
    "    if remove_duplicates:\n",
    "        sorted_correlated_features = sorted_correlated_features.drop_duplicates([0])\n",
    "\n",
    "\n",
    "    sorted_correlated_features.columns = ['Feature 1', 'Feature 2', 'Correlation (abs)'] \n",
    "\n",
    "    if top_n:\n",
    "        return sorted_correlated_features[:top_n]\n",
    "\n",
    "    return sorted_correlated_features"
   ]
  },
  {
   "cell_type": "code",
   "execution_count": 30,
   "metadata": {},
   "outputs": [
    {
     "data": {
      "text/html": [
       "<div>\n",
       "<style scoped>\n",
       "    .dataframe tbody tr th:only-of-type {\n",
       "        vertical-align: middle;\n",
       "    }\n",
       "\n",
       "    .dataframe tbody tr th {\n",
       "        vertical-align: top;\n",
       "    }\n",
       "\n",
       "    .dataframe thead th {\n",
       "        text-align: right;\n",
       "    }\n",
       "</style>\n",
       "<table border=\"1\" class=\"dataframe\">\n",
       "  <thead>\n",
       "    <tr style=\"text-align: right;\">\n",
       "      <th></th>\n",
       "      <th>Feature 1</th>\n",
       "      <th>Feature 2</th>\n",
       "      <th>Correlation (abs)</th>\n",
       "    </tr>\n",
       "  </thead>\n",
       "  <tbody>\n",
       "    <tr>\n",
       "      <th>11</th>\n",
       "      <td>budget_freq</td>\n",
       "      <td>source_freq</td>\n",
       "      <td>0.705446</td>\n",
       "    </tr>\n",
       "    <tr>\n",
       "      <th>13</th>\n",
       "      <td>source_freq</td>\n",
       "      <td>movein_freq</td>\n",
       "      <td>0.564409</td>\n",
       "    </tr>\n",
       "    <tr>\n",
       "      <th>15</th>\n",
       "      <td>source_freq</td>\n",
       "      <td>lease_freq</td>\n",
       "      <td>0.541210</td>\n",
       "    </tr>\n",
       "    <tr>\n",
       "      <th>17</th>\n",
       "      <td>utm_source_freq</td>\n",
       "      <td>utm_medium_freq</td>\n",
       "      <td>0.540456</td>\n",
       "    </tr>\n",
       "    <tr>\n",
       "      <th>19</th>\n",
       "      <td>lease_freq</td>\n",
       "      <td>budget_freq</td>\n",
       "      <td>0.447263</td>\n",
       "    </tr>\n",
       "    <tr>\n",
       "      <th>21</th>\n",
       "      <td>movein_freq</td>\n",
       "      <td>budget_freq</td>\n",
       "      <td>0.388627</td>\n",
       "    </tr>\n",
       "    <tr>\n",
       "      <th>23</th>\n",
       "      <td>utm_medium_freq</td>\n",
       "      <td>des_country_freq</td>\n",
       "      <td>0.360733</td>\n",
       "    </tr>\n",
       "    <tr>\n",
       "      <th>25</th>\n",
       "      <td>source_freq</td>\n",
       "      <td>utm_source_freq</td>\n",
       "      <td>0.330388</td>\n",
       "    </tr>\n",
       "    <tr>\n",
       "      <th>27</th>\n",
       "      <td>utm_medium_freq</td>\n",
       "      <td>source_freq</td>\n",
       "      <td>0.311817</td>\n",
       "    </tr>\n",
       "    <tr>\n",
       "      <th>29</th>\n",
       "      <td>movein_freq</td>\n",
       "      <td>lease_freq</td>\n",
       "      <td>0.277087</td>\n",
       "    </tr>\n",
       "    <tr>\n",
       "      <th>31</th>\n",
       "      <td>des_country_freq</td>\n",
       "      <td>source_freq</td>\n",
       "      <td>0.276049</td>\n",
       "    </tr>\n",
       "    <tr>\n",
       "      <th>33</th>\n",
       "      <td>des_country_freq</td>\n",
       "      <td>des_city_freq</td>\n",
       "      <td>0.268312</td>\n",
       "    </tr>\n",
       "    <tr>\n",
       "      <th>35</th>\n",
       "      <td>utm_source_freq</td>\n",
       "      <td>des_country_freq</td>\n",
       "      <td>0.233715</td>\n",
       "    </tr>\n",
       "    <tr>\n",
       "      <th>37</th>\n",
       "      <td>budget_freq</td>\n",
       "      <td>utm_source_freq</td>\n",
       "      <td>0.221133</td>\n",
       "    </tr>\n",
       "    <tr>\n",
       "      <th>39</th>\n",
       "      <td>budget_freq</td>\n",
       "      <td>utm_medium_freq</td>\n",
       "      <td>0.199270</td>\n",
       "    </tr>\n",
       "    <tr>\n",
       "      <th>41</th>\n",
       "      <td>source_city_freq</td>\n",
       "      <td>source_country_freq</td>\n",
       "      <td>0.195809</td>\n",
       "    </tr>\n",
       "    <tr>\n",
       "      <th>43</th>\n",
       "      <td>source_country_freq</td>\n",
       "      <td>des_country_freq</td>\n",
       "      <td>0.192814</td>\n",
       "    </tr>\n",
       "    <tr>\n",
       "      <th>45</th>\n",
       "      <td>utm_source_freq</td>\n",
       "      <td>lease_freq</td>\n",
       "      <td>0.191169</td>\n",
       "    </tr>\n",
       "    <tr>\n",
       "      <th>47</th>\n",
       "      <td>lost_reason_freq</td>\n",
       "      <td>des_city_freq</td>\n",
       "      <td>0.175917</td>\n",
       "    </tr>\n",
       "    <tr>\n",
       "      <th>49</th>\n",
       "      <td>utm_medium_freq</td>\n",
       "      <td>lease_freq</td>\n",
       "      <td>0.166696</td>\n",
       "    </tr>\n",
       "    <tr>\n",
       "      <th>51</th>\n",
       "      <td>budget_freq</td>\n",
       "      <td>des_country_freq</td>\n",
       "      <td>0.161378</td>\n",
       "    </tr>\n",
       "    <tr>\n",
       "      <th>53</th>\n",
       "      <td>utm_medium_freq</td>\n",
       "      <td>source_country_freq</td>\n",
       "      <td>0.158766</td>\n",
       "    </tr>\n",
       "    <tr>\n",
       "      <th>55</th>\n",
       "      <td>utm_source_freq</td>\n",
       "      <td>movein_freq</td>\n",
       "      <td>0.156130</td>\n",
       "    </tr>\n",
       "    <tr>\n",
       "      <th>57</th>\n",
       "      <td>des_country_freq</td>\n",
       "      <td>lost_reason_freq</td>\n",
       "      <td>0.155074</td>\n",
       "    </tr>\n",
       "    <tr>\n",
       "      <th>59</th>\n",
       "      <td>source_freq</td>\n",
       "      <td>lost_reason_freq</td>\n",
       "      <td>0.151773</td>\n",
       "    </tr>\n",
       "    <tr>\n",
       "      <th>61</th>\n",
       "      <td>source_country_freq</td>\n",
       "      <td>lease_freq</td>\n",
       "      <td>0.150840</td>\n",
       "    </tr>\n",
       "    <tr>\n",
       "      <th>63</th>\n",
       "      <td>source_freq</td>\n",
       "      <td>source_country_freq</td>\n",
       "      <td>0.146004</td>\n",
       "    </tr>\n",
       "    <tr>\n",
       "      <th>65</th>\n",
       "      <td>lost_reason_freq</td>\n",
       "      <td>budget_freq</td>\n",
       "      <td>0.144733</td>\n",
       "    </tr>\n",
       "    <tr>\n",
       "      <th>67</th>\n",
       "      <td>lease_freq</td>\n",
       "      <td>des_country_freq</td>\n",
       "      <td>0.142783</td>\n",
       "    </tr>\n",
       "    <tr>\n",
       "      <th>69</th>\n",
       "      <td>movein_freq</td>\n",
       "      <td>utm_medium_freq</td>\n",
       "      <td>0.131927</td>\n",
       "    </tr>\n",
       "    <tr>\n",
       "      <th>71</th>\n",
       "      <td>utm_medium_freq</td>\n",
       "      <td>lost_reason_freq</td>\n",
       "      <td>0.120393</td>\n",
       "    </tr>\n",
       "    <tr>\n",
       "      <th>73</th>\n",
       "      <td>des_country_freq</td>\n",
       "      <td>movein_freq</td>\n",
       "      <td>0.101938</td>\n",
       "    </tr>\n",
       "    <tr>\n",
       "      <th>75</th>\n",
       "      <td>budget_freq</td>\n",
       "      <td>source_country_freq</td>\n",
       "      <td>0.101250</td>\n",
       "    </tr>\n",
       "    <tr>\n",
       "      <th>77</th>\n",
       "      <td>lost_reason_freq</td>\n",
       "      <td>movein_freq</td>\n",
       "      <td>0.097996</td>\n",
       "    </tr>\n",
       "    <tr>\n",
       "      <th>79</th>\n",
       "      <td>source_country_freq</td>\n",
       "      <td>utm_source_freq</td>\n",
       "      <td>0.094185</td>\n",
       "    </tr>\n",
       "    <tr>\n",
       "      <th>81</th>\n",
       "      <td>source_freq</td>\n",
       "      <td>des_city_freq</td>\n",
       "      <td>0.082622</td>\n",
       "    </tr>\n",
       "    <tr>\n",
       "      <th>83</th>\n",
       "      <td>lost_reason_freq</td>\n",
       "      <td>utm_source_freq</td>\n",
       "      <td>0.078133</td>\n",
       "    </tr>\n",
       "    <tr>\n",
       "      <th>85</th>\n",
       "      <td>des_country_freq</td>\n",
       "      <td>source_city_freq</td>\n",
       "      <td>0.072971</td>\n",
       "    </tr>\n",
       "    <tr>\n",
       "      <th>87</th>\n",
       "      <td>utm_medium_freq</td>\n",
       "      <td>des_city_freq</td>\n",
       "      <td>0.067096</td>\n",
       "    </tr>\n",
       "    <tr>\n",
       "      <th>89</th>\n",
       "      <td>utm_source_freq</td>\n",
       "      <td>des_city_freq</td>\n",
       "      <td>0.065482</td>\n",
       "    </tr>\n",
       "    <tr>\n",
       "      <th>91</th>\n",
       "      <td>lease_freq</td>\n",
       "      <td>des_city_freq</td>\n",
       "      <td>0.062609</td>\n",
       "    </tr>\n",
       "    <tr>\n",
       "      <th>93</th>\n",
       "      <td>movein_freq</td>\n",
       "      <td>source_country_freq</td>\n",
       "      <td>0.060764</td>\n",
       "    </tr>\n",
       "    <tr>\n",
       "      <th>95</th>\n",
       "      <td>budget_freq</td>\n",
       "      <td>source_city_freq</td>\n",
       "      <td>0.029381</td>\n",
       "    </tr>\n",
       "    <tr>\n",
       "      <th>97</th>\n",
       "      <td>source_city_freq</td>\n",
       "      <td>lost_reason_freq</td>\n",
       "      <td>0.026916</td>\n",
       "    </tr>\n",
       "    <tr>\n",
       "      <th>99</th>\n",
       "      <td>des_city_freq</td>\n",
       "      <td>movein_freq</td>\n",
       "      <td>0.025304</td>\n",
       "    </tr>\n",
       "    <tr>\n",
       "      <th>101</th>\n",
       "      <td>source_city_freq</td>\n",
       "      <td>lease_freq</td>\n",
       "      <td>0.024210</td>\n",
       "    </tr>\n",
       "    <tr>\n",
       "      <th>103</th>\n",
       "      <td>source_city_freq</td>\n",
       "      <td>utm_medium_freq</td>\n",
       "      <td>0.022264</td>\n",
       "    </tr>\n",
       "    <tr>\n",
       "      <th>105</th>\n",
       "      <td>des_city_freq</td>\n",
       "      <td>budget_freq</td>\n",
       "      <td>0.016654</td>\n",
       "    </tr>\n",
       "    <tr>\n",
       "      <th>107</th>\n",
       "      <td>source_city_freq</td>\n",
       "      <td>des_city_freq</td>\n",
       "      <td>0.016605</td>\n",
       "    </tr>\n",
       "    <tr>\n",
       "      <th>109</th>\n",
       "      <td>source_country_freq</td>\n",
       "      <td>lost_reason_freq</td>\n",
       "      <td>0.016370</td>\n",
       "    </tr>\n",
       "    <tr>\n",
       "      <th>111</th>\n",
       "      <td>source_freq</td>\n",
       "      <td>source_city_freq</td>\n",
       "      <td>0.016163</td>\n",
       "    </tr>\n",
       "    <tr>\n",
       "      <th>113</th>\n",
       "      <td>utm_source_freq</td>\n",
       "      <td>source_city_freq</td>\n",
       "      <td>0.013951</td>\n",
       "    </tr>\n",
       "    <tr>\n",
       "      <th>115</th>\n",
       "      <td>des_city_freq</td>\n",
       "      <td>source_country_freq</td>\n",
       "      <td>0.012937</td>\n",
       "    </tr>\n",
       "    <tr>\n",
       "      <th>117</th>\n",
       "      <td>movein_freq</td>\n",
       "      <td>source_city_freq</td>\n",
       "      <td>0.005282</td>\n",
       "    </tr>\n",
       "    <tr>\n",
       "      <th>119</th>\n",
       "      <td>lost_reason_freq</td>\n",
       "      <td>lease_freq</td>\n",
       "      <td>0.001296</td>\n",
       "    </tr>\n",
       "  </tbody>\n",
       "</table>\n",
       "</div>"
      ],
      "text/plain": [
       "               Feature 1            Feature 2  Correlation (abs)\n",
       "11           budget_freq          source_freq           0.705446\n",
       "13           source_freq          movein_freq           0.564409\n",
       "15           source_freq           lease_freq           0.541210\n",
       "17       utm_source_freq      utm_medium_freq           0.540456\n",
       "19            lease_freq          budget_freq           0.447263\n",
       "21           movein_freq          budget_freq           0.388627\n",
       "23       utm_medium_freq     des_country_freq           0.360733\n",
       "25           source_freq      utm_source_freq           0.330388\n",
       "27       utm_medium_freq          source_freq           0.311817\n",
       "29           movein_freq           lease_freq           0.277087\n",
       "31      des_country_freq          source_freq           0.276049\n",
       "33      des_country_freq        des_city_freq           0.268312\n",
       "35       utm_source_freq     des_country_freq           0.233715\n",
       "37           budget_freq      utm_source_freq           0.221133\n",
       "39           budget_freq      utm_medium_freq           0.199270\n",
       "41      source_city_freq  source_country_freq           0.195809\n",
       "43   source_country_freq     des_country_freq           0.192814\n",
       "45       utm_source_freq           lease_freq           0.191169\n",
       "47      lost_reason_freq        des_city_freq           0.175917\n",
       "49       utm_medium_freq           lease_freq           0.166696\n",
       "51           budget_freq     des_country_freq           0.161378\n",
       "53       utm_medium_freq  source_country_freq           0.158766\n",
       "55       utm_source_freq          movein_freq           0.156130\n",
       "57      des_country_freq     lost_reason_freq           0.155074\n",
       "59           source_freq     lost_reason_freq           0.151773\n",
       "61   source_country_freq           lease_freq           0.150840\n",
       "63           source_freq  source_country_freq           0.146004\n",
       "65      lost_reason_freq          budget_freq           0.144733\n",
       "67            lease_freq     des_country_freq           0.142783\n",
       "69           movein_freq      utm_medium_freq           0.131927\n",
       "71       utm_medium_freq     lost_reason_freq           0.120393\n",
       "73      des_country_freq          movein_freq           0.101938\n",
       "75           budget_freq  source_country_freq           0.101250\n",
       "77      lost_reason_freq          movein_freq           0.097996\n",
       "79   source_country_freq      utm_source_freq           0.094185\n",
       "81           source_freq        des_city_freq           0.082622\n",
       "83      lost_reason_freq      utm_source_freq           0.078133\n",
       "85      des_country_freq     source_city_freq           0.072971\n",
       "87       utm_medium_freq        des_city_freq           0.067096\n",
       "89       utm_source_freq        des_city_freq           0.065482\n",
       "91            lease_freq        des_city_freq           0.062609\n",
       "93           movein_freq  source_country_freq           0.060764\n",
       "95           budget_freq     source_city_freq           0.029381\n",
       "97      source_city_freq     lost_reason_freq           0.026916\n",
       "99         des_city_freq          movein_freq           0.025304\n",
       "101     source_city_freq           lease_freq           0.024210\n",
       "103     source_city_freq      utm_medium_freq           0.022264\n",
       "105        des_city_freq          budget_freq           0.016654\n",
       "107     source_city_freq        des_city_freq           0.016605\n",
       "109  source_country_freq     lost_reason_freq           0.016370\n",
       "111          source_freq     source_city_freq           0.016163\n",
       "113      utm_source_freq     source_city_freq           0.013951\n",
       "115        des_city_freq  source_country_freq           0.012937\n",
       "117          movein_freq     source_city_freq           0.005282\n",
       "119     lost_reason_freq           lease_freq           0.001296"
      ]
     },
     "execution_count": 30,
     "metadata": {},
     "output_type": "execute_result"
    }
   ],
   "source": [
    "get_feature_correlation(new_data, top_n=None, corr_method='spearman',\n",
    "                            remove_duplicates=True, remove_self_correlations=True)\n",
    "    "
   ]
  },
  {
   "cell_type": "code",
   "execution_count": 31,
   "metadata": {},
   "outputs": [
    {
     "data": {
      "text/plain": [
       "<AxesSubplot:>"
      ]
     },
     "execution_count": 31,
     "metadata": {},
     "output_type": "execute_result"
    },
    {
     "data": {
      "image/png": "[encoded data removed]",
      "text/plain": [
       "<Figure size 432x288 with 2 Axes>"
      ]
     },
     "metadata": {
      "needs_background": "light"
     },
     "output_type": "display_data"
    }
   ],
   "source": [
    "corr_matrix = new_data.corr()\n",
    "\n",
    "sns.heatmap(corr_matrix, annot=True, cmap='coolwarm')\n"
   ]
  },
  {
   "cell_type": "markdown",
   "metadata": {},
   "source": [
    "budget_freq and source_freq are highly correlated after which source_freq and movein_freq are correlated"
   ]
  },
  {
   "cell_type": "markdown",
   "metadata": {},
   "source": [
    "# HANDLING CLASS IMBALANCE"
   ]
  },
  {
   "cell_type": "markdown",
   "metadata": {},
   "source": [
    "OVERSAMPLING"
   ]
  },
  {
   "cell_type": "code",
   "execution_count": 124,
   "metadata": {},
   "outputs": [
    {
     "data": {
      "text/plain": [
       "0    34961\n",
       "1     2525\n",
       "Name: status, dtype: int64"
      ]
     },
     "execution_count": 124,
     "metadata": {},
     "output_type": "execute_result"
    }
   ],
   "source": [
    "y.value_counts()"
   ]
  },
  {
   "cell_type": "code",
   "execution_count": 125,
   "metadata": {},
   "outputs": [],
   "source": [
    "y = y.astype(int)"
   ]
  },
  {
   "cell_type": "code",
   "execution_count": 126,
   "metadata": {},
   "outputs": [],
   "source": [
    "oversample = SMOTE()\n",
    "a, b= oversample.fit_resample(x, y)"
   ]
  },
  {
   "cell_type": "code",
   "execution_count": 127,
   "metadata": {},
   "outputs": [
    {
     "data": {
      "text/plain": [
       "((69922, 11), (69922,))"
      ]
     },
     "execution_count": 127,
     "metadata": {},
     "output_type": "execute_result"
    }
   ],
   "source": [
    "a.shape , b.shape"
   ]
  },
  {
   "cell_type": "code",
   "execution_count": 128,
   "metadata": {},
   "outputs": [
    {
     "name": "stdout",
     "output_type": "stream",
     "text": [
      "Counter({0: 34961, 1: 34961})\n"
     ]
    }
   ],
   "source": [
    "counter = Counter(b)\n",
    "print(counter)"
   ]
  },
  {
   "cell_type": "code",
   "execution_count": 129,
   "metadata": {},
   "outputs": [
    {
     "name": "stdout",
     "output_type": "stream",
     "text": [
      "Counter({0: 34961, 1: 2525})\n"
     ]
    }
   ],
   "source": [
    "counter = Counter(y)\n",
    "print(counter)"
   ]
  },
  {
   "cell_type": "markdown",
   "metadata": {},
   "source": [
    "TRAINGING AND TESTING MODELS FOR OVERSAMPLED DATA"
   ]
  },
  {
   "cell_type": "code",
   "execution_count": 130,
   "metadata": {},
   "outputs": [],
   "source": [
    "x_train  , x_test , y_train , y_test = train_test_split(a , b , test_size = 0.2 , random_state = 0)\n"
   ]
  },
  {
   "cell_type": "code",
   "execution_count": 131,
   "metadata": {},
   "outputs": [],
   "source": [
    "# Extra Trees Classifier \n",
    "extra_clf = ExtraTreesClassifier()\n",
    "extra_scores = cross_val_score(extra_clf, x_train, y_train, cv=5)\n",
    "extra_mean = extra_scores.mean()\n",
    "\n",
    "# Gradient Boosting Classifier\n",
    "grad_clf = GradientBoostingClassifier()\n",
    "grad_scores = cross_val_score(grad_clf, x_train, y_train, cv=5)\n",
    "grad_mean = grad_scores.mean()\n",
    "\n",
    "# Random Forest Classifier\n",
    "rand_clf = RandomForestClassifier()\n",
    "rand_scores = cross_val_score(rand_clf, x_train, y_train, cv=5)\n",
    "rand_mean = rand_scores.mean()\n",
    "\n",
    "# LGBM Classifier\n",
    "lgbm_clf = LGBMClassifier()\n",
    "lgbm_scores = cross_val_score(lgbm_clf, x_train, y_train, cv=5)\n",
    "lgbm_mean = lgbm_scores.mean()\n",
    "\n",
    "# KNeighbors Classifier\n",
    "knn_clf = KNeighborsClassifier()\n",
    "knn_scores = cross_val_score(knn_clf, x_train, y_train, cv=5)\n",
    "knn_mean = knn_scores.mean()\n",
    "\n",
    "#Perceptron\n",
    "per = Perceptron()\n",
    "per_scores = cross_val_score(per, x_train, y_train, cv=5)\n",
    "per_mean = per_scores.mean()\n",
    "\n",
    "\n",
    "d = {'Classifiers': [\"ExtraTreesclf\" , \"GradientBosstingclf\" , \"RandomForest\" ,\"LGBMclf\" , \"KNN\" , \"Perceptron\" ], \n",
    "    'Crossval Mean Scores': [extra_mean , grad_mean , rand_mean , lgbm_mean , knn_mean , per_mean]}\n",
    "\n",
    "result_df = pd.DataFrame(data=d)\n"
   ]
  },
  {
   "cell_type": "code",
   "execution_count": 132,
   "metadata": {},
   "outputs": [
    {
     "data": {
      "text/html": [
       "<div>\n",
       "<style scoped>\n",
       "    .dataframe tbody tr th:only-of-type {\n",
       "        vertical-align: middle;\n",
       "    }\n",
       "\n",
       "    .dataframe tbody tr th {\n",
       "        vertical-align: top;\n",
       "    }\n",
       "\n",
       "    .dataframe thead th {\n",
       "        text-align: right;\n",
       "    }\n",
       "</style>\n",
       "<table border=\"1\" class=\"dataframe\">\n",
       "  <thead>\n",
       "    <tr style=\"text-align: right;\">\n",
       "      <th></th>\n",
       "      <th>Classifiers</th>\n",
       "      <th>Crossval Mean Scores</th>\n",
       "    </tr>\n",
       "  </thead>\n",
       "  <tbody>\n",
       "    <tr>\n",
       "      <th>0</th>\n",
       "      <td>ExtraTreesclf</td>\n",
       "      <td>0.97</td>\n",
       "    </tr>\n",
       "    <tr>\n",
       "      <th>1</th>\n",
       "      <td>GradientBosstingclf</td>\n",
       "      <td>0.95</td>\n",
       "    </tr>\n",
       "    <tr>\n",
       "      <th>2</th>\n",
       "      <td>RandomForest</td>\n",
       "      <td>0.97</td>\n",
       "    </tr>\n",
       "    <tr>\n",
       "      <th>3</th>\n",
       "      <td>LGBMclf</td>\n",
       "      <td>0.97</td>\n",
       "    </tr>\n",
       "    <tr>\n",
       "      <th>4</th>\n",
       "      <td>KNN</td>\n",
       "      <td>0.95</td>\n",
       "    </tr>\n",
       "    <tr>\n",
       "      <th>5</th>\n",
       "      <td>Perceptron</td>\n",
       "      <td>0.91</td>\n",
       "    </tr>\n",
       "  </tbody>\n",
       "</table>\n",
       "</div>"
      ],
      "text/plain": [
       "           Classifiers  Crossval Mean Scores\n",
       "0        ExtraTreesclf                  0.97\n",
       "1  GradientBosstingclf                  0.95\n",
       "2         RandomForest                  0.97\n",
       "3              LGBMclf                  0.97\n",
       "4                  KNN                  0.95\n",
       "5           Perceptron                  0.91"
      ]
     },
     "execution_count": 132,
     "metadata": {},
     "output_type": "execute_result"
    }
   ],
   "source": [
    "result_df"
   ]
  },
  {
   "cell_type": "code",
   "execution_count": 133,
   "metadata": {},
   "outputs": [
    {
     "data": {
      "text/plain": [
       "array([0.90196639, 0.92699321, 0.93228459, 0.94086521, 0.94887379,\n",
       "       0.95202002, 0.95530926, 0.96153021, 0.96267429, 0.96767966,\n",
       "       0.9696103 ])"
      ]
     },
     "execution_count": 133,
     "metadata": {},
     "output_type": "execute_result"
    }
   ],
   "source": [
    "mean_acc = np.zeros(11)\n",
    "for i in range(1,12):\n",
    "    etc = LGBMClassifier()\n",
    "    x_new_ = SelectKBest(f_classif, k = i).fit_transform(a , b )\n",
    "    x_train  , x_test , y_train , y_test = train_test_split(x_new_ , b , test_size = 0.2 , random_state = 0)\n",
    "    etc.fit(x_train , y_train)\n",
    "    yhat= etc.predict(x_test)\n",
    "    mean_acc[i-1] = metrics.accuracy_score(y_test, yhat)\n",
    "mean_acc  "
   ]
  },
  {
   "cell_type": "code",
   "execution_count": 134,
   "metadata": {},
   "outputs": [
    {
     "data": {
      "image/png": "[encoded data removed]",
      "text/plain": [
       "<Figure size 720x432 with 1 Axes>"
      ]
     },
     "metadata": {
      "needs_background": "light"
     },
     "output_type": "display_data"
    }
   ],
   "source": [
    "loc = np.arange(1,12,step=1.0)\n",
    "plt.figure(figsize = (10, 6))\n",
    "plt.plot(range(1,12), mean_acc)\n",
    "plt.xticks(loc)\n",
    "plt.xlabel('Number of Features for oversampled data ')\n",
    "plt.ylabel('Accuracy')\n",
    "plt.show()"
   ]
  },
  {
   "cell_type": "markdown",
   "metadata": {},
   "source": [
    "As the number of features increase the accuracy increases, so I don't think there's any need for any\n",
    "dimensionality reduction technique"
   ]
  },
  {
   "cell_type": "code",
   "execution_count": 135,
   "metadata": {},
   "outputs": [
    {
     "data": {
      "text/plain": [
       "<sklearn.metrics._plot.confusion_matrix.ConfusionMatrixDisplay at 0x167ed9106d0>"
      ]
     },
     "execution_count": 135,
     "metadata": {},
     "output_type": "execute_result"
    },
    {
     "data": {
      "image/png": "[encoded data removed]",
      "text/plain": [
       "<Figure size 432x288 with 2 Axes>"
      ]
     },
     "metadata": {
      "needs_background": "light"
     },
     "output_type": "display_data"
    }
   ],
   "source": [
    "etc = ExtraTreesClassifier()\n",
    "etc.fit(x_train , y_train)\n",
    "    \n",
    "predictions = etc.predict(x_test)\n",
    "cm = confusion_matrix(y_test, predictions, labels=etc.classes_)\n",
    "disp = ConfusionMatrixDisplay(confusion_matrix=cm,\n",
    "                               display_labels=etc.classes_)\n",
    "disp.plot()"
   ]
  },
  {
   "cell_type": "code",
   "execution_count": 138,
   "metadata": {},
   "outputs": [
    {
     "data": {
      "image/png": "[encoded data removed]",
      "text/plain": [
       "<Figure size 432x288 with 1 Axes>"
      ]
     },
     "metadata": {
      "needs_background": "light"
     },
     "output_type": "display_data"
    }
   ],
   "source": [
    "train_sizes, train_scores, test_scores = learning_curve(estimator=LGBMClassifier(), X=x_train, y=y_train,\n",
    "                                                       cv=10, train_sizes=np.linspace(0.1, 1.0, 10),\n",
    "                                                     n_jobs=1)\n",
    "\n",
    "\n",
    "train_mean = np.mean(train_scores, axis=1)\n",
    "train_std = np.std(train_scores, axis=1)\n",
    "test_mean = np.mean(test_scores, axis=1)\n",
    "test_std = np.std(test_scores, axis=1)\n",
    "\n",
    "# Ploting the learning curve\n",
    "\n",
    "plt.plot(train_sizes, train_mean, color='black', marker='o', markersize=5, label='Training Accuracy')\n",
    "plt.fill_between(train_sizes, train_mean + train_std, train_mean - train_std, alpha=0.15, color='black')\n",
    "plt.plot(train_sizes, test_mean, color='brown', marker='+', markersize=5, linestyle='--', label='Validation Accuracy')\n",
    "plt.fill_between(train_sizes, test_mean + test_std, test_mean - test_std, alpha=0.15, color='brown')\n",
    "plt.title('Learning Curve')\n",
    "plt.xlabel('Training Data Size')\n",
    "plt.ylabel('Model accuracy')\n",
    "plt.grid()\n",
    "plt.legend(loc='lower right')\n",
    "plt.show()"
   ]
  },
  {
   "cell_type": "markdown",
   "metadata": {},
   "source": [
    "Intially the training model had very high accuracy and validation model had very lower accuracy which is a case of \n",
    "overfitting, but as more and more samples are added to the model the model trains well. And, eventually the \n",
    "training model and validation model has approxiamtely similar accruacy "
   ]
  },
  {
   "cell_type": "markdown",
   "metadata": {},
   "source": [
    "UNDERSAMPLING"
   ]
  },
  {
   "cell_type": "code",
   "execution_count": 104,
   "metadata": {},
   "outputs": [
    {
     "name": "stdout",
     "output_type": "stream",
     "text": [
      "Before Undersampling, counts of label '1': 2525\n",
      "Before Undersampling, counts of label '0': 34961 \n",
      "\n",
      "After Undersampling, the shape of train_X: (5050, 11)\n",
      "After Undersampling, the shape of train_y: (5050,) \n",
      "\n",
      "After Undersampling, counts of label '1': 2525\n",
      "After Undersampling, counts of label '0': 2525\n"
     ]
    }
   ],
   "source": [
    "print(\"Before Undersampling, counts of label '1': {}\".format(sum(y == 1)))\n",
    "print(\"Before Undersampling, counts of label '0': {} \\n\".format(sum(y == 0)))\n",
    "  \n",
    "nr = NearMiss()\n",
    "  \n",
    "m, n = nr.fit_sample(x, y.ravel())\n",
    "  \n",
    "print('After Undersampling, the shape of train_X: {}'.format(m.shape))\n",
    "print('After Undersampling, the shape of train_y: {} \\n'.format(n.shape))\n",
    "  \n",
    "print(\"After Undersampling, counts of label '1': {}\".format(sum(n == 1)))\n",
    "print(\"After Undersampling, counts of label '0': {}\".format(sum(n == 0)))"
   ]
  },
  {
   "cell_type": "code",
   "execution_count": 97,
   "metadata": {},
   "outputs": [],
   "source": [
    "x_train  , x_test , y_train , y_test = train_test_split(m,n, test_size = 0.2 , random_state = 0)"
   ]
  },
  {
   "cell_type": "code",
   "execution_count": 98,
   "metadata": {},
   "outputs": [],
   "source": [
    "# Extra Trees Classifier \n",
    "extra_clf = ExtraTreesClassifier()\n",
    "extra_scores = cross_val_score(extra_clf, x_train, y_train, cv=5)\n",
    "extra_mean = extra_scores.mean()\n",
    "\n",
    "# Gradient Boosting Classifier\n",
    "grad_clf = GradientBoostingClassifier()\n",
    "grad_scores = cross_val_score(grad_clf, x_train, y_train, cv=5)\n",
    "grad_mean = grad_scores.mean()\n",
    "\n",
    "# Random Forest Classifier\n",
    "rand_clf = RandomForestClassifier()\n",
    "rand_scores = cross_val_score(rand_clf, x_train, y_train, cv=5)\n",
    "rand_mean = rand_scores.mean()\n",
    "\n",
    "# LGBM Classifier\n",
    "lgbm_clf = LGBMClassifier()\n",
    "lgbm_scores = cross_val_score(lgbm_clf, x_train, y_train, cv=5)\n",
    "lgbm_mean = lgbm_scores.mean()\n",
    "\n",
    "# KNeighbors Classifier\n",
    "knn_clf = KNeighborsClassifier()\n",
    "knn_scores = cross_val_score(knn_clf, x_train, y_train, cv=5)\n",
    "knn_mean = knn_scores.mean()\n",
    "\n",
    "#Perceptron\n",
    "per = Perceptron()\n",
    "per_scores = cross_val_score(per, x_train, y_train, cv=5)\n",
    "per_mean = per_scores.mean()\n",
    "\n",
    "\n",
    "d = {'Classifiers': [\"ExtraTreesclf\" , \"GradientBosstingclf\" , \"RandomForest\" ,\"LGBMclf\" , \"KNN\" , \"Perceptron\" ], \n",
    "    'Crossval Mean Scores': [extra_mean , grad_mean , rand_mean , lgbm_mean , knn_mean , per_mean]}\n",
    "\n",
    "result_df = pd.DataFrame(data=d)"
   ]
  },
  {
   "cell_type": "code",
   "execution_count": 99,
   "metadata": {},
   "outputs": [
    {
     "data": {
      "text/html": [
       "<div>\n",
       "<style scoped>\n",
       "    .dataframe tbody tr th:only-of-type {\n",
       "        vertical-align: middle;\n",
       "    }\n",
       "\n",
       "    .dataframe tbody tr th {\n",
       "        vertical-align: top;\n",
       "    }\n",
       "\n",
       "    .dataframe thead th {\n",
       "        text-align: right;\n",
       "    }\n",
       "</style>\n",
       "<table border=\"1\" class=\"dataframe\">\n",
       "  <thead>\n",
       "    <tr style=\"text-align: right;\">\n",
       "      <th></th>\n",
       "      <th>Classifiers</th>\n",
       "      <th>Crossval Mean Scores</th>\n",
       "    </tr>\n",
       "  </thead>\n",
       "  <tbody>\n",
       "    <tr>\n",
       "      <th>1</th>\n",
       "      <td>GradientBosstingclf</td>\n",
       "      <td>0.78</td>\n",
       "    </tr>\n",
       "    <tr>\n",
       "      <th>3</th>\n",
       "      <td>LGBMclf</td>\n",
       "      <td>0.78</td>\n",
       "    </tr>\n",
       "    <tr>\n",
       "      <th>2</th>\n",
       "      <td>RandomForest</td>\n",
       "      <td>0.76</td>\n",
       "    </tr>\n",
       "    <tr>\n",
       "      <th>0</th>\n",
       "      <td>ExtraTreesclf</td>\n",
       "      <td>0.74</td>\n",
       "    </tr>\n",
       "    <tr>\n",
       "      <th>4</th>\n",
       "      <td>KNN</td>\n",
       "      <td>0.73</td>\n",
       "    </tr>\n",
       "    <tr>\n",
       "      <th>5</th>\n",
       "      <td>Perceptron</td>\n",
       "      <td>0.55</td>\n",
       "    </tr>\n",
       "  </tbody>\n",
       "</table>\n",
       "</div>"
      ],
      "text/plain": [
       "           Classifiers  Crossval Mean Scores\n",
       "1  GradientBosstingclf                  0.78\n",
       "3              LGBMclf                  0.78\n",
       "2         RandomForest                  0.76\n",
       "0        ExtraTreesclf                  0.74\n",
       "4                  KNN                  0.73\n",
       "5           Perceptron                  0.55"
      ]
     },
     "execution_count": 99,
     "metadata": {},
     "output_type": "execute_result"
    }
   ],
   "source": [
    "result_df.sort_values(by = [\"Crossval Mean Scores\"] , ascending = False)"
   ]
  },
  {
   "cell_type": "code",
   "execution_count": 101,
   "metadata": {},
   "outputs": [
    {
     "data": {
      "text/plain": [
       "array([0.72277228, 0.73960396, 0.74554455, 0.74752475, 0.76633663,\n",
       "       0.78019802, 0.77821782, 0.78118812, 0.77722772, 0.78217822,\n",
       "       0.78217822])"
      ]
     },
     "execution_count": 101,
     "metadata": {},
     "output_type": "execute_result"
    }
   ],
   "source": [
    "mean_acc = np.zeros(11)\n",
    "for i in range(1,12):\n",
    "    etc = GradientBoostingClassifier()\n",
    "    x_new_ = SelectKBest(f_classif, k = i).fit_transform(m , n )\n",
    "    x_train  , x_test , y_train , y_test = train_test_split(x_new_ , n , test_size = 0.2 , random_state = 0)\n",
    "    etc.fit(x_train , y_train)\n",
    "    yhat= etc.predict(x_test)\n",
    "    mean_acc[i-1] = metrics.accuracy_score(y_test, yhat)\n",
    "mean_acc    \n"
   ]
  },
  {
   "cell_type": "code",
   "execution_count": 139,
   "metadata": {},
   "outputs": [
    {
     "data": {
      "image/png": "[encoded data removed]",
      "text/plain": [
       "<Figure size 720x432 with 1 Axes>"
      ]
     },
     "metadata": {
      "needs_background": "light"
     },
     "output_type": "display_data"
    }
   ],
   "source": [
    "loc = np.arange(1,12,step=1.0)\n",
    "plt.figure(figsize = (10, 6))\n",
    "plt.plot(range(1,12), mean_acc , color = \"m\")\n",
    "plt.xticks(loc)\n",
    "plt.xlabel('Number of Features for undersampled data ')\n",
    "plt.ylabel('Accuracy')\n",
    "plt.show()"
   ]
  },
  {
   "cell_type": "markdown",
   "metadata": {},
   "source": [
    "Considering all the features helps perform the model optimally in undersampling "
   ]
  },
  {
   "cell_type": "code",
   "execution_count": 103,
   "metadata": {},
   "outputs": [
    {
     "data": {
      "text/plain": [
       "<sklearn.metrics._plot.confusion_matrix.ConfusionMatrixDisplay at 0x167ed675820>"
      ]
     },
     "execution_count": 103,
     "metadata": {},
     "output_type": "execute_result"
    },
    {
     "data": {
      "image/png": "[encoded data removed]",
      "text/plain": [
       "<Figure size 432x288 with 2 Axes>"
      ]
     },
     "metadata": {
      "needs_background": "light"
     },
     "output_type": "display_data"
    }
   ],
   "source": [
    "etc = GradientBoostingClassifier()\n",
    "etc.fit(x_train , y_train)\n",
    "    \n",
    "predictions = etc.predict(x_test)\n",
    "cm = confusion_matrix(y_test, predictions, labels=etc.classes_)\n",
    "disp = ConfusionMatrixDisplay(confusion_matrix=cm,\n",
    "                               display_labels=etc.classes_)\n",
    "disp.plot()"
   ]
  },
  {
   "cell_type": "code",
   "execution_count": 121,
   "metadata": {},
   "outputs": [
    {
     "data": {
      "image/png": "[encoded data removed]",
      "text/plain": [
       "<Figure size 432x288 with 1 Axes>"
      ]
     },
     "metadata": {
      "needs_background": "light"
     },
     "output_type": "display_data"
    }
   ],
   "source": [
    "train_sizes, train_scores, test_scores = learning_curve(estimator=GradientBoostingClassifier(), X=x_train, y=y_train,\n",
    "                                                       cv=10, train_sizes=np.linspace(0.1, 1.0, 10),\n",
    "                                                     n_jobs=1)\n",
    "\n",
    "\n",
    "train_mean = np.mean(train_scores, axis=1)\n",
    "train_std = np.std(train_scores, axis=1)\n",
    "test_mean = np.mean(test_scores, axis=1)\n",
    "test_std = np.std(test_scores, axis=1)\n",
    "\n",
    "# Ploting the learning curve\n",
    "\n",
    "plt.plot(train_sizes, train_mean, color='red', marker='o', markersize=5, label='Training Accuracy')\n",
    "plt.fill_between(train_sizes, train_mean + train_std, train_mean - train_std, alpha=0.15, color='red')\n",
    "plt.plot(train_sizes, test_mean, color='yellow', marker='+', markersize=5, linestyle='--', label='Validation Accuracy')\n",
    "plt.fill_between(train_sizes, test_mean + test_std, test_mean - test_std, alpha=0.15, color='yellow')\n",
    "plt.title('Learning Curve')\n",
    "plt.xlabel('Training Data Size')\n",
    "plt.ylabel('Model accuracy')\n",
    "plt.grid()\n",
    "plt.legend(loc='lower right')\n",
    "plt.show()"
   ]
  },
  {
   "cell_type": "markdown",
   "metadata": {},
   "source": [
    "We see similar patterns for undersampling as well"
   ]
  },
  {
   "cell_type": "code",
   "execution_count": 112,
   "metadata": {},
   "outputs": [
    {
     "data": {
      "text/plain": [
       "0.7829207920792081"
      ]
     },
     "execution_count": 112,
     "metadata": {},
     "output_type": "execute_result"
    }
   ],
   "source": [
    "#improving scores\n",
    "grad_clf = GradientBoostingClassifier(learning_rate =  0.1, max_depth = 3, n_estimators = 250)\n",
    "grad_scores = cross_val_score(grad_clf, x_train, y_train, cv=5)\n",
    "grad_mean = grad_scores.mean() ; grad_mean"
   ]
  },
  {
   "cell_type": "markdown",
   "metadata": {},
   "source": [
    "# METRICS "
   ]
  },
  {
   "cell_type": "markdown",
   "metadata": {},
   "source": [
    "USING UNDERSAMPLED DATA TO GET FINAL METRICS"
   ]
  },
  {
   "cell_type": "code",
   "execution_count": 115,
   "metadata": {},
   "outputs": [
    {
     "name": "stdout",
     "output_type": "stream",
     "text": [
      "Precision Score:  0.7885375494071146\n",
      "Recall Score:  0.7869822485207101\n"
     ]
    }
   ],
   "source": [
    "from sklearn.metrics import f1_score , precision_score , recall_score\n",
    "grad_clf.fit(x_train , y_train)\n",
    "pred = grad_clf.predict(x_test)\n",
    "print('Precision Score: ', precision_score(y_test, pred))\n",
    "print('Recall Score: ', recall_score(y_test, pred))"
   ]
  },
  {
   "cell_type": "code",
   "execution_count": 116,
   "metadata": {},
   "outputs": [
    {
     "data": {
      "text/plain": [
       "0.7877591312931886"
      ]
     },
     "execution_count": 116,
     "metadata": {},
     "output_type": "execute_result"
    }
   ],
   "source": [
    "from sklearn.metrics import f1_score , roc_auc_score\n",
    "f1_score(y_test, pred)"
   ]
  },
  {
   "cell_type": "code",
   "execution_count": 117,
   "metadata": {},
   "outputs": [],
   "source": [
    "y_pred = grad_clf.predict_proba(x_test)[:, 1]"
   ]
  },
  {
   "cell_type": "code",
   "execution_count": 118,
   "metadata": {},
   "outputs": [
    {
     "data": {
      "image/png": "[encoded data removed]",
      "text/plain": [
       "<Figure size 420x280 with 1 Axes>"
      ]
     },
     "metadata": {
      "needs_background": "light"
     },
     "output_type": "display_data"
    }
   ],
   "source": [
    "auc = roc_auc_score(y_test, y_pred)\n",
    "\n",
    "false_positive_rate, true_positive_rate, thresolds = roc_curve(y_test, y_pred)\n",
    "\n",
    "plt.figure(figsize=(6, 4), dpi=70)\n",
    "plt.axis('scaled')\n",
    "plt.xlim([0, 1])\n",
    "plt.ylim([0, 1])\n",
    "plt.title(\"AUC & ROC Curve\")\n",
    "plt.plot(false_positive_rate, true_positive_rate, 'g')\n",
    "plt.fill_between(false_positive_rate, true_positive_rate, facecolor='red', alpha=0.7)\n",
    "plt.text(0.95, 0.05, 'AUC = %0.4f' % auc, ha='right', fontsize=12, weight='bold', color='blue')\n",
    "plt.xlabel(\"False Positive Rate\")\n",
    "plt.ylabel(\"True Positive Rate\")\n",
    "plt.show()  "
   ]
  },
  {
   "cell_type": "code",
   "execution_count": 119,
   "metadata": {},
   "outputs": [
    {
     "data": {
      "image/png": "[encoded data removed]",
      "text/plain": [
       "<Figure size 432x288 with 1 Axes>"
      ]
     },
     "metadata": {
      "needs_background": "light"
     },
     "output_type": "display_data"
    }
   ],
   "source": [
    "random_probs = [0 for i in range(len(y_test))]\n",
    "p_fpr, p_tpr, _ = roc_curve(y_test, random_probs, pos_label=1)\n",
    "\n",
    "plt.plot(false_positive_rate, true_positive_rate, linestyle='--',color='orange', label='Gradient_Boosting')\n",
    "plt.plot(p_fpr, p_tpr, linestyle='--', color='blue')\n",
    "# title\n",
    "plt.title('ROC curve')\n",
    "# x label\n",
    "plt.xlabel('False Positive Rate')\n",
    "# y label\n",
    "plt.ylabel('True Positive rate')\n",
    "\n",
    "plt.legend(loc='best')\n",
    "plt.savefig('ROC',dpi=300)\n",
    "plt.show();"
   ]
  },
  {
   "cell_type": "code",
   "execution_count": null,
   "metadata": {},
   "outputs": [],
   "source": []
  }
 ],
 "metadata": {
  "kernelspec": {
   "display_name": "Python 3",
   "language": "python",
   "name": "python3"
  },
  "language_info": {
   "codemirror_mode": {
    "name": "ipython",
    "version": 3
   },
   "file_extension": ".py",
   "mimetype": "text/x-python",
   "name": "python",
   "nbconvert_exporter": "python",
   "pygments_lexer": "ipython3",
   "version": "3.8.5"
  }
 },
 "nbformat": 4,
 "nbformat_minor": 4
}
