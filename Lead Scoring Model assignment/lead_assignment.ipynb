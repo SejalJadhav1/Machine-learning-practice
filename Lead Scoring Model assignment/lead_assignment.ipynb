{
 "cells": [
  {
   "cell_type": "code",
   "execution_count": 1,
   "metadata": {},
   "outputs": [
    {
     "name": "stderr",
     "output_type": "stream",
     "text": [
      "C:\\Users\\sejal Jadev\\anaconda3\\lib\\site-packages\\dask\\dataframe\\utils.py:367: FutureWarning:\n",
      "\n",
      "pandas.Int64Index is deprecated and will be removed from pandas in a future version. Use pandas.Index with the appropriate dtype instead.\n",
      "\n",
      "C:\\Users\\sejal Jadev\\anaconda3\\lib\\site-packages\\dask\\dataframe\\utils.py:367: FutureWarning:\n",
      "\n",
      "pandas.Float64Index is deprecated and will be removed from pandas in a future version. Use pandas.Index with the appropriate dtype instead.\n",
      "\n",
      "C:\\Users\\sejal Jadev\\anaconda3\\lib\\site-packages\\dask\\dataframe\\utils.py:367: FutureWarning:\n",
      "\n",
      "pandas.UInt64Index is deprecated and will be removed from pandas in a future version. Use pandas.Index with the appropriate dtype instead.\n",
      "\n"
     ]
    },
    {
     "data": {
      "text/html": [
       "        <script type=\"text/javascript\">\n",
       "        window.PlotlyConfig = {MathJaxConfig: 'local'};\n",
       "        if (window.MathJax) {MathJax.Hub.Config({SVG: {font: \"STIX-Web\"}});}\n",
       "        if (typeof require !== 'undefined') {\n",
       "        require.undef(\"plotly\");\n",
       "        requirejs.config({\n",
       "            paths: {\n",
       "                'plotly': ['https://cdn.plot.ly/plotly-2.4.2.min']\n",
       "            }\n",
       "        });\n",
       "        require(['plotly'], function(Plotly) {\n",
       "            window._Plotly = Plotly;\n",
       "        });\n",
       "        }\n",
       "        </script>\n",
       "        "
      ]
     },
     "metadata": {},
     "output_type": "display_data"
    }
   ],
   "source": [
    "import pandas as pd\n",
    "import numpy as np\n",
    "import seaborn as sns\n",
    "import matplotlib.pyplot as plt\n",
    "import datetime\n",
    "import imblearn\n",
    "from imblearn.over_sampling import SMOTE\n",
    "from collections import Counter\n",
    "from sklearn.model_selection import GridSearchCV\n",
    "from sklearn.metrics import confusion_matrix, ConfusionMatrixDisplay\n",
    "\n",
    "from sklearn.metrics import classification_report\n",
    "from pandas.plotting import scatter_matrix\n",
    "from sklearn.preprocessing import LabelEncoder , StandardScaler\n",
    "from sklearn.decomposition import PCA\n",
    "\n",
    "from sklearn.model_selection import train_test_split , cross_val_score , cross_validate , cross_val_predict\n",
    "from sklearn.ensemble import ExtraTreesClassifier, GradientBoostingClassifier , RandomForestClassifier\n",
    "from sklearn.neighbors import KNeighborsClassifier\n",
    "from sklearn.model_selection import learning_curve\n",
    "from sklearn.feature_selection import chi2, SelectKBest, f_classif\n",
    "from sklearn import metrics\n",
    "\n",
    "from sklearn.linear_model import LogisticRegression , Perceptron\n",
    "from sklearn.metrics import confusion_matrix , roc_auc_score , precision_recall_curve , roc_curve\n",
    "from sklearn.metrics import accuracy_score\n",
    "from lightgbm import LGBMClassifier\n",
    "from xgboost import XGBClassifier"
   ]
  },
  {
   "cell_type": "code",
   "execution_count": 2,
   "metadata": {},
   "outputs": [],
   "source": [
    "data = pd.read_excel(\"lead_data.xlsx\")"
   ]
  },
  {
   "cell_type": "code",
   "execution_count": 3,
   "metadata": {},
   "outputs": [
    {
     "data": {
      "text/html": [
       "<div>\n",
       "<style scoped>\n",
       "    .dataframe tbody tr th:only-of-type {\n",
       "        vertical-align: middle;\n",
       "    }\n",
       "\n",
       "    .dataframe tbody tr th {\n",
       "        vertical-align: top;\n",
       "    }\n",
       "\n",
       "    .dataframe thead th {\n",
       "        text-align: right;\n",
       "    }\n",
       "</style>\n",
       "<table border=\"1\" class=\"dataframe\">\n",
       "  <thead>\n",
       "    <tr style=\"text-align: right;\">\n",
       "      <th></th>\n",
       "      <th>Unnamed: 0</th>\n",
       "      <th>Agent_id</th>\n",
       "      <th>status</th>\n",
       "      <th>lost_reason</th>\n",
       "      <th>budget</th>\n",
       "      <th>lease</th>\n",
       "      <th>movein</th>\n",
       "      <th>source</th>\n",
       "      <th>source_city</th>\n",
       "      <th>source_country</th>\n",
       "      <th>utm_source</th>\n",
       "      <th>utm_medium</th>\n",
       "      <th>des_city</th>\n",
       "      <th>des_country</th>\n",
       "      <th>room_type</th>\n",
       "      <th>lead_id</th>\n",
       "    </tr>\n",
       "  </thead>\n",
       "  <tbody>\n",
       "    <tr>\n",
       "      <th>0</th>\n",
       "      <td>0</td>\n",
       "      <td>1deba9e96f404694373de9749ddd1ca8aa7bb823145a6f...</td>\n",
       "      <td>LOST</td>\n",
       "      <td>Not responding</td>\n",
       "      <td>NaN</td>\n",
       "      <td>NaN</td>\n",
       "      <td>NaT</td>\n",
       "      <td>9b2d5b4678781e53038e91ea5324530a03f27dc1d0e5f6...</td>\n",
       "      <td>9b2d5b4678781e53038e91ea5324530a03f27dc1d0e5f6...</td>\n",
       "      <td>9b2d5b4678781e53038e91ea5324530a03f27dc1d0e5f6...</td>\n",
       "      <td>3d59f7548e1af2151b64135003ce63c0a484c26b9b8b16...</td>\n",
       "      <td>268ad70eb5bc4737a2ae28162cbca30118cc94520e49ef...</td>\n",
       "      <td>ecc0e7dc084f141b29479058967d0bc07dee25d9690a98...</td>\n",
       "      <td>8d23a6e37e0a6431a8f1b43a91026dcff51170a89a6512...</td>\n",
       "      <td>NaN</td>\n",
       "      <td>cd5dc0d9393f3980d11d4ba6f88f8110c2b7a7f7796307...</td>\n",
       "    </tr>\n",
       "    <tr>\n",
       "      <th>1</th>\n",
       "      <td>1</td>\n",
       "      <td>299ae77a4ef350ae0dd37d6bba1c002d03444fb1edb236...</td>\n",
       "      <td>LOST</td>\n",
       "      <td>Low budget</td>\n",
       "      <td>NaN</td>\n",
       "      <td>NaN</td>\n",
       "      <td>NaT</td>\n",
       "      <td>9b2d5b4678781e53038e91ea5324530a03f27dc1d0e5f6...</td>\n",
       "      <td>9b2d5b4678781e53038e91ea5324530a03f27dc1d0e5f6...</td>\n",
       "      <td>9b2d5b4678781e53038e91ea5324530a03f27dc1d0e5f6...</td>\n",
       "      <td>3d59f7548e1af2151b64135003ce63c0a484c26b9b8b16...</td>\n",
       "      <td>268ad70eb5bc4737a2ae28162cbca30118cc94520e49ef...</td>\n",
       "      <td>5372372f3bf5896820cb2819300c3e681820d82c6efc54...</td>\n",
       "      <td>8d23a6e37e0a6431a8f1b43a91026dcff51170a89a6512...</td>\n",
       "      <td>NaN</td>\n",
       "      <td>b94693673a5f7178d1b114e4004ad52377d3244dd24a3d...</td>\n",
       "    </tr>\n",
       "    <tr>\n",
       "      <th>2</th>\n",
       "      <td>2</td>\n",
       "      <td>c213697430c006013012dd2aca82dd9732aa0a1a6bca13...</td>\n",
       "      <td>LOST</td>\n",
       "      <td>Not responding</td>\n",
       "      <td>£121 - £180 Per Week</td>\n",
       "      <td>Full Year Course Stay 40 - 44 weeks</td>\n",
       "      <td>2022-08-31</td>\n",
       "      <td>7aae3e886e89fc1187a5c47d6cea1c22998ee610ade1f2...</td>\n",
       "      <td>9b8cc3c63cdf447e463c11544924bf027945cbd29675f7...</td>\n",
       "      <td>e09e10e67812e9d236ad900e5d46b4308fc62f5d69446a...</td>\n",
       "      <td>bbdefa2950f49882f295b1285d4fa9dec45fc4144bfb07...</td>\n",
       "      <td>09076eb7665d1fb9389c7c4517fee0b00e43092eb34821...</td>\n",
       "      <td>11ab03a1a8c367191355c152f39fe28cae5e426fce49ef...</td>\n",
       "      <td>8d23a6e37e0a6431a8f1b43a91026dcff51170a89a6512...</td>\n",
       "      <td>Ensuite</td>\n",
       "      <td>96ea4e2bf04496c044745938c0299c264c3f4ba079e572...</td>\n",
       "    </tr>\n",
       "    <tr>\n",
       "      <th>3</th>\n",
       "      <td>3</td>\n",
       "      <td>eac9815a500f908736d303e23aa227f0957177b0e6756b...</td>\n",
       "      <td>LOST</td>\n",
       "      <td>Low budget</td>\n",
       "      <td>0-0</td>\n",
       "      <td>0</td>\n",
       "      <td>NaT</td>\n",
       "      <td>ba2d0a29556ac20f86f45e4543c0825428cba33fd7a9ea...</td>\n",
       "      <td>a5f0d2d08eb0592087e3a3a2f9c1ba2c67cc30f2efd2bd...</td>\n",
       "      <td>e09e10e67812e9d236ad900e5d46b4308fc62f5d69446a...</td>\n",
       "      <td>bbdefa2950f49882f295b1285d4fa9dec45fc4144bfb07...</td>\n",
       "      <td>09076eb7665d1fb9389c7c4517fee0b00e43092eb34821...</td>\n",
       "      <td>19372fa44c57a01c37a5a8418779ca3d99b0b59731fb35...</td>\n",
       "      <td>8d23a6e37e0a6431a8f1b43a91026dcff51170a89a6512...</td>\n",
       "      <td>NaN</td>\n",
       "      <td>1d2b34d8add02a182a4129023766ca4585a8ddced0e5b3...</td>\n",
       "    </tr>\n",
       "    <tr>\n",
       "      <th>4</th>\n",
       "      <td>4</td>\n",
       "      <td>1deba9e96f404694373de9749ddd1ca8aa7bb823145a6f...</td>\n",
       "      <td>LOST</td>\n",
       "      <td>Junk lead</td>\n",
       "      <td>NaN</td>\n",
       "      <td>NaN</td>\n",
       "      <td>NaT</td>\n",
       "      <td>9b2d5b4678781e53038e91ea5324530a03f27dc1d0e5f6...</td>\n",
       "      <td>9b2d5b4678781e53038e91ea5324530a03f27dc1d0e5f6...</td>\n",
       "      <td>9b2d5b4678781e53038e91ea5324530a03f27dc1d0e5f6...</td>\n",
       "      <td>3d59f7548e1af2151b64135003ce63c0a484c26b9b8b16...</td>\n",
       "      <td>268ad70eb5bc4737a2ae28162cbca30118cc94520e49ef...</td>\n",
       "      <td>9b2d5b4678781e53038e91ea5324530a03f27dc1d0e5f6...</td>\n",
       "      <td>9b2d5b4678781e53038e91ea5324530a03f27dc1d0e5f6...</td>\n",
       "      <td>NaN</td>\n",
       "      <td>fc10fffd29cfbe93c55158fb47752a7501c211d253468c...</td>\n",
       "    </tr>\n",
       "  </tbody>\n",
       "</table>\n",
       "</div>"
      ],
      "text/plain": [
       "   Unnamed: 0                                           Agent_id status  \\\n",
       "0           0  1deba9e96f404694373de9749ddd1ca8aa7bb823145a6f...   LOST   \n",
       "1           1  299ae77a4ef350ae0dd37d6bba1c002d03444fb1edb236...   LOST   \n",
       "2           2  c213697430c006013012dd2aca82dd9732aa0a1a6bca13...   LOST   \n",
       "3           3  eac9815a500f908736d303e23aa227f0957177b0e6756b...   LOST   \n",
       "4           4  1deba9e96f404694373de9749ddd1ca8aa7bb823145a6f...   LOST   \n",
       "\n",
       "      lost_reason                budget                                lease  \\\n",
       "0  Not responding                   NaN                                  NaN   \n",
       "1      Low budget                   NaN                                  NaN   \n",
       "2  Not responding  £121 - £180 Per Week  Full Year Course Stay 40 - 44 weeks   \n",
       "3      Low budget                   0-0                                    0   \n",
       "4       Junk lead                   NaN                                  NaN   \n",
       "\n",
       "      movein                                             source  \\\n",
       "0        NaT  9b2d5b4678781e53038e91ea5324530a03f27dc1d0e5f6...   \n",
       "1        NaT  9b2d5b4678781e53038e91ea5324530a03f27dc1d0e5f6...   \n",
       "2 2022-08-31  7aae3e886e89fc1187a5c47d6cea1c22998ee610ade1f2...   \n",
       "3        NaT  ba2d0a29556ac20f86f45e4543c0825428cba33fd7a9ea...   \n",
       "4        NaT  9b2d5b4678781e53038e91ea5324530a03f27dc1d0e5f6...   \n",
       "\n",
       "                                         source_city  \\\n",
       "0  9b2d5b4678781e53038e91ea5324530a03f27dc1d0e5f6...   \n",
       "1  9b2d5b4678781e53038e91ea5324530a03f27dc1d0e5f6...   \n",
       "2  9b8cc3c63cdf447e463c11544924bf027945cbd29675f7...   \n",
       "3  a5f0d2d08eb0592087e3a3a2f9c1ba2c67cc30f2efd2bd...   \n",
       "4  9b2d5b4678781e53038e91ea5324530a03f27dc1d0e5f6...   \n",
       "\n",
       "                                      source_country  \\\n",
       "0  9b2d5b4678781e53038e91ea5324530a03f27dc1d0e5f6...   \n",
       "1  9b2d5b4678781e53038e91ea5324530a03f27dc1d0e5f6...   \n",
       "2  e09e10e67812e9d236ad900e5d46b4308fc62f5d69446a...   \n",
       "3  e09e10e67812e9d236ad900e5d46b4308fc62f5d69446a...   \n",
       "4  9b2d5b4678781e53038e91ea5324530a03f27dc1d0e5f6...   \n",
       "\n",
       "                                          utm_source  \\\n",
       "0  3d59f7548e1af2151b64135003ce63c0a484c26b9b8b16...   \n",
       "1  3d59f7548e1af2151b64135003ce63c0a484c26b9b8b16...   \n",
       "2  bbdefa2950f49882f295b1285d4fa9dec45fc4144bfb07...   \n",
       "3  bbdefa2950f49882f295b1285d4fa9dec45fc4144bfb07...   \n",
       "4  3d59f7548e1af2151b64135003ce63c0a484c26b9b8b16...   \n",
       "\n",
       "                                          utm_medium  \\\n",
       "0  268ad70eb5bc4737a2ae28162cbca30118cc94520e49ef...   \n",
       "1  268ad70eb5bc4737a2ae28162cbca30118cc94520e49ef...   \n",
       "2  09076eb7665d1fb9389c7c4517fee0b00e43092eb34821...   \n",
       "3  09076eb7665d1fb9389c7c4517fee0b00e43092eb34821...   \n",
       "4  268ad70eb5bc4737a2ae28162cbca30118cc94520e49ef...   \n",
       "\n",
       "                                            des_city  \\\n",
       "0  ecc0e7dc084f141b29479058967d0bc07dee25d9690a98...   \n",
       "1  5372372f3bf5896820cb2819300c3e681820d82c6efc54...   \n",
       "2  11ab03a1a8c367191355c152f39fe28cae5e426fce49ef...   \n",
       "3  19372fa44c57a01c37a5a8418779ca3d99b0b59731fb35...   \n",
       "4  9b2d5b4678781e53038e91ea5324530a03f27dc1d0e5f6...   \n",
       "\n",
       "                                         des_country room_type  \\\n",
       "0  8d23a6e37e0a6431a8f1b43a91026dcff51170a89a6512...       NaN   \n",
       "1  8d23a6e37e0a6431a8f1b43a91026dcff51170a89a6512...       NaN   \n",
       "2  8d23a6e37e0a6431a8f1b43a91026dcff51170a89a6512...   Ensuite   \n",
       "3  8d23a6e37e0a6431a8f1b43a91026dcff51170a89a6512...       NaN   \n",
       "4  9b2d5b4678781e53038e91ea5324530a03f27dc1d0e5f6...       NaN   \n",
       "\n",
       "                                             lead_id  \n",
       "0  cd5dc0d9393f3980d11d4ba6f88f8110c2b7a7f7796307...  \n",
       "1  b94693673a5f7178d1b114e4004ad52377d3244dd24a3d...  \n",
       "2  96ea4e2bf04496c044745938c0299c264c3f4ba079e572...  \n",
       "3  1d2b34d8add02a182a4129023766ca4585a8ddced0e5b3...  \n",
       "4  fc10fffd29cfbe93c55158fb47752a7501c211d253468c...  "
      ]
     },
     "execution_count": 3,
     "metadata": {},
     "output_type": "execute_result"
    }
   ],
   "source": [
    "data.head()"
   ]
  },
  {
   "cell_type": "code",
   "execution_count": 4,
   "metadata": {},
   "outputs": [
    {
     "data": {
      "text/plain": [
       "Index(['Unnamed: 0', 'Agent_id', 'status', 'lost_reason', 'budget', 'lease',\n",
       "       'movein', 'source', 'source_city', 'source_country', 'utm_source',\n",
       "       'utm_medium', 'des_city', 'des_country', 'room_type', 'lead_id'],\n",
       "      dtype='object')"
      ]
     },
     "execution_count": 4,
     "metadata": {},
     "output_type": "execute_result"
    }
   ],
   "source": [
    "data.columns"
   ]
  },
  {
   "cell_type": "code",
   "execution_count": 5,
   "metadata": {},
   "outputs": [
    {
     "name": "stdout",
     "output_type": "stream",
     "text": [
      "<class 'pandas.core.frame.DataFrame'>\n",
      "RangeIndex: 46608 entries, 0 to 46607\n",
      "Data columns (total 16 columns):\n",
      " #   Column          Non-Null Count  Dtype         \n",
      "---  ------          --------------  -----         \n",
      " 0   Unnamed: 0      46608 non-null  int64         \n",
      " 1   Agent_id        46608 non-null  object        \n",
      " 2   status          46608 non-null  object        \n",
      " 3   lost_reason     43244 non-null  object        \n",
      " 4   budget          42908 non-null  object        \n",
      " 5   lease           44267 non-null  object        \n",
      " 6   movein          32970 non-null  datetime64[ns]\n",
      " 7   source          46608 non-null  object        \n",
      " 8   source_city     46608 non-null  object        \n",
      " 9   source_country  46608 non-null  object        \n",
      " 10  utm_source      46608 non-null  object        \n",
      " 11  utm_medium      46608 non-null  object        \n",
      " 12  des_city        46608 non-null  object        \n",
      " 13  des_country     46608 non-null  object        \n",
      " 14  room_type       23061 non-null  object        \n",
      " 15  lead_id         46608 non-null  object        \n",
      "dtypes: datetime64[ns](1), int64(1), object(14)\n",
      "memory usage: 5.7+ MB\n"
     ]
    }
   ],
   "source": [
    "data.info()"
   ]
  },
  {
   "cell_type": "code",
   "execution_count": 6,
   "metadata": {},
   "outputs": [
    {
     "data": {
      "text/plain": [
       "array(['LOST', 'WON', 'OPPORTUNITY', 'CONTACTED', 'PROCESSING',\n",
       "       'IMPORTANT'], dtype=object)"
      ]
     },
     "execution_count": 6,
     "metadata": {},
     "output_type": "execute_result"
    }
   ],
   "source": [
    "data.status.unique()"
   ]
  },
  {
   "cell_type": "code",
   "execution_count": 7,
   "metadata": {},
   "outputs": [
    {
     "data": {
      "text/plain": [
       "(46608, 16)"
      ]
     },
     "execution_count": 7,
     "metadata": {},
     "output_type": "execute_result"
    }
   ],
   "source": [
    "data.shape"
   ]
  },
  {
   "cell_type": "code",
   "execution_count": 8,
   "metadata": {},
   "outputs": [
    {
     "data": {
      "text/plain": [
       "(46317, 16)"
      ]
     },
     "execution_count": 8,
     "metadata": {},
     "output_type": "execute_result"
    }
   ],
   "source": [
    "new_data = data[(data.status== \"LOST\") | (data.status== \"WON\")] ; new_data.shape"
   ]
  },
  {
   "cell_type": "code",
   "execution_count": 9,
   "metadata": {},
   "outputs": [
    {
     "data": {
      "text/plain": [
       "array(['LOST', 'WON'], dtype=object)"
      ]
     },
     "execution_count": 9,
     "metadata": {},
     "output_type": "execute_result"
    }
   ],
   "source": [
    "new_data.status.unique()"
   ]
  },
  {
   "cell_type": "code",
   "execution_count": 10,
   "metadata": {},
   "outputs": [],
   "source": [
    "new_data.drop(\"Unnamed: 0\" , axis = 1 , inplace = True)"
   ]
  },
  {
   "cell_type": "code",
   "execution_count": 11,
   "metadata": {},
   "outputs": [],
   "source": [
    "new_data.drop(\"Agent_id\" , axis = 1 , inplace = True)"
   ]
  },
  {
   "cell_type": "code",
   "execution_count": 12,
   "metadata": {},
   "outputs": [
    {
     "data": {
      "text/plain": [
       "status                0\n",
       "lost_reason        3073\n",
       "budget             3694\n",
       "lease              2336\n",
       "movein            13610\n",
       "source                0\n",
       "source_city           0\n",
       "source_country        0\n",
       "utm_source            0\n",
       "utm_medium            0\n",
       "des_city              0\n",
       "des_country           0\n",
       "room_type         23491\n",
       "lead_id               0\n",
       "dtype: int64"
      ]
     },
     "execution_count": 12,
     "metadata": {},
     "output_type": "execute_result"
    }
   ],
   "source": [
    "new_data.isna().sum()"
   ]
  },
  {
   "cell_type": "code",
   "execution_count": 13,
   "metadata": {},
   "outputs": [],
   "source": [
    "new_data.drop(\"room_type\" , axis = 1 , inplace = True)"
   ]
  },
  {
   "cell_type": "code",
   "execution_count": 14,
   "metadata": {},
   "outputs": [],
   "source": [
    "new_data.lost_reason.fillna(new_data.lost_reason.mode()[0] , inplace = True)"
   ]
  },
  {
   "cell_type": "code",
   "execution_count": 15,
   "metadata": {},
   "outputs": [
    {
     "data": {
      "text/plain": [
       "'Low availability'"
      ]
     },
     "execution_count": 15,
     "metadata": {},
     "output_type": "execute_result"
    }
   ],
   "source": [
    "new_data.lost_reason.mode()[0]"
   ]
  },
  {
   "cell_type": "code",
   "execution_count": 16,
   "metadata": {},
   "outputs": [
    {
     "data": {
      "text/plain": [
       "0"
      ]
     },
     "execution_count": 16,
     "metadata": {},
     "output_type": "execute_result"
    }
   ],
   "source": [
    "new_data.lost_reason.isna().sum()"
   ]
  },
  {
   "cell_type": "code",
   "execution_count": 17,
   "metadata": {},
   "outputs": [
    {
     "data": {
      "text/plain": [
       "Low availability                  11965\n",
       "Not responding                     7827\n",
       "Not interested                     6449\n",
       "Low budget                         5505\n",
       "Wants private accommodation        2781\n",
       "Short stay                         2264\n",
       "Not a student                      1518\n",
       "Just Enquiring                     1263\n",
       "Inadequate details                  827\n",
       "Semester stay                       817\n",
       "Booked with manager                 676\n",
       "Junk lead                           629\n",
       "Booked on campus accommodation      613\n",
       "Supply issue                        538\n",
       "No supply                           534\n",
       "Not serving in that region          411\n",
       "Repeat lead                         394\n",
       "Booked with competitor              356\n",
       "Not going to university             329\n",
       "Distance issue                      219\n",
       "Junk lead/ Just Enquiring           147\n",
       "Lead issue                          127\n",
       "Looking for admission                41\n",
       "Didn't respond in time               35\n",
       "Visa/admission denied                17\n",
       "Guarantor issue                      17\n",
       "Looking for Scholarship               8\n",
       "Looking for loan                      5\n",
       "Underage student                      4\n",
       "Cross sell                            1\n",
       "Name: lost_reason, dtype: int64"
      ]
     },
     "execution_count": 17,
     "metadata": {},
     "output_type": "execute_result"
    }
   ],
   "source": [
    "new_data.lost_reason.value_counts()"
   ]
  },
  {
   "cell_type": "code",
   "execution_count": 18,
   "metadata": {},
   "outputs": [
    {
     "data": {
      "text/plain": [
       "lost_reason\n",
       "Booked on campus accommodation      613\n",
       "Booked with competitor              356\n",
       "Booked with manager                 676\n",
       "Cross sell                            1\n",
       "Didn't respond in time               35\n",
       "Distance issue                      219\n",
       "Guarantor issue                      17\n",
       "Inadequate details                  827\n",
       "Junk lead                           629\n",
       "Junk lead/ Just Enquiring           147\n",
       "Just Enquiring                     1263\n",
       "Lead issue                          127\n",
       "Looking for Scholarship               8\n",
       "Looking for admission                41\n",
       "Looking for loan                      5\n",
       "Low availability                  11965\n",
       "Low budget                         5505\n",
       "No supply                           534\n",
       "Not a student                      1518\n",
       "Not going to university             329\n",
       "Not interested                     6449\n",
       "Not responding                     7827\n",
       "Not serving in that region          411\n",
       "Repeat lead                         394\n",
       "Semester stay                       817\n",
       "Short stay                         2264\n",
       "Supply issue                        538\n",
       "Underage student                      4\n",
       "Visa/admission denied                17\n",
       "Wants private accommodation        2781\n",
       "dtype: int64"
      ]
     },
     "execution_count": 18,
     "metadata": {},
     "output_type": "execute_result"
    }
   ],
   "source": [
    "fe = new_data.groupby(\"lost_reason\").size() ; fe "
   ]
  },
  {
   "cell_type": "code",
   "execution_count": 19,
   "metadata": {},
   "outputs": [],
   "source": [
    "fe_ = fe/len(new_data)"
   ]
  },
  {
   "cell_type": "code",
   "execution_count": 20,
   "metadata": {},
   "outputs": [
    {
     "data": {
      "text/plain": [
       "0        0.17\n",
       "1        0.12\n",
       "2        0.17\n",
       "3        0.12\n",
       "4        0.01\n",
       "         ... \n",
       "46603    0.26\n",
       "46604    0.02\n",
       "46605    0.26\n",
       "46606    0.26\n",
       "46607    0.26\n",
       "Name: lost_reason_freq, Length: 46317, dtype: float64"
      ]
     },
     "execution_count": 20,
     "metadata": {},
     "output_type": "execute_result"
    }
   ],
   "source": [
    "new_data[\"lost_reason_freq\"] = new_data[\"lost_reason\"].map(fe_).round(2)\n",
    "new_data.lost_reason_freq"
   ]
  },
  {
   "cell_type": "code",
   "execution_count": 21,
   "metadata": {},
   "outputs": [
    {
     "name": "stdout",
     "output_type": "stream",
     "text": [
      "11000\n",
      "7538\n",
      "6451\n",
      "3952\n",
      "2753\n",
      "2248\n",
      "1644\n",
      "1217\n",
      "956\n",
      "932\n",
      "840\n",
      "572\n",
      "470\n",
      "450\n",
      "275\n",
      "169\n",
      "147\n",
      "136\n",
      "90\n",
      "89\n",
      "86\n",
      "83\n",
      "81\n",
      "75\n",
      "71\n",
      "70\n",
      "67\n",
      "64\n",
      "62\n",
      "58\n",
      "54\n",
      "51\n",
      "44\n",
      "44\n",
      "36\n",
      "35\n",
      "30\n",
      "29\n",
      "26\n",
      "25\n",
      "25\n",
      "24\n",
      "24\n",
      "23\n",
      "21\n",
      "19\n",
      "19\n",
      "18\n",
      "18\n",
      "18\n",
      "18\n",
      "16\n",
      "15\n",
      "15\n",
      "15\n",
      "15\n",
      "14\n",
      "14\n",
      "13\n",
      "13\n",
      "13\n",
      "13\n",
      "13\n",
      "12\n",
      "12\n",
      "12\n",
      "12\n",
      "12\n",
      "11\n",
      "11\n",
      "11\n",
      "11\n",
      "11\n",
      "11\n",
      "10\n",
      "10\n",
      "10\n",
      "10\n",
      "9\n",
      "9\n",
      "8\n",
      "8\n",
      "7\n",
      "7\n",
      "6\n",
      "5\n",
      "5\n",
      "5\n",
      "5\n",
      "5\n",
      "5\n",
      "5\n",
      "4\n",
      "4\n",
      "4\n",
      "4\n",
      "4\n",
      "4\n",
      "4\n",
      "4\n",
      "3\n",
      "3\n",
      "3\n",
      "3\n",
      "3\n",
      "3\n",
      "3\n",
      "3\n",
      "3\n",
      "3\n",
      "3\n",
      "3\n",
      "3\n",
      "3\n",
      "3\n",
      "3\n",
      "3\n",
      "3\n",
      "3\n",
      "2\n",
      "2\n",
      "2\n",
      "2\n",
      "2\n",
      "2\n",
      "2\n",
      "2\n",
      "2\n",
      "2\n",
      "2\n",
      "2\n",
      "2\n",
      "2\n",
      "2\n",
      "2\n",
      "2\n",
      "2\n",
      "2\n",
      "2\n",
      "2\n",
      "2\n",
      "2\n",
      "2\n",
      "2\n",
      "2\n",
      "2\n",
      "2\n",
      "2\n",
      "1\n",
      "1\n",
      "1\n",
      "1\n",
      "1\n",
      "1\n",
      "1\n",
      "1\n",
      "1\n",
      "1\n",
      "1\n",
      "1\n",
      "1\n",
      "1\n",
      "1\n",
      "1\n",
      "1\n",
      "1\n",
      "1\n",
      "1\n",
      "1\n",
      "1\n",
      "1\n",
      "1\n",
      "1\n",
      "1\n",
      "1\n",
      "1\n",
      "1\n",
      "1\n",
      "1\n",
      "1\n",
      "1\n",
      "1\n",
      "1\n",
      "1\n",
      "1\n",
      "1\n",
      "1\n",
      "1\n",
      "1\n",
      "1\n",
      "1\n",
      "1\n",
      "1\n",
      "1\n",
      "1\n",
      "1\n",
      "1\n",
      "1\n",
      "1\n",
      "1\n",
      "1\n",
      "1\n",
      "1\n",
      "1\n",
      "1\n",
      "1\n",
      "1\n",
      "1\n",
      "1\n",
      "1\n",
      "1\n",
      "1\n",
      "1\n",
      "1\n",
      "1\n",
      "1\n",
      "1\n",
      "1\n",
      "1\n",
      "1\n",
      "1\n",
      "1\n",
      "1\n",
      "1\n",
      "1\n",
      "1\n",
      "1\n",
      "1\n",
      "1\n",
      "1\n",
      "1\n",
      "1\n",
      "1\n",
      "1\n",
      "1\n",
      "1\n",
      "1\n",
      "1\n",
      "1\n",
      "1\n",
      "1\n",
      "1\n",
      "1\n",
      "1\n",
      "1\n",
      "1\n",
      "1\n",
      "1\n",
      "1\n",
      "1\n",
      "1\n",
      "1\n",
      "1\n",
      "1\n",
      "1\n",
      "1\n",
      "1\n",
      "1\n",
      "1\n",
      "1\n",
      "1\n",
      "1\n",
      "1\n",
      "1\n",
      "1\n",
      "1\n",
      "1\n",
      "1\n",
      "1\n",
      "1\n",
      "1\n",
      "1\n",
      "1\n",
      "1\n",
      "1\n",
      "1\n",
      "1\n",
      "1\n",
      "1\n",
      "1\n",
      "1\n",
      "1\n",
      "1\n",
      "1\n",
      "1\n",
      "1\n",
      "1\n",
      "1\n",
      "1\n",
      "1\n",
      "1\n",
      "1\n",
      "1\n",
      "1\n",
      "1\n",
      "1\n",
      "1\n",
      "1\n",
      "1\n",
      "1\n",
      "1\n",
      "1\n",
      "1\n",
      "1\n",
      "1\n",
      "1\n",
      "1\n",
      "1\n",
      "1\n",
      "1\n",
      "1\n"
     ]
    }
   ],
   "source": [
    "for i in new_data.lease.value_counts():\n",
    "    print(i)"
   ]
  },
  {
   "cell_type": "code",
   "execution_count": 22,
   "metadata": {},
   "outputs": [],
   "source": [
    "new_data.budget.fillna(new_data.budget.mode()[0] , inplace = True)"
   ]
  },
  {
   "cell_type": "code",
   "execution_count": 23,
   "metadata": {},
   "outputs": [],
   "source": [
    "new_data.lease.fillna(new_data.lease.mode()[0] , inplace = True)"
   ]
  },
  {
   "cell_type": "code",
   "execution_count": 24,
   "metadata": {},
   "outputs": [
    {
     "data": {
      "text/plain": [
       "array([                          'NaT', '2022-08-31T00:00:00.000000000',\n",
       "       '2022-09-08T00:00:00.000000000', '2022-09-15T00:00:00.000000000',\n",
       "       '2022-09-02T00:00:00.000000000', '2022-09-04T00:00:00.000000000',\n",
       "       '2022-08-09T00:00:00.000000000', '2022-09-16T00:00:00.000000000',\n",
       "       '2022-08-30T00:00:00.000000000', '2022-09-10T00:00:00.000000000',\n",
       "       '2022-09-09T00:00:00.000000000', '2022-09-01T00:00:00.000000000',\n",
       "       '2022-09-18T00:00:00.000000000', '2022-09-06T00:00:00.000000000',\n",
       "       '2022-09-30T00:00:00.000000000', '2022-09-25T00:00:00.000000000',\n",
       "       '2022-09-29T00:00:00.000000000', '2022-09-14T00:00:00.000000000',\n",
       "       '2022-11-30T00:00:00.000000000', '2022-09-24T00:00:00.000000000',\n",
       "       '2023-07-05T00:00:00.000000000', '2023-01-07T00:00:00.000000000',\n",
       "       '2022-09-20T00:00:00.000000000', '2023-07-01T00:00:00.000000000',\n",
       "       '2022-07-16T00:00:00.000000000', '2023-09-09T00:00:00.000000000',\n",
       "       '2023-01-01T00:00:00.000000000', '2023-06-26T00:00:00.000000000',\n",
       "       '2023-08-29T00:00:00.000000000', '2022-09-12T00:00:00.000000000',\n",
       "       '2022-08-25T00:00:00.000000000', '2023-07-20T00:00:00.000000000',\n",
       "       '2022-07-31T00:00:00.000000000', '2022-10-01T00:00:00.000000000',\n",
       "       '2022-09-07T00:00:00.000000000', '2022-09-19T00:00:00.000000000',\n",
       "       '2022-09-11T00:00:00.000000000', '2022-09-03T00:00:00.000000000',\n",
       "       '2023-01-12T00:00:00.000000000', '2022-09-23T00:00:00.000000000',\n",
       "       '2022-08-29T00:00:00.000000000', '2022-07-10T00:00:00.000000000',\n",
       "       '2022-10-22T00:00:00.000000000', '2022-07-03T00:00:00.000000000',\n",
       "       '2022-07-01T00:00:00.000000000', '2022-09-05T00:00:00.000000000',\n",
       "       '2023-06-30T00:00:00.000000000', '2022-09-22T00:00:00.000000000',\n",
       "       '2023-01-05T00:00:00.000000000', '2023-01-14T00:00:00.000000000',\n",
       "       '2022-08-01T00:00:00.000000000', '2023-08-31T00:00:00.000000000',\n",
       "       '2022-07-18T00:00:00.000000000', '2022-08-02T00:00:00.000000000',\n",
       "       '2022-08-15T00:00:00.000000000', '2022-12-31T00:00:00.000000000',\n",
       "       '2022-08-20T00:00:00.000000000', '2022-08-21T00:00:00.000000000',\n",
       "       '2022-08-06T00:00:00.000000000', '2023-12-31T00:00:00.000000000',\n",
       "       '2022-08-24T00:00:00.000000000', '2023-09-14T00:00:00.000000000',\n",
       "       '2023-01-08T00:00:00.000000000', '2022-08-04T00:00:00.000000000',\n",
       "       '2023-09-13T00:00:00.000000000', '2022-09-26T00:00:00.000000000',\n",
       "       '2023-06-01T00:00:00.000000000', '2023-08-28T00:00:00.000000000',\n",
       "       '2022-09-17T00:00:00.000000000', '2022-08-19T00:00:00.000000000',\n",
       "       '2023-07-07T00:00:00.000000000', '2023-01-02T00:00:00.000000000',\n",
       "       '2022-08-10T00:00:00.000000000', '2023-09-01T00:00:00.000000000',\n",
       "       '2023-07-02T00:00:00.000000000', '2022-08-07T00:00:00.000000000',\n",
       "       '2022-08-12T00:00:00.000000000', '2022-12-01T00:00:00.000000000',\n",
       "       '2022-10-02T00:00:00.000000000', '2023-01-22T00:00:00.000000000',\n",
       "       '2023-09-10T00:00:00.000000000', '2022-09-13T00:00:00.000000000',\n",
       "       '2022-08-11T00:00:00.000000000', '2022-08-14T00:00:00.000000000',\n",
       "       '2022-09-21T00:00:00.000000000', '2024-06-28T00:00:00.000000000',\n",
       "       '2022-07-28T00:00:00.000000000', '2022-08-13T00:00:00.000000000',\n",
       "       '2022-08-17T00:00:00.000000000', '2022-07-21T00:00:00.000000000',\n",
       "       '2023-07-03T00:00:00.000000000', '2022-08-03T00:00:00.000000000',\n",
       "       '2022-08-16T00:00:00.000000000', '2022-11-05T00:00:00.000000000',\n",
       "       '2022-10-08T00:00:00.000000000', '2022-08-23T00:00:00.000000000',\n",
       "       '2022-07-30T00:00:00.000000000', '2022-07-17T00:00:00.000000000',\n",
       "       '2022-08-05T00:00:00.000000000', '2022-08-08T00:00:00.000000000',\n",
       "       '2023-07-11T00:00:00.000000000', '2023-08-22T00:00:00.000000000',\n",
       "       '2023-01-04T00:00:00.000000000', '2022-09-28T00:00:00.000000000',\n",
       "       '2022-08-26T00:00:00.000000000', '2022-10-19T00:00:00.000000000',\n",
       "       '2022-08-28T00:00:00.000000000', '2022-07-24T00:00:00.000000000',\n",
       "       '2022-08-27T00:00:00.000000000', '2023-01-09T00:00:00.000000000',\n",
       "       '2022-01-01T00:00:00.000000000', '2022-07-14T00:00:00.000000000',\n",
       "       '2022-10-10T00:00:00.000000000', '2023-01-25T00:00:00.000000000',\n",
       "       '2023-09-04T00:00:00.000000000', '2023-09-02T00:00:00.000000000',\n",
       "       '2022-10-09T00:00:00.000000000', '2023-05-31T00:00:00.000000000',\n",
       "       '2022-10-07T00:00:00.000000000', '2022-10-03T00:00:00.000000000',\n",
       "       '2023-07-14T00:00:00.000000000', '2023-04-01T00:00:00.000000000',\n",
       "       '2022-12-29T00:00:00.000000000', '2022-07-29T00:00:00.000000000',\n",
       "       '2023-08-15T00:00:00.000000000', '2023-07-13T00:00:00.000000000',\n",
       "       '2023-08-14T00:00:00.000000000', '2023-09-11T00:00:00.000000000',\n",
       "       '2022-12-14T00:00:00.000000000', '2022-08-22T00:00:00.000000000',\n",
       "       '2022-10-12T00:00:00.000000000', '2023-09-08T00:00:00.000000000',\n",
       "       '2022-11-01T00:00:00.000000000', '2023-08-16T00:00:00.000000000',\n",
       "       '2023-08-30T00:00:00.000000000', '2023-08-02T00:00:00.000000000',\n",
       "       '2023-08-18T00:00:00.000000000', '2022-10-04T00:00:00.000000000',\n",
       "       '2022-10-18T00:00:00.000000000', '2022-12-25T00:00:00.000000000',\n",
       "       '2022-07-20T00:00:00.000000000', '2023-09-29T00:00:00.000000000',\n",
       "       '2023-02-01T00:00:00.000000000', '2023-02-13T00:00:00.000000000',\n",
       "       '2022-07-13T00:00:00.000000000', '2023-01-23T00:00:00.000000000',\n",
       "       '2005-05-21T00:00:00.000000000', '2022-07-07T00:00:00.000000000',\n",
       "       '2023-01-20T00:00:00.000000000', '2022-07-09T00:00:00.000000000',\n",
       "       '2022-10-15T00:00:00.000000000', '2022-10-31T00:00:00.000000000',\n",
       "       '2022-07-15T00:00:00.000000000', '2022-07-19T00:00:00.000000000',\n",
       "       '2022-12-10T00:00:00.000000000', '2023-07-31T00:00:00.000000000',\n",
       "       '2023-02-19T00:00:00.000000000', '2022-07-22T00:00:00.000000000',\n",
       "       '2023-09-20T00:00:00.000000000', '2022-08-18T00:00:00.000000000',\n",
       "       '2022-12-19T00:00:00.000000000', '2022-07-02T00:00:00.000000000',\n",
       "       '2022-10-24T00:00:00.000000000', '2023-09-07T00:00:00.000000000',\n",
       "       '2023-07-30T00:00:00.000000000', '2022-09-27T00:00:00.000000000',\n",
       "       '2022-07-11T00:00:00.000000000', '2022-06-30T00:00:00.000000000',\n",
       "       '2022-12-23T00:00:00.000000000', '2022-07-08T00:00:00.000000000',\n",
       "       '2002-06-07T00:00:00.000000000', '2023-01-24T00:00:00.000000000',\n",
       "       '2023-04-23T00:00:00.000000000', '2023-07-09T00:00:00.000000000',\n",
       "       '2023-01-03T00:00:00.000000000', '2022-12-24T00:00:00.000000000',\n",
       "       '2023-09-19T00:00:00.000000000', '2023-03-01T00:00:00.000000000',\n",
       "       '2023-07-19T00:00:00.000000000', '2024-06-29T00:00:00.000000000',\n",
       "       '2023-01-06T00:00:00.000000000', '2023-08-12T00:00:00.000000000',\n",
       "       '2023-03-27T00:00:00.000000000', '2022-10-13T00:00:00.000000000',\n",
       "       '2023-01-19T00:00:00.000000000', '2023-01-31T00:00:00.000000000',\n",
       "       '2023-02-14T00:00:00.000000000', '2022-10-16T00:00:00.000000000',\n",
       "       '2022-07-25T00:00:00.000000000', '2023-09-30T00:00:00.000000000',\n",
       "       '2022-10-29T00:00:00.000000000', '2022-11-09T00:00:00.000000000',\n",
       "       '2022-12-15T00:00:00.000000000', '2022-11-22T00:00:00.000000000',\n",
       "       '2023-07-21T00:00:00.000000000', '2023-01-30T00:00:00.000000000',\n",
       "       '2022-07-05T00:00:00.000000000', '2023-09-27T00:00:00.000000000',\n",
       "       '2022-11-12T00:00:00.000000000', '2023-09-23T00:00:00.000000000',\n",
       "       '2023-08-26T00:00:00.000000000', '2024-01-04T00:00:00.000000000',\n",
       "       '2023-01-15T00:00:00.000000000', '2023-01-18T00:00:00.000000000',\n",
       "       '2023-09-03T00:00:00.000000000', '2022-07-06T00:00:00.000000000',\n",
       "       '2023-08-01T00:00:00.000000000', '2022-12-21T00:00:00.000000000',\n",
       "       '2023-09-25T00:00:00.000000000', '2023-09-12T00:00:00.000000000',\n",
       "       '2023-12-01T00:00:00.000000000', '2022-10-05T00:00:00.000000000',\n",
       "       '2022-10-27T00:00:00.000000000', '2022-07-26T00:00:00.000000000',\n",
       "       '2022-07-27T00:00:00.000000000', '2023-06-29T00:00:00.000000000',\n",
       "       '2023-05-22T00:00:00.000000000', '2022-12-11T00:00:00.000000000',\n",
       "       '2023-07-23T00:00:00.000000000', '2002-08-19T00:00:00.000000000',\n",
       "       '2023-08-27T00:00:00.000000000', '2023-01-21T00:00:00.000000000',\n",
       "       '2023-07-12T00:00:00.000000000', '2023-09-26T00:00:00.000000000',\n",
       "       '2023-01-29T00:00:00.000000000', '2022-10-14T00:00:00.000000000',\n",
       "       '2023-08-20T00:00:00.000000000', '2023-09-15T00:00:00.000000000',\n",
       "       '2022-11-03T00:00:00.000000000', '2022-07-23T00:00:00.000000000',\n",
       "       '2023-01-11T00:00:00.000000000', '2022-05-04T00:00:00.000000000',\n",
       "       '2023-06-17T00:00:00.000000000', '2024-06-19T00:00:00.000000000',\n",
       "       '2022-10-30T00:00:00.000000000', '2023-09-16T00:00:00.000000000',\n",
       "       '2023-08-09T00:00:00.000000000', '2023-10-09T00:00:00.000000000',\n",
       "       '2022-12-30T00:00:00.000000000', '2023-07-15T00:00:00.000000000',\n",
       "       '2023-08-25T00:00:00.000000000', '2022-11-25T00:00:00.000000000',\n",
       "       '2023-02-25T00:00:00.000000000', '2023-08-21T00:00:00.000000000',\n",
       "       '2023-09-28T00:00:00.000000000', '2023-11-30T00:00:00.000000000',\n",
       "       '2022-07-04T00:00:00.000000000', '2022-11-06T00:00:00.000000000',\n",
       "       '2022-10-06T00:00:00.000000000', '2023-09-21T00:00:00.000000000',\n",
       "       '2023-07-26T00:00:00.000000000', '2023-01-16T00:00:00.000000000',\n",
       "       '2023-01-26T00:00:00.000000000', '2022-12-09T00:00:00.000000000',\n",
       "       '2023-06-24T00:00:00.000000000', '2023-08-19T00:00:00.000000000',\n",
       "       '2023-03-10T00:00:00.000000000', '2023-01-10T00:00:00.000000000',\n",
       "       '2023-04-30T00:00:00.000000000', '2023-07-28T00:00:00.000000000',\n",
       "       '2023-09-18T00:00:00.000000000', '2023-12-13T00:00:00.000000000',\n",
       "       '2023-02-16T00:00:00.000000000', '2024-05-31T00:00:00.000000000',\n",
       "       '2023-08-13T00:00:00.000000000', '2022-12-17T00:00:00.000000000',\n",
       "       '2024-01-30T00:00:00.000000000', '2022-12-02T00:00:00.000000000',\n",
       "       '2022-12-27T00:00:00.000000000', '2022-12-22T00:00:00.000000000',\n",
       "       '2023-08-24T00:00:00.000000000', '2023-09-06T00:00:00.000000000',\n",
       "       '2023-05-09T00:00:00.000000000', '2022-07-12T00:00:00.000000000',\n",
       "       '2023-01-13T00:00:00.000000000', '2023-07-18T00:00:00.000000000',\n",
       "       '2023-08-06T00:00:00.000000000', '2022-01-09T00:00:00.000000000',\n",
       "       '2022-10-28T00:00:00.000000000', '2024-06-10T00:00:00.000000000',\n",
       "       '2023-07-10T00:00:00.000000000', '2023-08-04T00:00:00.000000000',\n",
       "       '2022-11-18T00:00:00.000000000', '2023-07-22T00:00:00.000000000',\n",
       "       '2023-07-29T00:00:00.000000000', '2023-07-08T00:00:00.000000000',\n",
       "       '2023-09-17T00:00:00.000000000', '2024-06-04T00:00:00.000000000',\n",
       "       '2023-07-04T00:00:00.000000000', '2023-06-15T00:00:00.000000000',\n",
       "       '2023-09-22T00:00:00.000000000', '2023-07-06T00:00:00.000000000',\n",
       "       '2022-12-28T00:00:00.000000000', '2022-01-10T00:00:00.000000000',\n",
       "       '2023-03-30T00:00:00.000000000', '2023-06-20T00:00:00.000000000',\n",
       "       '2022-05-09T00:00:00.000000000', '2023-09-05T00:00:00.000000000',\n",
       "       '2023-08-03T00:00:00.000000000', '2024-01-01T00:00:00.000000000',\n",
       "       '2023-03-31T00:00:00.000000000', '2003-12-05T00:00:00.000000000',\n",
       "       '2023-08-17T00:00:00.000000000', '2023-07-17T00:00:00.000000000',\n",
       "       '2022-10-20T00:00:00.000000000', '2022-11-29T00:00:00.000000000',\n",
       "       '2021-07-14T00:00:00.000000000', '2023-02-03T00:00:00.000000000',\n",
       "       '2022-12-12T00:00:00.000000000', '2002-01-07T00:00:00.000000000',\n",
       "       '2022-01-23T00:00:00.000000000', '2023-08-08T00:00:00.000000000',\n",
       "       '2023-09-24T00:00:00.000000000', '2023-05-05T00:00:00.000000000',\n",
       "       '2022-01-11T00:00:00.000000000', '2023-07-27T00:00:00.000000000',\n",
       "       '2022-11-04T00:00:00.000000000', '2023-08-11T00:00:00.000000000',\n",
       "       '2023-08-23T00:00:00.000000000', '2022-12-13T00:00:00.000000000',\n",
       "       '2022-11-14T00:00:00.000000000', '2023-02-28T00:00:00.000000000',\n",
       "       '2023-11-14T00:00:00.000000000', '1970-01-01T00:00:00.000000000',\n",
       "       '2023-08-07T00:00:00.000000000', '2022-10-25T00:00:00.000000000',\n",
       "       '2022-12-04T00:00:00.000000000', '2021-09-09T00:00:00.000000000',\n",
       "       '2022-12-03T00:00:00.000000000', '2023-10-15T00:00:00.000000000',\n",
       "       '2004-06-12T00:00:00.000000000', '2023-01-17T00:00:00.000000000',\n",
       "       '2024-02-29T00:00:00.000000000', '2022-12-06T00:00:00.000000000',\n",
       "       '2024-06-12T00:00:00.000000000', '2022-12-16T00:00:00.000000000',\n",
       "       '2022-11-15T00:00:00.000000000', '2023-06-22T00:00:00.000000000',\n",
       "       '2022-11-07T00:00:00.000000000', '2006-09-06T00:00:00.000000000',\n",
       "       '2024-01-05T00:00:00.000000000', '2024-01-14T00:00:00.000000000',\n",
       "       '2023-06-10T00:00:00.000000000', '2023-06-05T00:00:00.000000000',\n",
       "       '2022-11-21T00:00:00.000000000', '2023-04-26T00:00:00.000000000',\n",
       "       '2022-10-11T00:00:00.000000000', '2023-05-30T00:00:00.000000000',\n",
       "       '2023-08-10T00:00:00.000000000', '2006-10-21T00:00:00.000000000',\n",
       "       '2022-12-20T00:00:00.000000000', '2022-11-20T00:00:00.000000000',\n",
       "       '2023-06-04T00:00:00.000000000', '2022-02-01T00:00:00.000000000',\n",
       "       '2023-02-07T00:00:00.000000000', '2022-11-08T00:00:00.000000000',\n",
       "       '2023-04-02T00:00:00.000000000', '2023-10-20T00:00:00.000000000',\n",
       "       '2022-11-19T00:00:00.000000000', '2023-02-05T00:00:00.000000000',\n",
       "       '2023-05-01T00:00:00.000000000', '2024-06-15T00:00:00.000000000',\n",
       "       '2023-03-03T00:00:00.000000000', '2023-04-12T00:00:00.000000000',\n",
       "       '2023-10-19T00:00:00.000000000', '2024-06-23T00:00:00.000000000',\n",
       "       '2020-09-05T00:00:00.000000000', '2023-05-28T00:00:00.000000000',\n",
       "       '2024-06-13T00:00:00.000000000', '2022-01-05T00:00:00.000000000',\n",
       "       '2023-11-03T00:00:00.000000000', '2022-12-07T00:00:00.000000000',\n",
       "       '2021-08-28T00:00:00.000000000', '2021-09-11T00:00:00.000000000',\n",
       "       '2022-10-17T00:00:00.000000000', '2024-08-18T00:00:00.000000000',\n",
       "       '2020-09-01T00:00:00.000000000', '2023-07-16T00:00:00.000000000',\n",
       "       '2023-03-06T00:00:00.000000000', '2024-09-04T00:00:00.000000000',\n",
       "       '2021-09-04T00:00:00.000000000', '2021-08-20T00:00:00.000000000',\n",
       "       '2022-11-10T00:00:00.000000000', '2023-12-15T00:00:00.000000000',\n",
       "       '2021-09-02T00:00:00.000000000', '2022-12-08T00:00:00.000000000',\n",
       "       '2023-04-17T00:00:00.000000000', '2021-01-02T00:00:00.000000000',\n",
       "       '2023-02-11T00:00:00.000000000', '2023-02-04T00:00:00.000000000',\n",
       "       '2022-02-05T00:00:00.000000000', '2022-06-01T00:00:00.000000000',\n",
       "       '2020-08-29T00:00:00.000000000', '2024-04-30T00:00:00.000000000',\n",
       "       '2022-12-26T00:00:00.000000000', '2022-11-24T00:00:00.000000000',\n",
       "       '2022-01-25T00:00:00.000000000', '2022-11-27T00:00:00.000000000',\n",
       "       '2023-05-17T00:00:00.000000000', '2023-03-05T00:00:00.000000000',\n",
       "       '2021-01-23T00:00:00.000000000', '2021-01-09T00:00:00.000000000',\n",
       "       '2022-01-26T00:00:00.000000000', '2022-11-16T00:00:00.000000000',\n",
       "       '2023-02-06T00:00:00.000000000', '2021-12-13T00:00:00.000000000',\n",
       "       '2022-11-26T00:00:00.000000000', '2020-09-12T00:00:00.000000000',\n",
       "       '2023-04-04T00:00:00.000000000', '2023-10-31T00:00:00.000000000',\n",
       "       '2023-06-02T00:00:00.000000000', '2022-11-02T00:00:00.000000000',\n",
       "       '2022-02-09T00:00:00.000000000', '2021-09-18T00:00:00.000000000',\n",
       "       '2021-10-01T00:00:00.000000000', '2002-01-01T00:00:00.000000000',\n",
       "       '2023-10-01T00:00:00.000000000', '2023-02-10T00:00:00.000000000',\n",
       "       '2023-11-01T00:00:00.000000000', '2020-09-18T00:00:00.000000000',\n",
       "       '2004-10-22T00:00:00.000000000', '2022-10-23T00:00:00.000000000',\n",
       "       '2022-06-05T00:00:00.000000000', '2022-12-05T00:00:00.000000000',\n",
       "       '2022-12-18T00:00:00.000000000', '2021-08-27T00:00:00.000000000',\n",
       "       '2021-11-27T00:00:00.000000000', '2023-07-24T00:00:00.000000000',\n",
       "       '2023-10-25T00:00:00.000000000', '2021-01-30T00:00:00.000000000',\n",
       "       '2022-01-17T00:00:00.000000000', '2022-02-07T00:00:00.000000000',\n",
       "       '2022-11-23T00:00:00.000000000', '2023-02-22T00:00:00.000000000',\n",
       "       '2023-07-25T00:00:00.000000000', '2021-01-22T00:00:00.000000000',\n",
       "       '2023-08-05T00:00:00.000000000', '2012-02-08T00:00:00.000000000',\n",
       "       '2022-02-15T00:00:00.000000000', '2022-06-26T00:00:00.000000000',\n",
       "       '2022-06-24T00:00:00.000000000', '2021-05-29T00:00:00.000000000',\n",
       "       '2022-11-17T00:00:00.000000000', '2023-06-07T00:00:00.000000000',\n",
       "       '2023-06-19T00:00:00.000000000', '2024-06-01T00:00:00.000000000',\n",
       "       '2023-05-15T00:00:00.000000000', '2021-09-12T00:00:00.000000000',\n",
       "       '2023-02-12T00:00:00.000000000', '2022-10-26T00:00:00.000000000',\n",
       "       '2023-12-29T00:00:00.000000000', '2021-09-16T00:00:00.000000000',\n",
       "       '2021-09-03T00:00:00.000000000', '2010-01-01T00:00:00.000000000',\n",
       "       '2024-02-15T00:00:00.000000000', '2023-01-27T00:00:00.000000000',\n",
       "       '2023-03-20T00:00:00.000000000', '2023-01-28T00:00:00.000000000',\n",
       "       '2022-03-15T00:00:00.000000000', '2022-02-26T00:00:00.000000000',\n",
       "       '2024-08-19T00:00:00.000000000', '2022-01-30T00:00:00.000000000',\n",
       "       '2023-04-10T00:00:00.000000000', '2023-06-16T00:00:00.000000000',\n",
       "       '2023-05-03T00:00:00.000000000', '1999-02-14T00:00:00.000000000',\n",
       "       '2021-07-03T00:00:00.000000000', '2022-01-07T00:00:00.000000000',\n",
       "       '2023-12-27T00:00:00.000000000', '2023-06-06T00:00:00.000000000'],\n",
       "      dtype='datetime64[ns]')"
      ]
     },
     "execution_count": 24,
     "metadata": {},
     "output_type": "execute_result"
    }
   ],
   "source": [
    "new_data.movein.unique()"
   ]
  },
  {
   "cell_type": "code",
   "execution_count": 25,
   "metadata": {},
   "outputs": [
    {
     "data": {
      "text/plain": [
       "Timestamp('2022-09-10 00:00:00')"
      ]
     },
     "execution_count": 25,
     "metadata": {},
     "output_type": "execute_result"
    }
   ],
   "source": [
    "new_data['movein'].mode()[0]"
   ]
  },
  {
   "cell_type": "code",
   "execution_count": 26,
   "metadata": {},
   "outputs": [],
   "source": [
    "new_data['movein'].fillna(datetime.datetime(2022, 9, 10) , inplace = True)\n"
   ]
  },
  {
   "cell_type": "code",
   "execution_count": 27,
   "metadata": {},
   "outputs": [
    {
     "data": {
      "text/plain": [
       "status              0\n",
       "lost_reason         0\n",
       "budget              0\n",
       "lease               0\n",
       "movein              0\n",
       "source              0\n",
       "source_city         0\n",
       "source_country      0\n",
       "utm_source          0\n",
       "utm_medium          0\n",
       "des_city            0\n",
       "des_country         0\n",
       "lead_id             0\n",
       "lost_reason_freq    0\n",
       "dtype: int64"
      ]
     },
     "execution_count": 27,
     "metadata": {},
     "output_type": "execute_result"
    }
   ],
   "source": [
    "new_data.isna().sum()"
   ]
  },
  {
   "cell_type": "code",
   "execution_count": 28,
   "metadata": {},
   "outputs": [],
   "source": [
    "new_data.lease = new_data.lease.astype(str)\n",
    "new_data.lease = new_data.movein.astype(str)"
   ]
  },
  {
   "cell_type": "code",
   "execution_count": 29,
   "metadata": {},
   "outputs": [],
   "source": [
    "l = [\"budget\" , \"lease\" , \"movein\"]\n",
    "for i in l:\n",
    "    fe = new_data.groupby(i).size()\n",
    "    fe_ = fe/len(new_data)\n",
    "    new_data[i + \"_freq\"] = new_data[i].map(fe_).round(2)\n",
    "    "
   ]
  },
  {
   "cell_type": "code",
   "execution_count": 30,
   "metadata": {},
   "outputs": [
    {
     "data": {
      "text/html": [
       "<div>\n",
       "<style scoped>\n",
       "    .dataframe tbody tr th:only-of-type {\n",
       "        vertical-align: middle;\n",
       "    }\n",
       "\n",
       "    .dataframe tbody tr th {\n",
       "        vertical-align: top;\n",
       "    }\n",
       "\n",
       "    .dataframe thead th {\n",
       "        text-align: right;\n",
       "    }\n",
       "</style>\n",
       "<table border=\"1\" class=\"dataframe\">\n",
       "  <thead>\n",
       "    <tr style=\"text-align: right;\">\n",
       "      <th></th>\n",
       "      <th>status</th>\n",
       "      <th>lost_reason</th>\n",
       "      <th>budget</th>\n",
       "      <th>lease</th>\n",
       "      <th>movein</th>\n",
       "      <th>source</th>\n",
       "      <th>source_city</th>\n",
       "      <th>source_country</th>\n",
       "      <th>utm_source</th>\n",
       "      <th>utm_medium</th>\n",
       "      <th>des_city</th>\n",
       "      <th>des_country</th>\n",
       "      <th>lead_id</th>\n",
       "      <th>lost_reason_freq</th>\n",
       "      <th>budget_freq</th>\n",
       "      <th>lease_freq</th>\n",
       "      <th>movein_freq</th>\n",
       "    </tr>\n",
       "  </thead>\n",
       "  <tbody>\n",
       "    <tr>\n",
       "      <th>0</th>\n",
       "      <td>LOST</td>\n",
       "      <td>Not responding</td>\n",
       "      <td>£60 - £120 Per week</td>\n",
       "      <td>2022-09-10</td>\n",
       "      <td>2022-09-10</td>\n",
       "      <td>9b2d5b4678781e53038e91ea5324530a03f27dc1d0e5f6...</td>\n",
       "      <td>9b2d5b4678781e53038e91ea5324530a03f27dc1d0e5f6...</td>\n",
       "      <td>9b2d5b4678781e53038e91ea5324530a03f27dc1d0e5f6...</td>\n",
       "      <td>3d59f7548e1af2151b64135003ce63c0a484c26b9b8b16...</td>\n",
       "      <td>268ad70eb5bc4737a2ae28162cbca30118cc94520e49ef...</td>\n",
       "      <td>ecc0e7dc084f141b29479058967d0bc07dee25d9690a98...</td>\n",
       "      <td>8d23a6e37e0a6431a8f1b43a91026dcff51170a89a6512...</td>\n",
       "      <td>cd5dc0d9393f3980d11d4ba6f88f8110c2b7a7f7796307...</td>\n",
       "      <td>0.17</td>\n",
       "      <td>0.29</td>\n",
       "      <td>0.35</td>\n",
       "      <td>0.35</td>\n",
       "    </tr>\n",
       "    <tr>\n",
       "      <th>1</th>\n",
       "      <td>LOST</td>\n",
       "      <td>Low budget</td>\n",
       "      <td>£60 - £120 Per week</td>\n",
       "      <td>2022-09-10</td>\n",
       "      <td>2022-09-10</td>\n",
       "      <td>9b2d5b4678781e53038e91ea5324530a03f27dc1d0e5f6...</td>\n",
       "      <td>9b2d5b4678781e53038e91ea5324530a03f27dc1d0e5f6...</td>\n",
       "      <td>9b2d5b4678781e53038e91ea5324530a03f27dc1d0e5f6...</td>\n",
       "      <td>3d59f7548e1af2151b64135003ce63c0a484c26b9b8b16...</td>\n",
       "      <td>268ad70eb5bc4737a2ae28162cbca30118cc94520e49ef...</td>\n",
       "      <td>5372372f3bf5896820cb2819300c3e681820d82c6efc54...</td>\n",
       "      <td>8d23a6e37e0a6431a8f1b43a91026dcff51170a89a6512...</td>\n",
       "      <td>b94693673a5f7178d1b114e4004ad52377d3244dd24a3d...</td>\n",
       "      <td>0.12</td>\n",
       "      <td>0.29</td>\n",
       "      <td>0.35</td>\n",
       "      <td>0.35</td>\n",
       "    </tr>\n",
       "    <tr>\n",
       "      <th>2</th>\n",
       "      <td>LOST</td>\n",
       "      <td>Not responding</td>\n",
       "      <td>£121 - £180 Per Week</td>\n",
       "      <td>2022-08-31</td>\n",
       "      <td>2022-08-31</td>\n",
       "      <td>7aae3e886e89fc1187a5c47d6cea1c22998ee610ade1f2...</td>\n",
       "      <td>9b8cc3c63cdf447e463c11544924bf027945cbd29675f7...</td>\n",
       "      <td>e09e10e67812e9d236ad900e5d46b4308fc62f5d69446a...</td>\n",
       "      <td>bbdefa2950f49882f295b1285d4fa9dec45fc4144bfb07...</td>\n",
       "      <td>09076eb7665d1fb9389c7c4517fee0b00e43092eb34821...</td>\n",
       "      <td>11ab03a1a8c367191355c152f39fe28cae5e426fce49ef...</td>\n",
       "      <td>8d23a6e37e0a6431a8f1b43a91026dcff51170a89a6512...</td>\n",
       "      <td>96ea4e2bf04496c044745938c0299c264c3f4ba079e572...</td>\n",
       "      <td>0.17</td>\n",
       "      <td>0.19</td>\n",
       "      <td>0.05</td>\n",
       "      <td>0.05</td>\n",
       "    </tr>\n",
       "    <tr>\n",
       "      <th>3</th>\n",
       "      <td>LOST</td>\n",
       "      <td>Low budget</td>\n",
       "      <td>0-0</td>\n",
       "      <td>2022-09-10</td>\n",
       "      <td>2022-09-10</td>\n",
       "      <td>ba2d0a29556ac20f86f45e4543c0825428cba33fd7a9ea...</td>\n",
       "      <td>a5f0d2d08eb0592087e3a3a2f9c1ba2c67cc30f2efd2bd...</td>\n",
       "      <td>e09e10e67812e9d236ad900e5d46b4308fc62f5d69446a...</td>\n",
       "      <td>bbdefa2950f49882f295b1285d4fa9dec45fc4144bfb07...</td>\n",
       "      <td>09076eb7665d1fb9389c7c4517fee0b00e43092eb34821...</td>\n",
       "      <td>19372fa44c57a01c37a5a8418779ca3d99b0b59731fb35...</td>\n",
       "      <td>8d23a6e37e0a6431a8f1b43a91026dcff51170a89a6512...</td>\n",
       "      <td>1d2b34d8add02a182a4129023766ca4585a8ddced0e5b3...</td>\n",
       "      <td>0.12</td>\n",
       "      <td>0.12</td>\n",
       "      <td>0.35</td>\n",
       "      <td>0.35</td>\n",
       "    </tr>\n",
       "    <tr>\n",
       "      <th>4</th>\n",
       "      <td>LOST</td>\n",
       "      <td>Junk lead</td>\n",
       "      <td>£60 - £120 Per week</td>\n",
       "      <td>2022-09-10</td>\n",
       "      <td>2022-09-10</td>\n",
       "      <td>9b2d5b4678781e53038e91ea5324530a03f27dc1d0e5f6...</td>\n",
       "      <td>9b2d5b4678781e53038e91ea5324530a03f27dc1d0e5f6...</td>\n",
       "      <td>9b2d5b4678781e53038e91ea5324530a03f27dc1d0e5f6...</td>\n",
       "      <td>3d59f7548e1af2151b64135003ce63c0a484c26b9b8b16...</td>\n",
       "      <td>268ad70eb5bc4737a2ae28162cbca30118cc94520e49ef...</td>\n",
       "      <td>9b2d5b4678781e53038e91ea5324530a03f27dc1d0e5f6...</td>\n",
       "      <td>9b2d5b4678781e53038e91ea5324530a03f27dc1d0e5f6...</td>\n",
       "      <td>fc10fffd29cfbe93c55158fb47752a7501c211d253468c...</td>\n",
       "      <td>0.01</td>\n",
       "      <td>0.29</td>\n",
       "      <td>0.35</td>\n",
       "      <td>0.35</td>\n",
       "    </tr>\n",
       "  </tbody>\n",
       "</table>\n",
       "</div>"
      ],
      "text/plain": [
       "  status     lost_reason                budget       lease     movein  \\\n",
       "0   LOST  Not responding   £60 - £120 Per week  2022-09-10 2022-09-10   \n",
       "1   LOST      Low budget   £60 - £120 Per week  2022-09-10 2022-09-10   \n",
       "2   LOST  Not responding  £121 - £180 Per Week  2022-08-31 2022-08-31   \n",
       "3   LOST      Low budget                   0-0  2022-09-10 2022-09-10   \n",
       "4   LOST       Junk lead   £60 - £120 Per week  2022-09-10 2022-09-10   \n",
       "\n",
       "                                              source  \\\n",
       "0  9b2d5b4678781e53038e91ea5324530a03f27dc1d0e5f6...   \n",
       "1  9b2d5b4678781e53038e91ea5324530a03f27dc1d0e5f6...   \n",
       "2  7aae3e886e89fc1187a5c47d6cea1c22998ee610ade1f2...   \n",
       "3  ba2d0a29556ac20f86f45e4543c0825428cba33fd7a9ea...   \n",
       "4  9b2d5b4678781e53038e91ea5324530a03f27dc1d0e5f6...   \n",
       "\n",
       "                                         source_city  \\\n",
       "0  9b2d5b4678781e53038e91ea5324530a03f27dc1d0e5f6...   \n",
       "1  9b2d5b4678781e53038e91ea5324530a03f27dc1d0e5f6...   \n",
       "2  9b8cc3c63cdf447e463c11544924bf027945cbd29675f7...   \n",
       "3  a5f0d2d08eb0592087e3a3a2f9c1ba2c67cc30f2efd2bd...   \n",
       "4  9b2d5b4678781e53038e91ea5324530a03f27dc1d0e5f6...   \n",
       "\n",
       "                                      source_country  \\\n",
       "0  9b2d5b4678781e53038e91ea5324530a03f27dc1d0e5f6...   \n",
       "1  9b2d5b4678781e53038e91ea5324530a03f27dc1d0e5f6...   \n",
       "2  e09e10e67812e9d236ad900e5d46b4308fc62f5d69446a...   \n",
       "3  e09e10e67812e9d236ad900e5d46b4308fc62f5d69446a...   \n",
       "4  9b2d5b4678781e53038e91ea5324530a03f27dc1d0e5f6...   \n",
       "\n",
       "                                          utm_source  \\\n",
       "0  3d59f7548e1af2151b64135003ce63c0a484c26b9b8b16...   \n",
       "1  3d59f7548e1af2151b64135003ce63c0a484c26b9b8b16...   \n",
       "2  bbdefa2950f49882f295b1285d4fa9dec45fc4144bfb07...   \n",
       "3  bbdefa2950f49882f295b1285d4fa9dec45fc4144bfb07...   \n",
       "4  3d59f7548e1af2151b64135003ce63c0a484c26b9b8b16...   \n",
       "\n",
       "                                          utm_medium  \\\n",
       "0  268ad70eb5bc4737a2ae28162cbca30118cc94520e49ef...   \n",
       "1  268ad70eb5bc4737a2ae28162cbca30118cc94520e49ef...   \n",
       "2  09076eb7665d1fb9389c7c4517fee0b00e43092eb34821...   \n",
       "3  09076eb7665d1fb9389c7c4517fee0b00e43092eb34821...   \n",
       "4  268ad70eb5bc4737a2ae28162cbca30118cc94520e49ef...   \n",
       "\n",
       "                                            des_city  \\\n",
       "0  ecc0e7dc084f141b29479058967d0bc07dee25d9690a98...   \n",
       "1  5372372f3bf5896820cb2819300c3e681820d82c6efc54...   \n",
       "2  11ab03a1a8c367191355c152f39fe28cae5e426fce49ef...   \n",
       "3  19372fa44c57a01c37a5a8418779ca3d99b0b59731fb35...   \n",
       "4  9b2d5b4678781e53038e91ea5324530a03f27dc1d0e5f6...   \n",
       "\n",
       "                                         des_country  \\\n",
       "0  8d23a6e37e0a6431a8f1b43a91026dcff51170a89a6512...   \n",
       "1  8d23a6e37e0a6431a8f1b43a91026dcff51170a89a6512...   \n",
       "2  8d23a6e37e0a6431a8f1b43a91026dcff51170a89a6512...   \n",
       "3  8d23a6e37e0a6431a8f1b43a91026dcff51170a89a6512...   \n",
       "4  9b2d5b4678781e53038e91ea5324530a03f27dc1d0e5f6...   \n",
       "\n",
       "                                             lead_id  lost_reason_freq  \\\n",
       "0  cd5dc0d9393f3980d11d4ba6f88f8110c2b7a7f7796307...              0.17   \n",
       "1  b94693673a5f7178d1b114e4004ad52377d3244dd24a3d...              0.12   \n",
       "2  96ea4e2bf04496c044745938c0299c264c3f4ba079e572...              0.17   \n",
       "3  1d2b34d8add02a182a4129023766ca4585a8ddced0e5b3...              0.12   \n",
       "4  fc10fffd29cfbe93c55158fb47752a7501c211d253468c...              0.01   \n",
       "\n",
       "   budget_freq  lease_freq  movein_freq  \n",
       "0         0.29        0.35         0.35  \n",
       "1         0.29        0.35         0.35  \n",
       "2         0.19        0.05         0.05  \n",
       "3         0.12        0.35         0.35  \n",
       "4         0.29        0.35         0.35  "
      ]
     },
     "execution_count": 30,
     "metadata": {},
     "output_type": "execute_result"
    }
   ],
   "source": [
    "new_data.head()"
   ]
  },
  {
   "cell_type": "code",
   "execution_count": 31,
   "metadata": {},
   "outputs": [
    {
     "data": {
      "text/plain": [
       "7aae3e886e89fc1187a5c47d6cea1c22998ee610ade1f2b7c51be879f0c37ca8    19092\n",
       "9b2d5b4678781e53038e91ea5324530a03f27dc1d0e5f6c9bc9d493a23be9de0     5951\n",
       "7bcfca0e9d73371699b0adbf1c691e02108fa64f02f4dbe24a0217f139a9b916     3794\n",
       "ba2d0a29556ac20f86f45e4543c0825428cba33fd7a9eaa29e3f169d2ca43b2b     3586\n",
       "146fb4ecbe78caa24102bbaac12e2559a8c8e32fb116d36e3553a709fce40549     2210\n",
       "                                                                    ...  \n",
       "6a60107e3532ad81fc9a5b81e8c6ebc09776c62d2c31be9c921d0273f491166d        1\n",
       "eb77035a1aec7874c4294ba3a72068110c630add1884e7df94be3f5e80e107ea        1\n",
       "e7f73ae35fb85dba0110642f19c4f6aaa1c2e6498694506b262306b543c77f41        1\n",
       "ffda956ad9e38c62bf6218b66a7f53be79adbcc876aeed4147dfcf1a33d004c7        1\n",
       "93bee3e177d17c128e6a6af7b88fd675d7ec729b1a88ae13c582248dfd702378        1\n",
       "Name: source, Length: 683, dtype: int64"
      ]
     },
     "execution_count": 31,
     "metadata": {},
     "output_type": "execute_result"
    }
   ],
   "source": [
    "new_data.source.value_counts()"
   ]
  },
  {
   "cell_type": "code",
   "execution_count": 32,
   "metadata": {},
   "outputs": [],
   "source": [
    "for i in new_data.source:\n",
    "    if i == '9b2d5b4678781e53038e91ea5324530a03f27dc1d0e5f6c9bc9d493a23be9de0':\n",
    "        i = new_data.source.replace(i , new_data.source.mode()[0] , inplace = True)"
   ]
  },
  {
   "cell_type": "code",
   "execution_count": 33,
   "metadata": {},
   "outputs": [
    {
     "name": "stdout",
     "output_type": "stream",
     "text": [
      "8831\n"
     ]
    }
   ],
   "source": [
    "r = []\n",
    "for i in new_data.source_city:\n",
    "    if i == '9b2d5b4678781e53038e91ea5324530a03f27dc1d0e5f6c9bc9d493a23be9de0':\n",
    "        r.append(i)\n",
    "print(len(r))"
   ]
  },
  {
   "cell_type": "code",
   "execution_count": 34,
   "metadata": {},
   "outputs": [
    {
     "data": {
      "text/plain": [
       "'9b2d5b4678781e53038e91ea5324530a03f27dc1d0e5f6c9bc9d493a23be9de0'"
      ]
     },
     "execution_count": 34,
     "metadata": {},
     "output_type": "execute_result"
    }
   ],
   "source": [
    "new_data.source_city.mode()[0]"
   ]
  },
  {
   "cell_type": "code",
   "execution_count": 35,
   "metadata": {},
   "outputs": [
    {
     "data": {
      "text/plain": [
       "9b2d5b4678781e53038e91ea5324530a03f27dc1d0e5f6c9bc9d493a23be9de0    8831\n",
       "ecc0e7dc084f141b29479058967d0bc07dee25d9690a98ee4e6fdad5168274d7    3020\n",
       "b384863fa1f6e091164b74219726eee0b9dd47776b91a4dc71fd0516630d21ec    1431\n",
       "9f2ba6981e36ea0fca6c16f42e6413d788d2a7499b8b7f418c5d76f12d191f02     854\n",
       "7d1550b844ff586a6023216c06263105eed0a849a2a1f69bb8862ab288d8cdab     752\n",
       "                                                                    ... \n",
       "67e6f8c1f6f47e01ab6fe1cbbc3d4115d71f63c6ebf82a8713a6ac04a5b5236c       1\n",
       "c2cedb3b32de2ae419a258d76f4fa82ee302441fbae041acf9a13770dfa18eb0       1\n",
       "e2f36920bce1be5e4c94b165dcbd09cf454f5990d8869c5cc483e0723e34595c       1\n",
       "06065eeea31a9f7eeaf11e335f9a6a67235fc40f12d50b06b84fcbcb5ed70dd2       1\n",
       "d650065b53c2284b98e575d37e1be820599bf33baff5e147770547a984975d2f       1\n",
       "Name: source_city, Length: 4316, dtype: int64"
      ]
     },
     "execution_count": 35,
     "metadata": {},
     "output_type": "execute_result"
    }
   ],
   "source": [
    "new_data.source_city.value_counts()"
   ]
  },
  {
   "cell_type": "code",
   "execution_count": 36,
   "metadata": {},
   "outputs": [],
   "source": [
    "idx = []\n",
    "for i in new_data[new_data.source_city == \"9b2d5b4678781e53038e91ea5324530a03f27dc1d0e5f6c9bc9d493a23be9de0\"].index:\n",
    "    idx.append(i)"
   ]
  },
  {
   "cell_type": "code",
   "execution_count": 37,
   "metadata": {},
   "outputs": [
    {
     "data": {
      "text/plain": [
       "8831"
      ]
     },
     "execution_count": 37,
     "metadata": {},
     "output_type": "execute_result"
    }
   ],
   "source": [
    "len(idx)"
   ]
  },
  {
   "cell_type": "code",
   "execution_count": 38,
   "metadata": {},
   "outputs": [],
   "source": [
    "new_data.drop(idx , axis =0 , inplace = True)"
   ]
  },
  {
   "cell_type": "code",
   "execution_count": 39,
   "metadata": {},
   "outputs": [
    {
     "data": {
      "text/plain": [
       "(37486, 17)"
      ]
     },
     "execution_count": 39,
     "metadata": {},
     "output_type": "execute_result"
    }
   ],
   "source": [
    "new_data.shape"
   ]
  },
  {
   "cell_type": "code",
   "execution_count": 40,
   "metadata": {},
   "outputs": [
    {
     "data": {
      "text/plain": [
       "8831"
      ]
     },
     "execution_count": 40,
     "metadata": {},
     "output_type": "execute_result"
    }
   ],
   "source": [
    "46317-37486"
   ]
  },
  {
   "cell_type": "code",
   "execution_count": 41,
   "metadata": {},
   "outputs": [
    {
     "data": {
      "text/plain": [
       "96ea4e2bf04496c044745938c0299c264c3f4ba079e57267aab3e807e1008861    2\n",
       "d2f8f193b0627e085e5dc8bd7ef00dc22e3137c92a2ecb4dc4beec91cb80a501    2\n",
       "383ca95b7e3db24fb86364986a44e1e64a52ee19e426650aeea3ea08138106a3    2\n",
       "a56ac591138054b474d0269867794c485a31198595805f249447fe7bc42126d4    2\n",
       "1adc7bb38b174380614be6836fa1718c611f51fee15888406454e0145c9b1671    2\n",
       "                                                                   ..\n",
       "a8f1745614fac728927a0bd7241bd185039de7995cea5568dc1d6b6c8f8a0b5f    1\n",
       "fc7099c9185940c71d6945f6835c9511da88e9bed47faa62a1fdaadaf6627b54    1\n",
       "4ea5d26c3c8261b910673d41e98b0713f6bc5ada343b137522f68ae4f86249ed    1\n",
       "7b35ed97455cb4a467a247d778c9dbe80a42973355f4d21b546662a2de9d9d22    1\n",
       "7520a8abba2b44d7f37c0ddbe5f7f3d87540b2b7a670e9835c26f93767275d29    1\n",
       "Name: lead_id, Length: 26686, dtype: int64"
      ]
     },
     "execution_count": 41,
     "metadata": {},
     "output_type": "execute_result"
    }
   ],
   "source": [
    "new_data.lead_id.value_counts()"
   ]
  },
  {
   "cell_type": "code",
   "execution_count": 42,
   "metadata": {},
   "outputs": [],
   "source": [
    "for i in new_data.source_country:\n",
    "    if i == '9b2d5b4678781e53038e91ea5324530a03f27dc1d0e5f6c9bc9d493a23be9de0':\n",
    "        i = new_data.source_country.replace(i , new_data.source_country.mode()[0] , inplace = True)"
   ]
  },
  {
   "cell_type": "code",
   "execution_count": 43,
   "metadata": {},
   "outputs": [],
   "source": [
    "for i in new_data.utm_source:\n",
    "    if i == '9b2d5b4678781e53038e91ea5324530a03f27dc1d0e5f6c9bc9d493a23be9de0':\n",
    "        i = new_data.utm_source.replace(i , new_data.utm_source.mode()[0] , inplace = True)"
   ]
  },
  {
   "cell_type": "code",
   "execution_count": 44,
   "metadata": {},
   "outputs": [],
   "source": [
    "for i in new_data.utm_medium:\n",
    "    if i == '9b2d5b4678781e53038e91ea5324530a03f27dc1d0e5f6c9bc9d493a23be9de0':\n",
    "        i = new_data.utm_medium.replace(i , new_data.utm_medium.mode()[0] , inplace = True)"
   ]
  },
  {
   "cell_type": "code",
   "execution_count": 45,
   "metadata": {},
   "outputs": [],
   "source": [
    "for i in new_data.des_city:\n",
    "    if i == '9b2d5b4678781e53038e91ea5324530a03f27dc1d0e5f6c9bc9d493a23be9de0':\n",
    "        i = new_data.des_city.replace(i , new_data.des_city.mode()[0] , inplace = True)"
   ]
  },
  {
   "cell_type": "code",
   "execution_count": 46,
   "metadata": {},
   "outputs": [],
   "source": [
    "for i in new_data.des_country:\n",
    "    if i == '9b2d5b4678781e53038e91ea5324530a03f27dc1d0e5f6c9bc9d493a23be9de0':\n",
    "        i = new_data.des_country.replace(i , new_data.des_country.mode()[0] , inplace = True)"
   ]
  },
  {
   "cell_type": "code",
   "execution_count": 47,
   "metadata": {},
   "outputs": [],
   "source": [
    "new_data.drop(\"lead_id\" , axis = 1 , inplace = True)"
   ]
  },
  {
   "cell_type": "code",
   "execution_count": 48,
   "metadata": {},
   "outputs": [
    {
     "data": {
      "text/plain": [
       "Index(['status', 'lost_reason', 'budget', 'lease', 'movein', 'source',\n",
       "       'source_city', 'source_country', 'utm_source', 'utm_medium', 'des_city',\n",
       "       'des_country', 'lost_reason_freq', 'budget_freq', 'lease_freq',\n",
       "       'movein_freq'],\n",
       "      dtype='object')"
      ]
     },
     "execution_count": 48,
     "metadata": {},
     "output_type": "execute_result"
    }
   ],
   "source": [
    "new_data.columns"
   ]
  },
  {
   "cell_type": "code",
   "execution_count": 49,
   "metadata": {},
   "outputs": [],
   "source": [
    "l = [\"source\" , \"source_city\" ,'source_country', 'utm_source', 'utm_medium', 'des_city', 'des_country']\n",
    "for i in l:\n",
    "    fe = new_data.groupby(i).size()\n",
    "    fe_ = fe/len(new_data)\n",
    "    new_data[i + \"_freq\"] = new_data[i].map(fe_).round(2)"
   ]
  },
  {
   "cell_type": "code",
   "execution_count": 50,
   "metadata": {},
   "outputs": [
    {
     "data": {
      "text/plain": [
       "Index(['status', 'lost_reason', 'budget', 'lease', 'movein', 'source',\n",
       "       'source_city', 'source_country', 'utm_source', 'utm_medium', 'des_city',\n",
       "       'des_country', 'lost_reason_freq', 'budget_freq', 'lease_freq',\n",
       "       'movein_freq', 'source_freq', 'source_city_freq', 'source_country_freq',\n",
       "       'utm_source_freq', 'utm_medium_freq', 'des_city_freq',\n",
       "       'des_country_freq'],\n",
       "      dtype='object')"
      ]
     },
     "execution_count": 50,
     "metadata": {},
     "output_type": "execute_result"
    }
   ],
   "source": [
    "new_data.columns"
   ]
  },
  {
   "cell_type": "code",
   "execution_count": 51,
   "metadata": {},
   "outputs": [
    {
     "data": {
      "text/html": [
       "<div>\n",
       "<style scoped>\n",
       "    .dataframe tbody tr th:only-of-type {\n",
       "        vertical-align: middle;\n",
       "    }\n",
       "\n",
       "    .dataframe tbody tr th {\n",
       "        vertical-align: top;\n",
       "    }\n",
       "\n",
       "    .dataframe thead th {\n",
       "        text-align: right;\n",
       "    }\n",
       "</style>\n",
       "<table border=\"1\" class=\"dataframe\">\n",
       "  <thead>\n",
       "    <tr style=\"text-align: right;\">\n",
       "      <th></th>\n",
       "      <th>status</th>\n",
       "      <th>lost_reason</th>\n",
       "      <th>budget</th>\n",
       "      <th>lease</th>\n",
       "      <th>movein</th>\n",
       "      <th>source</th>\n",
       "      <th>source_city</th>\n",
       "      <th>source_country</th>\n",
       "      <th>utm_source</th>\n",
       "      <th>utm_medium</th>\n",
       "      <th>...</th>\n",
       "      <th>budget_freq</th>\n",
       "      <th>lease_freq</th>\n",
       "      <th>movein_freq</th>\n",
       "      <th>source_freq</th>\n",
       "      <th>source_city_freq</th>\n",
       "      <th>source_country_freq</th>\n",
       "      <th>utm_source_freq</th>\n",
       "      <th>utm_medium_freq</th>\n",
       "      <th>des_city_freq</th>\n",
       "      <th>des_country_freq</th>\n",
       "    </tr>\n",
       "  </thead>\n",
       "  <tbody>\n",
       "    <tr>\n",
       "      <th>2</th>\n",
       "      <td>LOST</td>\n",
       "      <td>Not responding</td>\n",
       "      <td>£121 - £180 Per Week</td>\n",
       "      <td>2022-08-31</td>\n",
       "      <td>2022-08-31</td>\n",
       "      <td>7aae3e886e89fc1187a5c47d6cea1c22998ee610ade1f2...</td>\n",
       "      <td>9b8cc3c63cdf447e463c11544924bf027945cbd29675f7...</td>\n",
       "      <td>e09e10e67812e9d236ad900e5d46b4308fc62f5d69446a...</td>\n",
       "      <td>bbdefa2950f49882f295b1285d4fa9dec45fc4144bfb07...</td>\n",
       "      <td>09076eb7665d1fb9389c7c4517fee0b00e43092eb34821...</td>\n",
       "      <td>...</td>\n",
       "      <td>0.19</td>\n",
       "      <td>0.05</td>\n",
       "      <td>0.05</td>\n",
       "      <td>0.61</td>\n",
       "      <td>0.01</td>\n",
       "      <td>0.50</td>\n",
       "      <td>0.82</td>\n",
       "      <td>0.88</td>\n",
       "      <td>0.08</td>\n",
       "      <td>0.97</td>\n",
       "    </tr>\n",
       "    <tr>\n",
       "      <th>3</th>\n",
       "      <td>LOST</td>\n",
       "      <td>Low budget</td>\n",
       "      <td>0-0</td>\n",
       "      <td>2022-09-10</td>\n",
       "      <td>2022-09-10</td>\n",
       "      <td>ba2d0a29556ac20f86f45e4543c0825428cba33fd7a9ea...</td>\n",
       "      <td>a5f0d2d08eb0592087e3a3a2f9c1ba2c67cc30f2efd2bd...</td>\n",
       "      <td>e09e10e67812e9d236ad900e5d46b4308fc62f5d69446a...</td>\n",
       "      <td>bbdefa2950f49882f295b1285d4fa9dec45fc4144bfb07...</td>\n",
       "      <td>09076eb7665d1fb9389c7c4517fee0b00e43092eb34821...</td>\n",
       "      <td>...</td>\n",
       "      <td>0.12</td>\n",
       "      <td>0.35</td>\n",
       "      <td>0.35</td>\n",
       "      <td>0.10</td>\n",
       "      <td>0.00</td>\n",
       "      <td>0.50</td>\n",
       "      <td>0.82</td>\n",
       "      <td>0.88</td>\n",
       "      <td>0.01</td>\n",
       "      <td>0.97</td>\n",
       "    </tr>\n",
       "    <tr>\n",
       "      <th>5</th>\n",
       "      <td>LOST</td>\n",
       "      <td>Wants private accommodation</td>\n",
       "      <td>120</td>\n",
       "      <td>2022-09-10</td>\n",
       "      <td>2022-09-10</td>\n",
       "      <td>7bcfca0e9d73371699b0adbf1c691e02108fa64f02f4db...</td>\n",
       "      <td>7b7f15f9ffbeb905caaee265ac39d267d0512ab5333f2f...</td>\n",
       "      <td>8da82000ef9c4468ba47362a924b895e40662fed846942...</td>\n",
       "      <td>bbdefa2950f49882f295b1285d4fa9dec45fc4144bfb07...</td>\n",
       "      <td>09076eb7665d1fb9389c7c4517fee0b00e43092eb34821...</td>\n",
       "      <td>...</td>\n",
       "      <td>0.01</td>\n",
       "      <td>0.35</td>\n",
       "      <td>0.35</td>\n",
       "      <td>0.10</td>\n",
       "      <td>0.01</td>\n",
       "      <td>0.19</td>\n",
       "      <td>0.82</td>\n",
       "      <td>0.88</td>\n",
       "      <td>0.00</td>\n",
       "      <td>0.97</td>\n",
       "    </tr>\n",
       "    <tr>\n",
       "      <th>6</th>\n",
       "      <td>LOST</td>\n",
       "      <td>Short stay</td>\n",
       "      <td>0-0</td>\n",
       "      <td>2022-09-10</td>\n",
       "      <td>2022-09-10</td>\n",
       "      <td>9ba9134a91cfc6b52ac8d480e9ad37896ca4ac216e2d79...</td>\n",
       "      <td>3c1def48af45cb9748302f34e57f2cbeb866de95beb0d2...</td>\n",
       "      <td>e09e10e67812e9d236ad900e5d46b4308fc62f5d69446a...</td>\n",
       "      <td>4688fa9ce4f64d0451be91f30a3de24a1c1c41635bd221...</td>\n",
       "      <td>09076eb7665d1fb9389c7c4517fee0b00e43092eb34821...</td>\n",
       "      <td>...</td>\n",
       "      <td>0.12</td>\n",
       "      <td>0.35</td>\n",
       "      <td>0.35</td>\n",
       "      <td>0.06</td>\n",
       "      <td>0.00</td>\n",
       "      <td>0.50</td>\n",
       "      <td>0.01</td>\n",
       "      <td>0.88</td>\n",
       "      <td>0.17</td>\n",
       "      <td>0.97</td>\n",
       "    </tr>\n",
       "    <tr>\n",
       "      <th>7</th>\n",
       "      <td>LOST</td>\n",
       "      <td>Wants private accommodation</td>\n",
       "      <td>£181 - £240 Per Week</td>\n",
       "      <td>2022-09-08</td>\n",
       "      <td>2022-09-08</td>\n",
       "      <td>7aae3e886e89fc1187a5c47d6cea1c22998ee610ade1f2...</td>\n",
       "      <td>8593b9db65212160979d946950601c26622a219c80f1f1...</td>\n",
       "      <td>e09e10e67812e9d236ad900e5d46b4308fc62f5d69446a...</td>\n",
       "      <td>bbdefa2950f49882f295b1285d4fa9dec45fc4144bfb07...</td>\n",
       "      <td>09076eb7665d1fb9389c7c4517fee0b00e43092eb34821...</td>\n",
       "      <td>...</td>\n",
       "      <td>0.05</td>\n",
       "      <td>0.01</td>\n",
       "      <td>0.01</td>\n",
       "      <td>0.61</td>\n",
       "      <td>0.01</td>\n",
       "      <td>0.50</td>\n",
       "      <td>0.82</td>\n",
       "      <td>0.88</td>\n",
       "      <td>0.05</td>\n",
       "      <td>0.97</td>\n",
       "    </tr>\n",
       "  </tbody>\n",
       "</table>\n",
       "<p>5 rows × 23 columns</p>\n",
       "</div>"
      ],
      "text/plain": [
       "  status                  lost_reason                budget       lease  \\\n",
       "2   LOST               Not responding  £121 - £180 Per Week  2022-08-31   \n",
       "3   LOST                   Low budget                   0-0  2022-09-10   \n",
       "5   LOST  Wants private accommodation                   120  2022-09-10   \n",
       "6   LOST                   Short stay                   0-0  2022-09-10   \n",
       "7   LOST  Wants private accommodation  £181 - £240 Per Week  2022-09-08   \n",
       "\n",
       "      movein                                             source  \\\n",
       "2 2022-08-31  7aae3e886e89fc1187a5c47d6cea1c22998ee610ade1f2...   \n",
       "3 2022-09-10  ba2d0a29556ac20f86f45e4543c0825428cba33fd7a9ea...   \n",
       "5 2022-09-10  7bcfca0e9d73371699b0adbf1c691e02108fa64f02f4db...   \n",
       "6 2022-09-10  9ba9134a91cfc6b52ac8d480e9ad37896ca4ac216e2d79...   \n",
       "7 2022-09-08  7aae3e886e89fc1187a5c47d6cea1c22998ee610ade1f2...   \n",
       "\n",
       "                                         source_city  \\\n",
       "2  9b8cc3c63cdf447e463c11544924bf027945cbd29675f7...   \n",
       "3  a5f0d2d08eb0592087e3a3a2f9c1ba2c67cc30f2efd2bd...   \n",
       "5  7b7f15f9ffbeb905caaee265ac39d267d0512ab5333f2f...   \n",
       "6  3c1def48af45cb9748302f34e57f2cbeb866de95beb0d2...   \n",
       "7  8593b9db65212160979d946950601c26622a219c80f1f1...   \n",
       "\n",
       "                                      source_country  \\\n",
       "2  e09e10e67812e9d236ad900e5d46b4308fc62f5d69446a...   \n",
       "3  e09e10e67812e9d236ad900e5d46b4308fc62f5d69446a...   \n",
       "5  8da82000ef9c4468ba47362a924b895e40662fed846942...   \n",
       "6  e09e10e67812e9d236ad900e5d46b4308fc62f5d69446a...   \n",
       "7  e09e10e67812e9d236ad900e5d46b4308fc62f5d69446a...   \n",
       "\n",
       "                                          utm_source  \\\n",
       "2  bbdefa2950f49882f295b1285d4fa9dec45fc4144bfb07...   \n",
       "3  bbdefa2950f49882f295b1285d4fa9dec45fc4144bfb07...   \n",
       "5  bbdefa2950f49882f295b1285d4fa9dec45fc4144bfb07...   \n",
       "6  4688fa9ce4f64d0451be91f30a3de24a1c1c41635bd221...   \n",
       "7  bbdefa2950f49882f295b1285d4fa9dec45fc4144bfb07...   \n",
       "\n",
       "                                          utm_medium  ... budget_freq  \\\n",
       "2  09076eb7665d1fb9389c7c4517fee0b00e43092eb34821...  ...        0.19   \n",
       "3  09076eb7665d1fb9389c7c4517fee0b00e43092eb34821...  ...        0.12   \n",
       "5  09076eb7665d1fb9389c7c4517fee0b00e43092eb34821...  ...        0.01   \n",
       "6  09076eb7665d1fb9389c7c4517fee0b00e43092eb34821...  ...        0.12   \n",
       "7  09076eb7665d1fb9389c7c4517fee0b00e43092eb34821...  ...        0.05   \n",
       "\n",
       "  lease_freq  movein_freq  source_freq  source_city_freq  source_country_freq  \\\n",
       "2       0.05         0.05         0.61              0.01                 0.50   \n",
       "3       0.35         0.35         0.10              0.00                 0.50   \n",
       "5       0.35         0.35         0.10              0.01                 0.19   \n",
       "6       0.35         0.35         0.06              0.00                 0.50   \n",
       "7       0.01         0.01         0.61              0.01                 0.50   \n",
       "\n",
       "   utm_source_freq  utm_medium_freq  des_city_freq  des_country_freq  \n",
       "2             0.82             0.88           0.08              0.97  \n",
       "3             0.82             0.88           0.01              0.97  \n",
       "5             0.82             0.88           0.00              0.97  \n",
       "6             0.01             0.88           0.17              0.97  \n",
       "7             0.82             0.88           0.05              0.97  \n",
       "\n",
       "[5 rows x 23 columns]"
      ]
     },
     "execution_count": 51,
     "metadata": {},
     "output_type": "execute_result"
    }
   ],
   "source": [
    "new_data.head()"
   ]
  },
  {
   "cell_type": "code",
   "execution_count": 52,
   "metadata": {},
   "outputs": [],
   "source": [
    "new_data.drop(['lost_reason', 'budget', 'lease', 'movein', 'source',\n",
    "       'source_city', 'source_country', 'utm_source', 'utm_medium', 'des_city',\n",
    "       'des_country'] , axis = 1 , inplace = True)"
   ]
  },
  {
   "cell_type": "code",
   "execution_count": 53,
   "metadata": {},
   "outputs": [
    {
     "data": {
      "text/html": [
       "<div>\n",
       "<style scoped>\n",
       "    .dataframe tbody tr th:only-of-type {\n",
       "        vertical-align: middle;\n",
       "    }\n",
       "\n",
       "    .dataframe tbody tr th {\n",
       "        vertical-align: top;\n",
       "    }\n",
       "\n",
       "    .dataframe thead th {\n",
       "        text-align: right;\n",
       "    }\n",
       "</style>\n",
       "<table border=\"1\" class=\"dataframe\">\n",
       "  <thead>\n",
       "    <tr style=\"text-align: right;\">\n",
       "      <th></th>\n",
       "      <th>status</th>\n",
       "      <th>lost_reason_freq</th>\n",
       "      <th>budget_freq</th>\n",
       "      <th>lease_freq</th>\n",
       "      <th>movein_freq</th>\n",
       "      <th>source_freq</th>\n",
       "      <th>source_city_freq</th>\n",
       "      <th>source_country_freq</th>\n",
       "      <th>utm_source_freq</th>\n",
       "      <th>utm_medium_freq</th>\n",
       "      <th>des_city_freq</th>\n",
       "      <th>des_country_freq</th>\n",
       "    </tr>\n",
       "  </thead>\n",
       "  <tbody>\n",
       "    <tr>\n",
       "      <th>2</th>\n",
       "      <td>LOST</td>\n",
       "      <td>0.17</td>\n",
       "      <td>0.19</td>\n",
       "      <td>0.05</td>\n",
       "      <td>0.05</td>\n",
       "      <td>0.61</td>\n",
       "      <td>0.01</td>\n",
       "      <td>0.50</td>\n",
       "      <td>0.82</td>\n",
       "      <td>0.88</td>\n",
       "      <td>0.08</td>\n",
       "      <td>0.97</td>\n",
       "    </tr>\n",
       "    <tr>\n",
       "      <th>3</th>\n",
       "      <td>LOST</td>\n",
       "      <td>0.12</td>\n",
       "      <td>0.12</td>\n",
       "      <td>0.35</td>\n",
       "      <td>0.35</td>\n",
       "      <td>0.10</td>\n",
       "      <td>0.00</td>\n",
       "      <td>0.50</td>\n",
       "      <td>0.82</td>\n",
       "      <td>0.88</td>\n",
       "      <td>0.01</td>\n",
       "      <td>0.97</td>\n",
       "    </tr>\n",
       "    <tr>\n",
       "      <th>5</th>\n",
       "      <td>LOST</td>\n",
       "      <td>0.06</td>\n",
       "      <td>0.01</td>\n",
       "      <td>0.35</td>\n",
       "      <td>0.35</td>\n",
       "      <td>0.10</td>\n",
       "      <td>0.01</td>\n",
       "      <td>0.19</td>\n",
       "      <td>0.82</td>\n",
       "      <td>0.88</td>\n",
       "      <td>0.00</td>\n",
       "      <td>0.97</td>\n",
       "    </tr>\n",
       "    <tr>\n",
       "      <th>6</th>\n",
       "      <td>LOST</td>\n",
       "      <td>0.05</td>\n",
       "      <td>0.12</td>\n",
       "      <td>0.35</td>\n",
       "      <td>0.35</td>\n",
       "      <td>0.06</td>\n",
       "      <td>0.00</td>\n",
       "      <td>0.50</td>\n",
       "      <td>0.01</td>\n",
       "      <td>0.88</td>\n",
       "      <td>0.17</td>\n",
       "      <td>0.97</td>\n",
       "    </tr>\n",
       "    <tr>\n",
       "      <th>7</th>\n",
       "      <td>LOST</td>\n",
       "      <td>0.06</td>\n",
       "      <td>0.05</td>\n",
       "      <td>0.01</td>\n",
       "      <td>0.01</td>\n",
       "      <td>0.61</td>\n",
       "      <td>0.01</td>\n",
       "      <td>0.50</td>\n",
       "      <td>0.82</td>\n",
       "      <td>0.88</td>\n",
       "      <td>0.05</td>\n",
       "      <td>0.97</td>\n",
       "    </tr>\n",
       "  </tbody>\n",
       "</table>\n",
       "</div>"
      ],
      "text/plain": [
       "  status  lost_reason_freq  budget_freq  lease_freq  movein_freq  source_freq  \\\n",
       "2   LOST              0.17         0.19        0.05         0.05         0.61   \n",
       "3   LOST              0.12         0.12        0.35         0.35         0.10   \n",
       "5   LOST              0.06         0.01        0.35         0.35         0.10   \n",
       "6   LOST              0.05         0.12        0.35         0.35         0.06   \n",
       "7   LOST              0.06         0.05        0.01         0.01         0.61   \n",
       "\n",
       "   source_city_freq  source_country_freq  utm_source_freq  utm_medium_freq  \\\n",
       "2              0.01                 0.50             0.82             0.88   \n",
       "3              0.00                 0.50             0.82             0.88   \n",
       "5              0.01                 0.19             0.82             0.88   \n",
       "6              0.00                 0.50             0.01             0.88   \n",
       "7              0.01                 0.50             0.82             0.88   \n",
       "\n",
       "   des_city_freq  des_country_freq  \n",
       "2           0.08              0.97  \n",
       "3           0.01              0.97  \n",
       "5           0.00              0.97  \n",
       "6           0.17              0.97  \n",
       "7           0.05              0.97  "
      ]
     },
     "execution_count": 53,
     "metadata": {},
     "output_type": "execute_result"
    }
   ],
   "source": [
    "new_data.head()"
   ]
  },
  {
   "cell_type": "code",
   "execution_count": 54,
   "metadata": {},
   "outputs": [
    {
     "name": "stdout",
     "output_type": "stream",
     "text": [
      "\u001b[1m  status  \u001b[0m\n",
      "['LOST' 'WON']\n",
      "Number of total unique value for status feature is 2:\n",
      "\n",
      "\n",
      "\u001b[1m  lost_reason_freq  \u001b[0m\n",
      "[0.17 0.12 0.06 0.05 0.01 0.26 0.14 0.03 0.   0.02]\n",
      "Number of total unique value for lost_reason_freq feature is 10:\n",
      "\n",
      "\n",
      "\u001b[1m  budget_freq  \u001b[0m\n",
      "[0.19 0.12 0.01 0.05 0.03 0.   0.02 0.29]\n",
      "Number of total unique value for budget_freq feature is 8:\n",
      "\n",
      "\n",
      "\u001b[1m  lease_freq  \u001b[0m\n",
      "[0.05 0.35 0.01 0.03 0.   0.02]\n",
      "Number of total unique value for lease_freq feature is 6:\n",
      "\n",
      "\n",
      "\u001b[1m  movein_freq  \u001b[0m\n",
      "[0.05 0.35 0.01 0.03 0.   0.02]\n",
      "Number of total unique value for movein_freq feature is 6:\n",
      "\n",
      "\n",
      "\u001b[1m  source_freq  \u001b[0m\n",
      "[0.61 0.1  0.06 0.01 0.   0.02]\n",
      "Number of total unique value for source_freq feature is 6:\n",
      "\n",
      "\n",
      "\u001b[1m  source_city_freq  \u001b[0m\n",
      "[0.01 0.   0.04 0.02 0.08]\n",
      "Number of total unique value for source_city_freq feature is 5:\n",
      "\n",
      "\n",
      "\u001b[1m  source_country_freq  \u001b[0m\n",
      "[0.5  0.19 0.01 0.03 0.05 0.  ]\n",
      "Number of total unique value for source_country_freq feature is 6:\n",
      "\n",
      "\n",
      "\u001b[1m  utm_source_freq  \u001b[0m\n",
      "[0.82 0.01 0.05 0.   0.04 0.03 0.02]\n",
      "Number of total unique value for utm_source_freq feature is 7:\n",
      "\n",
      "\n",
      "\u001b[1m  utm_medium_freq  \u001b[0m\n",
      "[0.88 0.04 0.   0.03 0.02 0.01]\n",
      "Number of total unique value for utm_medium_freq feature is 6:\n",
      "\n",
      "\n",
      "\u001b[1m  des_city_freq  \u001b[0m\n",
      "[0.08 0.01 0.   0.17 0.05 0.03 0.04 0.02]\n",
      "Number of total unique value for des_city_freq feature is 8:\n",
      "\n",
      "\n",
      "\u001b[1m  des_country_freq  \u001b[0m\n",
      "[0.97 0.02 0.  ]\n",
      "Number of total unique value for des_country_freq feature is 3:\n",
      "\n",
      "\n"
     ]
    }
   ],
   "source": [
    "column_list = new_data.columns.values.tolist()\n",
    "\n",
    "for col in column_list:\n",
    "    print('\\033[1m  {}  \\033[0m'.format(col))\n",
    "    print(new_data[col].unique())\n",
    "    print(\"Number of total unique value for {} feature is {}:\".format(col , len(new_data[col].unique()) ))\n",
    "    print('\\n') "
   ]
  },
  {
   "cell_type": "code",
   "execution_count": 55,
   "metadata": {},
   "outputs": [],
   "source": [
    "y = new_data[\"status\"]"
   ]
  },
  {
   "cell_type": "code",
   "execution_count": 56,
   "metadata": {},
   "outputs": [],
   "source": [
    "x = new_data.iloc[: , 1:]"
   ]
  },
  {
   "cell_type": "code",
   "execution_count": 57,
   "metadata": {},
   "outputs": [
    {
     "data": {
      "text/html": [
       "<div>\n",
       "<style scoped>\n",
       "    .dataframe tbody tr th:only-of-type {\n",
       "        vertical-align: middle;\n",
       "    }\n",
       "\n",
       "    .dataframe tbody tr th {\n",
       "        vertical-align: top;\n",
       "    }\n",
       "\n",
       "    .dataframe thead th {\n",
       "        text-align: right;\n",
       "    }\n",
       "</style>\n",
       "<table border=\"1\" class=\"dataframe\">\n",
       "  <thead>\n",
       "    <tr style=\"text-align: right;\">\n",
       "      <th></th>\n",
       "      <th>lost_reason_freq</th>\n",
       "      <th>budget_freq</th>\n",
       "      <th>lease_freq</th>\n",
       "      <th>movein_freq</th>\n",
       "      <th>source_freq</th>\n",
       "      <th>source_city_freq</th>\n",
       "      <th>source_country_freq</th>\n",
       "      <th>utm_source_freq</th>\n",
       "      <th>utm_medium_freq</th>\n",
       "      <th>des_city_freq</th>\n",
       "      <th>des_country_freq</th>\n",
       "    </tr>\n",
       "  </thead>\n",
       "  <tbody>\n",
       "    <tr>\n",
       "      <th>2</th>\n",
       "      <td>0.17</td>\n",
       "      <td>0.19</td>\n",
       "      <td>0.05</td>\n",
       "      <td>0.05</td>\n",
       "      <td>0.61</td>\n",
       "      <td>0.01</td>\n",
       "      <td>0.50</td>\n",
       "      <td>0.82</td>\n",
       "      <td>0.88</td>\n",
       "      <td>0.08</td>\n",
       "      <td>0.97</td>\n",
       "    </tr>\n",
       "    <tr>\n",
       "      <th>3</th>\n",
       "      <td>0.12</td>\n",
       "      <td>0.12</td>\n",
       "      <td>0.35</td>\n",
       "      <td>0.35</td>\n",
       "      <td>0.10</td>\n",
       "      <td>0.00</td>\n",
       "      <td>0.50</td>\n",
       "      <td>0.82</td>\n",
       "      <td>0.88</td>\n",
       "      <td>0.01</td>\n",
       "      <td>0.97</td>\n",
       "    </tr>\n",
       "    <tr>\n",
       "      <th>5</th>\n",
       "      <td>0.06</td>\n",
       "      <td>0.01</td>\n",
       "      <td>0.35</td>\n",
       "      <td>0.35</td>\n",
       "      <td>0.10</td>\n",
       "      <td>0.01</td>\n",
       "      <td>0.19</td>\n",
       "      <td>0.82</td>\n",
       "      <td>0.88</td>\n",
       "      <td>0.00</td>\n",
       "      <td>0.97</td>\n",
       "    </tr>\n",
       "    <tr>\n",
       "      <th>6</th>\n",
       "      <td>0.05</td>\n",
       "      <td>0.12</td>\n",
       "      <td>0.35</td>\n",
       "      <td>0.35</td>\n",
       "      <td>0.06</td>\n",
       "      <td>0.00</td>\n",
       "      <td>0.50</td>\n",
       "      <td>0.01</td>\n",
       "      <td>0.88</td>\n",
       "      <td>0.17</td>\n",
       "      <td>0.97</td>\n",
       "    </tr>\n",
       "    <tr>\n",
       "      <th>7</th>\n",
       "      <td>0.06</td>\n",
       "      <td>0.05</td>\n",
       "      <td>0.01</td>\n",
       "      <td>0.01</td>\n",
       "      <td>0.61</td>\n",
       "      <td>0.01</td>\n",
       "      <td>0.50</td>\n",
       "      <td>0.82</td>\n",
       "      <td>0.88</td>\n",
       "      <td>0.05</td>\n",
       "      <td>0.97</td>\n",
       "    </tr>\n",
       "    <tr>\n",
       "      <th>...</th>\n",
       "      <td>...</td>\n",
       "      <td>...</td>\n",
       "      <td>...</td>\n",
       "      <td>...</td>\n",
       "      <td>...</td>\n",
       "      <td>...</td>\n",
       "      <td>...</td>\n",
       "      <td>...</td>\n",
       "      <td>...</td>\n",
       "      <td>...</td>\n",
       "      <td>...</td>\n",
       "    </tr>\n",
       "    <tr>\n",
       "      <th>46603</th>\n",
       "      <td>0.26</td>\n",
       "      <td>0.29</td>\n",
       "      <td>0.05</td>\n",
       "      <td>0.05</td>\n",
       "      <td>0.61</td>\n",
       "      <td>0.02</td>\n",
       "      <td>0.19</td>\n",
       "      <td>0.82</td>\n",
       "      <td>0.88</td>\n",
       "      <td>0.01</td>\n",
       "      <td>0.97</td>\n",
       "    </tr>\n",
       "    <tr>\n",
       "      <th>46604</th>\n",
       "      <td>0.02</td>\n",
       "      <td>0.29</td>\n",
       "      <td>0.01</td>\n",
       "      <td>0.01</td>\n",
       "      <td>0.61</td>\n",
       "      <td>0.02</td>\n",
       "      <td>0.19</td>\n",
       "      <td>0.82</td>\n",
       "      <td>0.88</td>\n",
       "      <td>0.01</td>\n",
       "      <td>0.97</td>\n",
       "    </tr>\n",
       "    <tr>\n",
       "      <th>46605</th>\n",
       "      <td>0.26</td>\n",
       "      <td>0.02</td>\n",
       "      <td>0.01</td>\n",
       "      <td>0.01</td>\n",
       "      <td>0.61</td>\n",
       "      <td>0.02</td>\n",
       "      <td>0.19</td>\n",
       "      <td>0.82</td>\n",
       "      <td>0.88</td>\n",
       "      <td>0.17</td>\n",
       "      <td>0.97</td>\n",
       "    </tr>\n",
       "    <tr>\n",
       "      <th>46606</th>\n",
       "      <td>0.26</td>\n",
       "      <td>0.00</td>\n",
       "      <td>0.01</td>\n",
       "      <td>0.01</td>\n",
       "      <td>0.06</td>\n",
       "      <td>0.00</td>\n",
       "      <td>0.01</td>\n",
       "      <td>0.02</td>\n",
       "      <td>0.02</td>\n",
       "      <td>0.17</td>\n",
       "      <td>0.97</td>\n",
       "    </tr>\n",
       "    <tr>\n",
       "      <th>46607</th>\n",
       "      <td>0.26</td>\n",
       "      <td>0.05</td>\n",
       "      <td>0.05</td>\n",
       "      <td>0.05</td>\n",
       "      <td>0.61</td>\n",
       "      <td>0.00</td>\n",
       "      <td>0.50</td>\n",
       "      <td>0.82</td>\n",
       "      <td>0.88</td>\n",
       "      <td>0.01</td>\n",
       "      <td>0.97</td>\n",
       "    </tr>\n",
       "  </tbody>\n",
       "</table>\n",
       "<p>37486 rows × 11 columns</p>\n",
       "</div>"
      ],
      "text/plain": [
       "       lost_reason_freq  budget_freq  lease_freq  movein_freq  source_freq  \\\n",
       "2                  0.17         0.19        0.05         0.05         0.61   \n",
       "3                  0.12         0.12        0.35         0.35         0.10   \n",
       "5                  0.06         0.01        0.35         0.35         0.10   \n",
       "6                  0.05         0.12        0.35         0.35         0.06   \n",
       "7                  0.06         0.05        0.01         0.01         0.61   \n",
       "...                 ...          ...         ...          ...          ...   \n",
       "46603              0.26         0.29        0.05         0.05         0.61   \n",
       "46604              0.02         0.29        0.01         0.01         0.61   \n",
       "46605              0.26         0.02        0.01         0.01         0.61   \n",
       "46606              0.26         0.00        0.01         0.01         0.06   \n",
       "46607              0.26         0.05        0.05         0.05         0.61   \n",
       "\n",
       "       source_city_freq  source_country_freq  utm_source_freq  \\\n",
       "2                  0.01                 0.50             0.82   \n",
       "3                  0.00                 0.50             0.82   \n",
       "5                  0.01                 0.19             0.82   \n",
       "6                  0.00                 0.50             0.01   \n",
       "7                  0.01                 0.50             0.82   \n",
       "...                 ...                  ...              ...   \n",
       "46603              0.02                 0.19             0.82   \n",
       "46604              0.02                 0.19             0.82   \n",
       "46605              0.02                 0.19             0.82   \n",
       "46606              0.00                 0.01             0.02   \n",
       "46607              0.00                 0.50             0.82   \n",
       "\n",
       "       utm_medium_freq  des_city_freq  des_country_freq  \n",
       "2                 0.88           0.08              0.97  \n",
       "3                 0.88           0.01              0.97  \n",
       "5                 0.88           0.00              0.97  \n",
       "6                 0.88           0.17              0.97  \n",
       "7                 0.88           0.05              0.97  \n",
       "...                ...            ...               ...  \n",
       "46603             0.88           0.01              0.97  \n",
       "46604             0.88           0.01              0.97  \n",
       "46605             0.88           0.17              0.97  \n",
       "46606             0.02           0.17              0.97  \n",
       "46607             0.88           0.01              0.97  \n",
       "\n",
       "[37486 rows x 11 columns]"
      ]
     },
     "execution_count": 57,
     "metadata": {},
     "output_type": "execute_result"
    }
   ],
   "source": [
    "x"
   ]
  },
  {
   "cell_type": "code",
   "execution_count": 58,
   "metadata": {},
   "outputs": [],
   "source": [
    "y[y == \"LOST\"] = 0 \n",
    "y[y == \"WON\"] = 1 "
   ]
  },
  {
   "cell_type": "code",
   "execution_count": 59,
   "metadata": {},
   "outputs": [
    {
     "data": {
      "text/plain": [
       "0    34961\n",
       "1     2525\n",
       "Name: status, dtype: int64"
      ]
     },
     "execution_count": 59,
     "metadata": {},
     "output_type": "execute_result"
    }
   ],
   "source": [
    "y.value_counts()"
   ]
  },
  {
   "cell_type": "code",
   "execution_count": 60,
   "metadata": {},
   "outputs": [
    {
     "data": {
      "text/plain": [
       "((37486, 11), (37486,))"
      ]
     },
     "execution_count": 60,
     "metadata": {},
     "output_type": "execute_result"
    }
   ],
   "source": [
    "x.shape , y.shape"
   ]
  },
  {
   "cell_type": "code",
   "execution_count": 61,
   "metadata": {},
   "outputs": [],
   "source": [
    "def get_feature_correlation(df, top_n=None, corr_method='spearman',\n",
    "                            remove_duplicates=True, remove_self_correlations=True):\n",
    "    \n",
    "    corr_matrix_abs = df.corr(method=corr_method).abs()\n",
    "    corr_matrix_abs_us = corr_matrix_abs.unstack()\n",
    "    sorted_correlated_features = corr_matrix_abs_us \\\n",
    "        .sort_values(kind=\"quicksort\", ascending=False) \\\n",
    "        .reset_index()\n",
    "\n",
    "    if remove_self_correlations:\n",
    "        sorted_correlated_features = sorted_correlated_features[\n",
    "            (sorted_correlated_features.level_0 != sorted_correlated_features.level_1)\n",
    "        ]\n",
    "        \n",
    "    if remove_duplicates:\n",
    "        sorted_correlated_features = sorted_correlated_features.iloc[:-2:2]\n",
    "\n",
    "    sorted_correlated_features.columns = ['Feature 1', 'Feature 2', 'Correlation (abs)'] \n",
    "\n",
    "    if top_n:\n",
    "        return sorted_correlated_features[:top_n]\n",
    "\n",
    "    return sorted_correlated_features"
   ]
  },
  {
   "cell_type": "code",
   "execution_count": 62,
   "metadata": {},
   "outputs": [
    {
     "data": {
      "text/html": [
       "<div>\n",
       "<style scoped>\n",
       "    .dataframe tbody tr th:only-of-type {\n",
       "        vertical-align: middle;\n",
       "    }\n",
       "\n",
       "    .dataframe tbody tr th {\n",
       "        vertical-align: top;\n",
       "    }\n",
       "\n",
       "    .dataframe thead th {\n",
       "        text-align: right;\n",
       "    }\n",
       "</style>\n",
       "<table border=\"1\" class=\"dataframe\">\n",
       "  <thead>\n",
       "    <tr style=\"text-align: right;\">\n",
       "      <th></th>\n",
       "      <th>Feature 1</th>\n",
       "      <th>Feature 2</th>\n",
       "      <th>Correlation (abs)</th>\n",
       "    </tr>\n",
       "  </thead>\n",
       "  <tbody>\n",
       "    <tr>\n",
       "      <th>8</th>\n",
       "      <td>movein_freq</td>\n",
       "      <td>lease_freq</td>\n",
       "      <td>1.000000</td>\n",
       "    </tr>\n",
       "    <tr>\n",
       "      <th>13</th>\n",
       "      <td>budget_freq</td>\n",
       "      <td>source_freq</td>\n",
       "      <td>0.700064</td>\n",
       "    </tr>\n",
       "    <tr>\n",
       "      <th>15</th>\n",
       "      <td>source_freq</td>\n",
       "      <td>movein_freq</td>\n",
       "      <td>0.575397</td>\n",
       "    </tr>\n",
       "    <tr>\n",
       "      <th>17</th>\n",
       "      <td>movein_freq</td>\n",
       "      <td>source_freq</td>\n",
       "      <td>0.575397</td>\n",
       "    </tr>\n",
       "    <tr>\n",
       "      <th>19</th>\n",
       "      <td>utm_source_freq</td>\n",
       "      <td>utm_medium_freq</td>\n",
       "      <td>0.540456</td>\n",
       "    </tr>\n",
       "    <tr>\n",
       "      <th>21</th>\n",
       "      <td>lease_freq</td>\n",
       "      <td>budget_freq</td>\n",
       "      <td>0.394639</td>\n",
       "    </tr>\n",
       "    <tr>\n",
       "      <th>23</th>\n",
       "      <td>budget_freq</td>\n",
       "      <td>lease_freq</td>\n",
       "      <td>0.394639</td>\n",
       "    </tr>\n",
       "    <tr>\n",
       "      <th>25</th>\n",
       "      <td>utm_medium_freq</td>\n",
       "      <td>des_country_freq</td>\n",
       "      <td>0.360733</td>\n",
       "    </tr>\n",
       "    <tr>\n",
       "      <th>27</th>\n",
       "      <td>source_freq</td>\n",
       "      <td>utm_source_freq</td>\n",
       "      <td>0.330388</td>\n",
       "    </tr>\n",
       "    <tr>\n",
       "      <th>29</th>\n",
       "      <td>source_freq</td>\n",
       "      <td>utm_medium_freq</td>\n",
       "      <td>0.311817</td>\n",
       "    </tr>\n",
       "    <tr>\n",
       "      <th>31</th>\n",
       "      <td>source_freq</td>\n",
       "      <td>des_country_freq</td>\n",
       "      <td>0.276049</td>\n",
       "    </tr>\n",
       "    <tr>\n",
       "      <th>33</th>\n",
       "      <td>des_city_freq</td>\n",
       "      <td>des_country_freq</td>\n",
       "      <td>0.268312</td>\n",
       "    </tr>\n",
       "    <tr>\n",
       "      <th>35</th>\n",
       "      <td>des_country_freq</td>\n",
       "      <td>utm_source_freq</td>\n",
       "      <td>0.233715</td>\n",
       "    </tr>\n",
       "    <tr>\n",
       "      <th>37</th>\n",
       "      <td>budget_freq</td>\n",
       "      <td>utm_source_freq</td>\n",
       "      <td>0.218892</td>\n",
       "    </tr>\n",
       "    <tr>\n",
       "      <th>39</th>\n",
       "      <td>utm_medium_freq</td>\n",
       "      <td>budget_freq</td>\n",
       "      <td>0.197583</td>\n",
       "    </tr>\n",
       "    <tr>\n",
       "      <th>41</th>\n",
       "      <td>source_city_freq</td>\n",
       "      <td>source_country_freq</td>\n",
       "      <td>0.195809</td>\n",
       "    </tr>\n",
       "    <tr>\n",
       "      <th>43</th>\n",
       "      <td>source_country_freq</td>\n",
       "      <td>des_country_freq</td>\n",
       "      <td>0.192814</td>\n",
       "    </tr>\n",
       "    <tr>\n",
       "      <th>45</th>\n",
       "      <td>lost_reason_freq</td>\n",
       "      <td>des_city_freq</td>\n",
       "      <td>0.176059</td>\n",
       "    </tr>\n",
       "    <tr>\n",
       "      <th>47</th>\n",
       "      <td>movein_freq</td>\n",
       "      <td>utm_source_freq</td>\n",
       "      <td>0.160726</td>\n",
       "    </tr>\n",
       "    <tr>\n",
       "      <th>49</th>\n",
       "      <td>lease_freq</td>\n",
       "      <td>utm_source_freq</td>\n",
       "      <td>0.160726</td>\n",
       "    </tr>\n",
       "    <tr>\n",
       "      <th>51</th>\n",
       "      <td>budget_freq</td>\n",
       "      <td>des_country_freq</td>\n",
       "      <td>0.160630</td>\n",
       "    </tr>\n",
       "    <tr>\n",
       "      <th>53</th>\n",
       "      <td>source_country_freq</td>\n",
       "      <td>utm_medium_freq</td>\n",
       "      <td>0.158766</td>\n",
       "    </tr>\n",
       "    <tr>\n",
       "      <th>55</th>\n",
       "      <td>des_country_freq</td>\n",
       "      <td>lost_reason_freq</td>\n",
       "      <td>0.155408</td>\n",
       "    </tr>\n",
       "    <tr>\n",
       "      <th>57</th>\n",
       "      <td>source_freq</td>\n",
       "      <td>lost_reason_freq</td>\n",
       "      <td>0.152216</td>\n",
       "    </tr>\n",
       "    <tr>\n",
       "      <th>59</th>\n",
       "      <td>source_freq</td>\n",
       "      <td>source_country_freq</td>\n",
       "      <td>0.146004</td>\n",
       "    </tr>\n",
       "    <tr>\n",
       "      <th>61</th>\n",
       "      <td>budget_freq</td>\n",
       "      <td>lost_reason_freq</td>\n",
       "      <td>0.143526</td>\n",
       "    </tr>\n",
       "    <tr>\n",
       "      <th>63</th>\n",
       "      <td>utm_medium_freq</td>\n",
       "      <td>movein_freq</td>\n",
       "      <td>0.137085</td>\n",
       "    </tr>\n",
       "    <tr>\n",
       "      <th>65</th>\n",
       "      <td>utm_medium_freq</td>\n",
       "      <td>lease_freq</td>\n",
       "      <td>0.137085</td>\n",
       "    </tr>\n",
       "    <tr>\n",
       "      <th>67</th>\n",
       "      <td>lost_reason_freq</td>\n",
       "      <td>utm_medium_freq</td>\n",
       "      <td>0.120906</td>\n",
       "    </tr>\n",
       "    <tr>\n",
       "      <th>69</th>\n",
       "      <td>des_country_freq</td>\n",
       "      <td>lease_freq</td>\n",
       "      <td>0.105766</td>\n",
       "    </tr>\n",
       "    <tr>\n",
       "      <th>71</th>\n",
       "      <td>des_country_freq</td>\n",
       "      <td>movein_freq</td>\n",
       "      <td>0.105766</td>\n",
       "    </tr>\n",
       "    <tr>\n",
       "      <th>73</th>\n",
       "      <td>source_country_freq</td>\n",
       "      <td>budget_freq</td>\n",
       "      <td>0.101655</td>\n",
       "    </tr>\n",
       "    <tr>\n",
       "      <th>75</th>\n",
       "      <td>movein_freq</td>\n",
       "      <td>lost_reason_freq</td>\n",
       "      <td>0.099499</td>\n",
       "    </tr>\n",
       "    <tr>\n",
       "      <th>77</th>\n",
       "      <td>lease_freq</td>\n",
       "      <td>lost_reason_freq</td>\n",
       "      <td>0.099499</td>\n",
       "    </tr>\n",
       "    <tr>\n",
       "      <th>79</th>\n",
       "      <td>utm_source_freq</td>\n",
       "      <td>source_country_freq</td>\n",
       "      <td>0.094185</td>\n",
       "    </tr>\n",
       "    <tr>\n",
       "      <th>81</th>\n",
       "      <td>source_freq</td>\n",
       "      <td>des_city_freq</td>\n",
       "      <td>0.082622</td>\n",
       "    </tr>\n",
       "    <tr>\n",
       "      <th>83</th>\n",
       "      <td>utm_source_freq</td>\n",
       "      <td>lost_reason_freq</td>\n",
       "      <td>0.078708</td>\n",
       "    </tr>\n",
       "    <tr>\n",
       "      <th>85</th>\n",
       "      <td>des_country_freq</td>\n",
       "      <td>source_city_freq</td>\n",
       "      <td>0.072971</td>\n",
       "    </tr>\n",
       "    <tr>\n",
       "      <th>87</th>\n",
       "      <td>utm_medium_freq</td>\n",
       "      <td>des_city_freq</td>\n",
       "      <td>0.067096</td>\n",
       "    </tr>\n",
       "    <tr>\n",
       "      <th>89</th>\n",
       "      <td>utm_source_freq</td>\n",
       "      <td>des_city_freq</td>\n",
       "      <td>0.065482</td>\n",
       "    </tr>\n",
       "    <tr>\n",
       "      <th>91</th>\n",
       "      <td>movein_freq</td>\n",
       "      <td>source_country_freq</td>\n",
       "      <td>0.054323</td>\n",
       "    </tr>\n",
       "    <tr>\n",
       "      <th>93</th>\n",
       "      <td>source_country_freq</td>\n",
       "      <td>movein_freq</td>\n",
       "      <td>0.054323</td>\n",
       "    </tr>\n",
       "    <tr>\n",
       "      <th>95</th>\n",
       "      <td>source_city_freq</td>\n",
       "      <td>budget_freq</td>\n",
       "      <td>0.029659</td>\n",
       "    </tr>\n",
       "    <tr>\n",
       "      <th>97</th>\n",
       "      <td>movein_freq</td>\n",
       "      <td>des_city_freq</td>\n",
       "      <td>0.028196</td>\n",
       "    </tr>\n",
       "    <tr>\n",
       "      <th>99</th>\n",
       "      <td>des_city_freq</td>\n",
       "      <td>movein_freq</td>\n",
       "      <td>0.028196</td>\n",
       "    </tr>\n",
       "    <tr>\n",
       "      <th>101</th>\n",
       "      <td>lost_reason_freq</td>\n",
       "      <td>source_city_freq</td>\n",
       "      <td>0.026918</td>\n",
       "    </tr>\n",
       "    <tr>\n",
       "      <th>103</th>\n",
       "      <td>source_city_freq</td>\n",
       "      <td>utm_medium_freq</td>\n",
       "      <td>0.022264</td>\n",
       "    </tr>\n",
       "    <tr>\n",
       "      <th>105</th>\n",
       "      <td>source_country_freq</td>\n",
       "      <td>lost_reason_freq</td>\n",
       "      <td>0.017951</td>\n",
       "    </tr>\n",
       "    <tr>\n",
       "      <th>107</th>\n",
       "      <td>des_city_freq</td>\n",
       "      <td>source_city_freq</td>\n",
       "      <td>0.016605</td>\n",
       "    </tr>\n",
       "    <tr>\n",
       "      <th>109</th>\n",
       "      <td>des_city_freq</td>\n",
       "      <td>budget_freq</td>\n",
       "      <td>0.016562</td>\n",
       "    </tr>\n",
       "    <tr>\n",
       "      <th>111</th>\n",
       "      <td>source_freq</td>\n",
       "      <td>source_city_freq</td>\n",
       "      <td>0.016163</td>\n",
       "    </tr>\n",
       "    <tr>\n",
       "      <th>113</th>\n",
       "      <td>utm_source_freq</td>\n",
       "      <td>source_city_freq</td>\n",
       "      <td>0.013951</td>\n",
       "    </tr>\n",
       "    <tr>\n",
       "      <th>115</th>\n",
       "      <td>des_city_freq</td>\n",
       "      <td>source_country_freq</td>\n",
       "      <td>0.012937</td>\n",
       "    </tr>\n",
       "    <tr>\n",
       "      <th>117</th>\n",
       "      <td>movein_freq</td>\n",
       "      <td>source_city_freq</td>\n",
       "      <td>0.004789</td>\n",
       "    </tr>\n",
       "  </tbody>\n",
       "</table>\n",
       "</div>"
      ],
      "text/plain": [
       "               Feature 1            Feature 2  Correlation (abs)\n",
       "8            movein_freq           lease_freq           1.000000\n",
       "13           budget_freq          source_freq           0.700064\n",
       "15           source_freq          movein_freq           0.575397\n",
       "17           movein_freq          source_freq           0.575397\n",
       "19       utm_source_freq      utm_medium_freq           0.540456\n",
       "21            lease_freq          budget_freq           0.394639\n",
       "23           budget_freq           lease_freq           0.394639\n",
       "25       utm_medium_freq     des_country_freq           0.360733\n",
       "27           source_freq      utm_source_freq           0.330388\n",
       "29           source_freq      utm_medium_freq           0.311817\n",
       "31           source_freq     des_country_freq           0.276049\n",
       "33         des_city_freq     des_country_freq           0.268312\n",
       "35      des_country_freq      utm_source_freq           0.233715\n",
       "37           budget_freq      utm_source_freq           0.218892\n",
       "39       utm_medium_freq          budget_freq           0.197583\n",
       "41      source_city_freq  source_country_freq           0.195809\n",
       "43   source_country_freq     des_country_freq           0.192814\n",
       "45      lost_reason_freq        des_city_freq           0.176059\n",
       "47           movein_freq      utm_source_freq           0.160726\n",
       "49            lease_freq      utm_source_freq           0.160726\n",
       "51           budget_freq     des_country_freq           0.160630\n",
       "53   source_country_freq      utm_medium_freq           0.158766\n",
       "55      des_country_freq     lost_reason_freq           0.155408\n",
       "57           source_freq     lost_reason_freq           0.152216\n",
       "59           source_freq  source_country_freq           0.146004\n",
       "61           budget_freq     lost_reason_freq           0.143526\n",
       "63       utm_medium_freq          movein_freq           0.137085\n",
       "65       utm_medium_freq           lease_freq           0.137085\n",
       "67      lost_reason_freq      utm_medium_freq           0.120906\n",
       "69      des_country_freq           lease_freq           0.105766\n",
       "71      des_country_freq          movein_freq           0.105766\n",
       "73   source_country_freq          budget_freq           0.101655\n",
       "75           movein_freq     lost_reason_freq           0.099499\n",
       "77            lease_freq     lost_reason_freq           0.099499\n",
       "79       utm_source_freq  source_country_freq           0.094185\n",
       "81           source_freq        des_city_freq           0.082622\n",
       "83       utm_source_freq     lost_reason_freq           0.078708\n",
       "85      des_country_freq     source_city_freq           0.072971\n",
       "87       utm_medium_freq        des_city_freq           0.067096\n",
       "89       utm_source_freq        des_city_freq           0.065482\n",
       "91           movein_freq  source_country_freq           0.054323\n",
       "93   source_country_freq          movein_freq           0.054323\n",
       "95      source_city_freq          budget_freq           0.029659\n",
       "97           movein_freq        des_city_freq           0.028196\n",
       "99         des_city_freq          movein_freq           0.028196\n",
       "101     lost_reason_freq     source_city_freq           0.026918\n",
       "103     source_city_freq      utm_medium_freq           0.022264\n",
       "105  source_country_freq     lost_reason_freq           0.017951\n",
       "107        des_city_freq     source_city_freq           0.016605\n",
       "109        des_city_freq          budget_freq           0.016562\n",
       "111          source_freq     source_city_freq           0.016163\n",
       "113      utm_source_freq     source_city_freq           0.013951\n",
       "115        des_city_freq  source_country_freq           0.012937\n",
       "117          movein_freq     source_city_freq           0.004789"
      ]
     },
     "execution_count": 62,
     "metadata": {},
     "output_type": "execute_result"
    }
   ],
   "source": [
    "get_feature_correlation(new_data, top_n=None, corr_method='spearman',\n",
    "                            remove_duplicates=True, remove_self_correlations=True)\n",
    "    "
   ]
  },
  {
   "cell_type": "markdown",
   "metadata": {},
   "source": [
    "movein_freq and\tlease_freq\tare highly correlated\n",
    "\n",
    "budget_freq\tand source_freq are also highly correlated\t"
   ]
  },
  {
   "cell_type": "code",
   "execution_count": 63,
   "metadata": {},
   "outputs": [
    {
     "name": "stderr",
     "output_type": "stream",
     "text": [
      "C:\\Users\\sejal Jadev\\anaconda3\\lib\\site-packages\\seaborn\\distributions.py:453: FutureWarning:\n",
      "\n",
      "In a future version, the Index constructor will not infer numeric dtypes when passed object-dtype sequences (matching Series behavior)\n",
      "\n",
      "C:\\Users\\sejal Jadev\\anaconda3\\lib\\site-packages\\seaborn\\distributions.py:454: FutureWarning:\n",
      "\n",
      "In a future version, the Index constructor will not infer numeric dtypes when passed object-dtype sequences (matching Series behavior)\n",
      "\n"
     ]
    },
    {
     "data": {
      "text/plain": [
       "<seaborn.axisgrid.PairGrid at 0x11aff4e7040>"
      ]
     },
     "execution_count": 63,
     "metadata": {},
     "output_type": "execute_result"
    },
    {
     "data": {
      "image/png": "[encoded data removed]",
      "text/plain": [
       "<Figure size 2160x2160 with 156 Axes>"
      ]
     },
     "metadata": {
      "needs_background": "light"
     },
     "output_type": "display_data"
    }
   ],
   "source": [
    "sns.pairplot(new_data)"
   ]
  },
  {
   "cell_type": "code",
   "execution_count": 126,
   "metadata": {},
   "outputs": [],
   "source": [
    "pca = PCA()"
   ]
  },
  {
   "cell_type": "code",
   "execution_count": 127,
   "metadata": {},
   "outputs": [
    {
     "data": {
      "text/html": [
       "<style>#sk-container-id-5 {color: black;background-color: white;}#sk-container-id-5 pre{padding: 0;}#sk-container-id-5 div.sk-toggleable {background-color: white;}#sk-container-id-5 label.sk-toggleable__label {cursor: pointer;display: block;width: 100%;margin-bottom: 0;padding: 0.3em;box-sizing: border-box;text-align: center;}#sk-container-id-5 label.sk-toggleable__label-arrow:before {content: \"▸\";float: left;margin-right: 0.25em;color: #696969;}#sk-container-id-5 label.sk-toggleable__label-arrow:hover:before {color: black;}#sk-container-id-5 div.sk-estimator:hover label.sk-toggleable__label-arrow:before {color: black;}#sk-container-id-5 div.sk-toggleable__content {max-height: 0;max-width: 0;overflow: hidden;text-align: left;background-color: #f0f8ff;}#sk-container-id-5 div.sk-toggleable__content pre {margin: 0.2em;color: black;border-radius: 0.25em;background-color: #f0f8ff;}#sk-container-id-5 input.sk-toggleable__control:checked~div.sk-toggleable__content {max-height: 200px;max-width: 100%;overflow: auto;}#sk-container-id-5 input.sk-toggleable__control:checked~label.sk-toggleable__label-arrow:before {content: \"▾\";}#sk-container-id-5 div.sk-estimator input.sk-toggleable__control:checked~label.sk-toggleable__label {background-color: #d4ebff;}#sk-container-id-5 div.sk-label input.sk-toggleable__control:checked~label.sk-toggleable__label {background-color: #d4ebff;}#sk-container-id-5 input.sk-hidden--visually {border: 0;clip: rect(1px 1px 1px 1px);clip: rect(1px, 1px, 1px, 1px);height: 1px;margin: -1px;overflow: hidden;padding: 0;position: absolute;width: 1px;}#sk-container-id-5 div.sk-estimator {font-family: monospace;background-color: #f0f8ff;border: 1px dotted black;border-radius: 0.25em;box-sizing: border-box;margin-bottom: 0.5em;}#sk-container-id-5 div.sk-estimator:hover {background-color: #d4ebff;}#sk-container-id-5 div.sk-parallel-item::after {content: \"\";width: 100%;border-bottom: 1px solid gray;flex-grow: 1;}#sk-container-id-5 div.sk-label:hover label.sk-toggleable__label {background-color: #d4ebff;}#sk-container-id-5 div.sk-serial::before {content: \"\";position: absolute;border-left: 1px solid gray;box-sizing: border-box;top: 0;bottom: 0;left: 50%;z-index: 0;}#sk-container-id-5 div.sk-serial {display: flex;flex-direction: column;align-items: center;background-color: white;padding-right: 0.2em;padding-left: 0.2em;position: relative;}#sk-container-id-5 div.sk-item {position: relative;z-index: 1;}#sk-container-id-5 div.sk-parallel {display: flex;align-items: stretch;justify-content: center;background-color: white;position: relative;}#sk-container-id-5 div.sk-item::before, #sk-container-id-5 div.sk-parallel-item::before {content: \"\";position: absolute;border-left: 1px solid gray;box-sizing: border-box;top: 0;bottom: 0;left: 50%;z-index: -1;}#sk-container-id-5 div.sk-parallel-item {display: flex;flex-direction: column;z-index: 1;position: relative;background-color: white;}#sk-container-id-5 div.sk-parallel-item:first-child::after {align-self: flex-end;width: 50%;}#sk-container-id-5 div.sk-parallel-item:last-child::after {align-self: flex-start;width: 50%;}#sk-container-id-5 div.sk-parallel-item:only-child::after {width: 0;}#sk-container-id-5 div.sk-dashed-wrapped {border: 1px dashed gray;margin: 0 0.4em 0.5em 0.4em;box-sizing: border-box;padding-bottom: 0.4em;background-color: white;}#sk-container-id-5 div.sk-label label {font-family: monospace;font-weight: bold;display: inline-block;line-height: 1.2em;}#sk-container-id-5 div.sk-label-container {text-align: center;}#sk-container-id-5 div.sk-container {/* jupyter's `normalize.less` sets `[hidden] { display: none; }` but bootstrap.min.css set `[hidden] { display: none !important; }` so we also need the `!important` here to be able to override the default hidden behavior on the sphinx rendered scikit-learn.org. See: https://github.com/scikit-learn/scikit-learn/issues/21755 */display: inline-block !important;position: relative;}#sk-container-id-5 div.sk-text-repr-fallback {display: none;}</style><div id=\"sk-container-id-5\" class=\"sk-top-container\"><div class=\"sk-text-repr-fallback\"><pre>PCA()</pre><b>In a Jupyter environment, please rerun this cell to show the HTML representation or trust the notebook. <br />On GitHub, the HTML representation is unable to render, please try loading this page with nbviewer.org.</b></div><div class=\"sk-container\" hidden><div class=\"sk-item\"><div class=\"sk-estimator sk-toggleable\"><input class=\"sk-toggleable__control sk-hidden--visually\" id=\"sk-estimator-id-5\" type=\"checkbox\" checked><label for=\"sk-estimator-id-5\" class=\"sk-toggleable__label sk-toggleable__label-arrow\">PCA</label><div class=\"sk-toggleable__content\"><pre>PCA()</pre></div></div></div></div></div>"
      ],
      "text/plain": [
       "PCA()"
      ]
     },
     "execution_count": 127,
     "metadata": {},
     "output_type": "execute_result"
    }
   ],
   "source": [
    "pca.fit(x , y)"
   ]
  },
  {
   "cell_type": "code",
   "execution_count": 128,
   "metadata": {},
   "outputs": [
    {
     "name": "stdout",
     "output_type": "stream",
     "text": [
      "[4.18465398e-01 2.01033403e-01 1.29660647e-01 1.04870152e-01\n",
      " 6.14250074e-02 4.17520783e-02 1.93502444e-02 1.48009578e-02\n",
      " 7.41487533e-03 1.22723663e-03 1.60662572e-34]\n"
     ]
    }
   ],
   "source": [
    "print(pca.explained_variance_ratio_)"
   ]
  },
  {
   "cell_type": "code",
   "execution_count": 129,
   "metadata": {},
   "outputs": [
    {
     "name": "stdout",
     "output_type": "stream",
     "text": [
      "['lost_reason_freq' 'budget_freq' 'lease_freq' 'movein_freq' 'source_freq'\n",
      " 'source_city_freq' 'source_country_freq' 'utm_source_freq'\n",
      " 'utm_medium_freq' 'des_city_freq' 'des_country_freq']\n"
     ]
    }
   ],
   "source": [
    "print(pca.feature_names_in_)"
   ]
  },
  {
   "cell_type": "code",
   "execution_count": 130,
   "metadata": {},
   "outputs": [
    {
     "data": {
      "image/png": "[encoded data removed]",
      "text/plain": [
       "<Figure size 720x432 with 1 Axes>"
      ]
     },
     "metadata": {
      "needs_background": "light"
     },
     "output_type": "display_data"
    }
   ],
   "source": [
    "loc = np.arange(1,12,step=1.0)\n",
    "plt.figure(figsize = (10, 6))\n",
    "plt.plot(range(1,12), pca.explained_variance_ratio_)\n",
    "plt.xticks(loc)\n",
    "plt.xlabel('Feature number')\n",
    "plt.ylabel('explained_variance_ratio_')\n",
    "plt.show()"
   ]
  },
  {
   "cell_type": "code",
   "execution_count": 136,
   "metadata": {},
   "outputs": [],
   "source": [
    "x_drop = x[['lost_reason_freq', 'budget_freq', 'lease_freq', 'movein_freq',\n",
    "       'source_freq', 'source_city_freq']]"
   ]
  },
  {
   "cell_type": "code",
   "execution_count": 135,
   "metadata": {},
   "outputs": [
    {
     "data": {
      "text/plain": [
       "Index(['lost_reason_freq', 'budget_freq', 'lease_freq', 'movein_freq',\n",
       "       'source_freq', 'source_city_freq', 'source_country_freq',\n",
       "       'utm_source_freq', 'utm_medium_freq', 'des_city_freq',\n",
       "       'des_country_freq'],\n",
       "      dtype='object')"
      ]
     },
     "execution_count": 135,
     "metadata": {},
     "output_type": "execute_result"
    }
   ],
   "source": [
    "y = y.astype(\"int\") ; x.columns"
   ]
  },
  {
   "cell_type": "code",
   "execution_count": 151,
   "metadata": {},
   "outputs": [],
   "source": [
    "x_train  , x_test , y_train , y_test = train_test_split(x_drop , y , test_size = 0.2 , random_state = 0)"
   ]
  },
  {
   "cell_type": "code",
   "execution_count": 152,
   "metadata": {},
   "outputs": [
    {
     "data": {
      "text/html": [
       "<style>#sk-container-id-6 {color: black;background-color: white;}#sk-container-id-6 pre{padding: 0;}#sk-container-id-6 div.sk-toggleable {background-color: white;}#sk-container-id-6 label.sk-toggleable__label {cursor: pointer;display: block;width: 100%;margin-bottom: 0;padding: 0.3em;box-sizing: border-box;text-align: center;}#sk-container-id-6 label.sk-toggleable__label-arrow:before {content: \"▸\";float: left;margin-right: 0.25em;color: #696969;}#sk-container-id-6 label.sk-toggleable__label-arrow:hover:before {color: black;}#sk-container-id-6 div.sk-estimator:hover label.sk-toggleable__label-arrow:before {color: black;}#sk-container-id-6 div.sk-toggleable__content {max-height: 0;max-width: 0;overflow: hidden;text-align: left;background-color: #f0f8ff;}#sk-container-id-6 div.sk-toggleable__content pre {margin: 0.2em;color: black;border-radius: 0.25em;background-color: #f0f8ff;}#sk-container-id-6 input.sk-toggleable__control:checked~div.sk-toggleable__content {max-height: 200px;max-width: 100%;overflow: auto;}#sk-container-id-6 input.sk-toggleable__control:checked~label.sk-toggleable__label-arrow:before {content: \"▾\";}#sk-container-id-6 div.sk-estimator input.sk-toggleable__control:checked~label.sk-toggleable__label {background-color: #d4ebff;}#sk-container-id-6 div.sk-label input.sk-toggleable__control:checked~label.sk-toggleable__label {background-color: #d4ebff;}#sk-container-id-6 input.sk-hidden--visually {border: 0;clip: rect(1px 1px 1px 1px);clip: rect(1px, 1px, 1px, 1px);height: 1px;margin: -1px;overflow: hidden;padding: 0;position: absolute;width: 1px;}#sk-container-id-6 div.sk-estimator {font-family: monospace;background-color: #f0f8ff;border: 1px dotted black;border-radius: 0.25em;box-sizing: border-box;margin-bottom: 0.5em;}#sk-container-id-6 div.sk-estimator:hover {background-color: #d4ebff;}#sk-container-id-6 div.sk-parallel-item::after {content: \"\";width: 100%;border-bottom: 1px solid gray;flex-grow: 1;}#sk-container-id-6 div.sk-label:hover label.sk-toggleable__label {background-color: #d4ebff;}#sk-container-id-6 div.sk-serial::before {content: \"\";position: absolute;border-left: 1px solid gray;box-sizing: border-box;top: 0;bottom: 0;left: 50%;z-index: 0;}#sk-container-id-6 div.sk-serial {display: flex;flex-direction: column;align-items: center;background-color: white;padding-right: 0.2em;padding-left: 0.2em;position: relative;}#sk-container-id-6 div.sk-item {position: relative;z-index: 1;}#sk-container-id-6 div.sk-parallel {display: flex;align-items: stretch;justify-content: center;background-color: white;position: relative;}#sk-container-id-6 div.sk-item::before, #sk-container-id-6 div.sk-parallel-item::before {content: \"\";position: absolute;border-left: 1px solid gray;box-sizing: border-box;top: 0;bottom: 0;left: 50%;z-index: -1;}#sk-container-id-6 div.sk-parallel-item {display: flex;flex-direction: column;z-index: 1;position: relative;background-color: white;}#sk-container-id-6 div.sk-parallel-item:first-child::after {align-self: flex-end;width: 50%;}#sk-container-id-6 div.sk-parallel-item:last-child::after {align-self: flex-start;width: 50%;}#sk-container-id-6 div.sk-parallel-item:only-child::after {width: 0;}#sk-container-id-6 div.sk-dashed-wrapped {border: 1px dashed gray;margin: 0 0.4em 0.5em 0.4em;box-sizing: border-box;padding-bottom: 0.4em;background-color: white;}#sk-container-id-6 div.sk-label label {font-family: monospace;font-weight: bold;display: inline-block;line-height: 1.2em;}#sk-container-id-6 div.sk-label-container {text-align: center;}#sk-container-id-6 div.sk-container {/* jupyter's `normalize.less` sets `[hidden] { display: none; }` but bootstrap.min.css set `[hidden] { display: none !important; }` so we also need the `!important` here to be able to override the default hidden behavior on the sphinx rendered scikit-learn.org. See: https://github.com/scikit-learn/scikit-learn/issues/21755 */display: inline-block !important;position: relative;}#sk-container-id-6 div.sk-text-repr-fallback {display: none;}</style><div id=\"sk-container-id-6\" class=\"sk-top-container\"><div class=\"sk-text-repr-fallback\"><pre>LGBMClassifier()</pre><b>In a Jupyter environment, please rerun this cell to show the HTML representation or trust the notebook. <br />On GitHub, the HTML representation is unable to render, please try loading this page with nbviewer.org.</b></div><div class=\"sk-container\" hidden><div class=\"sk-item\"><div class=\"sk-estimator sk-toggleable\"><input class=\"sk-toggleable__control sk-hidden--visually\" id=\"sk-estimator-id-6\" type=\"checkbox\" checked><label for=\"sk-estimator-id-6\" class=\"sk-toggleable__label sk-toggleable__label-arrow\">LGBMClassifier</label><div class=\"sk-toggleable__content\"><pre>LGBMClassifier()</pre></div></div></div></div></div>"
      ],
      "text/plain": [
       "LGBMClassifier()"
      ]
     },
     "execution_count": 152,
     "metadata": {},
     "output_type": "execute_result"
    }
   ],
   "source": [
    "lgbm_clf = LGBMClassifier()\n",
    "lgbm_clf.fit(x_train , y_train)"
   ]
  },
  {
   "cell_type": "code",
   "execution_count": 154,
   "metadata": {},
   "outputs": [
    {
     "data": {
      "text/plain": [
       "0.9338490264070419"
      ]
     },
     "execution_count": 154,
     "metadata": {},
     "output_type": "execute_result"
    }
   ],
   "source": [
    "lgbm_clf.score(x_test , y_test) "
   ]
  },
  {
   "cell_type": "markdown",
   "metadata": {},
   "source": [
    "removing the features reduces the model score"
   ]
  },
  {
   "cell_type": "markdown",
   "metadata": {},
   "source": [
    "OVERSAMPLING"
   ]
  },
  {
   "cell_type": "code",
   "execution_count": 75,
   "metadata": {},
   "outputs": [],
   "source": [
    "oversample = SMOTE()\n",
    "a, b= oversample.fit_resample(x, y)"
   ]
  },
  {
   "cell_type": "code",
   "execution_count": 76,
   "metadata": {},
   "outputs": [
    {
     "data": {
      "text/plain": [
       "((69922, 11), (69922,))"
      ]
     },
     "execution_count": 76,
     "metadata": {},
     "output_type": "execute_result"
    }
   ],
   "source": [
    "a.shape , b.shape"
   ]
  },
  {
   "cell_type": "code",
   "execution_count": 77,
   "metadata": {},
   "outputs": [
    {
     "name": "stdout",
     "output_type": "stream",
     "text": [
      "Counter({0: 34961, 1: 34961})\n"
     ]
    }
   ],
   "source": [
    "counter = Counter(b)\n",
    "print(counter)"
   ]
  },
  {
   "cell_type": "code",
   "execution_count": 78,
   "metadata": {},
   "outputs": [
    {
     "name": "stdout",
     "output_type": "stream",
     "text": [
      "Counter({0: 34961, 1: 2525})\n"
     ]
    }
   ],
   "source": [
    "counter = Counter(y)\n",
    "print(counter)"
   ]
  },
  {
   "cell_type": "code",
   "execution_count": 143,
   "metadata": {},
   "outputs": [],
   "source": [
    "x_train  , x_test , y_train , y_test = train_test_split(x , y , test_size = 0.2 , random_state = 0)"
   ]
  },
  {
   "cell_type": "code",
   "execution_count": 146,
   "metadata": {},
   "outputs": [],
   "source": [
    "# Extra Trees Classifier \n",
    "extra_clf = ExtraTreesClassifier()\n",
    "extra_scores = cross_val_score(extra_clf, x_train, y_train, cv=5)\n",
    "extra_mean = extra_scores.mean()\n",
    "\n",
    "# Gradient Boosting Classifier\n",
    "grad_clf = GradientBoostingClassifier()\n",
    "grad_scores = cross_val_score(grad_clf, x_train, y_train, cv=5)\n",
    "grad_mean = grad_scores.mean()\n",
    "\n",
    "# Random Forest Classifier\n",
    "rand_clf = RandomForestClassifier()\n",
    "rand_scores = cross_val_score(rand_clf, x_train, y_train, cv=5)\n",
    "rand_mean = rand_scores.mean()\n",
    "\n",
    "# LGBM Classifier\n",
    "lgbm_clf = LGBMClassifier()\n",
    "lgbm_scores = cross_val_score(lgbm_clf, x_train, y_train, cv=5)\n",
    "lgbm_mean = lgbm_scores.mean()\n",
    "\n",
    "# KNeighbors Classifier\n",
    "knn_clf = KNeighborsClassifier()\n",
    "knn_scores = cross_val_score(knn_clf, x_train, y_train, cv=5)\n",
    "knn_mean = knn_scores.mean()\n",
    "\n",
    "#Perceptron\n",
    "per = Perceptron()\n",
    "per_scores = cross_val_score(per, x_train, y_train, cv=5)\n",
    "per_mean = per_scores.mean()\n",
    "\n",
    "\n",
    "d = {'Classifiers': [\"ExtraTreesclf\" , \"GradientBosstingclf\" , \"RandomForest\" ,\"LGBMclf\" , \"KNN\" , \"Perceptron\" ], \n",
    "    'Crossval Mean Scores': [extra_mean , grad_mean , rand_mean , lgbm_mean , knn_mean , per_mean]}\n",
    "\n",
    "result_df = pd.DataFrame(data=d)"
   ]
  },
  {
   "cell_type": "code",
   "execution_count": 147,
   "metadata": {},
   "outputs": [
    {
     "data": {
      "text/html": [
       "<div>\n",
       "<style scoped>\n",
       "    .dataframe tbody tr th:only-of-type {\n",
       "        vertical-align: middle;\n",
       "    }\n",
       "\n",
       "    .dataframe tbody tr th {\n",
       "        vertical-align: top;\n",
       "    }\n",
       "\n",
       "    .dataframe thead th {\n",
       "        text-align: right;\n",
       "    }\n",
       "</style>\n",
       "<table border=\"1\" class=\"dataframe\">\n",
       "  <thead>\n",
       "    <tr style=\"text-align: right;\">\n",
       "      <th></th>\n",
       "      <th>Classifiers</th>\n",
       "      <th>Crossval Mean Scores</th>\n",
       "    </tr>\n",
       "  </thead>\n",
       "  <tbody>\n",
       "    <tr>\n",
       "      <th>3</th>\n",
       "      <td>LGBMclf</td>\n",
       "      <td>0.958283</td>\n",
       "    </tr>\n",
       "    <tr>\n",
       "      <th>1</th>\n",
       "      <td>GradientBosstingclf</td>\n",
       "      <td>0.957049</td>\n",
       "    </tr>\n",
       "    <tr>\n",
       "      <th>2</th>\n",
       "      <td>RandomForest</td>\n",
       "      <td>0.950814</td>\n",
       "    </tr>\n",
       "    <tr>\n",
       "      <th>0</th>\n",
       "      <td>ExtraTreesclf</td>\n",
       "      <td>0.949913</td>\n",
       "    </tr>\n",
       "    <tr>\n",
       "      <th>4</th>\n",
       "      <td>KNN</td>\n",
       "      <td>0.947279</td>\n",
       "    </tr>\n",
       "    <tr>\n",
       "      <th>5</th>\n",
       "      <td>Perceptron</td>\n",
       "      <td>0.917467</td>\n",
       "    </tr>\n",
       "  </tbody>\n",
       "</table>\n",
       "</div>"
      ],
      "text/plain": [
       "           Classifiers  Crossval Mean Scores\n",
       "3              LGBMclf              0.958283\n",
       "1  GradientBosstingclf              0.957049\n",
       "2         RandomForest              0.950814\n",
       "0        ExtraTreesclf              0.949913\n",
       "4                  KNN              0.947279\n",
       "5           Perceptron              0.917467"
      ]
     },
     "execution_count": 147,
     "metadata": {},
     "output_type": "execute_result"
    }
   ],
   "source": [
    "result_df.sort_values(by = [\"Crossval Mean Scores\"] , ascending = False)"
   ]
  },
  {
   "cell_type": "code",
   "execution_count": 148,
   "metadata": {},
   "outputs": [
    {
     "data": {
      "text/plain": [
       "array([0.90196639, 0.92291741, 0.92835181, 0.9365034 , 0.94651412,\n",
       "       0.95144798, 0.95409367, 0.95895602, 0.96153021, 0.96489095,\n",
       "       0.96489095])"
      ]
     },
     "execution_count": 148,
     "metadata": {},
     "output_type": "execute_result"
    }
   ],
   "source": [
    "mean_acc = np.zeros(11)\n",
    "for i in range(1,12):\n",
    "    etc = LGBMClassifier()\n",
    "    x_new_ = SelectKBest(f_classif, k = i).fit_transform(a , b )\n",
    "    x_train  , x_test , y_train , y_test = train_test_split(x_new_ , b , test_size = 0.2 , random_state = 0)\n",
    "    etc.fit(x_train , y_train)\n",
    "    yhat= etc.predict(x_test)\n",
    "    mean_acc[i-1] = metrics.accuracy_score(y_test, yhat)\n",
    "mean_acc  "
   ]
  },
  {
   "cell_type": "code",
   "execution_count": 149,
   "metadata": {},
   "outputs": [
    {
     "data": {
      "image/png": "[encoded data removed]",
      "text/plain": [
       "<Figure size 720x432 with 1 Axes>"
      ]
     },
     "metadata": {
      "needs_background": "light"
     },
     "output_type": "display_data"
    }
   ],
   "source": [
    "loc = np.arange(1,12,step=1.0)\n",
    "plt.figure(figsize = (10, 6))\n",
    "plt.plot(range(1,12), mean_acc)\n",
    "plt.xticks(loc)\n",
    "plt.xlabel('Number of Features for oversampled data ')\n",
    "plt.ylabel('Accuracy')\n",
    "plt.show()"
   ]
  },
  {
   "cell_type": "markdown",
   "metadata": {},
   "source": [
    "considering all the features helps perform the model optimally in oversampling "
   ]
  },
  {
   "cell_type": "code",
   "execution_count": 150,
   "metadata": {},
   "outputs": [
    {
     "data": {
      "text/plain": [
       "<sklearn.metrics._plot.confusion_matrix.ConfusionMatrixDisplay at 0x11a8fec0d00>"
      ]
     },
     "execution_count": 150,
     "metadata": {},
     "output_type": "execute_result"
    },
    {
     "data": {
      "image/png": "[encoded data removed]",
      "text/plain": [
       "<Figure size 432x288 with 2 Axes>"
      ]
     },
     "metadata": {
      "needs_background": "light"
     },
     "output_type": "display_data"
    }
   ],
   "source": [
    "etc = LGBMClassifier()\n",
    "etc.fit(x_train , y_train)\n",
    "    \n",
    "predictions = etc.predict(x_test)\n",
    "cm = confusion_matrix(y_test, predictions, labels=etc.classes_)\n",
    "disp = ConfusionMatrixDisplay(confusion_matrix=cm,\n",
    "                               display_labels=etc.classes_)\n",
    "disp.plot()"
   ]
  },
  {
   "cell_type": "code",
   "execution_count": 107,
   "metadata": {},
   "outputs": [
    {
     "data": {
      "image/png": "[encoded data removed]",
      "text/plain": [
       "<Figure size 432x288 with 1 Axes>"
      ]
     },
     "metadata": {
      "needs_background": "light"
     },
     "output_type": "display_data"
    }
   ],
   "source": [
    "train_sizes, train_scores, test_scores = learning_curve(estimator=LGBMClassifier(), X=x_train, y=y_train,\n",
    "                                                       cv=10, train_sizes=np.linspace(0.1, 1.0, 10),\n",
    "                                                     n_jobs=1)\n",
    "\n",
    "\n",
    "train_mean = np.mean(train_scores, axis=1)\n",
    "train_std = np.std(train_scores, axis=1)\n",
    "test_mean = np.mean(test_scores, axis=1)\n",
    "test_std = np.std(test_scores, axis=1)\n",
    "\n",
    "# Ploting the learning curve\n",
    "\n",
    "plt.plot(train_sizes, train_mean, color='blue', marker='o', markersize=5, label='Training Accuracy')\n",
    "plt.fill_between(train_sizes, train_mean + train_std, train_mean - train_std, alpha=0.15, color='blue')\n",
    "plt.plot(train_sizes, test_mean, color='green', marker='+', markersize=5, linestyle='--', label='Validation Accuracy')\n",
    "plt.fill_between(train_sizes, test_mean + test_std, test_mean - test_std, alpha=0.15, color='green')\n",
    "plt.title('Learning Curve')\n",
    "plt.xlabel('Training Data Size')\n",
    "plt.ylabel('Model accuracy')\n",
    "plt.grid()\n",
    "plt.legend(loc='lower right')\n",
    "plt.show()"
   ]
  },
  {
   "cell_type": "markdown",
   "metadata": {},
   "source": [
    "For training sample size less than 3000, the difference between training and validation accuracy is much larger. This is the case of overfitting\n",
    "\n",
    "For training size greater than 3000, the model is better. It is a sign of good bias-variance trade-off."
   ]
  },
  {
   "cell_type": "markdown",
   "metadata": {},
   "source": [
    "UNDERSAMPLING"
   ]
  },
  {
   "cell_type": "code",
   "execution_count": 157,
   "metadata": {},
   "outputs": [
    {
     "name": "stdout",
     "output_type": "stream",
     "text": [
      "Before Undersampling, counts of label '1': 2525\n",
      "Before Undersampling, counts of label '0': 34961 \n",
      "\n",
      "After Undersampling, the shape of train_X: (5050, 11)\n",
      "After Undersampling, the shape of train_y: (5050,) \n",
      "\n",
      "After Undersampling, counts of label '1': 2525\n",
      "After Undersampling, counts of label '0': 2525\n"
     ]
    }
   ],
   "source": [
    "print(\"Before Undersampling, counts of label '1': {}\".format(sum(y == 1)))\n",
    "print(\"Before Undersampling, counts of label '0': {} \\n\".format(sum(y == 0)))\n",
    "  \n",
    "# apply near miss\n",
    "from imblearn.under_sampling import NearMiss\n",
    "nr = NearMiss()\n",
    "  \n",
    "x_new, y_new = nr.fit_sample(x, y.ravel())\n",
    "  \n",
    "print('After Undersampling, the shape of train_X: {}'.format(x_new.shape))\n",
    "print('After Undersampling, the shape of train_y: {} \\n'.format(y_new.shape))\n",
    "  \n",
    "print(\"After Undersampling, counts of label '1': {}\".format(sum(y_new == 1)))\n",
    "print(\"After Undersampling, counts of label '0': {}\".format(sum(y_new == 0)))"
   ]
  },
  {
   "cell_type": "code",
   "execution_count": 158,
   "metadata": {},
   "outputs": [],
   "source": [
    "x_train  , x_test , y_train , y_test = train_test_split(x_new , y_new, test_size = 0.2 , random_state = 0)"
   ]
  },
  {
   "cell_type": "code",
   "execution_count": 97,
   "metadata": {},
   "outputs": [],
   "source": [
    "# Extra Trees Classifier \n",
    "extra_clf = ExtraTreesClassifier()\n",
    "extra_scores = cross_val_score(extra_clf, x_train, y_train, cv=5)\n",
    "extra_mean = extra_scores.mean()\n",
    "\n",
    "# Gradient Boosting Classifier\n",
    "grad_clf = GradientBoostingClassifier()\n",
    "grad_scores = cross_val_score(grad_clf, x_train, y_train, cv=5)\n",
    "grad_mean = grad_scores.mean()\n",
    "\n",
    "# Random Forest Classifier\n",
    "rand_clf = RandomForestClassifier()\n",
    "rand_scores = cross_val_score(rand_clf, x_train, y_train, cv=5)\n",
    "rand_mean = rand_scores.mean()\n",
    "\n",
    "# LGBM Classifier\n",
    "lgbm_clf = LGBMClassifier()\n",
    "lgbm_scores = cross_val_score(lgbm_clf, x_train, y_train, cv=5)\n",
    "lgbm_mean = lgbm_scores.mean()\n",
    "\n",
    "# KNeighbors Classifier\n",
    "knn_clf = KNeighborsClassifier()\n",
    "knn_scores = cross_val_score(knn_clf, x_train, y_train, cv=5)\n",
    "knn_mean = knn_scores.mean()\n",
    "\n",
    "#Perceptron\n",
    "per = Perceptron()\n",
    "per_scores = cross_val_score(per, x_train, y_train, cv=5)\n",
    "per_mean = per_scores.mean()\n",
    "\n",
    "\n",
    "d = {'Classifiers': [\"ExtraTreesclf\" , \"GradientBosstingclf\" , \"RandomForest\" ,\"LGBMclf\" , \"KNN\" , \"Perceptron\" ], \n",
    "    'Crossval Mean Scores': [extra_mean , grad_mean , rand_mean , lgbm_mean , knn_mean , per_mean]}\n",
    "\n",
    "result_df = pd.DataFrame(data=d)"
   ]
  },
  {
   "cell_type": "code",
   "execution_count": 98,
   "metadata": {},
   "outputs": [
    {
     "data": {
      "text/html": [
       "<div>\n",
       "<style scoped>\n",
       "    .dataframe tbody tr th:only-of-type {\n",
       "        vertical-align: middle;\n",
       "    }\n",
       "\n",
       "    .dataframe tbody tr th {\n",
       "        vertical-align: top;\n",
       "    }\n",
       "\n",
       "    .dataframe thead th {\n",
       "        text-align: right;\n",
       "    }\n",
       "</style>\n",
       "<table border=\"1\" class=\"dataframe\">\n",
       "  <thead>\n",
       "    <tr style=\"text-align: right;\">\n",
       "      <th></th>\n",
       "      <th>Classifiers</th>\n",
       "      <th>Crossval Mean Scores</th>\n",
       "    </tr>\n",
       "  </thead>\n",
       "  <tbody>\n",
       "    <tr>\n",
       "      <th>1</th>\n",
       "      <td>GradientBosstingclf</td>\n",
       "      <td>0.771040</td>\n",
       "    </tr>\n",
       "    <tr>\n",
       "      <th>3</th>\n",
       "      <td>LGBMclf</td>\n",
       "      <td>0.765347</td>\n",
       "    </tr>\n",
       "    <tr>\n",
       "      <th>2</th>\n",
       "      <td>RandomForest</td>\n",
       "      <td>0.743564</td>\n",
       "    </tr>\n",
       "    <tr>\n",
       "      <th>0</th>\n",
       "      <td>ExtraTreesclf</td>\n",
       "      <td>0.741584</td>\n",
       "    </tr>\n",
       "    <tr>\n",
       "      <th>4</th>\n",
       "      <td>KNN</td>\n",
       "      <td>0.724752</td>\n",
       "    </tr>\n",
       "    <tr>\n",
       "      <th>5</th>\n",
       "      <td>Perceptron</td>\n",
       "      <td>0.558911</td>\n",
       "    </tr>\n",
       "  </tbody>\n",
       "</table>\n",
       "</div>"
      ],
      "text/plain": [
       "           Classifiers  Crossval Mean Scores\n",
       "1  GradientBosstingclf              0.771040\n",
       "3              LGBMclf              0.765347\n",
       "2         RandomForest              0.743564\n",
       "0        ExtraTreesclf              0.741584\n",
       "4                  KNN              0.724752\n",
       "5           Perceptron              0.558911"
      ]
     },
     "execution_count": 98,
     "metadata": {},
     "output_type": "execute_result"
    }
   ],
   "source": [
    "result_df.sort_values(by = [\"Crossval Mean Scores\"] , ascending = False)"
   ]
  },
  {
   "cell_type": "code",
   "execution_count": 102,
   "metadata": {},
   "outputs": [
    {
     "data": {
      "text/plain": [
       "array([0.73465347, 0.76039604, 0.75841584, 0.75940594, 0.78019802,\n",
       "       0.78811881, 0.78811881, 0.79009901, 0.7970297 , 0.8029703 ,\n",
       "       0.8029703 ])"
      ]
     },
     "execution_count": 102,
     "metadata": {},
     "output_type": "execute_result"
    }
   ],
   "source": [
    "mean_acc = np.zeros(11)\n",
    "for i in range(1,12):\n",
    "    etc = GradientBoostingClassifier()\n",
    "    x_new_ = SelectKBest(f_classif, k = i).fit_transform(x_new , y_new )\n",
    "    x_train  , x_test , y_train , y_test = train_test_split(x_new_ , y_new , test_size = 0.2 , random_state = 0)\n",
    "    etc.fit(x_train , y_train)\n",
    "    yhat= etc.predict(x_test)\n",
    "    mean_acc[i-1] = metrics.accuracy_score(y_test, yhat)\n",
    "mean_acc    \n"
   ]
  },
  {
   "cell_type": "code",
   "execution_count": 103,
   "metadata": {},
   "outputs": [
    {
     "data": {
      "image/png": "[encoded data removed]",
      "text/plain": [
       "<Figure size 720x432 with 1 Axes>"
      ]
     },
     "metadata": {
      "needs_background": "light"
     },
     "output_type": "display_data"
    }
   ],
   "source": [
    "loc = np.arange(1,12,step=1.0)\n",
    "plt.figure(figsize = (10, 6))\n",
    "plt.plot(range(1,12), mean_acc)\n",
    "plt.xticks(loc)\n",
    "plt.xlabel('Number of Features for undersampled data ')\n",
    "plt.ylabel('Accuracy')\n",
    "plt.show()"
   ]
  },
  {
   "cell_type": "markdown",
   "metadata": {},
   "source": [
    "considering all the features helps perform the model optimally in undersampling "
   ]
  },
  {
   "cell_type": "code",
   "execution_count": 104,
   "metadata": {},
   "outputs": [
    {
     "data": {
      "text/plain": [
       "<sklearn.metrics._plot.confusion_matrix.ConfusionMatrixDisplay at 0x11a8ddabeb0>"
      ]
     },
     "execution_count": 104,
     "metadata": {},
     "output_type": "execute_result"
    },
    {
     "data": {
      "image/png": "[encoded data removed]",
      "text/plain": [
       "<Figure size 432x288 with 2 Axes>"
      ]
     },
     "metadata": {
      "needs_background": "light"
     },
     "output_type": "display_data"
    }
   ],
   "source": [
    "etc = GradientBoostingClassifier()\n",
    "etc.fit(x_train , y_train)\n",
    "    \n",
    "predictions = etc.predict(x_test)\n",
    "cm = confusion_matrix(y_test, predictions, labels=etc.classes_)\n",
    "disp = ConfusionMatrixDisplay(confusion_matrix=cm,\n",
    "                               display_labels=etc.classes_)\n",
    "disp.plot()"
   ]
  },
  {
   "cell_type": "code",
   "execution_count": 112,
   "metadata": {},
   "outputs": [
    {
     "data": {
      "image/png": "[encoded data removed]",
      "text/plain": [
       "<Figure size 432x288 with 1 Axes>"
      ]
     },
     "metadata": {
      "needs_background": "light"
     },
     "output_type": "display_data"
    }
   ],
   "source": [
    "train_sizes, train_scores, test_scores = learning_curve(estimator=GradientBoostingClassifier(), X=x_train, y=y_train,\n",
    "                                                       cv=10, train_sizes=np.linspace(0.1, 1.0, 10),\n",
    "                                                     n_jobs=1)\n",
    "\n",
    "\n",
    "train_mean = np.mean(train_scores, axis=1)\n",
    "train_std = np.std(train_scores, axis=1)\n",
    "test_mean = np.mean(test_scores, axis=1)\n",
    "test_std = np.std(test_scores, axis=1)\n",
    "\n",
    "# Ploting the learning curve\n",
    "\n",
    "plt.plot(train_sizes, train_mean, color='blue', marker='o', markersize=5, label='Training Accuracy')\n",
    "plt.fill_between(train_sizes, train_mean + train_std, train_mean - train_std, alpha=0.15, color='blue')\n",
    "plt.plot(train_sizes, test_mean, color='green', marker='+', markersize=5, linestyle='--', label='Validation Accuracy')\n",
    "plt.fill_between(train_sizes, test_mean + test_std, test_mean - test_std, alpha=0.15, color='green')\n",
    "plt.title('Learning Curve')\n",
    "plt.xlabel('Training Data Size')\n",
    "plt.ylabel('Model accuracy')\n",
    "plt.grid()\n",
    "plt.legend(loc='lower right')\n",
    "plt.show()"
   ]
  },
  {
   "cell_type": "markdown",
   "metadata": {},
   "source": [
    "For training sample size less than 1500, the difference between training and validation accuracy is much larger. This is the case of overfitting\n",
    "\n",
    "For training size greater than 1500, the model is better. It is a sign of good bias-variance trade-off."
   ]
  },
  {
   "cell_type": "code",
   "execution_count": 161,
   "metadata": {},
   "outputs": [],
   "source": [
    "gbc = GradientBoostingClassifier()\n",
    "parameters = {\n",
    "    \"n_estimators\":[5,50,250,500],\n",
    "    \"max_depth\":[1,3,5,7,9],\n",
    "    \"learning_rate\":[0.01,0.1,1,10,100]\n",
    "}"
   ]
  },
  {
   "cell_type": "code",
   "execution_count": 162,
   "metadata": {
    "scrolled": true
   },
   "outputs": [
    {
     "data": {
      "text/html": [
       "<style>#sk-container-id-7 {color: black;background-color: white;}#sk-container-id-7 pre{padding: 0;}#sk-container-id-7 div.sk-toggleable {background-color: white;}#sk-container-id-7 label.sk-toggleable__label {cursor: pointer;display: block;width: 100%;margin-bottom: 0;padding: 0.3em;box-sizing: border-box;text-align: center;}#sk-container-id-7 label.sk-toggleable__label-arrow:before {content: \"▸\";float: left;margin-right: 0.25em;color: #696969;}#sk-container-id-7 label.sk-toggleable__label-arrow:hover:before {color: black;}#sk-container-id-7 div.sk-estimator:hover label.sk-toggleable__label-arrow:before {color: black;}#sk-container-id-7 div.sk-toggleable__content {max-height: 0;max-width: 0;overflow: hidden;text-align: left;background-color: #f0f8ff;}#sk-container-id-7 div.sk-toggleable__content pre {margin: 0.2em;color: black;border-radius: 0.25em;background-color: #f0f8ff;}#sk-container-id-7 input.sk-toggleable__control:checked~div.sk-toggleable__content {max-height: 200px;max-width: 100%;overflow: auto;}#sk-container-id-7 input.sk-toggleable__control:checked~label.sk-toggleable__label-arrow:before {content: \"▾\";}#sk-container-id-7 div.sk-estimator input.sk-toggleable__control:checked~label.sk-toggleable__label {background-color: #d4ebff;}#sk-container-id-7 div.sk-label input.sk-toggleable__control:checked~label.sk-toggleable__label {background-color: #d4ebff;}#sk-container-id-7 input.sk-hidden--visually {border: 0;clip: rect(1px 1px 1px 1px);clip: rect(1px, 1px, 1px, 1px);height: 1px;margin: -1px;overflow: hidden;padding: 0;position: absolute;width: 1px;}#sk-container-id-7 div.sk-estimator {font-family: monospace;background-color: #f0f8ff;border: 1px dotted black;border-radius: 0.25em;box-sizing: border-box;margin-bottom: 0.5em;}#sk-container-id-7 div.sk-estimator:hover {background-color: #d4ebff;}#sk-container-id-7 div.sk-parallel-item::after {content: \"\";width: 100%;border-bottom: 1px solid gray;flex-grow: 1;}#sk-container-id-7 div.sk-label:hover label.sk-toggleable__label {background-color: #d4ebff;}#sk-container-id-7 div.sk-serial::before {content: \"\";position: absolute;border-left: 1px solid gray;box-sizing: border-box;top: 0;bottom: 0;left: 50%;z-index: 0;}#sk-container-id-7 div.sk-serial {display: flex;flex-direction: column;align-items: center;background-color: white;padding-right: 0.2em;padding-left: 0.2em;position: relative;}#sk-container-id-7 div.sk-item {position: relative;z-index: 1;}#sk-container-id-7 div.sk-parallel {display: flex;align-items: stretch;justify-content: center;background-color: white;position: relative;}#sk-container-id-7 div.sk-item::before, #sk-container-id-7 div.sk-parallel-item::before {content: \"\";position: absolute;border-left: 1px solid gray;box-sizing: border-box;top: 0;bottom: 0;left: 50%;z-index: -1;}#sk-container-id-7 div.sk-parallel-item {display: flex;flex-direction: column;z-index: 1;position: relative;background-color: white;}#sk-container-id-7 div.sk-parallel-item:first-child::after {align-self: flex-end;width: 50%;}#sk-container-id-7 div.sk-parallel-item:last-child::after {align-self: flex-start;width: 50%;}#sk-container-id-7 div.sk-parallel-item:only-child::after {width: 0;}#sk-container-id-7 div.sk-dashed-wrapped {border: 1px dashed gray;margin: 0 0.4em 0.5em 0.4em;box-sizing: border-box;padding-bottom: 0.4em;background-color: white;}#sk-container-id-7 div.sk-label label {font-family: monospace;font-weight: bold;display: inline-block;line-height: 1.2em;}#sk-container-id-7 div.sk-label-container {text-align: center;}#sk-container-id-7 div.sk-container {/* jupyter's `normalize.less` sets `[hidden] { display: none; }` but bootstrap.min.css set `[hidden] { display: none !important; }` so we also need the `!important` here to be able to override the default hidden behavior on the sphinx rendered scikit-learn.org. See: https://github.com/scikit-learn/scikit-learn/issues/21755 */display: inline-block !important;position: relative;}#sk-container-id-7 div.sk-text-repr-fallback {display: none;}</style><div id=\"sk-container-id-7\" class=\"sk-top-container\"><div class=\"sk-text-repr-fallback\"><pre>GridSearchCV(cv=5, estimator=GradientBoostingClassifier(),\n",
       "             param_grid={&#x27;learning_rate&#x27;: [0.01, 0.1, 1, 10, 100],\n",
       "                         &#x27;max_depth&#x27;: [1, 3, 5, 7, 9],\n",
       "                         &#x27;n_estimators&#x27;: [5, 50, 250, 500]})</pre><b>In a Jupyter environment, please rerun this cell to show the HTML representation or trust the notebook. <br />On GitHub, the HTML representation is unable to render, please try loading this page with nbviewer.org.</b></div><div class=\"sk-container\" hidden><div class=\"sk-item sk-dashed-wrapped\"><div class=\"sk-label-container\"><div class=\"sk-label sk-toggleable\"><input class=\"sk-toggleable__control sk-hidden--visually\" id=\"sk-estimator-id-7\" type=\"checkbox\" ><label for=\"sk-estimator-id-7\" class=\"sk-toggleable__label sk-toggleable__label-arrow\">GridSearchCV</label><div class=\"sk-toggleable__content\"><pre>GridSearchCV(cv=5, estimator=GradientBoostingClassifier(),\n",
       "             param_grid={&#x27;learning_rate&#x27;: [0.01, 0.1, 1, 10, 100],\n",
       "                         &#x27;max_depth&#x27;: [1, 3, 5, 7, 9],\n",
       "                         &#x27;n_estimators&#x27;: [5, 50, 250, 500]})</pre></div></div></div><div class=\"sk-parallel\"><div class=\"sk-parallel-item\"><div class=\"sk-item\"><div class=\"sk-label-container\"><div class=\"sk-label sk-toggleable\"><input class=\"sk-toggleable__control sk-hidden--visually\" id=\"sk-estimator-id-8\" type=\"checkbox\" ><label for=\"sk-estimator-id-8\" class=\"sk-toggleable__label sk-toggleable__label-arrow\">estimator: GradientBoostingClassifier</label><div class=\"sk-toggleable__content\"><pre>GradientBoostingClassifier()</pre></div></div></div><div class=\"sk-serial\"><div class=\"sk-item\"><div class=\"sk-estimator sk-toggleable\"><input class=\"sk-toggleable__control sk-hidden--visually\" id=\"sk-estimator-id-9\" type=\"checkbox\" ><label for=\"sk-estimator-id-9\" class=\"sk-toggleable__label sk-toggleable__label-arrow\">GradientBoostingClassifier</label><div class=\"sk-toggleable__content\"><pre>GradientBoostingClassifier()</pre></div></div></div></div></div></div></div></div></div></div>"
      ],
      "text/plain": [
       "GridSearchCV(cv=5, estimator=GradientBoostingClassifier(),\n",
       "             param_grid={'learning_rate': [0.01, 0.1, 1, 10, 100],\n",
       "                         'max_depth': [1, 3, 5, 7, 9],\n",
       "                         'n_estimators': [5, 50, 250, 500]})"
      ]
     },
     "execution_count": 162,
     "metadata": {},
     "output_type": "execute_result"
    }
   ],
   "source": [
    "cv = GridSearchCV(gbc,parameters,cv=5)\n",
    "cv.fit(x_train,y_train)"
   ]
  },
  {
   "cell_type": "code",
   "execution_count": 163,
   "metadata": {},
   "outputs": [
    {
     "data": {
      "text/plain": [
       "{'learning_rate': 0.1, 'max_depth': 3, 'n_estimators': 250}"
      ]
     },
     "execution_count": 163,
     "metadata": {},
     "output_type": "execute_result"
    }
   ],
   "source": [
    "cv.best_params_"
   ]
  },
  {
   "cell_type": "code",
   "execution_count": 174,
   "metadata": {},
   "outputs": [
    {
     "data": {
      "text/plain": [
       "0.7722772277227723"
      ]
     },
     "execution_count": 174,
     "metadata": {},
     "output_type": "execute_result"
    }
   ],
   "source": [
    "#improving scores\n",
    "grad_clf = GradientBoostingClassifier(learning_rate =  0.1, max_depth = 3, n_estimators = 250)\n",
    "grad_scores = cross_val_score(grad_clf, x_train, y_train, cv=5)\n",
    "grad_mean = grad_scores.mean() ; grad_mean"
   ]
  },
  {
   "cell_type": "code",
   "execution_count": 177,
   "metadata": {},
   "outputs": [
    {
     "name": "stdout",
     "output_type": "stream",
     "text": [
      "Precision Score:  0.8206185567010309\n",
      "Recall Score:  0.7850098619329389\n"
     ]
    }
   ],
   "source": [
    "from sklearn.metrics import f1_score , precision_score , recall_score\n",
    "grad_clf.fit(x_train , y_train)\n",
    "pred = grad_clf.predict(x_test)\n",
    "print('Precision Score: ', precision_score(y_test, pred))\n",
    "print('Recall Score: ', recall_score(y_test, pred))"
   ]
  },
  {
   "cell_type": "code",
   "execution_count": 180,
   "metadata": {},
   "outputs": [
    {
     "data": {
      "text/plain": [
       "0.8024193548387096"
      ]
     },
     "execution_count": 180,
     "metadata": {},
     "output_type": "execute_result"
    }
   ],
   "source": [
    "from sklearn.metrics import f1_score , roc_auc_score\n",
    "f1_score(y_test, pred)"
   ]
  },
  {
   "cell_type": "code",
   "execution_count": 181,
   "metadata": {},
   "outputs": [
    {
     "data": {
      "text/plain": [
       "(1010,)"
      ]
     },
     "execution_count": 181,
     "metadata": {},
     "output_type": "execute_result"
    }
   ],
   "source": [
    "y_pred = grad_clf.predict_proba(x_test)[:, 1]"
   ]
  },
  {
   "cell_type": "code",
   "execution_count": 183,
   "metadata": {},
   "outputs": [
    {
     "data": {
      "image/png": "[encoded data removed]",
      "text/plain": [
       "<Figure size 420x280 with 1 Axes>"
      ]
     },
     "metadata": {
      "needs_background": "light"
     },
     "output_type": "display_data"
    }
   ],
   "source": [
    "auc = roc_auc_score(y_test, y_pred)\n",
    "\n",
    "false_positive_rate, true_positive_rate, thresolds = roc_curve(y_test, y_pred)\n",
    "\n",
    "plt.figure(figsize=(6, 4), dpi=70)\n",
    "plt.axis('scaled')\n",
    "plt.xlim([0, 1])\n",
    "plt.ylim([0, 1])\n",
    "plt.title(\"AUC & ROC Curve\")\n",
    "plt.plot(false_positive_rate, true_positive_rate, 'g')\n",
    "plt.fill_between(false_positive_rate, true_positive_rate, facecolor='red', alpha=0.7)\n",
    "plt.text(0.95, 0.05, 'AUC = %0.4f' % auc, ha='right', fontsize=12, weight='bold', color='blue')\n",
    "plt.xlabel(\"False Positive Rate\")\n",
    "plt.ylabel(\"True Positive Rate\")\n",
    "plt.show()  "
   ]
  },
  {
   "cell_type": "code",
   "execution_count": 184,
   "metadata": {},
   "outputs": [
    {
     "data": {
      "image/png": "[encoded data removed]",
      "text/plain": [
       "<Figure size 432x288 with 1 Axes>"
      ]
     },
     "metadata": {
      "needs_background": "light"
     },
     "output_type": "display_data"
    }
   ],
   "source": [
    "random_probs = [0 for i in range(len(y_test))]\n",
    "p_fpr, p_tpr, _ = roc_curve(y_test, random_probs, pos_label=1)\n",
    "\n",
    "plt.plot(false_positive_rate, true_positive_rate, linestyle='--',color='orange', label='Gradient_Boosting')\n",
    "plt.plot(p_fpr, p_tpr, linestyle='--', color='blue')\n",
    "# title\n",
    "plt.title('ROC curve')\n",
    "# x label\n",
    "plt.xlabel('False Positive Rate')\n",
    "# y label\n",
    "plt.ylabel('True Positive rate')\n",
    "\n",
    "plt.legend(loc='best')\n",
    "plt.savefig('ROC',dpi=300)\n",
    "plt.show();"
   ]
  },
  {
   "cell_type": "code",
   "execution_count": null,
   "metadata": {},
   "outputs": [],
   "source": []
  }
 ],
 "metadata": {
  "kernelspec": {
   "display_name": "Python 3",
   "language": "python",
   "name": "python3"
  },
  "language_info": {
   "codemirror_mode": {
    "name": "ipython",
    "version": 3
   },
   "file_extension": ".py",
   "mimetype": "text/x-python",
   "name": "python",
   "nbconvert_exporter": "python",
   "pygments_lexer": "ipython3",
   "version": "3.8.5"
  }
 },
 "nbformat": 4,
 "nbformat_minor": 4
}
