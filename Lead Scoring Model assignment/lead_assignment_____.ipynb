{
 "cells": [
  {
   "cell_type": "markdown",
   "metadata": {},
   "source": [
    "# LEAD CONVERSION ANALYSIS"
   ]
  },
  {
   "cell_type": "markdown",
   "metadata": {},
   "source": [
    "THE FOLLOWING PROJECT CONSISTS OF THE LEAD CONVERSION DATA OF A COMPANY\n"
   ]
  },
  {
   "cell_type": "code",
   "execution_count": 140,
   "metadata": {},
   "outputs": [],
   "source": [
    "import pandas as pd\n",
    "import numpy as np\n",
    "import seaborn as sns\n",
    "import matplotlib.pyplot as plt\n",
    "import datetime\n",
    "from imblearn.over_sampling import SMOTE\n",
    "from imblearn.under_sampling import NearMiss\n",
    "\n",
    "from collections import Counter\n",
    "from sklearn.model_selection import GridSearchCV\n",
    "from sklearn.metrics import confusion_matrix, ConfusionMatrixDisplay\n",
    "\n",
    "from sklearn.metrics import classification_report\n",
    "from pandas.plotting import scatter_matrix\n",
    "from sklearn.preprocessing import LabelEncoder , StandardScaler\n",
    "from sklearn.decomposition import PCA\n",
    "\n",
    "from sklearn.model_selection import train_test_split , cross_val_score , cross_validate , cross_val_predict\n",
    "from sklearn.ensemble import ExtraTreesClassifier, GradientBoostingClassifier , RandomForestClassifier\n",
    "from sklearn.neighbors import KNeighborsClassifier\n",
    "from sklearn.model_selection import learning_curve\n",
    "from sklearn.feature_selection import chi2, SelectKBest, f_classif\n",
    "from sklearn import metrics\n",
    "\n",
    "from sklearn.linear_model import LogisticRegression , Perceptron\n",
    "from sklearn.metrics import confusion_matrix , roc_auc_score , precision_recall_curve , roc_curve\n",
    "from sklearn.metrics import accuracy_score\n",
    "from lightgbm import LGBMClassifier\n",
    "from xgboost import XGBClassifier\n",
    "\n",
    "import warnings\n",
    "warnings.filterwarnings(\"ignore\")"
   ]
  },
  {
   "cell_type": "markdown",
   "metadata": {},
   "source": [
    "# DATA"
   ]
  },
  {
   "cell_type": "code",
   "execution_count": 141,
   "metadata": {},
   "outputs": [],
   "source": [
    "data = pd.read_excel(\"lead_data.xlsx\")"
   ]
  },
  {
   "cell_type": "code",
   "execution_count": 142,
   "metadata": {},
   "outputs": [
    {
     "data": {
      "text/plain": [
       "Index(['Unnamed: 0', 'Agent_id', 'status', 'lost_reason', 'budget', 'lease',\n",
       "       'movein', 'source', 'source_city', 'source_country', 'utm_source',\n",
       "       'utm_medium', 'des_city', 'des_country', 'room_type', 'lead_id'],\n",
       "      dtype='object')"
      ]
     },
     "execution_count": 142,
     "metadata": {},
     "output_type": "execute_result"
    }
   ],
   "source": [
    "data.columns"
   ]
  },
  {
   "cell_type": "code",
   "execution_count": 143,
   "metadata": {},
   "outputs": [
    {
     "name": "stdout",
     "output_type": "stream",
     "text": [
      "<class 'pandas.core.frame.DataFrame'>\n",
      "RangeIndex: 46608 entries, 0 to 46607\n",
      "Data columns (total 16 columns):\n",
      " #   Column          Non-Null Count  Dtype         \n",
      "---  ------          --------------  -----         \n",
      " 0   Unnamed: 0      46608 non-null  int64         \n",
      " 1   Agent_id        46608 non-null  object        \n",
      " 2   status          46608 non-null  object        \n",
      " 3   lost_reason     43244 non-null  object        \n",
      " 4   budget          42908 non-null  object        \n",
      " 5   lease           44267 non-null  object        \n",
      " 6   movein          32970 non-null  datetime64[ns]\n",
      " 7   source          46608 non-null  object        \n",
      " 8   source_city     46608 non-null  object        \n",
      " 9   source_country  46608 non-null  object        \n",
      " 10  utm_source      46608 non-null  object        \n",
      " 11  utm_medium      46608 non-null  object        \n",
      " 12  des_city        46608 non-null  object        \n",
      " 13  des_country     46608 non-null  object        \n",
      " 14  room_type       23061 non-null  object        \n",
      " 15  lead_id         46608 non-null  object        \n",
      "dtypes: datetime64[ns](1), int64(1), object(14)\n",
      "memory usage: 5.7+ MB\n"
     ]
    }
   ],
   "source": [
    "data.info()"
   ]
  },
  {
   "cell_type": "code",
   "execution_count": 144,
   "metadata": {},
   "outputs": [
    {
     "data": {
      "text/plain": [
       "(46608, 16)"
      ]
     },
     "execution_count": 144,
     "metadata": {},
     "output_type": "execute_result"
    }
   ],
   "source": [
    "data.shape\n"
   ]
  },
  {
   "cell_type": "markdown",
   "metadata": {},
   "source": [
    " # DATA CLEANING"
   ]
  },
  {
   "cell_type": "code",
   "execution_count": 145,
   "metadata": {},
   "outputs": [
    {
     "data": {
      "text/plain": [
       "(46317, 16)"
      ]
     },
     "execution_count": 145,
     "metadata": {},
     "output_type": "execute_result"
    }
   ],
   "source": [
    "new_data = data[(data.status== \"LOST\") | (data.status== \"WON\")] ; new_data.shape"
   ]
  },
  {
   "cell_type": "code",
   "execution_count": 146,
   "metadata": {},
   "outputs": [
    {
     "data": {
      "text/plain": [
       "array(['LOST', 'WON'], dtype=object)"
      ]
     },
     "execution_count": 146,
     "metadata": {},
     "output_type": "execute_result"
    }
   ],
   "source": [
    "new_data.status.unique()"
   ]
  },
  {
   "cell_type": "markdown",
   "metadata": {},
   "source": [
    "For lead conversion analysis I only checked for the statuses of those leads which were WON and the ones which were LOST. "
   ]
  },
  {
   "cell_type": "code",
   "execution_count": 147,
   "metadata": {},
   "outputs": [
    {
     "data": {
      "text/plain": [
       "Unnamed: 0            0\n",
       "Agent_id              0\n",
       "status                0\n",
       "lost_reason        3073\n",
       "budget             3694\n",
       "lease              2336\n",
       "movein            13610\n",
       "source                0\n",
       "source_city           0\n",
       "source_country        0\n",
       "utm_source            0\n",
       "utm_medium            0\n",
       "des_city              0\n",
       "des_country           0\n",
       "room_type         23491\n",
       "lead_id               0\n",
       "dtype: int64"
      ]
     },
     "execution_count": 147,
     "metadata": {},
     "output_type": "execute_result"
    }
   ],
   "source": [
    "new_data.isna().sum()"
   ]
  },
  {
   "cell_type": "code",
   "execution_count": 148,
   "metadata": {},
   "outputs": [],
   "source": [
    "new_data.drop(\"Unnamed: 0\" , axis = 1 , inplace = True)\n",
    "new_data.drop(\"Agent_id\" , axis = 1 , inplace = True)\n",
    "new_data.drop(\"room_type\" , axis = 1 , inplace = True)\n",
    "new_data.drop(\"lead_id\" , axis = 1 , inplace = True)"
   ]
  },
  {
   "cell_type": "code",
   "execution_count": 149,
   "metadata": {},
   "outputs": [
    {
     "data": {
      "text/plain": [
       "status            0\n",
       "lost_reason       0\n",
       "budget            0\n",
       "lease             0\n",
       "movein            0\n",
       "source            0\n",
       "source_city       0\n",
       "source_country    0\n",
       "utm_source        0\n",
       "utm_medium        0\n",
       "des_city          0\n",
       "des_country       0\n",
       "dtype: int64"
      ]
     },
     "execution_count": 149,
     "metadata": {},
     "output_type": "execute_result"
    }
   ],
   "source": [
    "new_data.lost_reason.fillna(new_data.lost_reason.mode()[0] , inplace = True)\n",
    "new_data.budget.fillna(new_data.budget.mode()[0] , inplace = True)\n",
    "new_data.lease.fillna(new_data.lease.mode()[0] , inplace = True)\n",
    "new_data.movein.fillna(datetime.datetime(2022, 9, 10) , inplace = True)\n",
    "\n",
    "new_data.isna().sum()"
   ]
  },
  {
   "cell_type": "markdown",
   "metadata": {},
   "source": [
    "Since all the columns are categorical columns all the NA values have been replaced with the mode of the column.\n",
    "The columns which had way more NA values are futile, so dropped them. "
   ]
  },
  {
   "cell_type": "markdown",
   "metadata": {},
   "source": [
    "# DATA PREPROCESSING"
   ]
  },
  {
   "cell_type": "code",
   "execution_count": 150,
   "metadata": {},
   "outputs": [],
   "source": [
    "new_data.lease = new_data.lease.astype(str)\n",
    "new_data.movein = new_data.movein.astype(str)"
   ]
  },
  {
   "cell_type": "code",
   "execution_count": 151,
   "metadata": {},
   "outputs": [
    {
     "name": "stdout",
     "output_type": "stream",
     "text": [
      "\u001b[1m  status  \u001b[0m\n",
      "Number of total unique value for status feature is 2:\n",
      "\n",
      "\n",
      "\u001b[1m  lost_reason  \u001b[0m\n",
      "Number of total unique value for lost_reason feature is 30:\n",
      "\n",
      "\n",
      "\u001b[1m  budget  \u001b[0m\n",
      "Number of total unique value for budget feature is 1834:\n",
      "\n",
      "\n",
      "\u001b[1m  lease  \u001b[0m\n",
      "Number of total unique value for lease feature is 311:\n",
      "\n",
      "\n",
      "\u001b[1m  movein  \u001b[0m\n",
      "Number of total unique value for movein feature is 469:\n",
      "\n",
      "\n",
      "\u001b[1m  source  \u001b[0m\n",
      "Number of total unique value for source feature is 683:\n",
      "\n",
      "\n",
      "\u001b[1m  source_city  \u001b[0m\n",
      "Number of total unique value for source_city feature is 4316:\n",
      "\n",
      "\n",
      "\u001b[1m  source_country  \u001b[0m\n",
      "Number of total unique value for source_country feature is 185:\n",
      "\n",
      "\n",
      "\u001b[1m  utm_source  \u001b[0m\n",
      "Number of total unique value for utm_source feature is 35:\n",
      "\n",
      "\n",
      "\u001b[1m  utm_medium  \u001b[0m\n",
      "Number of total unique value for utm_medium feature is 64:\n",
      "\n",
      "\n",
      "\u001b[1m  des_city  \u001b[0m\n",
      "Number of total unique value for des_city feature is 220:\n",
      "\n",
      "\n",
      "\u001b[1m  des_country  \u001b[0m\n",
      "Number of total unique value for des_country feature is 15:\n",
      "\n",
      "\n"
     ]
    }
   ],
   "source": [
    "column_list = new_data.columns.values.tolist()\n",
    "\n",
    "for col in column_list:\n",
    "    print('\\033[1m  {}  \\033[0m'.format(col))\n",
    "    print(\"Number of total unique value for {} feature is {}:\".format(col , len(new_data[col].unique()) ))\n",
    "    print('\\n') "
   ]
  },
  {
   "cell_type": "code",
   "execution_count": 152,
   "metadata": {},
   "outputs": [
    {
     "data": {
      "text/plain": [
       "Index(['status', 'lost_reason', 'budget', 'lease', 'movein', 'source',\n",
       "       'source_city', 'source_country', 'utm_source', 'utm_medium', 'des_city',\n",
       "       'des_country'],\n",
       "      dtype='object')"
      ]
     },
     "execution_count": 152,
     "metadata": {},
     "output_type": "execute_result"
    }
   ],
   "source": [
    "new_data.columns"
   ]
  },
  {
   "cell_type": "markdown",
   "metadata": {},
   "source": [
    "FREQUENCY ENCODING"
   ]
  },
  {
   "cell_type": "code",
   "execution_count": 153,
   "metadata": {},
   "outputs": [
    {
     "data": {
      "text/plain": [
       "lost_reason\n",
       "Booked on campus accommodation   0.01\n",
       "Booked with competitor           0.01\n",
       "Booked with manager              0.01\n",
       "Cross sell                       0.00\n",
       "Didn't respond in time           0.00\n",
       "Distance issue                   0.00\n",
       "Guarantor issue                  0.00\n",
       "Inadequate details               0.02\n",
       "Junk lead                        0.01\n",
       "Junk lead/ Just Enquiring        0.00\n",
       "Just Enquiring                   0.03\n",
       "Lead issue                       0.00\n",
       "Looking for Scholarship          0.00\n",
       "Looking for admission            0.00\n",
       "Looking for loan                 0.00\n",
       "Low availability                 0.26\n",
       "Low budget                       0.12\n",
       "No supply                        0.01\n",
       "Not a student                    0.03\n",
       "Not going to university          0.01\n",
       "Not interested                   0.14\n",
       "Not responding                   0.17\n",
       "Not serving in that region       0.01\n",
       "Repeat lead                      0.01\n",
       "Semester stay                    0.02\n",
       "Short stay                       0.05\n",
       "Supply issue                     0.01\n",
       "Underage student                 0.00\n",
       "Visa/admission denied            0.00\n",
       "Wants private accommodation      0.06\n",
       "dtype: float64"
      ]
     },
     "execution_count": 153,
     "metadata": {},
     "output_type": "execute_result"
    }
   ],
   "source": [
    "new_data.groupby(\"lost_reason\").size()/len(new_data)"
   ]
  },
  {
   "cell_type": "code",
   "execution_count": 154,
   "metadata": {},
   "outputs": [
    {
     "data": {
      "text/plain": [
       "lost_reason\n",
       "Booked on campus accommodation   0.01\n",
       "Booked with competitor           0.01\n",
       "Booked with manager              0.01\n",
       "Cross sell                       0.00\n",
       "Didn't respond in time           0.00\n",
       "Distance issue                   0.00\n",
       "Guarantor issue                  0.00\n",
       "Inadequate details               0.02\n",
       "Junk lead                        0.01\n",
       "Junk lead/ Just Enquiring        0.00\n",
       "Just Enquiring                   0.03\n",
       "Lead issue                       0.00\n",
       "Looking for Scholarship          0.00\n",
       "Looking for admission            0.00\n",
       "Looking for loan                 0.00\n",
       "Low availability                 0.26\n",
       "Low budget                       0.12\n",
       "No supply                        0.01\n",
       "Not a student                    0.03\n",
       "Not going to university          0.01\n",
       "Not interested                   0.14\n",
       "Not responding                   0.17\n",
       "Not serving in that region       0.01\n",
       "Repeat lead                      0.01\n",
       "Semester stay                    0.02\n",
       "Short stay                       0.05\n",
       "Supply issue                     0.01\n",
       "Underage student                 0.00\n",
       "Visa/admission denied            0.00\n",
       "Wants private accommodation      0.06\n",
       "dtype: float64"
      ]
     },
     "execution_count": 154,
     "metadata": {},
     "output_type": "execute_result"
    }
   ],
   "source": [
    "(new_data.groupby(\"lost_reason\").size()/len(new_data)).round(2)"
   ]
  },
  {
   "cell_type": "code",
   "execution_count": 155,
   "metadata": {},
   "outputs": [
    {
     "data": {
      "text/plain": [
       "array([0.01, 0.  , 0.02, 0.03, 0.26, 0.12, 0.14, 0.17, 0.05, 0.06])"
      ]
     },
     "execution_count": 155,
     "metadata": {},
     "output_type": "execute_result"
    }
   ],
   "source": [
    "((new_data.groupby(\"lost_reason\").size()/len(new_data)).round(2)).unique() "
   ]
  },
  {
   "cell_type": "markdown",
   "metadata": {},
   "source": [
    "Using frequency encoding we reduced the unique values from 30 to 10"
   ]
  },
  {
   "cell_type": "code",
   "execution_count": 156,
   "metadata": {},
   "outputs": [],
   "source": [
    "l = ['lost_reason', 'budget', 'lease', 'movein', \"source\" , \"source_city\" ,\n",
    "     'source_country', 'utm_source', 'utm_medium', 'des_city', 'des_country']\n",
    "for i in l:\n",
    "    fe = new_data.groupby(i).size()\n",
    "    fe_ = fe/len(new_data)\n",
    "    new_data[i + \"_freq\"] = new_data[i].map(fe_).round(2)"
   ]
  },
  {
   "cell_type": "code",
   "execution_count": 157,
   "metadata": {},
   "outputs": [
    {
     "data": {
      "text/plain": [
       "Index(['status', 'lost_reason', 'budget', 'lease', 'movein', 'source',\n",
       "       'source_city', 'source_country', 'utm_source', 'utm_medium', 'des_city',\n",
       "       'des_country', 'lost_reason_freq', 'budget_freq', 'lease_freq',\n",
       "       'movein_freq', 'source_freq', 'source_city_freq', 'source_country_freq',\n",
       "       'utm_source_freq', 'utm_medium_freq', 'des_city_freq',\n",
       "       'des_country_freq'],\n",
       "      dtype='object')"
      ]
     },
     "execution_count": 157,
     "metadata": {},
     "output_type": "execute_result"
    }
   ],
   "source": [
    "new_data.columns"
   ]
  },
  {
   "cell_type": "code",
   "execution_count": 158,
   "metadata": {},
   "outputs": [
    {
     "name": "stdout",
     "output_type": "stream",
     "text": [
      "\u001b[1m  lost_reason_freq  \u001b[0m\n",
      "[0.17 0.12 0.01 0.06 0.05 0.26 0.14 0.03 0.   0.02]\n",
      "Number of total unique value for lost_reason_freq feature is 10:\n",
      "\n",
      "\n",
      "\u001b[1m  budget_freq  \u001b[0m\n",
      "[0.29 0.19 0.12 0.01 0.05 0.03 0.   0.02]\n",
      "Number of total unique value for budget_freq feature is 8:\n",
      "\n",
      "\n",
      "\u001b[1m  lease_freq  \u001b[0m\n",
      "[0.29 0.16 0.01 0.09 0.06 0.14 0.03 0.02 0.   0.05 0.04]\n",
      "Number of total unique value for lease_freq feature is 11:\n",
      "\n",
      "\n",
      "\u001b[1m  movein_freq  \u001b[0m\n",
      "[0.35 0.05 0.01 0.03 0.   0.02]\n",
      "Number of total unique value for movein_freq feature is 6:\n",
      "\n",
      "\n",
      "\u001b[1m  source_freq  \u001b[0m\n",
      "[0.13 0.41 0.08 0.05 0.01 0.   0.02]\n",
      "Number of total unique value for source_freq feature is 7:\n",
      "\n",
      "\n",
      "\u001b[1m  source_city_freq  \u001b[0m\n",
      "[0.19 0.01 0.   0.03 0.02 0.07]\n",
      "Number of total unique value for source_city_freq feature is 6:\n",
      "\n",
      "\n",
      "\u001b[1m  source_country_freq  \u001b[0m\n",
      "[0.19 0.4  0.15 0.   0.02 0.04 0.01]\n",
      "Number of total unique value for source_country_freq feature is 7:\n",
      "\n",
      "\n",
      "\u001b[1m  utm_source_freq  \u001b[0m\n",
      "[0.04 0.67 0.01 0.02 0.   0.03 0.1 ]\n",
      "Number of total unique value for utm_source_freq feature is 7:\n",
      "\n",
      "\n",
      "\u001b[1m  utm_medium_freq  \u001b[0m\n",
      "[0.04 0.68 0.02 0.01 0.   0.07]\n",
      "Number of total unique value for utm_medium_freq feature is 6:\n",
      "\n",
      "\n",
      "\u001b[1m  des_city_freq  \u001b[0m\n",
      "[0.16 0.03 0.07 0.01 0.05 0.   0.04 0.02]\n",
      "Number of total unique value for des_city_freq feature is 8:\n",
      "\n",
      "\n",
      "\u001b[1m  des_country_freq  \u001b[0m\n",
      "[0.92 0.05 0.02 0.  ]\n",
      "Number of total unique value for des_country_freq feature is 4:\n",
      "\n",
      "\n"
     ]
    }
   ],
   "source": [
    "frequency_col = ['lost_reason_freq', 'budget_freq', 'lease_freq',\n",
    "       'movein_freq', 'source_freq', 'source_city_freq', 'source_country_freq',\n",
    "       'utm_source_freq', 'utm_medium_freq', 'des_city_freq',\n",
    "       'des_country_freq']\n",
    "\n",
    "for col in frequency_col:\n",
    "    print('\\033[1m  {}  \\033[0m'.format(col))\n",
    "    print(new_data[col].unique())\n",
    "    print(\"Number of total unique value for {} feature is {}:\".format(col , len(new_data[col].unique()) ))\n",
    "    print('\\n') \n"
   ]
  },
  {
   "cell_type": "code",
   "execution_count": 159,
   "metadata": {},
   "outputs": [],
   "source": [
    "new_data.drop(['lost_reason', 'budget', 'lease', 'movein', 'source',\n",
    "       'source_city', 'source_country', 'utm_source', 'utm_medium', 'des_city',\n",
    "       'des_country'] , axis = 1 , inplace = True)"
   ]
  },
  {
   "cell_type": "code",
   "execution_count": 160,
   "metadata": {},
   "outputs": [
    {
     "data": {
      "text/html": [
       "<div>\n",
       "<style scoped>\n",
       "    .dataframe tbody tr th:only-of-type {\n",
       "        vertical-align: middle;\n",
       "    }\n",
       "\n",
       "    .dataframe tbody tr th {\n",
       "        vertical-align: top;\n",
       "    }\n",
       "\n",
       "    .dataframe thead th {\n",
       "        text-align: right;\n",
       "    }\n",
       "</style>\n",
       "<table border=\"1\" class=\"dataframe\">\n",
       "  <thead>\n",
       "    <tr style=\"text-align: right;\">\n",
       "      <th></th>\n",
       "      <th>status</th>\n",
       "      <th>lost_reason_freq</th>\n",
       "      <th>budget_freq</th>\n",
       "      <th>lease_freq</th>\n",
       "      <th>movein_freq</th>\n",
       "      <th>source_freq</th>\n",
       "      <th>source_city_freq</th>\n",
       "      <th>source_country_freq</th>\n",
       "      <th>utm_source_freq</th>\n",
       "      <th>utm_medium_freq</th>\n",
       "      <th>des_city_freq</th>\n",
       "      <th>des_country_freq</th>\n",
       "    </tr>\n",
       "  </thead>\n",
       "  <tbody>\n",
       "    <tr>\n",
       "      <th>0</th>\n",
       "      <td>LOST</td>\n",
       "      <td>0.17</td>\n",
       "      <td>0.29</td>\n",
       "      <td>0.29</td>\n",
       "      <td>0.35</td>\n",
       "      <td>0.13</td>\n",
       "      <td>0.19</td>\n",
       "      <td>0.19</td>\n",
       "      <td>0.04</td>\n",
       "      <td>0.04</td>\n",
       "      <td>0.16</td>\n",
       "      <td>0.92</td>\n",
       "    </tr>\n",
       "    <tr>\n",
       "      <th>1</th>\n",
       "      <td>LOST</td>\n",
       "      <td>0.12</td>\n",
       "      <td>0.29</td>\n",
       "      <td>0.29</td>\n",
       "      <td>0.35</td>\n",
       "      <td>0.13</td>\n",
       "      <td>0.19</td>\n",
       "      <td>0.19</td>\n",
       "      <td>0.04</td>\n",
       "      <td>0.04</td>\n",
       "      <td>0.03</td>\n",
       "      <td>0.92</td>\n",
       "    </tr>\n",
       "    <tr>\n",
       "      <th>2</th>\n",
       "      <td>LOST</td>\n",
       "      <td>0.17</td>\n",
       "      <td>0.19</td>\n",
       "      <td>0.29</td>\n",
       "      <td>0.05</td>\n",
       "      <td>0.41</td>\n",
       "      <td>0.01</td>\n",
       "      <td>0.40</td>\n",
       "      <td>0.67</td>\n",
       "      <td>0.68</td>\n",
       "      <td>0.07</td>\n",
       "      <td>0.92</td>\n",
       "    </tr>\n",
       "    <tr>\n",
       "      <th>3</th>\n",
       "      <td>LOST</td>\n",
       "      <td>0.12</td>\n",
       "      <td>0.12</td>\n",
       "      <td>0.16</td>\n",
       "      <td>0.35</td>\n",
       "      <td>0.08</td>\n",
       "      <td>0.00</td>\n",
       "      <td>0.40</td>\n",
       "      <td>0.67</td>\n",
       "      <td>0.68</td>\n",
       "      <td>0.01</td>\n",
       "      <td>0.92</td>\n",
       "    </tr>\n",
       "    <tr>\n",
       "      <th>4</th>\n",
       "      <td>LOST</td>\n",
       "      <td>0.01</td>\n",
       "      <td>0.29</td>\n",
       "      <td>0.29</td>\n",
       "      <td>0.35</td>\n",
       "      <td>0.13</td>\n",
       "      <td>0.19</td>\n",
       "      <td>0.19</td>\n",
       "      <td>0.04</td>\n",
       "      <td>0.04</td>\n",
       "      <td>0.05</td>\n",
       "      <td>0.05</td>\n",
       "    </tr>\n",
       "  </tbody>\n",
       "</table>\n",
       "</div>"
      ],
      "text/plain": [
       "  status  lost_reason_freq  budget_freq  lease_freq  movein_freq  source_freq  \\\n",
       "0   LOST              0.17         0.29        0.29         0.35         0.13   \n",
       "1   LOST              0.12         0.29        0.29         0.35         0.13   \n",
       "2   LOST              0.17         0.19        0.29         0.05         0.41   \n",
       "3   LOST              0.12         0.12        0.16         0.35         0.08   \n",
       "4   LOST              0.01         0.29        0.29         0.35         0.13   \n",
       "\n",
       "   source_city_freq  source_country_freq  utm_source_freq  utm_medium_freq  \\\n",
       "0              0.19                 0.19             0.04             0.04   \n",
       "1              0.19                 0.19             0.04             0.04   \n",
       "2              0.01                 0.40             0.67             0.68   \n",
       "3              0.00                 0.40             0.67             0.68   \n",
       "4              0.19                 0.19             0.04             0.04   \n",
       "\n",
       "   des_city_freq  des_country_freq  \n",
       "0           0.16              0.92  \n",
       "1           0.03              0.92  \n",
       "2           0.07              0.92  \n",
       "3           0.01              0.92  \n",
       "4           0.05              0.05  "
      ]
     },
     "execution_count": 160,
     "metadata": {},
     "output_type": "execute_result"
    }
   ],
   "source": [
    "new_data.head()"
   ]
  },
  {
   "cell_type": "markdown",
   "metadata": {},
   "source": [
    "# EDA"
   ]
  },
  {
   "cell_type": "code",
   "execution_count": 161,
   "metadata": {},
   "outputs": [],
   "source": [
    "y = new_data[\"status\"]\n",
    "x = new_data.iloc[: , 1:]"
   ]
  },
  {
   "cell_type": "code",
   "execution_count": 162,
   "metadata": {},
   "outputs": [],
   "source": [
    "y[y == \"LOST\"] = 0 \n",
    "y[y == \"WON\"] = 1 "
   ]
  },
  {
   "cell_type": "code",
   "execution_count": 163,
   "metadata": {},
   "outputs": [
    {
     "data": {
      "text/plain": [
       "0    43244\n",
       "1     3073\n",
       "Name: status, dtype: int64"
      ]
     },
     "execution_count": 163,
     "metadata": {},
     "output_type": "execute_result"
    }
   ],
   "source": [
    "y.value_counts()"
   ]
  },
  {
   "cell_type": "code",
   "execution_count": 164,
   "metadata": {},
   "outputs": [
    {
     "data": {
      "text/plain": [
       "((46317, 11), (46317,))"
      ]
     },
     "execution_count": 164,
     "metadata": {},
     "output_type": "execute_result"
    }
   ],
   "source": [
    "x.shape , y.shape"
   ]
  },
  {
   "cell_type": "code",
   "execution_count": 165,
   "metadata": {},
   "outputs": [],
   "source": [
    " def get_feature_correlation(df, top_n=None, corr_method='spearman',\n",
    "                            remove_duplicates=True, remove_self_correlations=True):\n",
    "    \n",
    "    corr_matrix_abs = df.corr(method=corr_method).abs()\n",
    "    corr_matrix_abs_us = corr_matrix_abs.unstack()\n",
    "    sorted_correlated_features = corr_matrix_abs_us \\\n",
    "        .sort_values( ascending=False) \\\n",
    "        .reset_index()\n",
    "\n",
    "    if remove_self_correlations:\n",
    "        sorted_correlated_features = sorted_correlated_features[\n",
    "            (sorted_correlated_features.level_0 != sorted_correlated_features.level_1)\n",
    "        ]\n",
    "        \n",
    "    if remove_duplicates:\n",
    "        sorted_correlated_features = sorted_correlated_features.drop_duplicates([0])\n",
    "\n",
    "\n",
    "    sorted_correlated_features.columns = ['Feature 1', 'Feature 2', 'Correlation (abs)'] \n",
    "\n",
    "    if top_n:\n",
    "        return sorted_correlated_features[:top_n]\n",
    "\n",
    "    return sorted_correlated_features"
   ]
  },
  {
   "cell_type": "code",
   "execution_count": 166,
   "metadata": {},
   "outputs": [
    {
     "data": {
      "text/html": [
       "<div>\n",
       "<style scoped>\n",
       "    .dataframe tbody tr th:only-of-type {\n",
       "        vertical-align: middle;\n",
       "    }\n",
       "\n",
       "    .dataframe tbody tr th {\n",
       "        vertical-align: top;\n",
       "    }\n",
       "\n",
       "    .dataframe thead th {\n",
       "        text-align: right;\n",
       "    }\n",
       "</style>\n",
       "<table border=\"1\" class=\"dataframe\">\n",
       "  <thead>\n",
       "    <tr style=\"text-align: right;\">\n",
       "      <th></th>\n",
       "      <th>Feature 1</th>\n",
       "      <th>Feature 2</th>\n",
       "      <th>Correlation (abs)</th>\n",
       "    </tr>\n",
       "  </thead>\n",
       "  <tbody>\n",
       "    <tr>\n",
       "      <th>11</th>\n",
       "      <td>utm_medium_freq</td>\n",
       "      <td>utm_source_freq</td>\n",
       "      <td>0.77</td>\n",
       "    </tr>\n",
       "    <tr>\n",
       "      <th>13</th>\n",
       "      <td>utm_medium_freq</td>\n",
       "      <td>source_freq</td>\n",
       "      <td>0.58</td>\n",
       "    </tr>\n",
       "    <tr>\n",
       "      <th>15</th>\n",
       "      <td>source_freq</td>\n",
       "      <td>utm_source_freq</td>\n",
       "      <td>0.53</td>\n",
       "    </tr>\n",
       "    <tr>\n",
       "      <th>17</th>\n",
       "      <td>source_freq</td>\n",
       "      <td>budget_freq</td>\n",
       "      <td>0.53</td>\n",
       "    </tr>\n",
       "    <tr>\n",
       "      <th>19</th>\n",
       "      <td>utm_medium_freq</td>\n",
       "      <td>source_city_freq</td>\n",
       "      <td>0.52</td>\n",
       "    </tr>\n",
       "    <tr>\n",
       "      <th>21</th>\n",
       "      <td>source_city_freq</td>\n",
       "      <td>utm_source_freq</td>\n",
       "      <td>0.47</td>\n",
       "    </tr>\n",
       "    <tr>\n",
       "      <th>23</th>\n",
       "      <td>budget_freq</td>\n",
       "      <td>lease_freq</td>\n",
       "      <td>0.43</td>\n",
       "    </tr>\n",
       "    <tr>\n",
       "      <th>25</th>\n",
       "      <td>movein_freq</td>\n",
       "      <td>source_freq</td>\n",
       "      <td>0.39</td>\n",
       "    </tr>\n",
       "    <tr>\n",
       "      <th>27</th>\n",
       "      <td>source_city_freq</td>\n",
       "      <td>source_freq</td>\n",
       "      <td>0.36</td>\n",
       "    </tr>\n",
       "    <tr>\n",
       "      <th>29</th>\n",
       "      <td>lease_freq</td>\n",
       "      <td>source_freq</td>\n",
       "      <td>0.27</td>\n",
       "    </tr>\n",
       "    <tr>\n",
       "      <th>31</th>\n",
       "      <td>budget_freq</td>\n",
       "      <td>movein_freq</td>\n",
       "      <td>0.27</td>\n",
       "    </tr>\n",
       "    <tr>\n",
       "      <th>33</th>\n",
       "      <td>des_country_freq</td>\n",
       "      <td>utm_medium_freq</td>\n",
       "      <td>0.26</td>\n",
       "    </tr>\n",
       "    <tr>\n",
       "      <th>35</th>\n",
       "      <td>des_country_freq</td>\n",
       "      <td>source_freq</td>\n",
       "      <td>0.24</td>\n",
       "    </tr>\n",
       "    <tr>\n",
       "      <th>37</th>\n",
       "      <td>des_country_freq</td>\n",
       "      <td>movein_freq</td>\n",
       "      <td>0.21</td>\n",
       "    </tr>\n",
       "    <tr>\n",
       "      <th>39</th>\n",
       "      <td>movein_freq</td>\n",
       "      <td>utm_source_freq</td>\n",
       "      <td>0.20</td>\n",
       "    </tr>\n",
       "    <tr>\n",
       "      <th>41</th>\n",
       "      <td>utm_medium_freq</td>\n",
       "      <td>budget_freq</td>\n",
       "      <td>0.19</td>\n",
       "    </tr>\n",
       "    <tr>\n",
       "      <th>43</th>\n",
       "      <td>utm_source_freq</td>\n",
       "      <td>budget_freq</td>\n",
       "      <td>0.19</td>\n",
       "    </tr>\n",
       "    <tr>\n",
       "      <th>45</th>\n",
       "      <td>des_city_freq</td>\n",
       "      <td>lost_reason_freq</td>\n",
       "      <td>0.18</td>\n",
       "    </tr>\n",
       "    <tr>\n",
       "      <th>47</th>\n",
       "      <td>utm_source_freq</td>\n",
       "      <td>des_country_freq</td>\n",
       "      <td>0.18</td>\n",
       "    </tr>\n",
       "    <tr>\n",
       "      <th>49</th>\n",
       "      <td>source_country_freq</td>\n",
       "      <td>des_country_freq</td>\n",
       "      <td>0.16</td>\n",
       "    </tr>\n",
       "    <tr>\n",
       "      <th>51</th>\n",
       "      <td>source_freq</td>\n",
       "      <td>source_country_freq</td>\n",
       "      <td>0.15</td>\n",
       "    </tr>\n",
       "    <tr>\n",
       "      <th>53</th>\n",
       "      <td>utm_medium_freq</td>\n",
       "      <td>movein_freq</td>\n",
       "      <td>0.14</td>\n",
       "    </tr>\n",
       "    <tr>\n",
       "      <th>55</th>\n",
       "      <td>lease_freq</td>\n",
       "      <td>source_country_freq</td>\n",
       "      <td>0.14</td>\n",
       "    </tr>\n",
       "    <tr>\n",
       "      <th>57</th>\n",
       "      <td>source_country_freq</td>\n",
       "      <td>utm_medium_freq</td>\n",
       "      <td>0.13</td>\n",
       "    </tr>\n",
       "    <tr>\n",
       "      <th>59</th>\n",
       "      <td>source_freq</td>\n",
       "      <td>lost_reason_freq</td>\n",
       "      <td>0.13</td>\n",
       "    </tr>\n",
       "    <tr>\n",
       "      <th>61</th>\n",
       "      <td>des_country_freq</td>\n",
       "      <td>budget_freq</td>\n",
       "      <td>0.12</td>\n",
       "    </tr>\n",
       "    <tr>\n",
       "      <th>63</th>\n",
       "      <td>budget_freq</td>\n",
       "      <td>lost_reason_freq</td>\n",
       "      <td>0.11</td>\n",
       "    </tr>\n",
       "    <tr>\n",
       "      <th>65</th>\n",
       "      <td>des_city_freq</td>\n",
       "      <td>source_freq</td>\n",
       "      <td>0.10</td>\n",
       "    </tr>\n",
       "    <tr>\n",
       "      <th>67</th>\n",
       "      <td>source_city_freq</td>\n",
       "      <td>source_country_freq</td>\n",
       "      <td>0.10</td>\n",
       "    </tr>\n",
       "    <tr>\n",
       "      <th>69</th>\n",
       "      <td>lost_reason_freq</td>\n",
       "      <td>movein_freq</td>\n",
       "      <td>0.09</td>\n",
       "    </tr>\n",
       "    <tr>\n",
       "      <th>71</th>\n",
       "      <td>utm_source_freq</td>\n",
       "      <td>lease_freq</td>\n",
       "      <td>0.08</td>\n",
       "    </tr>\n",
       "    <tr>\n",
       "      <th>73</th>\n",
       "      <td>budget_freq</td>\n",
       "      <td>source_country_freq</td>\n",
       "      <td>0.08</td>\n",
       "    </tr>\n",
       "    <tr>\n",
       "      <th>75</th>\n",
       "      <td>lease_freq</td>\n",
       "      <td>movein_freq</td>\n",
       "      <td>0.08</td>\n",
       "    </tr>\n",
       "    <tr>\n",
       "      <th>77</th>\n",
       "      <td>des_city_freq</td>\n",
       "      <td>movein_freq</td>\n",
       "      <td>0.08</td>\n",
       "    </tr>\n",
       "    <tr>\n",
       "      <th>79</th>\n",
       "      <td>lease_freq</td>\n",
       "      <td>utm_medium_freq</td>\n",
       "      <td>0.07</td>\n",
       "    </tr>\n",
       "    <tr>\n",
       "      <th>81</th>\n",
       "      <td>movein_freq</td>\n",
       "      <td>source_city_freq</td>\n",
       "      <td>0.06</td>\n",
       "    </tr>\n",
       "    <tr>\n",
       "      <th>83</th>\n",
       "      <td>source_country_freq</td>\n",
       "      <td>utm_source_freq</td>\n",
       "      <td>0.06</td>\n",
       "    </tr>\n",
       "    <tr>\n",
       "      <th>85</th>\n",
       "      <td>des_city_freq</td>\n",
       "      <td>source_city_freq</td>\n",
       "      <td>0.06</td>\n",
       "    </tr>\n",
       "    <tr>\n",
       "      <th>87</th>\n",
       "      <td>movein_freq</td>\n",
       "      <td>source_country_freq</td>\n",
       "      <td>0.06</td>\n",
       "    </tr>\n",
       "    <tr>\n",
       "      <th>89</th>\n",
       "      <td>lost_reason_freq</td>\n",
       "      <td>utm_medium_freq</td>\n",
       "      <td>0.06</td>\n",
       "    </tr>\n",
       "    <tr>\n",
       "      <th>91</th>\n",
       "      <td>lease_freq</td>\n",
       "      <td>des_city_freq</td>\n",
       "      <td>0.05</td>\n",
       "    </tr>\n",
       "    <tr>\n",
       "      <th>93</th>\n",
       "      <td>des_country_freq</td>\n",
       "      <td>des_city_freq</td>\n",
       "      <td>0.05</td>\n",
       "    </tr>\n",
       "    <tr>\n",
       "      <th>95</th>\n",
       "      <td>budget_freq</td>\n",
       "      <td>source_city_freq</td>\n",
       "      <td>0.04</td>\n",
       "    </tr>\n",
       "    <tr>\n",
       "      <th>97</th>\n",
       "      <td>des_country_freq</td>\n",
       "      <td>source_city_freq</td>\n",
       "      <td>0.04</td>\n",
       "    </tr>\n",
       "    <tr>\n",
       "      <th>99</th>\n",
       "      <td>lost_reason_freq</td>\n",
       "      <td>utm_source_freq</td>\n",
       "      <td>0.03</td>\n",
       "    </tr>\n",
       "    <tr>\n",
       "      <th>101</th>\n",
       "      <td>source_city_freq</td>\n",
       "      <td>lost_reason_freq</td>\n",
       "      <td>0.03</td>\n",
       "    </tr>\n",
       "    <tr>\n",
       "      <th>103</th>\n",
       "      <td>lease_freq</td>\n",
       "      <td>source_city_freq</td>\n",
       "      <td>0.02</td>\n",
       "    </tr>\n",
       "    <tr>\n",
       "      <th>105</th>\n",
       "      <td>source_country_freq</td>\n",
       "      <td>des_city_freq</td>\n",
       "      <td>0.02</td>\n",
       "    </tr>\n",
       "    <tr>\n",
       "      <th>107</th>\n",
       "      <td>des_country_freq</td>\n",
       "      <td>lease_freq</td>\n",
       "      <td>0.02</td>\n",
       "    </tr>\n",
       "    <tr>\n",
       "      <th>109</th>\n",
       "      <td>lease_freq</td>\n",
       "      <td>lost_reason_freq</td>\n",
       "      <td>0.02</td>\n",
       "    </tr>\n",
       "    <tr>\n",
       "      <th>111</th>\n",
       "      <td>des_city_freq</td>\n",
       "      <td>utm_source_freq</td>\n",
       "      <td>0.02</td>\n",
       "    </tr>\n",
       "    <tr>\n",
       "      <th>113</th>\n",
       "      <td>source_country_freq</td>\n",
       "      <td>lost_reason_freq</td>\n",
       "      <td>0.01</td>\n",
       "    </tr>\n",
       "    <tr>\n",
       "      <th>115</th>\n",
       "      <td>des_country_freq</td>\n",
       "      <td>lost_reason_freq</td>\n",
       "      <td>0.01</td>\n",
       "    </tr>\n",
       "    <tr>\n",
       "      <th>117</th>\n",
       "      <td>des_city_freq</td>\n",
       "      <td>utm_medium_freq</td>\n",
       "      <td>0.01</td>\n",
       "    </tr>\n",
       "    <tr>\n",
       "      <th>119</th>\n",
       "      <td>des_city_freq</td>\n",
       "      <td>budget_freq</td>\n",
       "      <td>0.00</td>\n",
       "    </tr>\n",
       "  </tbody>\n",
       "</table>\n",
       "</div>"
      ],
      "text/plain": [
       "               Feature 1            Feature 2  Correlation (abs)\n",
       "11       utm_medium_freq      utm_source_freq               0.77\n",
       "13       utm_medium_freq          source_freq               0.58\n",
       "15           source_freq      utm_source_freq               0.53\n",
       "17           source_freq          budget_freq               0.53\n",
       "19       utm_medium_freq     source_city_freq               0.52\n",
       "21      source_city_freq      utm_source_freq               0.47\n",
       "23           budget_freq           lease_freq               0.43\n",
       "25           movein_freq          source_freq               0.39\n",
       "27      source_city_freq          source_freq               0.36\n",
       "29            lease_freq          source_freq               0.27\n",
       "31           budget_freq          movein_freq               0.27\n",
       "33      des_country_freq      utm_medium_freq               0.26\n",
       "35      des_country_freq          source_freq               0.24\n",
       "37      des_country_freq          movein_freq               0.21\n",
       "39           movein_freq      utm_source_freq               0.20\n",
       "41       utm_medium_freq          budget_freq               0.19\n",
       "43       utm_source_freq          budget_freq               0.19\n",
       "45         des_city_freq     lost_reason_freq               0.18\n",
       "47       utm_source_freq     des_country_freq               0.18\n",
       "49   source_country_freq     des_country_freq               0.16\n",
       "51           source_freq  source_country_freq               0.15\n",
       "53       utm_medium_freq          movein_freq               0.14\n",
       "55            lease_freq  source_country_freq               0.14\n",
       "57   source_country_freq      utm_medium_freq               0.13\n",
       "59           source_freq     lost_reason_freq               0.13\n",
       "61      des_country_freq          budget_freq               0.12\n",
       "63           budget_freq     lost_reason_freq               0.11\n",
       "65         des_city_freq          source_freq               0.10\n",
       "67      source_city_freq  source_country_freq               0.10\n",
       "69      lost_reason_freq          movein_freq               0.09\n",
       "71       utm_source_freq           lease_freq               0.08\n",
       "73           budget_freq  source_country_freq               0.08\n",
       "75            lease_freq          movein_freq               0.08\n",
       "77         des_city_freq          movein_freq               0.08\n",
       "79            lease_freq      utm_medium_freq               0.07\n",
       "81           movein_freq     source_city_freq               0.06\n",
       "83   source_country_freq      utm_source_freq               0.06\n",
       "85         des_city_freq     source_city_freq               0.06\n",
       "87           movein_freq  source_country_freq               0.06\n",
       "89      lost_reason_freq      utm_medium_freq               0.06\n",
       "91            lease_freq        des_city_freq               0.05\n",
       "93      des_country_freq        des_city_freq               0.05\n",
       "95           budget_freq     source_city_freq               0.04\n",
       "97      des_country_freq     source_city_freq               0.04\n",
       "99      lost_reason_freq      utm_source_freq               0.03\n",
       "101     source_city_freq     lost_reason_freq               0.03\n",
       "103           lease_freq     source_city_freq               0.02\n",
       "105  source_country_freq        des_city_freq               0.02\n",
       "107     des_country_freq           lease_freq               0.02\n",
       "109           lease_freq     lost_reason_freq               0.02\n",
       "111        des_city_freq      utm_source_freq               0.02\n",
       "113  source_country_freq     lost_reason_freq               0.01\n",
       "115     des_country_freq     lost_reason_freq               0.01\n",
       "117        des_city_freq      utm_medium_freq               0.01\n",
       "119        des_city_freq          budget_freq               0.00"
      ]
     },
     "execution_count": 166,
     "metadata": {},
     "output_type": "execute_result"
    }
   ],
   "source": [
    "get_feature_correlation(new_data, top_n=None, corr_method='spearman',\n",
    "                            remove_duplicates=True, remove_self_correlations=True)\n",
    "    "
   ]
  },
  {
   "cell_type": "code",
   "execution_count": 167,
   "metadata": {},
   "outputs": [
    {
     "data": {
      "text/plain": [
       "<AxesSubplot:>"
      ]
     },
     "execution_count": 167,
     "metadata": {},
     "output_type": "execute_result"
    },
    {
     "data": {
      "image/png": "[encoded data removed]",
      "text/plain": [
       "<Figure size 432x288 with 2 Axes>"
      ]
     },
     "metadata": {
      "needs_background": "light"
     },
     "output_type": "display_data"
    }
   ],
   "source": [
    "corr_matrix = new_data.corr()\n",
    "\n",
    "sns.heatmap(corr_matrix, annot=True, cmap='coolwarm')\n"
   ]
  },
  {
   "cell_type": "markdown",
   "metadata": {},
   "source": [
    "budget_freq and source_freq are highly correlated after which source_freq and movein_freq are correlated"
   ]
  },
  {
   "cell_type": "markdown",
   "metadata": {},
   "source": [
    "# HANDLING CLASS IMBALANCE"
   ]
  },
  {
   "cell_type": "markdown",
   "metadata": {},
   "source": [
    "OVERSAMPLING"
   ]
  },
  {
   "cell_type": "code",
   "execution_count": 221,
   "metadata": {},
   "outputs": [
    {
     "data": {
      "text/plain": [
       "0    43244\n",
       "1     3073\n",
       "Name: status, dtype: int64"
      ]
     },
     "execution_count": 221,
     "metadata": {},
     "output_type": "execute_result"
    }
   ],
   "source": [
    "y.value_counts()"
   ]
  },
  {
   "cell_type": "code",
   "execution_count": 222,
   "metadata": {},
   "outputs": [],
   "source": [
    "y = y.astype(int)"
   ]
  },
  {
   "cell_type": "code",
   "execution_count": 223,
   "metadata": {},
   "outputs": [],
   "source": [
    "oversample = SMOTE()\n",
    "a, b= oversample.fit_resample(x, y)"
   ]
  },
  {
   "cell_type": "code",
   "execution_count": 224,
   "metadata": {},
   "outputs": [
    {
     "data": {
      "text/plain": [
       "((86488, 11), (86488,))"
      ]
     },
     "execution_count": 224,
     "metadata": {},
     "output_type": "execute_result"
    }
   ],
   "source": [
    "a.shape , b.shape"
   ]
  },
  {
   "cell_type": "code",
   "execution_count": 225,
   "metadata": {},
   "outputs": [
    {
     "name": "stdout",
     "output_type": "stream",
     "text": [
      "Counter({0: 43244, 1: 43244})\n"
     ]
    }
   ],
   "source": [
    "counter = Counter(b)\n",
    "print(counter)"
   ]
  },
  {
   "cell_type": "code",
   "execution_count": 226,
   "metadata": {},
   "outputs": [
    {
     "name": "stdout",
     "output_type": "stream",
     "text": [
      "Counter({0: 43244, 1: 3073})\n"
     ]
    }
   ],
   "source": [
    "counter = Counter(y)\n",
    "print(counter)"
   ]
  },
  {
   "cell_type": "markdown",
   "metadata": {},
   "source": [
    "TRAINGING AND TESTING MODELS FOR OVERSAMPLED DATA"
   ]
  },
  {
   "cell_type": "code",
   "execution_count": 227,
   "metadata": {},
   "outputs": [],
   "source": [
    "x_train  , x_test , y_train , y_test = train_test_split(a , b , test_size = 0.2 , random_state = 0)\n"
   ]
  },
  {
   "cell_type": "code",
   "execution_count": 228,
   "metadata": {},
   "outputs": [],
   "source": [
    "# Extra Trees Classifier \n",
    "extra_clf = ExtraTreesClassifier()\n",
    "extra_scores = cross_val_score(extra_clf, x_train, y_train, cv=5)\n",
    "extra_mean = extra_scores.mean()\n",
    "\n",
    "# Gradient Boosting Classifier\n",
    "grad_clf = GradientBoostingClassifier()\n",
    "grad_scores = cross_val_score(grad_clf, x_train, y_train, cv=5)\n",
    "grad_mean = grad_scores.mean()\n",
    "\n",
    "# Random Forest Classifier\n",
    "rand_clf = RandomForestClassifier()\n",
    "rand_scores = cross_val_score(rand_clf, x_train, y_train, cv=5)\n",
    "rand_mean = rand_scores.mean()\n",
    "\n",
    "# LGBM Classifier\n",
    "lgbm_clf = LGBMClassifier()\n",
    "lgbm_scores = cross_val_score(lgbm_clf, x_train, y_train, cv=5)\n",
    "lgbm_mean = lgbm_scores.mean()\n",
    "\n",
    "# KNeighbors Classifier\n",
    "knn_clf = KNeighborsClassifier()\n",
    "knn_scores = cross_val_score(knn_clf, x_train, y_train, cv=5)\n",
    "knn_mean = knn_scores.mean()\n",
    "\n",
    "#Perceptron\n",
    "per = Perceptron()\n",
    "per_scores = cross_val_score(per, x_train, y_train, cv=5)\n",
    "per_mean = per_scores.mean()\n",
    "\n",
    "\n",
    "d = {'Classifiers': [\"ExtraTreesclf\" , \"GradientBosstingclf\" , \"RandomForest\" ,\"LGBMclf\" , \"KNN\" , \"Perceptron\" ], \n",
    "    'Crossval Mean Scores': [extra_mean , grad_mean , rand_mean , lgbm_mean , knn_mean , per_mean]}\n",
    "\n",
    "result_df = pd.DataFrame(data=d)\n"
   ]
  },
  {
   "cell_type": "code",
   "execution_count": 229,
   "metadata": {},
   "outputs": [
    {
     "data": {
      "text/html": [
       "<div>\n",
       "<style scoped>\n",
       "    .dataframe tbody tr th:only-of-type {\n",
       "        vertical-align: middle;\n",
       "    }\n",
       "\n",
       "    .dataframe tbody tr th {\n",
       "        vertical-align: top;\n",
       "    }\n",
       "\n",
       "    .dataframe thead th {\n",
       "        text-align: right;\n",
       "    }\n",
       "</style>\n",
       "<table border=\"1\" class=\"dataframe\">\n",
       "  <thead>\n",
       "    <tr style=\"text-align: right;\">\n",
       "      <th></th>\n",
       "      <th>Classifiers</th>\n",
       "      <th>Crossval Mean Scores</th>\n",
       "    </tr>\n",
       "  </thead>\n",
       "  <tbody>\n",
       "    <tr>\n",
       "      <th>0</th>\n",
       "      <td>ExtraTreesclf</td>\n",
       "      <td>0.97</td>\n",
       "    </tr>\n",
       "    <tr>\n",
       "      <th>1</th>\n",
       "      <td>GradientBosstingclf</td>\n",
       "      <td>0.95</td>\n",
       "    </tr>\n",
       "    <tr>\n",
       "      <th>2</th>\n",
       "      <td>RandomForest</td>\n",
       "      <td>0.97</td>\n",
       "    </tr>\n",
       "    <tr>\n",
       "      <th>3</th>\n",
       "      <td>LGBMclf</td>\n",
       "      <td>0.97</td>\n",
       "    </tr>\n",
       "    <tr>\n",
       "      <th>4</th>\n",
       "      <td>KNN</td>\n",
       "      <td>0.95</td>\n",
       "    </tr>\n",
       "    <tr>\n",
       "      <th>5</th>\n",
       "      <td>Perceptron</td>\n",
       "      <td>0.90</td>\n",
       "    </tr>\n",
       "  </tbody>\n",
       "</table>\n",
       "</div>"
      ],
      "text/plain": [
       "           Classifiers  Crossval Mean Scores\n",
       "0        ExtraTreesclf                  0.97\n",
       "1  GradientBosstingclf                  0.95\n",
       "2         RandomForest                  0.97\n",
       "3              LGBMclf                  0.97\n",
       "4                  KNN                  0.95\n",
       "5           Perceptron                  0.90"
      ]
     },
     "execution_count": 229,
     "metadata": {},
     "output_type": "execute_result"
    }
   ],
   "source": [
    "result_df"
   ]
  },
  {
   "cell_type": "code",
   "execution_count": 230,
   "metadata": {},
   "outputs": [
    {
     "data": {
      "text/plain": [
       "array([0.60731707, 0.66341463, 0.69430894, 0.76747967, 0.80894309,\n",
       "       0.81056911, 0.80650407, 0.81544715, 0.81056911, 0.82113821,\n",
       "       0.82113821])"
      ]
     },
     "execution_count": 230,
     "metadata": {},
     "output_type": "execute_result"
    }
   ],
   "source": [
    "mean_acc_oversampled = np.zeros(11)\n",
    "for i in range(1,12):\n",
    "    rf = RandomForestClassifier(random_state = 0)\n",
    "    x_new_ = SelectKBest(chi2, k = i).fit_transform(m , n )\n",
    "    x_train  , x_test , y_train , y_test = train_test_split(x_new_ , n , test_size = 0.2 , random_state = 0)\n",
    "    rf.fit(x_train , y_train)\n",
    "    yhat= rf.predict(x_test)\n",
    "    mean_acc_oversampled[i-1] = metrics.accuracy_score(y_test, yhat)\n",
    "mean_acc_oversampled    "
   ]
  },
  {
   "cell_type": "code",
   "execution_count": 231,
   "metadata": {},
   "outputs": [
    {
     "data": {
      "image/png": "[encoded data removed]",
      "text/plain": [
       "<Figure size 720x432 with 1 Axes>"
      ]
     },
     "metadata": {
      "needs_background": "light"
     },
     "output_type": "display_data"
    }
   ],
   "source": [
    "loc = np.arange(1,12,step=1.0)\n",
    "plt.figure(figsize = (10, 6) )\n",
    "plt.plot(range(1,12), mean_acc_oversampled , color = \"m\")\n",
    "plt.xticks(loc)\n",
    "plt.xlabel('Number of Features for oversampled data ')\n",
    "plt.ylabel('Accuracy')\n",
    "plt.show()"
   ]
  },
  {
   "cell_type": "markdown",
   "metadata": {},
   "source": [
    "As the number of features increase the accuracy increases, so I don't think there's any need for any\n",
    "dimensionality reduction technique"
   ]
  },
  {
   "cell_type": "code",
   "execution_count": 232,
   "metadata": {},
   "outputs": [
    {
     "data": {
      "text/plain": [
       "<sklearn.metrics._plot.confusion_matrix.ConfusionMatrixDisplay at 0x167eed3e700>"
      ]
     },
     "execution_count": 232,
     "metadata": {},
     "output_type": "execute_result"
    },
    {
     "data": {
      "image/png": "[encoded data removed]",
      "text/plain": [
       "<Figure size 432x288 with 2 Axes>"
      ]
     },
     "metadata": {
      "needs_background": "light"
     },
     "output_type": "display_data"
    }
   ],
   "source": [
    "rf.fit(x_train , y_train)\n",
    "    \n",
    "predictions = rf.predict(x_test)\n",
    "cm = confusion_matrix(y_test, predictions, labels=rf.classes_)\n",
    "disp = ConfusionMatrixDisplay(confusion_matrix=cm,\n",
    "                               display_labels=rf.classes_)\n",
    "disp.plot()"
   ]
  },
  {
   "cell_type": "code",
   "execution_count": 233,
   "metadata": {},
   "outputs": [
    {
     "data": {
      "image/png": "[encoded data removed]",
      "text/plain": [
       "<Figure size 432x288 with 1 Axes>"
      ]
     },
     "metadata": {
      "needs_background": "light"
     },
     "output_type": "display_data"
    }
   ],
   "source": [
    "train_sizes, train_scores, test_scores = learning_curve(estimator=rf , X=x_train, y=y_train,\n",
    "                                                       cv=10, train_sizes=np.linspace(0.1, 1.0, 10),\n",
    "                                                     n_jobs=1)\n",
    "\n",
    "\n",
    "train_mean = np.mean(train_scores, axis=1)\n",
    "train_std = np.std(train_scores, axis=1)\n",
    "test_mean = np.mean(test_scores, axis=1)\n",
    "test_std = np.std(test_scores, axis=1)\n",
    "\n",
    "# Ploting the learning curve\n",
    "\n",
    "plt.plot(train_sizes, train_mean, color='black', marker='o', markersize=5, label='Training Accuracy')\n",
    "plt.fill_between(train_sizes, train_mean + train_std, train_mean - train_std, alpha=0.15, color='black')\n",
    "plt.plot(train_sizes, test_mean, color='brown', marker='+', markersize=5, linestyle='--', label='Validation Accuracy')\n",
    "plt.fill_between(train_sizes, test_mean + test_std, test_mean - test_std, alpha=0.15, color='brown')\n",
    "plt.title('Learning Curve')\n",
    "plt.xlabel('Training Data Size')\n",
    "plt.ylabel('Model accuracy')\n",
    "plt.grid()\n",
    "plt.legend(loc='lower right')\n",
    "plt.show()"
   ]
  },
  {
   "cell_type": "markdown",
   "metadata": {},
   "source": [
    "Intially the training model had very high accuracy whereas validation model had comparatively lower accuracy which is a case of overfitting, but as more and more samples are added to the model the accuracy imporved."
   ]
  },
  {
   "cell_type": "markdown",
   "metadata": {},
   "source": [
    "UNDERSAMPLING"
   ]
  },
  {
   "cell_type": "code",
   "execution_count": 187,
   "metadata": {},
   "outputs": [
    {
     "name": "stdout",
     "output_type": "stream",
     "text": [
      "Before Undersampling, counts of label '1': 3073\n",
      "Before Undersampling, counts of label '0': 43244 \n",
      "\n",
      "After Undersampling, the shape of train_X: (6146, 11)\n",
      "After Undersampling, the shape of train_y: (6146,) \n",
      "\n",
      "After Undersampling, counts of label '1': 3073\n",
      "After Undersampling, counts of label '0': 3073\n"
     ]
    }
   ],
   "source": [
    "print(\"Before Undersampling, counts of label '1': {}\".format(sum(y == 1)))\n",
    "print(\"Before Undersampling, counts of label '0': {} \\n\".format(sum(y == 0)))\n",
    "  \n",
    "nr = NearMiss()\n",
    "  \n",
    "m, n = nr.fit_sample(x, y.ravel())\n",
    "  \n",
    "print('After Undersampling, the shape of train_X: {}'.format(m.shape))\n",
    "print('After Undersampling, the shape of train_y: {} \\n'.format(n.shape))\n",
    "  \n",
    "print(\"After Undersampling, counts of label '1': {}\".format(sum(n == 1)))\n",
    "print(\"After Undersampling, counts of label '0': {}\".format(sum(n == 0)))"
   ]
  },
  {
   "cell_type": "code",
   "execution_count": 188,
   "metadata": {},
   "outputs": [],
   "source": [
    "x_train  , x_test , y_train , y_test = train_test_split(m,n, test_size = 0.2 , random_state = 0)"
   ]
  },
  {
   "cell_type": "code",
   "execution_count": 189,
   "metadata": {},
   "outputs": [],
   "source": [
    "# Extra Trees Classifier \n",
    "extra_clf = ExtraTreesClassifier()\n",
    "extra_scores = cross_val_score(extra_clf, x_train, y_train, cv=5)\n",
    "extra_mean = extra_scores.mean()\n",
    "\n",
    "# Gradient Boosting Classifier\n",
    "grad_clf = GradientBoostingClassifier()\n",
    "grad_scores = cross_val_score(grad_clf, x_train, y_train, cv=5)\n",
    "grad_mean = grad_scores.mean()\n",
    "\n",
    "# Random Forest Classifier\n",
    "rand_clf = RandomForestClassifier()\n",
    "rand_scores = cross_val_score(rand_clf, x_train, y_train, cv=5)\n",
    "rand_mean = rand_scores.mean()\n",
    "\n",
    "# LGBM Classifier\n",
    "lgbm_clf = LGBMClassifier()\n",
    "lgbm_scores = cross_val_score(lgbm_clf, x_train, y_train, cv=5)\n",
    "lgbm_mean = lgbm_scores.mean()\n",
    "\n",
    "# KNeighbors Classifier\n",
    "knn_clf = KNeighborsClassifier()\n",
    "knn_scores = cross_val_score(knn_clf, x_train, y_train, cv=5)\n",
    "knn_mean = knn_scores.mean()\n",
    "\n",
    "#Perceptron\n",
    "per = Perceptron()\n",
    "per_scores = cross_val_score(per, x_train, y_train, cv=5)\n",
    "per_mean = per_scores.mean()\n",
    "\n",
    "\n",
    "d = {'Classifiers': [\"ExtraTreesclf\" , \"GradientBosstingclf\" , \"RandomForest\" ,\"LGBMclf\" , \"KNN\" , \"Perceptron\" ], \n",
    "    'Crossval Mean Scores': [extra_mean , grad_mean , rand_mean , lgbm_mean , knn_mean , per_mean]}\n",
    "\n",
    "result_df = pd.DataFrame(data=d)"
   ]
  },
  {
   "cell_type": "code",
   "execution_count": 190,
   "metadata": {},
   "outputs": [
    {
     "data": {
      "text/html": [
       "<div>\n",
       "<style scoped>\n",
       "    .dataframe tbody tr th:only-of-type {\n",
       "        vertical-align: middle;\n",
       "    }\n",
       "\n",
       "    .dataframe tbody tr th {\n",
       "        vertical-align: top;\n",
       "    }\n",
       "\n",
       "    .dataframe thead th {\n",
       "        text-align: right;\n",
       "    }\n",
       "</style>\n",
       "<table border=\"1\" class=\"dataframe\">\n",
       "  <thead>\n",
       "    <tr style=\"text-align: right;\">\n",
       "      <th></th>\n",
       "      <th>Classifiers</th>\n",
       "      <th>Crossval Mean Scores</th>\n",
       "    </tr>\n",
       "  </thead>\n",
       "  <tbody>\n",
       "    <tr>\n",
       "      <th>3</th>\n",
       "      <td>LGBMclf</td>\n",
       "      <td>0.81</td>\n",
       "    </tr>\n",
       "    <tr>\n",
       "      <th>2</th>\n",
       "      <td>RandomForest</td>\n",
       "      <td>0.80</td>\n",
       "    </tr>\n",
       "    <tr>\n",
       "      <th>1</th>\n",
       "      <td>GradientBosstingclf</td>\n",
       "      <td>0.79</td>\n",
       "    </tr>\n",
       "    <tr>\n",
       "      <th>0</th>\n",
       "      <td>ExtraTreesclf</td>\n",
       "      <td>0.79</td>\n",
       "    </tr>\n",
       "    <tr>\n",
       "      <th>4</th>\n",
       "      <td>KNN</td>\n",
       "      <td>0.77</td>\n",
       "    </tr>\n",
       "    <tr>\n",
       "      <th>5</th>\n",
       "      <td>Perceptron</td>\n",
       "      <td>0.63</td>\n",
       "    </tr>\n",
       "  </tbody>\n",
       "</table>\n",
       "</div>"
      ],
      "text/plain": [
       "           Classifiers  Crossval Mean Scores\n",
       "3              LGBMclf                  0.81\n",
       "2         RandomForest                  0.80\n",
       "1  GradientBosstingclf                  0.79\n",
       "0        ExtraTreesclf                  0.79\n",
       "4                  KNN                  0.77\n",
       "5           Perceptron                  0.63"
      ]
     },
     "execution_count": 190,
     "metadata": {},
     "output_type": "execute_result"
    }
   ],
   "source": [
    "result_df.sort_values(by = [\"Crossval Mean Scores\"] , ascending = False)"
   ]
  },
  {
   "cell_type": "code",
   "execution_count": 204,
   "metadata": {},
   "outputs": [
    {
     "data": {
      "text/plain": [
       "array([0.60731707, 0.66341463, 0.69430894, 0.76747967, 0.80894309,\n",
       "       0.81056911, 0.80650407, 0.81544715, 0.81056911, 0.82113821,\n",
       "       0.82113821])"
      ]
     },
     "execution_count": 204,
     "metadata": {},
     "output_type": "execute_result"
    }
   ],
   "source": [
    "mean_acc_undersampled = np.zeros(11)\n",
    "for i in range(1,12):\n",
    "    lgbm = LGBMClassifier(random_state = 0)\n",
    "    x_new_ = SelectKBest(chi2, k = i).fit_transform(m , n )\n",
    "    x_train  , x_test , y_train , y_test = train_test_split(x_new_ , n , test_size = 0.2 , random_state = 0)\n",
    "    lgbm.fit(x_train , y_train)\n",
    "    yhat= lgbm.predict(x_test)\n",
    "    mean_acc_undersampled[i-1] = metrics.accuracy_score(y_test, yhat)\n",
    "mean_acc_undersampled    \n",
    "\n"
   ]
  },
  {
   "cell_type": "code",
   "execution_count": 202,
   "metadata": {},
   "outputs": [
    {
     "data": {
      "image/png": "[encoded data removed]",
      "text/plain": [
       "<Figure size 720x432 with 1 Axes>"
      ]
     },
     "metadata": {
      "needs_background": "light"
     },
     "output_type": "display_data"
    }
   ],
   "source": [
    "loc = np.arange(1,12,step=1.0)\n",
    "plt.figure(figsize = (10, 6))\n",
    "plt.plot(range(1,12), mean_acc_undersampled , color = \"m\")\n",
    "plt.xticks(loc)\n",
    "plt.xlabel('Number of Features for undersampled data ')\n",
    "plt.ylabel('Accuracy')\n",
    "plt.show()"
   ]
  },
  {
   "cell_type": "markdown",
   "metadata": {},
   "source": [
    "Considering all the features helps perform the model optimally in undersampling "
   ]
  },
  {
   "cell_type": "code",
   "execution_count": 205,
   "metadata": {},
   "outputs": [
    {
     "data": {
      "text/plain": [
       "<sklearn.metrics._plot.confusion_matrix.ConfusionMatrixDisplay at 0x167ed4bb0a0>"
      ]
     },
     "execution_count": 205,
     "metadata": {},
     "output_type": "execute_result"
    },
    {
     "data": {
      "image/png": "[encoded data removed]",
      "text/plain": [
       "<Figure size 432x288 with 2 Axes>"
      ]
     },
     "metadata": {
      "needs_background": "light"
     },
     "output_type": "display_data"
    }
   ],
   "source": [
    "lgbm.fit(x_train , y_train)\n",
    "    \n",
    "predictions = lgbm.predict(x_test)\n",
    "cm = confusion_matrix(y_test, predictions, labels=lgbm.classes_)\n",
    "disp = ConfusionMatrixDisplay(confusion_matrix=cm,\n",
    "                               display_labels=lgbm.classes_)\n",
    "disp.plot()"
   ]
  },
  {
   "cell_type": "code",
   "execution_count": 206,
   "metadata": {},
   "outputs": [
    {
     "data": {
      "image/png": "[encoded data removed]",
      "text/plain": [
       "<Figure size 432x288 with 1 Axes>"
      ]
     },
     "metadata": {
      "needs_background": "light"
     },
     "output_type": "display_data"
    }
   ],
   "source": [
    "train_sizes, train_scores, test_scores = learning_curve(estimator=lgbm, X=x_train, y=y_train,\n",
    "                                                       cv=10, train_sizes=np.linspace(0.1, 1.0, 10),\n",
    "                                                     n_jobs=1)\n",
    "\n",
    "\n",
    "train_mean = np.mean(train_scores, axis=1)\n",
    "train_std = np.std(train_scores, axis=1)\n",
    "test_mean = np.mean(test_scores, axis=1)\n",
    "test_std = np.std(test_scores, axis=1)\n",
    "\n",
    "# Ploting the learning curve\n",
    "\n",
    "plt.plot(train_sizes, train_mean, color='red', marker='o', markersize=5, label='Training Accuracy')\n",
    "plt.fill_between(train_sizes, train_mean + train_std, train_mean - train_std, alpha=0.15, color='red')\n",
    "plt.plot(train_sizes, test_mean, color='yellow', marker='+', markersize=5, linestyle='--', label='Validation Accuracy')\n",
    "plt.fill_between(train_sizes, test_mean + test_std, test_mean - test_std, alpha=0.15, color='yellow')\n",
    "plt.title('Learning Curve')\n",
    "plt.xlabel('Training Data Size')\n",
    "plt.ylabel('Model accuracy')\n",
    "plt.grid()\n",
    "plt.legend(loc='lower right')\n",
    "plt.show()"
   ]
  },
  {
   "cell_type": "markdown",
   "metadata": {},
   "source": [
    "We see similar patterns for undersampling as well"
   ]
  },
  {
   "cell_type": "markdown",
   "metadata": {},
   "source": [
    "# METRICS "
   ]
  },
  {
   "cell_type": "markdown",
   "metadata": {},
   "source": [
    "USING UNDERSAMPLED DATA TO GET FINAL METRICS"
   ]
  },
  {
   "cell_type": "code",
   "execution_count": 207,
   "metadata": {},
   "outputs": [
    {
     "name": "stdout",
     "output_type": "stream",
     "text": [
      "Precision Score:  0.8412162162162162\n",
      "Recall Score:  0.7980769230769231\n"
     ]
    }
   ],
   "source": [
    "from sklearn.metrics import f1_score , precision_score , recall_score\n",
    "lgbm.fit(x_train , y_train)\n",
    "pred = lgbm.predict(x_test)\n",
    "print('Precision Score: ', precision_score(y_test, pred))\n",
    "print('Recall Score: ', recall_score(y_test, pred))"
   ]
  },
  {
   "cell_type": "code",
   "execution_count": 208,
   "metadata": {},
   "outputs": [
    {
     "data": {
      "text/plain": [
       "0.819078947368421"
      ]
     },
     "execution_count": 208,
     "metadata": {},
     "output_type": "execute_result"
    }
   ],
   "source": [
    "from sklearn.metrics import f1_score , roc_auc_score\n",
    "f1_score(y_test, pred)"
   ]
  },
  {
   "cell_type": "code",
   "execution_count": 210,
   "metadata": {},
   "outputs": [],
   "source": [
    "y_pred = lgbm.predict_proba(x_test)[:, 1]"
   ]
  },
  {
   "cell_type": "code",
   "execution_count": 211,
   "metadata": {},
   "outputs": [
    {
     "data": {
      "image/png": "[encoded data removed]",
      "text/plain": [
       "<Figure size 420x280 with 1 Axes>"
      ]
     },
     "metadata": {
      "needs_background": "light"
     },
     "output_type": "display_data"
    }
   ],
   "source": [
    "auc = roc_auc_score(y_test, y_pred)\n",
    "\n",
    "false_positive_rate, true_positive_rate, thresolds = roc_curve(y_test, y_pred)\n",
    "\n",
    "plt.figure(figsize=(6, 4), dpi=70)\n",
    "plt.axis('scaled')\n",
    "plt.xlim([0, 1])\n",
    "plt.ylim([0, 1])\n",
    "plt.title(\"AUC & ROC Curve\")\n",
    "plt.plot(false_positive_rate, true_positive_rate, 'g')\n",
    "plt.fill_between(false_positive_rate, true_positive_rate, facecolor='red', alpha=0.7)\n",
    "plt.text(0.95, 0.05, 'AUC = %0.4f' % auc, ha='right', fontsize=12, weight='bold', color='blue')\n",
    "plt.xlabel(\"False Positive Rate\")\n",
    "plt.ylabel(\"True Positive Rate\")\n",
    "plt.show()  "
   ]
  },
  {
   "cell_type": "code",
   "execution_count": 212,
   "metadata": {},
   "outputs": [
    {
     "data": {
      "image/png": "[encoded data removed]",
      "text/plain": [
       "<Figure size 432x288 with 1 Axes>"
      ]
     },
     "metadata": {
      "needs_background": "light"
     },
     "output_type": "display_data"
    }
   ],
   "source": [
    "random_probs = [0 for i in range(len(y_test))]\n",
    "p_fpr, p_tpr, _ = roc_curve(y_test, random_probs, pos_label=1)\n",
    "\n",
    "plt.plot(false_positive_rate, true_positive_rate, linestyle='--',color='orange', label='Gradient_Boosting')\n",
    "plt.plot(p_fpr, p_tpr, linestyle='--', color='blue')\n",
    "# title\n",
    "plt.title('ROC curve')\n",
    "# x label\n",
    "plt.xlabel('False Positive Rate')\n",
    "# y label\n",
    "plt.ylabel('True Positive rate')\n",
    "\n",
    "plt.legend(loc='best')\n",
    "plt.savefig('ROC',dpi=300)\n",
    "plt.show();"
   ]
  },
  {
   "cell_type": "code",
   "execution_count": null,
   "metadata": {},
   "outputs": [],
   "source": []
  }
 ],
 "metadata": {
  "kernelspec": {
   "display_name": "Python 3",
   "language": "python",
   "name": "python3"
  },
  "language_info": {
   "codemirror_mode": {
    "name": "ipython",
    "version": 3
   },
   "file_extension": ".py",
   "mimetype": "text/x-python",
   "name": "python",
   "nbconvert_exporter": "python",
   "pygments_lexer": "ipython3",
   "version": "3.8.5"
  }
 },
 "nbformat": 4,
 "nbformat_minor": 4
}
