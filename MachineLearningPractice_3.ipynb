{
  "nbformat": 4,
  "nbformat_minor": 0,
  "metadata": {
    "colab": {
      "provenance": [],
      "collapsed_sections": [],
      "authorship_tag": "ABX9TyP+vThuJ3NsCEWweqJw5MUx",
      "include_colab_link": true
    },
    "kernelspec": {
      "name": "python3",
      "display_name": "Python 3"
    },
    "language_info": {
      "name": "python"
    }
  },
  "cells": [
    {
      "cell_type": "markdown",
      "metadata": {
        "id": "view-in-github",
        "colab_type": "text"
      },
      "source": [
        "<a href=\"https://colab.research.google.com/github/SejalJadhav1/python_/blob/main/MachineLearningPractice_3.ipynb\" target=\"_parent\"><img src=\"https://colab.research.google.com/assets/colab-badge.svg\" alt=\"Open In Colab\"/></a>"
      ]
    },
    {
      "cell_type": "code",
      "source": [
        "#Linear Regression\n",
        "# 1. Dataset: California housing\n",
        "# 2. Linear regression API: LinearRegression\n",
        "# 3. Training: fit(normal equation) and cross_validate(normal equation with cross validation)\n",
        "# 4. evaluation: score (r2 score) and cross_val_score with different scoring parameters"
      ],
      "metadata": {
        "id": "O3o14ixoUAAa"
      },
      "execution_count": null,
      "outputs": []
    },
    {
      "cell_type": "code",
      "source": [
        "import pandas as pd\n",
        "import numpy as np\n",
        "import matplotlib.pyplot as plt\n",
        "\n",
        "from sklearn.datasets import fetch_california_housing\n",
        "from sklearn.dummy import DummyRegressor\n",
        "from sklearn.linear_model import LinearRegression\n",
        "from sklearn.linear_model import SGDRegressor\n",
        "\n",
        "from sklearn.metrics import mean_squared_error\n",
        "from sklearn.metrics import mean_absolute_error\n",
        "\n",
        "from sklearn.model_selection import train_test_split\n",
        "from sklearn.model_selection import cross_validate\n",
        "from sklearn.model_selection import cross_val_score\n",
        "from sklearn.model_selection import ShuffleSplit\n",
        "from sklearn.model_selection import permutation_test_score\n",
        "from sklearn.model_selection import train_test_split\n",
        "from sklearn.model_selection import learning_curve\n",
        "\n",
        "from sklearn.pipeline import Pipeline\n",
        "from sklearn.preprocessing import StandardScaler"
      ],
      "metadata": {
        "id": "3AkKZ1bYUCIE"
      },
      "execution_count": null,
      "outputs": []
    },
    {
      "cell_type": "code",
      "source": [
        "np.random.seed(306)\n",
        "plt.style.use(\"seaborn\")"
      ],
      "metadata": {
        "id": "xyvlrQ-ZUCLg"
      },
      "execution_count": null,
      "outputs": []
    },
    {
      "cell_type": "code",
      "source": [
        "shuffle_cv = ShuffleSplit(n_splits = 10 , test_size = 0.2 , random_state = 0)\n"
      ],
      "metadata": {
        "id": "MtA7FnwsUCVV"
      },
      "execution_count": null,
      "outputs": []
    },
    {
      "cell_type": "code",
      "source": [
        "#LOAD DATASET"
      ],
      "metadata": {
        "id": "4a5TrCo9UCXs"
      },
      "execution_count": null,
      "outputs": []
    },
    {
      "cell_type": "code",
      "source": [
        "x , y = fetch_california_housing(as_frame = True , return_X_y = True)\n"
      ],
      "metadata": {
        "id": "ctzfQzXqXEXo"
      },
      "execution_count": null,
      "outputs": []
    },
    {
      "cell_type": "code",
      "source": [
        "# Train test split"
      ],
      "metadata": {
        "id": "UPp5g90WXEZz"
      },
      "execution_count": null,
      "outputs": []
    },
    {
      "cell_type": "code",
      "source": [
        "# one fold splitting \n",
        "train_x, test_x, train_y , test_y = train_test_split(x , y , random_state = 42)"
      ],
      "metadata": {
        "id": "lemfsel3XEcf"
      },
      "execution_count": null,
      "outputs": []
    },
    {
      "cell_type": "code",
      "source": [
        "print(train_x.shape)\n",
        "print(test_x.shape)"
      ],
      "metadata": {
        "colab": {
          "base_uri": "https://localhost:8080/"
        },
        "id": "_9ul1un-XEfB",
        "outputId": "e49b5a21-6def-4b4f-de42-d1679069a018"
      },
      "execution_count": null,
      "outputs": [
        {
          "output_type": "stream",
          "name": "stdout",
          "text": [
            "(15480, 8)\n",
            "(5160, 8)\n"
          ]
        }
      ]
    },
    {
      "cell_type": "code",
      "source": [
        "#pipeline: preprocessing + model"
      ],
      "metadata": {
        "id": "eUVR4EgXXEhh"
      },
      "execution_count": null,
      "outputs": []
    },
    {
      "cell_type": "code",
      "source": [
        "lin_pipeline = Pipeline([\n",
        "    (\"sclaing\" , StandardScaler()),\n",
        "    (\"regressor\" , LinearRegression())\n",
        "])\n",
        "lin_pipeline.fit(train_x , train_y) # training linear regression model with normal eqn"
      ],
      "metadata": {
        "colab": {
          "base_uri": "https://localhost:8080/"
        },
        "id": "WQDB1VUxZI4f",
        "outputId": "12e8dd6b-214a-4a87-be3d-b9c1fcf33f29"
      },
      "execution_count": null,
      "outputs": [
        {
          "output_type": "execute_result",
          "data": {
            "text/plain": [
              "Pipeline(steps=[('sclaing', StandardScaler()),\n",
              "                ('regressor', LinearRegression())])"
            ]
          },
          "metadata": {},
          "execution_count": 15
        }
      ]
    },
    {
      "cell_type": "code",
      "source": [
        "lin_pipeline[-1].intercept_"
      ],
      "metadata": {
        "colab": {
          "base_uri": "https://localhost:8080/"
        },
        "id": "89tHizEuZI7X",
        "outputId": "5f64f1ff-6b41-457d-8e89-9567c51c5ccc"
      },
      "execution_count": null,
      "outputs": [
        {
          "output_type": "execute_result",
          "data": {
            "text/plain": [
              "2.0703489205426377"
            ]
          },
          "metadata": {},
          "execution_count": 16
        }
      ]
    },
    {
      "cell_type": "code",
      "source": [
        "lin_pipeline[\"regressor\"].intercept_ "
      ],
      "metadata": {
        "colab": {
          "base_uri": "https://localhost:8080/"
        },
        "id": "aTfI6Z0YZI_p",
        "outputId": "2c11acf7-c8d1-4a3d-b057-787892d7fc40"
      },
      "execution_count": null,
      "outputs": [
        {
          "output_type": "execute_result",
          "data": {
            "text/plain": [
              "2.0703489205426377"
            ]
          },
          "metadata": {},
          "execution_count": 17
        }
      ]
    },
    {
      "cell_type": "code",
      "source": [
        "lin_pipeline[\"regressor\"].coef_ "
      ],
      "metadata": {
        "colab": {
          "base_uri": "https://localhost:8080/"
        },
        "id": "uJVZ2Pf9ZJB5",
        "outputId": "32f3e7a6-a1f4-4740-ffab-52872ccc9d1f"
      },
      "execution_count": null,
      "outputs": [
        {
          "output_type": "execute_result",
          "data": {
            "text/plain": [
              "array([ 0.85210815,  0.12065533, -0.30210555,  0.34860575, -0.00164465,\n",
              "       -0.04116356, -0.89314697, -0.86784046])"
            ]
          },
          "metadata": {},
          "execution_count": 18
        }
      ]
    },
    {
      "cell_type": "code",
      "source": [
        "# Model Evaluation\n",
        "# 1. estimation of model performance as provided by the test error\n",
        "# 2. comparison of errors for model diagnostic purpose(under/over/just right fit)\n"
      ],
      "metadata": {
        "id": "3hOJidAwZJEU"
      },
      "execution_count": null,
      "outputs": []
    },
    {
      "cell_type": "code",
      "source": [
        "test_score = lin_pipeline.score(test_x , test_y)\n",
        "print(\"test_score\",test_score)\n",
        "train_score = lin_pipeline.score(train_x , train_y)\n",
        "print(\"train_score\" , train_score)\n",
        "# the score method return r2 score whose best value is 1. \n",
        "# the test and train scores are comparable but not high which indicates underfitting"
      ],
      "metadata": {
        "colab": {
          "base_uri": "https://localhost:8080/"
        },
        "id": "msPz9PSZZJG2",
        "outputId": "a512802d-45cb-4c68-abad-34b7323336da"
      },
      "execution_count": null,
      "outputs": [
        {
          "output_type": "stream",
          "name": "stdout",
          "text": [
            "test_score 0.5910509795491352\n",
            "train_score 0.609873031052925\n"
          ]
        }
      ]
    },
    {
      "cell_type": "code",
      "source": [
        "#since the score was calculated on one fold data the results weren't that good\n",
        "# lets use k folds now"
      ],
      "metadata": {
        "id": "OshsONvUZJJC"
      },
      "execution_count": null,
      "outputs": []
    },
    {
      "cell_type": "code",
      "source": [
        "lin_cv_score = cross_val_score(lin_pipeline , train_x , train_y, \n",
        "                               scoring = \"neg_mean_squared_error\" , \n",
        "                               cv = shuffle_cv)  \n",
        "print(lin_cv_score)\n",
        "# lets take mean and std of the scores \n",
        "print(\"score_mean\" , lin_cv_score.mean())\n",
        "print(\"score_std\" , lin_cv_score.std()) "
      ],
      "metadata": {
        "colab": {
          "base_uri": "https://localhost:8080/"
        },
        "id": "3A8Jpsr3ZJLt",
        "outputId": "02672bdb-2acb-48c0-96aa-93ac3ba5a706"
      },
      "execution_count": null,
      "outputs": [
        {
          "output_type": "stream",
          "name": "stdout",
          "text": [
            "[-0.50009976 -0.52183352 -0.55931218 -0.52110499 -0.56059203 -0.50510767\n",
            " -0.52386194 -0.54775518 -0.5007161  -0.54713448]\n",
            "score_mean -0.5287517875396764\n",
            "score_std 0.022232904569798703\n"
          ]
        }
      ]
    },
    {
      "cell_type": "code",
      "source": [
        "print(-lin_cv_score) # calculating error my negifying score which will give us MSE\n",
        "# lets take mean and std of the scores \n",
        "print(\"score_mean\" , -lin_cv_score.mean())\n",
        "print(\"score_std\" , -lin_cv_score.std()) "
      ],
      "metadata": {
        "colab": {
          "base_uri": "https://localhost:8080/"
        },
        "id": "conuHFnThFIX",
        "outputId": "32ad7745-d64a-4e6d-cabd-ac8c0108ceb8"
      },
      "execution_count": null,
      "outputs": [
        {
          "output_type": "stream",
          "name": "stdout",
          "text": [
            "[0.50009976 0.52183352 0.55931218 0.52110499 0.56059203 0.50510767\n",
            " 0.52386194 0.54775518 0.5007161  0.54713448]\n",
            "score_mean 0.5287517875396764\n",
            "score_std -0.022232904569798703\n"
          ]
        }
      ]
    },
    {
      "cell_type": "code",
      "source": [
        "lin_cvalidate_score = cross_validate(lin_pipeline, \n",
        "                                     train_x , train_y,\n",
        "                                     cv = shuffle_cv , \n",
        "                                     scoring = \"neg_mean_squared_error\" , \n",
        "                                     return_train_score = True,\n",
        "                                     return_estimator = True)"
      ],
      "metadata": {
        "id": "eZ3BAhHBhFKp"
      },
      "execution_count": null,
      "outputs": []
    },
    {
      "cell_type": "code",
      "source": [
        "lin_cvalidate_score"
      ],
      "metadata": {
        "colab": {
          "base_uri": "https://localhost:8080/"
        },
        "id": "jyRywveLhFNW",
        "outputId": "c76f8574-edb2-42e7-b5e5-bcd52840fb58"
      },
      "execution_count": null,
      "outputs": [
        {
          "output_type": "execute_result",
          "data": {
            "text/plain": [
              "{'fit_time': array([0.00747132, 0.00693917, 0.00719118, 0.00808787, 0.00751829,\n",
              "        0.00791907, 0.00744843, 0.00766683, 0.00753498, 0.0077641 ]),\n",
              " 'score_time': array([0.00170493, 0.00163364, 0.0016942 , 0.00185823, 0.00181079,\n",
              "        0.00181961, 0.00186801, 0.00193858, 0.00186443, 0.00176525]),\n",
              " 'estimator': [Pipeline(steps=[('sclaing', StandardScaler()),\n",
              "                  ('regressor', LinearRegression())]),\n",
              "  Pipeline(steps=[('sclaing', StandardScaler()),\n",
              "                  ('regressor', LinearRegression())]),\n",
              "  Pipeline(steps=[('sclaing', StandardScaler()),\n",
              "                  ('regressor', LinearRegression())]),\n",
              "  Pipeline(steps=[('sclaing', StandardScaler()),\n",
              "                  ('regressor', LinearRegression())]),\n",
              "  Pipeline(steps=[('sclaing', StandardScaler()),\n",
              "                  ('regressor', LinearRegression())]),\n",
              "  Pipeline(steps=[('sclaing', StandardScaler()),\n",
              "                  ('regressor', LinearRegression())]),\n",
              "  Pipeline(steps=[('sclaing', StandardScaler()),\n",
              "                  ('regressor', LinearRegression())]),\n",
              "  Pipeline(steps=[('sclaing', StandardScaler()),\n",
              "                  ('regressor', LinearRegression())]),\n",
              "  Pipeline(steps=[('sclaing', StandardScaler()),\n",
              "                  ('regressor', LinearRegression())]),\n",
              "  Pipeline(steps=[('sclaing', StandardScaler()),\n",
              "                  ('regressor', LinearRegression())])],\n",
              " 'test_score': array([-0.50009976, -0.52183352, -0.55931218, -0.52110499, -0.56059203,\n",
              "        -0.50510767, -0.52386194, -0.54775518, -0.5007161 , -0.54713448]),\n",
              " 'train_score': array([-0.52578695, -0.52035137, -0.51095597, -0.52049611, -0.51060835,\n",
              "        -0.52453922, -0.51994311, -0.5144039 , -0.52578473, -0.51397105])}"
            ]
          },
          "metadata": {},
          "execution_count": 25
        }
      ]
    },
    {
      "cell_type": "code",
      "source": [
        "train_error = -1 * lin_cvalidate_score[\"train_score\"]\n",
        "test_error = -1 * lin_cvalidate_score[\"test_score\"]\n",
        "\n",
        "print(\"train_error_mean\" , train_error.mean())\n",
        "print(\"train_error_std\" ,train_error.std())\n",
        "print(\"test_error_mean\" , test_error.mean())\n",
        "print(\"test_error_std\" , test_error.std())\n",
        "# the train and test errors are high indicating underfitting.\n",
        "# test error has higher variability across different folds \n",
        "#compared to the train error indicated by higher std of test_error"
      ],
      "metadata": {
        "colab": {
          "base_uri": "https://localhost:8080/"
        },
        "id": "bt_lxmpchFRV",
        "outputId": "214126c6-557f-448a-e11f-d42b3e5ec00a"
      },
      "execution_count": null,
      "outputs": [
        {
          "output_type": "stream",
          "name": "stdout",
          "text": [
            "train_error_mean 0.5186840759388985\n",
            "train_error_std 0.005552249067390945\n",
            "test_error_mean 0.5287517875396764\n",
            "test_error_std 0.022232904569798703\n"
          ]
        }
      ]
    },
    {
      "cell_type": "code",
      "source": [
        "#Let's understand how the training set size or #samples affect the error.\n",
        "\n",
        "#We can use Learning_curve API that calculates cross \n",
        "#validation scores for different\n",
        "#samples as specified in argument train_sizes."
      ],
      "metadata": {
        "id": "hTcA7ZhKhFT5"
      },
      "execution_count": null,
      "outputs": []
    },
    {
      "cell_type": "code",
      "source": [
        "def plot_learning_curve(train_sizes, train_scores, test_scores):\n",
        "    train_score_mean = np.mean(-train_scores, axis=1)\n",
        "    train_score_std = np.std(-train_scores, axis=1)\n",
        "\n",
        "    test_score_mean = np.mean(-test_scores, axis=1)\n",
        "    test_score_std = np.std(-test_scores, axis=1)\n",
        "    \n",
        "    fit_times_mean = np.mean(fit_times, axis=1)\n",
        "    fit_times_std = np.std(fit_times, axis=1)\n",
        "\n",
        "    plt.fill_between(train_sizes,\n",
        "                    train_score_mean - train_score_std,\n",
        "                    train_score_mean + train_score_std,\n",
        "                    alpha=0.1,\n",
        "                    color='r',)\n",
        "\n",
        "    plt.fill_between(train_sizes,\n",
        "                    test_score_mean + test_score_std,\n",
        "                    test_score_mean - test_score_std,\n",
        "                    alpha=0.1,\n",
        "                    color='g')\n",
        "\n",
        "    plt.plot(train_sizes, train_score_mean, \"o-\", color='r', lw=2)\n",
        "    plt.plot(train_sizes, test_score_mean, \"o-\", color='g', lw=2)\n",
        "\n",
        "    plt.xlabel(\"Training examples \")\n",
        "    plt.ylabel(\"MSE\")\n",
        "    # plt.legend(loc=\"best\")\n",
        "\n",
        "    return plt.show()\n",
        "(train_sizes, train_scores, test_scores, fit_times, score_times) = learning_curve(lin_pipeline, train_x, train_y, cv=shuffle_cv,scoring='neg_mean_squared_error', n_jobs=-1,\n",
        "return_times=True, train_sizes=np.linspace(0.2, 1, 10))\n",
        "plot_learning_curve(train_sizes, train_scores, test_scores)"
      ],
      "metadata": {
        "colab": {
          "base_uri": "https://localhost:8080/",
          "height": 361
        },
        "id": "AQLOnmg3ZJN1",
        "outputId": "515cd71f-b499-4fc8-b47e-f667a476210b"
      },
      "execution_count": null,
      "outputs": [
        {
          "output_type": "display_data",
          "data": {
            "text/plain": [
              "<Figure size 576x396 with 1 Axes>"
            ],
            "image/png": "[encoded data removed]"
          },
          "metadata": {}
        }
      ]
    },
    {
      "cell_type": "code",
      "source": [
        "# as the no. of training egs grow the time to fit also increases"
      ],
      "metadata": {
        "id": "eB-O7iUqoEZM"
      },
      "execution_count": null,
      "outputs": []
    },
    {
      "cell_type": "code",
      "source": [
        "\n",
        "#@ title [Plot Scalability curves]\n",
        "def plot_scalability_curve(train_sizes, fit_times):\n",
        "    train_score_mean = np.mean(-train_scores, axis=1)\n",
        "    train_score_std = np.std(-train_scores, axis=1)\n",
        "\n",
        "    test_score_mean = np.mean(-test_scores, axis=1)\n",
        "    test_score_std = np.std(-test_scores, axis=1)\n",
        "\n",
        "    fit_times_mean = np.mean(fit_times, axis=1)\n",
        "    fit_times_std = np.std(fit_times, axis=1)\n",
        "\n",
        "    plt.fill_between(train_sizes,\n",
        "                    fit_times_mean - fit_times_std,\n",
        "                    fit_times_mean + fit_times_std,\n",
        "                    alpha=0.1,\n",
        "                    color='g',)\n",
        "\n",
        "    plt.plot(train_sizes, fit_times_mean, \"o-\", color='b', lw=2)\n",
        "\n",
        "    plt.xlabel(\"Training examples \")\n",
        "    plt.ylabel(\"fit time\")\n",
        "    # plt.legend(loc=\"best\")\n",
        "    \n",
        "    return plt.show()\n",
        "plot_scalability_curve(train_sizes , fit_times)"
      ],
      "metadata": {
        "colab": {
          "base_uri": "https://localhost:8080/",
          "height": 361
        },
        "id": "pdJnphWwoEbz",
        "outputId": "652d4c90-2064-484d-8a31-926a2f151d81"
      },
      "execution_count": null,
      "outputs": [
        {
          "output_type": "display_data",
          "data": {
            "text/plain": [
              "<Figure size 576x396 with 1 Axes>"
            ],
            "image/png": "[encoded data removed]"
          },
          "metadata": {}
        }
      ]
    },
    {
      "cell_type": "code",
      "source": [
        "coefs = [i[-1].coef_ for i in lin_cvalidate_score[\"estimator\"]]\n",
        "weights_df = pd.DataFrame(coefs , columns = x.columns) \n",
        "# weight vectors\n",
        "\n",
        "weights_df.plot.box(vert = False)\n",
        "_ = plt.title(\"Linear regression coefficients\")"
      ],
      "metadata": {
        "colab": {
          "base_uri": "https://localhost:8080/",
          "height": 362
        },
        "id": "mY55tFY6oEd8",
        "outputId": "1620ca9a-628b-4dd3-f508-63860ae722f3"
      },
      "execution_count": null,
      "outputs": [
        {
          "output_type": "display_data",
          "data": {
            "text/plain": [
              "<Figure size 576x396 with 1 Axes>"
            ],
            "image/png": "[encoded data removed]"
          },
          "metadata": {}
        }
      ]
    },
    {
      "cell_type": "code",
      "source": [
        "coefs"
      ],
      "metadata": {
        "colab": {
          "base_uri": "https://localhost:8080/"
        },
        "id": "_DN7ib6ooEgD",
        "outputId": "4900e8fa-534b-4d8e-f00d-efb9261d3cd7"
      },
      "execution_count": null,
      "outputs": [
        {
          "output_type": "execute_result",
          "data": {
            "text/plain": [
              "[array([ 8.44324888e-01,  1.18463901e-01, -3.04619574e-01,  3.56620503e-01,\n",
              "         1.74458509e-04, -4.23964612e-02, -8.96045642e-01, -8.68906479e-01]),\n",
              " array([ 0.85871421,  0.12258718, -0.31897149,  0.36795169, -0.00578729,\n",
              "        -0.04758437, -0.88188417, -0.86093191]),\n",
              " array([ 0.86165883,  0.12395293, -0.31137495,  0.36412006, -0.00218047,\n",
              "        -0.04227803, -0.88380608, -0.85784439]),\n",
              " array([ 0.84812671,  0.12604271, -0.31178208,  0.36576675, -0.00192487,\n",
              "        -0.04237108, -0.89469432, -0.87035635]),\n",
              " array([ 0.85110471,  0.11974124, -0.29617491,  0.34493816, -0.00558428,\n",
              "        -0.02633099, -0.906398  , -0.87948924]),\n",
              " array([ 0.85337804,  0.12800277, -0.30269085,  0.34946488,  0.00133416,\n",
              "        -0.02710009, -0.88444928, -0.85853646]),\n",
              " array([ 0.85204472,  0.12059626, -0.30697095,  0.36365776, -0.00194586,\n",
              "        -0.02837277, -0.90805791, -0.88420571]),\n",
              " array([ 0.85350377,  0.13056006, -0.27842636,  0.30747418,  0.00529665,\n",
              "        -0.04435202, -0.88370391, -0.86564293]),\n",
              " array([ 0.84351675,  0.1173944 , -0.30898547,  0.36482179, -0.00233719,\n",
              "        -0.02729176, -0.90228709, -0.87727372]),\n",
              " array([ 0.85515579,  0.12035588, -0.30384772,  0.35046525, -0.00280477,\n",
              "        -0.04251635, -0.89878325, -0.87434627])]"
            ]
          },
          "metadata": {},
          "execution_count": 32
        }
      ]
    },
    {
      "cell_type": "code",
      "source": [
        "weights_df"
      ],
      "metadata": {
        "colab": {
          "base_uri": "https://localhost:8080/",
          "height": 427
        },
        "id": "1KlG8AUEoEh-",
        "outputId": "caced21d-e857-4ce0-d290-c37a6b1509ee"
      },
      "execution_count": null,
      "outputs": [
        {
          "output_type": "execute_result",
          "data": {
            "text/plain": [
              "     MedInc  HouseAge  AveRooms  AveBedrms  Population  AveOccup  Latitude  \\\n",
              "0  0.844325  0.118464 -0.304620   0.356621    0.000174 -0.042396 -0.896046   \n",
              "1  0.858714  0.122587 -0.318971   0.367952   -0.005787 -0.047584 -0.881884   \n",
              "2  0.861659  0.123953 -0.311375   0.364120   -0.002180 -0.042278 -0.883806   \n",
              "3  0.848127  0.126043 -0.311782   0.365767   -0.001925 -0.042371 -0.894694   \n",
              "4  0.851105  0.119741 -0.296175   0.344938   -0.005584 -0.026331 -0.906398   \n",
              "5  0.853378  0.128003 -0.302691   0.349465    0.001334 -0.027100 -0.884449   \n",
              "6  0.852045  0.120596 -0.306971   0.363658   -0.001946 -0.028373 -0.908058   \n",
              "7  0.853504  0.130560 -0.278426   0.307474    0.005297 -0.044352 -0.883704   \n",
              "8  0.843517  0.117394 -0.308985   0.364822   -0.002337 -0.027292 -0.902287   \n",
              "9  0.855156  0.120356 -0.303848   0.350465   -0.002805 -0.042516 -0.898783   \n",
              "\n",
              "   Longitude  \n",
              "0  -0.868906  \n",
              "1  -0.860932  \n",
              "2  -0.857844  \n",
              "3  -0.870356  \n",
              "4  -0.879489  \n",
              "5  -0.858536  \n",
              "6  -0.884206  \n",
              "7  -0.865643  \n",
              "8  -0.877274  \n",
              "9  -0.874346  "
            ],
            "text/html": [
              "\n",
              "  <div id=\"df-42935d9f-bfca-4aa8-887a-74f5de48b92e\">\n",
              "    <div class=\"colab-df-container\">\n",
              "      <div>\n",
              "<style scoped>\n",
              "    .dataframe tbody tr th:only-of-type {\n",
              "        vertical-align: middle;\n",
              "    }\n",
              "\n",
              "    .dataframe tbody tr th {\n",
              "        vertical-align: top;\n",
              "    }\n",
              "\n",
              "    .dataframe thead th {\n",
              "        text-align: right;\n",
              "    }\n",
              "</style>\n",
              "<table border=\"1\" class=\"dataframe\">\n",
              "  <thead>\n",
              "    <tr style=\"text-align: right;\">\n",
              "      <th></th>\n",
              "      <th>MedInc</th>\n",
              "      <th>HouseAge</th>\n",
              "      <th>AveRooms</th>\n",
              "      <th>AveBedrms</th>\n",
              "      <th>Population</th>\n",
              "      <th>AveOccup</th>\n",
              "      <th>Latitude</th>\n",
              "      <th>Longitude</th>\n",
              "    </tr>\n",
              "  </thead>\n",
              "  <tbody>\n",
              "    <tr>\n",
              "      <th>0</th>\n",
              "      <td>0.844325</td>\n",
              "      <td>0.118464</td>\n",
              "      <td>-0.304620</td>\n",
              "      <td>0.356621</td>\n",
              "      <td>0.000174</td>\n",
              "      <td>-0.042396</td>\n",
              "      <td>-0.896046</td>\n",
              "      <td>-0.868906</td>\n",
              "    </tr>\n",
              "    <tr>\n",
              "      <th>1</th>\n",
              "      <td>0.858714</td>\n",
              "      <td>0.122587</td>\n",
              "      <td>-0.318971</td>\n",
              "      <td>0.367952</td>\n",
              "      <td>-0.005787</td>\n",
              "      <td>-0.047584</td>\n",
              "      <td>-0.881884</td>\n",
              "      <td>-0.860932</td>\n",
              "    </tr>\n",
              "    <tr>\n",
              "      <th>2</th>\n",
              "      <td>0.861659</td>\n",
              "      <td>0.123953</td>\n",
              "      <td>-0.311375</td>\n",
              "      <td>0.364120</td>\n",
              "      <td>-0.002180</td>\n",
              "      <td>-0.042278</td>\n",
              "      <td>-0.883806</td>\n",
              "      <td>-0.857844</td>\n",
              "    </tr>\n",
              "    <tr>\n",
              "      <th>3</th>\n",
              "      <td>0.848127</td>\n",
              "      <td>0.126043</td>\n",
              "      <td>-0.311782</td>\n",
              "      <td>0.365767</td>\n",
              "      <td>-0.001925</td>\n",
              "      <td>-0.042371</td>\n",
              "      <td>-0.894694</td>\n",
              "      <td>-0.870356</td>\n",
              "    </tr>\n",
              "    <tr>\n",
              "      <th>4</th>\n",
              "      <td>0.851105</td>\n",
              "      <td>0.119741</td>\n",
              "      <td>-0.296175</td>\n",
              "      <td>0.344938</td>\n",
              "      <td>-0.005584</td>\n",
              "      <td>-0.026331</td>\n",
              "      <td>-0.906398</td>\n",
              "      <td>-0.879489</td>\n",
              "    </tr>\n",
              "    <tr>\n",
              "      <th>5</th>\n",
              "      <td>0.853378</td>\n",
              "      <td>0.128003</td>\n",
              "      <td>-0.302691</td>\n",
              "      <td>0.349465</td>\n",
              "      <td>0.001334</td>\n",
              "      <td>-0.027100</td>\n",
              "      <td>-0.884449</td>\n",
              "      <td>-0.858536</td>\n",
              "    </tr>\n",
              "    <tr>\n",
              "      <th>6</th>\n",
              "      <td>0.852045</td>\n",
              "      <td>0.120596</td>\n",
              "      <td>-0.306971</td>\n",
              "      <td>0.363658</td>\n",
              "      <td>-0.001946</td>\n",
              "      <td>-0.028373</td>\n",
              "      <td>-0.908058</td>\n",
              "      <td>-0.884206</td>\n",
              "    </tr>\n",
              "    <tr>\n",
              "      <th>7</th>\n",
              "      <td>0.853504</td>\n",
              "      <td>0.130560</td>\n",
              "      <td>-0.278426</td>\n",
              "      <td>0.307474</td>\n",
              "      <td>0.005297</td>\n",
              "      <td>-0.044352</td>\n",
              "      <td>-0.883704</td>\n",
              "      <td>-0.865643</td>\n",
              "    </tr>\n",
              "    <tr>\n",
              "      <th>8</th>\n",
              "      <td>0.843517</td>\n",
              "      <td>0.117394</td>\n",
              "      <td>-0.308985</td>\n",
              "      <td>0.364822</td>\n",
              "      <td>-0.002337</td>\n",
              "      <td>-0.027292</td>\n",
              "      <td>-0.902287</td>\n",
              "      <td>-0.877274</td>\n",
              "    </tr>\n",
              "    <tr>\n",
              "      <th>9</th>\n",
              "      <td>0.855156</td>\n",
              "      <td>0.120356</td>\n",
              "      <td>-0.303848</td>\n",
              "      <td>0.350465</td>\n",
              "      <td>-0.002805</td>\n",
              "      <td>-0.042516</td>\n",
              "      <td>-0.898783</td>\n",
              "      <td>-0.874346</td>\n",
              "    </tr>\n",
              "  </tbody>\n",
              "</table>\n",
              "</div>\n",
              "      <button class=\"colab-df-convert\" onclick=\"convertToInteractive('df-42935d9f-bfca-4aa8-887a-74f5de48b92e')\"\n",
              "              title=\"Convert this dataframe to an interactive table.\"\n",
              "              style=\"display:none;\">\n",
              "        \n",
              "  <svg xmlns=\"http://www.w3.org/2000/svg\" height=\"24px\"viewBox=\"0 0 24 24\"\n",
              "       width=\"24px\">\n",
              "    <path d=\"M0 0h24v24H0V0z\" fill=\"none\"/>\n",
              "    <path d=\"M18.56 5.44l.94 2.06.94-2.06 2.06-.94-2.06-.94-.94-2.06-.94 2.06-2.06.94zm-11 1L8.5 8.5l.94-2.06 2.06-.94-2.06-.94L8.5 2.5l-.94 2.06-2.06.94zm10 10l.94 2.06.94-2.06 2.06-.94-2.06-.94-.94-2.06-.94 2.06-2.06.94z\"/><path d=\"M17.41 7.96l-1.37-1.37c-.4-.4-.92-.59-1.43-.59-.52 0-1.04.2-1.43.59L10.3 9.45l-7.72 7.72c-.78.78-.78 2.05 0 2.83L4 21.41c.39.39.9.59 1.41.59.51 0 1.02-.2 1.41-.59l7.78-7.78 2.81-2.81c.8-.78.8-2.07 0-2.86zM5.41 20L4 18.59l7.72-7.72 1.47 1.35L5.41 20z\"/>\n",
              "  </svg>\n",
              "      </button>\n",
              "      \n",
              "  <style>\n",
              "    .colab-df-container {\n",
              "      display:flex;\n",
              "      flex-wrap:wrap;\n",
              "      gap: 12px;\n",
              "    }\n",
              "\n",
              "    .colab-df-convert {\n",
              "      background-color: #E8F0FE;\n",
              "      border: none;\n",
              "      border-radius: 50%;\n",
              "      cursor: pointer;\n",
              "      display: none;\n",
              "      fill: #1967D2;\n",
              "      height: 32px;\n",
              "      padding: 0 0 0 0;\n",
              "      width: 32px;\n",
              "    }\n",
              "\n",
              "    .colab-df-convert:hover {\n",
              "      background-color: #E2EBFA;\n",
              "      box-shadow: 0px 1px 2px rgba(60, 64, 67, 0.3), 0px 1px 3px 1px rgba(60, 64, 67, 0.15);\n",
              "      fill: #174EA6;\n",
              "    }\n",
              "\n",
              "    [theme=dark] .colab-df-convert {\n",
              "      background-color: #3B4455;\n",
              "      fill: #D2E3FC;\n",
              "    }\n",
              "\n",
              "    [theme=dark] .colab-df-convert:hover {\n",
              "      background-color: #434B5C;\n",
              "      box-shadow: 0px 1px 3px 1px rgba(0, 0, 0, 0.15);\n",
              "      filter: drop-shadow(0px 1px 2px rgba(0, 0, 0, 0.3));\n",
              "      fill: #FFFFFF;\n",
              "    }\n",
              "  </style>\n",
              "\n",
              "      <script>\n",
              "        const buttonEl =\n",
              "          document.querySelector('#df-42935d9f-bfca-4aa8-887a-74f5de48b92e button.colab-df-convert');\n",
              "        buttonEl.style.display =\n",
              "          google.colab.kernel.accessAllowed ? 'block' : 'none';\n",
              "\n",
              "        async function convertToInteractive(key) {\n",
              "          const element = document.querySelector('#df-42935d9f-bfca-4aa8-887a-74f5de48b92e');\n",
              "          const dataTable =\n",
              "            await google.colab.kernel.invokeFunction('convertToInteractive',\n",
              "                                                     [key], {});\n",
              "          if (!dataTable) return;\n",
              "\n",
              "          const docLinkHtml = 'Like what you see? Visit the ' +\n",
              "            '<a target=\"_blank\" href=https://colab.research.google.com/notebooks/data_table.ipynb>data table notebook</a>'\n",
              "            + ' to learn more about interactive tables.';\n",
              "          element.innerHTML = '';\n",
              "          dataTable['output_type'] = 'display_data';\n",
              "          await google.colab.output.renderOutput(dataTable, element);\n",
              "          const docLink = document.createElement('div');\n",
              "          docLink.innerHTML = docLinkHtml;\n",
              "          element.appendChild(docLink);\n",
              "        }\n",
              "      </script>\n",
              "    </div>\n",
              "  </div>\n",
              "  "
            ]
          },
          "metadata": {},
          "execution_count": 33
        }
      ]
    },
    {
      "cell_type": "code",
      "source": [
        "weights_df.describe()"
      ],
      "metadata": {
        "colab": {
          "base_uri": "https://localhost:8080/",
          "height": 364
        },
        "id": "Di6m4R-b9XM8",
        "outputId": "b7070baa-4537-4d21-bfd4-1e232c2cfb57"
      },
      "execution_count": null,
      "outputs": [
        {
          "output_type": "execute_result",
          "data": {
            "text/plain": [
              "          MedInc   HouseAge   AveRooms  AveBedrms  Population   AveOccup  \\\n",
              "count  10.000000  10.000000  10.000000  10.000000   10.000000  10.000000   \n",
              "mean    0.852153   0.122770  -0.304384   0.353528   -0.001576  -0.037059   \n",
              "std     0.005763   0.004312   0.010998   0.018044    0.003254   0.008582   \n",
              "min     0.843517   0.117394  -0.318971   0.307474   -0.005787  -0.047584   \n",
              "25%     0.848871   0.119895  -0.310778   0.349715   -0.002688  -0.042486   \n",
              "50%     0.852711   0.121592  -0.305795   0.360139   -0.002063  -0.042325   \n",
              "75%     0.854743   0.125520  -0.302980   0.364646   -0.000350  -0.027562   \n",
              "max     0.861659   0.130560  -0.278426   0.367952    0.005297  -0.026331   \n",
              "\n",
              "        Latitude  Longitude  \n",
              "count  10.000000  10.000000  \n",
              "mean   -0.894011  -0.869753  \n",
              "std     0.009975   0.009097  \n",
              "min    -0.908058  -0.884206  \n",
              "25%    -0.901411  -0.876542  \n",
              "50%    -0.895370  -0.869631  \n",
              "75%    -0.883967  -0.862110  \n",
              "max    -0.881884  -0.857844  "
            ],
            "text/html": [
              "\n",
              "  <div id=\"df-92a855cd-e908-4a76-bc12-151526ffcd68\">\n",
              "    <div class=\"colab-df-container\">\n",
              "      <div>\n",
              "<style scoped>\n",
              "    .dataframe tbody tr th:only-of-type {\n",
              "        vertical-align: middle;\n",
              "    }\n",
              "\n",
              "    .dataframe tbody tr th {\n",
              "        vertical-align: top;\n",
              "    }\n",
              "\n",
              "    .dataframe thead th {\n",
              "        text-align: right;\n",
              "    }\n",
              "</style>\n",
              "<table border=\"1\" class=\"dataframe\">\n",
              "  <thead>\n",
              "    <tr style=\"text-align: right;\">\n",
              "      <th></th>\n",
              "      <th>MedInc</th>\n",
              "      <th>HouseAge</th>\n",
              "      <th>AveRooms</th>\n",
              "      <th>AveBedrms</th>\n",
              "      <th>Population</th>\n",
              "      <th>AveOccup</th>\n",
              "      <th>Latitude</th>\n",
              "      <th>Longitude</th>\n",
              "    </tr>\n",
              "  </thead>\n",
              "  <tbody>\n",
              "    <tr>\n",
              "      <th>count</th>\n",
              "      <td>10.000000</td>\n",
              "      <td>10.000000</td>\n",
              "      <td>10.000000</td>\n",
              "      <td>10.000000</td>\n",
              "      <td>10.000000</td>\n",
              "      <td>10.000000</td>\n",
              "      <td>10.000000</td>\n",
              "      <td>10.000000</td>\n",
              "    </tr>\n",
              "    <tr>\n",
              "      <th>mean</th>\n",
              "      <td>0.852153</td>\n",
              "      <td>0.122770</td>\n",
              "      <td>-0.304384</td>\n",
              "      <td>0.353528</td>\n",
              "      <td>-0.001576</td>\n",
              "      <td>-0.037059</td>\n",
              "      <td>-0.894011</td>\n",
              "      <td>-0.869753</td>\n",
              "    </tr>\n",
              "    <tr>\n",
              "      <th>std</th>\n",
              "      <td>0.005763</td>\n",
              "      <td>0.004312</td>\n",
              "      <td>0.010998</td>\n",
              "      <td>0.018044</td>\n",
              "      <td>0.003254</td>\n",
              "      <td>0.008582</td>\n",
              "      <td>0.009975</td>\n",
              "      <td>0.009097</td>\n",
              "    </tr>\n",
              "    <tr>\n",
              "      <th>min</th>\n",
              "      <td>0.843517</td>\n",
              "      <td>0.117394</td>\n",
              "      <td>-0.318971</td>\n",
              "      <td>0.307474</td>\n",
              "      <td>-0.005787</td>\n",
              "      <td>-0.047584</td>\n",
              "      <td>-0.908058</td>\n",
              "      <td>-0.884206</td>\n",
              "    </tr>\n",
              "    <tr>\n",
              "      <th>25%</th>\n",
              "      <td>0.848871</td>\n",
              "      <td>0.119895</td>\n",
              "      <td>-0.310778</td>\n",
              "      <td>0.349715</td>\n",
              "      <td>-0.002688</td>\n",
              "      <td>-0.042486</td>\n",
              "      <td>-0.901411</td>\n",
              "      <td>-0.876542</td>\n",
              "    </tr>\n",
              "    <tr>\n",
              "      <th>50%</th>\n",
              "      <td>0.852711</td>\n",
              "      <td>0.121592</td>\n",
              "      <td>-0.305795</td>\n",
              "      <td>0.360139</td>\n",
              "      <td>-0.002063</td>\n",
              "      <td>-0.042325</td>\n",
              "      <td>-0.895370</td>\n",
              "      <td>-0.869631</td>\n",
              "    </tr>\n",
              "    <tr>\n",
              "      <th>75%</th>\n",
              "      <td>0.854743</td>\n",
              "      <td>0.125520</td>\n",
              "      <td>-0.302980</td>\n",
              "      <td>0.364646</td>\n",
              "      <td>-0.000350</td>\n",
              "      <td>-0.027562</td>\n",
              "      <td>-0.883967</td>\n",
              "      <td>-0.862110</td>\n",
              "    </tr>\n",
              "    <tr>\n",
              "      <th>max</th>\n",
              "      <td>0.861659</td>\n",
              "      <td>0.130560</td>\n",
              "      <td>-0.278426</td>\n",
              "      <td>0.367952</td>\n",
              "      <td>0.005297</td>\n",
              "      <td>-0.026331</td>\n",
              "      <td>-0.881884</td>\n",
              "      <td>-0.857844</td>\n",
              "    </tr>\n",
              "  </tbody>\n",
              "</table>\n",
              "</div>\n",
              "      <button class=\"colab-df-convert\" onclick=\"convertToInteractive('df-92a855cd-e908-4a76-bc12-151526ffcd68')\"\n",
              "              title=\"Convert this dataframe to an interactive table.\"\n",
              "              style=\"display:none;\">\n",
              "        \n",
              "  <svg xmlns=\"http://www.w3.org/2000/svg\" height=\"24px\"viewBox=\"0 0 24 24\"\n",
              "       width=\"24px\">\n",
              "    <path d=\"M0 0h24v24H0V0z\" fill=\"none\"/>\n",
              "    <path d=\"M18.56 5.44l.94 2.06.94-2.06 2.06-.94-2.06-.94-.94-2.06-.94 2.06-2.06.94zm-11 1L8.5 8.5l.94-2.06 2.06-.94-2.06-.94L8.5 2.5l-.94 2.06-2.06.94zm10 10l.94 2.06.94-2.06 2.06-.94-2.06-.94-.94-2.06-.94 2.06-2.06.94z\"/><path d=\"M17.41 7.96l-1.37-1.37c-.4-.4-.92-.59-1.43-.59-.52 0-1.04.2-1.43.59L10.3 9.45l-7.72 7.72c-.78.78-.78 2.05 0 2.83L4 21.41c.39.39.9.59 1.41.59.51 0 1.02-.2 1.41-.59l7.78-7.78 2.81-2.81c.8-.78.8-2.07 0-2.86zM5.41 20L4 18.59l7.72-7.72 1.47 1.35L5.41 20z\"/>\n",
              "  </svg>\n",
              "      </button>\n",
              "      \n",
              "  <style>\n",
              "    .colab-df-container {\n",
              "      display:flex;\n",
              "      flex-wrap:wrap;\n",
              "      gap: 12px;\n",
              "    }\n",
              "\n",
              "    .colab-df-convert {\n",
              "      background-color: #E8F0FE;\n",
              "      border: none;\n",
              "      border-radius: 50%;\n",
              "      cursor: pointer;\n",
              "      display: none;\n",
              "      fill: #1967D2;\n",
              "      height: 32px;\n",
              "      padding: 0 0 0 0;\n",
              "      width: 32px;\n",
              "    }\n",
              "\n",
              "    .colab-df-convert:hover {\n",
              "      background-color: #E2EBFA;\n",
              "      box-shadow: 0px 1px 2px rgba(60, 64, 67, 0.3), 0px 1px 3px 1px rgba(60, 64, 67, 0.15);\n",
              "      fill: #174EA6;\n",
              "    }\n",
              "\n",
              "    [theme=dark] .colab-df-convert {\n",
              "      background-color: #3B4455;\n",
              "      fill: #D2E3FC;\n",
              "    }\n",
              "\n",
              "    [theme=dark] .colab-df-convert:hover {\n",
              "      background-color: #434B5C;\n",
              "      box-shadow: 0px 1px 3px 1px rgba(0, 0, 0, 0.15);\n",
              "      filter: drop-shadow(0px 1px 2px rgba(0, 0, 0, 0.3));\n",
              "      fill: #FFFFFF;\n",
              "    }\n",
              "  </style>\n",
              "\n",
              "      <script>\n",
              "        const buttonEl =\n",
              "          document.querySelector('#df-92a855cd-e908-4a76-bc12-151526ffcd68 button.colab-df-convert');\n",
              "        buttonEl.style.display =\n",
              "          google.colab.kernel.accessAllowed ? 'block' : 'none';\n",
              "\n",
              "        async function convertToInteractive(key) {\n",
              "          const element = document.querySelector('#df-92a855cd-e908-4a76-bc12-151526ffcd68');\n",
              "          const dataTable =\n",
              "            await google.colab.kernel.invokeFunction('convertToInteractive',\n",
              "                                                     [key], {});\n",
              "          if (!dataTable) return;\n",
              "\n",
              "          const docLinkHtml = 'Like what you see? Visit the ' +\n",
              "            '<a target=\"_blank\" href=https://colab.research.google.com/notebooks/data_table.ipynb>data table notebook</a>'\n",
              "            + ' to learn more about interactive tables.';\n",
              "          element.innerHTML = '';\n",
              "          dataTable['output_type'] = 'display_data';\n",
              "          await google.colab.output.renderOutput(dataTable, element);\n",
              "          const docLink = document.createElement('div');\n",
              "          docLink.innerHTML = docLinkHtml;\n",
              "          element.appendChild(docLink);\n",
              "        }\n",
              "      </script>\n",
              "    </div>\n",
              "  </div>\n",
              "  "
            ]
          },
          "metadata": {},
          "execution_count": 34
        }
      ]
    },
    {
      "cell_type": "code",
      "source": [
        "# selecting best model\n",
        "best_model_index = np.argmin(test_error)\n",
        "selected_model = lin_cvalidate_score[\"estimator\"][best_model_index]"
      ],
      "metadata": {
        "id": "kQySHbeO9bxj"
      },
      "execution_count": null,
      "outputs": []
    },
    {
      "cell_type": "code",
      "source": [
        " lin_cvalidate_score[\"estimator\"][0]"
      ],
      "metadata": {
        "colab": {
          "base_uri": "https://localhost:8080/"
        },
        "id": "wNZwAn-p-ZSV",
        "outputId": "38ddc31e-7bfc-44d6-9459-0b26c6910d20"
      },
      "execution_count": null,
      "outputs": [
        {
          "output_type": "execute_result",
          "data": {
            "text/plain": [
              "Pipeline(steps=[('sclaing', StandardScaler()),\n",
              "                ('regressor', LinearRegression())])"
            ]
          },
          "metadata": {},
          "execution_count": 36
        }
      ]
    },
    {
      "cell_type": "code",
      "source": [
        "best_model_index = np.argmin(test_error)\n",
        "test_error"
      ],
      "metadata": {
        "colab": {
          "base_uri": "https://localhost:8080/"
        },
        "id": "JbVy2J-49wNc",
        "outputId": "b29622b1-73ec-425b-ec6a-336d30b50f52"
      },
      "execution_count": null,
      "outputs": [
        {
          "output_type": "execute_result",
          "data": {
            "text/plain": [
              "array([0.50009976, 0.52183352, 0.55931218, 0.52110499, 0.56059203,\n",
              "       0.50510767, 0.52386194, 0.54775518, 0.5007161 , 0.54713448])"
            ]
          },
          "metadata": {},
          "execution_count": 37
        }
      ]
    },
    {
      "cell_type": "code",
      "source": [
        "# examine selected model coeff\n",
        "selected_model[\"regressor\"].coef_"
      ],
      "metadata": {
        "colab": {
          "base_uri": "https://localhost:8080/"
        },
        "id": "dG4cQI-99b0W",
        "outputId": "ce002ffb-ad6b-4f2b-ceef-769758ae6937"
      },
      "execution_count": null,
      "outputs": [
        {
          "output_type": "execute_result",
          "data": {
            "text/plain": [
              "array([ 8.44324888e-01,  1.18463901e-01, -3.04619574e-01,  3.56620503e-01,\n",
              "        1.74458509e-04, -4.23964612e-02, -8.96045642e-01, -8.68906479e-01])"
            ]
          },
          "metadata": {},
          "execution_count": 38
        }
      ]
    },
    {
      "cell_type": "code",
      "source": [
        "selected_model[\"regressor\"].intercept_"
      ],
      "metadata": {
        "colab": {
          "base_uri": "https://localhost:8080/"
        },
        "id": "23DYM5Z1-Yic",
        "outputId": "b9798c54-cdf1-45b4-beff-920bc81b1955"
      },
      "execution_count": null,
      "outputs": [
        {
          "output_type": "execute_result",
          "data": {
            "text/plain": [
              "2.0779898917958657"
            ]
          },
          "metadata": {},
          "execution_count": 39
        }
      ]
    },
    {
      "cell_type": "code",
      "source": [
        "#model performance \n",
        "\n",
        "from sklearn.model_selection import cross_val_predict\n",
        "cv_predictions = cross_val_predict(lin_pipeline , train_x , train_y)\n",
        "cv_predictions"
      ],
      "metadata": {
        "colab": {
          "base_uri": "https://localhost:8080/"
        },
        "id": "5DGIWPh49b2e",
        "outputId": "628e1107-d788-4cc8-b00c-75b7ff9b9d0d"
      },
      "execution_count": null,
      "outputs": [
        {
          "output_type": "execute_result",
          "data": {
            "text/plain": [
              "array([2.35311994, 3.13838889, 2.21849912, ..., 2.03667839, 2.84248473,\n",
              "       2.26647786])"
            ]
          },
          "metadata": {},
          "execution_count": 40
        }
      ]
    },
    {
      "cell_type": "code",
      "source": [
        "train_y"
      ],
      "metadata": {
        "colab": {
          "base_uri": "https://localhost:8080/"
        },
        "id": "Y2y2lpu0_hlw",
        "outputId": "0c103b3c-b021-4575-957f-dac1cfc97cd1"
      },
      "execution_count": null,
      "outputs": [
        {
          "output_type": "execute_result",
          "data": {
            "text/plain": [
              "8158     2.285\n",
              "18368    2.799\n",
              "19197    1.830\n",
              "3746     4.658\n",
              "13073    1.500\n",
              "         ...  \n",
              "11284    2.292\n",
              "11964    0.978\n",
              "5390     2.221\n",
              "860      2.835\n",
              "15795    3.250\n",
              "Name: MedHouseVal, Length: 15480, dtype: float64"
            ]
          },
          "metadata": {},
          "execution_count": 41
        }
      ]
    },
    {
      "cell_type": "code",
      "source": [
        "from sklearn.metrics import mean_squared_error\n",
        "mse_cv = mean_squared_error(train_y , cv_predictions)\n",
        "\n",
        "plt.scatter(train_y , cv_predictions , color = \"black\")\n",
        "plt.plot(train_y , train_y , \"r-\")\n",
        "plt.title(\"Mean Squared Error=0.52\" )\n",
        "plt.xlabel(\"actual median house value\")\n",
        "plt.ylabel(\"predicted median house value\")\n",
        "plt.show() "
      ],
      "metadata": {
        "colab": {
          "base_uri": "https://localhost:8080/",
          "height": 376
        },
        "id": "6r78BNy69b5F",
        "outputId": "9f3eafc1-518c-4207-912d-c22bafbc8177"
      },
      "execution_count": null,
      "outputs": [
        {
          "output_type": "display_data",
          "data": {
            "text/plain": [
              "<Figure size 576x396 with 1 Axes>"
            ],
            "image/png": "[encoded data removed]"
          },
          "metadata": {}
        }
      ]
    },
    {
      "cell_type": "code",
      "source": [
        "mse_cv"
      ],
      "metadata": {
        "colab": {
          "base_uri": "https://localhost:8080/"
        },
        "id": "jrr1N8Sv9b7O",
        "outputId": "fcb05261-439b-421c-e5e7-6e58872ed432"
      },
      "execution_count": null,
      "outputs": [
        {
          "output_type": "execute_result",
          "data": {
            "text/plain": [
              "0.524239429597702"
            ]
          },
          "metadata": {},
          "execution_count": 43
        }
      ]
    },
    {
      "cell_type": "code",
      "source": [
        "# predictions from selected cross_validates model\n",
        "test_predicitons_csv = selected_model.predict(test_x)\n",
        "test_predicitons_csv"
      ],
      "metadata": {
        "colab": {
          "base_uri": "https://localhost:8080/"
        },
        "id": "y4eBayl-9b9f",
        "outputId": "b9b8b636-54a7-44d0-ef0f-7c6d611a20c5"
      },
      "execution_count": null,
      "outputs": [
        {
          "output_type": "execute_result",
          "data": {
            "text/plain": [
              "array([0.73548515, 1.7725621 , 2.70011199, ..., 1.72922496, 2.34393553,\n",
              "       3.5176306 ])"
            ]
          },
          "metadata": {},
          "execution_count": 44
        }
      ]
    },
    {
      "cell_type": "code",
      "source": [
        "# predictions from initially one fold splitted model\n",
        "test_predictions = lin_pipeline.predict(test_x)\n",
        "test_predictions"
      ],
      "metadata": {
        "colab": {
          "base_uri": "https://localhost:8080/"
        },
        "id": "8O82nqAYBtS0",
        "outputId": "ba69683d-cbd7-4528-a15d-b0df205a9aec"
      },
      "execution_count": null,
      "outputs": [
        {
          "output_type": "execute_result",
          "data": {
            "text/plain": [
              "array([0.72412832, 1.76677807, 2.71151581, ..., 1.72382152, 2.34689276,\n",
              "       3.52917352])"
            ]
          },
          "metadata": {},
          "execution_count": 45
        }
      ]
    },
    {
      "cell_type": "code",
      "source": [
        "# report model performance\n",
        "\n",
        "print(\"R2 score for the best model obtained via cv\" ,\n",
        "      selected_model.score(test_x , test_y))\n",
        "print(\"R2 score for model without cv\" , lin_pipeline.score(test_x , test_y))"
      ],
      "metadata": {
        "colab": {
          "base_uri": "https://localhost:8080/"
        },
        "id": "3gg3YCb_BtVJ",
        "outputId": "386687af-3858-4b99-e5f7-dfe827caa245"
      },
      "execution_count": null,
      "outputs": [
        {
          "output_type": "stream",
          "name": "stdout",
          "text": [
            "R2 score for the best model obtained via cv 0.5923577635319088\n",
            "R2 score for model without cv 0.5910509795491352\n"
          ]
        }
      ]
    },
    {
      "cell_type": "code",
      "source": [
        "# alternative metric\n",
        "print(\"MSE for the best model obtained via cross validation\" ,\n",
        "      mean_squared_error(test_y , test_predicitons_csv))\n",
        "print(\"MSE for the best model obtained without cv\" ,\n",
        "      mean_squared_error(test_y , test_predictions))\n",
        "# cv model performs better"
      ],
      "metadata": {
        "colab": {
          "base_uri": "https://localhost:8080/"
        },
        "id": "9BuntsehCdPi",
        "outputId": "cd2ae02c-54e8-41d2-ec17-b6c4cd414285"
      },
      "execution_count": null,
      "outputs": [
        {
          "output_type": "stream",
          "name": "stdout",
          "text": [
            "MSE for the best model obtained via cross validation 0.5393995876218523\n",
            "MSE for the best model obtained without cv 0.5411287478470688\n"
          ]
        }
      ]
    },
    {
      "cell_type": "code",
      "source": [],
      "metadata": {
        "id": "cJ7UtTMgCdST"
      },
      "execution_count": null,
      "outputs": []
    },
    {
      "cell_type": "code",
      "source": [],
      "metadata": {
        "id": "cTHpd5jwCdUc"
      },
      "execution_count": null,
      "outputs": []
    },
    {
      "cell_type": "code",
      "source": [],
      "metadata": {
        "id": "8zsVdQ1tBtXU"
      },
      "execution_count": null,
      "outputs": []
    },
    {
      "cell_type": "code",
      "source": [
        "#BASELINE MODEL"
      ],
      "metadata": {
        "id": "eqYksKj0UCaq"
      },
      "execution_count": null,
      "outputs": []
    },
    {
      "cell_type": "code",
      "source": [
        "# LinearRegression classifier\n",
        "# 1. Build linear regression model with feature scaling as part of a pipeline\n",
        "# 2. Train the model with 10-fold cross validation via ShuffleSplit\n",
        "# 3. Capture errors on different folds"
      ],
      "metadata": {
        "id": "XfG8NJzJpe04"
      },
      "execution_count": null,
      "outputs": []
    },
    {
      "cell_type": "code",
      "source": [
        "shuffle_cv = ShuffleSplit(n_splits = 10 , test_size = 0.2 , random_state=0 )\n"
      ],
      "metadata": {
        "id": "8lcrPxlToOtY"
      },
      "execution_count": null,
      "outputs": []
    },
    {
      "cell_type": "code",
      "source": [
        "features , labels = fetch_california_housing(as_frame = True, return_X_y= True)\n",
        "train_features , test_features, train_labels, test_labels = train_test_split(features, labels, random_state = 42)"
      ],
      "metadata": {
        "id": "KsEVDb0Uo_e4"
      },
      "execution_count": null,
      "outputs": []
    },
    {
      "cell_type": "code",
      "source": [
        "lin_pipeline = Pipeline([\n",
        "     (\"scaling\" , StandardScaler()),\n",
        "     (\"regressor\" , LinearRegression())\n",
        " ])\n",
        "\n",
        "lin_cv_results = cross_validate(lin_pipeline , train_features,\n",
        "                                train_labels , cv = shuffle_cv , \n",
        "                                scoring = \"neg_mean_absolute_error\" , \n",
        "                                n_jobs = 2) # n_jobs = Number of jobs to run in parallel. Training the estimator and computing\n",
        "#the score are parallelized over the cross-validation splits.\n",
        "\n",
        "lin_errors = pd.Series(-lin_cv_results[\"test_score\"] , \n",
        "                       name = \"Linear regression error\")\n"
      ],
      "metadata": {
        "id": "--0djWQXpVF4"
      },
      "execution_count": null,
      "outputs": []
    },
    {
      "cell_type": "code",
      "source": [
        "def dummy_reg_baseline(strategy, constant_val =None , quantile_val = None):\n",
        "  baseline_model_median = DummyRegressor(strategy = strategy, \n",
        "                                         constant = constant_val,\n",
        "                                         quantile = quantile_val)\n",
        "  baseline_median_cv_results = cross_validate(baseline_model_median, \n",
        "                                              train_features, train_labels ,\n",
        "                                              cv = shuffle_cv , scoring = \"neg_mean_absolute_error\" ,\n",
        "                                              n_jobs = 2)\n",
        "  return pd.Series(-baseline_median_cv_results[\"test_score\"] ,\n",
        "                   name= \"Dummy regressor error\")"
      ],
      "metadata": {
        "id": "oG9SHnAWu4RV"
      },
      "execution_count": null,
      "outputs": []
    },
    {
      "cell_type": "code",
      "source": [
        "baseline_median_cv_results_errors = dummy_reg_baseline(strategy = \"median\")\n",
        "baseline_mean_cv_results_errors = dummy_reg_baseline(strategy = \"mean\")\n",
        "baseline_constant_cv_results_errors = dummy_reg_baseline(strategy = \"constant\" , constant_val = 2)\n",
        "baseline_quantile_cv_results_errors = dummy_reg_baseline(strategy = \"quantile\" , quantile_val = 0.55)\n",
        "\n"
      ],
      "metadata": {
        "id": "cFfFa3XIv-VV"
      },
      "execution_count": null,
      "outputs": []
    },
    {
      "cell_type": "code",
      "source": [
        "dummy_error_df = pd.concat([\n",
        "    baseline_median_cv_results_errors,\n",
        "    baseline_mean_cv_results_errors,\n",
        "    baseline_constant_cv_results_errors,\n",
        "    baseline_quantile_cv_results_errors\n",
        "] , axis = 1)\n",
        "\n",
        "dummy_error_df.columns = [\"median cv\" , \"mean cv\" , \"constant cv\" , \"quantile cv\"]\n"
      ],
      "metadata": {
        "id": "wLskRJMlwgc-"
      },
      "execution_count": null,
      "outputs": []
    },
    {
      "cell_type": "code",
      "source": [
        "dummy_error_df.plot.hist(bins = 50 , density = True, edgecolor = \"black\")\n",
        "plt.legend(loc = \"upper right\")\n",
        "plt.xlabel(\"mean absolte error\")\n",
        "_ = plt.title(\"distribution of testing errors\")"
      ],
      "metadata": {
        "colab": {
          "base_uri": "https://localhost:8080/",
          "height": 376
        },
        "id": "CbWt3LGqxXcP",
        "outputId": "910f37b4-aeaf-4a25-e09a-e9e09ee8d088"
      },
      "execution_count": null,
      "outputs": [
        {
          "output_type": "display_data",
          "data": {
            "text/plain": [
              "<Figure size 576x396 with 1 Axes>"
            ],
            "image/png": "[encoded data removed]"
          },
          "metadata": {}
        }
      ]
    },
    {
      "cell_type": "code",
      "source": [
        "dummy_error_df"
      ],
      "metadata": {
        "colab": {
          "base_uri": "https://localhost:8080/",
          "height": 363
        },
        "id": "1ZkHzkAJxq_8",
        "outputId": "2aa1708d-041f-4801-9c5e-d2923a86969b"
      },
      "execution_count": null,
      "outputs": [
        {
          "output_type": "execute_result",
          "data": {
            "text/plain": [
              "   median cv   mean cv  constant cv  quantile cv\n",
              "0   0.881187  0.918341     0.902993     0.891847\n",
              "1   0.873773  0.898484     0.886983     0.877153\n",
              "2   0.876366  0.894307     0.885488     0.877260\n",
              "3   0.892083  0.915112     0.904889     0.895924\n",
              "4   0.876835  0.909209     0.895593     0.884722\n",
              "5   0.874685  0.903733     0.890999     0.880856\n",
              "6   0.864097  0.902037     0.886215     0.874646\n",
              "7   0.888523  0.917216     0.904945     0.894905\n",
              "8   0.890963  0.921880     0.908874     0.898323\n",
              "9   0.886765  0.919369     0.905994     0.895436"
            ],
            "text/html": [
              "\n",
              "  <div id=\"df-8b3b7e24-1291-4419-bbb7-1faebe56ca92\">\n",
              "    <div class=\"colab-df-container\">\n",
              "      <div>\n",
              "<style scoped>\n",
              "    .dataframe tbody tr th:only-of-type {\n",
              "        vertical-align: middle;\n",
              "    }\n",
              "\n",
              "    .dataframe tbody tr th {\n",
              "        vertical-align: top;\n",
              "    }\n",
              "\n",
              "    .dataframe thead th {\n",
              "        text-align: right;\n",
              "    }\n",
              "</style>\n",
              "<table border=\"1\" class=\"dataframe\">\n",
              "  <thead>\n",
              "    <tr style=\"text-align: right;\">\n",
              "      <th></th>\n",
              "      <th>median cv</th>\n",
              "      <th>mean cv</th>\n",
              "      <th>constant cv</th>\n",
              "      <th>quantile cv</th>\n",
              "    </tr>\n",
              "  </thead>\n",
              "  <tbody>\n",
              "    <tr>\n",
              "      <th>0</th>\n",
              "      <td>0.881187</td>\n",
              "      <td>0.918341</td>\n",
              "      <td>0.902993</td>\n",
              "      <td>0.891847</td>\n",
              "    </tr>\n",
              "    <tr>\n",
              "      <th>1</th>\n",
              "      <td>0.873773</td>\n",
              "      <td>0.898484</td>\n",
              "      <td>0.886983</td>\n",
              "      <td>0.877153</td>\n",
              "    </tr>\n",
              "    <tr>\n",
              "      <th>2</th>\n",
              "      <td>0.876366</td>\n",
              "      <td>0.894307</td>\n",
              "      <td>0.885488</td>\n",
              "      <td>0.877260</td>\n",
              "    </tr>\n",
              "    <tr>\n",
              "      <th>3</th>\n",
              "      <td>0.892083</td>\n",
              "      <td>0.915112</td>\n",
              "      <td>0.904889</td>\n",
              "      <td>0.895924</td>\n",
              "    </tr>\n",
              "    <tr>\n",
              "      <th>4</th>\n",
              "      <td>0.876835</td>\n",
              "      <td>0.909209</td>\n",
              "      <td>0.895593</td>\n",
              "      <td>0.884722</td>\n",
              "    </tr>\n",
              "    <tr>\n",
              "      <th>5</th>\n",
              "      <td>0.874685</td>\n",
              "      <td>0.903733</td>\n",
              "      <td>0.890999</td>\n",
              "      <td>0.880856</td>\n",
              "    </tr>\n",
              "    <tr>\n",
              "      <th>6</th>\n",
              "      <td>0.864097</td>\n",
              "      <td>0.902037</td>\n",
              "      <td>0.886215</td>\n",
              "      <td>0.874646</td>\n",
              "    </tr>\n",
              "    <tr>\n",
              "      <th>7</th>\n",
              "      <td>0.888523</td>\n",
              "      <td>0.917216</td>\n",
              "      <td>0.904945</td>\n",
              "      <td>0.894905</td>\n",
              "    </tr>\n",
              "    <tr>\n",
              "      <th>8</th>\n",
              "      <td>0.890963</td>\n",
              "      <td>0.921880</td>\n",
              "      <td>0.908874</td>\n",
              "      <td>0.898323</td>\n",
              "    </tr>\n",
              "    <tr>\n",
              "      <th>9</th>\n",
              "      <td>0.886765</td>\n",
              "      <td>0.919369</td>\n",
              "      <td>0.905994</td>\n",
              "      <td>0.895436</td>\n",
              "    </tr>\n",
              "  </tbody>\n",
              "</table>\n",
              "</div>\n",
              "      <button class=\"colab-df-convert\" onclick=\"convertToInteractive('df-8b3b7e24-1291-4419-bbb7-1faebe56ca92')\"\n",
              "              title=\"Convert this dataframe to an interactive table.\"\n",
              "              style=\"display:none;\">\n",
              "        \n",
              "  <svg xmlns=\"http://www.w3.org/2000/svg\" height=\"24px\"viewBox=\"0 0 24 24\"\n",
              "       width=\"24px\">\n",
              "    <path d=\"M0 0h24v24H0V0z\" fill=\"none\"/>\n",
              "    <path d=\"M18.56 5.44l.94 2.06.94-2.06 2.06-.94-2.06-.94-.94-2.06-.94 2.06-2.06.94zm-11 1L8.5 8.5l.94-2.06 2.06-.94-2.06-.94L8.5 2.5l-.94 2.06-2.06.94zm10 10l.94 2.06.94-2.06 2.06-.94-2.06-.94-.94-2.06-.94 2.06-2.06.94z\"/><path d=\"M17.41 7.96l-1.37-1.37c-.4-.4-.92-.59-1.43-.59-.52 0-1.04.2-1.43.59L10.3 9.45l-7.72 7.72c-.78.78-.78 2.05 0 2.83L4 21.41c.39.39.9.59 1.41.59.51 0 1.02-.2 1.41-.59l7.78-7.78 2.81-2.81c.8-.78.8-2.07 0-2.86zM5.41 20L4 18.59l7.72-7.72 1.47 1.35L5.41 20z\"/>\n",
              "  </svg>\n",
              "      </button>\n",
              "      \n",
              "  <style>\n",
              "    .colab-df-container {\n",
              "      display:flex;\n",
              "      flex-wrap:wrap;\n",
              "      gap: 12px;\n",
              "    }\n",
              "\n",
              "    .colab-df-convert {\n",
              "      background-color: #E8F0FE;\n",
              "      border: none;\n",
              "      border-radius: 50%;\n",
              "      cursor: pointer;\n",
              "      display: none;\n",
              "      fill: #1967D2;\n",
              "      height: 32px;\n",
              "      padding: 0 0 0 0;\n",
              "      width: 32px;\n",
              "    }\n",
              "\n",
              "    .colab-df-convert:hover {\n",
              "      background-color: #E2EBFA;\n",
              "      box-shadow: 0px 1px 2px rgba(60, 64, 67, 0.3), 0px 1px 3px 1px rgba(60, 64, 67, 0.15);\n",
              "      fill: #174EA6;\n",
              "    }\n",
              "\n",
              "    [theme=dark] .colab-df-convert {\n",
              "      background-color: #3B4455;\n",
              "      fill: #D2E3FC;\n",
              "    }\n",
              "\n",
              "    [theme=dark] .colab-df-convert:hover {\n",
              "      background-color: #434B5C;\n",
              "      box-shadow: 0px 1px 3px 1px rgba(0, 0, 0, 0.15);\n",
              "      filter: drop-shadow(0px 1px 2px rgba(0, 0, 0, 0.3));\n",
              "      fill: #FFFFFF;\n",
              "    }\n",
              "  </style>\n",
              "\n",
              "      <script>\n",
              "        const buttonEl =\n",
              "          document.querySelector('#df-8b3b7e24-1291-4419-bbb7-1faebe56ca92 button.colab-df-convert');\n",
              "        buttonEl.style.display =\n",
              "          google.colab.kernel.accessAllowed ? 'block' : 'none';\n",
              "\n",
              "        async function convertToInteractive(key) {\n",
              "          const element = document.querySelector('#df-8b3b7e24-1291-4419-bbb7-1faebe56ca92');\n",
              "          const dataTable =\n",
              "            await google.colab.kernel.invokeFunction('convertToInteractive',\n",
              "                                                     [key], {});\n",
              "          if (!dataTable) return;\n",
              "\n",
              "          const docLinkHtml = 'Like what you see? Visit the ' +\n",
              "            '<a target=\"_blank\" href=https://colab.research.google.com/notebooks/data_table.ipynb>data table notebook</a>'\n",
              "            + ' to learn more about interactive tables.';\n",
              "          element.innerHTML = '';\n",
              "          dataTable['output_type'] = 'display_data';\n",
              "          await google.colab.output.renderOutput(dataTable, element);\n",
              "          const docLink = document.createElement('div');\n",
              "          docLink.innerHTML = docLinkHtml;\n",
              "          element.appendChild(docLink);\n",
              "        }\n",
              "      </script>\n",
              "    </div>\n",
              "  </div>\n",
              "  "
            ]
          },
          "metadata": {},
          "execution_count": 57
        }
      ]
    },
    {
      "cell_type": "code",
      "source": [
        "# permutation_test_score\n",
        "# it permutes the target to generate randomized data\n",
        "# and computes the empirical p-value against the null hypothesis, that\n",
        "# features and targets are independent\n",
        "\n",
        "# here we are interested in permutation_score returned by this API, which\n",
        "# indicates score of the model on different permutations\n",
        "\n"
      ],
      "metadata": {
        "id": "N8kb04dcxzVv"
      },
      "execution_count": null,
      "outputs": []
    },
    {
      "cell_type": "code",
      "source": [
        "score, permutation_score, pvalue = permutation_test_score(\n",
        "    lin_pipeline, train_features, train_labels, \n",
        "    cv = shuffle_cv , scoring = \"neg_mean_absolute_error\",\n",
        "    n_jobs = 2, n_permutations = 30\n",
        ")\n",
        "permutation_errors = pd.Series(-permutation_score, name = \"Permuted error\")\n",
        "print(permutation_score) "
      ],
      "metadata": {
        "colab": {
          "base_uri": "https://localhost:8080/"
        },
        "id": "oGZBKW8yzl0o",
        "outputId": "504312be-643f-40b1-95fb-1ef60bbe69d1"
      },
      "execution_count": null,
      "outputs": [
        {
          "output_type": "stream",
          "name": "stdout",
          "text": [
            "[-0.91446539 -0.91608713 -0.91501122 -0.91112203 -0.91326112 -0.91428719\n",
            " -0.91694297 -0.90660687 -0.90873595 -0.91546138 -0.9084695  -0.91174023\n",
            " -0.91857102 -0.91467076 -0.90396709 -0.91239289 -0.91095499 -0.91729623\n",
            " -0.90529415 -0.91436609 -0.91993036 -0.91661883 -0.91104746 -0.91563156\n",
            " -0.91014294 -0.91526135 -0.90680247 -0.90796435 -0.91032999 -0.91545574]\n"
          ]
        }
      ]
    },
    {
      "cell_type": "code",
      "source": [
        "# model comparison \n",
        "error_df = pd.concat([lin_errors, baseline_median_cv_results_errors , permutation_errors] , axis = 1)"
      ],
      "metadata": {
        "id": "Lf0DqTAx0OSc"
      },
      "execution_count": null,
      "outputs": []
    },
    {
      "cell_type": "code",
      "source": [
        "error_df.plot.hist(bins = 50 , density = True)\n",
        "plt.legend(loc =\"best\")\n",
        "plt.xlabel(\"mean absolute error\")\n",
        "_ = plt.title(\"distribution of the testing errors\")"
      ],
      "metadata": {
        "colab": {
          "base_uri": "https://localhost:8080/",
          "height": 376
        },
        "id": "J4nFpaKy0zWK",
        "outputId": "f149c036-58d6-4ed2-9897-1b8a3ce96182"
      },
      "execution_count": null,
      "outputs": [
        {
          "output_type": "display_data",
          "data": {
            "text/plain": [
              "<Figure size 576x396 with 1 Axes>"
            ],
            "image/png": "[encoded data removed]"
          },
          "metadata": {}
        }
      ]
    },
    {
      "cell_type": "code",
      "source": [
        " "
      ],
      "metadata": {
        "id": "STRMSqiS1Gsc"
      },
      "execution_count": null,
      "outputs": []
    },
    {
      "cell_type": "code",
      "source": [
        "np.random.seed(306)\n",
        "shuffle_cv = ShuffleSplit(n_splits = 10 , test_size = 0.2 , random_state = 0)\n",
        "x , y = fetch_california_housing(as_frame = True , return_X_y = True)\n",
        "\n",
        "sgd_train_x , sgd_test_x ,sgd_train_y , sgd_test_y = train_test_split(x , y , random_state = 42)\n",
        "\n",
        "train_x , tune_x , train_y , tune_y = train_test_split(\n",
        "    sgd_train_x , sgd_train_y, random_state=42\n",
        ")"
      ],
      "metadata": {
        "id": "KrQlHiziUXDu"
      },
      "execution_count": null,
      "outputs": []
    },
    {
      "cell_type": "code",
      "source": [
        "# baseline SGDRegressor \n",
        "# 1. instantiate a baseline SGDRegressor model with default parameters\n",
        "# 2. train the model with the training feature matrix and labels\n",
        "# 3. obtain score "
      ],
      "metadata": {
        "id": "Po9TdcfuU9Kg"
      },
      "execution_count": null,
      "outputs": []
    },
    {
      "cell_type": "code",
      "source": [
        "sgd = SGDRegressor(random_state = 42)\n",
        "sgd.fit(sgd_train_x ,sgd_train_y )\n",
        "\n",
        "train_mae = mean_absolute_error(train_y , sgd.predict(train_x))\n",
        "tune_mae = mean_absolute_error(tune_y , sgd.predict(tune_x))\n",
        "\n",
        "print(\"train_mae\" , train_mae)\n",
        "print(\"test_mae\" , tune_mae)"
      ],
      "metadata": {
        "colab": {
          "base_uri": "https://localhost:8080/"
        },
        "id": "8MZoujptVTwV",
        "outputId": "777fff25-6faa-4202-dfbc-f0186f07b185"
      },
      "execution_count": null,
      "outputs": [
        {
          "output_type": "stream",
          "name": "stdout",
          "text": [
            "train_mae 288233807860278.44\n",
            "test_mae 291238114737240.25\n"
          ]
        }
      ]
    },
    {
      "cell_type": "code",
      "source": [
        "#We know that, SGD is sensitive to feature scaling\n",
        "sgd_pipeline = Pipeline([\n",
        "    ('scaler' , StandardScaler()),\n",
        "    ('sgd' , SGDRegressor())\n",
        "])\n",
        "sgd_pipeline.fit(train_x , train_y)\n",
        "\n",
        "train_mae = mean_absolute_error(train_y , sgd_pipeline.predict(train_x))\n",
        "dev_mae = mean_absolute_error(tune_y , sgd_pipeline.predict(tune_x))\n",
        "\n",
        "print(\"train_mae\" , train_mae)\n",
        "print(\"tune_mae\" , tune_mae)"
      ],
      "metadata": {
        "colab": {
          "base_uri": "https://localhost:8080/"
        },
        "id": "GgEjts3rWCnb",
        "outputId": "2e469e62-0148-4d4f-e91e-d55f2a570b12"
      },
      "execution_count": null,
      "outputs": [
        {
          "output_type": "stream",
          "name": "stdout",
          "text": [
            "train_mae 0.5135804404077051\n",
            "tune_mae 291238114737240.25\n"
          ]
        }
      ]
    },
    {
      "cell_type": "code",
      "source": [
        "# the error is still high \n",
        "# instantiate SGDRegressor with warm_start = TRue and tol = -np.infty\n",
        "# train SGD and record loss\n",
        "# plot learning curves \n"
      ],
      "metadata": {
        "id": "UWx9clj0Zk3W"
      },
      "execution_count": null,
      "outputs": []
    },
    {
      "cell_type": "code",
      "source": [
        "eta0 = 1e-2\n",
        "sgd_pipeline = Pipeline([\n",
        "    (\"scaling\" , StandardScaler() ),\n",
        "    (\"regressor\" , SGDRegressor(max_iter = 1 , tol = -np.infty ,\n",
        "                                warm_start = True ,  eta0 = eta0,random_state = 42))\n",
        "])\n",
        "\n",
        "loss = []\n",
        "for i in range(100):\n",
        "  sgd_pipeline.fit(train_x , train_y)\n",
        "  loss.append(mean_squared_error(train_y , sgd_pipeline.predict(train_x)))\n",
        "\n",
        "plt.plot(np.arange(len(loss)) , loss , \"b-\")\n",
        "plt.xlabel(\"iterations\")\n",
        "plt.ylabel(\"MSE\")\n"
      ],
      "metadata": {
        "colab": {
          "base_uri": "https://localhost:8080/",
          "height": 378
        },
        "id": "l1OAKaBZwqQV",
        "outputId": "08789a8d-795b-46a8-a6b7-c9eec3554273"
      },
      "execution_count": null,
      "outputs": [
        {
          "output_type": "execute_result",
          "data": {
            "text/plain": [
              "Text(0, 0.5, 'MSE')"
            ]
          },
          "metadata": {},
          "execution_count": 95
        },
        {
          "output_type": "display_data",
          "data": {
            "text/plain": [
              "<Figure size 576x396 with 1 Axes>"
            ],
            "image/png": "[encoded data removed]"
          },
          "metadata": {}
        }
      ]
    },
    {
      "cell_type": "code",
      "source": [
        "#"
      ],
      "metadata": {
        "id": "gxbOK2Kw3pUN"
      },
      "execution_count": null,
      "outputs": []
    },
    {
      "cell_type": "code",
      "source": [
        "np.arange(len(loss))"
      ],
      "metadata": {
        "colab": {
          "base_uri": "https://localhost:8080/"
        },
        "id": "Rxn6vRZEyLSb",
        "outputId": "a03c8d23-f66b-4c9b-c311-3d5d3eb70239"
      },
      "execution_count": null,
      "outputs": [
        {
          "output_type": "execute_result",
          "data": {
            "text/plain": [
              "array([ 0,  1,  2,  3,  4,  5,  6,  7,  8,  9, 10, 11, 12, 13, 14, 15, 16,\n",
              "       17, 18, 19, 20, 21, 22, 23, 24, 25, 26, 27, 28, 29, 30, 31, 32, 33,\n",
              "       34, 35, 36, 37, 38, 39, 40, 41, 42, 43, 44, 45, 46, 47, 48, 49, 50,\n",
              "       51, 52, 53, 54, 55, 56, 57, 58, 59, 60, 61, 62, 63, 64, 65, 66, 67,\n",
              "       68, 69, 70, 71, 72, 73, 74, 75, 76, 77, 78, 79, 80, 81, 82, 83, 84,\n",
              "       85, 86, 87, 88, 89, 90, 91, 92, 93, 94, 95, 96, 97, 98, 99])"
            ]
          },
          "metadata": {},
          "execution_count": 70
        }
      ]
    },
    {
      "cell_type": "code",
      "source": [
        "len(loss)"
      ],
      "metadata": {
        "colab": {
          "base_uri": "https://localhost:8080/"
        },
        "id": "cMigQe01ycyj",
        "outputId": "b53ae634-85bb-47fa-f86f-6c2e7c9350e4"
      },
      "execution_count": null,
      "outputs": [
        {
          "output_type": "execute_result",
          "data": {
            "text/plain": [
              "100"
            ]
          },
          "metadata": {},
          "execution_count": 74
        }
      ]
    },
    {
      "cell_type": "code",
      "source": [
        "loss"
      ],
      "metadata": {
        "colab": {
          "base_uri": "https://localhost:8080/"
        },
        "id": "csFcmIw_yfEm",
        "outputId": "e93ad350-4c01-42ee-86b1-0ffc172a7af0"
      },
      "execution_count": null,
      "outputs": [
        {
          "output_type": "execute_result",
          "data": {
            "text/plain": [
              "[2.985324161659886,\n",
              " 1.348321537150384,\n",
              " 1.8654177106917478,\n",
              " 1.622646457171417,\n",
              " 1.7173489560497834,\n",
              " 1.6769970252660107,\n",
              " 1.6936620583083337,\n",
              " 1.68682283841833,\n",
              " 1.6897311170089724,\n",
              " 1.688568943127678,\n",
              " 1.6890762584143542,\n",
              " 1.688879176395668,\n",
              " 1.6889679218096354,\n",
              " 1.6889346692200038,\n",
              " 1.6889502766084852,\n",
              " 1.6889447141216156,\n",
              " 1.6889474811917102,\n",
              " 1.688946563426944,\n",
              " 1.6889470596226823,\n",
              " 1.6889469115171014,\n",
              " 1.6889470018757053,\n",
              " 1.6889469788443985,\n",
              " 1.688946995631794,\n",
              " 1.6889469922824802,\n",
              " 1.6889469954801664,\n",
              " 1.688946995057381,\n",
              " 1.6889469956847236,\n",
              " 1.6889469956503993,\n",
              " 1.6889469957776007,\n",
              " 1.6889469957812946,\n",
              " 1.6889469958079966,\n",
              " 1.6889469958110335,\n",
              " 1.688946995816831,\n",
              " 1.6889469958179588,\n",
              " 1.6889469958192411,\n",
              " 1.6889469958195942,\n",
              " 1.6889469958198786,\n",
              " 1.6889469958199739,\n",
              " 1.688946995820058,\n",
              " 1.6889469958200782,\n",
              " 1.6889469958201027,\n",
              " 1.6889469958200993,\n",
              " 1.6889469958201084,\n",
              " 1.688946995820107,\n",
              " 1.68894699582011,\n",
              " 1.6889469958201124,\n",
              " 1.688946995820113,\n",
              " 1.6889469958201113,\n",
              " 1.6889469958201118,\n",
              " 1.6889469958201124,\n",
              " 1.6889469958201118,\n",
              " 1.6889469958201124,\n",
              " 1.688946995820113,\n",
              " 1.6889469958201118,\n",
              " 1.688946995820113,\n",
              " 1.6889469958201118,\n",
              " 1.6889469958201124,\n",
              " 1.688946995820113,\n",
              " 1.6889469958201118,\n",
              " 1.6889469958201124,\n",
              " 1.688946995820113,\n",
              " 1.6889469958201118,\n",
              " 1.6889469958201124,\n",
              " 1.688946995820113,\n",
              " 1.6889469958201118,\n",
              " 1.6889469958201124,\n",
              " 1.688946995820113,\n",
              " 1.6889469958201118,\n",
              " 1.6889469958201124,\n",
              " 1.688946995820113,\n",
              " 1.6889469958201118,\n",
              " 1.6889469958201124,\n",
              " 1.688946995820113,\n",
              " 1.6889469958201118,\n",
              " 1.6889469958201124,\n",
              " 1.688946995820113,\n",
              " 1.6889469958201118,\n",
              " 1.6889469958201124,\n",
              " 1.688946995820113,\n",
              " 1.6889469958201118,\n",
              " 1.6889469958201124,\n",
              " 1.688946995820113,\n",
              " 1.6889469958201118,\n",
              " 1.6889469958201124,\n",
              " 1.688946995820113,\n",
              " 1.6889469958201118,\n",
              " 1.6889469958201124,\n",
              " 1.688946995820113,\n",
              " 1.6889469958201118,\n",
              " 1.6889469958201124,\n",
              " 1.688946995820113,\n",
              " 1.6889469958201118,\n",
              " 1.6889469958201124,\n",
              " 1.688946995820113,\n",
              " 1.6889469958201118,\n",
              " 1.6889469958201124,\n",
              " 1.688946995820113,\n",
              " 1.6889469958201118,\n",
              " 1.6889469958201124,\n",
              " 1.688946995820113]"
            ]
          },
          "metadata": {},
          "execution_count": 72
        }
      ]
    },
    {
      "cell_type": "code",
      "source": [
        "# the loss reduced initialy and then increased, can be due to large learning rate. Lets reduce it"
      ],
      "metadata": {
        "id": "0swwGon0yjve"
      },
      "execution_count": null,
      "outputs": []
    },
    {
      "cell_type": "code",
      "source": [
        "eta0 = 1e-3\n",
        "sgd_pipeline = Pipeline([\n",
        "    (\"scaling\" , StandardScaler() ),\n",
        "    (\"regressor\" , SGDRegressor(max_iter = 1 , tol = -np.infty ,\n",
        "                                warm_start = True ,  eta0 = eta0, random_state = 42))\n",
        "])\n",
        "\n",
        "loss = []\n",
        "for i in range(100):\n",
        "  sgd_pipeline.fit(train_x , train_y)\n",
        "  loss.append(mean_squared_error(train_y , sgd_pipeline.predict(train_x)))\n",
        "\n",
        "plt.plot(np.arange(len(loss)) , loss , \"b-\")\n",
        "plt.xlabel(\"iterations\")\n",
        "plt.ylabel(\"MSE\")\n"
      ],
      "metadata": {
        "colab": {
          "base_uri": "https://localhost:8080/",
          "height": 378
        },
        "id": "3UkO7Ad133se",
        "outputId": "5c11b5a6-a0c5-41c9-e664-b9d105baaab4"
      },
      "execution_count": null,
      "outputs": [
        {
          "output_type": "execute_result",
          "data": {
            "text/plain": [
              "Text(0, 0.5, 'MSE')"
            ]
          },
          "metadata": {},
          "execution_count": 94
        },
        {
          "output_type": "display_data",
          "data": {
            "text/plain": [
              "<Figure size 576x396 with 1 Axes>"
            ],
            "image/png": "[encoded data removed]"
          },
          "metadata": {}
        }
      ]
    },
    {
      "cell_type": "code",
      "source": [
        "# this is an ideal learning curve where the training loss reduces monotonically as the training progresses"
      ],
      "metadata": {
        "id": "LNuBwotx4EI4"
      },
      "execution_count": null,
      "outputs": []
    },
    {
      "cell_type": "code",
      "source": [
        "print(\"iterations before reaching convergence\" , sgd_pipeline[-1].n_iter_)\n",
        "print(\"no. of weight updates\" , sgd_pipeline[-1].t_)"
      ],
      "metadata": {
        "colab": {
          "base_uri": "https://localhost:8080/"
        },
        "id": "WqDnjXg54fV_",
        "outputId": "cc6f375a-7e08-49e4-b8dc-aca780c0603a"
      },
      "execution_count": null,
      "outputs": [
        {
          "output_type": "stream",
          "name": "stdout",
          "text": [
            "iterations before reaching convergence 1\n",
            "no. of weight updates 11611.0\n"
          ]
        }
      ]
    },
    {
      "cell_type": "code",
      "source": [
        "train_mae = mean_absolute_error(train_y , sgd_pipeline.predict(train_x))\n",
        "dev_mae = mean_absolute_error(tune_y , sgd_pipeline.predict(tune_x))\n",
        "\n",
        "print(\"train_mae\" , train_mae)\n",
        "print(\"tune_mae\" , tune_mae)"
      ],
      "metadata": {
        "colab": {
          "base_uri": "https://localhost:8080/"
        },
        "id": "rUKubKGt4yIG",
        "outputId": "ef827543-132f-4eba-e287-1508557915d5"
      },
      "execution_count": null,
      "outputs": [
        {
          "output_type": "stream",
          "name": "stdout",
          "text": [
            "train_mae 0.5333732983042573\n",
            "tune_mae 291238114737240.25\n"
          ]
        }
      ]
    },
    {
      "cell_type": "code",
      "source": [
        " # alternate ways to fix the learning rate through validation curves"
      ],
      "metadata": {
        "id": "EOvZ8vbs5HYh"
      },
      "execution_count": null,
      "outputs": []
    },
    {
      "cell_type": "code",
      "source": [
        "from sklearn.model_selection import validation_curve\n",
        "eta0 = [1e-5 , 1e-4 , 1e-3 , 1e-2]\n",
        "train_scores , test_scores = validation_curve(\n",
        "    sgd_pipeline, sgd_train_x , sgd_train_y, param_name = \"regressor__eta0\",\n",
        "    param_range = eta0 , cv = shuffle_cv , scoring = \"neg_mean_squared_error\",\n",
        "    n_jobs = 2\n",
        ")\n",
        "train_errors, test_errors = -train_scores , -test_scores"
      ],
      "metadata": {
        "id": "d_IRa0rF6TlJ"
      },
      "execution_count": null,
      "outputs": []
    },
    {
      "cell_type": "code",
      "source": [
        "train_errors"
      ],
      "metadata": {
        "colab": {
          "base_uri": "https://localhost:8080/"
        },
        "id": "J-owh4Fx7sA8",
        "outputId": "edbad611-ed7b-4e50-9693-60a243c15461"
      },
      "execution_count": null,
      "outputs": [
        {
          "output_type": "execute_result",
          "data": {
            "text/plain": [
              "array([[5.4970157 , 5.47418537, 5.45561725, 5.45897979, 5.47585689,\n",
              "        5.49191576, 5.50467408, 5.46853424, 5.45976827, 5.47144762],\n",
              "       [4.30425385, 4.28546385, 4.26459393, 4.27506337, 4.28259875,\n",
              "        4.29616127, 4.31118851, 4.27922324, 4.27646987, 4.2809932 ],\n",
              "       [0.85589893, 0.85018122, 0.83657382, 0.84864292, 0.83959774,\n",
              "        0.84994956, 0.85071409, 0.84445808, 0.85800914, 0.84362491],\n",
              "       [0.66889017, 5.28976551, 0.83655736, 0.94020426, 1.54525895,\n",
              "        0.99049287, 0.55470573, 0.85670068, 7.67925582, 0.95559332]])"
            ]
          },
          "metadata": {},
          "execution_count": 98
        }
      ]
    },
    {
      "cell_type": "code",
      "source": [
        "plt.plot(eta0 , train_errors.mean(axis = 1) , \"b-x\", label = \"training error\" )\n",
        "plt.plot(eta0 , test_errors.mean(axis = 1) , \"r-x\", label = \"test_errors\")\n",
        "plt.legend()\n",
        "plt.xlabel(\"eta0 i.e. intial learning rate value\")\n",
        "plt.ylabel(\"MAE\")\n",
        "plt.title(\"validation curve for SGD\") # we used validation_curve funct"
      ],
      "metadata": {
        "colab": {
          "base_uri": "https://localhost:8080/",
          "height": 393
        },
        "id": "UtImno4M7Hix",
        "outputId": "d7778a88-b7b2-4e36-f563-3c5e1204a86a"
      },
      "execution_count": null,
      "outputs": [
        {
          "output_type": "execute_result",
          "data": {
            "text/plain": [
              "Text(0.5, 1.0, 'validation curve for SGD')"
            ]
          },
          "metadata": {},
          "execution_count": 125
        },
        {
          "output_type": "display_data",
          "data": {
            "text/plain": [
              "<Figure size 576x396 with 1 Axes>"
            ],
            "image/png": "[encoded data removed]"
          },
          "metadata": {}
        }
      ]
    },
    {
      "cell_type": "code",
      "source": [
        "# for eta0 = 1e-3 the test error is the least hence we select that value as our learning rate\n"
      ],
      "metadata": {
        "id": "q7a_MJQv8KIk"
      },
      "execution_count": null,
      "outputs": []
    },
    {
      "cell_type": "code",
      "source": [
        "plt.errorbar(eta0, train_errors.mean(axis=1), yerr=train_errors.std(axis=1), label='Training error')\n",
        "\n",
        "plt.errorbar(eta0, test_errors.mean(axis=1),yerr=test_errors.std(axis=1), label='Testing error')\n",
        "\n",
        "plt.legend(loc='best') \n",
        "plt.xlabel('eta0')\n",
        "plt.ylabel('Mean absolute error')\n",
        "plt.title('Validation curve for SGD')\n",
        "plt.show()\n",
        "?plt.errorbar"
      ],
      "metadata": {
        "colab": {
          "base_uri": "https://localhost:8080/",
          "height": 376
        },
        "id": "pS2bXJC29Nq8",
        "outputId": "15bc3192-1f25-45a3-c2ba-c7f1295840ed"
      },
      "execution_count": null,
      "outputs": [
        {
          "output_type": "display_data",
          "data": {
            "text/plain": [
              "<Figure size 576x396 with 1 Axes>"
            ],
            "image/png": "[encoded data removed]"
          },
          "metadata": {}
        }
      ]
    },
    {
      "cell_type": "code",
      "source": [
        "\"\"\"so, again, it is a very simple process, we have to provide the list of values to be tried.\n",
        "And then we simply instantiate the validation curve object and gather the training and test\n",
        "errors and plot them in the on the validation plot. And then fix the value of the hyperparameter where the test error is the lowest.\n",
        "So, we can use this process in order to setany other hyper parameters.\n",
        "Not only in case SGDRegressor but any other hyper parameters that we may encounter while\n",
        "training different machine learning algorithms\"\"\""
      ],
      "metadata": {
        "colab": {
          "base_uri": "https://localhost:8080/",
          "height": 139
        },
        "id": "dEvOngTx90DE",
        "outputId": "430a69c7-7d54-4f57-ffd0-60637634f700"
      },
      "execution_count": null,
      "outputs": [
        {
          "output_type": "execute_result",
          "data": {
            "text/plain": [
              "'so, again, it is a very simple process, we have to provide the list of values to be tried.\\nAnd then we simply instantiate the validation curve object and gather the training and test\\nerrors and plot them in the on the validation plot. And then fix the value of the hyper\\nparameter where the test error is the lowest. So, we can use this process in order to set\\nany other hyper parameters.\\nNot only in case SGDRegressor but any other hyper parameters that we may encounter while\\ntraining different machine learning algorithms'"
            ],
            "application/vnd.google.colaboratory.intrinsic+json": {
              "type": "string"
            }
          },
          "metadata": {},
          "execution_count": 107
        }
      ]
    },
    {
      "cell_type": "code",
      "source": [
        "#Experimenting with learning rate parameter"
      ],
      "metadata": {
        "id": "rccNdQj7-oPm"
      },
      "execution_count": null,
      "outputs": []
    },
    {
      "cell_type": "code",
      "source": [
        "# 1.learning rate parameter = invscaling (which is by default)\n",
        "sgd_pipeline = Pipeline([\n",
        "    (\"scaler\", StandardScaler()),\n",
        "    (\"sgd\", SGDRegressor(max_iter=500,\n",
        "                        early_stopping=True, # in order to set early_stopping criteria we also need validation_fraction\n",
        "                        validation_fraction=0.2, # so we set aside 20% egs as validation examples\n",
        "                        eta0=1e-3,                    \n",
        "                        n_iter_no_change=5, # no. of iteration for which we do not see change greater than the value of tolerance(tol) \n",
        "                        tol=1e-3,\n",
        "                        average=10, # it will start averaging SGD after it sees 10 samples\n",
        "                        random_state=42))\n",
        "])\n",
        "\n",
        "sgd_pipeline.fit(train_x, train_y)\n",
        "\n",
        "train_mae = mean_absolute_error(train_y, sgd_pipeline.predict(train_x ))\n",
        "\n",
        "tune_mae = mean_absolute_error(tune_y, sgd_pipeline.predict(tune_x))\n",
        "\n",
        "print('Train MAE: ', train_mae)\n",
        "print('Tune MAE: ', tune_mae)\n",
        "print()\n",
        "\n",
        "# development set dev set\n",
        "print('Number of SGD iterations :', sgd_pipeline[-1].n_iter_)\n",
        "print('Number of weight updates : ', sgd_pipeline[-1].t_)"
      ],
      "metadata": {
        "colab": {
          "base_uri": "https://localhost:8080/"
        },
        "id": "nWce8uH4_GA3",
        "outputId": "d3b980de-5199-4475-cf58-c68c3111fb51"
      },
      "execution_count": null,
      "outputs": [
        {
          "output_type": "stream",
          "name": "stdout",
          "text": [
            "Train MAE:  0.579376454514559\n",
            "Tune MAE:  0.5689180241137523\n",
            "\n",
            "Number of SGD iterations : 7\n",
            "Number of weight updates :  81271.0\n"
          ]
        }
      ]
    },
    {
      "cell_type": "code",
      "source": [
        "print(\"no. of egs in training set :\" , train_x.shape[0])\n",
        "#Number of SGD iterations : 7\n",
        "#Number of weight updates :  81271.0\n",
        "print(\"no. of iterations * no of egs in training set = no of weights update =\", train_x.shape[0]*7)"
      ],
      "metadata": {
        "colab": {
          "base_uri": "https://localhost:8080/"
        },
        "id": "sLaTpjbLAnmn",
        "outputId": "d285fae4-0b1e-43e9-dc82-5b5c222652f4"
      },
      "execution_count": null,
      "outputs": [
        {
          "output_type": "stream",
          "name": "stdout",
          "text": [
            "no. of egs in training set : 11610\n",
            "no. of iterations * no of egs in training set = no of weights update = 81270\n"
          ]
        }
      ]
    },
    {
      "cell_type": "code",
      "source": [
        "# learning_rate = \"constant\"\n",
        "sgd_pipeline = Pipeline([\n",
        "    (\"scaler\", StandardScaler()),\n",
        "    (\"sgd\", SGDRegressor(max_iter=500,\n",
        "                         early_stopping=True,\n",
        "                         eta0=1e-3,\n",
        "                         tol=1e-3,\n",
        "                         learning_rate= 'constant',\n",
        "                         validation_fraction=0.2,\n",
        "                         n_iter_no_change=5,\n",
        "                         average=10,\n",
        "                         random_state=42))\n",
        "])\n",
        "\n",
        "sgd_pipeline.fit(train_x, train_y)\n",
        "\n",
        "train_mae = mean_absolute_error(train_y, sgd_pipeline.predict(train_x ))\n",
        "\n",
        "tune_mae = mean_absolute_error(tune_y, sgd_pipeline.predict(tune_x))\n",
        "\n",
        "print('Train MAE: ', train_mae)\n",
        "print('Tune MAE: ', tune_mae)\n",
        "print()\n",
        "\n",
        "# development set dev set\n",
        "print('Number of SGD iterations :', sgd_pipeline[-1].n_iter_)\n",
        "print('Number of weight updates : ', sgd_pipeline[-1].t_)"
      ],
      "metadata": {
        "colab": {
          "base_uri": "https://localhost:8080/"
        },
        "id": "0hbKIjknCXbm",
        "outputId": "0a9b2b34-5670-4646-b335-b4f5a207d69f"
      },
      "execution_count": null,
      "outputs": [
        {
          "output_type": "stream",
          "name": "stdout",
          "text": [
            "Train MAE:  0.5359339681114987\n",
            "Tune MAE:  0.5151099728924144\n",
            "\n",
            "Number of SGD iterations : 8\n",
            "Number of weight updates :  92881.0\n"
          ]
        }
      ]
    },
    {
      "cell_type": "code",
      "source": [
        "# learning_rate = \"adaptive\"\n",
        "\n",
        "sgd_pipeline = Pipeline([\n",
        "    (\"scaler\", StandardScaler()),\n",
        "    (\"sgd\", SGDRegressor(max_iter=500,\n",
        "                         early_stopping=True,\n",
        "                         eta0=1e-3, #0.001 i.e. 1 * 10^-3\n",
        "                         tol=1e-3,\n",
        "                         learning_rate='adaptive',\n",
        "                         validation_fraction=0.2,\n",
        "                         n_iter_no_change=5,\n",
        "                         average=10,\n",
        "                         random_state=42))\n",
        "])\n",
        "\n",
        "sgd_pipeline.fit(train_x, train_y)\n",
        "\n",
        "train_mae = mean_absolute_error(train_y, sgd_pipeline.predict(train_x ))\n",
        "\n",
        "tune_mae = mean_absolute_error(tune_y, sgd_pipeline.predict(tune_x))\n",
        "\n",
        "print('Train MAE: ', train_mae)\n",
        "print('Tune MAE: ', tune_mae)\n",
        "print()\n",
        "\n",
        "# development set dev set\n",
        "print('Number of SGD iterations :', sgd_pipeline[-1].n_iter_)\n",
        "print('Number of weight updates : ', sgd_pipeline[-1].t_)"
      ],
      "metadata": {
        "colab": {
          "base_uri": "https://localhost:8080/"
        },
        "id": "PMMj0xj-Cav8",
        "outputId": "d8a2f545-04e0-4c9f-eff9-7f2287ccf70c"
      },
      "execution_count": null,
      "outputs": [
        {
          "output_type": "stream",
          "name": "stdout",
          "text": [
            "Train MAE:  0.5340193046836148\n",
            "Tune MAE:  0.5198356196858102\n",
            "\n",
            "Number of SGD iterations : 33\n",
            "Number of weight updates :  383131.0\n"
          ]
        }
      ]
    },
    {
      "cell_type": "code",
      "source": [
        "'''adaptive learning rate uses the initial learning rate as long as we reach the convergence criteria when\n",
        "the convergence criteria is reached the learning rate is reduced by dividing the learning rate\n",
        "by 5 and training continues as long as the convergence criteria is met again. And again\n",
        "at that the training rate will be reduced further and this will continue unless the\n",
        "training rate drops below 10 raise to-6.'''"
      ],
      "metadata": {
        "colab": {
          "base_uri": "https://localhost:8080/",
          "height": 104
        },
        "id": "TLdBSR8wDAOR",
        "outputId": "9720b676-b8e6-4e3e-92cc-bc7b9098c237"
      },
      "execution_count": null,
      "outputs": [
        {
          "output_type": "execute_result",
          "data": {
            "text/plain": [
              "'it uses the initial learning rate as long as we reach the convergence criteria when\\nthe convergence criteria is reached the learning rate is reduced by dividing the learning rate\\nby 5 and training continues as long as the convergence criteria is met again. And again\\nat that the training rate will be reduced further and this will continue unless the\\ntraining rate drops below 10 raise to-6.'"
            ],
            "application/vnd.google.colaboratory.intrinsic+json": {
              "type": "string"
            }
          },
          "metadata": {},
          "execution_count": 124
        }
      ]
    },
    {
      "cell_type": "code",
      "source": [
        "# how to set max_iter(epochs)?\n",
        "#sgd converges after observing approx 10^6 training egs. thus a reasonable first guess\n",
        "#for the no. of iterations for n training samples is max_iter = np.ceil(10^6/n)\n",
        "max_iter = np.ceil(1e6/sgd_train_x.shape[0])\n",
        "max_iter"
      ],
      "metadata": {
        "colab": {
          "base_uri": "https://localhost:8080/"
        },
        "id": "hrdWwfY0Dh2j",
        "outputId": "7151b7c4-746e-4907-8039-636403131dbb"
      },
      "execution_count": null,
      "outputs": [
        {
          "output_type": "execute_result",
          "data": {
            "text/plain": [
              "65.0"
            ]
          },
          "metadata": {},
          "execution_count": 129
        }
      ]
    },
    {
      "cell_type": "code",
      "source": [
        "sgd_pipeline = Pipeline([\n",
        "    (\"scaler\", StandardScaler()),\n",
        "    (\"sgd\", SGDRegressor(max_iter=max_iter,\n",
        "                         early_stopping=True,\n",
        "                         eta0=1e-3,\n",
        "                         tol=1e-3,\n",
        "                         learning_rate='constant',\n",
        "                         validation_fraction=0.2,\n",
        "                         n_iter_no_change=5,\n",
        "                         average=10,\n",
        "                         random_state=42))\n",
        "])\n",
        "\n",
        "\n",
        "sgd_pipeline.fit(train_x, train_y)\n",
        "\n",
        "train_mae = mean_absolute_error(train_y, sgd_pipeline.predict(train_x ))\n",
        "\n",
        "tune_mae = mean_absolute_error(tune_y, sgd_pipeline.predict(tune_x))\n",
        "\n",
        "print('Train MAE: ', train_mae)\n",
        "print('Tune MAE: ', tune_mae)\n",
        "print()\n",
        "\n",
        "# development set dev set\n",
        "print('Number of SGD iterations :', sgd_pipeline[-1].n_iter_)\n",
        "print('Number of weight updates : ', sgd_pipeline[-1].t_)"
      ],
      "metadata": {
        "colab": {
          "base_uri": "https://localhost:8080/"
        },
        "id": "lmsjm2jbFLJT",
        "outputId": "8fe9af28-2ad6-4af8-e9a5-152851ee492c"
      },
      "execution_count": null,
      "outputs": [
        {
          "output_type": "stream",
          "name": "stdout",
          "text": [
            "Train MAE:  0.5359339681114987\n",
            "Tune MAE:  0.5151099728924144\n",
            "\n",
            "Number of SGD iterations : 8\n",
            "Number of weight updates :  92881.0\n"
          ]
        }
      ]
    },
    {
      "cell_type": "code",
      "source": [
        "# graded 1. \n",
        "\n",
        "x , y = fetch_california_housing(as_frame = True , return_X_y = True)\n",
        "\n",
        "train_x , test_x ,train_y , test_y = train_test_split(x , y , shuffle = False\n",
        "                                                      ,test_size = 0.2 , random_state = 0)\n",
        "\n",
        "lin_pipeline = Pipeline([\n",
        "    (\"sclaing\" , StandardScaler()),\n",
        "    (\"regressor\" , LinearRegression())\n",
        "])\n",
        "lin_pipeline.fit(train_x , train_y)\n",
        "\n",
        "test_score = lin_pipeline.score(test_x , test_y)\n",
        "print(\"test_score\",test_score)\n"
      ],
      "metadata": {
        "colab": {
          "base_uri": "https://localhost:8080/"
        },
        "id": "ZVD4QfnNFUDI",
        "outputId": "66760876-08d5-47ed-82de-7e87efc413eb"
      },
      "execution_count": null,
      "outputs": [
        {
          "output_type": "stream",
          "name": "stdout",
          "text": [
            "test_score 0.6605140591531992\n"
          ]
        }
      ]
    },
    {
      "cell_type": "code",
      "source": [
        "lin_pipeline.score?"
      ],
      "metadata": {
        "id": "z0kfu7DNLNYG"
      },
      "execution_count": null,
      "outputs": []
    },
    {
      "cell_type": "code",
      "source": [
        "test_y[:5]"
      ],
      "metadata": {
        "colab": {
          "base_uri": "https://localhost:8080/"
        },
        "id": "CRtQa9zgMRRW",
        "outputId": "83d8ca63-c17c-4ffa-f783-9b72930df442"
      },
      "execution_count": null,
      "outputs": [
        {
          "output_type": "execute_result",
          "data": {
            "text/plain": [
              "16512    1.656\n",
              "16513    1.261\n",
              "16514    0.944\n",
              "16515    0.919\n",
              "16516    1.243\n",
              "Name: MedHouseVal, dtype: float64"
            ]
          },
          "metadata": {},
          "execution_count": 136
        }
      ]
    },
    {
      "cell_type": "code",
      "source": [
        "# 2\n",
        "from sklearn.metrics import mean_squared_error\n",
        "\n",
        "predicted_y = lin_pipeline.predict(test_x)\n",
        "\n",
        "rmse = mean_squared_error(test_y, predicted_y, squared=False)\n",
        "rmse"
      ],
      "metadata": {
        "colab": {
          "base_uri": "https://localhost:8080/"
        },
        "id": "2oSdApgGNCE0",
        "outputId": "753bce71-b103-4494-c0c3-c904d4f35034"
      },
      "execution_count": null,
      "outputs": [
        {
          "output_type": "execute_result",
          "data": {
            "text/plain": [
              "0.7033383507521878"
            ]
          },
          "metadata": {},
          "execution_count": 138
        }
      ]
    },
    {
      "cell_type": "code",
      "source": [
        "# 3\n",
        "from sklearn.metrics import explained_variance_score\n",
        "result = explained_variance_score(test_y , predicted_y)\n",
        "result"
      ],
      "metadata": {
        "colab": {
          "base_uri": "https://localhost:8080/"
        },
        "id": "YpvSKe3uN1He",
        "outputId": "3b547fdb-d0b7-4daa-ffeb-655bd5c742cb"
      },
      "execution_count": null,
      "outputs": [
        {
          "output_type": "execute_result",
          "data": {
            "text/plain": [
              "0.6605500501742703"
            ]
          },
          "metadata": {},
          "execution_count": 141
        }
      ]
    },
    {
      "cell_type": "code",
      "source": [
        "# 4\n",
        "from sklearn.metrics import max_error\n",
        "max_error(test_y , predicted_y)"
      ],
      "metadata": {
        "colab": {
          "base_uri": "https://localhost:8080/"
        },
        "id": "F4UsnRcJOofk",
        "outputId": "bec56fb7-05d8-48fc-b7ce-cdfddb70a542"
      },
      "execution_count": null,
      "outputs": [
        {
          "output_type": "execute_result",
          "data": {
            "text/plain": [
              "7.260453292958372"
            ]
          },
          "metadata": {},
          "execution_count": 143
        }
      ]
    },
    {
      "cell_type": "code",
      "source": [
        "#5\n",
        "mean_absolute_error(test_y , predicted_y)"
      ],
      "metadata": {
        "colab": {
          "base_uri": "https://localhost:8080/"
        },
        "id": "j0-m2roNOGVV",
        "outputId": "9cceeec5-6e96-45ff-9540-dc02904b2f0b"
      },
      "execution_count": null,
      "outputs": [
        {
          "output_type": "execute_result",
          "data": {
            "text/plain": [
              "0.5168526993787042"
            ]
          },
          "metadata": {},
          "execution_count": 144
        }
      ]
    },
    {
      "cell_type": "code",
      "source": [
        "#6 \n",
        "from sklearn.metrics import mean_squared_error\n",
        "mean_squared_error(test_y , predicted_y)"
      ],
      "metadata": {
        "colab": {
          "base_uri": "https://localhost:8080/"
        },
        "id": "7I6oRw7jO98f",
        "outputId": "40c0ae10-a4be-4bd3-8ee7-e6ee4778ba16"
      },
      "execution_count": null,
      "outputs": [
        {
          "output_type": "execute_result",
          "data": {
            "text/plain": [
              "0.49468483563880755"
            ]
          },
          "metadata": {},
          "execution_count": 146
        }
      ]
    },
    {
      "cell_type": "code",
      "source": [
        "# 7\n",
        "sgd_pipeline = Pipeline([\n",
        "    (\"sclaing\" , StandardScaler()),\n",
        "    (\"regressor\" , SGDRegressor(random_state =0)) \n",
        "])\n",
        "sgd_pipeline.fit(train_x , train_y )\n",
        "sgd_pipeline[-1].intercept_"
      ],
      "metadata": {
        "colab": {
          "base_uri": "https://localhost:8080/"
        },
        "id": "_Qq2w9bDPIRL",
        "outputId": "d2be6a48-80d1-4cee-e727-3534271ce53a"
      },
      "execution_count": null,
      "outputs": [
        {
          "output_type": "execute_result",
          "data": {
            "text/plain": [
              "array([2.01123921])"
            ]
          },
          "metadata": {},
          "execution_count": 176
        }
      ]
    },
    {
      "cell_type": "code",
      "source": [
        "# 8\n",
        "sgd_pipeline[-1].coef_"
      ],
      "metadata": {
        "colab": {
          "base_uri": "https://localhost:8080/"
        },
        "id": "Wyp56lS2PXuz",
        "outputId": "74f40112-44eb-4bda-d57b-8264da3900e9"
      },
      "execution_count": null,
      "outputs": [
        {
          "output_type": "execute_result",
          "data": {
            "text/plain": [
              "array([ 0.84046697,  0.112331  , -0.41213039,  0.21595971, -0.01781887,\n",
              "       -0.01480892, -0.87394103, -0.83913104])"
            ]
          },
          "metadata": {},
          "execution_count": 177
        }
      ]
    },
    {
      "cell_type": "code",
      "source": [],
      "metadata": {
        "id": "502TAMbeYMSw"
      },
      "execution_count": null,
      "outputs": []
    }
  ]
}